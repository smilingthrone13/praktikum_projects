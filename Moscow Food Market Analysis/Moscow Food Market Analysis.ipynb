{
 "cells": [
  {
   "cell_type": "markdown",
   "metadata": {},
   "source": [
    "# Исследование рынка заведений общественного питания Москвы\n",
    "\n",
    "Мы решили открыть небольшое кафе в Москве. Проект многообещающий, но дорогой. Вместе с партнёрами мы решились обратиться к инвесторам. Их интересует текущее положение дел на рынке — сможем ли мы снискать популярность на долгое время?<br>\n",
    "Партнёры просят нас подготовить исследование рынка - для этого у нас есть открытые данные о заведениях общественного питания в Москве.\n",
    "\n",
    "**Цели исследования:**\n",
    "1. Сделать общий вывод и дать рекомендации о виде заведения, количестве посадочных мест, а также районе расположения.\n",
    "2. Рассмотреть возможность развития сети.\n",
    "3. Подготовить презентацию исследования для инвесторов."
   ]
  },
  {
   "cell_type": "markdown",
   "metadata": {},
   "source": [
    "## Импорт и изучение данных"
   ]
  },
  {
   "cell_type": "code",
   "execution_count": 1,
   "metadata": {},
   "outputs": [],
   "source": [
    "import pandas as pd\n",
    "pd.set_option('display.float_format', '{:,.2f}'.format) # Вывод трех знаков после запятой\n",
    "pd.options.display.max_colwidth = 100 # Максимальная ширина столбца таблицы\n",
    "import seaborn as sns\n",
    "sns.set(rc = {'figure.figsize':(10,5)}) # Размер диаграмм\n",
    "from matplotlib import pyplot as plt\n",
    "from io import BytesIO\n",
    "import requests"
   ]
  },
  {
   "cell_type": "code",
   "execution_count": 2,
   "metadata": {},
   "outputs": [
    {
     "name": "stdout",
     "output_type": "stream",
     "text": [
      "<class 'pandas.core.frame.DataFrame'>\n",
      "RangeIndex: 15366 entries, 0 to 15365\n",
      "Data columns (total 6 columns):\n",
      "id             15366 non-null int64\n",
      "object_name    15366 non-null object\n",
      "chain          15366 non-null object\n",
      "object_type    15366 non-null object\n",
      "address        15366 non-null object\n",
      "number         15366 non-null int64\n",
      "dtypes: int64(2), object(4)\n",
      "memory usage: 720.4+ KB\n"
     ]
    }
   ],
   "source": [
    "data = pd.read_csv('/datasets/rest_data.csv')\n",
    "data.info()"
   ]
  },
  {
   "cell_type": "markdown",
   "metadata": {},
   "source": [
    "**Описание данных:**\n",
    "* `id` — идентификатор объекта;\n",
    "* `object_name` — название объекта общественного питания;\n",
    "* `chain` — сетевой ресторан;\n",
    "* `object_type` — тип объекта общественного питания;\n",
    "* `address` — адрес;\n",
    "* `number` — количество посадочных мест."
   ]
  },
  {
   "cell_type": "code",
   "execution_count": 3,
   "metadata": {
    "scrolled": false
   },
   "outputs": [
    {
     "data": {
      "text/html": [
       "<div>\n",
       "<style scoped>\n",
       "    .dataframe tbody tr th:only-of-type {\n",
       "        vertical-align: middle;\n",
       "    }\n",
       "\n",
       "    .dataframe tbody tr th {\n",
       "        vertical-align: top;\n",
       "    }\n",
       "\n",
       "    .dataframe thead th {\n",
       "        text-align: right;\n",
       "    }\n",
       "</style>\n",
       "<table border=\"1\" class=\"dataframe\">\n",
       "  <thead>\n",
       "    <tr style=\"text-align: right;\">\n",
       "      <th></th>\n",
       "      <th>id</th>\n",
       "      <th>object_name</th>\n",
       "      <th>chain</th>\n",
       "      <th>object_type</th>\n",
       "      <th>address</th>\n",
       "      <th>number</th>\n",
       "    </tr>\n",
       "  </thead>\n",
       "  <tbody>\n",
       "    <tr>\n",
       "      <td>0</td>\n",
       "      <td>151635</td>\n",
       "      <td>СМЕТАНА</td>\n",
       "      <td>нет</td>\n",
       "      <td>кафе</td>\n",
       "      <td>город Москва, улица Егора Абакумова, дом 9</td>\n",
       "      <td>48</td>\n",
       "    </tr>\n",
       "    <tr>\n",
       "      <td>1</td>\n",
       "      <td>77874</td>\n",
       "      <td>Родник</td>\n",
       "      <td>нет</td>\n",
       "      <td>кафе</td>\n",
       "      <td>город Москва, улица Талалихина, дом 2/1, корпус 1</td>\n",
       "      <td>35</td>\n",
       "    </tr>\n",
       "    <tr>\n",
       "      <td>2</td>\n",
       "      <td>24309</td>\n",
       "      <td>Кафе «Академия»</td>\n",
       "      <td>нет</td>\n",
       "      <td>кафе</td>\n",
       "      <td>город Москва, Абельмановская улица, дом 6</td>\n",
       "      <td>95</td>\n",
       "    </tr>\n",
       "    <tr>\n",
       "      <td>3</td>\n",
       "      <td>21894</td>\n",
       "      <td>ПИЦЦЕТОРИЯ</td>\n",
       "      <td>да</td>\n",
       "      <td>кафе</td>\n",
       "      <td>город Москва, Абрамцевская улица, дом 1</td>\n",
       "      <td>40</td>\n",
       "    </tr>\n",
       "    <tr>\n",
       "      <td>4</td>\n",
       "      <td>119365</td>\n",
       "      <td>Кафе «Вишневая метель»</td>\n",
       "      <td>нет</td>\n",
       "      <td>кафе</td>\n",
       "      <td>город Москва, Абрамцевская улица, дом 9, корпус 1</td>\n",
       "      <td>50</td>\n",
       "    </tr>\n",
       "    <tr>\n",
       "      <td>5</td>\n",
       "      <td>27429</td>\n",
       "      <td>СТОЛ. ПРИ ГОУ СОШ № 1051</td>\n",
       "      <td>нет</td>\n",
       "      <td>столовая</td>\n",
       "      <td>город Москва, Абрамцевская улица, дом 15, корпус 1</td>\n",
       "      <td>240</td>\n",
       "    </tr>\n",
       "    <tr>\n",
       "      <td>6</td>\n",
       "      <td>148815</td>\n",
       "      <td>Брусника</td>\n",
       "      <td>да</td>\n",
       "      <td>кафе</td>\n",
       "      <td>город Москва, переулок Сивцев Вражек, дом 6/2</td>\n",
       "      <td>10</td>\n",
       "    </tr>\n",
       "    <tr>\n",
       "      <td>7</td>\n",
       "      <td>20957</td>\n",
       "      <td>Буфет МТУСИ</td>\n",
       "      <td>нет</td>\n",
       "      <td>столовая</td>\n",
       "      <td>город Москва, Авиамоторная улица, дом 8, строение 1</td>\n",
       "      <td>90</td>\n",
       "    </tr>\n",
       "    <tr>\n",
       "      <td>8</td>\n",
       "      <td>20958</td>\n",
       "      <td>КПФ СЕМЬЯ-1</td>\n",
       "      <td>нет</td>\n",
       "      <td>столовая</td>\n",
       "      <td>город Москва, Авиамоторная улица, дом 8, строение 1</td>\n",
       "      <td>150</td>\n",
       "    </tr>\n",
       "    <tr>\n",
       "      <td>9</td>\n",
       "      <td>28858</td>\n",
       "      <td>Столовая МТУСИ</td>\n",
       "      <td>нет</td>\n",
       "      <td>столовая</td>\n",
       "      <td>город Москва, Авиамоторная улица, дом 8, строение 1</td>\n",
       "      <td>120</td>\n",
       "    </tr>\n",
       "    <tr>\n",
       "      <td>10</td>\n",
       "      <td>148595</td>\n",
       "      <td>Пекарня 24</td>\n",
       "      <td>нет</td>\n",
       "      <td>закусочная</td>\n",
       "      <td>город Москва, Авиамоторная улица, дом 47</td>\n",
       "      <td>5</td>\n",
       "    </tr>\n",
       "    <tr>\n",
       "      <td>11</td>\n",
       "      <td>23394</td>\n",
       "      <td>Гогиели</td>\n",
       "      <td>нет</td>\n",
       "      <td>кафе</td>\n",
       "      <td>город Москва, Авиамоторная улица, дом 49/1</td>\n",
       "      <td>24</td>\n",
       "    </tr>\n",
       "    <tr>\n",
       "      <td>12</td>\n",
       "      <td>28582</td>\n",
       "      <td>ШКОЛА 735</td>\n",
       "      <td>нет</td>\n",
       "      <td>столовая</td>\n",
       "      <td>город Москва, Авиамоторная улица, дом 51</td>\n",
       "      <td>140</td>\n",
       "    </tr>\n",
       "    <tr>\n",
       "      <td>13</td>\n",
       "      <td>22579</td>\n",
       "      <td>Алло Пицца</td>\n",
       "      <td>да</td>\n",
       "      <td>кафе</td>\n",
       "      <td>город Москва, улица Авиаторов, дом 14</td>\n",
       "      <td>32</td>\n",
       "    </tr>\n",
       "    <tr>\n",
       "      <td>14</td>\n",
       "      <td>23670</td>\n",
       "      <td>Гимназия 1542</td>\n",
       "      <td>нет</td>\n",
       "      <td>столовая</td>\n",
       "      <td>город Москва, улица Авиаторов, дом 16</td>\n",
       "      <td>270</td>\n",
       "    </tr>\n",
       "  </tbody>\n",
       "</table>\n",
       "</div>"
      ],
      "text/plain": [
       "        id               object_name chain object_type  \\\n",
       "0   151635                   СМЕТАНА   нет        кафе   \n",
       "1    77874                    Родник   нет        кафе   \n",
       "2    24309           Кафе «Академия»   нет        кафе   \n",
       "3    21894                ПИЦЦЕТОРИЯ    да        кафе   \n",
       "4   119365    Кафе «Вишневая метель»   нет        кафе   \n",
       "5    27429  СТОЛ. ПРИ ГОУ СОШ № 1051   нет    столовая   \n",
       "6   148815                  Брусника    да        кафе   \n",
       "7    20957               Буфет МТУСИ   нет    столовая   \n",
       "8    20958               КПФ СЕМЬЯ-1   нет    столовая   \n",
       "9    28858            Столовая МТУСИ   нет    столовая   \n",
       "10  148595                Пекарня 24   нет  закусочная   \n",
       "11   23394                   Гогиели   нет        кафе   \n",
       "12   28582                 ШКОЛА 735   нет    столовая   \n",
       "13   22579                Алло Пицца    да        кафе   \n",
       "14   23670             Гимназия 1542   нет    столовая   \n",
       "\n",
       "                                                address  number  \n",
       "0            город Москва, улица Егора Абакумова, дом 9      48  \n",
       "1     город Москва, улица Талалихина, дом 2/1, корпус 1      35  \n",
       "2             город Москва, Абельмановская улица, дом 6      95  \n",
       "3               город Москва, Абрамцевская улица, дом 1      40  \n",
       "4     город Москва, Абрамцевская улица, дом 9, корпус 1      50  \n",
       "5    город Москва, Абрамцевская улица, дом 15, корпус 1     240  \n",
       "6         город Москва, переулок Сивцев Вражек, дом 6/2      10  \n",
       "7   город Москва, Авиамоторная улица, дом 8, строение 1      90  \n",
       "8   город Москва, Авиамоторная улица, дом 8, строение 1     150  \n",
       "9   город Москва, Авиамоторная улица, дом 8, строение 1     120  \n",
       "10             город Москва, Авиамоторная улица, дом 47       5  \n",
       "11           город Москва, Авиамоторная улица, дом 49/1      24  \n",
       "12             город Москва, Авиамоторная улица, дом 51     140  \n",
       "13                город Москва, улица Авиаторов, дом 14      32  \n",
       "14                город Москва, улица Авиаторов, дом 16     270  "
      ]
     },
     "execution_count": 3,
     "metadata": {},
     "output_type": "execute_result"
    }
   ],
   "source": [
    "data.head(15)"
   ]
  },
  {
   "cell_type": "code",
   "execution_count": 4,
   "metadata": {},
   "outputs": [
    {
     "name": "stdout",
     "output_type": "stream",
     "text": [
      "Количество явных дубликатов: 0\n"
     ]
    }
   ],
   "source": [
    "data['object_name'] = data['object_name'].str.lower() # Названия объектов переводим в нижний регистр\n",
    "print('Количество явных дубликатов:', data.duplicated().sum())"
   ]
  },
  {
   "cell_type": "markdown",
   "metadata": {},
   "source": [
    "Найдем все заведения, отмеченные как сетевые, но имеющие только 1 объект, и исправим это."
   ]
  },
  {
   "cell_type": "code",
   "execution_count": 5,
   "metadata": {},
   "outputs": [],
   "source": [
    "# Удаляем типы из названий\n",
    "repl = ['кафе ', 'ресторан ', '«', '»']\n",
    "for item in repl:\n",
    "    data['object_name'] = data['object_name'].str.replace(item, '')"
   ]
  },
  {
   "cell_type": "code",
   "execution_count": 6,
   "metadata": {},
   "outputs": [
    {
     "data": {
      "text/html": [
       "<div>\n",
       "<style scoped>\n",
       "    .dataframe tbody tr th:only-of-type {\n",
       "        vertical-align: middle;\n",
       "    }\n",
       "\n",
       "    .dataframe tbody tr th {\n",
       "        vertical-align: top;\n",
       "    }\n",
       "\n",
       "    .dataframe thead th {\n",
       "        text-align: right;\n",
       "    }\n",
       "</style>\n",
       "<table border=\"1\" class=\"dataframe\">\n",
       "  <thead>\n",
       "    <tr style=\"text-align: right;\">\n",
       "      <th></th>\n",
       "      <th>object_name</th>\n",
       "      <th>object_type</th>\n",
       "    </tr>\n",
       "  </thead>\n",
       "  <tbody>\n",
       "    <tr>\n",
       "      <td>0</td>\n",
       "      <td>beverly hills diner</td>\n",
       "      <td>1</td>\n",
       "    </tr>\n",
       "    <tr>\n",
       "      <td>1</td>\n",
       "      <td>bierloga</td>\n",
       "      <td>1</td>\n",
       "    </tr>\n",
       "    <tr>\n",
       "      <td>2</td>\n",
       "      <td>black &amp; white</td>\n",
       "      <td>1</td>\n",
       "    </tr>\n",
       "    <tr>\n",
       "      <td>3</td>\n",
       "      <td>boobo</td>\n",
       "      <td>1</td>\n",
       "    </tr>\n",
       "    <tr>\n",
       "      <td>4</td>\n",
       "      <td>bubbleology</td>\n",
       "      <td>1</td>\n",
       "    </tr>\n",
       "    <tr>\n",
       "      <td>5</td>\n",
       "      <td>coffeeshop</td>\n",
       "      <td>1</td>\n",
       "    </tr>\n",
       "    <tr>\n",
       "      <td>6</td>\n",
       "      <td>cookhouse</td>\n",
       "      <td>1</td>\n",
       "    </tr>\n",
       "    <tr>\n",
       "      <td>7</td>\n",
       "      <td>deli by prime прайм-кафе</td>\n",
       "      <td>1</td>\n",
       "    </tr>\n",
       "    <tr>\n",
       "      <td>8</td>\n",
       "      <td>fridays</td>\n",
       "      <td>1</td>\n",
       "    </tr>\n",
       "    <tr>\n",
       "      <td>9</td>\n",
       "      <td>fridays kfc</td>\n",
       "      <td>1</td>\n",
       "    </tr>\n",
       "  </tbody>\n",
       "</table>\n",
       "</div>"
      ],
      "text/plain": [
       "                object_name  object_type\n",
       "0       beverly hills diner            1\n",
       "1                  bierloga            1\n",
       "2             black & white            1\n",
       "3                     boobo            1\n",
       "4               bubbleology            1\n",
       "5                coffeeshop            1\n",
       "6                 cookhouse            1\n",
       "7  deli by prime прайм-кафе            1\n",
       "8                   fridays            1\n",
       "9               fridays kfc            1"
      ]
     },
     "execution_count": 6,
     "metadata": {},
     "output_type": "execute_result"
    }
   ],
   "source": [
    "# Выделяем неправильные сетевые заведения\n",
    "fake_chains = data.query('chain == \"да\"').groupby('object_name').agg({'object_type': 'count'}).query('object_type == 1').reset_index()\n",
    "fake_chains.head(10)"
   ]
  },
  {
   "cell_type": "code",
   "execution_count": 7,
   "metadata": {},
   "outputs": [],
   "source": [
    "data.loc[data['object_name'].isin(fake_chains['object_name'].unique()), 'chain'] = 'нет'"
   ]
  },
  {
   "cell_type": "markdown",
   "metadata": {},
   "source": [
    "## Анализ данных\n",
    "### Виды объектов\n",
    "В разделе исследуем следущие вопросы:\n",
    "* Соотношение видов объектов общественного питания по количеству;\n",
    "* Соотношение сетевых и несетевых заведений по количеству;\n",
    "* Для какого вида объекта общественного питания характерно сетевое распространение."
   ]
  },
  {
   "cell_type": "code",
   "execution_count": 8,
   "metadata": {
    "scrolled": false
   },
   "outputs": [
    {
     "data": {
      "text/html": [
       "<div>\n",
       "<style scoped>\n",
       "    .dataframe tbody tr th:only-of-type {\n",
       "        vertical-align: middle;\n",
       "    }\n",
       "\n",
       "    .dataframe tbody tr th {\n",
       "        vertical-align: top;\n",
       "    }\n",
       "\n",
       "    .dataframe thead th {\n",
       "        text-align: right;\n",
       "    }\n",
       "</style>\n",
       "<table border=\"1\" class=\"dataframe\">\n",
       "  <thead>\n",
       "    <tr style=\"text-align: right;\">\n",
       "      <th>chain</th>\n",
       "      <th>да</th>\n",
       "      <th>нет</th>\n",
       "      <th>всего</th>\n",
       "      <th>процент сетей</th>\n",
       "    </tr>\n",
       "    <tr>\n",
       "      <th>object_type</th>\n",
       "      <th></th>\n",
       "      <th></th>\n",
       "      <th></th>\n",
       "      <th></th>\n",
       "    </tr>\n",
       "  </thead>\n",
       "  <tbody>\n",
       "    <tr>\n",
       "      <td>кафе</td>\n",
       "      <td>1275</td>\n",
       "      <td>4824</td>\n",
       "      <td>6099</td>\n",
       "      <td>20.91</td>\n",
       "    </tr>\n",
       "    <tr>\n",
       "      <td>столовая</td>\n",
       "      <td>3</td>\n",
       "      <td>2584</td>\n",
       "      <td>2587</td>\n",
       "      <td>0.12</td>\n",
       "    </tr>\n",
       "    <tr>\n",
       "      <td>ресторан</td>\n",
       "      <td>481</td>\n",
       "      <td>1804</td>\n",
       "      <td>2285</td>\n",
       "      <td>21.05</td>\n",
       "    </tr>\n",
       "    <tr>\n",
       "      <td>предприятие быстрого обслуживания</td>\n",
       "      <td>757</td>\n",
       "      <td>1166</td>\n",
       "      <td>1923</td>\n",
       "      <td>39.37</td>\n",
       "    </tr>\n",
       "    <tr>\n",
       "      <td>бар</td>\n",
       "      <td>20</td>\n",
       "      <td>836</td>\n",
       "      <td>856</td>\n",
       "      <td>2.34</td>\n",
       "    </tr>\n",
       "    <tr>\n",
       "      <td>буфет</td>\n",
       "      <td>11</td>\n",
       "      <td>574</td>\n",
       "      <td>585</td>\n",
       "      <td>1.88</td>\n",
       "    </tr>\n",
       "    <tr>\n",
       "      <td>кафетерий</td>\n",
       "      <td>46</td>\n",
       "      <td>352</td>\n",
       "      <td>398</td>\n",
       "      <td>11.56</td>\n",
       "    </tr>\n",
       "    <tr>\n",
       "      <td>закусочная</td>\n",
       "      <td>46</td>\n",
       "      <td>314</td>\n",
       "      <td>360</td>\n",
       "      <td>12.78</td>\n",
       "    </tr>\n",
       "    <tr>\n",
       "      <td>магазин (отдел кулинарии)</td>\n",
       "      <td>73</td>\n",
       "      <td>200</td>\n",
       "      <td>273</td>\n",
       "      <td>26.74</td>\n",
       "    </tr>\n",
       "  </tbody>\n",
       "</table>\n",
       "</div>"
      ],
      "text/plain": [
       "chain                                да   нет  всего  процент сетей\n",
       "object_type                                                        \n",
       "кафе                               1275  4824   6099          20.91\n",
       "столовая                              3  2584   2587           0.12\n",
       "ресторан                            481  1804   2285          21.05\n",
       "предприятие быстрого обслуживания   757  1166   1923          39.37\n",
       "бар                                  20   836    856           2.34\n",
       "буфет                                11   574    585           1.88\n",
       "кафетерий                            46   352    398          11.56\n",
       "закусочная                           46   314    360          12.78\n",
       "магазин (отдел кулинарии)            73   200    273          26.74"
      ]
     },
     "metadata": {},
     "output_type": "display_data"
    },
    {
     "data": {
      "text/plain": [
       "<matplotlib.axes._subplots.AxesSubplot at 0x7f610e8e48d0>"
      ]
     },
     "execution_count": 8,
     "metadata": {},
     "output_type": "execute_result"
    },
    {
     "data": {
      "image/png": "[encoded data removed]",
      "text/plain": [
       "<Figure size 720x360 with 1 Axes>"
      ]
     },
     "metadata": {},
     "output_type": "display_data"
    }
   ],
   "source": [
    "report = data.pivot_table(index = 'object_type', columns = 'chain', values = 'id', aggfunc = 'nunique')\n",
    "report['total'] = report['да'] + report['нет']\n",
    "report['chain_perc'] = report['да'] / report['total'] * 100\n",
    "report = report.sort_values(by = 'total', ascending = False).rename(columns = {'total': 'всего',\n",
    "                                                                               'chain_perc': 'процент сетей'})\n",
    "display(report)\n",
    "\n",
    "report[['да', 'нет']].plot(kind = 'barh', stacked = True, title = 'Количество объектов различного типа', figsize = (10, 5))"
   ]
  },
  {
   "cell_type": "markdown",
   "metadata": {},
   "source": [
    "По **соотношению видов объектов** можно выделить следующее:\n",
    "* Наиболее популярный тип - **кафе** (6099 заведений);\n",
    "* **Столовые**, **рестораны** и **предприятия быстрого обслуживания** представлены значительно меньшим количеством заведений - в диапазоне от 2000 до 2500 заведений;\n",
    "* Наименее популярный тип - **магазин (отдел кулинарии)** - 273 заведения.\n",
    "\n",
    "По **соотношению сетевых и несетевых заведений**:\n",
    "* Самое большое количество сетевых заведений в категориях **предприятие быстрого обслуживания** (39.37%), **магазин (отдел кулинарии)** (26.74%) и **ресторан** (21.05%);\n",
    "* Меньше всего сетевых заведений в категориях **бар** (2.34%), **буфет** (1.88%) и **столовая** (0.12%).\n",
    "\n",
    "Наиболее часто сетевое распространение встречается в категории **предприятие быстрого обслуживания** (757 из 1923 заведений, 38.22%)."
   ]
  },
  {
   "cell_type": "markdown",
   "metadata": {},
   "source": [
    "### Сетевые заведения\n",
    "#### Общая характеристика\n",
    "Исследуем, что характерно для сетевых заведений: много заведений с небольшим числом посадочных мест в каждом или мало заведений с большим количеством посадочных мест?"
   ]
  },
  {
   "cell_type": "code",
   "execution_count": 9,
   "metadata": {},
   "outputs": [
    {
     "data": {
      "text/html": [
       "<div>\n",
       "<style scoped>\n",
       "    .dataframe tbody tr th:only-of-type {\n",
       "        vertical-align: middle;\n",
       "    }\n",
       "\n",
       "    .dataframe tbody tr th {\n",
       "        vertical-align: top;\n",
       "    }\n",
       "\n",
       "    .dataframe thead th {\n",
       "        text-align: right;\n",
       "    }\n",
       "</style>\n",
       "<table border=\"1\" class=\"dataframe\">\n",
       "  <thead>\n",
       "    <tr style=\"text-align: right;\">\n",
       "      <th></th>\n",
       "      <th>Число сетей</th>\n",
       "      <th>Медианное число заведений</th>\n",
       "      <th>Медианное число посадочных мест</th>\n",
       "    </tr>\n",
       "    <tr>\n",
       "      <th>Группа</th>\n",
       "      <th></th>\n",
       "      <th></th>\n",
       "      <th></th>\n",
       "    </tr>\n",
       "  </thead>\n",
       "  <tbody>\n",
       "    <tr>\n",
       "      <td>Мало заведений - Мало мест</td>\n",
       "      <td>31</td>\n",
       "      <td>2</td>\n",
       "      <td>15.00</td>\n",
       "    </tr>\n",
       "    <tr>\n",
       "      <td>Мало заведений - Много мест</td>\n",
       "      <td>91</td>\n",
       "      <td>2</td>\n",
       "      <td>60.00</td>\n",
       "    </tr>\n",
       "    <tr>\n",
       "      <td>Много заведений - Мало мест</td>\n",
       "      <td>24</td>\n",
       "      <td>14</td>\n",
       "      <td>11.61</td>\n",
       "    </tr>\n",
       "    <tr>\n",
       "      <td>Много заведений - Много мест</td>\n",
       "      <td>69</td>\n",
       "      <td>10</td>\n",
       "      <td>58.17</td>\n",
       "    </tr>\n",
       "  </tbody>\n",
       "</table>\n",
       "</div>"
      ],
      "text/plain": [
       "                              Число сетей  Медианное число заведений  \\\n",
       "Группа                                                                 \n",
       "Мало заведений - Мало мест             31                          2   \n",
       "Мало заведений - Много мест            91                          2   \n",
       "Много заведений - Мало мест            24                         14   \n",
       "Много заведений - Много мест           69                         10   \n",
       "\n",
       "                              Медианное число посадочных мест  \n",
       "Группа                                                         \n",
       "Мало заведений - Мало мест                              15.00  \n",
       "Мало заведений - Много мест                             60.00  \n",
       "Много заведений - Мало мест                             11.61  \n",
       "Много заведений - Много мест                            58.17  "
      ]
     },
     "execution_count": 9,
     "metadata": {},
     "output_type": "execute_result"
    },
    {
     "data": {
      "image/png": "[encoded data removed]",
      "text/plain": [
       "<Figure size 720x360 with 1 Axes>"
      ]
     },
     "metadata": {},
     "output_type": "display_data"
    }
   ],
   "source": [
    "chains = data.query('chain == \"да\"').groupby('object_name').agg({'id': 'count', 'number': 'mean'})\n",
    "\n",
    "# Присваиваем заведениям категории на основе количества заведений (>5)\n",
    "chains['rest_count_group'] = 'Мало заведений'\n",
    "chains.loc[chains['id'] > 5, 'rest_count_group'] = 'Много заведений'\n",
    "\n",
    "# Присваиваем заведениям категории на основе количества посадочных мест (>20)\n",
    "chains['seat_count_group'] = 'Мало мест'\n",
    "chains.loc[chains['number'] > 20, 'seat_count_group'] = 'Много мест'\n",
    "\n",
    "chains['Группа'] = chains['rest_count_group'].astype(str) + ' - ' + chains['seat_count_group'].astype(str)\n",
    "sns.scatterplot(data = chains, x = 'id', y = 'number', hue = 'Группа')\n",
    "plt.xlabel('Число заведений')\n",
    "plt.ylabel('Среднее число посадочных мест')\n",
    "\n",
    "chains.reset_index().groupby('Группа').agg({'object_name': 'nunique', 'id': 'median', 'number': 'median'})\\\n",
    "                                      .rename(columns = {'object_name': 'Число сетей',\n",
    "                                                         'id': 'Медианное число заведений',\n",
    "                                                         'number': 'Медианное число посадочных мест'})"
   ]
  },
  {
   "cell_type": "markdown",
   "metadata": {},
   "source": [
    "По диаграмме видно, что большинство сетей имеет меньше 25 заведений с большим разбросом посадочных мест. В целом для них характерно большое количество посадочных мест (больше 20)."
   ]
  },
  {
   "cell_type": "markdown",
   "metadata": {},
   "source": [
    "### Характеристика каждого вида объекта общественного питания\n",
    "Для каждого вида объекта общественного питания опишем среднее количество посадочных мест."
   ]
  },
  {
   "cell_type": "code",
   "execution_count": 10,
   "metadata": {},
   "outputs": [
    {
     "data": {
      "text/html": [
       "<div>\n",
       "<style scoped>\n",
       "    .dataframe tbody tr th:only-of-type {\n",
       "        vertical-align: middle;\n",
       "    }\n",
       "\n",
       "    .dataframe tbody tr th {\n",
       "        vertical-align: top;\n",
       "    }\n",
       "\n",
       "    .dataframe thead th {\n",
       "        text-align: right;\n",
       "    }\n",
       "</style>\n",
       "<table border=\"1\" class=\"dataframe\">\n",
       "  <thead>\n",
       "    <tr style=\"text-align: right;\">\n",
       "      <th></th>\n",
       "      <th>Тип заведения</th>\n",
       "      <th>Среднее число посадочных мест</th>\n",
       "    </tr>\n",
       "  </thead>\n",
       "  <tbody>\n",
       "    <tr>\n",
       "      <td>8</td>\n",
       "      <td>столовая</td>\n",
       "      <td>130.25</td>\n",
       "    </tr>\n",
       "    <tr>\n",
       "      <td>7</td>\n",
       "      <td>ресторан</td>\n",
       "      <td>96.83</td>\n",
       "    </tr>\n",
       "    <tr>\n",
       "      <td>1</td>\n",
       "      <td>буфет</td>\n",
       "      <td>51.13</td>\n",
       "    </tr>\n",
       "    <tr>\n",
       "      <td>0</td>\n",
       "      <td>бар</td>\n",
       "      <td>43.49</td>\n",
       "    </tr>\n",
       "    <tr>\n",
       "      <td>3</td>\n",
       "      <td>кафе</td>\n",
       "      <td>39.72</td>\n",
       "    </tr>\n",
       "    <tr>\n",
       "      <td>6</td>\n",
       "      <td>предприятие быстрого обслуживания</td>\n",
       "      <td>20.55</td>\n",
       "    </tr>\n",
       "    <tr>\n",
       "      <td>4</td>\n",
       "      <td>кафетерий</td>\n",
       "      <td>9.12</td>\n",
       "    </tr>\n",
       "    <tr>\n",
       "      <td>2</td>\n",
       "      <td>закусочная</td>\n",
       "      <td>7.61</td>\n",
       "    </tr>\n",
       "    <tr>\n",
       "      <td>5</td>\n",
       "      <td>магазин (отдел кулинарии)</td>\n",
       "      <td>5.59</td>\n",
       "    </tr>\n",
       "  </tbody>\n",
       "</table>\n",
       "</div>"
      ],
      "text/plain": [
       "                       Тип заведения  Среднее число посадочных мест\n",
       "8                           столовая                         130.25\n",
       "7                           ресторан                          96.83\n",
       "1                              буфет                          51.13\n",
       "0                                бар                          43.49\n",
       "3                               кафе                          39.72\n",
       "6  предприятие быстрого обслуживания                          20.55\n",
       "4                          кафетерий                           9.12\n",
       "2                         закусочная                           7.61\n",
       "5          магазин (отдел кулинарии)                           5.59"
      ]
     },
     "metadata": {},
     "output_type": "display_data"
    },
    {
     "data": {
      "text/plain": [
       "Text(0.5, 1.0, 'Количество посадочных мест по типам заведения')"
      ]
     },
     "execution_count": 10,
     "metadata": {},
     "output_type": "execute_result"
    },
    {
     "data": {
      "image/png": "[encoded data removed]",
      "text/plain": [
       "<Figure size 720x360 with 1 Axes>"
      ]
     },
     "metadata": {},
     "output_type": "display_data"
    }
   ],
   "source": [
    "number_of_seats = data.pivot_table(index = 'object_type', values = 'number', aggfunc = 'mean').reset_index()\\\n",
    "                      .sort_values(by = 'number', ascending = False)\\\n",
    "                      .rename(columns = {'object_type': 'Тип заведения',\n",
    "                                         'number': 'Среднее число посадочных мест'})\n",
    "display(number_of_seats)\n",
    "\n",
    "number_of_seats[['Тип заведения','Среднее число посадочных мест']].set_index('Тип заведения').plot(kind = 'barh', stacked = True)\n",
    "plt.xlabel('Число посадочных мест')\n",
    "plt.title('Количество посадочных мест по типам заведения')"
   ]
  },
  {
   "cell_type": "markdown",
   "metadata": {},
   "source": [
    "Больше всего посадочных мест предоставляют **столовые** - в среднем 131. На втором месте - **рестораны** с 97ю посадочными местами."
   ]
  },
  {
   "cell_type": "markdown",
   "metadata": {},
   "source": [
    "### Изучение информации о расположении\n",
    "Выделим в отдельный столбец информацию об улице, на которой расположено каждое заведение."
   ]
  },
  {
   "cell_type": "code",
   "execution_count": 11,
   "metadata": {
    "scrolled": true
   },
   "outputs": [
    {
     "data": {
      "text/html": [
       "<div>\n",
       "<style scoped>\n",
       "    .dataframe tbody tr th:only-of-type {\n",
       "        vertical-align: middle;\n",
       "    }\n",
       "\n",
       "    .dataframe tbody tr th {\n",
       "        vertical-align: top;\n",
       "    }\n",
       "\n",
       "    .dataframe thead th {\n",
       "        text-align: right;\n",
       "    }\n",
       "</style>\n",
       "<table border=\"1\" class=\"dataframe\">\n",
       "  <thead>\n",
       "    <tr style=\"text-align: right;\">\n",
       "      <th></th>\n",
       "      <th>object_name</th>\n",
       "      <th>address</th>\n",
       "      <th>streetname</th>\n",
       "    </tr>\n",
       "  </thead>\n",
       "  <tbody>\n",
       "    <tr>\n",
       "      <td>0</td>\n",
       "      <td>сметана</td>\n",
       "      <td>город Москва, улица Егора Абакумова, дом 9</td>\n",
       "      <td>улица Егора Абакумова</td>\n",
       "    </tr>\n",
       "    <tr>\n",
       "      <td>1</td>\n",
       "      <td>родник</td>\n",
       "      <td>город Москва, улица Талалихина, дом 2/1, корпус 1</td>\n",
       "      <td>улица Талалихина</td>\n",
       "    </tr>\n",
       "    <tr>\n",
       "      <td>2</td>\n",
       "      <td>академия</td>\n",
       "      <td>город Москва, Абельмановская улица, дом 6</td>\n",
       "      <td>Абельмановская улица</td>\n",
       "    </tr>\n",
       "    <tr>\n",
       "      <td>3</td>\n",
       "      <td>пиццетория</td>\n",
       "      <td>город Москва, Абрамцевская улица, дом 1</td>\n",
       "      <td>Абрамцевская улица</td>\n",
       "    </tr>\n",
       "    <tr>\n",
       "      <td>4</td>\n",
       "      <td>вишневая метель</td>\n",
       "      <td>город Москва, Абрамцевская улица, дом 9, корпус 1</td>\n",
       "      <td>Абрамцевская улица</td>\n",
       "    </tr>\n",
       "  </tbody>\n",
       "</table>\n",
       "</div>"
      ],
      "text/plain": [
       "       object_name                                            address  \\\n",
       "0          сметана         город Москва, улица Егора Абакумова, дом 9   \n",
       "1           родник  город Москва, улица Талалихина, дом 2/1, корпус 1   \n",
       "2         академия          город Москва, Абельмановская улица, дом 6   \n",
       "3       пиццетория            город Москва, Абрамцевская улица, дом 1   \n",
       "4  вишневая метель  город Москва, Абрамцевская улица, дом 9, корпус 1   \n",
       "\n",
       "              streetname  \n",
       "0  улица Егора Абакумова  \n",
       "1       улица Талалихина  \n",
       "2   Абельмановская улица  \n",
       "3     Абрамцевская улица  \n",
       "4     Абрамцевская улица  "
      ]
     },
     "execution_count": 11,
     "metadata": {},
     "output_type": "execute_result"
    }
   ],
   "source": [
    "data['streetname'] = data['address'].apply(lambda x: x.split(',')[1])\n",
    "data['streetname'] = data['streetname'].str.strip()\n",
    "data[['object_name', 'address', 'streetname']].head(5)"
   ]
  },
  {
   "cell_type": "markdown",
   "metadata": {},
   "source": [
    "#### Улицы с максимальным количеством заведений\n",
    "Выделим топ-10 улиц по количеству объектов общественного питания:"
   ]
  },
  {
   "cell_type": "code",
   "execution_count": 12,
   "metadata": {},
   "outputs": [
    {
     "data": {
      "text/html": [
       "<div>\n",
       "<style scoped>\n",
       "    .dataframe tbody tr th:only-of-type {\n",
       "        vertical-align: middle;\n",
       "    }\n",
       "\n",
       "    .dataframe tbody tr th {\n",
       "        vertical-align: top;\n",
       "    }\n",
       "\n",
       "    .dataframe thead th {\n",
       "        text-align: right;\n",
       "    }\n",
       "</style>\n",
       "<table border=\"1\" class=\"dataframe\">\n",
       "  <thead>\n",
       "    <tr style=\"text-align: right;\">\n",
       "      <th></th>\n",
       "      <th>streetname</th>\n",
       "      <th>Количество заведений</th>\n",
       "    </tr>\n",
       "  </thead>\n",
       "  <tbody>\n",
       "    <tr>\n",
       "      <td>0</td>\n",
       "      <td>город Зеленоград</td>\n",
       "      <td>232</td>\n",
       "    </tr>\n",
       "    <tr>\n",
       "      <td>1</td>\n",
       "      <td>проспект Мира</td>\n",
       "      <td>204</td>\n",
       "    </tr>\n",
       "    <tr>\n",
       "      <td>2</td>\n",
       "      <td>Профсоюзная улица</td>\n",
       "      <td>182</td>\n",
       "    </tr>\n",
       "    <tr>\n",
       "      <td>3</td>\n",
       "      <td>Ленинградский проспект</td>\n",
       "      <td>171</td>\n",
       "    </tr>\n",
       "    <tr>\n",
       "      <td>4</td>\n",
       "      <td>Пресненская набережная</td>\n",
       "      <td>167</td>\n",
       "    </tr>\n",
       "    <tr>\n",
       "      <td>5</td>\n",
       "      <td>Варшавское шоссе</td>\n",
       "      <td>161</td>\n",
       "    </tr>\n",
       "    <tr>\n",
       "      <td>6</td>\n",
       "      <td>Ленинский проспект</td>\n",
       "      <td>147</td>\n",
       "    </tr>\n",
       "    <tr>\n",
       "      <td>7</td>\n",
       "      <td>поселение Сосенское</td>\n",
       "      <td>138</td>\n",
       "    </tr>\n",
       "    <tr>\n",
       "      <td>8</td>\n",
       "      <td>проспект Вернадского</td>\n",
       "      <td>132</td>\n",
       "    </tr>\n",
       "    <tr>\n",
       "      <td>9</td>\n",
       "      <td>Кутузовский проспект</td>\n",
       "      <td>114</td>\n",
       "    </tr>\n",
       "  </tbody>\n",
       "</table>\n",
       "</div>"
      ],
      "text/plain": [
       "               streetname  Количество заведений\n",
       "0        город Зеленоград                   232\n",
       "1           проспект Мира                   204\n",
       "2       Профсоюзная улица                   182\n",
       "3  Ленинградский проспект                   171\n",
       "4  Пресненская набережная                   167\n",
       "5        Варшавское шоссе                   161\n",
       "6      Ленинский проспект                   147\n",
       "7     поселение Сосенское                   138\n",
       "8    проспект Вернадского                   132\n",
       "9    Кутузовский проспект                   114"
      ]
     },
     "execution_count": 12,
     "metadata": {},
     "output_type": "execute_result"
    }
   ],
   "source": [
    "top_10_streets = data.groupby('streetname')\\\n",
    "                     .agg({'id': 'count'})\\\n",
    "                     .sort_values(by = 'id', ascending = False)\\\n",
    "                     .reset_index()\\\n",
    "                     .rename(columns = {'id': 'Количество заведений'}).head(10)\n",
    "top_10_streets"
   ]
  },
  {
   "cell_type": "markdown",
   "metadata": {},
   "source": [
    "Импортируем классификатор улиц с районами и соединяем с полученной выше таблицей:"
   ]
  },
  {
   "cell_type": "code",
   "execution_count": 13,
   "metadata": {},
   "outputs": [
    {
     "data": {
      "text/html": [
       "<div>\n",
       "<style scoped>\n",
       "    .dataframe tbody tr th:only-of-type {\n",
       "        vertical-align: middle;\n",
       "    }\n",
       "\n",
       "    .dataframe tbody tr th {\n",
       "        vertical-align: top;\n",
       "    }\n",
       "\n",
       "    .dataframe thead th {\n",
       "        text-align: right;\n",
       "    }\n",
       "</style>\n",
       "<table border=\"1\" class=\"dataframe\">\n",
       "  <thead>\n",
       "    <tr style=\"text-align: right;\">\n",
       "      <th></th>\n",
       "      <th>streetname</th>\n",
       "      <th>okrug</th>\n",
       "      <th>area</th>\n",
       "    </tr>\n",
       "  </thead>\n",
       "  <tbody>\n",
       "    <tr>\n",
       "      <td>0</td>\n",
       "      <td>Выставочный переулок</td>\n",
       "      <td>ЦАО</td>\n",
       "      <td>Пресненский район</td>\n",
       "    </tr>\n",
       "    <tr>\n",
       "      <td>1</td>\n",
       "      <td>улица Гашека</td>\n",
       "      <td>ЦАО</td>\n",
       "      <td>Пресненский район</td>\n",
       "    </tr>\n",
       "    <tr>\n",
       "      <td>2</td>\n",
       "      <td>Большая Никитская улица</td>\n",
       "      <td>ЦАО</td>\n",
       "      <td>Пресненский район</td>\n",
       "    </tr>\n",
       "    <tr>\n",
       "      <td>3</td>\n",
       "      <td>Глубокий переулок</td>\n",
       "      <td>ЦАО</td>\n",
       "      <td>Пресненский район</td>\n",
       "    </tr>\n",
       "    <tr>\n",
       "      <td>4</td>\n",
       "      <td>Большой Гнездниковский переулок</td>\n",
       "      <td>ЦАО</td>\n",
       "      <td>Пресненский район</td>\n",
       "    </tr>\n",
       "    <tr>\n",
       "      <td>5</td>\n",
       "      <td>Малый Гнездниковский переулок</td>\n",
       "      <td>ЦАО</td>\n",
       "      <td>Пресненский район</td>\n",
       "    </tr>\n",
       "    <tr>\n",
       "      <td>6</td>\n",
       "      <td>Большая Грузинская улица</td>\n",
       "      <td>ЦАО</td>\n",
       "      <td>Пресненский район</td>\n",
       "    </tr>\n",
       "    <tr>\n",
       "      <td>7</td>\n",
       "      <td>Малая Грузинская улица</td>\n",
       "      <td>ЦАО</td>\n",
       "      <td>Пресненский район</td>\n",
       "    </tr>\n",
       "    <tr>\n",
       "      <td>8</td>\n",
       "      <td>Грузинская площадь</td>\n",
       "      <td>ЦАО</td>\n",
       "      <td>Пресненский район</td>\n",
       "    </tr>\n",
       "    <tr>\n",
       "      <td>9</td>\n",
       "      <td>улица Грузинский Вал</td>\n",
       "      <td>ЦАО</td>\n",
       "      <td>Пресненский район</td>\n",
       "    </tr>\n",
       "  </tbody>\n",
       "</table>\n",
       "</div>"
      ],
      "text/plain": [
       "                        streetname okrug               area\n",
       "0             Выставочный переулок   ЦАО  Пресненский район\n",
       "1                     улица Гашека   ЦАО  Пресненский район\n",
       "2          Большая Никитская улица   ЦАО  Пресненский район\n",
       "3                Глубокий переулок   ЦАО  Пресненский район\n",
       "4  Большой Гнездниковский переулок   ЦАО  Пресненский район\n",
       "5    Малый Гнездниковский переулок   ЦАО  Пресненский район\n",
       "6         Большая Грузинская улица   ЦАО  Пресненский район\n",
       "7           Малая Грузинская улица   ЦАО  Пресненский район\n",
       "8               Грузинская площадь   ЦАО  Пресненский район\n",
       "9             улица Грузинский Вал   ЦАО  Пресненский район"
      ]
     },
     "execution_count": 13,
     "metadata": {},
     "output_type": "execute_result"
    }
   ],
   "source": [
    "spreadsheet_id = '1CrYdZ9tbYtqeFd22HHTD-wVIaM7YOviqtK9SAs9y58E'\n",
    "file_name = 'https://docs.google.com/spreadsheets/d/{}/export?format=csv'.format(spreadsheet_id)\n",
    "r = requests.get(file_name)\n",
    "street_data = pd.read_csv(BytesIO(r.content))\n",
    "street_data.head(10)"
   ]
  },
  {
   "cell_type": "code",
   "execution_count": 14,
   "metadata": {},
   "outputs": [
    {
     "data": {
      "text/html": [
       "<div>\n",
       "<style scoped>\n",
       "    .dataframe tbody tr th:only-of-type {\n",
       "        vertical-align: middle;\n",
       "    }\n",
       "\n",
       "    .dataframe tbody tr th {\n",
       "        vertical-align: top;\n",
       "    }\n",
       "\n",
       "    .dataframe thead th {\n",
       "        text-align: right;\n",
       "    }\n",
       "</style>\n",
       "<table border=\"1\" class=\"dataframe\">\n",
       "  <thead>\n",
       "    <tr style=\"text-align: right;\">\n",
       "      <th></th>\n",
       "      <th>streetname</th>\n",
       "      <th>Количество заведений</th>\n",
       "      <th>okrug</th>\n",
       "      <th>area</th>\n",
       "    </tr>\n",
       "  </thead>\n",
       "  <tbody>\n",
       "    <tr>\n",
       "      <td>0</td>\n",
       "      <td>город Зеленоград</td>\n",
       "      <td>232</td>\n",
       "      <td>Зеленоград</td>\n",
       "      <td>Район Крюково</td>\n",
       "    </tr>\n",
       "    <tr>\n",
       "      <td>1</td>\n",
       "      <td>город Зеленоград</td>\n",
       "      <td>232</td>\n",
       "      <td>Зеленоград</td>\n",
       "      <td>Район Матушкино-Савелки</td>\n",
       "    </tr>\n",
       "    <tr>\n",
       "      <td>2</td>\n",
       "      <td>город Зеленоград</td>\n",
       "      <td>232</td>\n",
       "      <td>Зеленоград</td>\n",
       "      <td>Панфиловский район</td>\n",
       "    </tr>\n",
       "    <tr>\n",
       "      <td>3</td>\n",
       "      <td>проспект Мира</td>\n",
       "      <td>204</td>\n",
       "      <td>СВАО</td>\n",
       "      <td>Алексеевский район</td>\n",
       "    </tr>\n",
       "    <tr>\n",
       "      <td>4</td>\n",
       "      <td>проспект Мира</td>\n",
       "      <td>204</td>\n",
       "      <td>СВАО</td>\n",
       "      <td>Ярославский Район</td>\n",
       "    </tr>\n",
       "    <tr>\n",
       "      <td>5</td>\n",
       "      <td>проспект Мира</td>\n",
       "      <td>204</td>\n",
       "      <td>СВАО</td>\n",
       "      <td>Район Марьина роща</td>\n",
       "    </tr>\n",
       "    <tr>\n",
       "      <td>6</td>\n",
       "      <td>проспект Мира</td>\n",
       "      <td>204</td>\n",
       "      <td>СВАО</td>\n",
       "      <td>Останкинский район</td>\n",
       "    </tr>\n",
       "    <tr>\n",
       "      <td>7</td>\n",
       "      <td>проспект Мира</td>\n",
       "      <td>204</td>\n",
       "      <td>СВАО</td>\n",
       "      <td>Район Ростокино</td>\n",
       "    </tr>\n",
       "    <tr>\n",
       "      <td>8</td>\n",
       "      <td>проспект Мира</td>\n",
       "      <td>204</td>\n",
       "      <td>СВАО</td>\n",
       "      <td>Район Свиблово</td>\n",
       "    </tr>\n",
       "    <tr>\n",
       "      <td>9</td>\n",
       "      <td>проспект Мира</td>\n",
       "      <td>204</td>\n",
       "      <td>ЦАО</td>\n",
       "      <td>Мещанский район</td>\n",
       "    </tr>\n",
       "    <tr>\n",
       "      <td>10</td>\n",
       "      <td>Профсоюзная улица</td>\n",
       "      <td>182</td>\n",
       "      <td>ЮЗАО</td>\n",
       "      <td>Академический район</td>\n",
       "    </tr>\n",
       "    <tr>\n",
       "      <td>11</td>\n",
       "      <td>Профсоюзная улица</td>\n",
       "      <td>182</td>\n",
       "      <td>ЮЗАО</td>\n",
       "      <td>Район Черемушки</td>\n",
       "    </tr>\n",
       "    <tr>\n",
       "      <td>12</td>\n",
       "      <td>Профсоюзная улица</td>\n",
       "      <td>182</td>\n",
       "      <td>ЮЗАО</td>\n",
       "      <td>Район Ясенево</td>\n",
       "    </tr>\n",
       "    <tr>\n",
       "      <td>13</td>\n",
       "      <td>Профсоюзная улица</td>\n",
       "      <td>182</td>\n",
       "      <td>ЮЗАО</td>\n",
       "      <td>Район Коньково</td>\n",
       "    </tr>\n",
       "    <tr>\n",
       "      <td>14</td>\n",
       "      <td>Профсоюзная улица</td>\n",
       "      <td>182</td>\n",
       "      <td>ЮЗАО</td>\n",
       "      <td>Обручевский район</td>\n",
       "    </tr>\n",
       "    <tr>\n",
       "      <td>15</td>\n",
       "      <td>Профсоюзная улица</td>\n",
       "      <td>182</td>\n",
       "      <td>ЮЗАО</td>\n",
       "      <td>Район Теплый Стан</td>\n",
       "    </tr>\n",
       "    <tr>\n",
       "      <td>16</td>\n",
       "      <td>Ленинградский проспект</td>\n",
       "      <td>171</td>\n",
       "      <td>САО</td>\n",
       "      <td>Район Аэропорт</td>\n",
       "    </tr>\n",
       "    <tr>\n",
       "      <td>17</td>\n",
       "      <td>Ленинградский проспект</td>\n",
       "      <td>171</td>\n",
       "      <td>САО</td>\n",
       "      <td>Район Беговой</td>\n",
       "    </tr>\n",
       "    <tr>\n",
       "      <td>18</td>\n",
       "      <td>Ленинградский проспект</td>\n",
       "      <td>171</td>\n",
       "      <td>САО</td>\n",
       "      <td>Хорошевский район</td>\n",
       "    </tr>\n",
       "    <tr>\n",
       "      <td>19</td>\n",
       "      <td>Ленинградский проспект</td>\n",
       "      <td>171</td>\n",
       "      <td>САО</td>\n",
       "      <td>Район Сокол</td>\n",
       "    </tr>\n",
       "    <tr>\n",
       "      <td>20</td>\n",
       "      <td>Пресненская набережная</td>\n",
       "      <td>167</td>\n",
       "      <td>ЦАО</td>\n",
       "      <td>Пресненский район</td>\n",
       "    </tr>\n",
       "    <tr>\n",
       "      <td>21</td>\n",
       "      <td>Варшавское шоссе</td>\n",
       "      <td>161</td>\n",
       "      <td>ЮАО</td>\n",
       "      <td>Район Чертаново Центральное</td>\n",
       "    </tr>\n",
       "    <tr>\n",
       "      <td>22</td>\n",
       "      <td>Варшавское шоссе</td>\n",
       "      <td>161</td>\n",
       "      <td>ЮАО</td>\n",
       "      <td>Район Чертаново Северное</td>\n",
       "    </tr>\n",
       "    <tr>\n",
       "      <td>23</td>\n",
       "      <td>Варшавское шоссе</td>\n",
       "      <td>161</td>\n",
       "      <td>ЮАО</td>\n",
       "      <td>Район Чертаново Южное</td>\n",
       "    </tr>\n",
       "    <tr>\n",
       "      <td>24</td>\n",
       "      <td>Варшавское шоссе</td>\n",
       "      <td>161</td>\n",
       "      <td>ЮАО</td>\n",
       "      <td>Донской район</td>\n",
       "    </tr>\n",
       "    <tr>\n",
       "      <td>25</td>\n",
       "      <td>Варшавское шоссе</td>\n",
       "      <td>161</td>\n",
       "      <td>ЮАО</td>\n",
       "      <td>Район Нагатино-Садовники</td>\n",
       "    </tr>\n",
       "    <tr>\n",
       "      <td>26</td>\n",
       "      <td>Варшавское шоссе</td>\n",
       "      <td>161</td>\n",
       "      <td>ЮАО</td>\n",
       "      <td>Нагорный район</td>\n",
       "    </tr>\n",
       "    <tr>\n",
       "      <td>27</td>\n",
       "      <td>Варшавское шоссе</td>\n",
       "      <td>161</td>\n",
       "      <td>ЮЗАО</td>\n",
       "      <td>Район Северное Бутово</td>\n",
       "    </tr>\n",
       "    <tr>\n",
       "      <td>28</td>\n",
       "      <td>Варшавское шоссе</td>\n",
       "      <td>161</td>\n",
       "      <td>ЮЗАО</td>\n",
       "      <td>Район Южное Бутово</td>\n",
       "    </tr>\n",
       "    <tr>\n",
       "      <td>29</td>\n",
       "      <td>Ленинский проспект</td>\n",
       "      <td>147</td>\n",
       "      <td>ЗАО</td>\n",
       "      <td>Район Проспект Вернадского</td>\n",
       "    </tr>\n",
       "    <tr>\n",
       "      <td>30</td>\n",
       "      <td>Ленинский проспект</td>\n",
       "      <td>147</td>\n",
       "      <td>ЗАО</td>\n",
       "      <td>Район Тропарево-Никулино</td>\n",
       "    </tr>\n",
       "    <tr>\n",
       "      <td>31</td>\n",
       "      <td>Ленинский проспект</td>\n",
       "      <td>147</td>\n",
       "      <td>ЮАО</td>\n",
       "      <td>Донской район</td>\n",
       "    </tr>\n",
       "    <tr>\n",
       "      <td>32</td>\n",
       "      <td>Ленинский проспект</td>\n",
       "      <td>147</td>\n",
       "      <td>ЮЗАО</td>\n",
       "      <td>Район Гагаринский</td>\n",
       "    </tr>\n",
       "    <tr>\n",
       "      <td>33</td>\n",
       "      <td>Ленинский проспект</td>\n",
       "      <td>147</td>\n",
       "      <td>ЮЗАО</td>\n",
       "      <td>Ломоносовский район</td>\n",
       "    </tr>\n",
       "    <tr>\n",
       "      <td>34</td>\n",
       "      <td>Ленинский проспект</td>\n",
       "      <td>147</td>\n",
       "      <td>ЮЗАО</td>\n",
       "      <td>Обручевский район</td>\n",
       "    </tr>\n",
       "    <tr>\n",
       "      <td>35</td>\n",
       "      <td>Ленинский проспект</td>\n",
       "      <td>147</td>\n",
       "      <td>ЮЗАО</td>\n",
       "      <td>Район Теплый Стан</td>\n",
       "    </tr>\n",
       "    <tr>\n",
       "      <td>36</td>\n",
       "      <td>Ленинский проспект</td>\n",
       "      <td>147</td>\n",
       "      <td>ЦАО</td>\n",
       "      <td>Район Якиманка</td>\n",
       "    </tr>\n",
       "    <tr>\n",
       "      <td>37</td>\n",
       "      <td>поселение Сосенское</td>\n",
       "      <td>138</td>\n",
       "      <td>НАО</td>\n",
       "      <td>Поселение Сосенское</td>\n",
       "    </tr>\n",
       "    <tr>\n",
       "      <td>38</td>\n",
       "      <td>проспект Вернадского</td>\n",
       "      <td>132</td>\n",
       "      <td>ЗАО</td>\n",
       "      <td>Район Проспект Вернадского</td>\n",
       "    </tr>\n",
       "    <tr>\n",
       "      <td>39</td>\n",
       "      <td>проспект Вернадского</td>\n",
       "      <td>132</td>\n",
       "      <td>ЗАО</td>\n",
       "      <td>Район Раменки</td>\n",
       "    </tr>\n",
       "    <tr>\n",
       "      <td>40</td>\n",
       "      <td>проспект Вернадского</td>\n",
       "      <td>132</td>\n",
       "      <td>ЗАО</td>\n",
       "      <td>Район Тропарево-Никулино</td>\n",
       "    </tr>\n",
       "    <tr>\n",
       "      <td>41</td>\n",
       "      <td>проспект Вернадского</td>\n",
       "      <td>132</td>\n",
       "      <td>ЮЗАО</td>\n",
       "      <td>Район Гагаринский</td>\n",
       "    </tr>\n",
       "    <tr>\n",
       "      <td>42</td>\n",
       "      <td>проспект Вернадского</td>\n",
       "      <td>132</td>\n",
       "      <td>ЮЗАО</td>\n",
       "      <td>Ломоносовский район</td>\n",
       "    </tr>\n",
       "    <tr>\n",
       "      <td>43</td>\n",
       "      <td>Кутузовский проспект</td>\n",
       "      <td>114</td>\n",
       "      <td>ЗАО</td>\n",
       "      <td>Район Дорогомилово</td>\n",
       "    </tr>\n",
       "    <tr>\n",
       "      <td>44</td>\n",
       "      <td>Кутузовский проспект</td>\n",
       "      <td>114</td>\n",
       "      <td>ЗАО</td>\n",
       "      <td>Район Фили-Давыдково</td>\n",
       "    </tr>\n",
       "  </tbody>\n",
       "</table>\n",
       "</div>"
      ],
      "text/plain": [
       "                streetname  Количество заведений       okrug  \\\n",
       "0         город Зеленоград                   232  Зеленоград   \n",
       "1         город Зеленоград                   232  Зеленоград   \n",
       "2         город Зеленоград                   232  Зеленоград   \n",
       "3            проспект Мира                   204        СВАО   \n",
       "4            проспект Мира                   204        СВАО   \n",
       "5            проспект Мира                   204        СВАО   \n",
       "6            проспект Мира                   204        СВАО   \n",
       "7            проспект Мира                   204        СВАО   \n",
       "8            проспект Мира                   204        СВАО   \n",
       "9            проспект Мира                   204         ЦАО   \n",
       "10       Профсоюзная улица                   182        ЮЗАО   \n",
       "11       Профсоюзная улица                   182        ЮЗАО   \n",
       "12       Профсоюзная улица                   182        ЮЗАО   \n",
       "13       Профсоюзная улица                   182        ЮЗАО   \n",
       "14       Профсоюзная улица                   182        ЮЗАО   \n",
       "15       Профсоюзная улица                   182        ЮЗАО   \n",
       "16  Ленинградский проспект                   171         САО   \n",
       "17  Ленинградский проспект                   171         САО   \n",
       "18  Ленинградский проспект                   171         САО   \n",
       "19  Ленинградский проспект                   171         САО   \n",
       "20  Пресненская набережная                   167         ЦАО   \n",
       "21        Варшавское шоссе                   161         ЮАО   \n",
       "22        Варшавское шоссе                   161         ЮАО   \n",
       "23        Варшавское шоссе                   161         ЮАО   \n",
       "24        Варшавское шоссе                   161         ЮАО   \n",
       "25        Варшавское шоссе                   161         ЮАО   \n",
       "26        Варшавское шоссе                   161         ЮАО   \n",
       "27        Варшавское шоссе                   161        ЮЗАО   \n",
       "28        Варшавское шоссе                   161        ЮЗАО   \n",
       "29      Ленинский проспект                   147         ЗАО   \n",
       "30      Ленинский проспект                   147         ЗАО   \n",
       "31      Ленинский проспект                   147         ЮАО   \n",
       "32      Ленинский проспект                   147        ЮЗАО   \n",
       "33      Ленинский проспект                   147        ЮЗАО   \n",
       "34      Ленинский проспект                   147        ЮЗАО   \n",
       "35      Ленинский проспект                   147        ЮЗАО   \n",
       "36      Ленинский проспект                   147         ЦАО   \n",
       "37     поселение Сосенское                   138         НАО   \n",
       "38    проспект Вернадского                   132         ЗАО   \n",
       "39    проспект Вернадского                   132         ЗАО   \n",
       "40    проспект Вернадского                   132         ЗАО   \n",
       "41    проспект Вернадского                   132        ЮЗАО   \n",
       "42    проспект Вернадского                   132        ЮЗАО   \n",
       "43    Кутузовский проспект                   114         ЗАО   \n",
       "44    Кутузовский проспект                   114         ЗАО   \n",
       "\n",
       "                           area  \n",
       "0                 Район Крюково  \n",
       "1       Район Матушкино-Савелки  \n",
       "2            Панфиловский район  \n",
       "3            Алексеевский район  \n",
       "4             Ярославский Район  \n",
       "5            Район Марьина роща  \n",
       "6            Останкинский район  \n",
       "7               Район Ростокино  \n",
       "8                Район Свиблово  \n",
       "9               Мещанский район  \n",
       "10          Академический район  \n",
       "11              Район Черемушки  \n",
       "12                Район Ясенево  \n",
       "13               Район Коньково  \n",
       "14            Обручевский район  \n",
       "15            Район Теплый Стан  \n",
       "16               Район Аэропорт  \n",
       "17                Район Беговой  \n",
       "18            Хорошевский район  \n",
       "19                  Район Сокол  \n",
       "20            Пресненский район  \n",
       "21  Район Чертаново Центральное  \n",
       "22     Район Чертаново Северное  \n",
       "23        Район Чертаново Южное  \n",
       "24                Донской район  \n",
       "25     Район Нагатино-Садовники  \n",
       "26               Нагорный район  \n",
       "27        Район Северное Бутово  \n",
       "28           Район Южное Бутово  \n",
       "29   Район Проспект Вернадского  \n",
       "30     Район Тропарево-Никулино  \n",
       "31                Донской район  \n",
       "32            Район Гагаринский  \n",
       "33          Ломоносовский район  \n",
       "34            Обручевский район  \n",
       "35            Район Теплый Стан  \n",
       "36               Район Якиманка  \n",
       "37          Поселение Сосенское  \n",
       "38   Район Проспект Вернадского  \n",
       "39                Район Раменки  \n",
       "40     Район Тропарево-Никулино  \n",
       "41            Район Гагаринский  \n",
       "42          Ломоносовский район  \n",
       "43           Район Дорогомилово  \n",
       "44         Район Фили-Давыдково  "
      ]
     },
     "metadata": {},
     "output_type": "display_data"
    },
    {
     "name": "stdout",
     "output_type": "stream",
     "text": [
      "Список районов, в которых находятся улицы из списка топ-10: ['Район Крюково' 'Район Матушкино-Савелки' 'Панфиловский район'\n",
      " 'Алексеевский район' 'Ярославский Район' 'Район Марьина роща'\n",
      " 'Останкинский район' 'Район Ростокино' 'Район Свиблово' 'Мещанский район'\n",
      " 'Академический район' 'Район Черемушки' 'Район Ясенево' 'Район Коньково'\n",
      " 'Обручевский район' 'Район Теплый Стан' 'Район Аэропорт' 'Район Беговой'\n",
      " 'Хорошевский район' 'Район Сокол' 'Пресненский район'\n",
      " 'Район Чертаново Центральное' 'Район Чертаново Северное'\n",
      " 'Район Чертаново Южное' 'Донской район' 'Район Нагатино-Садовники'\n",
      " 'Нагорный район' 'Район Северное Бутово' 'Район Южное Бутово'\n",
      " 'Район Проспект Вернадского' 'Район Тропарево-Никулино'\n",
      " 'Район Гагаринский' 'Ломоносовский район' 'Район Якиманка'\n",
      " 'Поселение Сосенское' 'Район Раменки' 'Район Дорогомилово'\n",
      " 'Район Фили-Давыдково']\n"
     ]
    }
   ],
   "source": [
    "top_10_merged = top_10_streets.merge(street_data, on = 'streetname', how = 'left')\n",
    "top_10_merged['okrug'] = top_10_merged['okrug'].fillna('НАО')\n",
    "top_10_merged['area'] = top_10_merged['area'].fillna('Поселение Сосенское')\n",
    "display(top_10_merged)\n",
    "print('Список районов, в которых находятся улицы из списка топ-10:', top_10_merged['area'].unique())"
   ]
  },
  {
   "cell_type": "code",
   "execution_count": 15,
   "metadata": {},
   "outputs": [
    {
     "data": {
      "text/plain": [
       "<matplotlib.axes._subplots.AxesSubplot at 0x7f610dfa7f50>"
      ]
     },
     "execution_count": 15,
     "metadata": {},
     "output_type": "execute_result"
    },
    {
     "data": {
      "image/png": "[encoded data removed]",
      "text/plain": [
       "<Figure size 720x360 with 1 Axes>"
      ]
     },
     "metadata": {},
     "output_type": "display_data"
    }
   ],
   "source": [
    "plt.xlabel = 'Количество улиц'\n",
    "plt.ylabel = 'Район'\n",
    "top_10_merged.groupby('area').agg({'streetname': 'count'}).plot(kind = 'bar', legend = False)"
   ]
  },
  {
   "cell_type": "markdown",
   "metadata": {},
   "source": [
    "Видно, что только в нескольких районах есть больше одной улицы из списка топ-10 популярных."
   ]
  },
  {
   "cell_type": "markdown",
   "metadata": {},
   "source": [
    "#### Улицы с одним заведений\n",
    "По аналогии с предыдущим пунктом выделим улицы с одним объектом общественного питания и районы, где эти улицы находятся."
   ]
  },
  {
   "cell_type": "code",
   "execution_count": 16,
   "metadata": {
    "scrolled": false
   },
   "outputs": [
    {
     "data": {
      "text/html": [
       "<div>\n",
       "<style scoped>\n",
       "    .dataframe tbody tr th:only-of-type {\n",
       "        vertical-align: middle;\n",
       "    }\n",
       "\n",
       "    .dataframe tbody tr th {\n",
       "        vertical-align: top;\n",
       "    }\n",
       "\n",
       "    .dataframe thead th {\n",
       "        text-align: right;\n",
       "    }\n",
       "</style>\n",
       "<table border=\"1\" class=\"dataframe\">\n",
       "  <thead>\n",
       "    <tr style=\"text-align: right;\">\n",
       "      <th></th>\n",
       "      <th>streetname</th>\n",
       "      <th>Количество заведений</th>\n",
       "      <th>okrug</th>\n",
       "      <th>area</th>\n",
       "    </tr>\n",
       "  </thead>\n",
       "  <tbody>\n",
       "    <tr>\n",
       "      <td>0</td>\n",
       "      <td>1-й Балтийский переулок</td>\n",
       "      <td>1</td>\n",
       "      <td>САО</td>\n",
       "      <td>Район Аэропорт</td>\n",
       "    </tr>\n",
       "    <tr>\n",
       "      <td>1</td>\n",
       "      <td>1-й Басманный переулок</td>\n",
       "      <td>1</td>\n",
       "      <td>ЦАО</td>\n",
       "      <td>Басманный район</td>\n",
       "    </tr>\n",
       "    <tr>\n",
       "      <td>2</td>\n",
       "      <td>1-й Басманный переулок</td>\n",
       "      <td>1</td>\n",
       "      <td>ЦАО</td>\n",
       "      <td>Красносельский район</td>\n",
       "    </tr>\n",
       "    <tr>\n",
       "      <td>3</td>\n",
       "      <td>1-й Ботанический проезд</td>\n",
       "      <td>1</td>\n",
       "      <td>СВАО</td>\n",
       "      <td>Район Свиблово</td>\n",
       "    </tr>\n",
       "    <tr>\n",
       "      <td>4</td>\n",
       "      <td>1-й Вешняковский проезд</td>\n",
       "      <td>1</td>\n",
       "      <td>ЮВАО</td>\n",
       "      <td>Рязанский район</td>\n",
       "    </tr>\n",
       "    <tr>\n",
       "      <td>5</td>\n",
       "      <td>1-й Голутвинский переулок</td>\n",
       "      <td>1</td>\n",
       "      <td>ЦАО</td>\n",
       "      <td>Район Якиманка</td>\n",
       "    </tr>\n",
       "    <tr>\n",
       "      <td>6</td>\n",
       "      <td>1-й Зачатьевский переулок</td>\n",
       "      <td>1</td>\n",
       "      <td>ЦАО</td>\n",
       "      <td>Район Хамовники</td>\n",
       "    </tr>\n",
       "    <tr>\n",
       "      <td>7</td>\n",
       "      <td>1-й Кирпичный переулок</td>\n",
       "      <td>1</td>\n",
       "      <td>ВАО</td>\n",
       "      <td>Район Соколиная Гора</td>\n",
       "    </tr>\n",
       "    <tr>\n",
       "      <td>8</td>\n",
       "      <td>1-й Кожевнический переулок</td>\n",
       "      <td>1</td>\n",
       "      <td>ЮАО</td>\n",
       "      <td>Даниловский район</td>\n",
       "    </tr>\n",
       "    <tr>\n",
       "      <td>9</td>\n",
       "      <td>1-й Кожуховский проезд</td>\n",
       "      <td>1</td>\n",
       "      <td>ЮАО</td>\n",
       "      <td>Даниловский район</td>\n",
       "    </tr>\n",
       "  </tbody>\n",
       "</table>\n",
       "</div>"
      ],
      "text/plain": [
       "                   streetname  Количество заведений okrug  \\\n",
       "0     1-й Балтийский переулок                     1   САО   \n",
       "1      1-й Басманный переулок                     1   ЦАО   \n",
       "2      1-й Басманный переулок                     1   ЦАО   \n",
       "3     1-й Ботанический проезд                     1  СВАО   \n",
       "4     1-й Вешняковский проезд                     1  ЮВАО   \n",
       "5   1-й Голутвинский переулок                     1   ЦАО   \n",
       "6   1-й Зачатьевский переулок                     1   ЦАО   \n",
       "7      1-й Кирпичный переулок                     1   ВАО   \n",
       "8  1-й Кожевнический переулок                     1   ЮАО   \n",
       "9      1-й Кожуховский проезд                     1   ЮАО   \n",
       "\n",
       "                   area  \n",
       "0        Район Аэропорт  \n",
       "1       Басманный район  \n",
       "2  Красносельский район  \n",
       "3        Район Свиблово  \n",
       "4       Рязанский район  \n",
       "5        Район Якиманка  \n",
       "6       Район Хамовники  \n",
       "7  Район Соколиная Гора  \n",
       "8     Даниловский район  \n",
       "9     Даниловский район  "
      ]
     },
     "metadata": {},
     "output_type": "display_data"
    },
    {
     "name": "stdout",
     "output_type": "stream",
     "text": [
      "Список районов, в которых находятся улицы с одним заведением: ['Район Аэропорт' 'Басманный район' 'Красносельский район'\n",
      " 'Район Свиблово' 'Рязанский район' 'Район Якиманка' 'Район Хамовники'\n",
      " 'Район Соколиная Гора' 'Даниловский район' 'Мещанский район'\n",
      " 'Таганский район' 'Район Лефортово' 'Район Печатники' 'Район Сокольники'\n",
      " 'Район Замоскворечье' 'Хорошевский район' 'Район Арбат'\n",
      " 'Алексеевский район' 'Район Текстильщики' 'Район Ростокино'\n",
      " 'Район Раменки' 'Район Хорошево-Мневники' 'Район Покровское-Стрешнево'\n",
      " 'Район Марьина роща' 'Район Богородское' 'Нижегородский район'\n",
      " 'Тверской район' 'Лосиноостровский район' 'Район Преображенское'\n",
      " 'Район Ново-Переделкино' nan 'Район Измайлово' 'Район Северное Измайлово'\n",
      " 'Район Восточное Измайлово' 'Район Беговой' 'Донской район'\n",
      " 'Район Гольяново' 'Войковский Район' 'Савеловский район'\n",
      " 'Район Филевский Парк' 'Район Перово' 'Район Чертаново Южное'\n",
      " 'Южнопортовый Район' 'Головинский район' 'Район Южное Бутово'\n",
      " 'Останкинский район' 'Район Сокол' 'Район Северный' 'Район Кунцево'\n",
      " 'Район Люблино' 'Тимирязевский Район' 'Район Внуково'\n",
      " 'Бескудниковский Район' 'Район Зюзино' 'Пресненский район'\n",
      " 'Район Солнцево' 'Дмитровский район' 'Район Метрогородок' 'Район Митино'\n",
      " 'Район Нагатино-Садовники' 'Можайский Район' 'Район Кузьминки'\n",
      " 'Район Черемушки' 'Район Косино-Ухтомский' 'Район Коптево'\n",
      " 'Район Выхино-Жулебино' 'Район Куркино' 'Ярославский Район'\n",
      " 'Район Бирюлево Восточное' 'Район Гагаринский' 'Район Котловка'\n",
      " 'Район Южное Тушино' 'Район Строгино' 'Район Отрадное'\n",
      " 'Бабушкинский район' 'Район Дорогомилово' 'Район Марьино'\n",
      " 'Район Левобережный' 'Молжаниновский район' 'Район Ивановское'\n",
      " 'Район Западное Дегунино' 'Район Северное Медведково' 'Нагорный район'\n",
      " 'Район Матушкино-Савелки' 'Район Новогиреево' 'Алтуфьевский район'\n",
      " 'Район Чертаново Северное' 'Район Ясенево' 'Район Северное Бутово'\n",
      " 'Район Южное Медведково' 'Район Восточный' 'Бутырский район'\n",
      " 'Район Коньково' 'Район Марфино' 'Обручевский район' 'Район Щукино'\n",
      " 'Район Фили-Давыдково' 'Район Москворечье-Сабурово' 'Район Царицыно'\n",
      " 'Район Очаково-Матвеевское']\n"
     ]
    }
   ],
   "source": [
    "one_shop_str = data.groupby('streetname').agg({'id': 'count'}).query('id == 1')\\\n",
    "                     .reset_index().rename(columns = {'id': 'Количество заведений'})\n",
    "one_shop_str_merged = one_shop_str.merge(street_data, on = 'streetname', how = 'left')\n",
    "display(one_shop_str_merged.head(10))\n",
    "print('Список районов, в которых находятся улицы с одним заведением:', one_shop_str_merged['area'].unique())"
   ]
  },
  {
   "cell_type": "code",
   "execution_count": 17,
   "metadata": {},
   "outputs": [
    {
     "data": {
      "text/plain": [
       "<matplotlib.axes._subplots.AxesSubplot at 0x7f610e0f9210>"
      ]
     },
     "execution_count": 17,
     "metadata": {},
     "output_type": "execute_result"
    },
    {
     "data": {
      "image/png": "[encoded data removed]",
      "text/plain": [
       "<Figure size 1440x360 with 1 Axes>"
      ]
     },
     "metadata": {},
     "output_type": "display_data"
    }
   ],
   "source": [
    "plt.xlabel = 'Количество улиц'\n",
    "plt.ylabel = 'Район'\n",
    "one_shop_str_merged.groupby('area').agg({'streetname': 'count'}).plot(kind = 'bar', figsize = (20, 5), legend = False)"
   ]
  },
  {
   "cell_type": "markdown",
   "metadata": {},
   "source": [
    "Видим довольно много районов, в которых 5 и больше улиц с одним заведением питания."
   ]
  },
  {
   "cell_type": "markdown",
   "metadata": {},
   "source": [
    "### Распределение посадочных мест в заведениях топ-10 улиц"
   ]
  },
  {
   "cell_type": "code",
   "execution_count": 18,
   "metadata": {},
   "outputs": [
    {
     "data": {
      "text/plain": [
       "[Text(0, 0, 'Варшавское шоссе'),\n",
       " Text(0, 0, 'проспект Вернадского'),\n",
       " Text(0, 0, 'Кутузовский проспект'),\n",
       " Text(0, 0, 'Ленинградский проспект'),\n",
       " Text(0, 0, 'Ленинский проспект'),\n",
       " Text(0, 0, 'проспект Мира'),\n",
       " Text(0, 0, 'Профсоюзная улица'),\n",
       " Text(0, 0, 'город Зеленоград'),\n",
       " Text(0, 0, 'поселение Сосенское'),\n",
       " Text(0, 0, 'Пресненская набережная')]"
      ]
     },
     "execution_count": 18,
     "metadata": {},
     "output_type": "execute_result"
    },
    {
     "data": {
      "image/png": "[encoded data removed]",
      "text/plain": [
       "<Figure size 1440x720 with 1 Axes>"
      ]
     },
     "metadata": {},
     "output_type": "display_data"
    }
   ],
   "source": [
    "top_10_str_names = top_10_streets['streetname']\n",
    "sns.set(rc = {'figure.figsize':(20,10)})\n",
    "ax = sns.boxplot(x = 'streetname', y = 'number', data = data[['number', 'streetname']].query('streetname in @top_10_str_names'))\n",
    "ax.set_xticklabels(ax.get_xticklabels(), rotation = 45)"
   ]
  },
  {
   "cell_type": "markdown",
   "metadata": {},
   "source": [
    "Видно, что медианные значения количества посадочных мест в заведениях, расположенных на улицах из списка топ-10 примерно равны. Значительно меньше остальных этот показатель только на **Варшавском шоссе**, **Пресненской набережной** и в **поселении Сосенском**."
   ]
  },
  {
   "cell_type": "markdown",
   "metadata": {},
   "source": [
    "## Выводы"
   ]
  },
  {
   "cell_type": "markdown",
   "metadata": {},
   "source": [
    "По итогам исследования можно сделать следующий вывод:\n",
    "* Наиболее популярные типы заведений - кафе, столовые, рестораны и предприятия быстрого обслуживания;\n",
    "* Распространенное количество посадочных мест в подобных заведениях - от 40 до 130;\n",
    "* Выгодным расположением из популярных улиц можно назвать Варшавское шоссе, Пресненскую набережную и поселение Сосенское;\n",
    "* Если рассматривать улицы с маленьким количеством заведений, необходимо провести дополнительное исследование и уточнить, с чем связана невысокая популярность мест - с низкой проходимостью или другими факторами. Возможно, при выборе менее популярного места удастся снизить расходы на аренду."
   ]
  },
  {
   "cell_type": "markdown",
   "metadata": {},
   "source": [
    "Презентация: https://drive.google.com/file/d/10n95XJ44wNOTWn90hObD25K3DusUH0Ps/view?usp=sharing"
   ]
  }
 ],
 "metadata": {
  "ExecuteTimeLog": [
   {
    "duration": 576,
    "start_time": "2022-03-03T10:18:46.830Z"
   },
   {
    "duration": 43,
    "start_time": "2022-03-03T10:19:22.858Z"
   },
   {
    "duration": 45,
    "start_time": "2022-03-03T10:19:32.506Z"
   },
   {
    "duration": 12,
    "start_time": "2022-03-03T10:43:07.167Z"
   },
   {
    "duration": 9,
    "start_time": "2022-03-03T10:55:18.195Z"
   },
   {
    "duration": 2,
    "start_time": "2022-03-03T10:59:22.478Z"
   },
   {
    "duration": 2,
    "start_time": "2022-03-03T11:17:25.776Z"
   },
   {
    "duration": 45,
    "start_time": "2022-03-03T11:17:26.404Z"
   },
   {
    "duration": 9,
    "start_time": "2022-03-03T11:17:26.860Z"
   },
   {
    "duration": 4,
    "start_time": "2022-03-03T11:17:32.948Z"
   },
   {
    "duration": 46,
    "start_time": "2022-03-03T11:17:33.353Z"
   },
   {
    "duration": 10,
    "start_time": "2022-03-03T11:17:33.619Z"
   },
   {
    "duration": 3,
    "start_time": "2022-03-03T11:17:57.062Z"
   },
   {
    "duration": 16,
    "start_time": "2022-03-03T11:40:50.963Z"
   },
   {
    "duration": 13,
    "start_time": "2022-03-03T11:40:55.310Z"
   },
   {
    "duration": 12,
    "start_time": "2022-03-03T11:45:14.296Z"
   },
   {
    "duration": 378,
    "start_time": "2022-03-03T11:50:52.303Z"
   },
   {
    "duration": 4,
    "start_time": "2022-03-03T11:50:59.123Z"
   },
   {
    "duration": 307,
    "start_time": "2022-03-03T11:51:42.185Z"
   },
   {
    "duration": 305,
    "start_time": "2022-03-03T11:51:47.863Z"
   },
   {
    "duration": 4,
    "start_time": "2022-03-03T11:53:06.691Z"
   },
   {
    "duration": 7,
    "start_time": "2022-03-03T11:53:33.355Z"
   },
   {
    "duration": 4,
    "start_time": "2022-03-03T11:53:43.752Z"
   },
   {
    "duration": 5,
    "start_time": "2022-03-03T11:53:46.909Z"
   },
   {
    "duration": 15,
    "start_time": "2022-03-03T11:55:11.244Z"
   },
   {
    "duration": 15,
    "start_time": "2022-03-03T11:56:10.132Z"
   },
   {
    "duration": 12,
    "start_time": "2022-03-03T11:56:34.661Z"
   },
   {
    "duration": 13,
    "start_time": "2022-03-03T11:56:38.229Z"
   },
   {
    "duration": 573,
    "start_time": "2022-03-03T12:08:35.278Z"
   },
   {
    "duration": 46,
    "start_time": "2022-03-03T12:08:35.852Z"
   },
   {
    "duration": 14,
    "start_time": "2022-03-03T12:08:35.899Z"
   },
   {
    "duration": 19,
    "start_time": "2022-03-03T12:08:35.914Z"
   },
   {
    "duration": 13,
    "start_time": "2022-03-03T12:08:35.935Z"
   },
   {
    "duration": 359,
    "start_time": "2022-03-03T12:26:16.513Z"
   },
   {
    "duration": 312,
    "start_time": "2022-03-03T12:27:34.845Z"
   },
   {
    "duration": 292,
    "start_time": "2022-03-03T12:27:51.257Z"
   },
   {
    "duration": 24,
    "start_time": "2022-03-03T12:28:29.289Z"
   },
   {
    "duration": 585,
    "start_time": "2022-03-03T12:28:44.003Z"
   },
   {
    "duration": 47,
    "start_time": "2022-03-03T12:28:44.590Z"
   },
   {
    "duration": 13,
    "start_time": "2022-03-03T12:28:44.639Z"
   },
   {
    "duration": 16,
    "start_time": "2022-03-03T12:28:44.654Z"
   },
   {
    "duration": 13,
    "start_time": "2022-03-03T12:28:44.671Z"
   },
   {
    "duration": 36,
    "start_time": "2022-03-03T12:28:44.685Z"
   },
   {
    "duration": 15,
    "start_time": "2022-03-03T12:28:44.723Z"
   },
   {
    "duration": 27,
    "start_time": "2022-03-03T12:28:56.759Z"
   },
   {
    "duration": 14,
    "start_time": "2022-03-03T12:28:57.431Z"
   },
   {
    "duration": 271,
    "start_time": "2022-03-11T14:32:39.040Z"
   },
   {
    "duration": 650,
    "start_time": "2022-03-11T14:32:44.353Z"
   },
   {
    "duration": 52,
    "start_time": "2022-03-11T14:32:45.006Z"
   },
   {
    "duration": 19,
    "start_time": "2022-03-11T14:32:45.060Z"
   },
   {
    "duration": 33,
    "start_time": "2022-03-11T14:32:45.081Z"
   },
   {
    "duration": 17,
    "start_time": "2022-03-11T14:32:45.115Z"
   },
   {
    "duration": 41,
    "start_time": "2022-03-11T14:32:45.134Z"
   },
   {
    "duration": 9,
    "start_time": "2022-03-11T14:32:45.177Z"
   },
   {
    "duration": 15,
    "start_time": "2022-03-11T14:33:21.286Z"
   },
   {
    "duration": 32,
    "start_time": "2022-03-11T14:34:31.214Z"
   },
   {
    "duration": 7,
    "start_time": "2022-03-11T14:34:52.701Z"
   },
   {
    "duration": 19,
    "start_time": "2022-03-11T14:35:53.263Z"
   },
   {
    "duration": 298,
    "start_time": "2022-03-11T14:37:27.074Z"
   },
   {
    "duration": 5738,
    "start_time": "2022-03-11T14:37:44.676Z"
   },
   {
    "duration": 5794,
    "start_time": "2022-03-11T14:38:16.942Z"
   },
   {
    "duration": 18,
    "start_time": "2022-03-11T14:39:03.750Z"
   },
   {
    "duration": 10,
    "start_time": "2022-03-11T14:39:08.595Z"
   },
   {
    "duration": 19,
    "start_time": "2022-03-11T14:39:17.209Z"
   },
   {
    "duration": 18,
    "start_time": "2022-03-11T14:40:48.026Z"
   },
   {
    "duration": 562,
    "start_time": "2022-03-11T14:42:26.599Z"
   },
   {
    "duration": 50,
    "start_time": "2022-03-11T14:42:27.164Z"
   },
   {
    "duration": 15,
    "start_time": "2022-03-11T14:42:27.216Z"
   },
   {
    "duration": 20,
    "start_time": "2022-03-11T14:42:27.233Z"
   },
   {
    "duration": 34,
    "start_time": "2022-03-11T14:42:27.255Z"
   },
   {
    "duration": 17,
    "start_time": "2022-03-11T14:42:27.291Z"
   },
   {
    "duration": 21,
    "start_time": "2022-03-11T14:42:27.309Z"
   },
   {
    "duration": 6,
    "start_time": "2022-03-11T14:43:21.767Z"
   },
   {
    "duration": 18,
    "start_time": "2022-03-11T14:43:29.636Z"
   },
   {
    "duration": 18,
    "start_time": "2022-03-11T14:43:43.178Z"
   },
   {
    "duration": 7,
    "start_time": "2022-03-11T14:44:21.520Z"
   },
   {
    "duration": 15,
    "start_time": "2022-03-11T14:45:14.402Z"
   },
   {
    "duration": 14,
    "start_time": "2022-03-11T14:45:32.482Z"
   },
   {
    "duration": 6961,
    "start_time": "2022-03-11T14:47:06.185Z"
   },
   {
    "duration": 14,
    "start_time": "2022-03-11T14:47:23.018Z"
   },
   {
    "duration": 3271,
    "start_time": "2022-03-11T14:47:38.360Z"
   },
   {
    "duration": 22,
    "start_time": "2022-03-11T14:47:51.725Z"
   },
   {
    "duration": 15,
    "start_time": "2022-03-11T14:48:58.475Z"
   },
   {
    "duration": 19,
    "start_time": "2022-03-11T14:49:10.914Z"
   },
   {
    "duration": 15,
    "start_time": "2022-03-11T14:49:21.444Z"
   },
   {
    "duration": 17,
    "start_time": "2022-03-11T14:49:34.523Z"
   },
   {
    "duration": 7,
    "start_time": "2022-03-11T14:49:39.260Z"
   },
   {
    "duration": 22,
    "start_time": "2022-03-11T14:53:09.140Z"
   },
   {
    "duration": 17,
    "start_time": "2022-03-11T14:53:18.298Z"
   },
   {
    "duration": 541,
    "start_time": "2022-03-11T14:53:23.909Z"
   },
   {
    "duration": 45,
    "start_time": "2022-03-11T14:53:24.452Z"
   },
   {
    "duration": 15,
    "start_time": "2022-03-11T14:53:24.500Z"
   },
   {
    "duration": 17,
    "start_time": "2022-03-11T14:53:24.517Z"
   },
   {
    "duration": 46,
    "start_time": "2022-03-11T14:53:24.536Z"
   },
   {
    "duration": 17,
    "start_time": "2022-03-11T14:53:24.584Z"
   },
   {
    "duration": 7,
    "start_time": "2022-03-11T14:53:24.602Z"
   },
   {
    "duration": 13,
    "start_time": "2022-03-11T14:54:58.749Z"
   },
   {
    "duration": 586,
    "start_time": "2022-03-11T14:55:05.384Z"
   },
   {
    "duration": 47,
    "start_time": "2022-03-11T14:55:05.972Z"
   },
   {
    "duration": 19,
    "start_time": "2022-03-11T14:55:06.022Z"
   },
   {
    "duration": 34,
    "start_time": "2022-03-11T14:55:06.044Z"
   },
   {
    "duration": 32,
    "start_time": "2022-03-11T14:55:06.079Z"
   },
   {
    "duration": 26,
    "start_time": "2022-03-11T14:55:06.112Z"
   },
   {
    "duration": 7,
    "start_time": "2022-03-11T14:55:06.139Z"
   },
   {
    "duration": 15,
    "start_time": "2022-03-11T14:55:10.871Z"
   },
   {
    "duration": 574,
    "start_time": "2022-03-11T14:55:14.923Z"
   },
   {
    "duration": 55,
    "start_time": "2022-03-11T14:55:15.499Z"
   },
   {
    "duration": 20,
    "start_time": "2022-03-11T14:55:15.556Z"
   },
   {
    "duration": 20,
    "start_time": "2022-03-11T14:55:15.578Z"
   },
   {
    "duration": 31,
    "start_time": "2022-03-11T14:55:15.599Z"
   },
   {
    "duration": 34,
    "start_time": "2022-03-11T14:55:15.632Z"
   },
   {
    "duration": 6,
    "start_time": "2022-03-11T14:55:15.668Z"
   },
   {
    "duration": 306,
    "start_time": "2022-03-11T15:11:36.551Z"
   },
   {
    "duration": 231,
    "start_time": "2022-03-11T15:15:56.499Z"
   },
   {
    "duration": 235,
    "start_time": "2022-03-11T15:16:37.875Z"
   },
   {
    "duration": 271,
    "start_time": "2022-03-11T15:17:44.314Z"
   },
   {
    "duration": 243,
    "start_time": "2022-03-11T15:17:49.202Z"
   },
   {
    "duration": 262,
    "start_time": "2022-03-11T16:52:16.199Z"
   },
   {
    "duration": 268,
    "start_time": "2022-03-11T17:05:28.732Z"
   },
   {
    "duration": 269,
    "start_time": "2022-03-11T17:05:41.150Z"
   },
   {
    "duration": 4,
    "start_time": "2022-03-11T17:05:47.069Z"
   },
   {
    "duration": 539,
    "start_time": "2022-03-11T17:05:51.409Z"
   },
   {
    "duration": 47,
    "start_time": "2022-03-11T17:05:51.950Z"
   },
   {
    "duration": 17,
    "start_time": "2022-03-11T17:05:51.999Z"
   },
   {
    "duration": 17,
    "start_time": "2022-03-11T17:05:52.018Z"
   },
   {
    "duration": 47,
    "start_time": "2022-03-11T17:05:52.037Z"
   },
   {
    "duration": 16,
    "start_time": "2022-03-11T17:05:52.085Z"
   },
   {
    "duration": 7,
    "start_time": "2022-03-11T17:05:52.102Z"
   },
   {
    "duration": 361,
    "start_time": "2022-03-11T17:05:52.110Z"
   },
   {
    "duration": 15,
    "start_time": "2022-03-11T17:40:05.556Z"
   },
   {
    "duration": 345,
    "start_time": "2022-03-11T17:41:02.616Z"
   },
   {
    "duration": 28,
    "start_time": "2022-03-11T17:42:01.037Z"
   },
   {
    "duration": 627,
    "start_time": "2022-03-11T17:42:09.775Z"
   },
   {
    "duration": 48,
    "start_time": "2022-03-11T17:42:10.404Z"
   },
   {
    "duration": 21,
    "start_time": "2022-03-11T17:42:10.455Z"
   },
   {
    "duration": 25,
    "start_time": "2022-03-11T17:42:10.478Z"
   },
   {
    "duration": 31,
    "start_time": "2022-03-11T17:42:10.504Z"
   },
   {
    "duration": 37,
    "start_time": "2022-03-11T17:42:10.537Z"
   },
   {
    "duration": 7,
    "start_time": "2022-03-11T17:42:10.575Z"
   },
   {
    "duration": 353,
    "start_time": "2022-03-11T17:42:10.584Z"
   },
   {
    "duration": 25,
    "start_time": "2022-03-11T17:42:10.940Z"
   },
   {
    "duration": 13,
    "start_time": "2022-03-11T17:45:18.818Z"
   },
   {
    "duration": 15,
    "start_time": "2022-03-11T17:51:45.968Z"
   },
   {
    "duration": 452,
    "start_time": "2022-03-11T17:54:40.681Z"
   },
   {
    "duration": 589,
    "start_time": "2022-03-11T17:59:32.409Z"
   },
   {
    "duration": 3,
    "start_time": "2022-03-11T18:00:18.911Z"
   },
   {
    "duration": 1164,
    "start_time": "2022-03-11T18:00:23.751Z"
   },
   {
    "duration": 50,
    "start_time": "2022-03-11T18:00:24.917Z"
   },
   {
    "duration": 13,
    "start_time": "2022-03-11T18:00:24.971Z"
   },
   {
    "duration": 27,
    "start_time": "2022-03-11T18:00:24.986Z"
   },
   {
    "duration": 61,
    "start_time": "2022-03-11T18:00:25.015Z"
   },
   {
    "duration": 19,
    "start_time": "2022-03-11T18:00:25.077Z"
   },
   {
    "duration": 8,
    "start_time": "2022-03-11T18:00:25.098Z"
   },
   {
    "duration": 291,
    "start_time": "2022-03-11T18:00:25.108Z"
   },
   {
    "duration": 622,
    "start_time": "2022-03-11T18:00:25.401Z"
   },
   {
    "duration": 3,
    "start_time": "2022-03-11T18:01:32.458Z"
   },
   {
    "duration": 1149,
    "start_time": "2022-03-11T18:01:36.339Z"
   },
   {
    "duration": 45,
    "start_time": "2022-03-11T18:01:37.490Z"
   },
   {
    "duration": 13,
    "start_time": "2022-03-11T18:01:37.537Z"
   },
   {
    "duration": 36,
    "start_time": "2022-03-11T18:01:37.551Z"
   },
   {
    "duration": 32,
    "start_time": "2022-03-11T18:01:37.588Z"
   },
   {
    "duration": 18,
    "start_time": "2022-03-11T18:01:37.622Z"
   },
   {
    "duration": 23,
    "start_time": "2022-03-11T18:01:37.642Z"
   },
   {
    "duration": 283,
    "start_time": "2022-03-11T18:01:37.667Z"
   },
   {
    "duration": 373,
    "start_time": "2022-03-11T18:01:37.952Z"
   },
   {
    "duration": 32,
    "start_time": "2022-03-11T18:15:11.555Z"
   },
   {
    "duration": 15,
    "start_time": "2022-03-11T18:15:48.998Z"
   },
   {
    "duration": 7,
    "start_time": "2022-03-11T18:16:33.517Z"
   },
   {
    "duration": 1107,
    "start_time": "2022-03-11T18:16:39.102Z"
   },
   {
    "duration": 48,
    "start_time": "2022-03-11T18:16:40.212Z"
   },
   {
    "duration": 12,
    "start_time": "2022-03-11T18:16:40.263Z"
   },
   {
    "duration": 26,
    "start_time": "2022-03-11T18:16:40.277Z"
   },
   {
    "duration": 30,
    "start_time": "2022-03-11T18:16:40.305Z"
   },
   {
    "duration": 35,
    "start_time": "2022-03-11T18:16:40.337Z"
   },
   {
    "duration": 6,
    "start_time": "2022-03-11T18:16:40.374Z"
   },
   {
    "duration": 285,
    "start_time": "2022-03-11T18:16:40.382Z"
   },
   {
    "duration": 357,
    "start_time": "2022-03-11T18:16:40.669Z"
   },
   {
    "duration": 554,
    "start_time": "2022-03-11T18:17:22.451Z"
   },
   {
    "duration": 346,
    "start_time": "2022-03-11T18:17:36.505Z"
   },
   {
    "duration": 516,
    "start_time": "2022-03-11T18:18:30.495Z"
   },
   {
    "duration": 406,
    "start_time": "2022-03-11T18:18:53.020Z"
   },
   {
    "duration": 474,
    "start_time": "2022-03-11T18:19:37.256Z"
   },
   {
    "duration": 141,
    "start_time": "2022-03-11T18:23:06.952Z"
   },
   {
    "duration": 354,
    "start_time": "2022-03-11T18:23:18.053Z"
   },
   {
    "duration": 407,
    "start_time": "2022-03-11T18:23:57.482Z"
   },
   {
    "duration": 347,
    "start_time": "2022-03-11T18:24:32.130Z"
   },
   {
    "duration": 348,
    "start_time": "2022-03-11T18:25:16.085Z"
   },
   {
    "duration": 353,
    "start_time": "2022-03-11T18:25:18.599Z"
   },
   {
    "duration": 5,
    "start_time": "2022-03-11T18:25:58.249Z"
   },
   {
    "duration": 4,
    "start_time": "2022-03-11T18:26:07.136Z"
   },
   {
    "duration": 1086,
    "start_time": "2022-03-11T18:26:12.008Z"
   },
   {
    "duration": 45,
    "start_time": "2022-03-11T18:26:13.096Z"
   },
   {
    "duration": 20,
    "start_time": "2022-03-11T18:26:13.143Z"
   },
   {
    "duration": 24,
    "start_time": "2022-03-11T18:26:13.164Z"
   },
   {
    "duration": 30,
    "start_time": "2022-03-11T18:26:13.190Z"
   },
   {
    "duration": 19,
    "start_time": "2022-03-11T18:26:13.222Z"
   },
   {
    "duration": 26,
    "start_time": "2022-03-11T18:26:13.242Z"
   },
   {
    "duration": 361,
    "start_time": "2022-03-11T18:26:13.269Z"
   },
   {
    "duration": 611,
    "start_time": "2022-03-11T18:26:13.632Z"
   },
   {
    "duration": 317,
    "start_time": "2022-03-11T18:48:38.654Z"
   },
   {
    "duration": 12,
    "start_time": "2022-03-11T18:49:00.333Z"
   },
   {
    "duration": 15,
    "start_time": "2022-03-11T18:49:06.384Z"
   },
   {
    "duration": 14,
    "start_time": "2022-03-11T18:49:52.087Z"
   },
   {
    "duration": 301,
    "start_time": "2022-03-11T18:49:59.562Z"
   },
   {
    "duration": 16,
    "start_time": "2022-03-11T18:50:11.232Z"
   },
   {
    "duration": 17,
    "start_time": "2022-03-11T18:50:44.084Z"
   },
   {
    "duration": 16,
    "start_time": "2022-03-11T18:51:24.126Z"
   },
   {
    "duration": 296,
    "start_time": "2022-03-11T18:51:31.629Z"
   },
   {
    "duration": 296,
    "start_time": "2022-03-11T18:51:57.094Z"
   },
   {
    "duration": 125,
    "start_time": "2022-03-11T18:52:16.168Z"
   },
   {
    "duration": 297,
    "start_time": "2022-03-11T18:52:21.150Z"
   },
   {
    "duration": 470,
    "start_time": "2022-03-11T18:52:38.457Z"
   },
   {
    "duration": 300,
    "start_time": "2022-03-11T18:53:07.265Z"
   },
   {
    "duration": 249,
    "start_time": "2022-03-11T18:54:37.821Z"
   },
   {
    "duration": 289,
    "start_time": "2022-03-11T18:54:50.700Z"
   },
   {
    "duration": 300,
    "start_time": "2022-03-11T18:54:58.689Z"
   },
   {
    "duration": 332,
    "start_time": "2022-03-11T18:56:18.660Z"
   },
   {
    "duration": 326,
    "start_time": "2022-03-11T18:57:15.765Z"
   },
   {
    "duration": 25,
    "start_time": "2022-03-11T19:22:50.884Z"
   },
   {
    "duration": 27,
    "start_time": "2022-03-11T19:25:44.047Z"
   },
   {
    "duration": 25,
    "start_time": "2022-03-11T19:27:23.820Z"
   },
   {
    "duration": 1484,
    "start_time": "2022-03-11T19:27:31.291Z"
   },
   {
    "duration": 69,
    "start_time": "2022-03-11T19:27:32.778Z"
   },
   {
    "duration": 24,
    "start_time": "2022-03-11T19:27:32.852Z"
   },
   {
    "duration": 25,
    "start_time": "2022-03-11T19:27:32.878Z"
   },
   {
    "duration": 37,
    "start_time": "2022-03-11T19:27:32.905Z"
   },
   {
    "duration": 33,
    "start_time": "2022-03-11T19:27:32.944Z"
   },
   {
    "duration": 7,
    "start_time": "2022-03-11T19:27:32.979Z"
   },
   {
    "duration": 384,
    "start_time": "2022-03-11T19:27:32.989Z"
   },
   {
    "duration": 475,
    "start_time": "2022-03-11T19:27:33.375Z"
   },
   {
    "duration": 347,
    "start_time": "2022-03-11T19:27:33.852Z"
   },
   {
    "duration": 31,
    "start_time": "2022-03-11T19:27:34.201Z"
   },
   {
    "duration": 26,
    "start_time": "2022-03-11T19:33:36.816Z"
   },
   {
    "duration": 97,
    "start_time": "2022-03-11T19:34:19.898Z"
   },
   {
    "duration": 359,
    "start_time": "2022-03-11T19:34:23.849Z"
   },
   {
    "duration": 83,
    "start_time": "2022-03-11T19:35:27.249Z"
   },
   {
    "duration": 26,
    "start_time": "2022-03-11T19:35:33.037Z"
   },
   {
    "duration": 240,
    "start_time": "2022-03-11T19:35:48.406Z"
   },
   {
    "duration": 23,
    "start_time": "2022-03-11T19:35:54.704Z"
   },
   {
    "duration": 18,
    "start_time": "2022-03-11T19:36:28.304Z"
   },
   {
    "duration": 297,
    "start_time": "2022-03-11T19:36:56.096Z"
   },
   {
    "duration": 16,
    "start_time": "2022-03-11T19:40:20.511Z"
   },
   {
    "duration": 13,
    "start_time": "2022-03-11T19:40:58.858Z"
   },
   {
    "duration": 14,
    "start_time": "2022-03-11T19:41:06.912Z"
   },
   {
    "duration": 1099,
    "start_time": "2022-03-11T19:42:11.500Z"
   },
   {
    "duration": 45,
    "start_time": "2022-03-11T19:42:12.601Z"
   },
   {
    "duration": 26,
    "start_time": "2022-03-11T19:42:12.650Z"
   },
   {
    "duration": 26,
    "start_time": "2022-03-11T19:42:12.677Z"
   },
   {
    "duration": 30,
    "start_time": "2022-03-11T19:42:12.705Z"
   },
   {
    "duration": 38,
    "start_time": "2022-03-11T19:42:12.737Z"
   },
   {
    "duration": 7,
    "start_time": "2022-03-11T19:42:12.777Z"
   },
   {
    "duration": 370,
    "start_time": "2022-03-11T19:42:12.787Z"
   },
   {
    "duration": 515,
    "start_time": "2022-03-11T19:42:13.163Z"
   },
   {
    "duration": 325,
    "start_time": "2022-03-11T19:42:13.680Z"
   },
   {
    "duration": 28,
    "start_time": "2022-03-11T19:42:14.006Z"
   },
   {
    "duration": 33,
    "start_time": "2022-03-11T19:42:14.035Z"
   },
   {
    "duration": 10,
    "start_time": "2022-03-11T19:54:15.515Z"
   },
   {
    "duration": 14,
    "start_time": "2022-03-11T19:54:19.191Z"
   },
   {
    "duration": 1403,
    "start_time": "2022-03-11T21:29:52.172Z"
   },
   {
    "duration": 4874,
    "start_time": "2022-03-11T21:32:25.548Z"
   },
   {
    "duration": 4766,
    "start_time": "2022-03-11T21:33:08.674Z"
   },
   {
    "duration": 4804,
    "start_time": "2022-03-11T21:33:22.833Z"
   },
   {
    "duration": 1012,
    "start_time": "2022-03-11T21:34:59.837Z"
   },
   {
    "duration": 725,
    "start_time": "2022-03-11T21:37:20.547Z"
   },
   {
    "duration": 820,
    "start_time": "2022-03-11T21:39:17.206Z"
   },
   {
    "duration": 879,
    "start_time": "2022-03-11T21:42:12.556Z"
   },
   {
    "duration": 258,
    "start_time": "2022-03-11T21:42:35.362Z"
   },
   {
    "duration": 1371,
    "start_time": "2022-03-11T21:42:47.167Z"
   },
   {
    "duration": 55,
    "start_time": "2022-03-11T21:42:48.540Z"
   },
   {
    "duration": 13,
    "start_time": "2022-03-11T21:42:48.598Z"
   },
   {
    "duration": 33,
    "start_time": "2022-03-11T21:42:48.613Z"
   },
   {
    "duration": 50,
    "start_time": "2022-03-11T21:42:48.647Z"
   },
   {
    "duration": 18,
    "start_time": "2022-03-11T21:42:48.698Z"
   },
   {
    "duration": 8,
    "start_time": "2022-03-11T21:42:48.717Z"
   },
   {
    "duration": 482,
    "start_time": "2022-03-11T21:42:48.726Z"
   },
   {
    "duration": 548,
    "start_time": "2022-03-11T21:42:49.211Z"
   },
   {
    "duration": 418,
    "start_time": "2022-03-11T21:42:49.761Z"
   },
   {
    "duration": 32,
    "start_time": "2022-03-11T21:42:50.182Z"
   },
   {
    "duration": 18,
    "start_time": "2022-03-11T21:42:50.216Z"
   },
   {
    "duration": 814,
    "start_time": "2022-03-11T21:42:50.235Z"
   },
   {
    "duration": 17,
    "start_time": "2022-03-11T21:42:51.050Z"
   },
   {
    "duration": 16,
    "start_time": "2022-03-11T21:49:06.987Z"
   },
   {
    "duration": 19,
    "start_time": "2022-03-11T21:49:11.325Z"
   },
   {
    "duration": 15,
    "start_time": "2022-03-11T21:52:24.806Z"
   },
   {
    "duration": 16,
    "start_time": "2022-03-11T22:00:19.926Z"
   },
   {
    "duration": 15,
    "start_time": "2022-03-11T22:00:29.192Z"
   },
   {
    "duration": 18,
    "start_time": "2022-03-11T22:01:26.092Z"
   },
   {
    "duration": 13,
    "start_time": "2022-03-11T22:01:44.968Z"
   },
   {
    "duration": 634,
    "start_time": "2022-03-11T22:04:20.123Z"
   },
   {
    "duration": 839,
    "start_time": "2022-03-11T22:04:44.972Z"
   },
   {
    "duration": 637,
    "start_time": "2022-03-11T22:05:20.910Z"
   },
   {
    "duration": 929,
    "start_time": "2022-03-11T22:05:34.429Z"
   },
   {
    "duration": 19,
    "start_time": "2022-03-11T22:07:13.061Z"
   },
   {
    "duration": 10,
    "start_time": "2022-03-11T22:17:29.103Z"
   },
   {
    "duration": 10,
    "start_time": "2022-03-11T22:17:37.039Z"
   },
   {
    "duration": 11,
    "start_time": "2022-03-11T22:17:43.092Z"
   },
   {
    "duration": 7,
    "start_time": "2022-03-11T22:18:17.624Z"
   },
   {
    "duration": 19,
    "start_time": "2022-03-11T22:18:21.205Z"
   },
   {
    "duration": 11,
    "start_time": "2022-03-11T22:18:50.861Z"
   },
   {
    "duration": 19,
    "start_time": "2022-03-11T22:18:57.641Z"
   },
   {
    "duration": 19,
    "start_time": "2022-03-11T22:19:12.678Z"
   },
   {
    "duration": 943,
    "start_time": "2022-03-11T22:22:37.880Z"
   },
   {
    "duration": 374,
    "start_time": "2022-03-11T22:25:17.252Z"
   },
   {
    "duration": 10,
    "start_time": "2022-03-11T22:25:21.972Z"
   },
   {
    "duration": 663,
    "start_time": "2022-03-11T22:25:35.453Z"
   },
   {
    "duration": 724,
    "start_time": "2022-03-11T22:28:36.124Z"
   },
   {
    "duration": 676,
    "start_time": "2022-03-11T22:28:46.423Z"
   },
   {
    "duration": 19,
    "start_time": "2022-03-11T22:34:52.040Z"
   },
   {
    "duration": 22,
    "start_time": "2022-03-11T22:36:00.927Z"
   },
   {
    "duration": 685,
    "start_time": "2022-03-11T22:36:06.122Z"
   },
   {
    "duration": 16,
    "start_time": "2022-03-11T22:47:08.220Z"
   },
   {
    "duration": 16,
    "start_time": "2022-03-11T22:47:24.962Z"
   },
   {
    "duration": 25,
    "start_time": "2022-03-11T22:50:04.052Z"
   },
   {
    "duration": 5369,
    "start_time": "2022-03-11T22:50:37.412Z"
   },
   {
    "duration": 5563,
    "start_time": "2022-03-11T22:52:31.174Z"
   },
   {
    "duration": 3,
    "start_time": "2022-03-11T22:56:51.016Z"
   },
   {
    "duration": 4,
    "start_time": "2022-03-11T22:57:00.046Z"
   },
   {
    "duration": 599,
    "start_time": "2022-03-11T23:02:48.417Z"
   },
   {
    "duration": 288,
    "start_time": "2022-03-11T23:03:06.059Z"
   },
   {
    "duration": 563,
    "start_time": "2022-03-11T23:03:17.071Z"
   },
   {
    "duration": 302,
    "start_time": "2022-03-11T23:03:20.830Z"
   },
   {
    "duration": 545,
    "start_time": "2022-03-11T23:03:26.621Z"
   },
   {
    "duration": 13,
    "start_time": "2022-03-11T23:03:40.416Z"
   },
   {
    "duration": 629,
    "start_time": "2022-03-11T23:05:10.595Z"
   },
   {
    "duration": 19,
    "start_time": "2022-03-11T23:05:50.050Z"
   },
   {
    "duration": 6487,
    "start_time": "2022-03-11T23:06:37.173Z"
   },
   {
    "duration": 16,
    "start_time": "2022-03-11T23:06:45.691Z"
   },
   {
    "duration": 197,
    "start_time": "2022-03-11T23:07:11.612Z"
   },
   {
    "duration": 753,
    "start_time": "2022-03-11T23:07:37.979Z"
   },
   {
    "duration": 456,
    "start_time": "2022-03-11T23:09:05.309Z"
   },
   {
    "duration": 450,
    "start_time": "2022-03-11T23:09:39.603Z"
   },
   {
    "duration": 444,
    "start_time": "2022-03-11T23:09:44.936Z"
   },
   {
    "duration": 266,
    "start_time": "2022-03-11T23:09:52.448Z"
   },
   {
    "duration": 635,
    "start_time": "2022-03-11T23:10:03.021Z"
   },
   {
    "duration": 441,
    "start_time": "2022-03-11T23:10:10.711Z"
   },
   {
    "duration": 434,
    "start_time": "2022-03-11T23:10:54.383Z"
   },
   {
    "duration": 708,
    "start_time": "2022-03-11T23:11:01.264Z"
   },
   {
    "duration": 596,
    "start_time": "2022-03-11T23:11:08.847Z"
   },
   {
    "duration": 1240,
    "start_time": "2022-03-11T23:11:16.404Z"
   },
   {
    "duration": 56,
    "start_time": "2022-03-11T23:11:17.646Z"
   },
   {
    "duration": 13,
    "start_time": "2022-03-11T23:11:17.705Z"
   },
   {
    "duration": 32,
    "start_time": "2022-03-11T23:11:17.720Z"
   },
   {
    "duration": 49,
    "start_time": "2022-03-11T23:11:17.754Z"
   },
   {
    "duration": 18,
    "start_time": "2022-03-11T23:11:17.805Z"
   },
   {
    "duration": 8,
    "start_time": "2022-03-11T23:11:17.824Z"
   },
   {
    "duration": 458,
    "start_time": "2022-03-11T23:11:17.834Z"
   },
   {
    "duration": 547,
    "start_time": "2022-03-11T23:11:18.294Z"
   },
   {
    "duration": 398,
    "start_time": "2022-03-11T23:11:18.843Z"
   },
   {
    "duration": 39,
    "start_time": "2022-03-11T23:11:19.243Z"
   },
   {
    "duration": 17,
    "start_time": "2022-03-11T23:11:19.283Z"
   },
   {
    "duration": 1391,
    "start_time": "2022-03-11T23:11:19.302Z"
   },
   {
    "duration": 20,
    "start_time": "2022-03-11T23:11:20.694Z"
   },
   {
    "duration": 763,
    "start_time": "2022-03-11T23:11:20.716Z"
   },
   {
    "duration": 85,
    "start_time": "2022-03-11T23:11:21.481Z"
   },
   {
    "duration": -304,
    "start_time": "2022-03-11T23:11:21.872Z"
   },
   {
    "duration": -305,
    "start_time": "2022-03-11T23:11:21.874Z"
   },
   {
    "duration": 23,
    "start_time": "2022-03-11T23:11:26.778Z"
   },
   {
    "duration": 5496,
    "start_time": "2022-03-11T23:11:29.925Z"
   },
   {
    "duration": 655,
    "start_time": "2022-03-11T23:11:35.424Z"
   },
   {
    "duration": 631,
    "start_time": "2022-03-11T23:13:00.150Z"
   },
   {
    "duration": 1233,
    "start_time": "2022-03-11T23:26:08.513Z"
   },
   {
    "duration": 53,
    "start_time": "2022-03-11T23:26:09.748Z"
   },
   {
    "duration": 13,
    "start_time": "2022-03-11T23:26:09.805Z"
   },
   {
    "duration": 30,
    "start_time": "2022-03-11T23:26:09.820Z"
   },
   {
    "duration": 51,
    "start_time": "2022-03-11T23:26:09.851Z"
   },
   {
    "duration": 17,
    "start_time": "2022-03-11T23:26:09.904Z"
   },
   {
    "duration": 9,
    "start_time": "2022-03-11T23:26:09.923Z"
   },
   {
    "duration": 455,
    "start_time": "2022-03-11T23:26:09.935Z"
   },
   {
    "duration": 528,
    "start_time": "2022-03-11T23:26:10.393Z"
   },
   {
    "duration": 404,
    "start_time": "2022-03-11T23:26:10.923Z"
   },
   {
    "duration": 49,
    "start_time": "2022-03-11T23:26:11.329Z"
   },
   {
    "duration": 19,
    "start_time": "2022-03-11T23:26:11.380Z"
   },
   {
    "duration": 1578,
    "start_time": "2022-03-11T23:26:11.401Z"
   },
   {
    "duration": 20,
    "start_time": "2022-03-11T23:26:12.982Z"
   },
   {
    "duration": 685,
    "start_time": "2022-03-11T23:26:13.004Z"
   },
   {
    "duration": 26,
    "start_time": "2022-03-11T23:26:13.691Z"
   },
   {
    "duration": 5476,
    "start_time": "2022-03-11T23:26:13.719Z"
   },
   {
    "duration": 633,
    "start_time": "2022-03-11T23:26:19.196Z"
   },
   {
    "duration": 839,
    "start_time": "2022-03-11T23:33:29.977Z"
   },
   {
    "duration": 1259,
    "start_time": "2022-03-11T23:33:37.403Z"
   },
   {
    "duration": 55,
    "start_time": "2022-03-11T23:33:38.664Z"
   },
   {
    "duration": 13,
    "start_time": "2022-03-11T23:33:38.721Z"
   },
   {
    "duration": 28,
    "start_time": "2022-03-11T23:33:38.736Z"
   },
   {
    "duration": 36,
    "start_time": "2022-03-11T23:33:38.765Z"
   },
   {
    "duration": 26,
    "start_time": "2022-03-11T23:33:38.803Z"
   },
   {
    "duration": 7,
    "start_time": "2022-03-11T23:33:38.831Z"
   },
   {
    "duration": 491,
    "start_time": "2022-03-11T23:33:38.841Z"
   },
   {
    "duration": 572,
    "start_time": "2022-03-11T23:33:39.333Z"
   },
   {
    "duration": 400,
    "start_time": "2022-03-11T23:33:39.908Z"
   },
   {
    "duration": 30,
    "start_time": "2022-03-11T23:33:40.310Z"
   },
   {
    "duration": 36,
    "start_time": "2022-03-11T23:33:40.342Z"
   },
   {
    "duration": 1720,
    "start_time": "2022-03-11T23:33:40.380Z"
   },
   {
    "duration": 21,
    "start_time": "2022-03-11T23:33:42.102Z"
   },
   {
    "duration": 748,
    "start_time": "2022-03-11T23:33:42.125Z"
   },
   {
    "duration": 25,
    "start_time": "2022-03-11T23:33:42.877Z"
   },
   {
    "duration": 5441,
    "start_time": "2022-03-11T23:33:42.904Z"
   },
   {
    "duration": 625,
    "start_time": "2022-03-11T23:33:48.347Z"
   },
   {
    "duration": 1293,
    "start_time": "2022-03-11T23:34:05.761Z"
   },
   {
    "duration": 56,
    "start_time": "2022-03-11T23:34:07.056Z"
   },
   {
    "duration": 15,
    "start_time": "2022-03-11T23:34:07.116Z"
   },
   {
    "duration": 46,
    "start_time": "2022-03-11T23:34:07.133Z"
   },
   {
    "duration": 36,
    "start_time": "2022-03-11T23:34:07.181Z"
   },
   {
    "duration": 17,
    "start_time": "2022-03-11T23:34:07.219Z"
   },
   {
    "duration": 10,
    "start_time": "2022-03-11T23:34:07.238Z"
   },
   {
    "duration": 461,
    "start_time": "2022-03-11T23:34:07.250Z"
   },
   {
    "duration": 545,
    "start_time": "2022-03-11T23:34:07.713Z"
   },
   {
    "duration": 401,
    "start_time": "2022-03-11T23:34:08.260Z"
   },
   {
    "duration": 38,
    "start_time": "2022-03-11T23:34:08.663Z"
   },
   {
    "duration": 17,
    "start_time": "2022-03-11T23:34:08.703Z"
   },
   {
    "duration": 1110,
    "start_time": "2022-03-11T23:34:08.721Z"
   },
   {
    "duration": 19,
    "start_time": "2022-03-11T23:34:09.833Z"
   },
   {
    "duration": 638,
    "start_time": "2022-03-11T23:34:09.854Z"
   },
   {
    "duration": 24,
    "start_time": "2022-03-11T23:34:10.494Z"
   },
   {
    "duration": 5365,
    "start_time": "2022-03-11T23:34:10.520Z"
   },
   {
    "duration": 653,
    "start_time": "2022-03-11T23:34:15.887Z"
   },
   {
    "duration": 2317,
    "start_time": "2022-03-12T12:11:38.474Z"
   },
   {
    "duration": 104,
    "start_time": "2022-03-12T12:11:40.793Z"
   },
   {
    "duration": 23,
    "start_time": "2022-03-12T12:11:40.900Z"
   },
   {
    "duration": 63,
    "start_time": "2022-03-12T12:11:40.925Z"
   },
   {
    "duration": 52,
    "start_time": "2022-03-12T12:11:40.991Z"
   },
   {
    "duration": 56,
    "start_time": "2022-03-12T12:11:41.046Z"
   },
   {
    "duration": 13,
    "start_time": "2022-03-12T12:11:41.106Z"
   },
   {
    "duration": 641,
    "start_time": "2022-03-12T12:11:41.122Z"
   },
   {
    "duration": 704,
    "start_time": "2022-03-12T12:11:41.765Z"
   },
   {
    "duration": 531,
    "start_time": "2022-03-12T12:11:42.471Z"
   },
   {
    "duration": 38,
    "start_time": "2022-03-12T12:11:43.005Z"
   },
   {
    "duration": 48,
    "start_time": "2022-03-12T12:11:43.045Z"
   },
   {
    "duration": 1458,
    "start_time": "2022-03-12T12:11:43.096Z"
   },
   {
    "duration": 26,
    "start_time": "2022-03-12T12:11:44.556Z"
   },
   {
    "duration": 1053,
    "start_time": "2022-03-12T12:11:44.584Z"
   },
   {
    "duration": 47,
    "start_time": "2022-03-12T12:11:45.639Z"
   },
   {
    "duration": 7410,
    "start_time": "2022-03-12T12:11:45.688Z"
   },
   {
    "duration": 1006,
    "start_time": "2022-03-12T12:11:53.101Z"
   }
  ],
  "kernelspec": {
   "display_name": "Python 3 (ipykernel)",
   "language": "python",
   "name": "python3"
  },
  "language_info": {
   "codemirror_mode": {
    "name": "ipython",
    "version": 3
   },
   "file_extension": ".py",
   "mimetype": "text/x-python",
   "name": "python",
   "nbconvert_exporter": "python",
   "pygments_lexer": "ipython3",
   "version": "3.9.5"
  },
  "toc": {
   "base_numbering": 1,
   "nav_menu": {},
   "number_sections": true,
   "sideBar": true,
   "skip_h1_title": true,
   "title_cell": "Table of Contents",
   "title_sidebar": "Contents",
   "toc_cell": false,
   "toc_position": {
    "height": "calc(100% - 180px)",
    "left": "10px",
    "top": "150px",
    "width": "335px"
   },
   "toc_section_display": true,
   "toc_window_display": false
  }
 },
 "nbformat": 4,
 "nbformat_minor": 2
}
