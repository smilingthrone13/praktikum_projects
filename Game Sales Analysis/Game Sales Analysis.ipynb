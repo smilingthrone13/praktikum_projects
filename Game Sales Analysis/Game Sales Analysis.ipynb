{
 "cells": [
  {
   "cell_type": "markdown",
   "metadata": {},
   "source": [
    "# Исследование рынка видеоигр\n",
    "Из открытых источников доступны исторические данные о продажах игр, оценки пользователей и экспертов, жанры и платформы (например, Xbox или PlayStation). Вам нужно выявить определяющие успешность игры закономерности. Это позволит сделать ставку на потенциально популярный продукт и спланировать рекламные кампании.\n",
    "\n",
    "Перед вами данные до 2016 года. Представим, что сейчас декабрь 2016 г., и вы планируете кампанию на 2017-й. Нужно отработать принцип работы с данными. Неважно, прогнозируете ли вы продажи на 2017 год по данным 2016-го или же 2027-й — по данным 2026 года.\n",
    "\n",
    "**Цель исследования:**\n",
    "1. Выбрать несколько потенциально прибыльных платформ;\n",
    "2. Выделить жанры с высокими и низкими продажами;\n",
    "3. Составить портрет пользователя каждого региона (популярные платформы и жанры);\n",
    "4. Проверить гипотезу: \"Средние пользовательские рейтинги платформ Xbox One и PC одинаковые\";\n",
    "5. Проверить гипотезу: \"Средние пользовательские рейтинги жанров Action (англ. «действие», экшен-игры) и Sports (англ. «спортивные соревнования») разные\".\n",
    "6. Выявить определяющие успешность игры закономерности."
   ]
  },
  {
   "cell_type": "code",
   "execution_count": 1,
   "metadata": {},
   "outputs": [],
   "source": [
    "# Импортируем модули, которые понадобятся по ходу работы\n",
    "import pandas as pd # Основные интсрументы анализа данных\n",
    "pd.set_option('display.float_format', '{:,.2f}'.format) # Установка количества выводимых знаков после запятой\n",
    "import matplotlib.pyplot as plt # Работа с диаграммами\n",
    "from scipy import stats as st # Инструменты статистического анализа\n",
    "import warnings # Отключение предупреждений\n",
    "warnings.filterwarnings('ignore')"
   ]
  },
  {
   "cell_type": "code",
   "execution_count": 2,
   "metadata": {},
   "outputs": [],
   "source": [
    "# Функция-строитель круговых диаграм топ-5 элементов столбца\n",
    "def top_5_pie_chart(obj):\n",
    "    plt.subplots(figsize = (18,6))\n",
    "    for plot_num, region in enumerate(['na_sales', 'eu_sales', 'jp_sales']):\n",
    "        # Выделяем 5 самых популярных элементов региона\n",
    "        reg_obj = df_actual.groupby(obj)[[region]].sum().sort_values(by = region, ascending = False)\n",
    "        top_obj = reg_obj.head()\n",
    "        reg_obj = reg_obj.reset_index()\n",
    "        # Меняем менее популярные элементы на 'other'\n",
    "        reg_obj[obj] = reg_obj[obj].where(reg_obj[obj].isin(top_obj.index), 'other')\n",
    "        (reg_obj.groupby(obj)[[region]].sum()\n",
    "         .plot(kind = 'pie', subplots = True, autopct = '%1.1f%%', figsize = (6,6), legend = False,\n",
    "               ax = plt.subplot(1, 3, plot_num + 1)))"
   ]
  },
  {
   "cell_type": "code",
   "execution_count": 3,
   "metadata": {},
   "outputs": [],
   "source": [
    "# Функция для расчета корреляции и постройки диаграммы рассеяния между оценками и продажами\n",
    "def corr_scatter_builder(platforms, score_type):\n",
    "    for name in platforms:\n",
    "        # Сортируем по платформе и для лучшей читаемости диаграммы удаляем выбросы\n",
    "        (df_actual.query('platform == @name and total_sales < total_sales.quantile(0.99)')\n",
    "         .plot(x = score_type, y = 'total_sales', kind = 'scatter', figsize = (8, 5), alpha = 0.3, title = name))\n",
    "        if score_type == 'user_score':\n",
    "            plt.xlabel('Пользовательская оценка')\n",
    "        else:\n",
    "            plt.xlabel('Оценка критиков')\n",
    "        plt.ylabel('Проданных копий, млн шт.')\n",
    "        # Коэффициент корреляции\n",
    "        print(f\"Коэффициент корреляции для платформы {name}: {df_actual[df_actual['platform'] == name]['total_sales'].corr(df_actual[df_actual['platform'] == name][score_type].astype(float))}\")"
   ]
  },
  {
   "cell_type": "code",
   "execution_count": 4,
   "metadata": {},
   "outputs": [],
   "source": [
    "# Функция для проверки гипотез на основе ttest_ind\n",
    "def hypothesis_check(obj_type, objects, values, alpha):\n",
    "    alpha = alpha\n",
    "    # Выделяем данные, удовлетворяющие заданным критериям\n",
    "    first_rating = df_actual[df_actual[obj_type] == objects[0]][values].dropna()\n",
    "    second_rating = df_actual[df_actual[obj_type] == objects[1]][values].dropna()\n",
    "    # Проводим расчет\n",
    "    results = st.ttest_ind(first_rating, second_rating)\n",
    "    print('p-значение:', results.pvalue)\n",
    "    if (results.pvalue < alpha):\n",
    "        print(\"Отвергаем нулевую гипотезу.\")\n",
    "    else:\n",
    "        print(\"Не получилось отвергнуть нулевую гипотезу.\")"
   ]
  },
  {
   "cell_type": "markdown",
   "metadata": {},
   "source": [
    "## Изучение и обработка данных из файла\n",
    "Для работы с таблицей нам необходимо импортировать библиотеку Pandas и воспользоваться встроенной в нее функцией чтения файла в переменную."
   ]
  },
  {
   "cell_type": "code",
   "execution_count": 5,
   "metadata": {},
   "outputs": [
    {
     "data": {
      "text/html": [
       "<div>\n",
       "<style scoped>\n",
       "    .dataframe tbody tr th:only-of-type {\n",
       "        vertical-align: middle;\n",
       "    }\n",
       "\n",
       "    .dataframe tbody tr th {\n",
       "        vertical-align: top;\n",
       "    }\n",
       "\n",
       "    .dataframe thead th {\n",
       "        text-align: right;\n",
       "    }\n",
       "</style>\n",
       "<table border=\"1\" class=\"dataframe\">\n",
       "  <thead>\n",
       "    <tr style=\"text-align: right;\">\n",
       "      <th></th>\n",
       "      <th>Name</th>\n",
       "      <th>Platform</th>\n",
       "      <th>Year_of_Release</th>\n",
       "      <th>Genre</th>\n",
       "      <th>NA_sales</th>\n",
       "      <th>EU_sales</th>\n",
       "      <th>JP_sales</th>\n",
       "      <th>Other_sales</th>\n",
       "      <th>Critic_Score</th>\n",
       "      <th>User_Score</th>\n",
       "      <th>Rating</th>\n",
       "    </tr>\n",
       "  </thead>\n",
       "  <tbody>\n",
       "    <tr>\n",
       "      <td>0</td>\n",
       "      <td>Wii Sports</td>\n",
       "      <td>Wii</td>\n",
       "      <td>2,006.00</td>\n",
       "      <td>Sports</td>\n",
       "      <td>41.36</td>\n",
       "      <td>28.96</td>\n",
       "      <td>3.77</td>\n",
       "      <td>8.45</td>\n",
       "      <td>76.00</td>\n",
       "      <td>8</td>\n",
       "      <td>E</td>\n",
       "    </tr>\n",
       "    <tr>\n",
       "      <td>1</td>\n",
       "      <td>Super Mario Bros.</td>\n",
       "      <td>NES</td>\n",
       "      <td>1,985.00</td>\n",
       "      <td>Platform</td>\n",
       "      <td>29.08</td>\n",
       "      <td>3.58</td>\n",
       "      <td>6.81</td>\n",
       "      <td>0.77</td>\n",
       "      <td>nan</td>\n",
       "      <td>NaN</td>\n",
       "      <td>NaN</td>\n",
       "    </tr>\n",
       "    <tr>\n",
       "      <td>2</td>\n",
       "      <td>Mario Kart Wii</td>\n",
       "      <td>Wii</td>\n",
       "      <td>2,008.00</td>\n",
       "      <td>Racing</td>\n",
       "      <td>15.68</td>\n",
       "      <td>12.76</td>\n",
       "      <td>3.79</td>\n",
       "      <td>3.29</td>\n",
       "      <td>82.00</td>\n",
       "      <td>8.3</td>\n",
       "      <td>E</td>\n",
       "    </tr>\n",
       "    <tr>\n",
       "      <td>3</td>\n",
       "      <td>Wii Sports Resort</td>\n",
       "      <td>Wii</td>\n",
       "      <td>2,009.00</td>\n",
       "      <td>Sports</td>\n",
       "      <td>15.61</td>\n",
       "      <td>10.93</td>\n",
       "      <td>3.28</td>\n",
       "      <td>2.95</td>\n",
       "      <td>80.00</td>\n",
       "      <td>8</td>\n",
       "      <td>E</td>\n",
       "    </tr>\n",
       "    <tr>\n",
       "      <td>4</td>\n",
       "      <td>Pokemon Red/Pokemon Blue</td>\n",
       "      <td>GB</td>\n",
       "      <td>1,996.00</td>\n",
       "      <td>Role-Playing</td>\n",
       "      <td>11.27</td>\n",
       "      <td>8.89</td>\n",
       "      <td>10.22</td>\n",
       "      <td>1.00</td>\n",
       "      <td>nan</td>\n",
       "      <td>NaN</td>\n",
       "      <td>NaN</td>\n",
       "    </tr>\n",
       "    <tr>\n",
       "      <td>5</td>\n",
       "      <td>Tetris</td>\n",
       "      <td>GB</td>\n",
       "      <td>1,989.00</td>\n",
       "      <td>Puzzle</td>\n",
       "      <td>23.20</td>\n",
       "      <td>2.26</td>\n",
       "      <td>4.22</td>\n",
       "      <td>0.58</td>\n",
       "      <td>nan</td>\n",
       "      <td>NaN</td>\n",
       "      <td>NaN</td>\n",
       "    </tr>\n",
       "    <tr>\n",
       "      <td>6</td>\n",
       "      <td>New Super Mario Bros.</td>\n",
       "      <td>DS</td>\n",
       "      <td>2,006.00</td>\n",
       "      <td>Platform</td>\n",
       "      <td>11.28</td>\n",
       "      <td>9.14</td>\n",
       "      <td>6.50</td>\n",
       "      <td>2.88</td>\n",
       "      <td>89.00</td>\n",
       "      <td>8.5</td>\n",
       "      <td>E</td>\n",
       "    </tr>\n",
       "    <tr>\n",
       "      <td>7</td>\n",
       "      <td>Wii Play</td>\n",
       "      <td>Wii</td>\n",
       "      <td>2,006.00</td>\n",
       "      <td>Misc</td>\n",
       "      <td>13.96</td>\n",
       "      <td>9.18</td>\n",
       "      <td>2.93</td>\n",
       "      <td>2.84</td>\n",
       "      <td>58.00</td>\n",
       "      <td>6.6</td>\n",
       "      <td>E</td>\n",
       "    </tr>\n",
       "    <tr>\n",
       "      <td>8</td>\n",
       "      <td>New Super Mario Bros. Wii</td>\n",
       "      <td>Wii</td>\n",
       "      <td>2,009.00</td>\n",
       "      <td>Platform</td>\n",
       "      <td>14.44</td>\n",
       "      <td>6.94</td>\n",
       "      <td>4.70</td>\n",
       "      <td>2.24</td>\n",
       "      <td>87.00</td>\n",
       "      <td>8.4</td>\n",
       "      <td>E</td>\n",
       "    </tr>\n",
       "    <tr>\n",
       "      <td>9</td>\n",
       "      <td>Duck Hunt</td>\n",
       "      <td>NES</td>\n",
       "      <td>1,984.00</td>\n",
       "      <td>Shooter</td>\n",
       "      <td>26.93</td>\n",
       "      <td>0.63</td>\n",
       "      <td>0.28</td>\n",
       "      <td>0.47</td>\n",
       "      <td>nan</td>\n",
       "      <td>NaN</td>\n",
       "      <td>NaN</td>\n",
       "    </tr>\n",
       "  </tbody>\n",
       "</table>\n",
       "</div>"
      ],
      "text/plain": [
       "                        Name Platform  Year_of_Release         Genre  \\\n",
       "0                 Wii Sports      Wii         2,006.00        Sports   \n",
       "1          Super Mario Bros.      NES         1,985.00      Platform   \n",
       "2             Mario Kart Wii      Wii         2,008.00        Racing   \n",
       "3          Wii Sports Resort      Wii         2,009.00        Sports   \n",
       "4   Pokemon Red/Pokemon Blue       GB         1,996.00  Role-Playing   \n",
       "5                     Tetris       GB         1,989.00        Puzzle   \n",
       "6      New Super Mario Bros.       DS         2,006.00      Platform   \n",
       "7                   Wii Play      Wii         2,006.00          Misc   \n",
       "8  New Super Mario Bros. Wii      Wii         2,009.00      Platform   \n",
       "9                  Duck Hunt      NES         1,984.00       Shooter   \n",
       "\n",
       "   NA_sales  EU_sales  JP_sales  Other_sales  Critic_Score User_Score Rating  \n",
       "0     41.36     28.96      3.77         8.45         76.00          8      E  \n",
       "1     29.08      3.58      6.81         0.77           nan        NaN    NaN  \n",
       "2     15.68     12.76      3.79         3.29         82.00        8.3      E  \n",
       "3     15.61     10.93      3.28         2.95         80.00          8      E  \n",
       "4     11.27      8.89     10.22         1.00           nan        NaN    NaN  \n",
       "5     23.20      2.26      4.22         0.58           nan        NaN    NaN  \n",
       "6     11.28      9.14      6.50         2.88         89.00        8.5      E  \n",
       "7     13.96      9.18      2.93         2.84         58.00        6.6      E  \n",
       "8     14.44      6.94      4.70         2.24         87.00        8.4      E  \n",
       "9     26.93      0.63      0.28         0.47           nan        NaN    NaN  "
      ]
     },
     "execution_count": 5,
     "metadata": {},
     "output_type": "execute_result"
    }
   ],
   "source": [
    "df = pd.read_csv('/datasets/games.csv') # В переменную df сохраняем прочитанный файл данных\n",
    "df.head(10)"
   ]
  },
  {
   "cell_type": "markdown",
   "metadata": {},
   "source": [
    "Выведем на экран и изучим общую информацию о таблице:"
   ]
  },
  {
   "cell_type": "code",
   "execution_count": 6,
   "metadata": {},
   "outputs": [
    {
     "name": "stdout",
     "output_type": "stream",
     "text": [
      "<class 'pandas.core.frame.DataFrame'>\n",
      "RangeIndex: 16715 entries, 0 to 16714\n",
      "Data columns (total 11 columns):\n",
      "Name               16713 non-null object\n",
      "Platform           16715 non-null object\n",
      "Year_of_Release    16446 non-null float64\n",
      "Genre              16713 non-null object\n",
      "NA_sales           16715 non-null float64\n",
      "EU_sales           16715 non-null float64\n",
      "JP_sales           16715 non-null float64\n",
      "Other_sales        16715 non-null float64\n",
      "Critic_Score       8137 non-null float64\n",
      "User_Score         10014 non-null object\n",
      "Rating             9949 non-null object\n",
      "dtypes: float64(6), object(5)\n",
      "memory usage: 1.4+ MB\n"
     ]
    }
   ],
   "source": [
    "df.info() # Выводим общую информацию о таблице на экран"
   ]
  },
  {
   "cell_type": "markdown",
   "metadata": {},
   "source": [
    "Таблица имеет 11 столбцов с данными различных типов. Согласно документации:\n",
    "* `Name` — название игры;\n",
    "* `Platform` — платформа;\n",
    "* `Year_of_Release` — год выпуска;\n",
    "* `Genre` — жанр игры;\n",
    "* `NA_sales` — продажи в Северной Америке (миллионы проданных копий);\n",
    "* `EU_sales` — продажи в Европе (миллионы проданных копий);\n",
    "* `JP_sales` — продажи в Японии (миллионы проданных копий);\n",
    "* `Other_sales` — продажи в других странах (миллионы проданных копий);\n",
    "* `Critic_Score` — оценка критиков (максимум 100);\n",
    "* `User_Score` — оценка пользователей (максимум 10);\n",
    "* `Rating` — рейтинг от организации ESRB (англ. Entertainment Software Rating Board). Эта ассоциация определяет рейтинг компьютерных игр и присваивает им подходящую возрастную категорию.\n",
    "\n",
    "Количество значений в столбцах различается. Значит, в данных есть пропущенные значения.\n",
    "\n",
    "### Замена названий столбцов\n",
    "Заменим названия столбцов, приведя все буквы к нижнему регистру:"
   ]
  },
  {
   "cell_type": "code",
   "execution_count": 7,
   "metadata": {},
   "outputs": [],
   "source": [
    "df.columns = df.columns.str.lower()"
   ]
  },
  {
   "cell_type": "markdown",
   "metadata": {},
   "source": [
    "### Обработка пропусков\n",
    "* Стоблец `name` содержит два пропуска - целесообразно их удалить.\n",
    "* Пропущенные значения в столбце `year_of_release` составляют меньше 0.1% от общего количества значений. Возможно попытаться восстановить их, сгруппировав по годам и жанрам - вероятно, игра с определенным жанром была выпущена в год, когда этот жанр был наиболее популярен. Но, я думаю, вероятность промаха остается высока. В идеале - запарсить по паре \"название + жанр\", и получить оттуда год релиза.\n",
    "* Два пропуска в столбце `genre` уйдут при очистке столбца `name`.\n",
    "* Больше всего пропусков в столбцах с оценками, около 50%. Заполнять их каким-либо расчетным значением нецелесообразно - потеряется реальна картина. В реальном проекте путь решения такой же - оценки находятся в открытом доступе, и парсятся по паре \"название + год релиза\".\n",
    "* Значения \"TBD\" в этих столбцах также заполним пропусками - поскольку они не несут в себе никакой информации кроме \"будет известно позднее\".\n",
    "* Пропуски в столбце `rating` заполним заглушкой `NR` - \"No Rating\"."
   ]
  },
  {
   "cell_type": "code",
   "execution_count": 8,
   "metadata": {},
   "outputs": [],
   "source": [
    "df.drop(df[df['name'].isna() == True].index, inplace = True) # Удаляем строки, в которых пропущено название игры\n",
    "df.loc[df['user_score'] == 'tbd', 'user_score'] = float('nan') # Заменяем 'tbd' на 'nan'\n",
    "df['rating'] = df['rating'].fillna('NR') # Заполняем пропуски в столбце рейтинга"
   ]
  },
  {
   "cell_type": "markdown",
   "metadata": {},
   "source": [
    "### Изменение типов данных\n",
    "\n",
    "Разумно изменить тип столбцов `year_of_release` и `critic_score` на `Int64` - так как, в первом случае, столбец содержит данные только о годе релиза игры, а во втором случае оценки выставляются в диапазоне 1-100 целыми числами.\n",
    "Столбец `user_score` приведем к типу `float64`."
   ]
  },
  {
   "cell_type": "code",
   "execution_count": 9,
   "metadata": {},
   "outputs": [],
   "source": [
    "column = ['critic_score', 'year_of_release'] # Столбцы, тип которых меняется на Int64\n",
    "for name in column:\n",
    "    df[name] = df[name].astype('Int64') # Используем Int64 вместо Int, т.к. столбец содержит пропуски\n",
    "df['user_score'] = df['user_score'].astype('float')"
   ]
  },
  {
   "cell_type": "markdown",
   "metadata": {},
   "source": [
    "### Подсчет суммарных продаж\n",
    "Создадим столебец `total_sales` и посчитаем в него суммарное количество продаж для каждой игры:"
   ]
  },
  {
   "cell_type": "code",
   "execution_count": 10,
   "metadata": {},
   "outputs": [],
   "source": [
    "df.insert(8,'total_sales', 0) # Создаем столбец 'total_sales' после всех столбцов о продажах\n",
    "df['total_sales'] = df[['na_sales','eu_sales','jp_sales','other_sales']].sum(axis=1) # Заполняем столбец данными"
   ]
  },
  {
   "cell_type": "markdown",
   "metadata": {},
   "source": [
    "### Удаление дубликатов\n",
    "Проверим таблицу на наличие дубликатов.<br>\n",
    "Как указано в задании, каждую строку стоит рассматривать как отдельную игру, даже если она ялвяется бандлом, в который входит уже приведенная в таблице игра. Соотвественно, неявные дубликаты будем искать только в столбцах `platform` и `genre`."
   ]
  },
  {
   "cell_type": "code",
   "execution_count": 11,
   "metadata": {
    "scrolled": false
   },
   "outputs": [
    {
     "name": "stdout",
     "output_type": "stream",
     "text": [
      "Уникальные платформы: ['Wii' 'NES' 'GB' 'DS' 'X360' 'PS3' 'PS2' 'SNES' 'GBA' 'PS4' '3DS' 'N64'\n",
      " 'PS' 'XB' 'PC' '2600' 'PSP' 'XOne' 'WiiU' 'GC' 'GEN' 'DC' 'PSV' 'SAT'\n",
      " 'SCD' 'WS' 'NG' 'TG16' '3DO' 'GG' 'PCFX']\n",
      "Уникальные жанры: ['Sports' 'Platform' 'Racing' 'Role-Playing' 'Puzzle' 'Misc' 'Shooter'\n",
      " 'Simulation' 'Action' 'Fighting' 'Adventure' 'Strategy']\n",
      "Количество дубликатов: 0\n"
     ]
    }
   ],
   "source": [
    "print('Уникальные платформы:', df['platform'].unique())\n",
    "print('Уникальные жанры:', df['genre'].unique())\n",
    "print('Количество дубликатов:', df.duplicated().sum())"
   ]
  },
  {
   "cell_type": "markdown",
   "metadata": {},
   "source": [
    "Явных дубликатов в таблице нет. Среди жанров и платформ неявных дубликатов также не найдено."
   ]
  },
  {
   "cell_type": "markdown",
   "metadata": {},
   "source": [
    "### Вывод \n",
    "В разделе были изменены названия столбцов так, чтобы они соответствовали принятому стилю. Частично были обработаны пропуски - удалены строки без названий, пропуски в рейтинге были заменены заглушками. Для столбцов `year_of_release` и `critic_score` тип был изменен на `Int64`. Был добавлен столбец `total_sales` с суммарным количеством проданных копий каждой игры. Обоснования принятых решений описаны в каждом подразделе соответственно.<br>\n",
    "Взглянем на результат работы, проделанной в разделе:"
   ]
  },
  {
   "cell_type": "code",
   "execution_count": 12,
   "metadata": {},
   "outputs": [
    {
     "data": {
      "text/html": [
       "<div>\n",
       "<style scoped>\n",
       "    .dataframe tbody tr th:only-of-type {\n",
       "        vertical-align: middle;\n",
       "    }\n",
       "\n",
       "    .dataframe tbody tr th {\n",
       "        vertical-align: top;\n",
       "    }\n",
       "\n",
       "    .dataframe thead th {\n",
       "        text-align: right;\n",
       "    }\n",
       "</style>\n",
       "<table border=\"1\" class=\"dataframe\">\n",
       "  <thead>\n",
       "    <tr style=\"text-align: right;\">\n",
       "      <th></th>\n",
       "      <th>name</th>\n",
       "      <th>platform</th>\n",
       "      <th>year_of_release</th>\n",
       "      <th>genre</th>\n",
       "      <th>na_sales</th>\n",
       "      <th>eu_sales</th>\n",
       "      <th>jp_sales</th>\n",
       "      <th>other_sales</th>\n",
       "      <th>total_sales</th>\n",
       "      <th>critic_score</th>\n",
       "      <th>user_score</th>\n",
       "      <th>rating</th>\n",
       "    </tr>\n",
       "  </thead>\n",
       "  <tbody>\n",
       "    <tr>\n",
       "      <td>0</td>\n",
       "      <td>Wii Sports</td>\n",
       "      <td>Wii</td>\n",
       "      <td>2006</td>\n",
       "      <td>Sports</td>\n",
       "      <td>41.36</td>\n",
       "      <td>28.96</td>\n",
       "      <td>3.77</td>\n",
       "      <td>8.45</td>\n",
       "      <td>82.54</td>\n",
       "      <td>76</td>\n",
       "      <td>8.00</td>\n",
       "      <td>E</td>\n",
       "    </tr>\n",
       "    <tr>\n",
       "      <td>1</td>\n",
       "      <td>Super Mario Bros.</td>\n",
       "      <td>NES</td>\n",
       "      <td>1985</td>\n",
       "      <td>Platform</td>\n",
       "      <td>29.08</td>\n",
       "      <td>3.58</td>\n",
       "      <td>6.81</td>\n",
       "      <td>0.77</td>\n",
       "      <td>40.24</td>\n",
       "      <td>NaN</td>\n",
       "      <td>nan</td>\n",
       "      <td>NR</td>\n",
       "    </tr>\n",
       "    <tr>\n",
       "      <td>2</td>\n",
       "      <td>Mario Kart Wii</td>\n",
       "      <td>Wii</td>\n",
       "      <td>2008</td>\n",
       "      <td>Racing</td>\n",
       "      <td>15.68</td>\n",
       "      <td>12.76</td>\n",
       "      <td>3.79</td>\n",
       "      <td>3.29</td>\n",
       "      <td>35.52</td>\n",
       "      <td>82</td>\n",
       "      <td>8.30</td>\n",
       "      <td>E</td>\n",
       "    </tr>\n",
       "    <tr>\n",
       "      <td>3</td>\n",
       "      <td>Wii Sports Resort</td>\n",
       "      <td>Wii</td>\n",
       "      <td>2009</td>\n",
       "      <td>Sports</td>\n",
       "      <td>15.61</td>\n",
       "      <td>10.93</td>\n",
       "      <td>3.28</td>\n",
       "      <td>2.95</td>\n",
       "      <td>32.77</td>\n",
       "      <td>80</td>\n",
       "      <td>8.00</td>\n",
       "      <td>E</td>\n",
       "    </tr>\n",
       "    <tr>\n",
       "      <td>4</td>\n",
       "      <td>Pokemon Red/Pokemon Blue</td>\n",
       "      <td>GB</td>\n",
       "      <td>1996</td>\n",
       "      <td>Role-Playing</td>\n",
       "      <td>11.27</td>\n",
       "      <td>8.89</td>\n",
       "      <td>10.22</td>\n",
       "      <td>1.00</td>\n",
       "      <td>31.38</td>\n",
       "      <td>NaN</td>\n",
       "      <td>nan</td>\n",
       "      <td>NR</td>\n",
       "    </tr>\n",
       "  </tbody>\n",
       "</table>\n",
       "</div>"
      ],
      "text/plain": [
       "                       name platform  year_of_release         genre  na_sales  \\\n",
       "0                Wii Sports      Wii             2006        Sports     41.36   \n",
       "1         Super Mario Bros.      NES             1985      Platform     29.08   \n",
       "2            Mario Kart Wii      Wii             2008        Racing     15.68   \n",
       "3         Wii Sports Resort      Wii             2009        Sports     15.61   \n",
       "4  Pokemon Red/Pokemon Blue       GB             1996  Role-Playing     11.27   \n",
       "\n",
       "   eu_sales  jp_sales  other_sales  total_sales  critic_score  user_score  \\\n",
       "0     28.96      3.77         8.45        82.54            76        8.00   \n",
       "1      3.58      6.81         0.77        40.24           NaN         nan   \n",
       "2     12.76      3.79         3.29        35.52            82        8.30   \n",
       "3     10.93      3.28         2.95        32.77            80        8.00   \n",
       "4      8.89     10.22         1.00        31.38           NaN         nan   \n",
       "\n",
       "  rating  \n",
       "0      E  \n",
       "1     NR  \n",
       "2      E  \n",
       "3      E  \n",
       "4     NR  "
      ]
     },
     "execution_count": 12,
     "metadata": {},
     "output_type": "execute_result"
    }
   ],
   "source": [
    "df.head()"
   ]
  },
  {
   "cell_type": "markdown",
   "metadata": {},
   "source": [
    "## Исследовательский анализ данных\n",
    "### Количество выпускаемых игр\n",
    "Подсчитаем количество игр, выпускавшихся в разные годы на разных платформах, и построим по этим данным график:"
   ]
  },
  {
   "cell_type": "code",
   "execution_count": 13,
   "metadata": {
    "scrolled": false
   },
   "outputs": [
    {
     "data": {
      "text/plain": [
       "Text(0, 0.5, 'Проданных копий, млн шт.')"
      ]
     },
     "execution_count": 13,
     "metadata": {},
     "output_type": "execute_result"
    },
    {
     "data": {
      "image/png": "[encoded data removed]",
      "text/plain": [
       "<Figure size 720x360 with 1 Axes>"
      ]
     },
     "metadata": {
      "needs_background": "light"
     },
     "output_type": "display_data"
    }
   ],
   "source": [
    "(df.pivot_table(index = 'year_of_release', values = 'total_sales', aggfunc = 'sum')\n",
    " .plot(figsize = (10,5), grid = True, style = '-o', title = 'Суммарное количество продаж в год'))\n",
    "plt.xlabel('Год')\n",
    "plt.ylabel('Проданных копий, млн шт.')"
   ]
  },
  {
   "cell_type": "markdown",
   "metadata": {},
   "source": [
    "Как видно из графика, активный рост рынка начался в 1995 году - с выходом на рынок PS1. В целом, с этого момента рынок начинают занимать 4 платформы - PC, Xbox, PlayStation и Nintendo. Поэтому логично анализировать рынок уже после этого момента. Однако, со временем меняются и предпочтения геймеров, потому для определения потенциально успешного продукта нужно опираться на максимально свежие данные. <br>\n",
    "Падение в конце графика может быть связано с тем, что данные за 2016 год могут быть неполными, согласно описанию данных.\n",
    "\n",
    "### Суммарные продажи\n",
    "Изучим, как менялись продажи по платформам. Для этого выберем 10 платформ с наибольшими суммарными продажами и постром распределение по годам."
   ]
  },
  {
   "cell_type": "code",
   "execution_count": 14,
   "metadata": {},
   "outputs": [
    {
     "data": {
      "text/plain": [
       "Text(0, 0.5, 'Проданных копий, млн шт.')"
      ]
     },
     "execution_count": 14,
     "metadata": {},
     "output_type": "execute_result"
    },
    {
     "data": {
      "image/png": "[encoded data removed]",
      "text/plain": [
       "<Figure size 1080x576 with 1 Axes>"
      ]
     },
     "metadata": {
      "needs_background": "light"
     },
     "output_type": "display_data"
    }
   ],
   "source": [
    "# Получим названия 10 платформ с наибольшим количеством суммарных продаж\n",
    "platform_sales = df.groupby('platform').agg({'total_sales': 'sum'}).sort_values(by = 'total_sales').tail(10).index\n",
    "# Строим график продаж по годам для каждой платформы\n",
    "(df.query('platform in @platform_sales')\n",
    " .pivot_table(index = 'year_of_release', columns = 'platform', values = 'total_sales', aggfunc = 'sum')\n",
    " .plot(figsize = (15,8), grid = True, xlim=1990, style = '-o', title = 'Популярность платформ'))\n",
    "plt.xlabel('Год')\n",
    "plt.ylabel('Проданных копий, млн шт.')"
   ]
  },
  {
   "cell_type": "markdown",
   "metadata": {},
   "source": [
    "В соответствии с графиком, в топ-10 платформ с наибольшим количеством проданных игр вошли DS, GBA и Wii (Nintendo); PS, PS2, PS3, PS4 и PSP (Sony); Xbox 360 (Microsoft); PC.<br>\n",
    "\n",
    "### Выделение актуального периода\n",
    "\n",
    "Судя по приведенному выше графику, характерный срок жизни поколения консолей составляет 7-8 лет, что соотвествует реальным данным. Исходя из того, что в задании указано время проведения исследования - декабрь 2016, обозначим **актуальный период** - он придется на 8 поколение консолей, которое начинается с **2012** года - с выходом на рынок Wii U, а чуть позднее - PS4 и XBox One.<br>\n",
    "Таким образом, актуальный период лежит в рамках **2012-2017** гг."
   ]
  },
  {
   "cell_type": "code",
   "execution_count": 15,
   "metadata": {},
   "outputs": [
    {
     "name": "stdout",
     "output_type": "stream",
     "text": [
      "Количество элементов актуальной таблицы: 2855\n"
     ]
    },
    {
     "data": {
      "text/html": [
       "<div>\n",
       "<style scoped>\n",
       "    .dataframe tbody tr th:only-of-type {\n",
       "        vertical-align: middle;\n",
       "    }\n",
       "\n",
       "    .dataframe tbody tr th {\n",
       "        vertical-align: top;\n",
       "    }\n",
       "\n",
       "    .dataframe thead th {\n",
       "        text-align: right;\n",
       "    }\n",
       "</style>\n",
       "<table border=\"1\" class=\"dataframe\">\n",
       "  <thead>\n",
       "    <tr style=\"text-align: right;\">\n",
       "      <th></th>\n",
       "      <th>name</th>\n",
       "      <th>platform</th>\n",
       "      <th>year_of_release</th>\n",
       "      <th>genre</th>\n",
       "      <th>na_sales</th>\n",
       "      <th>eu_sales</th>\n",
       "      <th>jp_sales</th>\n",
       "      <th>other_sales</th>\n",
       "      <th>total_sales</th>\n",
       "      <th>critic_score</th>\n",
       "      <th>user_score</th>\n",
       "      <th>rating</th>\n",
       "    </tr>\n",
       "  </thead>\n",
       "  <tbody>\n",
       "    <tr>\n",
       "      <td>0</td>\n",
       "      <td>Grand Theft Auto V</td>\n",
       "      <td>PS3</td>\n",
       "      <td>2013</td>\n",
       "      <td>Action</td>\n",
       "      <td>7.02</td>\n",
       "      <td>9.09</td>\n",
       "      <td>0.98</td>\n",
       "      <td>3.96</td>\n",
       "      <td>21.05</td>\n",
       "      <td>97</td>\n",
       "      <td>8.20</td>\n",
       "      <td>M</td>\n",
       "    </tr>\n",
       "    <tr>\n",
       "      <td>1</td>\n",
       "      <td>Grand Theft Auto V</td>\n",
       "      <td>X360</td>\n",
       "      <td>2013</td>\n",
       "      <td>Action</td>\n",
       "      <td>9.66</td>\n",
       "      <td>5.14</td>\n",
       "      <td>0.06</td>\n",
       "      <td>1.41</td>\n",
       "      <td>16.27</td>\n",
       "      <td>97</td>\n",
       "      <td>8.10</td>\n",
       "      <td>M</td>\n",
       "    </tr>\n",
       "    <tr>\n",
       "      <td>2</td>\n",
       "      <td>Call of Duty: Black Ops 3</td>\n",
       "      <td>PS4</td>\n",
       "      <td>2015</td>\n",
       "      <td>Shooter</td>\n",
       "      <td>6.03</td>\n",
       "      <td>5.86</td>\n",
       "      <td>0.36</td>\n",
       "      <td>2.38</td>\n",
       "      <td>14.63</td>\n",
       "      <td>NaN</td>\n",
       "      <td>nan</td>\n",
       "      <td>NR</td>\n",
       "    </tr>\n",
       "    <tr>\n",
       "      <td>3</td>\n",
       "      <td>Pokemon X/Pokemon Y</td>\n",
       "      <td>3DS</td>\n",
       "      <td>2013</td>\n",
       "      <td>Role-Playing</td>\n",
       "      <td>5.28</td>\n",
       "      <td>4.19</td>\n",
       "      <td>4.35</td>\n",
       "      <td>0.78</td>\n",
       "      <td>14.60</td>\n",
       "      <td>NaN</td>\n",
       "      <td>nan</td>\n",
       "      <td>NR</td>\n",
       "    </tr>\n",
       "    <tr>\n",
       "      <td>4</td>\n",
       "      <td>Call of Duty: Black Ops II</td>\n",
       "      <td>PS3</td>\n",
       "      <td>2012</td>\n",
       "      <td>Shooter</td>\n",
       "      <td>4.99</td>\n",
       "      <td>5.73</td>\n",
       "      <td>0.65</td>\n",
       "      <td>2.42</td>\n",
       "      <td>13.79</td>\n",
       "      <td>83</td>\n",
       "      <td>5.30</td>\n",
       "      <td>M</td>\n",
       "    </tr>\n",
       "  </tbody>\n",
       "</table>\n",
       "</div>"
      ],
      "text/plain": [
       "                         name platform  year_of_release         genre  \\\n",
       "0          Grand Theft Auto V      PS3             2013        Action   \n",
       "1          Grand Theft Auto V     X360             2013        Action   \n",
       "2   Call of Duty: Black Ops 3      PS4             2015       Shooter   \n",
       "3         Pokemon X/Pokemon Y      3DS             2013  Role-Playing   \n",
       "4  Call of Duty: Black Ops II      PS3             2012       Shooter   \n",
       "\n",
       "   na_sales  eu_sales  jp_sales  other_sales  total_sales  critic_score  \\\n",
       "0      7.02      9.09      0.98         3.96        21.05            97   \n",
       "1      9.66      5.14      0.06         1.41        16.27            97   \n",
       "2      6.03      5.86      0.36         2.38        14.63           NaN   \n",
       "3      5.28      4.19      4.35         0.78        14.60           NaN   \n",
       "4      4.99      5.73      0.65         2.42        13.79            83   \n",
       "\n",
       "   user_score rating  \n",
       "0        8.20      M  \n",
       "1        8.10      M  \n",
       "2         nan     NR  \n",
       "3         nan     NR  \n",
       "4        5.30      M  "
      ]
     },
     "execution_count": 15,
     "metadata": {},
     "output_type": "execute_result"
    }
   ],
   "source": [
    "# Создаем новую таблицу\n",
    "df_actual = df.query('year_of_release >= 2012').reset_index(drop = True)\n",
    "\n",
    "# Удаляем платформы, попавшие концом своего существования в таблицу\n",
    "df_actual.drop(df_actual[df_actual['platform'] == 'DS'].index, inplace = True)\n",
    "print('Количество элементов актуальной таблицы:', len(df_actual))\n",
    "df_actual.head()"
   ]
  },
  {
   "cell_type": "markdown",
   "metadata": {},
   "source": [
    "### Потенциально прибыльные платформы\n",
    "Изучим актуальные платформы: какие лидируют по продажам, какие растут или падают. Исходя из этого выберем несколько потенциально прибыльных платформ.<br>\n",
    "Для этого построим сводную таблицу с количеством продаж и график, подобный приведенному в П. 2.2, и сопоставим полученные данные:"
   ]
  },
  {
   "cell_type": "code",
   "execution_count": 16,
   "metadata": {},
   "outputs": [
    {
     "data": {
      "text/html": [
       "<div>\n",
       "<style scoped>\n",
       "    .dataframe tbody tr th:only-of-type {\n",
       "        vertical-align: middle;\n",
       "    }\n",
       "\n",
       "    .dataframe tbody tr th {\n",
       "        vertical-align: top;\n",
       "    }\n",
       "\n",
       "    .dataframe thead th {\n",
       "        text-align: right;\n",
       "    }\n",
       "</style>\n",
       "<table border=\"1\" class=\"dataframe\">\n",
       "  <thead>\n",
       "    <tr style=\"text-align: right;\">\n",
       "      <th></th>\n",
       "      <th>total_sales</th>\n",
       "    </tr>\n",
       "    <tr>\n",
       "      <th>platform</th>\n",
       "      <th></th>\n",
       "    </tr>\n",
       "  </thead>\n",
       "  <tbody>\n",
       "    <tr>\n",
       "      <td>PS4</td>\n",
       "      <td>314.14</td>\n",
       "    </tr>\n",
       "    <tr>\n",
       "      <td>PS3</td>\n",
       "      <td>288.79</td>\n",
       "    </tr>\n",
       "    <tr>\n",
       "      <td>X360</td>\n",
       "      <td>236.54</td>\n",
       "    </tr>\n",
       "    <tr>\n",
       "      <td>3DS</td>\n",
       "      <td>194.61</td>\n",
       "    </tr>\n",
       "    <tr>\n",
       "      <td>XOne</td>\n",
       "      <td>159.32</td>\n",
       "    </tr>\n",
       "    <tr>\n",
       "      <td>WiiU</td>\n",
       "      <td>82.19</td>\n",
       "    </tr>\n",
       "    <tr>\n",
       "      <td>PC</td>\n",
       "      <td>62.65</td>\n",
       "    </tr>\n",
       "    <tr>\n",
       "      <td>PSV</td>\n",
       "      <td>49.18</td>\n",
       "    </tr>\n",
       "    <tr>\n",
       "      <td>Wii</td>\n",
       "      <td>35.37</td>\n",
       "    </tr>\n",
       "    <tr>\n",
       "      <td>PSP</td>\n",
       "      <td>11.19</td>\n",
       "    </tr>\n",
       "  </tbody>\n",
       "</table>\n",
       "</div>"
      ],
      "text/plain": [
       "          total_sales\n",
       "platform             \n",
       "PS4            314.14\n",
       "PS3            288.79\n",
       "X360           236.54\n",
       "3DS            194.61\n",
       "XOne           159.32\n",
       "WiiU            82.19\n",
       "PC              62.65\n",
       "PSV             49.18\n",
       "Wii             35.37\n",
       "PSP             11.19"
      ]
     },
     "metadata": {},
     "output_type": "display_data"
    },
    {
     "data": {
      "text/plain": [
       "([<matplotlib.axis.XTick at 0x7fa5fb4b9590>,\n",
       "  <matplotlib.axis.XTick at 0x7fa5fb4bec10>,\n",
       "  <matplotlib.axis.XTick at 0x7fa5fb4c4f90>,\n",
       "  <matplotlib.axis.XTick at 0x7fa5fb6b6750>,\n",
       "  <matplotlib.axis.XTick at 0x7fa5fb6c21d0>],\n",
       " <a list of 5 Text xticklabel objects>)"
      ]
     },
     "execution_count": 16,
     "metadata": {},
     "output_type": "execute_result"
    },
    {
     "data": {
      "image/png": "[encoded data removed]",
      "text/plain": [
       "<Figure size 1080x576 with 1 Axes>"
      ]
     },
     "metadata": {
      "needs_background": "light"
     },
     "output_type": "display_data"
    }
   ],
   "source": [
    "# Сводная таблица по продажам на каждой платформе на актуальном временном промежутке\n",
    "display(df_actual.pivot_table(index = 'platform', values = 'total_sales', aggfunc = 'sum')\n",
    "                .sort_values(by='total_sales', ascending = False))\n",
    "\n",
    "# Строим график продаж по годам для каждой платформы\n",
    "(df_actual.pivot_table(index = 'year_of_release', columns = 'platform', values = 'total_sales', aggfunc = 'sum')\n",
    " .plot(figsize = (15,8), grid = True, style = '-o', title = 'Популярность платформ'))\n",
    "plt.xlabel('Год')\n",
    "plt.ylabel('Проданных копий, млн шт.')\n",
    "plt.xticks(range(min(df_actual['year_of_release']), max(df_actual['year_of_release'])+1))"
   ]
  },
  {
   "cell_type": "markdown",
   "metadata": {},
   "source": [
    "Лидерами по продажам на актуальном отрезке являются PS4, PS3, Xbox 360, 3DS и XOne. Cудя по графику, жизненный цикл PS3 и Xbox 360 как раз подходит к концу во время проведения исследования (консоли вышли на рынок в 2006 и 2005 соответсвенно). Аналогичная ситуация с падением популярности присуща практически всем платформам, за исключением трех - PS4, Xbox One и PC:\n",
    "* Первые две вышли на рынок в 2013 и еще набирают свою популярность (падение в конце графика связано, скорее всего, с неполнотой данных за 2016 год);\n",
    "* Популярность 3DS на актуальном промежутке снижается, но находится на третьем месте по объему продаж;\n",
    "* Популярность компьютера как игровой платформы хоть и не высока, она всегда держится примерно на одном уровне.\n",
    "\n",
    "Платформы вроде Wii U и PS Vita имеют нисходящий тренд буквально с момента выхода на рынок.<br>\n",
    "Более старые платформы не рассматриваются в связи с тем, что их жизненный цикл подходит к концу, и надеяться на увеличение спроса на них бессмысленно.\n",
    "\n",
    "По итогу выделяются четыре потенциально прибыльные платформы: **PlayStation 4, Xbox One, PC и Nintendo 3DS.**\n",
    "\n",
    "### Boxplot  по глобальным продажам\n"
   ]
  },
  {
   "cell_type": "code",
   "execution_count": 17,
   "metadata": {},
   "outputs": [
    {
     "data": {
      "text/plain": [
       "Text(0, 0.5, 'Проданных копий, млн шт.')"
      ]
     },
     "execution_count": 17,
     "metadata": {},
     "output_type": "execute_result"
    },
    {
     "data": {
      "image/png": "[encoded data removed]",
      "text/plain": [
       "<Figure size 1080x720 with 1 Axes>"
      ]
     },
     "metadata": {
      "needs_background": "light"
     },
     "output_type": "display_data"
    }
   ],
   "source": [
    "df_actual.boxplot(column = 'total_sales', by = 'platform', figsize = (15,10))\n",
    "plt.ylim(0, 5)\n",
    "plt.xlabel('Платформа')\n",
    "plt.ylabel('Проданных копий, млн шт.')"
   ]
  },
  {
   "cell_type": "markdown",
   "metadata": {},
   "source": [
    "Распределение подтверждает выводы, сделанные выше - судя по медианным значениям, больше всего продаж на актуальном промежутке времени имеют PS3, Xbox 360 и Wii. С небольшим отставанием идут консоли актуального поколения - PS4, Xbox One и Wii U.<br>\n",
    "Маленький ящик и много выбросов говорит о том, что большАя часть объема продаж делается за счет этих выбросов. В то же время большой бокс, длинный ус и малое количество выбросов свидетельствует о том, что пользователи покупают самые разные игры, причем, в немалом количестве.<br>\n",
    "Хоть медианные значения продаж и не высоки, на диаграмме присутствует много выбросов - очевидно, есть популярные релизы, количество продаж которых в разы превыает средние показатели по платформе. Далее изучим, с чем это может быть связано.\n",
    "\n",
    "### Связь между отзывами и продажами\n",
    "Посмотрим, как влияют на продажи внутри двух популярных платформ отзывы пользователей и критиков. Для этого воспользуемся собственной функцией `corr_scatter_builder`, которая строит диаграмму рассеяния и рассчитывает корреляцию между отзывами и продажами.\n",
    "\n",
    "Сначала рассмотрим связь с **пользовательскими оценками**:"
   ]
  },
  {
   "cell_type": "code",
   "execution_count": 18,
   "metadata": {
    "scrolled": false
   },
   "outputs": [
    {
     "name": "stdout",
     "output_type": "stream",
     "text": [
      "Коэффициент корреляции для платформы PS4: -0.031957110204556424\n",
      "Коэффициент корреляции для платформы XOne: -0.06892505328279412\n"
     ]
    },
    {
     "data": {
      "image/png": "[encoded data removed]",
      "text/plain": [
       "<Figure size 576x360 with 1 Axes>"
      ]
     },
     "metadata": {
      "needs_background": "light"
     },
     "output_type": "display_data"
    },
    {
     "data": {
      "image/png": "[encoded data removed]",
      "text/plain": [
       "<Figure size 576x360 with 1 Axes>"
      ]
     },
     "metadata": {
      "needs_background": "light"
     },
     "output_type": "display_data"
    }
   ],
   "source": [
    "platforms = ['PS4', 'XOne']\n",
    "corr_scatter_builder(platforms, 'user_score')"
   ]
  },
  {
   "cell_type": "markdown",
   "metadata": {},
   "source": [
    "Судя по коэффициентам корреляции, зависимость между пользовательскими оценками и количеством проданных копий довольно слабая. Однако это противоречит диаграммам - на них видно, что чем большую оценку имеет игра, тем более успешно она показывает себя на рынке.<br>\n",
    "Это связано с тем, что коэффициент корреляции показывает линейную зависимость, а в нашем случае зависимость нелинейная.\n",
    "\n",
    "Далее рассмотрим связь с **оценками критиков**:"
   ]
  },
  {
   "cell_type": "code",
   "execution_count": 19,
   "metadata": {},
   "outputs": [
    {
     "name": "stdout",
     "output_type": "stream",
     "text": [
      "Коэффициент корреляции для платформы PS4: 0.406567902061781\n",
      "Коэффициент корреляции для платформы XOne: 0.41699832800840175\n"
     ]
    },
    {
     "data": {
      "image/png": "[encoded data removed]",
      "text/plain": [
       "<Figure size 576x360 with 1 Axes>"
      ]
     },
     "metadata": {
      "needs_background": "light"
     },
     "output_type": "display_data"
    },
    {
     "data": {
      "image/png": "[encoded data removed]",
      "text/plain": [
       "<Figure size 576x360 with 1 Axes>"
      ]
     },
     "metadata": {
      "needs_background": "light"
     },
     "output_type": "display_data"
    }
   ],
   "source": [
    "platforms = ['PS4', 'XOne']\n",
    "corr_scatter_builder(platforms, 'critic_score')"
   ]
  },
  {
   "cell_type": "markdown",
   "metadata": {},
   "source": [
    "Схожая с оценками пользователей картина, только наблюдается более сильная корреляция. Она же подтвержается диаграммами - точки на них расположены более кучно, и по мере увеличения оценки, увеличивается и число продаж.\n",
    "\n",
    "### Распределение по жанрам\n",
    "Посмотрим на общее распределение игр по жанрам. Выделим жанры с высокими и низкими продажами."
   ]
  },
  {
   "cell_type": "code",
   "execution_count": 20,
   "metadata": {},
   "outputs": [
    {
     "data": {
      "text/html": [
       "<div>\n",
       "<style scoped>\n",
       "    .dataframe tbody tr th:only-of-type {\n",
       "        vertical-align: middle;\n",
       "    }\n",
       "\n",
       "    .dataframe tbody tr th {\n",
       "        vertical-align: top;\n",
       "    }\n",
       "\n",
       "    .dataframe thead th {\n",
       "        text-align: right;\n",
       "    }\n",
       "</style>\n",
       "<table border=\"1\" class=\"dataframe\">\n",
       "  <thead>\n",
       "    <tr style=\"text-align: right;\">\n",
       "      <th></th>\n",
       "      <th>total_sales</th>\n",
       "    </tr>\n",
       "    <tr>\n",
       "      <th>genre</th>\n",
       "      <th></th>\n",
       "    </tr>\n",
       "  </thead>\n",
       "  <tbody>\n",
       "    <tr>\n",
       "      <td>Action</td>\n",
       "      <td>439.30</td>\n",
       "    </tr>\n",
       "    <tr>\n",
       "      <td>Shooter</td>\n",
       "      <td>304.73</td>\n",
       "    </tr>\n",
       "    <tr>\n",
       "      <td>Role-Playing</td>\n",
       "      <td>183.72</td>\n",
       "    </tr>\n",
       "    <tr>\n",
       "      <td>Sports</td>\n",
       "      <td>180.96</td>\n",
       "    </tr>\n",
       "    <tr>\n",
       "      <td>Misc</td>\n",
       "      <td>84.56</td>\n",
       "    </tr>\n",
       "    <tr>\n",
       "      <td>Platform</td>\n",
       "      <td>60.31</td>\n",
       "    </tr>\n",
       "    <tr>\n",
       "      <td>Racing</td>\n",
       "      <td>53.50</td>\n",
       "    </tr>\n",
       "    <tr>\n",
       "      <td>Fighting</td>\n",
       "      <td>44.49</td>\n",
       "    </tr>\n",
       "    <tr>\n",
       "      <td>Simulation</td>\n",
       "      <td>34.91</td>\n",
       "    </tr>\n",
       "    <tr>\n",
       "      <td>Adventure</td>\n",
       "      <td>29.37</td>\n",
       "    </tr>\n",
       "    <tr>\n",
       "      <td>Strategy</td>\n",
       "      <td>13.34</td>\n",
       "    </tr>\n",
       "    <tr>\n",
       "      <td>Puzzle</td>\n",
       "      <td>4.79</td>\n",
       "    </tr>\n",
       "  </tbody>\n",
       "</table>\n",
       "</div>"
      ],
      "text/plain": [
       "              total_sales\n",
       "genre                    \n",
       "Action             439.30\n",
       "Shooter            304.73\n",
       "Role-Playing       183.72\n",
       "Sports             180.96\n",
       "Misc                84.56\n",
       "Platform            60.31\n",
       "Racing              53.50\n",
       "Fighting            44.49\n",
       "Simulation          34.91\n",
       "Adventure           29.37\n",
       "Strategy            13.34\n",
       "Puzzle               4.79"
      ]
     },
     "execution_count": 20,
     "metadata": {},
     "output_type": "execute_result"
    }
   ],
   "source": [
    "df_actual.pivot_table(index = 'genre', values = 'total_sales', aggfunc = 'sum').sort_values(by='total_sales', ascending = False)"
   ]
  },
  {
   "cell_type": "markdown",
   "metadata": {},
   "source": [
    "Наиболее популярным жанром является *Экшен* с почти 450 млн продаж на актуальном отрезке времени. Это довольно широкое понятие, и в этот жанр могут входить как файтинги и шутеры, так и платформеры - но в нашем случае эти жанры вынесены отдельными элементами, так что самым популярным все-таки будем считать именно **Экшен** в широком понятии.<br>\n",
    "На втором месте находится жанр шутеров с 300 млн продаж; чуть менее, чем в 1.5 раза более скромный результат показали жанры *спорт* и *RPG*.<br>\n",
    "Наименее популярными жанрами являются *паззлы* и *стратегии* - в среднем 18 миллионов проданных копий каждого жанра за 5 лет.<br>\n",
    "\n",
    "Для каждого жанра посчитаем количество выпущенных игр и медианное число продаж. Для жанров Action, Shooter, Role-Playing, Sports посчитаем количество игр, продавшихся тиражом более 5 млн (назовем их \"бестселлерами\")."
   ]
  },
  {
   "cell_type": "code",
   "execution_count": 21,
   "metadata": {
    "scrolled": false
   },
   "outputs": [
    {
     "data": {
      "text/html": [
       "<div>\n",
       "<style scoped>\n",
       "    .dataframe tbody tr th:only-of-type {\n",
       "        vertical-align: middle;\n",
       "    }\n",
       "\n",
       "    .dataframe tbody tr th {\n",
       "        vertical-align: top;\n",
       "    }\n",
       "\n",
       "    .dataframe thead th {\n",
       "        text-align: right;\n",
       "    }\n",
       "</style>\n",
       "<table border=\"1\" class=\"dataframe\">\n",
       "  <thead>\n",
       "    <tr style=\"text-align: right;\">\n",
       "      <th></th>\n",
       "      <th>count</th>\n",
       "      <th>median</th>\n",
       "    </tr>\n",
       "    <tr>\n",
       "      <th>genre</th>\n",
       "      <th></th>\n",
       "      <th></th>\n",
       "    </tr>\n",
       "  </thead>\n",
       "  <tbody>\n",
       "    <tr>\n",
       "      <td>Action</td>\n",
       "      <td>1016</td>\n",
       "      <td>0.12</td>\n",
       "    </tr>\n",
       "    <tr>\n",
       "      <td>Role-Playing</td>\n",
       "      <td>368</td>\n",
       "      <td>0.14</td>\n",
       "    </tr>\n",
       "    <tr>\n",
       "      <td>Adventure</td>\n",
       "      <td>299</td>\n",
       "      <td>0.03</td>\n",
       "    </tr>\n",
       "    <tr>\n",
       "      <td>Sports</td>\n",
       "      <td>266</td>\n",
       "      <td>0.24</td>\n",
       "    </tr>\n",
       "    <tr>\n",
       "      <td>Shooter</td>\n",
       "      <td>235</td>\n",
       "      <td>0.44</td>\n",
       "    </tr>\n",
       "    <tr>\n",
       "      <td>Misc</td>\n",
       "      <td>190</td>\n",
       "      <td>0.12</td>\n",
       "    </tr>\n",
       "    <tr>\n",
       "      <td>Racing</td>\n",
       "      <td>115</td>\n",
       "      <td>0.14</td>\n",
       "    </tr>\n",
       "    <tr>\n",
       "      <td>Fighting</td>\n",
       "      <td>109</td>\n",
       "      <td>0.13</td>\n",
       "    </tr>\n",
       "    <tr>\n",
       "      <td>Platform</td>\n",
       "      <td>83</td>\n",
       "      <td>0.21</td>\n",
       "    </tr>\n",
       "    <tr>\n",
       "      <td>Simulation</td>\n",
       "      <td>79</td>\n",
       "      <td>0.12</td>\n",
       "    </tr>\n",
       "    <tr>\n",
       "      <td>Strategy</td>\n",
       "      <td>71</td>\n",
       "      <td>0.08</td>\n",
       "    </tr>\n",
       "    <tr>\n",
       "      <td>Puzzle</td>\n",
       "      <td>24</td>\n",
       "      <td>0.06</td>\n",
       "    </tr>\n",
       "  </tbody>\n",
       "</table>\n",
       "</div>"
      ],
      "text/plain": [
       "              count  median\n",
       "genre                      \n",
       "Action         1016    0.12\n",
       "Role-Playing    368    0.14\n",
       "Adventure       299    0.03\n",
       "Sports          266    0.24\n",
       "Shooter         235    0.44\n",
       "Misc            190    0.12\n",
       "Racing          115    0.14\n",
       "Fighting        109    0.13\n",
       "Platform         83    0.21\n",
       "Simulation       79    0.12\n",
       "Strategy         71    0.08\n",
       "Puzzle           24    0.06"
      ]
     },
     "metadata": {},
     "output_type": "display_data"
    },
    {
     "name": "stdout",
     "output_type": "stream",
     "text": [
      "Количество бестселлеров жанра Action: 9\n",
      "Количество бестселлеров жанра Shooter: 12\n",
      "Количество бестселлеров жанра Role-Playing: 5\n",
      "Количество бестселлеров жанра Sports: 4\n"
     ]
    }
   ],
   "source": [
    "display(df_actual.pivot_table(index = 'genre', values = 'total_sales', aggfunc = ('count', 'median'))\n",
    "        .sort_values(by='count', ascending = False))\n",
    "for genre in ['Action', 'Shooter', 'Role-Playing', 'Sports']:\n",
    "    print(f\"Количество бестселлеров жанра {genre}: {df_actual.query('genre == @genre & total_sales > 5')['name'].count()}\")"
   ]
  },
  {
   "cell_type": "markdown",
   "metadata": {},
   "source": [
    "Видно, что самое большое медианное значение продаж имеет жанр Shooter. Как и ожидалось, жанр Action превосходит своих конкурентов по количеству выпущенных игр практически в 3 раза - отсюда и большое общее количество продаж. Однако медианное количество продаж ниже всех рассматриваемых жанров.<br>\n",
    "Судя по количеству бестселлеров, жанр Action имеет большое количество только из-за большого количества игр.<br>\n",
    "Жанр Shooter представлен всего 235 играми, имеет медианное количество продаж около 0.45 млн и самое большое количество бестселлеров.\n",
    "\n",
    "Посмотрим на популярность жанров по годам: "
   ]
  },
  {
   "cell_type": "code",
   "execution_count": 22,
   "metadata": {},
   "outputs": [
    {
     "data": {
      "text/plain": [
       "([<matplotlib.axis.XTick at 0x7fa5f9996610>,\n",
       "  <matplotlib.axis.XTick at 0x7fa5f999ed10>,\n",
       "  <matplotlib.axis.XTick at 0x7fa5f99c2f10>,\n",
       "  <matplotlib.axis.XTick at 0x7fa5f99d0890>,\n",
       "  <matplotlib.axis.XTick at 0x7fa5fb53aed0>],\n",
       " <a list of 5 Text xticklabel objects>)"
      ]
     },
     "execution_count": 22,
     "metadata": {},
     "output_type": "execute_result"
    },
    {
     "data": {
      "image/png": "[encoded data removed]",
      "text/plain": [
       "<Figure size 1080x576 with 1 Axes>"
      ]
     },
     "metadata": {
      "needs_background": "light"
     },
     "output_type": "display_data"
    }
   ],
   "source": [
    "# Строим график продаж по годам для каждой платформы\n",
    "(df_actual.pivot_table(index = 'year_of_release', columns = 'genre', values = 'total_sales', aggfunc = 'sum')\n",
    " .plot(figsize = (15,8), grid = True, style = '-o', title = 'Популярность жанров'))\n",
    "plt.xlabel('Год')\n",
    "plt.ylabel('Проданных копий, млн шт.')\n",
    "plt.xticks(range(min(df_actual['year_of_release']), max(df_actual['year_of_release'])+1))"
   ]
  },
  {
   "cell_type": "markdown",
   "metadata": {},
   "source": [
    "График выглядит неутешительно - общее число продаж падает. Однако, жанры экшен, шутер, спорт и RPG находятся значительно выше остальных на графике.<br>\n",
    "Заметно, что за последние два года (не включая 2016, т.к. данные о нем неполные) жанр шутеров набирает популярность, в то время как экшен ее стремительно теряет.\n",
    "\n",
    "### Вывод\n",
    "В разделе мы выяснили, что количество выпускаемых игр в последние годы снизилось. Актуальным был выбран период **2012-2017 гг.** Потенциально прибыльными платформами были названы **PlayStation 4, Xbox One, PC и Nintendo 3DS.** Было установлено, что количество продаж сильнее коррелирует с отзывами критиков, чем игроков - чем выше оценка, тем больше продаж. Наиболее актуальные жанры - **Action** или **Shooter**.\n",
    "\n",
    "## Портрет типичного пользователя\n",
    "Составим портрет типичного пользователя для каждого из регионов: на каких платформах и в какие жанры играет. Изучим, влияет ли рейтинг ESRB на продажи в отдельном регионе.\n",
    "\n",
    "### Топ-5 платформ\n",
    "Выделим самые популярные платформы у пользователей разных регионов. Воспользуемся собственной функцией `top_5_pie_chart`, которая строит пайчарты пяти самых популярных элементов столбца для каждого региона:"
   ]
  },
  {
   "cell_type": "code",
   "execution_count": 23,
   "metadata": {
    "scrolled": false
   },
   "outputs": [
    {
     "data": {
      "image/png": "[encoded data removed]",
      "text/plain": [
       "<Figure size 1296x432 with 3 Axes>"
      ]
     },
     "metadata": {},
     "output_type": "display_data"
    }
   ],
   "source": [
    "top_5_pie_chart('platform')"
   ]
  },
  {
   "cell_type": "markdown",
   "metadata": {},
   "source": [
    "Топ-5 платформ в каждом регионе на актуальном промежутке времени в порядке убывания популярности:<br>\n",
    "**Северная Америка:**\n",
    "* Xbox 360\n",
    "* PlayStation 4\n",
    "* PlayStation 3\n",
    "* Xbox One\n",
    "* Nintendo 3DS\n",
    "\n",
    "**Европа:**\n",
    "* PlayStation 4\n",
    "* PlayStation 3\n",
    "* Xbox 360\n",
    "* Xbox One\n",
    "* Nintendo 3DS\n",
    "\n",
    "**Япония:**\n",
    "* Nintendo 3DS\n",
    "* PlayStation 3\n",
    "* PlayStation Vita\n",
    "* PlayStation 4\n",
    "* Nintendo Wii U\n",
    "\n",
    "Пользователи из Америки и Европы выбирают схожие платформы, в Японии выбирают местных производителей - Sony и Nintendo.<br>\n",
    "Из названных \"потенциально прибыльными\" платформ не появляется только PC.\n",
    "\n",
    "### Топ-5 жанров\n",
    "Аналогичным образом выделим популярные жанры:"
   ]
  },
  {
   "cell_type": "code",
   "execution_count": 24,
   "metadata": {
    "scrolled": true
   },
   "outputs": [
    {
     "data": {
      "image/png": "[encoded data removed]",
      "text/plain": [
       "<Figure size 1296x432 with 3 Axes>"
      ]
     },
     "metadata": {},
     "output_type": "display_data"
    }
   ],
   "source": [
    "top_5_pie_chart('genre')"
   ]
  },
  {
   "cell_type": "markdown",
   "metadata": {},
   "source": [
    "Топ-5 жанров в каждом регионе на актуальном промежутке времени в порядке убывания популярности:<br>\n",
    "**Северная Америка:**\n",
    "* Action\n",
    "* Shooter\n",
    "* Sports\n",
    "* Role-Playing\n",
    "* Misc\n",
    "\n",
    "**Европа:**\n",
    "* Action\n",
    "* Shooter\n",
    "* Sports\n",
    "* Role-Playing\n",
    "* Racing\n",
    "\n",
    "**Япония:**\n",
    "* Role-Playing\n",
    "* Action\n",
    "* Misc\n",
    "* Simuulation\n",
    "* Fighting\n",
    "\n",
    "Предпочтения по жанрам в Америке и Европе, самых больших рынках, практически совпадают - пользователи любят экшены, шутеры, спортивные и ролевые игры. Пользователи из Японии предпочитают в основном ролевые игры и экшен.\n",
    "\n",
    "### Влияние рейтинга ESRB на продажи\n",
    "Проверим, влияет ли рейтинг ESRB на продажи в отдельном регионе. Не будем брать в расчет значения-заглушки \"RP\" (Rating Pending)."
   ]
  },
  {
   "cell_type": "code",
   "execution_count": 25,
   "metadata": {},
   "outputs": [
    {
     "data": {
      "image/png": "[encoded data removed]",
      "text/plain": [
       "<Figure size 1080x360 with 3 Axes>"
      ]
     },
     "metadata": {
      "needs_background": "light"
     },
     "output_type": "display_data"
    }
   ],
   "source": [
    "plt.subplots(figsize = (15,5))\n",
    "regions = ['na_sales', 'eu_sales', 'jp_sales']\n",
    "for plot_num, region in enumerate(regions):\n",
    "    (df_actual.query('rating != \"RP\"')\n",
    "     .pivot_table(index = 'rating', values = region, aggfunc = 'sum')\n",
    "     .sort_values(region)\n",
    "     .plot(kind = 'bar', ax = plt.subplot(1, len(regions), plot_num + 1)))\n",
    "    plt.xlabel('Рейтинг')\n",
    "    plt.ylabel('Проданных копий, млн шт.')"
   ]
  },
  {
   "cell_type": "markdown",
   "metadata": {},
   "source": [
    "Видно, что в Северной Америке и Европе преобладают  продажи игр с рейтингами M (Mature), на втором месте (почти в два раза меньше) располагается рейтинг E (Everyone). В Японии преобладают продажи игр без рейтинга, и причин этому может быть несколько: внутренние релизы японии часто не имеют рейтинга ESRB, либо у нас нет информации по этим релизам - в любом случае, это небольшой самобытный рынок, и если интересен именно он, с ним придется работать отдельно.\n",
    "\n",
    "### Вывод\n",
    "По итогам исследования, проведенного в разделе, можно обозначить следующий портрет типичного пользователя:\n",
    "\n",
    "**Для Северной Америки:**<br>\n",
    "Пользуется **Xbox 360** или **PlayStation 4**, предпочитает игры жанра **экшен** или **шутер** с рейтингом **M** или **Е**. \n",
    "\n",
    "**Для Европы:**<br>\n",
    "Пользуется **PlayStation 4** или **PlayStation 3**, предпочитает игры жанра **экшен** или **шутер** с рейтингом **M** или **E**. \n",
    "\n",
    "**Для Японии:**<br>\n",
    "Пользуется **Nintendo 3DS** или **PlayStation 3**, предпочитает игры жанра **RPG** или **экшен** без рейтинга вообще или с рейтингом **Е**. \n",
    "\n",
    "\n",
    "## Проверка гипотез\n",
    "### Сравнение рейтингов Xbox One и PC\n",
    "Нулевая гипотеза звучит как \"средние пользовательские рейтинги платформ Xbox One и PC одинаковые\". Тогда альтернативная гипотеза будет звучать как \"средние пользовательские рейтинги платформ Xbox One и PC разные\".<br>\n",
    "Воспользуемся собственной функцией `hypothesis_check`. Задаем критический уровень статистической значимости равным 5%, так как это стандартное значение для исследований."
   ]
  },
  {
   "cell_type": "code",
   "execution_count": 26,
   "metadata": {
    "scrolled": true
   },
   "outputs": [
    {
     "name": "stdout",
     "output_type": "stream",
     "text": [
      "p-значение: 0.5535080500643661\n",
      "Не получилось отвергнуть нулевую гипотезу.\n"
     ]
    }
   ],
   "source": [
    "objects = ['XOne', 'PC']\n",
    "hypothesis_check('platform', objects, 'user_score', 0.05)"
   ]
  },
  {
   "cell_type": "markdown",
   "metadata": {},
   "source": [
    "Принимаем решение, что нулевая гипотеза верна - средние пользовательские рейтинги на Xbox One и PC равны. Подчитаем их:"
   ]
  },
  {
   "cell_type": "code",
   "execution_count": 27,
   "metadata": {},
   "outputs": [
    {
     "name": "stdout",
     "output_type": "stream",
     "text": [
      "Средний пользователский рейтинг на XOne равен 6.521428571428572\n",
      "Средний пользователский рейтинг на PC равен 6.428640776699029\n"
     ]
    }
   ],
   "source": [
    "for item in ['XOne', 'PC']:\n",
    "    print(f'Средний пользователский рейтинг на {item} равен {df_actual[df_actual[\"platform\"] == item][\"user_score\"].mean()}')"
   ]
  },
  {
   "cell_type": "markdown",
   "metadata": {},
   "source": [
    "Разница равна примерно 0.1 балла, что составляет всего 1%.\n",
    "\n",
    "### Сравнение жанров Action и Sports\n",
    "Нулевая гипотеза звучит как \"cредние пользовательские рейтинги жанров Action и Sports одинаковые\". В таком случае, альтернативная гипотеза будет звучать как \"cредние пользовательские рейтинги жанров Action и Sports разные\".<br>\n",
    "Критический уровень статистической значимости оставляем равным 5%."
   ]
  },
  {
   "cell_type": "code",
   "execution_count": 28,
   "metadata": {
    "scrolled": true
   },
   "outputs": [
    {
     "name": "stdout",
     "output_type": "stream",
     "text": [
      "p-значение: 3.3809723133310956e-26\n",
      "Отвергаем нулевую гипотезу.\n"
     ]
    }
   ],
   "source": [
    "objects = ['Action', 'Sports']\n",
    "hypothesis_check('genre', objects, 'user_score', 0.05)"
   ]
  },
  {
   "cell_type": "markdown",
   "metadata": {},
   "source": [
    "Принимаем, что нулевая гипотеза не верна. Судя по p-значению, вероятность равенства среднего пользовательского рейтинга жанров Action и Sports очень мала. В таком случае, посчитаем среднее значение рейтинга для каждого жанра, сравним их и сделаем вывод."
   ]
  },
  {
   "cell_type": "code",
   "execution_count": 29,
   "metadata": {
    "scrolled": true
   },
   "outputs": [
    {
     "name": "stdout",
     "output_type": "stream",
     "text": [
      "Средний пользователский рейтинг жанра Action равен 6.826679462571977\n",
      "Средний пользователский рейтинг жанра Sports равен 5.455897435897437\n"
     ]
    }
   ],
   "source": [
    "for item in ['Action', 'Sports']:\n",
    "    print(f'Средний пользователский рейтинг жанра {item} равен {df_actual[df_actual[\"genre\"] == item][\"user_score\"].mean()}')"
   ]
  },
  {
   "cell_type": "markdown",
   "metadata": {},
   "source": [
    "Разница равна примерно 1.4 балла, что составляет уже 14%.\n",
    "\n",
    "### Вывод\n",
    "По итогам работы раздела, гипотеза о равенстве рейтингов на Xbox One и PC была принята. Гипотеза о равенстве рейтингов жанров Action и Sports была отвергнута - средний рейтинг жанра Action выше.\n",
    "\n",
    "## Общий вывод\n",
    "В ходе работы были изучены исторические данные о продажах игр, оценки пользователей и экспертов, жанры и платформы. Согласно условиям, исследование проводится в декабре 2016 года, задание - спланировать рекламную кампанию на 2017 год.\n",
    "\n",
    "На первом этапе данные в таблице были приведены к нужным типам, в данных были устанены незначительные ошибки. В таблицу был добавлен столбец с данными о суммарных продажах каждой игры во всех представленных регионах.\n",
    "\n",
    "По итогам исследовательского анализа данных были сделаны следующие выводы:\n",
    "* Количество ежегодных продаж падает с *2009* года.\n",
    "* На промежутке *1990-2017* гг. в топ-10 платформ с наибольшим количеством проданных игр вошли DS, GBA и Wii (Nintendo); PS, PS2, PS3, PS4 и PSP (Sony); Xbox 360 (Microsoft); PC.\n",
    "* Актуальным для дальнейшего исследования периодом был выбран **2012-2017** гг.\n",
    "* Потенциально прибыльными платформами были выбраны **PlayStation 4**, **Xbox One**, **PC** и **Nintendo 3DS**, т.к. они находятся в начале своего жизненного цикла.\n",
    "* В среднем указанные платформы на исследуемом промежутке времени уже имеют сравнимое с лидерами предыдущего поколения (PS3 и Xbox 360) число продаж - учитывая, что на рынке они находятся чуть меньше половины периода.\n",
    "* Прослеживается похожая на линейную зависимость между оценками и количеством проданных копий игры - причем оценки критиков имеют большее влияние, чем оценки игроков.\n",
    "* Наиболее популярными жанрами являются **Action**, **Shooter**, **Sports** и **RPG**. За последние два года (не включая *2016*, т.к. данные о нем неполные) жанр **Shooter** набирает популярность, в то время как **Action** ее теряет.\n",
    "* Рынки Серевной Америки и Европы очень похожи по своим предпочтениям платформ и жанров.\n",
    "* Гипотеза о равенстве средних пользовательских рейтингов на Xbox One и PC была **принята**. Разница между средними значениями составляет около 1%.\n",
    "* Гипотеза о равенстве средних пользовательских рейтингов жанров Action и Sports **отвергается**. Средний пользовательский рейтинг жанра Action на 14% выше.\n",
    "\n",
    "В ходе исследования были составлены портреты типичного пользователя каждого региона:<br>\n",
    "\n",
    "**Для Северной Америки:**<br>\n",
    "Пользуется **Xbox 360** или **PlayStation 4**, предпочитает игры жанра **экшен** или **шутер** с рейтингом **M** или **Е**. \n",
    "\n",
    "**Для Европы:**<br>\n",
    "Пользуется **PlayStation 4** или **PlayStation 3**, предпочитает игры жанра **экшен** или **шутер** с рейтингом **M** или **E**. \n",
    "\n",
    "**Для Японии:**<br>\n",
    "Пользуется **Nintendo 3DS** или **PlayStation 3**, предпочитает игры жанра **RPG** или **экшен** без рейтинга вообще или с рейтингом **Е**. \n",
    "\n",
    "По итогам работы можно дать следующую рекомендацию:<br>\n",
    "Успешной в *2017* году может стать игра в жанре **Shooter** или **Action**, выпущенная на платформах **PlayStation 4**, **Xbox One**, **PC** или **Nintendo 3DS** с возрастным рейтингом **M** или **Е**, выпущенная на европейский и североамериканский рынки, и высоко оцененная критиками и игроками."
   ]
  }
 ],
 "metadata": {
  "ExecuteTimeLog": [
   {
    "duration": 1395,
    "start_time": "2022-01-03T16:50:57.242Z"
   },
   {
    "duration": 49,
    "start_time": "2022-01-03T16:52:17.843Z"
   },
   {
    "duration": 66,
    "start_time": "2022-01-03T16:52:41.524Z"
   },
   {
    "duration": 64,
    "start_time": "2022-01-03T16:53:10.914Z"
   },
   {
    "duration": 1308,
    "start_time": "2022-01-03T16:53:15.609Z"
   },
   {
    "duration": 69,
    "start_time": "2022-01-03T16:53:16.920Z"
   },
   {
    "duration": 15,
    "start_time": "2022-01-03T16:54:41.194Z"
   },
   {
    "duration": 17,
    "start_time": "2022-01-03T17:13:37.545Z"
   },
   {
    "duration": 4,
    "start_time": "2022-01-03T17:14:27.519Z"
   },
   {
    "duration": 425,
    "start_time": "2022-01-03T17:55:39.774Z"
   },
   {
    "duration": 291,
    "start_time": "2022-01-03T17:55:46.406Z"
   },
   {
    "duration": 286,
    "start_time": "2022-01-03T17:55:52.812Z"
   },
   {
    "duration": 9,
    "start_time": "2022-01-03T17:57:20.970Z"
   },
   {
    "duration": 18,
    "start_time": "2022-01-03T17:57:29.039Z"
   },
   {
    "duration": 9,
    "start_time": "2022-01-03T17:57:52.953Z"
   },
   {
    "duration": 8,
    "start_time": "2022-01-03T17:58:18.012Z"
   },
   {
    "duration": 1402,
    "start_time": "2022-01-03T17:58:46.826Z"
   },
   {
    "duration": 67,
    "start_time": "2022-01-03T17:58:48.231Z"
   },
   {
    "duration": 14,
    "start_time": "2022-01-03T17:58:48.301Z"
   },
   {
    "duration": 4,
    "start_time": "2022-01-03T17:58:48.317Z"
   },
   {
    "duration": 47,
    "start_time": "2022-01-03T17:58:48.323Z"
   },
   {
    "duration": 7,
    "start_time": "2022-01-03T17:58:48.372Z"
   },
   {
    "duration": 1356,
    "start_time": "2022-01-03T18:00:27.177Z"
   },
   {
    "duration": 69,
    "start_time": "2022-01-03T18:00:28.536Z"
   },
   {
    "duration": 14,
    "start_time": "2022-01-03T18:00:28.608Z"
   },
   {
    "duration": 7,
    "start_time": "2022-01-03T18:00:28.625Z"
   },
   {
    "duration": 423,
    "start_time": "2022-01-03T18:00:28.635Z"
   },
   {
    "duration": -921,
    "start_time": "2022-01-03T18:00:29.981Z"
   },
   {
    "duration": 24,
    "start_time": "2022-01-03T18:00:46.394Z"
   },
   {
    "duration": 7,
    "start_time": "2022-01-03T18:00:48.798Z"
   },
   {
    "duration": 1342,
    "start_time": "2022-01-03T18:00:57.988Z"
   },
   {
    "duration": 70,
    "start_time": "2022-01-03T18:00:59.333Z"
   },
   {
    "duration": 14,
    "start_time": "2022-01-03T18:00:59.406Z"
   },
   {
    "duration": 5,
    "start_time": "2022-01-03T18:00:59.423Z"
   },
   {
    "duration": 52,
    "start_time": "2022-01-03T18:00:59.431Z"
   },
   {
    "duration": 7,
    "start_time": "2022-01-03T18:00:59.485Z"
   },
   {
    "duration": 1504,
    "start_time": "2022-01-03T18:01:42.027Z"
   },
   {
    "duration": 67,
    "start_time": "2022-01-03T18:01:43.534Z"
   },
   {
    "duration": 14,
    "start_time": "2022-01-03T18:01:43.605Z"
   },
   {
    "duration": 3,
    "start_time": "2022-01-03T18:01:43.622Z"
   },
   {
    "duration": 46,
    "start_time": "2022-01-03T18:01:43.628Z"
   },
   {
    "duration": 7,
    "start_time": "2022-01-03T18:01:43.676Z"
   },
   {
    "duration": 19,
    "start_time": "2022-01-03T18:02:27.156Z"
   },
   {
    "duration": 420,
    "start_time": "2022-01-03T18:03:34.886Z"
   },
   {
    "duration": 1402,
    "start_time": "2022-01-03T18:03:50.042Z"
   },
   {
    "duration": 70,
    "start_time": "2022-01-03T18:03:51.447Z"
   },
   {
    "duration": 16,
    "start_time": "2022-01-03T18:03:51.521Z"
   },
   {
    "duration": 23,
    "start_time": "2022-01-03T18:03:51.540Z"
   },
   {
    "duration": 22,
    "start_time": "2022-01-03T18:03:51.567Z"
   },
   {
    "duration": 17,
    "start_time": "2022-01-03T18:03:51.592Z"
   },
   {
    "duration": 410,
    "start_time": "2022-01-03T18:04:04.444Z"
   },
   {
    "duration": 1392,
    "start_time": "2022-01-03T18:04:11.538Z"
   },
   {
    "duration": 70,
    "start_time": "2022-01-03T18:04:12.933Z"
   },
   {
    "duration": 13,
    "start_time": "2022-01-03T18:04:13.006Z"
   },
   {
    "duration": 9,
    "start_time": "2022-01-03T18:04:13.022Z"
   },
   {
    "duration": 37,
    "start_time": "2022-01-03T18:04:13.033Z"
   },
   {
    "duration": 404,
    "start_time": "2022-01-03T18:04:13.073Z"
   },
   {
    "duration": 19,
    "start_time": "2022-01-03T18:04:33.638Z"
   },
   {
    "duration": 8128,
    "start_time": "2022-01-03T18:05:49.517Z"
   },
   {
    "duration": 18,
    "start_time": "2022-01-03T18:06:11.191Z"
   },
   {
    "duration": 18,
    "start_time": "2022-01-03T18:06:31.874Z"
   },
   {
    "duration": 20,
    "start_time": "2022-01-03T18:07:07.420Z"
   },
   {
    "duration": 17,
    "start_time": "2022-01-03T18:07:28.259Z"
   },
   {
    "duration": 2055,
    "start_time": "2022-01-03T18:07:34.074Z"
   },
   {
    "duration": 72,
    "start_time": "2022-01-03T18:07:36.131Z"
   },
   {
    "duration": 18,
    "start_time": "2022-01-03T18:07:36.207Z"
   },
   {
    "duration": 5,
    "start_time": "2022-01-03T18:07:36.228Z"
   },
   {
    "duration": 41,
    "start_time": "2022-01-03T18:07:36.236Z"
   },
   {
    "duration": 1329,
    "start_time": "2022-01-03T18:07:52.405Z"
   },
   {
    "duration": 71,
    "start_time": "2022-01-03T18:07:53.737Z"
   },
   {
    "duration": 14,
    "start_time": "2022-01-03T18:07:53.812Z"
   },
   {
    "duration": 3,
    "start_time": "2022-01-03T18:07:53.829Z"
   },
   {
    "duration": 472,
    "start_time": "2022-01-03T18:07:53.835Z"
   },
   {
    "duration": 19,
    "start_time": "2022-01-03T18:08:07.784Z"
   },
   {
    "duration": 21,
    "start_time": "2022-01-03T18:11:24.917Z"
   },
   {
    "duration": 499,
    "start_time": "2022-01-03T18:13:19.209Z"
   },
   {
    "duration": 292,
    "start_time": "2022-01-03T18:14:35.244Z"
   },
   {
    "duration": 292,
    "start_time": "2022-01-03T18:14:38.925Z"
   },
   {
    "duration": 18,
    "start_time": "2022-01-03T18:14:41.241Z"
   },
   {
    "duration": 23,
    "start_time": "2022-01-03T18:15:49.850Z"
   },
   {
    "duration": 313,
    "start_time": "2022-01-03T18:16:40.324Z"
   },
   {
    "duration": 479,
    "start_time": "2022-01-03T18:17:00.035Z"
   },
   {
    "duration": 290,
    "start_time": "2022-01-03T18:17:18.270Z"
   },
   {
    "duration": 23,
    "start_time": "2022-01-03T18:17:23.889Z"
   },
   {
    "duration": 1374,
    "start_time": "2022-01-03T18:17:29.767Z"
   },
   {
    "duration": 74,
    "start_time": "2022-01-03T18:17:31.144Z"
   },
   {
    "duration": 16,
    "start_time": "2022-01-03T18:17:31.221Z"
   },
   {
    "duration": 23,
    "start_time": "2022-01-03T18:17:31.239Z"
   },
   {
    "duration": 35,
    "start_time": "2022-01-03T18:17:31.264Z"
   },
   {
    "duration": 40,
    "start_time": "2022-01-03T18:38:23.730Z"
   },
   {
    "duration": 422,
    "start_time": "2022-01-03T20:32:15.643Z"
   },
   {
    "duration": 1379,
    "start_time": "2022-01-03T20:32:28.147Z"
   },
   {
    "duration": 70,
    "start_time": "2022-01-03T20:32:29.529Z"
   },
   {
    "duration": 16,
    "start_time": "2022-01-03T20:32:29.605Z"
   },
   {
    "duration": 4,
    "start_time": "2022-01-03T20:32:29.624Z"
   },
   {
    "duration": 464,
    "start_time": "2022-01-03T20:32:29.630Z"
   },
   {
    "duration": -989,
    "start_time": "2022-01-03T20:32:31.086Z"
   },
   {
    "duration": 10,
    "start_time": "2022-01-03T20:32:45.059Z"
   },
   {
    "duration": 18,
    "start_time": "2022-01-03T20:32:56.901Z"
   },
   {
    "duration": 30,
    "start_time": "2022-01-03T23:51:54.472Z"
   },
   {
    "duration": 1460,
    "start_time": "2022-01-03T23:56:20.571Z"
   },
   {
    "duration": 68,
    "start_time": "2022-01-03T23:56:22.034Z"
   },
   {
    "duration": 14,
    "start_time": "2022-01-03T23:56:22.105Z"
   },
   {
    "duration": 4,
    "start_time": "2022-01-03T23:56:22.122Z"
   },
   {
    "duration": 50,
    "start_time": "2022-01-03T23:56:22.128Z"
   },
   {
    "duration": 16,
    "start_time": "2022-01-03T23:56:22.181Z"
   },
   {
    "duration": 28,
    "start_time": "2022-01-03T23:58:20.976Z"
   },
   {
    "duration": 35,
    "start_time": "2022-01-04T00:02:58.526Z"
   },
   {
    "duration": 29,
    "start_time": "2022-01-04T00:12:52.958Z"
   },
   {
    "duration": 472,
    "start_time": "2022-01-04T00:13:45.021Z"
   },
   {
    "duration": 295,
    "start_time": "2022-01-04T00:13:53.848Z"
   },
   {
    "duration": 400,
    "start_time": "2022-01-04T00:14:00.637Z"
   },
   {
    "duration": 288,
    "start_time": "2022-01-04T00:14:16.414Z"
   },
   {
    "duration": 31,
    "start_time": "2022-01-04T00:14:25.098Z"
   },
   {
    "duration": 1109,
    "start_time": "2022-01-04T21:45:03.504Z"
   },
   {
    "duration": 44,
    "start_time": "2022-01-04T21:45:04.615Z"
   },
   {
    "duration": 10,
    "start_time": "2022-01-04T21:45:04.661Z"
   },
   {
    "duration": 6,
    "start_time": "2022-01-04T21:45:04.673Z"
   },
   {
    "duration": 22,
    "start_time": "2022-01-04T21:45:04.680Z"
   },
   {
    "duration": 9,
    "start_time": "2022-01-04T21:45:04.703Z"
   },
   {
    "duration": 14,
    "start_time": "2022-01-04T22:05:20.372Z"
   },
   {
    "duration": 1307,
    "start_time": "2022-01-04T22:15:58.314Z"
   },
   {
    "duration": 57,
    "start_time": "2022-01-04T22:15:59.623Z"
   },
   {
    "duration": 11,
    "start_time": "2022-01-04T22:15:59.682Z"
   },
   {
    "duration": 3,
    "start_time": "2022-01-04T22:15:59.695Z"
   },
   {
    "duration": 28,
    "start_time": "2022-01-04T22:15:59.700Z"
   },
   {
    "duration": 12,
    "start_time": "2022-01-04T22:15:59.729Z"
   },
   {
    "duration": 15,
    "start_time": "2022-01-04T22:15:59.742Z"
   },
   {
    "duration": 550,
    "start_time": "2022-01-04T22:17:08.048Z"
   },
   {
    "duration": 1372,
    "start_time": "2022-01-04T22:17:14.951Z"
   },
   {
    "duration": 44,
    "start_time": "2022-01-04T22:17:16.325Z"
   },
   {
    "duration": 8,
    "start_time": "2022-01-04T22:17:16.373Z"
   },
   {
    "duration": 4,
    "start_time": "2022-01-04T22:17:16.382Z"
   },
   {
    "duration": 22,
    "start_time": "2022-01-04T22:17:16.387Z"
   },
   {
    "duration": 18,
    "start_time": "2022-01-04T22:17:16.410Z"
   },
   {
    "duration": 11,
    "start_time": "2022-01-04T22:17:16.429Z"
   },
   {
    "duration": 10,
    "start_time": "2022-01-04T22:45:56.051Z"
   },
   {
    "duration": 18,
    "start_time": "2022-01-04T22:46:01.587Z"
   },
   {
    "duration": 947,
    "start_time": "2022-01-04T22:46:10.843Z"
   },
   {
    "duration": 44,
    "start_time": "2022-01-04T22:46:11.792Z"
   },
   {
    "duration": 8,
    "start_time": "2022-01-04T22:46:11.838Z"
   },
   {
    "duration": 3,
    "start_time": "2022-01-04T22:46:11.848Z"
   },
   {
    "duration": 17,
    "start_time": "2022-01-04T22:46:11.852Z"
   },
   {
    "duration": 9,
    "start_time": "2022-01-04T22:46:11.870Z"
   },
   {
    "duration": 14,
    "start_time": "2022-01-04T22:46:11.880Z"
   },
   {
    "duration": 404,
    "start_time": "2022-01-04T22:46:32.542Z"
   },
   {
    "duration": 11,
    "start_time": "2022-01-04T22:59:52.547Z"
   },
   {
    "duration": 993,
    "start_time": "2022-01-04T23:00:02.378Z"
   },
   {
    "duration": 44,
    "start_time": "2022-01-04T23:00:03.373Z"
   },
   {
    "duration": 8,
    "start_time": "2022-01-04T23:00:03.419Z"
   },
   {
    "duration": 3,
    "start_time": "2022-01-04T23:00:03.429Z"
   },
   {
    "duration": 406,
    "start_time": "2022-01-04T23:00:03.433Z"
   },
   {
    "duration": -1699,
    "start_time": "2022-01-04T23:00:05.540Z"
   },
   {
    "duration": -1702,
    "start_time": "2022-01-04T23:00:05.543Z"
   },
   {
    "duration": 608,
    "start_time": "2022-01-04T23:01:31.806Z"
   },
   {
    "duration": 10,
    "start_time": "2022-01-04T23:03:32.038Z"
   },
   {
    "duration": 10,
    "start_time": "2022-01-04T23:04:04.996Z"
   },
   {
    "duration": 1003,
    "start_time": "2022-01-04T23:04:17.629Z"
   },
   {
    "duration": 45,
    "start_time": "2022-01-04T23:04:18.634Z"
   },
   {
    "duration": 8,
    "start_time": "2022-01-04T23:04:18.681Z"
   },
   {
    "duration": 3,
    "start_time": "2022-01-04T23:04:18.691Z"
   },
   {
    "duration": 10,
    "start_time": "2022-01-04T23:04:18.695Z"
   },
   {
    "duration": 21,
    "start_time": "2022-01-04T23:04:18.707Z"
   },
   {
    "duration": 12,
    "start_time": "2022-01-04T23:04:18.729Z"
   },
   {
    "duration": 1032,
    "start_time": "2022-01-04T23:06:13.956Z"
   },
   {
    "duration": 47,
    "start_time": "2022-01-04T23:06:14.990Z"
   },
   {
    "duration": 8,
    "start_time": "2022-01-04T23:06:15.039Z"
   },
   {
    "duration": 5,
    "start_time": "2022-01-04T23:06:15.049Z"
   },
   {
    "duration": 398,
    "start_time": "2022-01-04T23:06:15.056Z"
   },
   {
    "duration": -1699,
    "start_time": "2022-01-04T23:06:17.155Z"
   },
   {
    "duration": -1702,
    "start_time": "2022-01-04T23:06:17.158Z"
   },
   {
    "duration": 1047,
    "start_time": "2022-01-04T23:07:09.034Z"
   },
   {
    "duration": 45,
    "start_time": "2022-01-04T23:07:10.083Z"
   },
   {
    "duration": 9,
    "start_time": "2022-01-04T23:07:10.130Z"
   },
   {
    "duration": 4,
    "start_time": "2022-01-04T23:07:10.141Z"
   },
   {
    "duration": 448,
    "start_time": "2022-01-04T23:07:10.147Z"
   },
   {
    "duration": -1709,
    "start_time": "2022-01-04T23:07:12.306Z"
   },
   {
    "duration": -1711,
    "start_time": "2022-01-04T23:07:12.310Z"
   },
   {
    "duration": 330,
    "start_time": "2022-01-05T11:33:34.749Z"
   },
   {
    "duration": 1405,
    "start_time": "2022-01-05T11:33:40.334Z"
   },
   {
    "duration": 71,
    "start_time": "2022-01-05T11:33:41.742Z"
   },
   {
    "duration": 17,
    "start_time": "2022-01-05T11:33:41.817Z"
   },
   {
    "duration": 30,
    "start_time": "2022-01-05T11:33:41.838Z"
   },
   {
    "duration": 378,
    "start_time": "2022-01-05T11:33:41.871Z"
   },
   {
    "duration": -1403,
    "start_time": "2022-01-05T11:33:43.655Z"
   },
   {
    "duration": -1409,
    "start_time": "2022-01-05T11:33:43.662Z"
   },
   {
    "duration": 23,
    "start_time": "2022-01-05T11:33:46.745Z"
   },
   {
    "duration": 25,
    "start_time": "2022-01-05T11:34:43.731Z"
   },
   {
    "duration": 2294,
    "start_time": "2022-01-05T11:39:16.824Z"
   },
   {
    "duration": 68,
    "start_time": "2022-01-05T11:39:19.121Z"
   },
   {
    "duration": 15,
    "start_time": "2022-01-05T11:39:19.195Z"
   },
   {
    "duration": 5,
    "start_time": "2022-01-05T11:39:19.212Z"
   },
   {
    "duration": 53,
    "start_time": "2022-01-05T11:39:19.219Z"
   },
   {
    "duration": 19,
    "start_time": "2022-01-05T11:39:19.275Z"
   },
   {
    "duration": 21,
    "start_time": "2022-01-05T11:39:19.297Z"
   },
   {
    "duration": 383,
    "start_time": "2022-01-05T11:39:38.067Z"
   },
   {
    "duration": 5,
    "start_time": "2022-01-05T11:39:46.816Z"
   },
   {
    "duration": 7506,
    "start_time": "2022-01-05T11:39:55.158Z"
   },
   {
    "duration": 16,
    "start_time": "2022-01-05T11:40:26.604Z"
   },
   {
    "duration": 19,
    "start_time": "2022-01-05T11:41:34.713Z"
   },
   {
    "duration": 20,
    "start_time": "2022-01-05T11:43:08.710Z"
   },
   {
    "duration": 31,
    "start_time": "2022-01-05T11:43:11.700Z"
   },
   {
    "duration": 19,
    "start_time": "2022-01-05T11:43:19.092Z"
   },
   {
    "duration": 31,
    "start_time": "2022-01-05T11:50:44.642Z"
   },
   {
    "duration": 18,
    "start_time": "2022-01-05T11:51:20.109Z"
   },
   {
    "duration": 6,
    "start_time": "2022-01-05T11:51:49.169Z"
   },
   {
    "duration": 6,
    "start_time": "2022-01-05T11:52:55.409Z"
   },
   {
    "duration": 4,
    "start_time": "2022-01-05T11:53:30.816Z"
   },
   {
    "duration": 550,
    "start_time": "2022-01-05T11:54:14.747Z"
   },
   {
    "duration": 1629,
    "start_time": "2022-01-05T11:54:20.415Z"
   },
   {
    "duration": 70,
    "start_time": "2022-01-05T11:54:22.047Z"
   },
   {
    "duration": 15,
    "start_time": "2022-01-05T11:54:22.120Z"
   },
   {
    "duration": 5,
    "start_time": "2022-01-05T11:54:22.138Z"
   },
   {
    "duration": 38,
    "start_time": "2022-01-05T11:54:22.145Z"
   },
   {
    "duration": 7,
    "start_time": "2022-01-05T11:54:22.186Z"
   },
   {
    "duration": 10,
    "start_time": "2022-01-05T11:54:22.196Z"
   },
   {
    "duration": 19,
    "start_time": "2022-01-05T12:03:27.680Z"
   },
   {
    "duration": 15,
    "start_time": "2022-01-05T12:17:43.126Z"
   },
   {
    "duration": 6,
    "start_time": "2022-01-05T12:23:35.096Z"
   },
   {
    "duration": 406,
    "start_time": "2022-01-05T12:26:10.117Z"
   },
   {
    "duration": 7,
    "start_time": "2022-01-05T12:26:18.701Z"
   },
   {
    "duration": 277,
    "start_time": "2022-01-05T12:26:35.241Z"
   },
   {
    "duration": 6,
    "start_time": "2022-01-05T12:26:40.567Z"
   },
   {
    "duration": 6,
    "start_time": "2022-01-05T12:27:02.236Z"
   },
   {
    "duration": 7,
    "start_time": "2022-01-05T12:27:18.911Z"
   },
   {
    "duration": 33,
    "start_time": "2022-01-05T12:30:09.448Z"
   },
   {
    "duration": 255,
    "start_time": "2022-01-05T12:33:13.266Z"
   },
   {
    "duration": 1328,
    "start_time": "2022-01-05T12:33:26.001Z"
   },
   {
    "duration": 67,
    "start_time": "2022-01-05T12:33:27.331Z"
   },
   {
    "duration": 15,
    "start_time": "2022-01-05T12:33:27.401Z"
   },
   {
    "duration": 7,
    "start_time": "2022-01-05T12:33:27.419Z"
   },
   {
    "duration": 49,
    "start_time": "2022-01-05T12:33:27.428Z"
   },
   {
    "duration": 7,
    "start_time": "2022-01-05T12:33:27.480Z"
   },
   {
    "duration": 16,
    "start_time": "2022-01-05T12:33:27.489Z"
   },
   {
    "duration": 48,
    "start_time": "2022-01-05T12:33:27.508Z"
   },
   {
    "duration": 19,
    "start_time": "2022-01-05T12:33:27.566Z"
   },
   {
    "duration": 18,
    "start_time": "2022-01-05T12:33:27.587Z"
   },
   {
    "duration": 11,
    "start_time": "2022-01-05T12:35:17.992Z"
   },
   {
    "duration": 9,
    "start_time": "2022-01-05T12:40:50.931Z"
   },
   {
    "duration": 546,
    "start_time": "2022-01-05T12:42:41.537Z"
   },
   {
    "duration": 617,
    "start_time": "2022-01-05T12:43:02.769Z"
   },
   {
    "duration": 613,
    "start_time": "2022-01-05T12:43:14.767Z"
   },
   {
    "duration": 15,
    "start_time": "2022-01-05T12:45:04.840Z"
   },
   {
    "duration": 58,
    "start_time": "2022-01-05T12:47:42.766Z"
   },
   {
    "duration": 876,
    "start_time": "2022-01-05T12:48:05.254Z"
   },
   {
    "duration": 59,
    "start_time": "2022-01-05T12:50:50.581Z"
   },
   {
    "duration": 25,
    "start_time": "2022-01-05T12:51:33.095Z"
   },
   {
    "duration": 355,
    "start_time": "2022-01-05T12:51:55.143Z"
   },
   {
    "duration": 393,
    "start_time": "2022-01-05T12:52:13.733Z"
   },
   {
    "duration": 381,
    "start_time": "2022-01-05T12:52:33.079Z"
   },
   {
    "duration": 383,
    "start_time": "2022-01-05T12:52:44.387Z"
   },
   {
    "duration": 142,
    "start_time": "2022-01-05T12:56:34.178Z"
   },
   {
    "duration": 83,
    "start_time": "2022-01-05T12:56:42.353Z"
   },
   {
    "duration": 96,
    "start_time": "2022-01-05T12:56:45.291Z"
   },
   {
    "duration": 86,
    "start_time": "2022-01-05T12:56:47.671Z"
   },
   {
    "duration": 446,
    "start_time": "2022-01-05T12:56:58.200Z"
   },
   {
    "duration": 1387,
    "start_time": "2022-01-05T13:10:17.550Z"
   },
   {
    "duration": 71,
    "start_time": "2022-01-05T13:10:18.939Z"
   },
   {
    "duration": 17,
    "start_time": "2022-01-05T13:10:19.015Z"
   },
   {
    "duration": 4,
    "start_time": "2022-01-05T13:10:19.036Z"
   },
   {
    "duration": 41,
    "start_time": "2022-01-05T13:10:19.042Z"
   },
   {
    "duration": 8,
    "start_time": "2022-01-05T13:10:19.085Z"
   },
   {
    "duration": 8,
    "start_time": "2022-01-05T13:10:19.096Z"
   },
   {
    "duration": 74,
    "start_time": "2022-01-05T13:10:19.107Z"
   },
   {
    "duration": 19,
    "start_time": "2022-01-05T13:10:19.184Z"
   },
   {
    "duration": 620,
    "start_time": "2022-01-05T13:10:19.206Z"
   },
   {
    "duration": 16,
    "start_time": "2022-01-05T13:10:19.829Z"
   },
   {
    "duration": 1405,
    "start_time": "2022-01-05T13:11:24.331Z"
   },
   {
    "duration": 67,
    "start_time": "2022-01-05T13:11:25.739Z"
   },
   {
    "duration": 15,
    "start_time": "2022-01-05T13:11:25.808Z"
   },
   {
    "duration": 5,
    "start_time": "2022-01-05T13:11:25.826Z"
   },
   {
    "duration": 41,
    "start_time": "2022-01-05T13:11:25.834Z"
   },
   {
    "duration": 10,
    "start_time": "2022-01-05T13:11:25.878Z"
   },
   {
    "duration": 9,
    "start_time": "2022-01-05T13:11:25.890Z"
   },
   {
    "duration": 65,
    "start_time": "2022-01-05T13:11:25.902Z"
   },
   {
    "duration": 18,
    "start_time": "2022-01-05T13:11:25.970Z"
   },
   {
    "duration": 415,
    "start_time": "2022-01-05T13:11:25.991Z"
   },
   {
    "duration": 12,
    "start_time": "2022-01-05T13:11:26.409Z"
   },
   {
    "duration": 616,
    "start_time": "2022-01-05T13:12:05.099Z"
   },
   {
    "duration": 1305,
    "start_time": "2022-01-05T13:12:57.618Z"
   },
   {
    "duration": 66,
    "start_time": "2022-01-05T13:12:58.926Z"
   },
   {
    "duration": 417,
    "start_time": "2022-01-05T13:12:58.998Z"
   },
   {
    "duration": -1469,
    "start_time": "2022-01-05T13:13:00.887Z"
   },
   {
    "duration": -1471,
    "start_time": "2022-01-05T13:13:00.890Z"
   },
   {
    "duration": -1473,
    "start_time": "2022-01-05T13:13:00.894Z"
   },
   {
    "duration": -1475,
    "start_time": "2022-01-05T13:13:00.897Z"
   },
   {
    "duration": -1476,
    "start_time": "2022-01-05T13:13:00.900Z"
   },
   {
    "duration": -1477,
    "start_time": "2022-01-05T13:13:00.903Z"
   },
   {
    "duration": -1480,
    "start_time": "2022-01-05T13:13:00.907Z"
   },
   {
    "duration": -1483,
    "start_time": "2022-01-05T13:13:00.911Z"
   },
   {
    "duration": -1485,
    "start_time": "2022-01-05T13:13:00.915Z"
   },
   {
    "duration": 1314,
    "start_time": "2022-01-05T13:14:05.612Z"
   },
   {
    "duration": 64,
    "start_time": "2022-01-05T13:14:06.928Z"
   },
   {
    "duration": 15,
    "start_time": "2022-01-05T13:14:06.995Z"
   },
   {
    "duration": 4,
    "start_time": "2022-01-05T13:14:07.013Z"
   },
   {
    "duration": 47,
    "start_time": "2022-01-05T13:14:07.020Z"
   },
   {
    "duration": 8,
    "start_time": "2022-01-05T13:14:07.069Z"
   },
   {
    "duration": 8,
    "start_time": "2022-01-05T13:14:07.079Z"
   },
   {
    "duration": 34,
    "start_time": "2022-01-05T13:14:07.091Z"
   },
   {
    "duration": 49,
    "start_time": "2022-01-05T13:14:07.127Z"
   },
   {
    "duration": 426,
    "start_time": "2022-01-05T13:14:07.179Z"
   },
   {
    "duration": 771,
    "start_time": "2022-01-05T13:14:07.607Z"
   },
   {
    "duration": 1373,
    "start_time": "2022-01-05T13:14:50.156Z"
   },
   {
    "duration": 67,
    "start_time": "2022-01-05T13:14:51.532Z"
   },
   {
    "duration": 15,
    "start_time": "2022-01-05T13:14:51.602Z"
   },
   {
    "duration": 4,
    "start_time": "2022-01-05T13:14:51.620Z"
   },
   {
    "duration": 47,
    "start_time": "2022-01-05T13:14:51.626Z"
   },
   {
    "duration": 8,
    "start_time": "2022-01-05T13:14:51.675Z"
   },
   {
    "duration": 11,
    "start_time": "2022-01-05T13:14:51.685Z"
   },
   {
    "duration": 34,
    "start_time": "2022-01-05T13:14:51.699Z"
   },
   {
    "duration": 43,
    "start_time": "2022-01-05T13:14:51.736Z"
   },
   {
    "duration": 418,
    "start_time": "2022-01-05T13:14:51.782Z"
   },
   {
    "duration": 623,
    "start_time": "2022-01-05T13:14:52.203Z"
   },
   {
    "duration": 1316,
    "start_time": "2022-01-05T13:15:09.518Z"
   },
   {
    "duration": 65,
    "start_time": "2022-01-05T13:15:10.837Z"
   },
   {
    "duration": 14,
    "start_time": "2022-01-05T13:15:10.905Z"
   },
   {
    "duration": 4,
    "start_time": "2022-01-05T13:15:10.922Z"
   },
   {
    "duration": 43,
    "start_time": "2022-01-05T13:15:10.928Z"
   },
   {
    "duration": 7,
    "start_time": "2022-01-05T13:15:10.974Z"
   },
   {
    "duration": 9,
    "start_time": "2022-01-05T13:15:10.983Z"
   },
   {
    "duration": 36,
    "start_time": "2022-01-05T13:15:10.995Z"
   },
   {
    "duration": 47,
    "start_time": "2022-01-05T13:15:11.034Z"
   },
   {
    "duration": 409,
    "start_time": "2022-01-05T13:15:11.084Z"
   },
   {
    "duration": 627,
    "start_time": "2022-01-05T13:15:11.495Z"
   },
   {
    "duration": 615,
    "start_time": "2022-01-05T13:16:34.570Z"
   },
   {
    "duration": 901,
    "start_time": "2022-01-05T13:16:42.430Z"
   },
   {
    "duration": 624,
    "start_time": "2022-01-05T13:16:53.236Z"
   },
   {
    "duration": 606,
    "start_time": "2022-01-05T13:17:02.231Z"
   },
   {
    "duration": 615,
    "start_time": "2022-01-05T13:17:06.937Z"
   },
   {
    "duration": 594,
    "start_time": "2022-01-05T13:17:12.927Z"
   },
   {
    "duration": 457,
    "start_time": "2022-01-05T13:20:25.913Z"
   },
   {
    "duration": 1364,
    "start_time": "2022-01-05T13:20:40.776Z"
   },
   {
    "duration": 66,
    "start_time": "2022-01-05T13:20:42.143Z"
   },
   {
    "duration": 14,
    "start_time": "2022-01-05T13:20:42.213Z"
   },
   {
    "duration": 4,
    "start_time": "2022-01-05T13:20:42.230Z"
   },
   {
    "duration": 47,
    "start_time": "2022-01-05T13:20:42.236Z"
   },
   {
    "duration": 8,
    "start_time": "2022-01-05T13:20:42.285Z"
   },
   {
    "duration": 14,
    "start_time": "2022-01-05T13:20:42.295Z"
   },
   {
    "duration": 60,
    "start_time": "2022-01-05T13:20:42.312Z"
   },
   {
    "duration": 18,
    "start_time": "2022-01-05T13:20:42.374Z"
   },
   {
    "duration": 422,
    "start_time": "2022-01-05T13:20:42.395Z"
   },
   {
    "duration": 422,
    "start_time": "2022-01-05T13:20:42.819Z"
   },
   {
    "duration": 606,
    "start_time": "2022-01-05T13:20:48.525Z"
   },
   {
    "duration": 46,
    "start_time": "2022-01-05T13:21:14.356Z"
   },
   {
    "duration": 640,
    "start_time": "2022-01-05T13:22:04.305Z"
   },
   {
    "duration": 579,
    "start_time": "2022-01-05T13:22:31.716Z"
   },
   {
    "duration": 599,
    "start_time": "2022-01-05T13:22:46.612Z"
   },
   {
    "duration": 382,
    "start_time": "2022-01-05T13:24:55.753Z"
   },
   {
    "duration": 411,
    "start_time": "2022-01-05T13:25:30.768Z"
   },
   {
    "duration": 556,
    "start_time": "2022-01-05T13:25:44.482Z"
   },
   {
    "duration": 415,
    "start_time": "2022-01-05T13:25:55.679Z"
   },
   {
    "duration": 678,
    "start_time": "2022-01-05T13:26:16.352Z"
   },
   {
    "duration": 609,
    "start_time": "2022-01-05T13:27:13.985Z"
   },
   {
    "duration": 629,
    "start_time": "2022-01-05T13:27:25.225Z"
   },
   {
    "duration": 627,
    "start_time": "2022-01-05T13:27:40.540Z"
   },
   {
    "duration": 662,
    "start_time": "2022-01-05T13:29:48.249Z"
   },
   {
    "duration": 615,
    "start_time": "2022-01-05T13:44:34.773Z"
   },
   {
    "duration": 627,
    "start_time": "2022-01-05T13:44:47.484Z"
   },
   {
    "duration": 9,
    "start_time": "2022-01-05T13:51:23.556Z"
   },
   {
    "duration": 8,
    "start_time": "2022-01-05T13:51:27.627Z"
   },
   {
    "duration": 1485,
    "start_time": "2022-01-05T13:51:35.436Z"
   },
   {
    "duration": 68,
    "start_time": "2022-01-05T13:51:36.924Z"
   },
   {
    "duration": 18,
    "start_time": "2022-01-05T13:51:36.996Z"
   },
   {
    "duration": 5,
    "start_time": "2022-01-05T13:51:37.016Z"
   },
   {
    "duration": 50,
    "start_time": "2022-01-05T13:51:37.023Z"
   },
   {
    "duration": 9,
    "start_time": "2022-01-05T13:51:37.076Z"
   },
   {
    "duration": 10,
    "start_time": "2022-01-05T13:51:37.087Z"
   },
   {
    "duration": 70,
    "start_time": "2022-01-05T13:51:37.101Z"
   },
   {
    "duration": 20,
    "start_time": "2022-01-05T13:51:37.173Z"
   },
   {
    "duration": 481,
    "start_time": "2022-01-05T13:51:37.197Z"
   },
   {
    "duration": 9,
    "start_time": "2022-01-05T13:51:37.680Z"
   },
   {
    "duration": 16,
    "start_time": "2022-01-05T13:51:47.712Z"
   },
   {
    "duration": 799,
    "start_time": "2022-01-05T13:56:02.594Z"
   },
   {
    "duration": 649,
    "start_time": "2022-01-05T13:56:18.343Z"
   },
   {
    "duration": 89,
    "start_time": "2022-01-05T14:00:57.841Z"
   },
   {
    "duration": 6833,
    "start_time": "2022-01-05T14:01:07.411Z"
   },
   {
    "duration": 25,
    "start_time": "2022-01-05T14:01:28.580Z"
   },
   {
    "duration": 1460,
    "start_time": "2022-01-05T14:01:54.976Z"
   },
   {
    "duration": 67,
    "start_time": "2022-01-05T14:01:56.438Z"
   },
   {
    "duration": 15,
    "start_time": "2022-01-05T14:01:56.508Z"
   },
   {
    "duration": 4,
    "start_time": "2022-01-05T14:01:56.526Z"
   },
   {
    "duration": 22,
    "start_time": "2022-01-05T14:01:56.533Z"
   },
   {
    "duration": 13,
    "start_time": "2022-01-05T14:01:56.557Z"
   },
   {
    "duration": 11,
    "start_time": "2022-01-05T14:01:56.572Z"
   },
   {
    "duration": 31,
    "start_time": "2022-01-05T14:01:56.586Z"
   },
   {
    "duration": 17,
    "start_time": "2022-01-05T14:01:56.620Z"
   },
   {
    "duration": 398,
    "start_time": "2022-01-05T14:01:56.640Z"
   },
   {
    "duration": 778,
    "start_time": "2022-01-05T14:01:57.040Z"
   },
   {
    "duration": 49,
    "start_time": "2022-01-05T14:01:57.820Z"
   },
   {
    "duration": 28,
    "start_time": "2022-01-05T14:02:28.349Z"
   },
   {
    "duration": 27,
    "start_time": "2022-01-05T14:02:43.323Z"
   },
   {
    "duration": 26,
    "start_time": "2022-01-05T14:04:47.915Z"
   },
   {
    "duration": 26,
    "start_time": "2022-01-05T14:04:50.277Z"
   },
   {
    "duration": 24,
    "start_time": "2022-01-05T14:09:19.167Z"
   },
   {
    "duration": 25,
    "start_time": "2022-01-05T14:09:53.130Z"
   },
   {
    "duration": 24,
    "start_time": "2022-01-05T14:11:19.635Z"
   },
   {
    "duration": 23,
    "start_time": "2022-01-05T14:11:43.438Z"
   },
   {
    "duration": 133,
    "start_time": "2022-01-05T14:25:02.132Z"
   },
   {
    "duration": 24,
    "start_time": "2022-01-05T14:25:08.071Z"
   },
   {
    "duration": 23,
    "start_time": "2022-01-05T14:25:10.824Z"
   },
   {
    "duration": 1379,
    "start_time": "2022-01-05T14:25:20.155Z"
   },
   {
    "duration": 66,
    "start_time": "2022-01-05T14:25:21.536Z"
   },
   {
    "duration": 15,
    "start_time": "2022-01-05T14:25:21.605Z"
   },
   {
    "duration": 4,
    "start_time": "2022-01-05T14:25:21.623Z"
   },
   {
    "duration": 55,
    "start_time": "2022-01-05T14:25:21.629Z"
   },
   {
    "duration": 9,
    "start_time": "2022-01-05T14:25:21.687Z"
   },
   {
    "duration": 8,
    "start_time": "2022-01-05T14:25:21.699Z"
   },
   {
    "duration": 57,
    "start_time": "2022-01-05T14:25:21.710Z"
   },
   {
    "duration": 19,
    "start_time": "2022-01-05T14:25:21.770Z"
   },
   {
    "duration": 423,
    "start_time": "2022-01-05T14:25:21.791Z"
   },
   {
    "duration": 647,
    "start_time": "2022-01-05T14:25:22.216Z"
   },
   {
    "duration": 25,
    "start_time": "2022-01-05T14:25:22.867Z"
   },
   {
    "duration": 25,
    "start_time": "2022-01-05T14:25:22.895Z"
   },
   {
    "duration": 27,
    "start_time": "2022-01-05T14:29:08.415Z"
   },
   {
    "duration": 26,
    "start_time": "2022-01-05T14:29:12.146Z"
   },
   {
    "duration": 26,
    "start_time": "2022-01-05T14:29:47.932Z"
   },
   {
    "duration": 412,
    "start_time": "2022-01-05T14:31:33.072Z"
   },
   {
    "duration": 27,
    "start_time": "2022-01-05T14:31:41.692Z"
   },
   {
    "duration": 27,
    "start_time": "2022-01-05T14:31:59.056Z"
   },
   {
    "duration": 28,
    "start_time": "2022-01-05T14:32:02.626Z"
   },
   {
    "duration": 7,
    "start_time": "2022-01-05T14:32:55.149Z"
   },
   {
    "duration": 9,
    "start_time": "2022-01-05T14:33:14.420Z"
   },
   {
    "duration": 813,
    "start_time": "2022-01-05T14:40:20.315Z"
   },
   {
    "duration": 790,
    "start_time": "2022-01-05T14:41:16.920Z"
   },
   {
    "duration": 729,
    "start_time": "2022-01-05T14:44:20.576Z"
   },
   {
    "duration": 747,
    "start_time": "2022-01-05T14:44:31.754Z"
   },
   {
    "duration": 786,
    "start_time": "2022-01-05T14:45:04.963Z"
   },
   {
    "duration": 759,
    "start_time": "2022-01-05T14:45:48.052Z"
   },
   {
    "duration": 814,
    "start_time": "2022-01-05T14:46:04.485Z"
   },
   {
    "duration": 732,
    "start_time": "2022-01-05T14:46:20.557Z"
   },
   {
    "duration": 821,
    "start_time": "2022-01-05T14:47:42.458Z"
   },
   {
    "duration": 728,
    "start_time": "2022-01-05T14:48:22.256Z"
   },
   {
    "duration": 617,
    "start_time": "2022-01-05T14:48:37.527Z"
   },
   {
    "duration": 1355,
    "start_time": "2022-01-05T14:48:57.189Z"
   },
   {
    "duration": 71,
    "start_time": "2022-01-05T14:48:58.547Z"
   },
   {
    "duration": 17,
    "start_time": "2022-01-05T14:48:58.622Z"
   },
   {
    "duration": 25,
    "start_time": "2022-01-05T14:48:58.642Z"
   },
   {
    "duration": 20,
    "start_time": "2022-01-05T14:48:58.670Z"
   },
   {
    "duration": 7,
    "start_time": "2022-01-05T14:48:58.693Z"
   },
   {
    "duration": 8,
    "start_time": "2022-01-05T14:48:58.703Z"
   },
   {
    "duration": 75,
    "start_time": "2022-01-05T14:48:58.715Z"
   },
   {
    "duration": 18,
    "start_time": "2022-01-05T14:48:58.792Z"
   },
   {
    "duration": 407,
    "start_time": "2022-01-05T14:48:58.813Z"
   },
   {
    "duration": 666,
    "start_time": "2022-01-05T14:48:59.223Z"
   },
   {
    "duration": 24,
    "start_time": "2022-01-05T14:48:59.892Z"
   },
   {
    "duration": 56,
    "start_time": "2022-01-05T14:48:59.918Z"
   },
   {
    "duration": 639,
    "start_time": "2022-01-05T14:48:59.976Z"
   },
   {
    "duration": 742,
    "start_time": "2022-01-05T14:49:21.100Z"
   },
   {
    "duration": 793,
    "start_time": "2022-01-05T14:49:29.623Z"
   },
   {
    "duration": 741,
    "start_time": "2022-01-05T14:50:27.407Z"
   },
   {
    "duration": 740,
    "start_time": "2022-01-05T14:51:34.921Z"
   },
   {
    "duration": 517,
    "start_time": "2022-01-05T14:51:51.661Z"
   },
   {
    "duration": 355,
    "start_time": "2022-01-05T14:51:57.518Z"
   },
   {
    "duration": 792,
    "start_time": "2022-01-05T14:52:16.950Z"
   },
   {
    "duration": 714,
    "start_time": "2022-01-05T15:20:33.695Z"
   },
   {
    "duration": 850,
    "start_time": "2022-01-05T15:20:43.872Z"
   },
   {
    "duration": 989,
    "start_time": "2022-01-05T15:33:26.998Z"
   },
   {
    "duration": 1413,
    "start_time": "2022-01-05T15:36:11.420Z"
   },
   {
    "duration": 64,
    "start_time": "2022-01-05T15:36:12.836Z"
   },
   {
    "duration": 14,
    "start_time": "2022-01-05T15:36:12.903Z"
   },
   {
    "duration": 4,
    "start_time": "2022-01-05T15:36:12.920Z"
   },
   {
    "duration": 49,
    "start_time": "2022-01-05T15:36:12.927Z"
   },
   {
    "duration": 7,
    "start_time": "2022-01-05T15:36:12.979Z"
   },
   {
    "duration": 12,
    "start_time": "2022-01-05T15:36:12.988Z"
   },
   {
    "duration": 33,
    "start_time": "2022-01-05T15:36:13.003Z"
   },
   {
    "duration": 19,
    "start_time": "2022-01-05T15:36:13.067Z"
   },
   {
    "duration": 511,
    "start_time": "2022-01-05T15:36:13.088Z"
   },
   {
    "duration": 677,
    "start_time": "2022-01-05T15:36:13.602Z"
   },
   {
    "duration": 25,
    "start_time": "2022-01-05T15:36:14.281Z"
   },
   {
    "duration": 26,
    "start_time": "2022-01-05T15:36:14.309Z"
   },
   {
    "duration": 893,
    "start_time": "2022-01-05T15:36:14.367Z"
   },
   {
    "duration": 872,
    "start_time": "2022-01-05T15:36:15.263Z"
   },
   {
    "duration": 712,
    "start_time": "2022-01-05T15:41:37.440Z"
   },
   {
    "duration": 87,
    "start_time": "2022-01-05T15:41:49.471Z"
   },
   {
    "duration": 131,
    "start_time": "2022-01-05T15:42:28.242Z"
   },
   {
    "duration": 469,
    "start_time": "2022-01-05T15:42:34.841Z"
   },
   {
    "duration": 287,
    "start_time": "2022-01-05T15:43:26.375Z"
   },
   {
    "duration": 289,
    "start_time": "2022-01-05T15:43:38.591Z"
   },
   {
    "duration": 706,
    "start_time": "2022-01-05T15:44:07.872Z"
   },
   {
    "duration": 699,
    "start_time": "2022-01-05T15:45:30.596Z"
   },
   {
    "duration": 515,
    "start_time": "2022-01-05T15:45:44.793Z"
   },
   {
    "duration": 710,
    "start_time": "2022-01-05T15:45:54.810Z"
   },
   {
    "duration": 790,
    "start_time": "2022-01-05T15:47:00.913Z"
   },
   {
    "duration": 338,
    "start_time": "2022-01-05T15:47:11.126Z"
   },
   {
    "duration": 703,
    "start_time": "2022-01-05T15:47:17.529Z"
   },
   {
    "duration": 706,
    "start_time": "2022-01-05T15:47:26.761Z"
   },
   {
    "duration": 705,
    "start_time": "2022-01-05T15:48:19.395Z"
   },
   {
    "duration": 684,
    "start_time": "2022-01-05T15:48:26.328Z"
   },
   {
    "duration": 24,
    "start_time": "2022-01-05T15:48:36.815Z"
   },
   {
    "duration": 689,
    "start_time": "2022-01-05T15:49:08.728Z"
   },
   {
    "duration": 295,
    "start_time": "2022-01-05T15:49:32.512Z"
   },
   {
    "duration": 738,
    "start_time": "2022-01-05T15:49:52.059Z"
   },
   {
    "duration": 721,
    "start_time": "2022-01-05T15:49:57.266Z"
   },
   {
    "duration": 712,
    "start_time": "2022-01-05T15:50:44.085Z"
   },
   {
    "duration": 1380,
    "start_time": "2022-01-05T15:53:01.975Z"
   },
   {
    "duration": 67,
    "start_time": "2022-01-05T15:53:03.358Z"
   },
   {
    "duration": 15,
    "start_time": "2022-01-05T15:53:03.428Z"
   },
   {
    "duration": 4,
    "start_time": "2022-01-05T15:53:03.446Z"
   },
   {
    "duration": 18,
    "start_time": "2022-01-05T15:53:03.468Z"
   },
   {
    "duration": 7,
    "start_time": "2022-01-05T15:53:03.489Z"
   },
   {
    "duration": 8,
    "start_time": "2022-01-05T15:53:03.499Z"
   },
   {
    "duration": 71,
    "start_time": "2022-01-05T15:53:03.510Z"
   },
   {
    "duration": 19,
    "start_time": "2022-01-05T15:53:03.584Z"
   },
   {
    "duration": 421,
    "start_time": "2022-01-05T15:53:03.606Z"
   },
   {
    "duration": 642,
    "start_time": "2022-01-05T15:53:04.029Z"
   },
   {
    "duration": 25,
    "start_time": "2022-01-05T15:53:04.674Z"
   },
   {
    "duration": 28,
    "start_time": "2022-01-05T15:53:04.701Z"
   },
   {
    "duration": 805,
    "start_time": "2022-01-05T15:53:04.768Z"
   },
   {
    "duration": 1012,
    "start_time": "2022-01-05T15:53:05.576Z"
   },
   {
    "duration": 388,
    "start_time": "2022-01-05T15:58:12.476Z"
   },
   {
    "duration": 21,
    "start_time": "2022-01-05T15:58:38.521Z"
   },
   {
    "duration": 1337,
    "start_time": "2022-01-05T15:59:39.301Z"
   },
   {
    "duration": 66,
    "start_time": "2022-01-05T15:59:40.640Z"
   },
   {
    "duration": 15,
    "start_time": "2022-01-05T15:59:40.709Z"
   },
   {
    "duration": 5,
    "start_time": "2022-01-05T15:59:40.726Z"
   },
   {
    "duration": 419,
    "start_time": "2022-01-05T15:59:40.733Z"
   },
   {
    "duration": -63,
    "start_time": "2022-01-05T15:59:41.218Z"
   },
   {
    "duration": -67,
    "start_time": "2022-01-05T15:59:41.224Z"
   },
   {
    "duration": -71,
    "start_time": "2022-01-05T15:59:41.229Z"
   },
   {
    "duration": -73,
    "start_time": "2022-01-05T15:59:41.233Z"
   },
   {
    "duration": -75,
    "start_time": "2022-01-05T15:59:41.236Z"
   },
   {
    "duration": -77,
    "start_time": "2022-01-05T15:59:41.239Z"
   },
   {
    "duration": -80,
    "start_time": "2022-01-05T15:59:41.244Z"
   },
   {
    "duration": -82,
    "start_time": "2022-01-05T15:59:41.247Z"
   },
   {
    "duration": -85,
    "start_time": "2022-01-05T15:59:41.252Z"
   },
   {
    "duration": -88,
    "start_time": "2022-01-05T15:59:41.256Z"
   },
   {
    "duration": 458,
    "start_time": "2022-01-05T15:59:59.856Z"
   },
   {
    "duration": 1407,
    "start_time": "2022-01-05T16:00:07.134Z"
   },
   {
    "duration": 70,
    "start_time": "2022-01-05T16:00:08.544Z"
   },
   {
    "duration": 17,
    "start_time": "2022-01-05T16:00:08.618Z"
   },
   {
    "duration": 28,
    "start_time": "2022-01-05T16:00:08.639Z"
   },
   {
    "duration": 20,
    "start_time": "2022-01-05T16:00:08.671Z"
   },
   {
    "duration": 10,
    "start_time": "2022-01-05T16:00:08.694Z"
   },
   {
    "duration": 9,
    "start_time": "2022-01-05T16:00:08.707Z"
   },
   {
    "duration": 76,
    "start_time": "2022-01-05T16:00:08.721Z"
   },
   {
    "duration": 19,
    "start_time": "2022-01-05T16:00:08.800Z"
   },
   {
    "duration": 490,
    "start_time": "2022-01-05T16:00:08.822Z"
   },
   {
    "duration": 653,
    "start_time": "2022-01-05T16:00:09.315Z"
   },
   {
    "duration": 28,
    "start_time": "2022-01-05T16:00:09.971Z"
   },
   {
    "duration": 19,
    "start_time": "2022-01-05T16:00:10.002Z"
   },
   {
    "duration": 451,
    "start_time": "2022-01-05T16:00:10.024Z"
   },
   {
    "duration": -47,
    "start_time": "2022-01-05T16:00:10.525Z"
   },
   {
    "duration": 32,
    "start_time": "2022-01-05T16:00:30.773Z"
   },
   {
    "duration": 696,
    "start_time": "2022-01-05T16:00:33.045Z"
   },
   {
    "duration": 820,
    "start_time": "2022-01-05T16:00:36.496Z"
   },
   {
    "duration": 82,
    "start_time": "2022-01-05T16:01:10.406Z"
   },
   {
    "duration": 272,
    "start_time": "2022-01-05T16:01:57.039Z"
   },
   {
    "duration": 35,
    "start_time": "2022-01-05T16:02:15.624Z"
   },
   {
    "duration": 1379,
    "start_time": "2022-01-05T16:02:23.371Z"
   },
   {
    "duration": 67,
    "start_time": "2022-01-05T16:02:24.753Z"
   },
   {
    "duration": 16,
    "start_time": "2022-01-05T16:02:24.823Z"
   },
   {
    "duration": 5,
    "start_time": "2022-01-05T16:02:24.842Z"
   },
   {
    "duration": 20,
    "start_time": "2022-01-05T16:02:24.868Z"
   },
   {
    "duration": 10,
    "start_time": "2022-01-05T16:02:24.891Z"
   },
   {
    "duration": 10,
    "start_time": "2022-01-05T16:02:24.904Z"
   },
   {
    "duration": 73,
    "start_time": "2022-01-05T16:02:24.919Z"
   },
   {
    "duration": 20,
    "start_time": "2022-01-05T16:02:24.996Z"
   },
   {
    "duration": 470,
    "start_time": "2022-01-05T16:02:25.019Z"
   },
   {
    "duration": 648,
    "start_time": "2022-01-05T16:02:25.492Z"
   },
   {
    "duration": 40,
    "start_time": "2022-01-05T16:02:26.143Z"
   },
   {
    "duration": 35,
    "start_time": "2022-01-05T16:02:26.186Z"
   },
   {
    "duration": 713,
    "start_time": "2022-01-05T16:02:26.224Z"
   },
   {
    "duration": 816,
    "start_time": "2022-01-05T16:02:26.939Z"
   },
   {
    "duration": 872,
    "start_time": "2022-01-05T16:04:25.699Z"
   },
   {
    "duration": 789,
    "start_time": "2022-01-05T16:04:35.730Z"
   },
   {
    "duration": 1046,
    "start_time": "2022-01-05T16:08:20.191Z"
   },
   {
    "duration": 958,
    "start_time": "2022-01-05T16:08:54.601Z"
   },
   {
    "duration": 1093,
    "start_time": "2022-01-05T16:10:07.543Z"
   },
   {
    "duration": 799,
    "start_time": "2022-01-05T16:10:35.598Z"
   },
   {
    "duration": 792,
    "start_time": "2022-01-05T16:11:11.149Z"
   },
   {
    "duration": 286,
    "start_time": "2022-01-05T16:27:59.652Z"
   },
   {
    "duration": 6732,
    "start_time": "2022-01-05T16:28:14.318Z"
   },
   {
    "duration": 318,
    "start_time": "2022-01-05T16:28:42.251Z"
   },
   {
    "duration": 342,
    "start_time": "2022-01-05T16:35:09.334Z"
   },
   {
    "duration": 303,
    "start_time": "2022-01-05T16:35:17.541Z"
   },
   {
    "duration": 306,
    "start_time": "2022-01-05T16:35:59.203Z"
   },
   {
    "duration": 12,
    "start_time": "2022-01-05T16:36:23.724Z"
   },
   {
    "duration": 9,
    "start_time": "2022-01-05T16:38:32.493Z"
   },
   {
    "duration": 1395,
    "start_time": "2022-01-05T16:38:46.240Z"
   },
   {
    "duration": 67,
    "start_time": "2022-01-05T16:38:47.638Z"
   },
   {
    "duration": 14,
    "start_time": "2022-01-05T16:38:47.708Z"
   },
   {
    "duration": 5,
    "start_time": "2022-01-05T16:38:47.725Z"
   },
   {
    "duration": 48,
    "start_time": "2022-01-05T16:38:47.732Z"
   },
   {
    "duration": 20,
    "start_time": "2022-01-05T16:38:47.782Z"
   },
   {
    "duration": 8,
    "start_time": "2022-01-05T16:38:47.805Z"
   },
   {
    "duration": 62,
    "start_time": "2022-01-05T16:38:47.817Z"
   },
   {
    "duration": 17,
    "start_time": "2022-01-05T16:38:47.882Z"
   },
   {
    "duration": 592,
    "start_time": "2022-01-05T16:38:47.902Z"
   },
   {
    "duration": 813,
    "start_time": "2022-01-05T16:38:48.496Z"
   },
   {
    "duration": 25,
    "start_time": "2022-01-05T16:38:49.312Z"
   },
   {
    "duration": 55,
    "start_time": "2022-01-05T16:38:49.339Z"
   },
   {
    "duration": 707,
    "start_time": "2022-01-05T16:38:49.397Z"
   },
   {
    "duration": 910,
    "start_time": "2022-01-05T16:38:50.106Z"
   },
   {
    "duration": 13,
    "start_time": "2022-01-05T16:38:51.018Z"
   },
   {
    "duration": 1405,
    "start_time": "2022-01-05T16:39:26.330Z"
   },
   {
    "duration": 67,
    "start_time": "2022-01-05T16:39:27.738Z"
   },
   {
    "duration": 14,
    "start_time": "2022-01-05T16:39:27.807Z"
   },
   {
    "duration": 5,
    "start_time": "2022-01-05T16:39:27.825Z"
   },
   {
    "duration": 46,
    "start_time": "2022-01-05T16:39:27.833Z"
   },
   {
    "duration": 10,
    "start_time": "2022-01-05T16:39:27.882Z"
   },
   {
    "duration": 8,
    "start_time": "2022-01-05T16:39:27.895Z"
   },
   {
    "duration": 33,
    "start_time": "2022-01-05T16:39:27.907Z"
   },
   {
    "duration": 19,
    "start_time": "2022-01-05T16:39:27.968Z"
   },
   {
    "duration": 417,
    "start_time": "2022-01-05T16:39:27.989Z"
   },
   {
    "duration": 632,
    "start_time": "2022-01-05T16:39:28.408Z"
   },
   {
    "duration": 40,
    "start_time": "2022-01-05T16:39:29.042Z"
   },
   {
    "duration": 33,
    "start_time": "2022-01-05T16:39:29.084Z"
   },
   {
    "duration": 705,
    "start_time": "2022-01-05T16:39:29.120Z"
   },
   {
    "duration": 803,
    "start_time": "2022-01-05T16:39:29.827Z"
   },
   {
    "duration": 861,
    "start_time": "2022-01-05T16:39:30.632Z"
   },
   {
    "duration": 799,
    "start_time": "2022-01-05T16:41:21.714Z"
   },
   {
    "duration": 477,
    "start_time": "2022-01-05T16:42:38.219Z"
   },
   {
    "duration": 300,
    "start_time": "2022-01-05T16:42:43.257Z"
   },
   {
    "duration": 313,
    "start_time": "2022-01-05T16:43:19.514Z"
   },
   {
    "duration": 296,
    "start_time": "2022-01-05T16:43:32.872Z"
   },
   {
    "duration": 296,
    "start_time": "2022-01-05T16:43:39.116Z"
   },
   {
    "duration": 290,
    "start_time": "2022-01-05T16:43:46.495Z"
   },
   {
    "duration": 301,
    "start_time": "2022-01-05T16:43:51.276Z"
   },
   {
    "duration": 296,
    "start_time": "2022-01-05T16:43:57.192Z"
   },
   {
    "duration": 365,
    "start_time": "2022-01-05T16:44:29.876Z"
   },
   {
    "duration": 29,
    "start_time": "2022-01-05T16:44:44.784Z"
   },
   {
    "duration": 359,
    "start_time": "2022-01-05T16:44:54.557Z"
   },
   {
    "duration": 263,
    "start_time": "2022-01-05T16:44:58.119Z"
   },
   {
    "duration": 317,
    "start_time": "2022-01-05T16:45:13.719Z"
   },
   {
    "duration": 296,
    "start_time": "2022-01-05T16:45:25.329Z"
   },
   {
    "duration": 270,
    "start_time": "2022-01-05T16:45:35.476Z"
   },
   {
    "duration": 306,
    "start_time": "2022-01-05T16:45:47.390Z"
   },
   {
    "duration": 372,
    "start_time": "2022-01-06T09:41:07.362Z"
   },
   {
    "duration": 947,
    "start_time": "2022-01-06T09:41:15.136Z"
   },
   {
    "duration": 45,
    "start_time": "2022-01-06T09:41:16.085Z"
   },
   {
    "duration": 9,
    "start_time": "2022-01-06T09:41:16.131Z"
   },
   {
    "duration": 2,
    "start_time": "2022-01-06T09:41:16.142Z"
   },
   {
    "duration": 11,
    "start_time": "2022-01-06T09:41:16.146Z"
   },
   {
    "duration": 5,
    "start_time": "2022-01-06T09:41:16.159Z"
   },
   {
    "duration": 5,
    "start_time": "2022-01-06T09:41:16.166Z"
   },
   {
    "duration": 19,
    "start_time": "2022-01-06T09:41:16.173Z"
   },
   {
    "duration": 35,
    "start_time": "2022-01-06T09:41:16.193Z"
   },
   {
    "duration": 209,
    "start_time": "2022-01-06T09:41:16.229Z"
   },
   {
    "duration": 328,
    "start_time": "2022-01-06T09:41:16.439Z"
   },
   {
    "duration": 14,
    "start_time": "2022-01-06T09:41:16.768Z"
   },
   {
    "duration": 18,
    "start_time": "2022-01-06T09:41:16.783Z"
   },
   {
    "duration": 371,
    "start_time": "2022-01-06T09:41:16.802Z"
   },
   {
    "duration": 416,
    "start_time": "2022-01-06T09:41:17.175Z"
   },
   {
    "duration": 406,
    "start_time": "2022-01-06T09:41:17.593Z"
   },
   {
    "duration": 469,
    "start_time": "2022-01-06T09:41:34.941Z"
   },
   {
    "duration": 350,
    "start_time": "2022-01-06T09:41:44.149Z"
   },
   {
    "duration": 332,
    "start_time": "2022-01-06T09:41:53.426Z"
   },
   {
    "duration": 115,
    "start_time": "2022-01-06T09:44:29.790Z"
   },
   {
    "duration": 18,
    "start_time": "2022-01-06T09:44:39.323Z"
   },
   {
    "duration": 18,
    "start_time": "2022-01-06T09:53:55.526Z"
   },
   {
    "duration": 19,
    "start_time": "2022-01-06T10:11:28.860Z"
   },
   {
    "duration": 18,
    "start_time": "2022-01-06T10:11:47.192Z"
   },
   {
    "duration": 242,
    "start_time": "2022-01-06T10:12:55.255Z"
   },
   {
    "duration": 292,
    "start_time": "2022-01-06T10:14:38.884Z"
   },
   {
    "duration": 320,
    "start_time": "2022-01-06T10:14:48.407Z"
   },
   {
    "duration": 282,
    "start_time": "2022-01-06T10:14:58.849Z"
   },
   {
    "duration": 368,
    "start_time": "2022-01-06T10:15:04.447Z"
   },
   {
    "duration": 315,
    "start_time": "2022-01-06T10:15:19.516Z"
   },
   {
    "duration": 255,
    "start_time": "2022-01-06T10:15:24.566Z"
   },
   {
    "duration": 263,
    "start_time": "2022-01-06T10:15:27.946Z"
   },
   {
    "duration": 262,
    "start_time": "2022-01-06T10:23:17.972Z"
   },
   {
    "duration": 296,
    "start_time": "2022-01-06T10:27:17.693Z"
   },
   {
    "duration": 298,
    "start_time": "2022-01-06T10:30:20.000Z"
   },
   {
    "duration": 299,
    "start_time": "2022-01-06T10:30:24.698Z"
   },
   {
    "duration": 273,
    "start_time": "2022-01-06T10:31:45.470Z"
   },
   {
    "duration": 281,
    "start_time": "2022-01-06T10:33:19.162Z"
   },
   {
    "duration": 319,
    "start_time": "2022-01-06T10:33:23.820Z"
   },
   {
    "duration": 320,
    "start_time": "2022-01-06T10:33:44.091Z"
   },
   {
    "duration": 288,
    "start_time": "2022-01-06T10:35:43.944Z"
   },
   {
    "duration": 121,
    "start_time": "2022-01-06T10:37:02.891Z"
   },
   {
    "duration": 105,
    "start_time": "2022-01-06T10:37:39.876Z"
   },
   {
    "duration": 318,
    "start_time": "2022-01-06T10:37:49.112Z"
   },
   {
    "duration": 104,
    "start_time": "2022-01-06T10:38:05.411Z"
   },
   {
    "duration": 392,
    "start_time": "2022-01-06T10:38:13.323Z"
   },
   {
    "duration": 557,
    "start_time": "2022-01-06T10:44:08.632Z"
   },
   {
    "duration": 530,
    "start_time": "2022-01-06T10:44:32.553Z"
   },
   {
    "duration": 495,
    "start_time": "2022-01-06T10:44:44.484Z"
   },
   {
    "duration": 482,
    "start_time": "2022-01-06T10:44:53.919Z"
   },
   {
    "duration": 483,
    "start_time": "2022-01-06T10:45:04.784Z"
   },
   {
    "duration": 493,
    "start_time": "2022-01-06T11:02:59.492Z"
   },
   {
    "duration": 505,
    "start_time": "2022-01-06T11:10:11.269Z"
   },
   {
    "duration": 540,
    "start_time": "2022-01-06T11:10:22.157Z"
   },
   {
    "duration": 501,
    "start_time": "2022-01-06T11:10:41.667Z"
   },
   {
    "duration": 1098,
    "start_time": "2022-01-06T11:12:54.180Z"
   },
   {
    "duration": 44,
    "start_time": "2022-01-06T11:12:55.280Z"
   },
   {
    "duration": 8,
    "start_time": "2022-01-06T11:12:55.327Z"
   },
   {
    "duration": 2,
    "start_time": "2022-01-06T11:12:55.337Z"
   },
   {
    "duration": 10,
    "start_time": "2022-01-06T11:12:55.341Z"
   },
   {
    "duration": 6,
    "start_time": "2022-01-06T11:12:55.353Z"
   },
   {
    "duration": 7,
    "start_time": "2022-01-06T11:12:55.361Z"
   },
   {
    "duration": 17,
    "start_time": "2022-01-06T11:12:55.370Z"
   },
   {
    "duration": 10,
    "start_time": "2022-01-06T11:12:55.388Z"
   },
   {
    "duration": 207,
    "start_time": "2022-01-06T11:12:55.428Z"
   },
   {
    "duration": 330,
    "start_time": "2022-01-06T11:12:55.636Z"
   },
   {
    "duration": 14,
    "start_time": "2022-01-06T11:12:55.967Z"
   },
   {
    "duration": 394,
    "start_time": "2022-01-06T11:12:55.982Z"
   },
   {
    "duration": -743,
    "start_time": "2022-01-06T11:12:57.120Z"
   },
   {
    "duration": -746,
    "start_time": "2022-01-06T11:12:57.124Z"
   },
   {
    "duration": -748,
    "start_time": "2022-01-06T11:12:57.127Z"
   },
   {
    "duration": 1063,
    "start_time": "2022-01-06T11:14:04.213Z"
   },
   {
    "duration": 43,
    "start_time": "2022-01-06T11:14:05.278Z"
   },
   {
    "duration": 8,
    "start_time": "2022-01-06T11:14:05.323Z"
   },
   {
    "duration": 3,
    "start_time": "2022-01-06T11:14:05.332Z"
   },
   {
    "duration": 12,
    "start_time": "2022-01-06T11:14:05.336Z"
   },
   {
    "duration": 10,
    "start_time": "2022-01-06T11:14:05.349Z"
   },
   {
    "duration": 4,
    "start_time": "2022-01-06T11:14:05.361Z"
   },
   {
    "duration": 21,
    "start_time": "2022-01-06T11:14:05.367Z"
   },
   {
    "duration": 9,
    "start_time": "2022-01-06T11:14:05.390Z"
   },
   {
    "duration": 357,
    "start_time": "2022-01-06T11:14:05.400Z"
   },
   {
    "duration": 398,
    "start_time": "2022-01-06T11:14:05.759Z"
   },
   {
    "duration": 13,
    "start_time": "2022-01-06T11:14:06.159Z"
   },
   {
    "duration": 406,
    "start_time": "2022-01-06T11:14:06.173Z"
   },
   {
    "duration": -781,
    "start_time": "2022-01-06T11:14:07.361Z"
   },
   {
    "duration": -784,
    "start_time": "2022-01-06T11:14:07.365Z"
   },
   {
    "duration": -787,
    "start_time": "2022-01-06T11:14:07.369Z"
   },
   {
    "duration": 19,
    "start_time": "2022-01-06T11:14:27.599Z"
   },
   {
    "duration": 1144,
    "start_time": "2022-01-06T11:15:13.544Z"
   },
   {
    "duration": 44,
    "start_time": "2022-01-06T11:15:14.689Z"
   },
   {
    "duration": 8,
    "start_time": "2022-01-06T11:15:14.736Z"
   },
   {
    "duration": 5,
    "start_time": "2022-01-06T11:15:14.746Z"
   },
   {
    "duration": 11,
    "start_time": "2022-01-06T11:15:14.752Z"
   },
   {
    "duration": 6,
    "start_time": "2022-01-06T11:15:14.764Z"
   },
   {
    "duration": 15,
    "start_time": "2022-01-06T11:15:14.772Z"
   },
   {
    "duration": 18,
    "start_time": "2022-01-06T11:15:14.789Z"
   },
   {
    "duration": 27,
    "start_time": "2022-01-06T11:15:14.808Z"
   },
   {
    "duration": 211,
    "start_time": "2022-01-06T11:15:14.836Z"
   },
   {
    "duration": 334,
    "start_time": "2022-01-06T11:15:15.048Z"
   },
   {
    "duration": 15,
    "start_time": "2022-01-06T11:15:15.384Z"
   },
   {
    "duration": 33,
    "start_time": "2022-01-06T11:15:15.400Z"
   },
   {
    "duration": 351,
    "start_time": "2022-01-06T11:15:15.435Z"
   },
   {
    "duration": 412,
    "start_time": "2022-01-06T11:15:15.788Z"
   },
   {
    "duration": 489,
    "start_time": "2022-01-06T11:15:16.202Z"
   },
   {
    "duration": 12,
    "start_time": "2022-01-06T11:17:06.868Z"
   },
   {
    "duration": 19,
    "start_time": "2022-01-06T11:32:42.052Z"
   },
   {
    "duration": 18,
    "start_time": "2022-01-06T11:33:00.851Z"
   },
   {
    "duration": 313,
    "start_time": "2022-01-06T11:33:42.239Z"
   },
   {
    "duration": 352,
    "start_time": "2022-01-06T11:34:07.150Z"
   },
   {
    "duration": 349,
    "start_time": "2022-01-06T11:35:29.384Z"
   },
   {
    "duration": 452,
    "start_time": "2022-01-06T11:36:09.959Z"
   },
   {
    "duration": 353,
    "start_time": "2022-01-06T11:36:43.874Z"
   },
   {
    "duration": 325,
    "start_time": "2022-01-06T11:37:24.157Z"
   },
   {
    "duration": 204,
    "start_time": "2022-01-06T11:37:57.545Z"
   },
   {
    "duration": 1238,
    "start_time": "2022-01-06T11:48:14.036Z"
   },
   {
    "duration": 1082,
    "start_time": "2022-01-06T11:48:32.299Z"
   },
   {
    "duration": 45,
    "start_time": "2022-01-06T11:48:33.383Z"
   },
   {
    "duration": 9,
    "start_time": "2022-01-06T11:48:33.430Z"
   },
   {
    "duration": 7,
    "start_time": "2022-01-06T11:48:33.441Z"
   },
   {
    "duration": 17,
    "start_time": "2022-01-06T11:48:33.449Z"
   },
   {
    "duration": 7,
    "start_time": "2022-01-06T11:48:33.467Z"
   },
   {
    "duration": 6,
    "start_time": "2022-01-06T11:48:33.476Z"
   },
   {
    "duration": 18,
    "start_time": "2022-01-06T11:48:33.484Z"
   },
   {
    "duration": 32,
    "start_time": "2022-01-06T11:48:33.503Z"
   },
   {
    "duration": 215,
    "start_time": "2022-01-06T11:48:33.537Z"
   },
   {
    "duration": 342,
    "start_time": "2022-01-06T11:48:33.754Z"
   },
   {
    "duration": 30,
    "start_time": "2022-01-06T11:48:34.097Z"
   },
   {
    "duration": 16,
    "start_time": "2022-01-06T11:48:34.129Z"
   },
   {
    "duration": 363,
    "start_time": "2022-01-06T11:48:34.147Z"
   },
   {
    "duration": 416,
    "start_time": "2022-01-06T11:48:34.512Z"
   },
   {
    "duration": 570,
    "start_time": "2022-01-06T11:48:34.930Z"
   },
   {
    "duration": 1495,
    "start_time": "2022-01-06T11:48:35.502Z"
   },
   {
    "duration": -818,
    "start_time": "2022-01-06T11:48:37.817Z"
   },
   {
    "duration": -829,
    "start_time": "2022-01-06T11:48:37.829Z"
   },
   {
    "duration": 546,
    "start_time": "2022-01-06T11:50:02.652Z"
   },
   {
    "duration": 1160,
    "start_time": "2022-01-06T11:51:17.940Z"
   },
   {
    "duration": 6,
    "start_time": "2022-01-06T11:51:54.351Z"
   },
   {
    "duration": 1070,
    "start_time": "2022-01-06T11:51:58.509Z"
   },
   {
    "duration": 33,
    "start_time": "2022-01-06T11:51:59.580Z"
   },
   {
    "duration": 17,
    "start_time": "2022-01-06T11:51:59.615Z"
   },
   {
    "duration": 3,
    "start_time": "2022-01-06T11:51:59.633Z"
   },
   {
    "duration": 12,
    "start_time": "2022-01-06T11:51:59.637Z"
   },
   {
    "duration": 7,
    "start_time": "2022-01-06T11:51:59.650Z"
   },
   {
    "duration": 7,
    "start_time": "2022-01-06T11:51:59.659Z"
   },
   {
    "duration": 17,
    "start_time": "2022-01-06T11:51:59.669Z"
   },
   {
    "duration": 10,
    "start_time": "2022-01-06T11:51:59.687Z"
   },
   {
    "duration": 240,
    "start_time": "2022-01-06T11:51:59.698Z"
   },
   {
    "duration": 336,
    "start_time": "2022-01-06T11:51:59.940Z"
   },
   {
    "duration": 15,
    "start_time": "2022-01-06T11:52:00.278Z"
   },
   {
    "duration": 34,
    "start_time": "2022-01-06T11:52:00.294Z"
   },
   {
    "duration": 384,
    "start_time": "2022-01-06T11:52:00.329Z"
   },
   {
    "duration": 432,
    "start_time": "2022-01-06T11:52:00.714Z"
   },
   {
    "duration": 537,
    "start_time": "2022-01-06T11:52:01.148Z"
   },
   {
    "duration": 609,
    "start_time": "2022-01-06T11:52:01.687Z"
   },
   {
    "duration": 11,
    "start_time": "2022-01-06T11:52:02.298Z"
   },
   {
    "duration": 367,
    "start_time": "2022-01-06T11:52:02.310Z"
   },
   {
    "duration": 5,
    "start_time": "2022-01-06T11:57:33.436Z"
   },
   {
    "duration": 1024,
    "start_time": "2022-01-06T11:58:03.557Z"
   },
   {
    "duration": 44,
    "start_time": "2022-01-06T11:58:04.583Z"
   },
   {
    "duration": 8,
    "start_time": "2022-01-06T11:58:04.631Z"
   },
   {
    "duration": 3,
    "start_time": "2022-01-06T11:58:04.641Z"
   },
   {
    "duration": 11,
    "start_time": "2022-01-06T11:58:04.645Z"
   },
   {
    "duration": 7,
    "start_time": "2022-01-06T11:58:04.658Z"
   },
   {
    "duration": 6,
    "start_time": "2022-01-06T11:58:04.668Z"
   },
   {
    "duration": 52,
    "start_time": "2022-01-06T11:58:04.675Z"
   },
   {
    "duration": 12,
    "start_time": "2022-01-06T11:58:04.728Z"
   },
   {
    "duration": 226,
    "start_time": "2022-01-06T11:58:04.741Z"
   },
   {
    "duration": 336,
    "start_time": "2022-01-06T11:58:04.968Z"
   },
   {
    "duration": 23,
    "start_time": "2022-01-06T11:58:05.305Z"
   },
   {
    "duration": 22,
    "start_time": "2022-01-06T11:58:05.329Z"
   },
   {
    "duration": 370,
    "start_time": "2022-01-06T11:58:05.352Z"
   },
   {
    "duration": 418,
    "start_time": "2022-01-06T11:58:05.727Z"
   },
   {
    "duration": 626,
    "start_time": "2022-01-06T11:58:06.147Z"
   },
   {
    "duration": 508,
    "start_time": "2022-01-06T11:58:06.775Z"
   },
   {
    "duration": 11,
    "start_time": "2022-01-06T11:58:07.284Z"
   },
   {
    "duration": 365,
    "start_time": "2022-01-06T11:58:07.297Z"
   },
   {
    "duration": 13,
    "start_time": "2022-01-06T12:00:50.232Z"
   },
   {
    "duration": 12,
    "start_time": "2022-01-06T12:01:06.938Z"
   },
   {
    "duration": 239,
    "start_time": "2022-01-06T12:23:57.525Z"
   },
   {
    "duration": 526,
    "start_time": "2022-01-06T12:25:08.721Z"
   },
   {
    "duration": 248,
    "start_time": "2022-01-06T12:25:25.461Z"
   },
   {
    "duration": 228,
    "start_time": "2022-01-06T12:25:38.538Z"
   },
   {
    "duration": 10,
    "start_time": "2022-01-06T12:26:45.640Z"
   },
   {
    "duration": 9,
    "start_time": "2022-01-06T12:26:55.308Z"
   },
   {
    "duration": 9,
    "start_time": "2022-01-06T12:27:28.104Z"
   },
   {
    "duration": 124,
    "start_time": "2022-01-06T12:30:11.550Z"
   },
   {
    "duration": 9,
    "start_time": "2022-01-06T12:30:19.379Z"
   },
   {
    "duration": 13,
    "start_time": "2022-01-06T12:30:30.839Z"
   },
   {
    "duration": 16,
    "start_time": "2022-01-06T12:31:54.119Z"
   },
   {
    "duration": 14,
    "start_time": "2022-01-06T12:32:17.387Z"
   },
   {
    "duration": 14,
    "start_time": "2022-01-06T12:32:34.925Z"
   },
   {
    "duration": 117,
    "start_time": "2022-01-06T12:34:22.549Z"
   },
   {
    "duration": 11,
    "start_time": "2022-01-06T12:34:41.674Z"
   },
   {
    "duration": 409,
    "start_time": "2022-01-06T12:35:00.343Z"
   },
   {
    "duration": 14,
    "start_time": "2022-01-06T12:35:22.724Z"
   },
   {
    "duration": 18,
    "start_time": "2022-01-06T12:35:54.146Z"
   },
   {
    "duration": 16,
    "start_time": "2022-01-06T12:36:11.745Z"
   },
   {
    "duration": 14,
    "start_time": "2022-01-06T12:36:30.678Z"
   },
   {
    "duration": 333,
    "start_time": "2022-01-06T12:43:06.955Z"
   },
   {
    "duration": 282,
    "start_time": "2022-01-06T12:43:35.928Z"
   },
   {
    "duration": 279,
    "start_time": "2022-01-06T12:44:13.466Z"
   },
   {
    "duration": 349,
    "start_time": "2022-01-06T12:44:48.579Z"
   },
   {
    "duration": 508,
    "start_time": "2022-01-06T14:47:50.212Z"
   },
   {
    "duration": 619,
    "start_time": "2022-01-06T14:49:26.296Z"
   },
   {
    "duration": 559,
    "start_time": "2022-01-06T14:50:39.712Z"
   },
   {
    "duration": 665,
    "start_time": "2022-01-06T14:50:47.310Z"
   },
   {
    "duration": 567,
    "start_time": "2022-01-06T14:50:53.215Z"
   },
   {
    "duration": 512,
    "start_time": "2022-01-06T14:50:59.974Z"
   },
   {
    "duration": 1287,
    "start_time": "2022-01-06T14:52:16.053Z"
   },
   {
    "duration": 578,
    "start_time": "2022-01-06T14:53:10.941Z"
   },
   {
    "duration": 294,
    "start_time": "2022-01-06T14:57:05.355Z"
   },
   {
    "duration": 24,
    "start_time": "2022-01-06T14:57:51.222Z"
   },
   {
    "duration": 23,
    "start_time": "2022-01-06T14:57:58.988Z"
   },
   {
    "duration": 21,
    "start_time": "2022-01-06T14:58:46.761Z"
   },
   {
    "duration": 1051,
    "start_time": "2022-01-06T14:59:01.135Z"
   },
   {
    "duration": 50,
    "start_time": "2022-01-06T14:59:02.187Z"
   },
   {
    "duration": 13,
    "start_time": "2022-01-06T14:59:02.240Z"
   },
   {
    "duration": 5,
    "start_time": "2022-01-06T14:59:02.255Z"
   },
   {
    "duration": 13,
    "start_time": "2022-01-06T14:59:02.262Z"
   },
   {
    "duration": 6,
    "start_time": "2022-01-06T14:59:02.277Z"
   },
   {
    "duration": 6,
    "start_time": "2022-01-06T14:59:02.284Z"
   },
   {
    "duration": 22,
    "start_time": "2022-01-06T14:59:02.292Z"
   },
   {
    "duration": 23,
    "start_time": "2022-01-06T14:59:02.315Z"
   },
   {
    "duration": 231,
    "start_time": "2022-01-06T14:59:02.340Z"
   },
   {
    "duration": 347,
    "start_time": "2022-01-06T14:59:02.572Z"
   },
   {
    "duration": 24,
    "start_time": "2022-01-06T14:59:02.921Z"
   },
   {
    "duration": 20,
    "start_time": "2022-01-06T14:59:02.946Z"
   },
   {
    "duration": 389,
    "start_time": "2022-01-06T14:59:02.967Z"
   },
   {
    "duration": 427,
    "start_time": "2022-01-06T14:59:03.358Z"
   },
   {
    "duration": 522,
    "start_time": "2022-01-06T14:59:03.787Z"
   },
   {
    "duration": 504,
    "start_time": "2022-01-06T14:59:04.311Z"
   },
   {
    "duration": 20,
    "start_time": "2022-01-06T14:59:04.817Z"
   },
   {
    "duration": 375,
    "start_time": "2022-01-06T14:59:04.839Z"
   },
   {
    "duration": 21,
    "start_time": "2022-01-06T14:59:05.216Z"
   },
   {
    "duration": 993,
    "start_time": "2022-01-06T15:01:24.497Z"
   },
   {
    "duration": 48,
    "start_time": "2022-01-06T15:01:25.492Z"
   },
   {
    "duration": 8,
    "start_time": "2022-01-06T15:01:25.542Z"
   },
   {
    "duration": 3,
    "start_time": "2022-01-06T15:01:25.552Z"
   },
   {
    "duration": 12,
    "start_time": "2022-01-06T15:01:25.556Z"
   },
   {
    "duration": 6,
    "start_time": "2022-01-06T15:01:25.569Z"
   },
   {
    "duration": 8,
    "start_time": "2022-01-06T15:01:25.576Z"
   },
   {
    "duration": 18,
    "start_time": "2022-01-06T15:01:25.586Z"
   },
   {
    "duration": 32,
    "start_time": "2022-01-06T15:01:25.605Z"
   },
   {
    "duration": 226,
    "start_time": "2022-01-06T15:01:25.640Z"
   },
   {
    "duration": 350,
    "start_time": "2022-01-06T15:01:25.868Z"
   },
   {
    "duration": 19,
    "start_time": "2022-01-06T15:01:26.220Z"
   },
   {
    "duration": 18,
    "start_time": "2022-01-06T15:01:26.241Z"
   },
   {
    "duration": 380,
    "start_time": "2022-01-06T15:01:26.260Z"
   },
   {
    "duration": 438,
    "start_time": "2022-01-06T15:01:26.642Z"
   },
   {
    "duration": 527,
    "start_time": "2022-01-06T15:01:27.082Z"
   },
   {
    "duration": 584,
    "start_time": "2022-01-06T15:01:27.610Z"
   },
   {
    "duration": 12,
    "start_time": "2022-01-06T15:01:28.196Z"
   },
   {
    "duration": 388,
    "start_time": "2022-01-06T15:01:28.209Z"
   },
   {
    "duration": 12,
    "start_time": "2022-01-06T15:01:28.599Z"
   },
   {
    "duration": 1027,
    "start_time": "2022-01-06T15:02:02.547Z"
   },
   {
    "duration": 44,
    "start_time": "2022-01-06T15:02:03.576Z"
   },
   {
    "duration": 17,
    "start_time": "2022-01-06T15:02:03.621Z"
   },
   {
    "duration": 7,
    "start_time": "2022-01-06T15:02:03.640Z"
   },
   {
    "duration": 12,
    "start_time": "2022-01-06T15:02:03.648Z"
   },
   {
    "duration": 6,
    "start_time": "2022-01-06T15:02:03.661Z"
   },
   {
    "duration": 5,
    "start_time": "2022-01-06T15:02:03.668Z"
   },
   {
    "duration": 18,
    "start_time": "2022-01-06T15:02:03.675Z"
   },
   {
    "duration": 9,
    "start_time": "2022-01-06T15:02:03.695Z"
   },
   {
    "duration": 238,
    "start_time": "2022-01-06T15:02:03.706Z"
   },
   {
    "duration": 352,
    "start_time": "2022-01-06T15:02:03.946Z"
   },
   {
    "duration": 14,
    "start_time": "2022-01-06T15:02:04.299Z"
   },
   {
    "duration": 21,
    "start_time": "2022-01-06T15:02:04.328Z"
   },
   {
    "duration": 373,
    "start_time": "2022-01-06T15:02:04.350Z"
   },
   {
    "duration": 440,
    "start_time": "2022-01-06T15:02:04.727Z"
   },
   {
    "duration": 527,
    "start_time": "2022-01-06T15:02:05.168Z"
   },
   {
    "duration": 519,
    "start_time": "2022-01-06T15:02:05.696Z"
   },
   {
    "duration": 17,
    "start_time": "2022-01-06T15:02:06.216Z"
   },
   {
    "duration": 380,
    "start_time": "2022-01-06T15:02:06.235Z"
   },
   {
    "duration": 23,
    "start_time": "2022-01-06T15:02:06.616Z"
   },
   {
    "duration": 12,
    "start_time": "2022-01-06T15:02:29.436Z"
   },
   {
    "duration": 30,
    "start_time": "2022-01-06T15:03:14.664Z"
   },
   {
    "duration": 56,
    "start_time": "2022-01-06T15:03:20.796Z"
   },
   {
    "duration": 24,
    "start_time": "2022-01-06T15:04:13.478Z"
   },
   {
    "duration": 432,
    "start_time": "2022-01-06T15:04:28.309Z"
   },
   {
    "duration": 345,
    "start_time": "2022-01-06T15:04:41.857Z"
   },
   {
    "duration": 489,
    "start_time": "2022-01-06T15:04:57.013Z"
   },
   {
    "duration": 277,
    "start_time": "2022-01-06T15:05:06.322Z"
   },
   {
    "duration": 27,
    "start_time": "2022-01-06T15:07:50.724Z"
   },
   {
    "duration": 353,
    "start_time": "2022-01-06T15:08:51.752Z"
   },
   {
    "duration": 82,
    "start_time": "2022-01-06T15:09:18.879Z"
   },
   {
    "duration": 77,
    "start_time": "2022-01-06T15:18:05.759Z"
   },
   {
    "duration": 266,
    "start_time": "2022-01-06T15:18:28.815Z"
   },
   {
    "duration": 893,
    "start_time": "2022-01-06T15:18:53.664Z"
   },
   {
    "duration": 108,
    "start_time": "2022-01-06T15:20:18.623Z"
   },
   {
    "duration": 346,
    "start_time": "2022-01-06T15:20:22.709Z"
   },
   {
    "duration": 339,
    "start_time": "2022-01-06T15:20:28.515Z"
   },
   {
    "duration": 300,
    "start_time": "2022-01-06T15:20:44.814Z"
   },
   {
    "duration": 365,
    "start_time": "2022-01-06T15:21:06.740Z"
   },
   {
    "duration": 298,
    "start_time": "2022-01-06T15:21:13.994Z"
   },
   {
    "duration": 308,
    "start_time": "2022-01-06T15:21:30.995Z"
   },
   {
    "duration": 308,
    "start_time": "2022-01-06T15:21:50.906Z"
   },
   {
    "duration": 309,
    "start_time": "2022-01-06T15:21:59.348Z"
   },
   {
    "duration": 346,
    "start_time": "2022-01-06T15:22:37.512Z"
   },
   {
    "duration": 338,
    "start_time": "2022-01-06T15:22:45.307Z"
   },
   {
    "duration": 328,
    "start_time": "2022-01-06T15:23:29.752Z"
   },
   {
    "duration": 324,
    "start_time": "2022-01-06T15:24:27.299Z"
   },
   {
    "duration": 29,
    "start_time": "2022-01-06T15:29:41.954Z"
   },
   {
    "duration": 250,
    "start_time": "2022-01-06T15:31:18.206Z"
   },
   {
    "duration": 356,
    "start_time": "2022-01-06T15:33:19.978Z"
   },
   {
    "duration": 977,
    "start_time": "2022-01-06T15:33:31.910Z"
   },
   {
    "duration": 46,
    "start_time": "2022-01-06T15:33:32.889Z"
   },
   {
    "duration": 10,
    "start_time": "2022-01-06T15:33:32.938Z"
   },
   {
    "duration": 3,
    "start_time": "2022-01-06T15:33:32.949Z"
   },
   {
    "duration": 14,
    "start_time": "2022-01-06T15:33:32.954Z"
   },
   {
    "duration": 7,
    "start_time": "2022-01-06T15:33:32.969Z"
   },
   {
    "duration": 12,
    "start_time": "2022-01-06T15:33:32.977Z"
   },
   {
    "duration": 21,
    "start_time": "2022-01-06T15:33:32.991Z"
   },
   {
    "duration": 12,
    "start_time": "2022-01-06T15:33:33.036Z"
   },
   {
    "duration": 223,
    "start_time": "2022-01-06T15:33:33.051Z"
   },
   {
    "duration": 364,
    "start_time": "2022-01-06T15:33:33.275Z"
   },
   {
    "duration": 14,
    "start_time": "2022-01-06T15:33:33.641Z"
   },
   {
    "duration": 17,
    "start_time": "2022-01-06T15:33:33.656Z"
   },
   {
    "duration": 368,
    "start_time": "2022-01-06T15:33:33.675Z"
   },
   {
    "duration": 449,
    "start_time": "2022-01-06T15:33:34.045Z"
   },
   {
    "duration": 516,
    "start_time": "2022-01-06T15:33:34.495Z"
   },
   {
    "duration": 577,
    "start_time": "2022-01-06T15:33:35.012Z"
   },
   {
    "duration": 13,
    "start_time": "2022-01-06T15:33:35.591Z"
   },
   {
    "duration": 394,
    "start_time": "2022-01-06T15:33:35.605Z"
   },
   {
    "duration": 413,
    "start_time": "2022-01-06T15:33:36.001Z"
   },
   {
    "duration": -963,
    "start_time": "2022-01-06T15:33:37.378Z"
   },
   {
    "duration": 7,
    "start_time": "2022-01-06T15:33:46.683Z"
   },
   {
    "duration": 7,
    "start_time": "2022-01-06T15:34:08.940Z"
   },
   {
    "duration": 10,
    "start_time": "2022-01-06T15:35:17.574Z"
   },
   {
    "duration": 976,
    "start_time": "2022-01-06T15:35:26.415Z"
   },
   {
    "duration": 48,
    "start_time": "2022-01-06T15:35:27.393Z"
   },
   {
    "duration": 9,
    "start_time": "2022-01-06T15:35:27.443Z"
   },
   {
    "duration": 5,
    "start_time": "2022-01-06T15:35:27.454Z"
   },
   {
    "duration": 12,
    "start_time": "2022-01-06T15:35:27.461Z"
   },
   {
    "duration": 6,
    "start_time": "2022-01-06T15:35:27.474Z"
   },
   {
    "duration": 8,
    "start_time": "2022-01-06T15:35:27.482Z"
   },
   {
    "duration": 36,
    "start_time": "2022-01-06T15:35:27.492Z"
   },
   {
    "duration": 13,
    "start_time": "2022-01-06T15:35:27.531Z"
   },
   {
    "duration": 232,
    "start_time": "2022-01-06T15:35:27.546Z"
   },
   {
    "duration": 343,
    "start_time": "2022-01-06T15:35:27.780Z"
   },
   {
    "duration": 26,
    "start_time": "2022-01-06T15:35:28.124Z"
   },
   {
    "duration": 18,
    "start_time": "2022-01-06T15:35:28.152Z"
   },
   {
    "duration": 373,
    "start_time": "2022-01-06T15:35:28.171Z"
   },
   {
    "duration": 434,
    "start_time": "2022-01-06T15:35:28.546Z"
   },
   {
    "duration": 530,
    "start_time": "2022-01-06T15:35:28.982Z"
   },
   {
    "duration": 604,
    "start_time": "2022-01-06T15:35:29.513Z"
   },
   {
    "duration": 21,
    "start_time": "2022-01-06T15:35:30.118Z"
   },
   {
    "duration": 373,
    "start_time": "2022-01-06T15:35:30.140Z"
   },
   {
    "duration": 23,
    "start_time": "2022-01-06T15:35:30.515Z"
   },
   {
    "duration": 13,
    "start_time": "2022-01-06T15:35:30.540Z"
   },
   {
    "duration": 1026,
    "start_time": "2022-01-06T15:35:58.542Z"
   },
   {
    "duration": 45,
    "start_time": "2022-01-06T15:35:59.570Z"
   },
   {
    "duration": 12,
    "start_time": "2022-01-06T15:35:59.617Z"
   },
   {
    "duration": 15,
    "start_time": "2022-01-06T15:35:59.631Z"
   },
   {
    "duration": 14,
    "start_time": "2022-01-06T15:35:59.648Z"
   },
   {
    "duration": 8,
    "start_time": "2022-01-06T15:35:59.663Z"
   },
   {
    "duration": 8,
    "start_time": "2022-01-06T15:35:59.672Z"
   },
   {
    "duration": 22,
    "start_time": "2022-01-06T15:35:59.681Z"
   },
   {
    "duration": 9,
    "start_time": "2022-01-06T15:35:59.705Z"
   },
   {
    "duration": 240,
    "start_time": "2022-01-06T15:35:59.715Z"
   },
   {
    "duration": 354,
    "start_time": "2022-01-06T15:35:59.957Z"
   },
   {
    "duration": 26,
    "start_time": "2022-01-06T15:36:00.312Z"
   },
   {
    "duration": 19,
    "start_time": "2022-01-06T15:36:00.340Z"
   },
   {
    "duration": 378,
    "start_time": "2022-01-06T15:36:00.361Z"
   },
   {
    "duration": 533,
    "start_time": "2022-01-06T15:36:00.741Z"
   },
   {
    "duration": 644,
    "start_time": "2022-01-06T15:36:01.276Z"
   },
   {
    "duration": 586,
    "start_time": "2022-01-06T15:36:01.921Z"
   },
   {
    "duration": 11,
    "start_time": "2022-01-06T15:36:02.509Z"
   },
   {
    "duration": 381,
    "start_time": "2022-01-06T15:36:02.522Z"
   },
   {
    "duration": 110,
    "start_time": "2022-01-06T15:36:02.905Z"
   },
   {
    "duration": 3,
    "start_time": "2022-01-06T15:36:03.017Z"
   },
   {
    "duration": 295,
    "start_time": "2022-01-06T15:36:54.603Z"
   },
   {
    "duration": 998,
    "start_time": "2022-01-06T15:37:07.691Z"
   },
   {
    "duration": 49,
    "start_time": "2022-01-06T15:37:08.690Z"
   },
   {
    "duration": 11,
    "start_time": "2022-01-06T15:37:08.741Z"
   },
   {
    "duration": 3,
    "start_time": "2022-01-06T15:37:08.754Z"
   },
   {
    "duration": 12,
    "start_time": "2022-01-06T15:37:08.759Z"
   },
   {
    "duration": 6,
    "start_time": "2022-01-06T15:37:08.773Z"
   },
   {
    "duration": 8,
    "start_time": "2022-01-06T15:37:08.780Z"
   },
   {
    "duration": 17,
    "start_time": "2022-01-06T15:37:08.790Z"
   },
   {
    "duration": 14,
    "start_time": "2022-01-06T15:37:08.826Z"
   },
   {
    "duration": 232,
    "start_time": "2022-01-06T15:37:08.842Z"
   },
   {
    "duration": 469,
    "start_time": "2022-01-06T15:37:09.076Z"
   },
   {
    "duration": 14,
    "start_time": "2022-01-06T15:37:09.547Z"
   },
   {
    "duration": 17,
    "start_time": "2022-01-06T15:37:09.562Z"
   },
   {
    "duration": 401,
    "start_time": "2022-01-06T15:37:09.581Z"
   },
   {
    "duration": 433,
    "start_time": "2022-01-06T15:37:09.984Z"
   },
   {
    "duration": 589,
    "start_time": "2022-01-06T15:37:10.418Z"
   },
   {
    "duration": 581,
    "start_time": "2022-01-06T15:37:11.009Z"
   },
   {
    "duration": 13,
    "start_time": "2022-01-06T15:37:11.592Z"
   },
   {
    "duration": 386,
    "start_time": "2022-01-06T15:37:11.606Z"
   },
   {
    "duration": 100,
    "start_time": "2022-01-06T15:37:11.994Z"
   },
   {
    "duration": 301,
    "start_time": "2022-01-06T15:37:12.095Z"
   },
   {
    "duration": 88,
    "start_time": "2022-01-06T15:38:36.115Z"
   },
   {
    "duration": 979,
    "start_time": "2022-01-06T15:38:52.909Z"
   },
   {
    "duration": 49,
    "start_time": "2022-01-06T15:38:53.889Z"
   },
   {
    "duration": 9,
    "start_time": "2022-01-06T15:38:53.940Z"
   },
   {
    "duration": 3,
    "start_time": "2022-01-06T15:38:53.951Z"
   },
   {
    "duration": 11,
    "start_time": "2022-01-06T15:38:53.956Z"
   },
   {
    "duration": 7,
    "start_time": "2022-01-06T15:38:53.968Z"
   },
   {
    "duration": 5,
    "start_time": "2022-01-06T15:38:53.977Z"
   },
   {
    "duration": 54,
    "start_time": "2022-01-06T15:38:53.985Z"
   },
   {
    "duration": 11,
    "start_time": "2022-01-06T15:38:54.041Z"
   },
   {
    "duration": 229,
    "start_time": "2022-01-06T15:38:54.054Z"
   },
   {
    "duration": 369,
    "start_time": "2022-01-06T15:38:54.285Z"
   },
   {
    "duration": 16,
    "start_time": "2022-01-06T15:38:54.655Z"
   },
   {
    "duration": 18,
    "start_time": "2022-01-06T15:38:54.673Z"
   },
   {
    "duration": 394,
    "start_time": "2022-01-06T15:38:54.693Z"
   },
   {
    "duration": 451,
    "start_time": "2022-01-06T15:38:55.089Z"
   },
   {
    "duration": 551,
    "start_time": "2022-01-06T15:38:55.542Z"
   },
   {
    "duration": 516,
    "start_time": "2022-01-06T15:38:56.095Z"
   },
   {
    "duration": 14,
    "start_time": "2022-01-06T15:38:56.613Z"
   },
   {
    "duration": 380,
    "start_time": "2022-01-06T15:38:56.628Z"
   },
   {
    "duration": 2,
    "start_time": "2022-01-06T15:38:57.010Z"
   },
   {
    "duration": 102,
    "start_time": "2022-01-06T15:38:57.014Z"
   },
   {
    "duration": 227,
    "start_time": "2022-01-06T15:39:30.282Z"
   },
   {
    "duration": 94,
    "start_time": "2022-01-06T15:39:48.412Z"
   },
   {
    "duration": 933,
    "start_time": "2022-01-06T15:39:53.580Z"
   },
   {
    "duration": 58,
    "start_time": "2022-01-06T15:39:54.515Z"
   },
   {
    "duration": 9,
    "start_time": "2022-01-06T15:39:54.574Z"
   },
   {
    "duration": 3,
    "start_time": "2022-01-06T15:39:54.584Z"
   },
   {
    "duration": 12,
    "start_time": "2022-01-06T15:39:54.588Z"
   },
   {
    "duration": 6,
    "start_time": "2022-01-06T15:39:54.601Z"
   },
   {
    "duration": 8,
    "start_time": "2022-01-06T15:39:54.608Z"
   },
   {
    "duration": 29,
    "start_time": "2022-01-06T15:39:54.618Z"
   },
   {
    "duration": 9,
    "start_time": "2022-01-06T15:39:54.649Z"
   },
   {
    "duration": 227,
    "start_time": "2022-01-06T15:39:54.660Z"
   },
   {
    "duration": 356,
    "start_time": "2022-01-06T15:39:54.889Z"
   },
   {
    "duration": 14,
    "start_time": "2022-01-06T15:39:55.247Z"
   },
   {
    "duration": 17,
    "start_time": "2022-01-06T15:39:55.263Z"
   },
   {
    "duration": 387,
    "start_time": "2022-01-06T15:39:55.282Z"
   },
   {
    "duration": 430,
    "start_time": "2022-01-06T15:39:55.671Z"
   },
   {
    "duration": 594,
    "start_time": "2022-01-06T15:39:56.103Z"
   },
   {
    "duration": 518,
    "start_time": "2022-01-06T15:39:56.699Z"
   },
   {
    "duration": 12,
    "start_time": "2022-01-06T15:39:57.218Z"
   },
   {
    "duration": 396,
    "start_time": "2022-01-06T15:39:57.231Z"
   },
   {
    "duration": 8,
    "start_time": "2022-01-06T15:39:57.628Z"
   },
   {
    "duration": 94,
    "start_time": "2022-01-06T15:39:57.637Z"
   },
   {
    "duration": 953,
    "start_time": "2022-01-06T15:41:08.849Z"
   },
   {
    "duration": 48,
    "start_time": "2022-01-06T15:41:09.804Z"
   },
   {
    "duration": 8,
    "start_time": "2022-01-06T15:41:09.854Z"
   },
   {
    "duration": 2,
    "start_time": "2022-01-06T15:41:09.864Z"
   },
   {
    "duration": 12,
    "start_time": "2022-01-06T15:41:09.868Z"
   },
   {
    "duration": 6,
    "start_time": "2022-01-06T15:41:09.881Z"
   },
   {
    "duration": 5,
    "start_time": "2022-01-06T15:41:09.888Z"
   },
   {
    "duration": 51,
    "start_time": "2022-01-06T15:41:09.895Z"
   },
   {
    "duration": 10,
    "start_time": "2022-01-06T15:41:09.947Z"
   },
   {
    "duration": 226,
    "start_time": "2022-01-06T15:41:09.958Z"
   },
   {
    "duration": 364,
    "start_time": "2022-01-06T15:41:10.186Z"
   },
   {
    "duration": 15,
    "start_time": "2022-01-06T15:41:10.552Z"
   },
   {
    "duration": 18,
    "start_time": "2022-01-06T15:41:10.569Z"
   },
   {
    "duration": 390,
    "start_time": "2022-01-06T15:41:10.589Z"
   },
   {
    "duration": 435,
    "start_time": "2022-01-06T15:41:10.981Z"
   },
   {
    "duration": 558,
    "start_time": "2022-01-06T15:41:11.417Z"
   },
   {
    "duration": 627,
    "start_time": "2022-01-06T15:41:11.976Z"
   },
   {
    "duration": 12,
    "start_time": "2022-01-06T15:41:12.605Z"
   },
   {
    "duration": 378,
    "start_time": "2022-01-06T15:41:12.618Z"
   },
   {
    "duration": 2,
    "start_time": "2022-01-06T15:41:12.998Z"
   },
   {
    "duration": 101,
    "start_time": "2022-01-06T15:41:13.001Z"
   },
   {
    "duration": 943,
    "start_time": "2022-01-06T15:41:27.340Z"
   },
   {
    "duration": 52,
    "start_time": "2022-01-06T15:41:28.284Z"
   },
   {
    "duration": 10,
    "start_time": "2022-01-06T15:41:28.338Z"
   },
   {
    "duration": 3,
    "start_time": "2022-01-06T15:41:28.350Z"
   },
   {
    "duration": 11,
    "start_time": "2022-01-06T15:41:28.355Z"
   },
   {
    "duration": 7,
    "start_time": "2022-01-06T15:41:28.367Z"
   },
   {
    "duration": 8,
    "start_time": "2022-01-06T15:41:28.376Z"
   },
   {
    "duration": 20,
    "start_time": "2022-01-06T15:41:28.385Z"
   },
   {
    "duration": 11,
    "start_time": "2022-01-06T15:41:28.428Z"
   },
   {
    "duration": 223,
    "start_time": "2022-01-06T15:41:28.441Z"
   },
   {
    "duration": 349,
    "start_time": "2022-01-06T15:41:28.666Z"
   },
   {
    "duration": 18,
    "start_time": "2022-01-06T15:41:29.017Z"
   },
   {
    "duration": 21,
    "start_time": "2022-01-06T15:41:29.036Z"
   },
   {
    "duration": 397,
    "start_time": "2022-01-06T15:41:29.059Z"
   },
   {
    "duration": 433,
    "start_time": "2022-01-06T15:41:29.458Z"
   },
   {
    "duration": 601,
    "start_time": "2022-01-06T15:41:29.893Z"
   },
   {
    "duration": 517,
    "start_time": "2022-01-06T15:41:30.495Z"
   },
   {
    "duration": 16,
    "start_time": "2022-01-06T15:41:31.013Z"
   },
   {
    "duration": 387,
    "start_time": "2022-01-06T15:41:31.031Z"
   },
   {
    "duration": 2,
    "start_time": "2022-01-06T15:41:31.419Z"
   },
   {
    "duration": 265,
    "start_time": "2022-01-06T15:41:31.423Z"
   },
   {
    "duration": 998,
    "start_time": "2022-01-06T15:42:47.885Z"
   },
   {
    "duration": 51,
    "start_time": "2022-01-06T15:42:48.885Z"
   },
   {
    "duration": 10,
    "start_time": "2022-01-06T15:42:48.938Z"
   },
   {
    "duration": 3,
    "start_time": "2022-01-06T15:42:48.950Z"
   },
   {
    "duration": 13,
    "start_time": "2022-01-06T15:42:48.954Z"
   },
   {
    "duration": 6,
    "start_time": "2022-01-06T15:42:48.969Z"
   },
   {
    "duration": 9,
    "start_time": "2022-01-06T15:42:48.976Z"
   },
   {
    "duration": 46,
    "start_time": "2022-01-06T15:42:48.989Z"
   },
   {
    "duration": 12,
    "start_time": "2022-01-06T15:42:49.037Z"
   },
   {
    "duration": 256,
    "start_time": "2022-01-06T15:42:49.051Z"
   },
   {
    "duration": 378,
    "start_time": "2022-01-06T15:42:49.309Z"
   },
   {
    "duration": 15,
    "start_time": "2022-01-06T15:42:49.689Z"
   },
   {
    "duration": 36,
    "start_time": "2022-01-06T15:42:49.705Z"
   },
   {
    "duration": 390,
    "start_time": "2022-01-06T15:42:49.742Z"
   },
   {
    "duration": 466,
    "start_time": "2022-01-06T15:42:50.134Z"
   },
   {
    "duration": 590,
    "start_time": "2022-01-06T15:42:50.602Z"
   },
   {
    "duration": 496,
    "start_time": "2022-01-06T15:42:51.194Z"
   },
   {
    "duration": 11,
    "start_time": "2022-01-06T15:42:51.692Z"
   },
   {
    "duration": 377,
    "start_time": "2022-01-06T15:42:51.704Z"
   },
   {
    "duration": 2,
    "start_time": "2022-01-06T15:42:52.082Z"
   },
   {
    "duration": 276,
    "start_time": "2022-01-06T15:42:52.086Z"
   },
   {
    "duration": 1031,
    "start_time": "2022-01-06T15:44:36.718Z"
   },
   {
    "duration": 44,
    "start_time": "2022-01-06T15:44:37.751Z"
   },
   {
    "duration": 8,
    "start_time": "2022-01-06T15:44:37.797Z"
   },
   {
    "duration": 2,
    "start_time": "2022-01-06T15:44:37.807Z"
   },
   {
    "duration": 27,
    "start_time": "2022-01-06T15:44:37.811Z"
   },
   {
    "duration": 9,
    "start_time": "2022-01-06T15:44:37.839Z"
   },
   {
    "duration": 10,
    "start_time": "2022-01-06T15:44:37.849Z"
   },
   {
    "duration": 17,
    "start_time": "2022-01-06T15:44:37.861Z"
   },
   {
    "duration": 10,
    "start_time": "2022-01-06T15:44:37.880Z"
   },
   {
    "duration": 231,
    "start_time": "2022-01-06T15:44:37.891Z"
   },
   {
    "duration": 353,
    "start_time": "2022-01-06T15:44:38.123Z"
   },
   {
    "duration": 14,
    "start_time": "2022-01-06T15:44:38.478Z"
   },
   {
    "duration": 46,
    "start_time": "2022-01-06T15:44:38.494Z"
   },
   {
    "duration": 366,
    "start_time": "2022-01-06T15:44:38.541Z"
   },
   {
    "duration": 446,
    "start_time": "2022-01-06T15:44:38.909Z"
   },
   {
    "duration": 558,
    "start_time": "2022-01-06T15:44:39.356Z"
   },
   {
    "duration": 602,
    "start_time": "2022-01-06T15:44:39.915Z"
   },
   {
    "duration": 24,
    "start_time": "2022-01-06T15:44:40.519Z"
   },
   {
    "duration": 369,
    "start_time": "2022-01-06T15:44:40.545Z"
   },
   {
    "duration": 2,
    "start_time": "2022-01-06T15:44:40.915Z"
   },
   {
    "duration": 260,
    "start_time": "2022-01-06T15:44:40.928Z"
   },
   {
    "duration": 1104,
    "start_time": "2022-01-06T15:46:06.028Z"
   },
   {
    "duration": 46,
    "start_time": "2022-01-06T15:46:07.134Z"
   },
   {
    "duration": 9,
    "start_time": "2022-01-06T15:46:07.183Z"
   },
   {
    "duration": 3,
    "start_time": "2022-01-06T15:46:07.194Z"
   },
   {
    "duration": 11,
    "start_time": "2022-01-06T15:46:07.199Z"
   },
   {
    "duration": 20,
    "start_time": "2022-01-06T15:46:07.212Z"
   },
   {
    "duration": 8,
    "start_time": "2022-01-06T15:46:07.233Z"
   },
   {
    "duration": 17,
    "start_time": "2022-01-06T15:46:07.244Z"
   },
   {
    "duration": 10,
    "start_time": "2022-01-06T15:46:07.263Z"
   },
   {
    "duration": 334,
    "start_time": "2022-01-06T15:46:07.274Z"
   },
   {
    "duration": 340,
    "start_time": "2022-01-06T15:46:07.610Z"
   },
   {
    "duration": 14,
    "start_time": "2022-01-06T15:46:07.952Z"
   },
   {
    "duration": 18,
    "start_time": "2022-01-06T15:46:07.968Z"
   },
   {
    "duration": 375,
    "start_time": "2022-01-06T15:46:07.988Z"
   },
   {
    "duration": 428,
    "start_time": "2022-01-06T15:46:08.364Z"
   },
   {
    "duration": 509,
    "start_time": "2022-01-06T15:46:08.793Z"
   },
   {
    "duration": 493,
    "start_time": "2022-01-06T15:46:09.304Z"
   },
   {
    "duration": 11,
    "start_time": "2022-01-06T15:46:09.798Z"
   },
   {
    "duration": 378,
    "start_time": "2022-01-06T15:46:09.811Z"
   },
   {
    "duration": 2,
    "start_time": "2022-01-06T15:46:10.191Z"
   },
   {
    "duration": 33,
    "start_time": "2022-01-06T15:46:10.194Z"
   },
   {
    "duration": 5,
    "start_time": "2022-01-06T15:47:10.589Z"
   },
   {
    "duration": 968,
    "start_time": "2022-01-06T15:47:15.273Z"
   },
   {
    "duration": 45,
    "start_time": "2022-01-06T15:47:16.243Z"
   },
   {
    "duration": 8,
    "start_time": "2022-01-06T15:47:16.290Z"
   },
   {
    "duration": 2,
    "start_time": "2022-01-06T15:47:16.300Z"
   },
   {
    "duration": 10,
    "start_time": "2022-01-06T15:47:16.303Z"
   },
   {
    "duration": 15,
    "start_time": "2022-01-06T15:47:16.315Z"
   },
   {
    "duration": 5,
    "start_time": "2022-01-06T15:47:16.331Z"
   },
   {
    "duration": 18,
    "start_time": "2022-01-06T15:47:16.338Z"
   },
   {
    "duration": 10,
    "start_time": "2022-01-06T15:47:16.357Z"
   },
   {
    "duration": 225,
    "start_time": "2022-01-06T15:47:16.368Z"
   },
   {
    "duration": 343,
    "start_time": "2022-01-06T15:47:16.594Z"
   },
   {
    "duration": 14,
    "start_time": "2022-01-06T15:47:16.938Z"
   },
   {
    "duration": 17,
    "start_time": "2022-01-06T15:47:16.953Z"
   },
   {
    "duration": 373,
    "start_time": "2022-01-06T15:47:16.971Z"
   },
   {
    "duration": 428,
    "start_time": "2022-01-06T15:47:17.346Z"
   },
   {
    "duration": 613,
    "start_time": "2022-01-06T15:47:17.775Z"
   },
   {
    "duration": 500,
    "start_time": "2022-01-06T15:47:18.390Z"
   },
   {
    "duration": 11,
    "start_time": "2022-01-06T15:47:18.892Z"
   },
   {
    "duration": 446,
    "start_time": "2022-01-06T15:47:18.904Z"
   },
   {
    "duration": 3,
    "start_time": "2022-01-06T15:47:19.352Z"
   },
   {
    "duration": 18,
    "start_time": "2022-01-06T15:47:19.357Z"
   },
   {
    "duration": 4,
    "start_time": "2022-01-06T15:47:19.376Z"
   },
   {
    "duration": 1051,
    "start_time": "2022-01-06T15:48:31.380Z"
   },
   {
    "duration": 46,
    "start_time": "2022-01-06T15:48:32.433Z"
   },
   {
    "duration": 8,
    "start_time": "2022-01-06T15:48:32.481Z"
   },
   {
    "duration": 4,
    "start_time": "2022-01-06T15:48:32.491Z"
   },
   {
    "duration": 11,
    "start_time": "2022-01-06T15:48:32.496Z"
   },
   {
    "duration": 5,
    "start_time": "2022-01-06T15:48:32.509Z"
   },
   {
    "duration": 8,
    "start_time": "2022-01-06T15:48:32.527Z"
   },
   {
    "duration": 18,
    "start_time": "2022-01-06T15:48:32.537Z"
   },
   {
    "duration": 10,
    "start_time": "2022-01-06T15:48:32.557Z"
   },
   {
    "duration": 247,
    "start_time": "2022-01-06T15:48:32.569Z"
   },
   {
    "duration": 355,
    "start_time": "2022-01-06T15:48:32.818Z"
   },
   {
    "duration": 14,
    "start_time": "2022-01-06T15:48:33.175Z"
   },
   {
    "duration": 37,
    "start_time": "2022-01-06T15:48:33.190Z"
   },
   {
    "duration": 366,
    "start_time": "2022-01-06T15:48:33.228Z"
   },
   {
    "duration": 540,
    "start_time": "2022-01-06T15:48:33.595Z"
   },
   {
    "duration": 551,
    "start_time": "2022-01-06T15:48:34.137Z"
   },
   {
    "duration": 501,
    "start_time": "2022-01-06T15:48:34.690Z"
   },
   {
    "duration": 12,
    "start_time": "2022-01-06T15:48:35.192Z"
   },
   {
    "duration": 361,
    "start_time": "2022-01-06T15:48:35.205Z"
   },
   {
    "duration": 2,
    "start_time": "2022-01-06T15:48:35.567Z"
   },
   {
    "duration": 16,
    "start_time": "2022-01-06T15:48:35.571Z"
   },
   {
    "duration": 5,
    "start_time": "2022-01-06T15:48:35.588Z"
   },
   {
    "duration": 1095,
    "start_time": "2022-01-06T15:49:46.401Z"
   },
   {
    "duration": 46,
    "start_time": "2022-01-06T15:49:47.498Z"
   },
   {
    "duration": 10,
    "start_time": "2022-01-06T15:49:47.546Z"
   },
   {
    "duration": 3,
    "start_time": "2022-01-06T15:49:47.558Z"
   },
   {
    "duration": 12,
    "start_time": "2022-01-06T15:49:47.562Z"
   },
   {
    "duration": 6,
    "start_time": "2022-01-06T15:49:47.575Z"
   },
   {
    "duration": 5,
    "start_time": "2022-01-06T15:49:47.582Z"
   },
   {
    "duration": 40,
    "start_time": "2022-01-06T15:49:47.589Z"
   },
   {
    "duration": 11,
    "start_time": "2022-01-06T15:49:47.630Z"
   },
   {
    "duration": 225,
    "start_time": "2022-01-06T15:49:47.642Z"
   },
   {
    "duration": 346,
    "start_time": "2022-01-06T15:49:47.869Z"
   },
   {
    "duration": 19,
    "start_time": "2022-01-06T15:49:48.216Z"
   },
   {
    "duration": 18,
    "start_time": "2022-01-06T15:49:48.237Z"
   },
   {
    "duration": 374,
    "start_time": "2022-01-06T15:49:48.256Z"
   },
   {
    "duration": 431,
    "start_time": "2022-01-06T15:49:48.632Z"
   },
   {
    "duration": 629,
    "start_time": "2022-01-06T15:49:49.065Z"
   },
   {
    "duration": 604,
    "start_time": "2022-01-06T15:49:49.696Z"
   },
   {
    "duration": 11,
    "start_time": "2022-01-06T15:49:50.302Z"
   },
   {
    "duration": 368,
    "start_time": "2022-01-06T15:49:50.314Z"
   },
   {
    "duration": 3,
    "start_time": "2022-01-06T15:49:50.684Z"
   },
   {
    "duration": 20,
    "start_time": "2022-01-06T15:49:50.689Z"
   },
   {
    "duration": 20,
    "start_time": "2022-01-06T15:49:50.710Z"
   },
   {
    "duration": 1033,
    "start_time": "2022-01-06T15:51:13.848Z"
   },
   {
    "duration": 46,
    "start_time": "2022-01-06T15:51:14.882Z"
   },
   {
    "duration": 11,
    "start_time": "2022-01-06T15:51:14.932Z"
   },
   {
    "duration": 3,
    "start_time": "2022-01-06T15:51:14.944Z"
   },
   {
    "duration": 12,
    "start_time": "2022-01-06T15:51:14.948Z"
   },
   {
    "duration": 6,
    "start_time": "2022-01-06T15:51:14.961Z"
   },
   {
    "duration": 5,
    "start_time": "2022-01-06T15:51:14.970Z"
   },
   {
    "duration": 19,
    "start_time": "2022-01-06T15:51:14.976Z"
   },
   {
    "duration": 13,
    "start_time": "2022-01-06T15:51:15.027Z"
   },
   {
    "duration": 229,
    "start_time": "2022-01-06T15:51:15.041Z"
   },
   {
    "duration": 338,
    "start_time": "2022-01-06T15:51:15.272Z"
   },
   {
    "duration": 31,
    "start_time": "2022-01-06T15:51:15.612Z"
   },
   {
    "duration": 28,
    "start_time": "2022-01-06T15:51:15.644Z"
   },
   {
    "duration": 611,
    "start_time": "2022-01-06T15:51:15.674Z"
   },
   {
    "duration": 708,
    "start_time": "2022-01-06T15:51:16.288Z"
   },
   {
    "duration": 692,
    "start_time": "2022-01-06T15:51:16.999Z"
   },
   {
    "duration": 754,
    "start_time": "2022-01-06T15:51:17.693Z"
   },
   {
    "duration": 14,
    "start_time": "2022-01-06T15:51:18.449Z"
   },
   {
    "duration": 378,
    "start_time": "2022-01-06T15:51:18.465Z"
   },
   {
    "duration": 3,
    "start_time": "2022-01-06T15:51:18.845Z"
   },
   {
    "duration": 4458,
    "start_time": "2022-01-06T15:51:18.850Z"
   },
   {
    "duration": -956,
    "start_time": "2022-01-06T15:51:24.265Z"
   },
   {
    "duration": 1048,
    "start_time": "2022-01-06T15:52:51.947Z"
   },
   {
    "duration": 47,
    "start_time": "2022-01-06T15:52:52.996Z"
   },
   {
    "duration": 9,
    "start_time": "2022-01-06T15:52:53.045Z"
   },
   {
    "duration": 3,
    "start_time": "2022-01-06T15:52:53.057Z"
   },
   {
    "duration": 13,
    "start_time": "2022-01-06T15:52:53.061Z"
   },
   {
    "duration": 9,
    "start_time": "2022-01-06T15:52:53.075Z"
   },
   {
    "duration": 6,
    "start_time": "2022-01-06T15:52:53.085Z"
   },
   {
    "duration": 59,
    "start_time": "2022-01-06T15:52:53.093Z"
   },
   {
    "duration": 11,
    "start_time": "2022-01-06T15:52:53.155Z"
   },
   {
    "duration": 246,
    "start_time": "2022-01-06T15:52:53.168Z"
   },
   {
    "duration": 365,
    "start_time": "2022-01-06T15:52:53.416Z"
   },
   {
    "duration": 15,
    "start_time": "2022-01-06T15:52:53.783Z"
   },
   {
    "duration": 38,
    "start_time": "2022-01-06T15:52:53.800Z"
   },
   {
    "duration": 390,
    "start_time": "2022-01-06T15:52:53.840Z"
   },
   {
    "duration": 452,
    "start_time": "2022-01-06T15:52:54.232Z"
   },
   {
    "duration": 632,
    "start_time": "2022-01-06T15:52:54.686Z"
   },
   {
    "duration": 588,
    "start_time": "2022-01-06T15:52:55.319Z"
   },
   {
    "duration": 20,
    "start_time": "2022-01-06T15:52:55.908Z"
   },
   {
    "duration": 374,
    "start_time": "2022-01-06T15:52:55.930Z"
   },
   {
    "duration": 2,
    "start_time": "2022-01-06T15:52:56.306Z"
   },
   {
    "duration": 34,
    "start_time": "2022-01-06T15:52:56.310Z"
   },
   {
    "duration": 3,
    "start_time": "2022-01-06T15:52:56.346Z"
   },
   {
    "duration": 4,
    "start_time": "2022-01-06T15:53:52.587Z"
   },
   {
    "duration": 1007,
    "start_time": "2022-01-06T15:55:56.349Z"
   },
   {
    "duration": 45,
    "start_time": "2022-01-06T15:55:57.358Z"
   },
   {
    "duration": 10,
    "start_time": "2022-01-06T15:55:57.406Z"
   },
   {
    "duration": 9,
    "start_time": "2022-01-06T15:55:57.418Z"
   },
   {
    "duration": 13,
    "start_time": "2022-01-06T15:55:57.429Z"
   },
   {
    "duration": 8,
    "start_time": "2022-01-06T15:55:57.444Z"
   },
   {
    "duration": 10,
    "start_time": "2022-01-06T15:55:57.455Z"
   },
   {
    "duration": 28,
    "start_time": "2022-01-06T15:55:57.468Z"
   },
   {
    "duration": 40,
    "start_time": "2022-01-06T15:55:57.498Z"
   },
   {
    "duration": 346,
    "start_time": "2022-01-06T15:55:57.540Z"
   },
   {
    "duration": 527,
    "start_time": "2022-01-06T15:55:57.888Z"
   },
   {
    "duration": 29,
    "start_time": "2022-01-06T15:55:58.417Z"
   },
   {
    "duration": 28,
    "start_time": "2022-01-06T15:55:58.448Z"
   },
   {
    "duration": 385,
    "start_time": "2022-01-06T15:55:58.478Z"
   },
   {
    "duration": 432,
    "start_time": "2022-01-06T15:55:58.865Z"
   },
   {
    "duration": 504,
    "start_time": "2022-01-06T15:55:59.299Z"
   },
   {
    "duration": 736,
    "start_time": "2022-01-06T15:55:59.805Z"
   },
   {
    "duration": 12,
    "start_time": "2022-01-06T15:56:00.543Z"
   },
   {
    "duration": 374,
    "start_time": "2022-01-06T15:56:00.557Z"
   },
   {
    "duration": 3,
    "start_time": "2022-01-06T15:56:00.932Z"
   },
   {
    "duration": 410,
    "start_time": "2022-01-06T15:56:00.937Z"
   },
   {
    "duration": -874,
    "start_time": "2022-01-06T15:56:02.223Z"
   },
   {
    "duration": 24,
    "start_time": "2022-01-06T15:57:10.623Z"
   },
   {
    "duration": 1349,
    "start_time": "2022-01-06T15:57:22.901Z"
   },
   {
    "duration": 46,
    "start_time": "2022-01-06T15:57:24.253Z"
   },
   {
    "duration": 10,
    "start_time": "2022-01-06T15:57:24.302Z"
   },
   {
    "duration": 15,
    "start_time": "2022-01-06T15:57:24.315Z"
   },
   {
    "duration": 15,
    "start_time": "2022-01-06T15:57:24.332Z"
   },
   {
    "duration": 7,
    "start_time": "2022-01-06T15:57:24.349Z"
   },
   {
    "duration": 7,
    "start_time": "2022-01-06T15:57:24.357Z"
   },
   {
    "duration": 22,
    "start_time": "2022-01-06T15:57:24.365Z"
   },
   {
    "duration": 10,
    "start_time": "2022-01-06T15:57:24.390Z"
   },
   {
    "duration": 248,
    "start_time": "2022-01-06T15:57:24.402Z"
   },
   {
    "duration": 352,
    "start_time": "2022-01-06T15:57:24.652Z"
   },
   {
    "duration": 24,
    "start_time": "2022-01-06T15:57:25.006Z"
   },
   {
    "duration": 18,
    "start_time": "2022-01-06T15:57:25.032Z"
   },
   {
    "duration": 367,
    "start_time": "2022-01-06T15:57:25.052Z"
   },
   {
    "duration": 492,
    "start_time": "2022-01-06T15:57:25.421Z"
   },
   {
    "duration": 558,
    "start_time": "2022-01-06T15:57:25.915Z"
   },
   {
    "duration": 529,
    "start_time": "2022-01-06T15:57:26.475Z"
   },
   {
    "duration": 12,
    "start_time": "2022-01-06T15:57:27.005Z"
   },
   {
    "duration": 605,
    "start_time": "2022-01-06T15:57:27.027Z"
   },
   {
    "duration": 2,
    "start_time": "2022-01-06T15:57:27.635Z"
   },
   {
    "duration": 25,
    "start_time": "2022-01-06T15:57:27.638Z"
   },
   {
    "duration": 4,
    "start_time": "2022-01-06T15:57:27.665Z"
   },
   {
    "duration": 987,
    "start_time": "2022-01-06T15:57:38.868Z"
   },
   {
    "duration": 44,
    "start_time": "2022-01-06T15:57:39.856Z"
   },
   {
    "duration": 9,
    "start_time": "2022-01-06T15:57:39.902Z"
   },
   {
    "duration": 3,
    "start_time": "2022-01-06T15:57:39.912Z"
   },
   {
    "duration": 16,
    "start_time": "2022-01-06T15:57:39.917Z"
   },
   {
    "duration": 5,
    "start_time": "2022-01-06T15:57:39.935Z"
   },
   {
    "duration": 8,
    "start_time": "2022-01-06T15:57:39.942Z"
   },
   {
    "duration": 21,
    "start_time": "2022-01-06T15:57:39.952Z"
   },
   {
    "duration": 13,
    "start_time": "2022-01-06T15:57:39.975Z"
   },
   {
    "duration": 237,
    "start_time": "2022-01-06T15:57:39.990Z"
   },
   {
    "duration": 340,
    "start_time": "2022-01-06T15:57:40.228Z"
   },
   {
    "duration": 15,
    "start_time": "2022-01-06T15:57:40.570Z"
   },
   {
    "duration": 17,
    "start_time": "2022-01-06T15:57:40.587Z"
   },
   {
    "duration": 362,
    "start_time": "2022-01-06T15:57:40.627Z"
   },
   {
    "duration": 417,
    "start_time": "2022-01-06T15:57:40.991Z"
   },
   {
    "duration": 551,
    "start_time": "2022-01-06T15:57:41.410Z"
   },
   {
    "duration": 525,
    "start_time": "2022-01-06T15:57:41.964Z"
   },
   {
    "duration": 12,
    "start_time": "2022-01-06T15:57:42.491Z"
   },
   {
    "duration": 373,
    "start_time": "2022-01-06T15:57:42.505Z"
   },
   {
    "duration": 2,
    "start_time": "2022-01-06T15:57:42.880Z"
   },
   {
    "duration": 25,
    "start_time": "2022-01-06T15:57:42.884Z"
   },
   {
    "duration": 18,
    "start_time": "2022-01-06T15:57:42.911Z"
   },
   {
    "duration": 1055,
    "start_time": "2022-01-06T15:58:46.138Z"
   },
   {
    "duration": 46,
    "start_time": "2022-01-06T15:58:47.195Z"
   },
   {
    "duration": 10,
    "start_time": "2022-01-06T15:58:47.243Z"
   },
   {
    "duration": 3,
    "start_time": "2022-01-06T15:58:47.255Z"
   },
   {
    "duration": 13,
    "start_time": "2022-01-06T15:58:47.260Z"
   },
   {
    "duration": 8,
    "start_time": "2022-01-06T15:58:47.275Z"
   },
   {
    "duration": 6,
    "start_time": "2022-01-06T15:58:47.285Z"
   },
   {
    "duration": 46,
    "start_time": "2022-01-06T15:58:47.294Z"
   },
   {
    "duration": 12,
    "start_time": "2022-01-06T15:58:47.343Z"
   },
   {
    "duration": 262,
    "start_time": "2022-01-06T15:58:47.357Z"
   },
   {
    "duration": 370,
    "start_time": "2022-01-06T15:58:47.621Z"
   },
   {
    "duration": 35,
    "start_time": "2022-01-06T15:58:47.992Z"
   },
   {
    "duration": 32,
    "start_time": "2022-01-06T15:58:48.029Z"
   },
   {
    "duration": 386,
    "start_time": "2022-01-06T15:58:48.063Z"
   },
   {
    "duration": 450,
    "start_time": "2022-01-06T15:58:48.451Z"
   },
   {
    "duration": 629,
    "start_time": "2022-01-06T15:58:48.902Z"
   },
   {
    "duration": 599,
    "start_time": "2022-01-06T15:58:49.533Z"
   },
   {
    "duration": 13,
    "start_time": "2022-01-06T15:58:50.134Z"
   },
   {
    "duration": 392,
    "start_time": "2022-01-06T15:58:50.149Z"
   },
   {
    "duration": 3,
    "start_time": "2022-01-06T15:58:50.542Z"
   },
   {
    "duration": 412,
    "start_time": "2022-01-06T15:58:50.546Z"
   },
   {
    "duration": 4,
    "start_time": "2022-01-06T15:58:50.960Z"
   },
   {
    "duration": 3275,
    "start_time": "2022-01-06T15:59:35.541Z"
   },
   {
    "duration": 1507,
    "start_time": "2022-01-06T16:00:26.658Z"
   },
   {
    "duration": 122,
    "start_time": "2022-01-06T16:00:51.125Z"
   },
   {
    "duration": 106,
    "start_time": "2022-01-06T16:01:01.626Z"
   },
   {
    "duration": 391,
    "start_time": "2022-01-06T16:01:18.163Z"
   },
   {
    "duration": 3001,
    "start_time": "2022-01-06T16:01:23.640Z"
   },
   {
    "duration": 1178,
    "start_time": "2022-01-06T16:01:37.396Z"
   },
   {
    "duration": 25,
    "start_time": "2022-01-06T16:02:06.208Z"
   },
   {
    "duration": 27,
    "start_time": "2022-01-06T16:02:32.260Z"
   },
   {
    "duration": 989,
    "start_time": "2022-01-06T16:02:58.792Z"
   },
   {
    "duration": 45,
    "start_time": "2022-01-06T16:02:59.783Z"
   },
   {
    "duration": 9,
    "start_time": "2022-01-06T16:02:59.830Z"
   },
   {
    "duration": 5,
    "start_time": "2022-01-06T16:02:59.841Z"
   },
   {
    "duration": 12,
    "start_time": "2022-01-06T16:02:59.847Z"
   },
   {
    "duration": 6,
    "start_time": "2022-01-06T16:02:59.861Z"
   },
   {
    "duration": 6,
    "start_time": "2022-01-06T16:02:59.869Z"
   },
   {
    "duration": 54,
    "start_time": "2022-01-06T16:02:59.878Z"
   },
   {
    "duration": 11,
    "start_time": "2022-01-06T16:02:59.934Z"
   },
   {
    "duration": 233,
    "start_time": "2022-01-06T16:02:59.947Z"
   },
   {
    "duration": 346,
    "start_time": "2022-01-06T16:03:00.182Z"
   },
   {
    "duration": 15,
    "start_time": "2022-01-06T16:03:00.530Z"
   },
   {
    "duration": 22,
    "start_time": "2022-01-06T16:03:00.547Z"
   },
   {
    "duration": 596,
    "start_time": "2022-01-06T16:03:00.571Z"
   },
   {
    "duration": 553,
    "start_time": "2022-01-06T16:03:01.169Z"
   },
   {
    "duration": 556,
    "start_time": "2022-01-06T16:03:01.726Z"
   },
   {
    "duration": 617,
    "start_time": "2022-01-06T16:03:02.283Z"
   },
   {
    "duration": 12,
    "start_time": "2022-01-06T16:03:02.901Z"
   },
   {
    "duration": 384,
    "start_time": "2022-01-06T16:03:02.915Z"
   },
   {
    "duration": 2,
    "start_time": "2022-01-06T16:03:03.301Z"
   },
   {
    "duration": 537,
    "start_time": "2022-01-06T16:03:03.304Z"
   },
   {
    "duration": -990,
    "start_time": "2022-01-06T16:03:04.833Z"
   },
   {
    "duration": 1056,
    "start_time": "2022-01-06T16:03:31.468Z"
   },
   {
    "duration": 53,
    "start_time": "2022-01-06T16:03:32.526Z"
   },
   {
    "duration": 8,
    "start_time": "2022-01-06T16:03:32.581Z"
   },
   {
    "duration": 3,
    "start_time": "2022-01-06T16:03:32.591Z"
   },
   {
    "duration": 13,
    "start_time": "2022-01-06T16:03:32.595Z"
   },
   {
    "duration": 20,
    "start_time": "2022-01-06T16:03:32.609Z"
   },
   {
    "duration": 8,
    "start_time": "2022-01-06T16:03:32.631Z"
   },
   {
    "duration": 28,
    "start_time": "2022-01-06T16:03:32.641Z"
   },
   {
    "duration": 9,
    "start_time": "2022-01-06T16:03:32.672Z"
   },
   {
    "duration": 225,
    "start_time": "2022-01-06T16:03:32.683Z"
   },
   {
    "duration": 359,
    "start_time": "2022-01-06T16:03:32.909Z"
   },
   {
    "duration": 15,
    "start_time": "2022-01-06T16:03:33.269Z"
   },
   {
    "duration": 18,
    "start_time": "2022-01-06T16:03:33.285Z"
   },
   {
    "duration": 390,
    "start_time": "2022-01-06T16:03:33.304Z"
   },
   {
    "duration": 422,
    "start_time": "2022-01-06T16:03:33.696Z"
   },
   {
    "duration": 584,
    "start_time": "2022-01-06T16:03:34.119Z"
   },
   {
    "duration": 580,
    "start_time": "2022-01-06T16:03:34.705Z"
   },
   {
    "duration": 11,
    "start_time": "2022-01-06T16:03:35.287Z"
   },
   {
    "duration": 368,
    "start_time": "2022-01-06T16:03:35.300Z"
   },
   {
    "duration": 3,
    "start_time": "2022-01-06T16:03:35.669Z"
   },
   {
    "duration": 29,
    "start_time": "2022-01-06T16:03:35.673Z"
   },
   {
    "duration": 4,
    "start_time": "2022-01-06T16:03:35.704Z"
   },
   {
    "duration": 27,
    "start_time": "2022-01-06T16:04:05.626Z"
   },
   {
    "duration": 1251,
    "start_time": "2022-01-06T16:09:59.440Z"
   },
   {
    "duration": 47,
    "start_time": "2022-01-06T16:10:00.693Z"
   },
   {
    "duration": 14,
    "start_time": "2022-01-06T16:10:00.742Z"
   },
   {
    "duration": 10,
    "start_time": "2022-01-06T16:10:00.759Z"
   },
   {
    "duration": 21,
    "start_time": "2022-01-06T16:10:00.770Z"
   },
   {
    "duration": 21,
    "start_time": "2022-01-06T16:10:00.792Z"
   },
   {
    "duration": 21,
    "start_time": "2022-01-06T16:10:00.814Z"
   },
   {
    "duration": 30,
    "start_time": "2022-01-06T16:10:00.837Z"
   },
   {
    "duration": 12,
    "start_time": "2022-01-06T16:10:00.869Z"
   },
   {
    "duration": 265,
    "start_time": "2022-01-06T16:10:00.883Z"
   },
   {
    "duration": 356,
    "start_time": "2022-01-06T16:10:01.150Z"
   },
   {
    "duration": 29,
    "start_time": "2022-01-06T16:10:01.508Z"
   },
   {
    "duration": 19,
    "start_time": "2022-01-06T16:10:01.539Z"
   },
   {
    "duration": 478,
    "start_time": "2022-01-06T16:10:01.559Z"
   },
   {
    "duration": 434,
    "start_time": "2022-01-06T16:10:02.038Z"
   },
   {
    "duration": 515,
    "start_time": "2022-01-06T16:10:02.473Z"
   },
   {
    "duration": 602,
    "start_time": "2022-01-06T16:10:02.990Z"
   },
   {
    "duration": 12,
    "start_time": "2022-01-06T16:10:03.593Z"
   },
   {
    "duration": 377,
    "start_time": "2022-01-06T16:10:03.606Z"
   },
   {
    "duration": 2,
    "start_time": "2022-01-06T16:10:03.985Z"
   },
   {
    "duration": 480,
    "start_time": "2022-01-06T16:10:03.989Z"
   },
   {
    "duration": -957,
    "start_time": "2022-01-06T16:10:05.428Z"
   },
   {
    "duration": 274,
    "start_time": "2022-01-06T16:10:17.180Z"
   },
   {
    "duration": 507,
    "start_time": "2022-01-06T16:11:19.032Z"
   },
   {
    "duration": 1097,
    "start_time": "2022-01-06T16:11:26.672Z"
   },
   {
    "duration": 57,
    "start_time": "2022-01-06T16:11:27.771Z"
   },
   {
    "duration": 9,
    "start_time": "2022-01-06T16:11:27.830Z"
   },
   {
    "duration": 6,
    "start_time": "2022-01-06T16:11:27.841Z"
   },
   {
    "duration": 12,
    "start_time": "2022-01-06T16:11:27.849Z"
   },
   {
    "duration": 7,
    "start_time": "2022-01-06T16:11:27.862Z"
   },
   {
    "duration": 9,
    "start_time": "2022-01-06T16:11:27.870Z"
   },
   {
    "duration": 20,
    "start_time": "2022-01-06T16:11:27.881Z"
   },
   {
    "duration": 33,
    "start_time": "2022-01-06T16:11:27.902Z"
   },
   {
    "duration": 225,
    "start_time": "2022-01-06T16:11:27.936Z"
   },
   {
    "duration": 336,
    "start_time": "2022-01-06T16:11:28.163Z"
   },
   {
    "duration": 14,
    "start_time": "2022-01-06T16:11:28.501Z"
   },
   {
    "duration": 19,
    "start_time": "2022-01-06T16:11:28.527Z"
   },
   {
    "duration": 363,
    "start_time": "2022-01-06T16:11:28.547Z"
   },
   {
    "duration": 428,
    "start_time": "2022-01-06T16:11:28.912Z"
   },
   {
    "duration": 547,
    "start_time": "2022-01-06T16:11:29.342Z"
   },
   {
    "duration": 512,
    "start_time": "2022-01-06T16:11:29.891Z"
   },
   {
    "duration": 23,
    "start_time": "2022-01-06T16:11:30.405Z"
   },
   {
    "duration": 370,
    "start_time": "2022-01-06T16:11:30.429Z"
   },
   {
    "duration": 2,
    "start_time": "2022-01-06T16:11:30.800Z"
   },
   {
    "duration": 272,
    "start_time": "2022-01-06T16:11:30.803Z"
   },
   {
    "duration": 4,
    "start_time": "2022-01-06T16:11:31.077Z"
   },
   {
    "duration": 407,
    "start_time": "2022-01-06T16:17:57.335Z"
   },
   {
    "duration": 235,
    "start_time": "2022-01-06T16:18:15.393Z"
   },
   {
    "duration": 1016,
    "start_time": "2022-01-06T16:18:23.175Z"
   },
   {
    "duration": 46,
    "start_time": "2022-01-06T16:18:24.193Z"
   },
   {
    "duration": 9,
    "start_time": "2022-01-06T16:18:24.240Z"
   },
   {
    "duration": 8,
    "start_time": "2022-01-06T16:18:24.251Z"
   },
   {
    "duration": 24,
    "start_time": "2022-01-06T16:18:24.261Z"
   },
   {
    "duration": 8,
    "start_time": "2022-01-06T16:18:24.288Z"
   },
   {
    "duration": 13,
    "start_time": "2022-01-06T16:18:24.299Z"
   },
   {
    "duration": 44,
    "start_time": "2022-01-06T16:18:24.314Z"
   },
   {
    "duration": 14,
    "start_time": "2022-01-06T16:18:24.360Z"
   },
   {
    "duration": 284,
    "start_time": "2022-01-06T16:18:24.376Z"
   },
   {
    "duration": 356,
    "start_time": "2022-01-06T16:18:24.661Z"
   },
   {
    "duration": 14,
    "start_time": "2022-01-06T16:18:25.019Z"
   },
   {
    "duration": 28,
    "start_time": "2022-01-06T16:18:25.034Z"
   },
   {
    "duration": 375,
    "start_time": "2022-01-06T16:18:25.063Z"
   },
   {
    "duration": 422,
    "start_time": "2022-01-06T16:18:25.440Z"
   },
   {
    "duration": 613,
    "start_time": "2022-01-06T16:18:25.864Z"
   },
   {
    "duration": 522,
    "start_time": "2022-01-06T16:18:26.479Z"
   },
   {
    "duration": 11,
    "start_time": "2022-01-06T16:18:27.003Z"
   },
   {
    "duration": 372,
    "start_time": "2022-01-06T16:18:27.015Z"
   },
   {
    "duration": 2,
    "start_time": "2022-01-06T16:18:27.389Z"
   },
   {
    "duration": 486,
    "start_time": "2022-01-06T16:18:27.393Z"
   },
   {
    "duration": 251,
    "start_time": "2022-01-06T16:23:22.883Z"
   },
   {
    "duration": 435,
    "start_time": "2022-01-06T16:23:30.480Z"
   },
   {
    "duration": 1006,
    "start_time": "2022-01-06T16:26:27.080Z"
   },
   {
    "duration": 45,
    "start_time": "2022-01-06T16:26:28.088Z"
   },
   {
    "duration": 9,
    "start_time": "2022-01-06T16:26:28.135Z"
   },
   {
    "duration": 3,
    "start_time": "2022-01-06T16:26:28.146Z"
   },
   {
    "duration": 11,
    "start_time": "2022-01-06T16:26:28.150Z"
   },
   {
    "duration": 6,
    "start_time": "2022-01-06T16:26:28.163Z"
   },
   {
    "duration": 8,
    "start_time": "2022-01-06T16:26:28.171Z"
   },
   {
    "duration": 18,
    "start_time": "2022-01-06T16:26:28.181Z"
   },
   {
    "duration": 36,
    "start_time": "2022-01-06T16:26:28.200Z"
   },
   {
    "duration": 223,
    "start_time": "2022-01-06T16:26:28.237Z"
   },
   {
    "duration": 348,
    "start_time": "2022-01-06T16:26:28.462Z"
   },
   {
    "duration": 25,
    "start_time": "2022-01-06T16:26:28.812Z"
   },
   {
    "duration": 18,
    "start_time": "2022-01-06T16:26:28.838Z"
   },
   {
    "duration": 374,
    "start_time": "2022-01-06T16:26:28.858Z"
   },
   {
    "duration": 436,
    "start_time": "2022-01-06T16:26:29.233Z"
   },
   {
    "duration": 530,
    "start_time": "2022-01-06T16:26:29.670Z"
   },
   {
    "duration": 592,
    "start_time": "2022-01-06T16:26:30.201Z"
   },
   {
    "duration": 13,
    "start_time": "2022-01-06T16:26:30.795Z"
   },
   {
    "duration": 409,
    "start_time": "2022-01-06T16:26:30.810Z"
   },
   {
    "duration": 345,
    "start_time": "2022-01-06T16:26:31.221Z"
   },
   {
    "duration": 8935,
    "start_time": "2022-01-06T16:50:21.037Z"
   },
   {
    "duration": 462,
    "start_time": "2022-01-06T16:50:52.546Z"
   },
   {
    "duration": 7,
    "start_time": "2022-01-06T19:50:29.600Z"
   },
   {
    "duration": 7,
    "start_time": "2022-01-06T19:50:38.689Z"
   },
   {
    "duration": 18,
    "start_time": "2022-01-06T19:50:48.089Z"
   },
   {
    "duration": 674,
    "start_time": "2022-01-06T19:55:27.716Z"
   },
   {
    "duration": 188,
    "start_time": "2022-01-06T19:57:17.290Z"
   },
   {
    "duration": 350,
    "start_time": "2022-01-06T19:57:31.125Z"
   },
   {
    "duration": 48,
    "start_time": "2022-01-06T19:57:33.715Z"
   },
   {
    "duration": 35,
    "start_time": "2022-01-06T19:58:37.362Z"
   },
   {
    "duration": 132,
    "start_time": "2022-01-06T20:00:03.398Z"
   },
   {
    "duration": 354,
    "start_time": "2022-01-06T20:00:09.321Z"
   },
   {
    "duration": 414,
    "start_time": "2022-01-06T20:00:14.079Z"
   },
   {
    "duration": 490,
    "start_time": "2022-01-06T20:00:34.347Z"
   },
   {
    "duration": 465,
    "start_time": "2022-01-06T20:00:45.646Z"
   },
   {
    "duration": 287,
    "start_time": "2022-01-06T20:01:47.375Z"
   },
   {
    "duration": 275,
    "start_time": "2022-01-06T20:01:58.992Z"
   },
   {
    "duration": 585,
    "start_time": "2022-01-06T20:02:47.973Z"
   },
   {
    "duration": 111,
    "start_time": "2022-01-06T20:03:02.894Z"
   },
   {
    "duration": 1045,
    "start_time": "2022-01-06T20:05:29.742Z"
   },
   {
    "duration": 47,
    "start_time": "2022-01-06T20:05:30.789Z"
   },
   {
    "duration": 10,
    "start_time": "2022-01-06T20:05:30.839Z"
   },
   {
    "duration": 5,
    "start_time": "2022-01-06T20:05:30.850Z"
   },
   {
    "duration": 15,
    "start_time": "2022-01-06T20:05:30.856Z"
   },
   {
    "duration": 6,
    "start_time": "2022-01-06T20:05:30.872Z"
   },
   {
    "duration": 13,
    "start_time": "2022-01-06T20:05:30.880Z"
   },
   {
    "duration": 36,
    "start_time": "2022-01-06T20:05:30.895Z"
   },
   {
    "duration": 10,
    "start_time": "2022-01-06T20:05:30.933Z"
   },
   {
    "duration": 232,
    "start_time": "2022-01-06T20:05:30.944Z"
   },
   {
    "duration": 354,
    "start_time": "2022-01-06T20:05:31.177Z"
   },
   {
    "duration": 15,
    "start_time": "2022-01-06T20:05:31.533Z"
   },
   {
    "duration": 20,
    "start_time": "2022-01-06T20:05:31.550Z"
   },
   {
    "duration": 386,
    "start_time": "2022-01-06T20:05:31.572Z"
   },
   {
    "duration": 433,
    "start_time": "2022-01-06T20:05:31.959Z"
   },
   {
    "duration": 504,
    "start_time": "2022-01-06T20:05:32.393Z"
   },
   {
    "duration": 509,
    "start_time": "2022-01-06T20:05:32.899Z"
   },
   {
    "duration": 18,
    "start_time": "2022-01-06T20:05:33.409Z"
   },
   {
    "duration": 363,
    "start_time": "2022-01-06T20:05:33.428Z"
   },
   {
    "duration": 336,
    "start_time": "2022-01-06T20:05:33.793Z"
   },
   {
    "duration": 280,
    "start_time": "2022-01-06T20:05:34.130Z"
   },
   {
    "duration": 418,
    "start_time": "2022-01-06T20:05:34.411Z"
   },
   {
    "duration": 411,
    "start_time": "2022-01-06T20:14:59.132Z"
   },
   {
    "duration": 411,
    "start_time": "2022-01-06T20:15:16.625Z"
   },
   {
    "duration": 1227,
    "start_time": "2022-01-06T20:15:23.155Z"
   },
   {
    "duration": 45,
    "start_time": "2022-01-06T20:15:24.384Z"
   },
   {
    "duration": 12,
    "start_time": "2022-01-06T20:15:24.431Z"
   },
   {
    "duration": 6,
    "start_time": "2022-01-06T20:15:24.445Z"
   },
   {
    "duration": 18,
    "start_time": "2022-01-06T20:15:24.453Z"
   },
   {
    "duration": 8,
    "start_time": "2022-01-06T20:15:24.473Z"
   },
   {
    "duration": 6,
    "start_time": "2022-01-06T20:15:24.483Z"
   },
   {
    "duration": 42,
    "start_time": "2022-01-06T20:15:24.492Z"
   },
   {
    "duration": 11,
    "start_time": "2022-01-06T20:15:24.536Z"
   },
   {
    "duration": 243,
    "start_time": "2022-01-06T20:15:24.548Z"
   },
   {
    "duration": 351,
    "start_time": "2022-01-06T20:15:24.793Z"
   },
   {
    "duration": 16,
    "start_time": "2022-01-06T20:15:25.146Z"
   },
   {
    "duration": 20,
    "start_time": "2022-01-06T20:15:25.164Z"
   },
   {
    "duration": 389,
    "start_time": "2022-01-06T20:15:25.185Z"
   },
   {
    "duration": 424,
    "start_time": "2022-01-06T20:15:25.575Z"
   },
   {
    "duration": 600,
    "start_time": "2022-01-06T20:15:26.000Z"
   },
   {
    "duration": 613,
    "start_time": "2022-01-06T20:15:26.602Z"
   },
   {
    "duration": 15,
    "start_time": "2022-01-06T20:15:27.217Z"
   },
   {
    "duration": 367,
    "start_time": "2022-01-06T20:15:27.234Z"
   },
   {
    "duration": 330,
    "start_time": "2022-01-06T20:15:27.602Z"
   },
   {
    "duration": 391,
    "start_time": "2022-01-06T20:15:27.934Z"
   },
   {
    "duration": 677,
    "start_time": "2022-01-06T20:15:28.327Z"
   },
   {
    "duration": 111,
    "start_time": "2022-01-06T20:17:29.235Z"
   },
   {
    "duration": 16,
    "start_time": "2022-01-06T20:17:42.475Z"
   },
   {
    "duration": 16,
    "start_time": "2022-01-06T20:17:51.385Z"
   },
   {
    "duration": 15,
    "start_time": "2022-01-06T20:17:59.754Z"
   },
   {
    "duration": 398,
    "start_time": "2022-01-06T20:18:14.550Z"
   },
   {
    "duration": 458,
    "start_time": "2022-01-06T20:22:31.732Z"
   },
   {
    "duration": 451,
    "start_time": "2022-01-06T20:22:39.787Z"
   },
   {
    "duration": 798,
    "start_time": "2022-01-06T20:23:15.999Z"
   },
   {
    "duration": 671,
    "start_time": "2022-01-06T20:23:27.129Z"
   },
   {
    "duration": 395,
    "start_time": "2022-01-06T20:23:53.221Z"
   },
   {
    "duration": 402,
    "start_time": "2022-01-06T20:24:04.783Z"
   },
   {
    "duration": 11,
    "start_time": "2022-01-06T21:06:27.766Z"
   },
   {
    "duration": 8,
    "start_time": "2022-01-06T21:07:56.370Z"
   },
   {
    "duration": 10,
    "start_time": "2022-01-06T21:10:11.151Z"
   },
   {
    "duration": 427,
    "start_time": "2022-01-06T21:10:52.352Z"
   },
   {
    "duration": 356,
    "start_time": "2022-01-06T21:11:04.105Z"
   },
   {
    "duration": 10,
    "start_time": "2022-01-06T21:11:10.050Z"
   },
   {
    "duration": 116,
    "start_time": "2022-01-06T21:15:59.846Z"
   },
   {
    "duration": 160,
    "start_time": "2022-01-06T21:16:08.642Z"
   },
   {
    "duration": 8,
    "start_time": "2022-01-06T21:16:13.600Z"
   },
   {
    "duration": 9,
    "start_time": "2022-01-06T21:16:30.677Z"
   },
   {
    "duration": 14,
    "start_time": "2022-01-06T21:16:50.413Z"
   },
   {
    "duration": 8,
    "start_time": "2022-01-06T21:17:09.912Z"
   },
   {
    "duration": 110,
    "start_time": "2022-01-06T21:19:05.527Z"
   },
   {
    "duration": 3,
    "start_time": "2022-01-06T21:19:18.191Z"
   },
   {
    "duration": 3,
    "start_time": "2022-01-06T21:19:23.177Z"
   },
   {
    "duration": 3,
    "start_time": "2022-01-06T21:19:36.175Z"
   },
   {
    "duration": 8,
    "start_time": "2022-01-06T21:19:42.189Z"
   },
   {
    "duration": 7,
    "start_time": "2022-01-06T21:21:35.932Z"
   },
   {
    "duration": 7,
    "start_time": "2022-01-06T21:21:42.982Z"
   },
   {
    "duration": 123,
    "start_time": "2022-01-06T21:21:46.999Z"
   },
   {
    "duration": 7,
    "start_time": "2022-01-06T21:21:56.345Z"
   },
   {
    "duration": 10,
    "start_time": "2022-01-06T21:23:21.729Z"
   },
   {
    "duration": 10,
    "start_time": "2022-01-06T21:24:22.878Z"
   },
   {
    "duration": 7,
    "start_time": "2022-01-06T21:26:34.957Z"
   },
   {
    "duration": 8,
    "start_time": "2022-01-06T21:27:04.383Z"
   },
   {
    "duration": 8,
    "start_time": "2022-01-06T21:30:09.151Z"
   },
   {
    "duration": 8,
    "start_time": "2022-01-06T21:31:59.676Z"
   },
   {
    "duration": 997,
    "start_time": "2022-01-06T22:24:42.184Z"
   },
   {
    "duration": 45,
    "start_time": "2022-01-06T22:24:43.183Z"
   },
   {
    "duration": 9,
    "start_time": "2022-01-06T22:24:43.230Z"
   },
   {
    "duration": 15,
    "start_time": "2022-01-06T22:24:43.241Z"
   },
   {
    "duration": 24,
    "start_time": "2022-01-06T22:24:43.258Z"
   },
   {
    "duration": 9,
    "start_time": "2022-01-06T22:24:43.283Z"
   },
   {
    "duration": 13,
    "start_time": "2022-01-06T22:24:43.293Z"
   },
   {
    "duration": 22,
    "start_time": "2022-01-06T22:24:43.309Z"
   },
   {
    "duration": 10,
    "start_time": "2022-01-06T22:24:43.334Z"
   },
   {
    "duration": 232,
    "start_time": "2022-01-06T22:24:43.346Z"
   },
   {
    "duration": 351,
    "start_time": "2022-01-06T22:24:43.580Z"
   },
   {
    "duration": 15,
    "start_time": "2022-01-06T22:24:43.933Z"
   },
   {
    "duration": 18,
    "start_time": "2022-01-06T22:24:43.949Z"
   },
   {
    "duration": 389,
    "start_time": "2022-01-06T22:24:43.968Z"
   },
   {
    "duration": 677,
    "start_time": "2022-01-06T22:24:44.359Z"
   },
   {
    "duration": 852,
    "start_time": "2022-01-06T22:24:45.038Z"
   },
   {
    "duration": 835,
    "start_time": "2022-01-06T22:24:45.892Z"
   },
   {
    "duration": 12,
    "start_time": "2022-01-06T22:24:46.729Z"
   },
   {
    "duration": 404,
    "start_time": "2022-01-06T22:24:46.743Z"
   },
   {
    "duration": 516,
    "start_time": "2022-01-06T22:24:47.148Z"
   },
   {
    "duration": 294,
    "start_time": "2022-01-06T22:24:47.666Z"
   },
   {
    "duration": 454,
    "start_time": "2022-01-06T22:24:47.962Z"
   },
   {
    "duration": 15,
    "start_time": "2022-01-06T22:24:48.419Z"
   },
   {
    "duration": 8,
    "start_time": "2022-01-06T22:24:48.435Z"
   },
   {
    "duration": 10,
    "start_time": "2022-01-06T22:24:48.444Z"
   },
   {
    "duration": 7,
    "start_time": "2022-01-06T22:24:48.456Z"
   },
   {
    "duration": 43,
    "start_time": "2022-01-06T22:26:18.104Z"
   },
   {
    "duration": 268,
    "start_time": "2022-01-06T22:34:11.307Z"
   },
   {
    "duration": 269,
    "start_time": "2022-01-06T22:34:31.401Z"
   },
   {
    "duration": 1414,
    "start_time": "2022-01-06T22:34:50.867Z"
   },
   {
    "duration": 113,
    "start_time": "2022-01-06T22:34:52.283Z"
   },
   {
    "duration": -1143,
    "start_time": "2022-01-06T22:34:53.541Z"
   },
   {
    "duration": -1149,
    "start_time": "2022-01-06T22:34:53.548Z"
   },
   {
    "duration": -1153,
    "start_time": "2022-01-06T22:34:53.553Z"
   },
   {
    "duration": -1157,
    "start_time": "2022-01-06T22:34:53.558Z"
   },
   {
    "duration": -1228,
    "start_time": "2022-01-06T22:34:53.630Z"
   },
   {
    "duration": -1232,
    "start_time": "2022-01-06T22:34:53.635Z"
   },
   {
    "duration": -1237,
    "start_time": "2022-01-06T22:34:53.641Z"
   },
   {
    "duration": -1240,
    "start_time": "2022-01-06T22:34:53.645Z"
   },
   {
    "duration": -1243,
    "start_time": "2022-01-06T22:34:53.649Z"
   },
   {
    "duration": -1247,
    "start_time": "2022-01-06T22:34:53.654Z"
   },
   {
    "duration": -1252,
    "start_time": "2022-01-06T22:34:53.659Z"
   },
   {
    "duration": -1255,
    "start_time": "2022-01-06T22:34:53.663Z"
   },
   {
    "duration": -1259,
    "start_time": "2022-01-06T22:34:53.668Z"
   },
   {
    "duration": -1262,
    "start_time": "2022-01-06T22:34:53.672Z"
   },
   {
    "duration": -1266,
    "start_time": "2022-01-06T22:34:53.677Z"
   },
   {
    "duration": -1268,
    "start_time": "2022-01-06T22:34:53.680Z"
   },
   {
    "duration": -1271,
    "start_time": "2022-01-06T22:34:53.684Z"
   },
   {
    "duration": -1274,
    "start_time": "2022-01-06T22:34:53.688Z"
   },
   {
    "duration": -1277,
    "start_time": "2022-01-06T22:34:53.692Z"
   },
   {
    "duration": -1299,
    "start_time": "2022-01-06T22:34:53.714Z"
   },
   {
    "duration": -1303,
    "start_time": "2022-01-06T22:34:53.719Z"
   },
   {
    "duration": -1307,
    "start_time": "2022-01-06T22:34:53.724Z"
   },
   {
    "duration": -1310,
    "start_time": "2022-01-06T22:34:53.728Z"
   },
   {
    "duration": -1313,
    "start_time": "2022-01-06T22:34:53.732Z"
   },
   {
    "duration": -1315,
    "start_time": "2022-01-06T22:34:53.735Z"
   },
   {
    "duration": 706,
    "start_time": "2022-01-06T22:35:37.262Z"
   },
   {
    "duration": 613,
    "start_time": "2022-01-06T22:35:56.496Z"
   },
   {
    "duration": 1042,
    "start_time": "2022-01-06T22:36:02.236Z"
   },
   {
    "duration": 99,
    "start_time": "2022-01-06T22:36:03.280Z"
   },
   {
    "duration": -1118,
    "start_time": "2022-01-06T22:36:04.503Z"
   },
   {
    "duration": -1121,
    "start_time": "2022-01-06T22:36:04.507Z"
   },
   {
    "duration": -1125,
    "start_time": "2022-01-06T22:36:04.512Z"
   },
   {
    "duration": -1128,
    "start_time": "2022-01-06T22:36:04.516Z"
   },
   {
    "duration": -1131,
    "start_time": "2022-01-06T22:36:04.520Z"
   },
   {
    "duration": -1133,
    "start_time": "2022-01-06T22:36:04.523Z"
   },
   {
    "duration": -1136,
    "start_time": "2022-01-06T22:36:04.527Z"
   },
   {
    "duration": -1139,
    "start_time": "2022-01-06T22:36:04.531Z"
   },
   {
    "duration": -1142,
    "start_time": "2022-01-06T22:36:04.535Z"
   },
   {
    "duration": -1144,
    "start_time": "2022-01-06T22:36:04.538Z"
   },
   {
    "duration": -1157,
    "start_time": "2022-01-06T22:36:04.552Z"
   },
   {
    "duration": -1161,
    "start_time": "2022-01-06T22:36:04.557Z"
   },
   {
    "duration": -1166,
    "start_time": "2022-01-06T22:36:04.563Z"
   },
   {
    "duration": -1168,
    "start_time": "2022-01-06T22:36:04.566Z"
   },
   {
    "duration": -1171,
    "start_time": "2022-01-06T22:36:04.570Z"
   },
   {
    "duration": -1174,
    "start_time": "2022-01-06T22:36:04.574Z"
   },
   {
    "duration": -1177,
    "start_time": "2022-01-06T22:36:04.578Z"
   },
   {
    "duration": -1180,
    "start_time": "2022-01-06T22:36:04.582Z"
   },
   {
    "duration": -1183,
    "start_time": "2022-01-06T22:36:04.586Z"
   },
   {
    "duration": -1184,
    "start_time": "2022-01-06T22:36:04.589Z"
   },
   {
    "duration": -1188,
    "start_time": "2022-01-06T22:36:04.593Z"
   },
   {
    "duration": -1190,
    "start_time": "2022-01-06T22:36:04.597Z"
   },
   {
    "duration": -1194,
    "start_time": "2022-01-06T22:36:04.601Z"
   },
   {
    "duration": -1197,
    "start_time": "2022-01-06T22:36:04.605Z"
   },
   {
    "duration": -1202,
    "start_time": "2022-01-06T22:36:04.611Z"
   },
   {
    "duration": 1268,
    "start_time": "2022-01-06T22:36:22.642Z"
   },
   {
    "duration": 2,
    "start_time": "2022-01-06T22:36:23.912Z"
   },
   {
    "duration": 72,
    "start_time": "2022-01-06T22:36:23.917Z"
   },
   {
    "duration": 13,
    "start_time": "2022-01-06T22:36:23.991Z"
   },
   {
    "duration": 3,
    "start_time": "2022-01-06T22:36:24.005Z"
   },
   {
    "duration": 21,
    "start_time": "2022-01-06T22:36:24.010Z"
   },
   {
    "duration": 8,
    "start_time": "2022-01-06T22:36:24.033Z"
   },
   {
    "duration": 7,
    "start_time": "2022-01-06T22:36:24.044Z"
   },
   {
    "duration": 19,
    "start_time": "2022-01-06T22:36:24.053Z"
   },
   {
    "duration": 11,
    "start_time": "2022-01-06T22:36:24.074Z"
   },
   {
    "duration": 301,
    "start_time": "2022-01-06T22:36:24.087Z"
   },
   {
    "duration": 347,
    "start_time": "2022-01-06T22:36:24.390Z"
   },
   {
    "duration": 14,
    "start_time": "2022-01-06T22:36:24.738Z"
   },
   {
    "duration": 21,
    "start_time": "2022-01-06T22:36:24.754Z"
   },
   {
    "duration": 386,
    "start_time": "2022-01-06T22:36:24.777Z"
   },
   {
    "duration": 428,
    "start_time": "2022-01-06T22:36:25.165Z"
   },
   {
    "duration": 667,
    "start_time": "2022-01-06T22:36:25.595Z"
   },
   {
    "duration": 646,
    "start_time": "2022-01-06T22:36:26.264Z"
   },
   {
    "duration": 20,
    "start_time": "2022-01-06T22:36:26.911Z"
   },
   {
    "duration": 368,
    "start_time": "2022-01-06T22:36:26.932Z"
   },
   {
    "duration": 349,
    "start_time": "2022-01-06T22:36:27.302Z"
   },
   {
    "duration": 289,
    "start_time": "2022-01-06T22:36:27.653Z"
   },
   {
    "duration": 418,
    "start_time": "2022-01-06T22:36:27.945Z"
   },
   {
    "duration": 9,
    "start_time": "2022-01-06T22:36:28.365Z"
   },
   {
    "duration": 9,
    "start_time": "2022-01-06T22:36:28.376Z"
   },
   {
    "duration": 9,
    "start_time": "2022-01-06T22:36:28.386Z"
   },
   {
    "duration": 35,
    "start_time": "2022-01-06T22:36:28.397Z"
   },
   {
    "duration": 266,
    "start_time": "2022-01-06T22:36:39.575Z"
   },
   {
    "duration": 1031,
    "start_time": "2022-01-06T22:36:56.254Z"
   },
   {
    "duration": 2,
    "start_time": "2022-01-06T22:36:57.287Z"
   },
   {
    "duration": 48,
    "start_time": "2022-01-06T22:36:57.291Z"
   },
   {
    "duration": 8,
    "start_time": "2022-01-06T22:36:57.341Z"
   },
   {
    "duration": 3,
    "start_time": "2022-01-06T22:36:57.351Z"
   },
   {
    "duration": 13,
    "start_time": "2022-01-06T22:36:57.355Z"
   },
   {
    "duration": 6,
    "start_time": "2022-01-06T22:36:57.369Z"
   },
   {
    "duration": 5,
    "start_time": "2022-01-06T22:36:57.377Z"
   },
   {
    "duration": 19,
    "start_time": "2022-01-06T22:36:57.384Z"
   },
   {
    "duration": 32,
    "start_time": "2022-01-06T22:36:57.404Z"
   },
   {
    "duration": 229,
    "start_time": "2022-01-06T22:36:57.437Z"
   },
   {
    "duration": 344,
    "start_time": "2022-01-06T22:36:57.668Z"
   },
   {
    "duration": 22,
    "start_time": "2022-01-06T22:36:58.014Z"
   },
   {
    "duration": 18,
    "start_time": "2022-01-06T22:36:58.038Z"
   },
   {
    "duration": 391,
    "start_time": "2022-01-06T22:36:58.057Z"
   },
   {
    "duration": 427,
    "start_time": "2022-01-06T22:36:58.449Z"
   },
   {
    "duration": 617,
    "start_time": "2022-01-06T22:36:58.878Z"
   },
   {
    "duration": 604,
    "start_time": "2022-01-06T22:36:59.496Z"
   },
   {
    "duration": 12,
    "start_time": "2022-01-06T22:37:00.101Z"
   },
   {
    "duration": 375,
    "start_time": "2022-01-06T22:37:00.114Z"
   },
   {
    "duration": 610,
    "start_time": "2022-01-06T22:37:00.491Z"
   },
   {
    "duration": -1094,
    "start_time": "2022-01-06T22:37:02.198Z"
   },
   {
    "duration": -1101,
    "start_time": "2022-01-06T22:37:02.206Z"
   },
   {
    "duration": -1105,
    "start_time": "2022-01-06T22:37:02.212Z"
   },
   {
    "duration": -1109,
    "start_time": "2022-01-06T22:37:02.217Z"
   },
   {
    "duration": -1114,
    "start_time": "2022-01-06T22:37:02.223Z"
   },
   {
    "duration": -1119,
    "start_time": "2022-01-06T22:37:02.230Z"
   },
   {
    "duration": 330,
    "start_time": "2022-01-06T22:37:30.030Z"
   },
   {
    "duration": 288,
    "start_time": "2022-01-06T22:37:32.895Z"
   },
   {
    "duration": 1054,
    "start_time": "2022-01-06T22:37:44.936Z"
   },
   {
    "duration": 2,
    "start_time": "2022-01-06T22:37:45.992Z"
   },
   {
    "duration": 50,
    "start_time": "2022-01-06T22:37:45.996Z"
   },
   {
    "duration": 9,
    "start_time": "2022-01-06T22:37:46.048Z"
   },
   {
    "duration": 3,
    "start_time": "2022-01-06T22:37:46.059Z"
   },
   {
    "duration": 13,
    "start_time": "2022-01-06T22:37:46.063Z"
   },
   {
    "duration": 7,
    "start_time": "2022-01-06T22:37:46.078Z"
   },
   {
    "duration": 5,
    "start_time": "2022-01-06T22:37:46.087Z"
   },
   {
    "duration": 49,
    "start_time": "2022-01-06T22:37:46.094Z"
   },
   {
    "duration": 11,
    "start_time": "2022-01-06T22:37:46.144Z"
   },
   {
    "duration": 236,
    "start_time": "2022-01-06T22:37:46.156Z"
   },
   {
    "duration": 380,
    "start_time": "2022-01-06T22:37:46.393Z"
   },
   {
    "duration": 15,
    "start_time": "2022-01-06T22:37:46.775Z"
   },
   {
    "duration": 36,
    "start_time": "2022-01-06T22:37:46.792Z"
   },
   {
    "duration": 388,
    "start_time": "2022-01-06T22:37:46.830Z"
   },
   {
    "duration": 444,
    "start_time": "2022-01-06T22:37:47.220Z"
   },
   {
    "duration": 539,
    "start_time": "2022-01-06T22:37:47.666Z"
   },
   {
    "duration": 572,
    "start_time": "2022-01-06T22:37:48.207Z"
   },
   {
    "duration": 19,
    "start_time": "2022-01-06T22:37:48.781Z"
   },
   {
    "duration": 648,
    "start_time": "2022-01-06T22:37:48.802Z"
   },
   {
    "duration": 346,
    "start_time": "2022-01-06T22:37:49.452Z"
   },
   {
    "duration": 295,
    "start_time": "2022-01-06T22:37:49.800Z"
   },
   {
    "duration": 434,
    "start_time": "2022-01-06T22:37:50.098Z"
   },
   {
    "duration": 11,
    "start_time": "2022-01-06T22:37:50.534Z"
   },
   {
    "duration": 17,
    "start_time": "2022-01-06T22:37:50.547Z"
   },
   {
    "duration": 10,
    "start_time": "2022-01-06T22:37:50.566Z"
   },
   {
    "duration": 16,
    "start_time": "2022-01-06T22:37:50.578Z"
   },
   {
    "duration": 8,
    "start_time": "2022-01-06T22:43:26.460Z"
   },
   {
    "duration": 271,
    "start_time": "2022-01-06T22:44:02.473Z"
   },
   {
    "duration": 1097,
    "start_time": "2022-01-06T22:46:03.325Z"
   },
   {
    "duration": 5,
    "start_time": "2022-01-06T22:46:04.423Z"
   },
   {
    "duration": 49,
    "start_time": "2022-01-06T22:46:04.430Z"
   },
   {
    "duration": 9,
    "start_time": "2022-01-06T22:46:04.481Z"
   },
   {
    "duration": 3,
    "start_time": "2022-01-06T22:46:04.491Z"
   },
   {
    "duration": 12,
    "start_time": "2022-01-06T22:46:04.495Z"
   },
   {
    "duration": 18,
    "start_time": "2022-01-06T22:46:04.509Z"
   },
   {
    "duration": 8,
    "start_time": "2022-01-06T22:46:04.529Z"
   },
   {
    "duration": 19,
    "start_time": "2022-01-06T22:46:04.539Z"
   },
   {
    "duration": 10,
    "start_time": "2022-01-06T22:46:04.560Z"
   },
   {
    "duration": 232,
    "start_time": "2022-01-06T22:46:04.572Z"
   },
   {
    "duration": 347,
    "start_time": "2022-01-06T22:46:04.806Z"
   },
   {
    "duration": 14,
    "start_time": "2022-01-06T22:46:05.155Z"
   },
   {
    "duration": 17,
    "start_time": "2022-01-06T22:46:05.171Z"
   },
   {
    "duration": 388,
    "start_time": "2022-01-06T22:46:05.190Z"
   },
   {
    "duration": 421,
    "start_time": "2022-01-06T22:46:05.580Z"
   },
   {
    "duration": 558,
    "start_time": "2022-01-06T22:46:06.003Z"
   },
   {
    "duration": 531,
    "start_time": "2022-01-06T22:46:06.563Z"
   },
   {
    "duration": 11,
    "start_time": "2022-01-06T22:46:07.096Z"
   },
   {
    "duration": 371,
    "start_time": "2022-01-06T22:46:07.109Z"
   },
   {
    "duration": 341,
    "start_time": "2022-01-06T22:46:07.482Z"
   },
   {
    "duration": 283,
    "start_time": "2022-01-06T22:46:07.824Z"
   },
   {
    "duration": 423,
    "start_time": "2022-01-06T22:46:08.110Z"
   },
   {
    "duration": 10,
    "start_time": "2022-01-06T22:46:08.535Z"
   },
   {
    "duration": 11,
    "start_time": "2022-01-06T22:46:08.547Z"
   },
   {
    "duration": 11,
    "start_time": "2022-01-06T22:46:08.559Z"
   },
   {
    "duration": 8,
    "start_time": "2022-01-06T22:46:08.572Z"
   },
   {
    "duration": 259,
    "start_time": "2022-01-06T22:47:09.221Z"
   },
   {
    "duration": 392,
    "start_time": "2022-01-06T22:49:32.017Z"
   },
   {
    "duration": 4,
    "start_time": "2022-01-06T22:58:43.233Z"
   },
   {
    "duration": 490,
    "start_time": "2022-01-06T22:59:06.884Z"
   },
   {
    "duration": 514,
    "start_time": "2022-01-06T22:59:56.249Z"
   },
   {
    "duration": 4,
    "start_time": "2022-01-06T23:00:32.257Z"
   },
   {
    "duration": 631,
    "start_time": "2022-01-06T23:00:34.263Z"
   },
   {
    "duration": 495,
    "start_time": "2022-01-06T23:00:48.214Z"
   },
   {
    "duration": 511,
    "start_time": "2022-01-06T23:00:53.247Z"
   },
   {
    "duration": 1777,
    "start_time": "2022-01-06T23:01:29.628Z"
   },
   {
    "duration": 4,
    "start_time": "2022-01-06T23:02:05.956Z"
   },
   {
    "duration": 547,
    "start_time": "2022-01-06T23:02:08.522Z"
   },
   {
    "duration": 542,
    "start_time": "2022-01-06T23:02:13.428Z"
   },
   {
    "duration": 538,
    "start_time": "2022-01-06T23:02:43.748Z"
   },
   {
    "duration": 590,
    "start_time": "2022-01-06T23:03:24.200Z"
   },
   {
    "duration": 551,
    "start_time": "2022-01-06T23:03:27.528Z"
   },
   {
    "duration": 4,
    "start_time": "2022-01-06T23:05:25.555Z"
   },
   {
    "duration": 1158,
    "start_time": "2022-01-06T23:05:39.193Z"
   },
   {
    "duration": 4,
    "start_time": "2022-01-06T23:05:40.353Z"
   },
   {
    "duration": 7,
    "start_time": "2022-01-06T23:05:40.359Z"
   },
   {
    "duration": 46,
    "start_time": "2022-01-06T23:05:40.368Z"
   },
   {
    "duration": 8,
    "start_time": "2022-01-06T23:05:40.416Z"
   },
   {
    "duration": 3,
    "start_time": "2022-01-06T23:05:40.427Z"
   },
   {
    "duration": 13,
    "start_time": "2022-01-06T23:05:40.431Z"
   },
   {
    "duration": 6,
    "start_time": "2022-01-06T23:05:40.446Z"
   },
   {
    "duration": 5,
    "start_time": "2022-01-06T23:05:40.454Z"
   },
   {
    "duration": 25,
    "start_time": "2022-01-06T23:05:40.460Z"
   },
   {
    "duration": 10,
    "start_time": "2022-01-06T23:05:40.486Z"
   },
   {
    "duration": 238,
    "start_time": "2022-01-06T23:05:40.498Z"
   },
   {
    "duration": 348,
    "start_time": "2022-01-06T23:05:40.738Z"
   },
   {
    "duration": 15,
    "start_time": "2022-01-06T23:05:41.088Z"
   },
   {
    "duration": 35,
    "start_time": "2022-01-06T23:05:41.105Z"
   },
   {
    "duration": 366,
    "start_time": "2022-01-06T23:05:41.141Z"
   },
   {
    "duration": 424,
    "start_time": "2022-01-06T23:05:41.509Z"
   },
   {
    "duration": 544,
    "start_time": "2022-01-06T23:05:41.935Z"
   },
   {
    "duration": 514,
    "start_time": "2022-01-06T23:05:42.480Z"
   },
   {
    "duration": 11,
    "start_time": "2022-01-06T23:05:42.995Z"
   },
   {
    "duration": 379,
    "start_time": "2022-01-06T23:05:43.008Z"
   },
   {
    "duration": 340,
    "start_time": "2022-01-06T23:05:43.389Z"
   },
   {
    "duration": 284,
    "start_time": "2022-01-06T23:05:43.732Z"
   },
   {
    "duration": 426,
    "start_time": "2022-01-06T23:05:44.018Z"
   },
   {
    "duration": 10,
    "start_time": "2022-01-06T23:05:44.445Z"
   },
   {
    "duration": 14,
    "start_time": "2022-01-06T23:05:44.457Z"
   },
   {
    "duration": 10,
    "start_time": "2022-01-06T23:05:44.472Z"
   },
   {
    "duration": 6,
    "start_time": "2022-01-06T23:05:44.484Z"
   },
   {
    "duration": 4,
    "start_time": "2022-01-06T23:19:15.560Z"
   },
   {
    "duration": 9,
    "start_time": "2022-01-06T23:19:17.877Z"
   },
   {
    "duration": 10,
    "start_time": "2022-01-06T23:19:44.959Z"
   },
   {
    "duration": 4,
    "start_time": "2022-01-06T23:20:01.562Z"
   },
   {
    "duration": 9,
    "start_time": "2022-01-06T23:20:40.644Z"
   },
   {
    "duration": 1044,
    "start_time": "2022-01-06T23:21:02.948Z"
   },
   {
    "duration": 4,
    "start_time": "2022-01-06T23:21:03.994Z"
   },
   {
    "duration": 6,
    "start_time": "2022-01-06T23:21:04.000Z"
   },
   {
    "duration": 4,
    "start_time": "2022-01-06T23:21:04.008Z"
   },
   {
    "duration": 50,
    "start_time": "2022-01-06T23:21:04.013Z"
   },
   {
    "duration": 9,
    "start_time": "2022-01-06T23:21:04.064Z"
   },
   {
    "duration": 3,
    "start_time": "2022-01-06T23:21:04.075Z"
   },
   {
    "duration": 13,
    "start_time": "2022-01-06T23:21:04.080Z"
   },
   {
    "duration": 6,
    "start_time": "2022-01-06T23:21:04.095Z"
   },
   {
    "duration": 30,
    "start_time": "2022-01-06T23:21:04.103Z"
   },
   {
    "duration": 19,
    "start_time": "2022-01-06T23:21:04.134Z"
   },
   {
    "duration": 11,
    "start_time": "2022-01-06T23:21:04.154Z"
   },
   {
    "duration": 239,
    "start_time": "2022-01-06T23:21:04.166Z"
   },
   {
    "duration": 561,
    "start_time": "2022-01-06T23:21:04.407Z"
   },
   {
    "duration": 22,
    "start_time": "2022-01-06T23:21:04.970Z"
   },
   {
    "duration": 32,
    "start_time": "2022-01-06T23:21:04.994Z"
   },
   {
    "duration": 362,
    "start_time": "2022-01-06T23:21:05.028Z"
   },
   {
    "duration": 424,
    "start_time": "2022-01-06T23:21:05.392Z"
   },
   {
    "duration": 550,
    "start_time": "2022-01-06T23:21:05.817Z"
   },
   {
    "duration": 520,
    "start_time": "2022-01-06T23:21:06.369Z"
   },
   {
    "duration": 12,
    "start_time": "2022-01-06T23:21:06.890Z"
   },
   {
    "duration": 375,
    "start_time": "2022-01-06T23:21:06.904Z"
   },
   {
    "duration": 340,
    "start_time": "2022-01-06T23:21:07.283Z"
   },
   {
    "duration": 275,
    "start_time": "2022-01-06T23:21:07.625Z"
   },
   {
    "duration": 417,
    "start_time": "2022-01-06T23:21:07.902Z"
   },
   {
    "duration": 10,
    "start_time": "2022-01-06T23:21:08.321Z"
   },
   {
    "duration": 7,
    "start_time": "2022-01-06T23:21:08.332Z"
   },
   {
    "duration": 8,
    "start_time": "2022-01-06T23:21:08.340Z"
   },
   {
    "duration": 7,
    "start_time": "2022-01-06T23:21:08.349Z"
   },
   {
    "duration": 4,
    "start_time": "2022-01-06T23:23:07.318Z"
   },
   {
    "duration": 1022,
    "start_time": "2022-01-06T23:25:14.339Z"
   },
   {
    "duration": 4,
    "start_time": "2022-01-06T23:25:15.363Z"
   },
   {
    "duration": 5,
    "start_time": "2022-01-06T23:25:15.369Z"
   },
   {
    "duration": 12,
    "start_time": "2022-01-06T23:25:15.375Z"
   },
   {
    "duration": 49,
    "start_time": "2022-01-06T23:25:15.388Z"
   },
   {
    "duration": 10,
    "start_time": "2022-01-06T23:25:15.439Z"
   },
   {
    "duration": 3,
    "start_time": "2022-01-06T23:25:15.450Z"
   },
   {
    "duration": 17,
    "start_time": "2022-01-06T23:25:15.457Z"
   },
   {
    "duration": 9,
    "start_time": "2022-01-06T23:25:15.476Z"
   },
   {
    "duration": 6,
    "start_time": "2022-01-06T23:25:15.487Z"
   },
   {
    "duration": 53,
    "start_time": "2022-01-06T23:25:15.495Z"
   },
   {
    "duration": 11,
    "start_time": "2022-01-06T23:25:15.549Z"
   },
   {
    "duration": 225,
    "start_time": "2022-01-06T23:25:15.561Z"
   },
   {
    "duration": 351,
    "start_time": "2022-01-06T23:25:15.787Z"
   },
   {
    "duration": 17,
    "start_time": "2022-01-06T23:25:16.140Z"
   },
   {
    "duration": 19,
    "start_time": "2022-01-06T23:25:16.158Z"
   },
   {
    "duration": 396,
    "start_time": "2022-01-06T23:25:16.179Z"
   },
   {
    "duration": 430,
    "start_time": "2022-01-06T23:25:16.577Z"
   },
   {
    "duration": 596,
    "start_time": "2022-01-06T23:25:17.009Z"
   },
   {
    "duration": 639,
    "start_time": "2022-01-06T23:25:17.607Z"
   },
   {
    "duration": 14,
    "start_time": "2022-01-06T23:25:18.248Z"
   },
   {
    "duration": 381,
    "start_time": "2022-01-06T23:25:18.263Z"
   },
   {
    "duration": 324,
    "start_time": "2022-01-06T23:25:18.647Z"
   },
   {
    "duration": 381,
    "start_time": "2022-01-06T23:25:18.973Z"
   },
   {
    "duration": 424,
    "start_time": "2022-01-06T23:25:19.356Z"
   },
   {
    "duration": 8,
    "start_time": "2022-01-06T23:25:19.782Z"
   },
   {
    "duration": 6,
    "start_time": "2022-01-06T23:25:19.792Z"
   },
   {
    "duration": 28,
    "start_time": "2022-01-06T23:25:19.800Z"
   },
   {
    "duration": 7,
    "start_time": "2022-01-06T23:25:19.830Z"
   },
   {
    "duration": 1012,
    "start_time": "2022-01-06T23:26:14.056Z"
   },
   {
    "duration": 5,
    "start_time": "2022-01-06T23:26:15.070Z"
   },
   {
    "duration": 5,
    "start_time": "2022-01-06T23:26:15.077Z"
   },
   {
    "duration": 5,
    "start_time": "2022-01-06T23:26:15.084Z"
   },
   {
    "duration": 49,
    "start_time": "2022-01-06T23:26:15.091Z"
   },
   {
    "duration": 9,
    "start_time": "2022-01-06T23:26:15.141Z"
   },
   {
    "duration": 3,
    "start_time": "2022-01-06T23:26:15.152Z"
   },
   {
    "duration": 12,
    "start_time": "2022-01-06T23:26:15.158Z"
   },
   {
    "duration": 6,
    "start_time": "2022-01-06T23:26:15.172Z"
   },
   {
    "duration": 6,
    "start_time": "2022-01-06T23:26:15.179Z"
   },
   {
    "duration": 42,
    "start_time": "2022-01-06T23:26:15.186Z"
   },
   {
    "duration": 12,
    "start_time": "2022-01-06T23:26:15.230Z"
   },
   {
    "duration": 229,
    "start_time": "2022-01-06T23:26:15.244Z"
   },
   {
    "duration": 352,
    "start_time": "2022-01-06T23:26:15.475Z"
   },
   {
    "duration": 15,
    "start_time": "2022-01-06T23:26:15.829Z"
   },
   {
    "duration": 19,
    "start_time": "2022-01-06T23:26:15.846Z"
   },
   {
    "duration": 393,
    "start_time": "2022-01-06T23:26:15.867Z"
   },
   {
    "duration": 427,
    "start_time": "2022-01-06T23:26:16.261Z"
   },
   {
    "duration": 504,
    "start_time": "2022-01-06T23:26:16.689Z"
   },
   {
    "duration": 509,
    "start_time": "2022-01-06T23:26:17.194Z"
   },
   {
    "duration": 13,
    "start_time": "2022-01-06T23:26:17.705Z"
   },
   {
    "duration": 380,
    "start_time": "2022-01-06T23:26:17.719Z"
   },
   {
    "duration": 339,
    "start_time": "2022-01-06T23:26:18.102Z"
   },
   {
    "duration": 276,
    "start_time": "2022-01-06T23:26:18.443Z"
   },
   {
    "duration": 418,
    "start_time": "2022-01-06T23:26:18.721Z"
   },
   {
    "duration": 9,
    "start_time": "2022-01-06T23:26:19.141Z"
   },
   {
    "duration": 8,
    "start_time": "2022-01-06T23:26:19.152Z"
   },
   {
    "duration": 10,
    "start_time": "2022-01-06T23:26:19.162Z"
   },
   {
    "duration": 7,
    "start_time": "2022-01-06T23:26:19.173Z"
   },
   {
    "duration": 1094,
    "start_time": "2022-01-07T16:24:57.025Z"
   },
   {
    "duration": 5,
    "start_time": "2022-01-07T16:24:58.121Z"
   },
   {
    "duration": 5,
    "start_time": "2022-01-07T16:24:58.128Z"
   },
   {
    "duration": 6,
    "start_time": "2022-01-07T16:24:58.141Z"
   },
   {
    "duration": 48,
    "start_time": "2022-01-07T16:24:58.148Z"
   },
   {
    "duration": 10,
    "start_time": "2022-01-07T16:24:58.198Z"
   },
   {
    "duration": 3,
    "start_time": "2022-01-07T16:24:58.209Z"
   },
   {
    "duration": 12,
    "start_time": "2022-01-07T16:24:58.214Z"
   },
   {
    "duration": 17,
    "start_time": "2022-01-07T16:24:58.228Z"
   },
   {
    "duration": 9,
    "start_time": "2022-01-07T16:24:58.247Z"
   },
   {
    "duration": 21,
    "start_time": "2022-01-07T16:24:58.257Z"
   },
   {
    "duration": 11,
    "start_time": "2022-01-07T16:24:58.280Z"
   },
   {
    "duration": 256,
    "start_time": "2022-01-07T16:24:58.292Z"
   },
   {
    "duration": 367,
    "start_time": "2022-01-07T16:24:58.549Z"
   },
   {
    "duration": 24,
    "start_time": "2022-01-07T16:24:58.917Z"
   },
   {
    "duration": 20,
    "start_time": "2022-01-07T16:24:58.942Z"
   },
   {
    "duration": 394,
    "start_time": "2022-01-07T16:24:58.964Z"
   },
   {
    "duration": 454,
    "start_time": "2022-01-07T16:24:59.359Z"
   },
   {
    "duration": 605,
    "start_time": "2022-01-07T16:24:59.815Z"
   },
   {
    "duration": 647,
    "start_time": "2022-01-07T16:25:00.421Z"
   },
   {
    "duration": 20,
    "start_time": "2022-01-07T16:25:01.071Z"
   },
   {
    "duration": 593,
    "start_time": "2022-01-07T16:25:01.093Z"
   },
   {
    "duration": 400,
    "start_time": "2022-01-07T16:25:01.690Z"
   },
   {
    "duration": 312,
    "start_time": "2022-01-07T16:25:02.092Z"
   },
   {
    "duration": 448,
    "start_time": "2022-01-07T16:25:02.406Z"
   },
   {
    "duration": 9,
    "start_time": "2022-01-07T16:25:02.856Z"
   },
   {
    "duration": 17,
    "start_time": "2022-01-07T16:25:02.866Z"
   },
   {
    "duration": 29,
    "start_time": "2022-01-07T16:25:02.885Z"
   },
   {
    "duration": 13,
    "start_time": "2022-01-07T16:25:02.915Z"
   },
   {
    "duration": 20,
    "start_time": "2022-01-07T16:47:03.508Z"
   },
   {
    "duration": 1024,
    "start_time": "2022-01-07T19:23:38.124Z"
   },
   {
    "duration": 5,
    "start_time": "2022-01-07T19:23:39.150Z"
   },
   {
    "duration": 5,
    "start_time": "2022-01-07T19:23:39.157Z"
   },
   {
    "duration": 6,
    "start_time": "2022-01-07T19:23:39.164Z"
   },
   {
    "duration": 48,
    "start_time": "2022-01-07T19:23:39.172Z"
   },
   {
    "duration": 9,
    "start_time": "2022-01-07T19:23:39.222Z"
   },
   {
    "duration": 3,
    "start_time": "2022-01-07T19:23:39.233Z"
   },
   {
    "duration": 29,
    "start_time": "2022-01-07T19:23:39.238Z"
   },
   {
    "duration": 7,
    "start_time": "2022-01-07T19:23:39.269Z"
   },
   {
    "duration": 5,
    "start_time": "2022-01-07T19:23:39.277Z"
   },
   {
    "duration": 20,
    "start_time": "2022-01-07T19:23:39.284Z"
   },
   {
    "duration": 12,
    "start_time": "2022-01-07T19:23:39.306Z"
   },
   {
    "duration": 279,
    "start_time": "2022-01-07T19:23:39.320Z"
   },
   {
    "duration": 391,
    "start_time": "2022-01-07T19:23:39.601Z"
   },
   {
    "duration": 17,
    "start_time": "2022-01-07T19:23:39.994Z"
   },
   {
    "duration": 22,
    "start_time": "2022-01-07T19:23:40.012Z"
   },
   {
    "duration": 429,
    "start_time": "2022-01-07T19:23:40.036Z"
   },
   {
    "duration": 21,
    "start_time": "2022-01-07T19:23:40.467Z"
   },
   {
    "duration": 472,
    "start_time": "2022-01-07T19:23:40.490Z"
   },
   {
    "duration": 705,
    "start_time": "2022-01-07T19:23:40.964Z"
   },
   {
    "duration": 590,
    "start_time": "2022-01-07T19:23:41.671Z"
   },
   {
    "duration": 12,
    "start_time": "2022-01-07T19:23:42.262Z"
   },
   {
    "duration": 416,
    "start_time": "2022-01-07T19:23:42.277Z"
   },
   {
    "duration": 375,
    "start_time": "2022-01-07T19:23:42.695Z"
   },
   {
    "duration": 314,
    "start_time": "2022-01-07T19:23:43.071Z"
   },
   {
    "duration": 462,
    "start_time": "2022-01-07T19:23:43.387Z"
   },
   {
    "duration": 15,
    "start_time": "2022-01-07T19:23:43.851Z"
   },
   {
    "duration": 7,
    "start_time": "2022-01-07T19:23:43.868Z"
   },
   {
    "duration": 9,
    "start_time": "2022-01-07T19:23:43.877Z"
   },
   {
    "duration": 7,
    "start_time": "2022-01-07T19:23:43.887Z"
   },
   {
    "duration": 328,
    "start_time": "2022-01-07T20:14:12.886Z"
   },
   {
    "duration": 1096,
    "start_time": "2022-01-07T20:14:20.854Z"
   },
   {
    "duration": 9,
    "start_time": "2022-01-07T20:14:21.952Z"
   },
   {
    "duration": 8,
    "start_time": "2022-01-07T20:14:21.964Z"
   },
   {
    "duration": 5,
    "start_time": "2022-01-07T20:14:21.974Z"
   },
   {
    "duration": 52,
    "start_time": "2022-01-07T20:14:21.981Z"
   },
   {
    "duration": 11,
    "start_time": "2022-01-07T20:14:22.034Z"
   },
   {
    "duration": 14,
    "start_time": "2022-01-07T20:14:22.047Z"
   },
   {
    "duration": 14,
    "start_time": "2022-01-07T20:14:22.063Z"
   },
   {
    "duration": 8,
    "start_time": "2022-01-07T20:14:22.080Z"
   },
   {
    "duration": 7,
    "start_time": "2022-01-07T20:14:22.090Z"
   },
   {
    "duration": 22,
    "start_time": "2022-01-07T20:14:22.099Z"
   },
   {
    "duration": 43,
    "start_time": "2022-01-07T20:14:22.122Z"
   },
   {
    "duration": 245,
    "start_time": "2022-01-07T20:14:22.167Z"
   },
   {
    "duration": 374,
    "start_time": "2022-01-07T20:14:22.414Z"
   },
   {
    "duration": 16,
    "start_time": "2022-01-07T20:14:22.790Z"
   },
   {
    "duration": 19,
    "start_time": "2022-01-07T20:14:22.808Z"
   },
   {
    "duration": 430,
    "start_time": "2022-01-07T20:14:22.829Z"
   },
   {
    "duration": 23,
    "start_time": "2022-01-07T20:14:23.261Z"
   },
   {
    "duration": 494,
    "start_time": "2022-01-07T20:14:23.286Z"
   },
   {
    "duration": 561,
    "start_time": "2022-01-07T20:14:23.782Z"
   },
   {
    "duration": 605,
    "start_time": "2022-01-07T20:14:24.344Z"
   },
   {
    "duration": 18,
    "start_time": "2022-01-07T20:14:24.951Z"
   },
   {
    "duration": 411,
    "start_time": "2022-01-07T20:14:24.970Z"
   },
   {
    "duration": 385,
    "start_time": "2022-01-07T20:14:25.383Z"
   },
   {
    "duration": 312,
    "start_time": "2022-01-07T20:14:25.769Z"
   },
   {
    "duration": 454,
    "start_time": "2022-01-07T20:14:26.083Z"
   },
   {
    "duration": 9,
    "start_time": "2022-01-07T20:14:26.540Z"
   },
   {
    "duration": 8,
    "start_time": "2022-01-07T20:14:26.560Z"
   },
   {
    "duration": 9,
    "start_time": "2022-01-07T20:14:26.569Z"
   },
   {
    "duration": 8,
    "start_time": "2022-01-07T20:14:26.580Z"
   },
   {
    "duration": 21,
    "start_time": "2022-01-07T20:31:48.848Z"
   },
   {
    "duration": 1112,
    "start_time": "2022-01-07T20:33:46.542Z"
   },
   {
    "duration": 5,
    "start_time": "2022-01-07T20:33:47.656Z"
   },
   {
    "duration": 22,
    "start_time": "2022-01-07T20:33:47.665Z"
   },
   {
    "duration": 41,
    "start_time": "2022-01-07T20:33:47.689Z"
   },
   {
    "duration": 78,
    "start_time": "2022-01-07T20:33:47.732Z"
   },
   {
    "duration": 16,
    "start_time": "2022-01-07T20:33:47.812Z"
   },
   {
    "duration": 7,
    "start_time": "2022-01-07T20:33:47.831Z"
   },
   {
    "duration": 36,
    "start_time": "2022-01-07T20:33:47.840Z"
   },
   {
    "duration": 39,
    "start_time": "2022-01-07T20:33:47.877Z"
   },
   {
    "duration": 28,
    "start_time": "2022-01-07T20:33:47.918Z"
   },
   {
    "duration": 27,
    "start_time": "2022-01-07T20:33:47.949Z"
   },
   {
    "duration": 15,
    "start_time": "2022-01-07T20:33:47.978Z"
   },
   {
    "duration": 255,
    "start_time": "2022-01-07T20:33:47.995Z"
   },
   {
    "duration": 533,
    "start_time": "2022-01-07T20:33:48.252Z"
   },
   {
    "duration": 22,
    "start_time": "2022-01-07T20:33:48.787Z"
   },
   {
    "duration": 462,
    "start_time": "2022-01-07T20:33:48.812Z"
   },
   {
    "duration": 24,
    "start_time": "2022-01-07T20:33:49.275Z"
   },
   {
    "duration": 666,
    "start_time": "2022-01-07T20:33:49.301Z"
   },
   {
    "duration": 693,
    "start_time": "2022-01-07T20:33:49.969Z"
   },
   {
    "duration": 592,
    "start_time": "2022-01-07T20:33:50.663Z"
   },
   {
    "duration": 14,
    "start_time": "2022-01-07T20:33:51.257Z"
   },
   {
    "duration": 517,
    "start_time": "2022-01-07T20:33:51.275Z"
   },
   {
    "duration": 388,
    "start_time": "2022-01-07T20:33:51.794Z"
   },
   {
    "duration": 323,
    "start_time": "2022-01-07T20:33:52.184Z"
   },
   {
    "duration": 473,
    "start_time": "2022-01-07T20:33:52.509Z"
   },
   {
    "duration": 10,
    "start_time": "2022-01-07T20:33:52.983Z"
   },
   {
    "duration": 15,
    "start_time": "2022-01-07T20:33:52.994Z"
   },
   {
    "duration": 16,
    "start_time": "2022-01-07T20:33:53.010Z"
   },
   {
    "duration": 13,
    "start_time": "2022-01-07T20:33:53.028Z"
   },
   {
    "duration": 20,
    "start_time": "2022-01-07T20:35:16.974Z"
   },
   {
    "duration": 1040,
    "start_time": "2022-01-07T20:35:31.110Z"
   },
   {
    "duration": 4,
    "start_time": "2022-01-07T20:35:32.153Z"
   },
   {
    "duration": 8,
    "start_time": "2022-01-07T20:35:32.161Z"
   },
   {
    "duration": 15,
    "start_time": "2022-01-07T20:35:32.171Z"
   },
   {
    "duration": 60,
    "start_time": "2022-01-07T20:35:32.187Z"
   },
   {
    "duration": 9,
    "start_time": "2022-01-07T20:35:32.249Z"
   },
   {
    "duration": 3,
    "start_time": "2022-01-07T20:35:32.260Z"
   },
   {
    "duration": 13,
    "start_time": "2022-01-07T20:35:32.265Z"
   },
   {
    "duration": 6,
    "start_time": "2022-01-07T20:35:32.280Z"
   },
   {
    "duration": 7,
    "start_time": "2022-01-07T20:35:32.288Z"
   },
   {
    "duration": 21,
    "start_time": "2022-01-07T20:35:32.297Z"
   },
   {
    "duration": 11,
    "start_time": "2022-01-07T20:35:32.320Z"
   },
   {
    "duration": 245,
    "start_time": "2022-01-07T20:35:32.361Z"
   },
   {
    "duration": 597,
    "start_time": "2022-01-07T20:35:32.608Z"
   },
   {
    "duration": 20,
    "start_time": "2022-01-07T20:35:33.261Z"
   },
   {
    "duration": 611,
    "start_time": "2022-01-07T20:35:33.282Z"
   },
   {
    "duration": 51,
    "start_time": "2022-01-07T20:35:33.895Z"
   },
   {
    "duration": 639,
    "start_time": "2022-01-07T20:35:33.948Z"
   },
   {
    "duration": 554,
    "start_time": "2022-01-07T20:35:34.589Z"
   },
   {
    "duration": 597,
    "start_time": "2022-01-07T20:35:35.144Z"
   },
   {
    "duration": 19,
    "start_time": "2022-01-07T20:35:35.743Z"
   },
   {
    "duration": 401,
    "start_time": "2022-01-07T20:35:35.763Z"
   },
   {
    "duration": 367,
    "start_time": "2022-01-07T20:35:36.167Z"
   },
   {
    "duration": 319,
    "start_time": "2022-01-07T20:35:36.536Z"
   },
   {
    "duration": 459,
    "start_time": "2022-01-07T20:35:36.857Z"
   },
   {
    "duration": 8,
    "start_time": "2022-01-07T20:35:37.318Z"
   },
   {
    "duration": 7,
    "start_time": "2022-01-07T20:35:37.328Z"
   },
   {
    "duration": 23,
    "start_time": "2022-01-07T20:35:37.337Z"
   },
   {
    "duration": 7,
    "start_time": "2022-01-07T20:35:37.362Z"
   },
   {
    "duration": 1059,
    "start_time": "2022-01-08T07:39:48.494Z"
   },
   {
    "duration": 5,
    "start_time": "2022-01-08T07:39:49.555Z"
   },
   {
    "duration": 5,
    "start_time": "2022-01-08T07:39:49.562Z"
   },
   {
    "duration": 9,
    "start_time": "2022-01-08T07:39:49.569Z"
   },
   {
    "duration": 53,
    "start_time": "2022-01-08T07:39:49.580Z"
   },
   {
    "duration": 9,
    "start_time": "2022-01-08T07:39:49.635Z"
   },
   {
    "duration": 2,
    "start_time": "2022-01-08T07:39:49.646Z"
   },
   {
    "duration": 11,
    "start_time": "2022-01-08T07:39:49.661Z"
   },
   {
    "duration": 10,
    "start_time": "2022-01-08T07:39:49.674Z"
   },
   {
    "duration": 7,
    "start_time": "2022-01-08T07:39:49.685Z"
   },
   {
    "duration": 22,
    "start_time": "2022-01-08T07:39:49.694Z"
   },
   {
    "duration": 12,
    "start_time": "2022-01-08T07:39:49.718Z"
   },
   {
    "duration": 302,
    "start_time": "2022-01-08T07:39:49.731Z"
   },
   {
    "duration": 401,
    "start_time": "2022-01-08T07:39:50.036Z"
   },
   {
    "duration": 34,
    "start_time": "2022-01-08T07:39:50.440Z"
   },
   {
    "duration": 447,
    "start_time": "2022-01-08T07:39:50.476Z"
   },
   {
    "duration": 37,
    "start_time": "2022-01-08T07:39:50.925Z"
   },
   {
    "duration": 423,
    "start_time": "2022-01-08T07:39:50.963Z"
   },
   {
    "duration": 819,
    "start_time": "2022-01-08T07:39:51.388Z"
   },
   {
    "duration": 601,
    "start_time": "2022-01-08T07:39:52.262Z"
   },
   {
    "duration": 13,
    "start_time": "2022-01-08T07:39:52.865Z"
   },
   {
    "duration": 410,
    "start_time": "2022-01-08T07:39:52.879Z"
   },
   {
    "duration": 375,
    "start_time": "2022-01-08T07:39:53.292Z"
   },
   {
    "duration": 314,
    "start_time": "2022-01-08T07:39:53.669Z"
   },
   {
    "duration": 456,
    "start_time": "2022-01-08T07:39:53.985Z"
   },
   {
    "duration": 9,
    "start_time": "2022-01-08T07:39:54.443Z"
   },
   {
    "duration": 10,
    "start_time": "2022-01-08T07:39:54.461Z"
   },
   {
    "duration": 8,
    "start_time": "2022-01-08T07:39:54.473Z"
   },
   {
    "duration": 9,
    "start_time": "2022-01-08T07:39:54.482Z"
   },
   {
    "duration": 860,
    "start_time": "2022-01-08T07:44:48.730Z"
   },
   {
    "duration": 640,
    "start_time": "2022-01-08T07:44:59.278Z"
   },
   {
    "duration": 355,
    "start_time": "2022-01-08T07:45:05.561Z"
   },
   {
    "duration": 349,
    "start_time": "2022-01-08T07:45:18.020Z"
   },
   {
    "duration": 405,
    "start_time": "2022-01-08T07:45:26.260Z"
   },
   {
    "duration": 368,
    "start_time": "2022-01-08T07:45:39.456Z"
   },
   {
    "duration": 619,
    "start_time": "2022-01-08T07:46:33.246Z"
   },
   {
    "duration": 397,
    "start_time": "2022-01-08T07:46:53.335Z"
   },
   {
    "duration": 651,
    "start_time": "2022-01-08T07:49:29.313Z"
   },
   {
    "duration": 397,
    "start_time": "2022-01-08T07:49:36.950Z"
   },
   {
    "duration": 642,
    "start_time": "2022-01-08T07:49:41.753Z"
   },
   {
    "duration": 433,
    "start_time": "2022-01-08T07:49:49.600Z"
   },
   {
    "duration": 350,
    "start_time": "2022-01-08T07:50:17.722Z"
   },
   {
    "duration": 358,
    "start_time": "2022-01-08T07:50:33.305Z"
   },
   {
    "duration": 352,
    "start_time": "2022-01-08T07:50:38.496Z"
   },
   {
    "duration": 639,
    "start_time": "2022-01-08T07:51:13.377Z"
   },
   {
    "duration": 639,
    "start_time": "2022-01-08T07:51:27.752Z"
   },
   {
    "duration": 896,
    "start_time": "2022-01-08T07:52:30.371Z"
   },
   {
    "duration": 376,
    "start_time": "2022-01-08T07:52:41.270Z"
   },
   {
    "duration": 743,
    "start_time": "2022-01-08T07:53:27.088Z"
   },
   {
    "duration": 348,
    "start_time": "2022-01-08T07:53:49.305Z"
   },
   {
    "duration": 21,
    "start_time": "2022-01-08T07:58:53.772Z"
   },
   {
    "duration": 568,
    "start_time": "2022-01-08T07:58:57.881Z"
   },
   {
    "duration": 20,
    "start_time": "2022-01-08T07:59:30.959Z"
   },
   {
    "duration": 364,
    "start_time": "2022-01-08T07:59:36.952Z"
   },
   {
    "duration": 626,
    "start_time": "2022-01-08T08:07:29.752Z"
   },
   {
    "duration": 355,
    "start_time": "2022-01-08T08:07:38.456Z"
   },
   {
    "duration": 366,
    "start_time": "2022-01-08T08:08:03.345Z"
   },
   {
    "duration": 345,
    "start_time": "2022-01-08T08:08:11.119Z"
   },
   {
    "duration": 572,
    "start_time": "2022-01-08T08:17:39.125Z"
   },
   {
    "duration": 648,
    "start_time": "2022-01-08T08:18:30.871Z"
   },
   {
    "duration": 673,
    "start_time": "2022-01-08T08:33:30.883Z"
   },
   {
    "duration": 775,
    "start_time": "2022-01-08T08:33:52.515Z"
   },
   {
    "duration": 1262,
    "start_time": "2022-01-08T08:34:21.426Z"
   },
   {
    "duration": 7,
    "start_time": "2022-01-08T08:34:22.690Z"
   },
   {
    "duration": 9,
    "start_time": "2022-01-08T08:34:22.700Z"
   },
   {
    "duration": 6,
    "start_time": "2022-01-08T08:34:22.711Z"
   },
   {
    "duration": 70,
    "start_time": "2022-01-08T08:34:22.719Z"
   },
   {
    "duration": 11,
    "start_time": "2022-01-08T08:34:22.790Z"
   },
   {
    "duration": 4,
    "start_time": "2022-01-08T08:34:22.802Z"
   },
   {
    "duration": 13,
    "start_time": "2022-01-08T08:34:22.809Z"
   },
   {
    "duration": 36,
    "start_time": "2022-01-08T08:34:22.824Z"
   },
   {
    "duration": 7,
    "start_time": "2022-01-08T08:34:22.862Z"
   },
   {
    "duration": 23,
    "start_time": "2022-01-08T08:34:22.870Z"
   },
   {
    "duration": 11,
    "start_time": "2022-01-08T08:34:22.895Z"
   },
   {
    "duration": 355,
    "start_time": "2022-01-08T08:34:22.908Z"
   },
   {
    "duration": 566,
    "start_time": "2022-01-08T08:34:23.266Z"
   },
   {
    "duration": 28,
    "start_time": "2022-01-08T08:34:23.834Z"
   },
   {
    "duration": 374,
    "start_time": "2022-01-08T08:34:23.863Z"
   },
   {
    "duration": 34,
    "start_time": "2022-01-08T08:34:24.239Z"
   },
   {
    "duration": 432,
    "start_time": "2022-01-08T08:34:24.274Z"
   },
   {
    "duration": 630,
    "start_time": "2022-01-08T08:34:24.708Z"
   },
   {
    "duration": 812,
    "start_time": "2022-01-08T08:34:25.341Z"
   },
   {
    "duration": 22,
    "start_time": "2022-01-08T08:34:26.155Z"
   },
   {
    "duration": 484,
    "start_time": "2022-01-08T08:34:26.179Z"
   },
   {
    "duration": 307,
    "start_time": "2022-01-08T08:34:26.666Z"
   },
   {
    "duration": 320,
    "start_time": "2022-01-08T08:34:26.975Z"
   },
   {
    "duration": 475,
    "start_time": "2022-01-08T08:34:27.297Z"
   },
   {
    "duration": 10,
    "start_time": "2022-01-08T08:34:27.774Z"
   },
   {
    "duration": 7,
    "start_time": "2022-01-08T08:34:27.785Z"
   },
   {
    "duration": 8,
    "start_time": "2022-01-08T08:34:27.794Z"
   },
   {
    "duration": 6,
    "start_time": "2022-01-08T08:34:27.804Z"
   },
   {
    "duration": 579,
    "start_time": "2022-01-08T08:58:09.706Z"
   },
   {
    "duration": 610,
    "start_time": "2022-01-08T08:58:31.535Z"
   },
   {
    "duration": 653,
    "start_time": "2022-01-08T08:58:36.931Z"
   },
   {
    "duration": 365,
    "start_time": "2022-01-08T09:08:03.269Z"
   },
   {
    "duration": 353,
    "start_time": "2022-01-08T09:12:25.741Z"
   },
   {
    "duration": 1129,
    "start_time": "2022-01-08T09:12:36.032Z"
   },
   {
    "duration": 5,
    "start_time": "2022-01-08T09:12:37.163Z"
   },
   {
    "duration": 8,
    "start_time": "2022-01-08T09:12:37.171Z"
   },
   {
    "duration": 8,
    "start_time": "2022-01-08T09:12:37.181Z"
   },
   {
    "duration": 53,
    "start_time": "2022-01-08T09:12:37.190Z"
   },
   {
    "duration": 23,
    "start_time": "2022-01-08T09:12:37.244Z"
   },
   {
    "duration": 3,
    "start_time": "2022-01-08T09:12:37.269Z"
   },
   {
    "duration": 12,
    "start_time": "2022-01-08T09:12:37.274Z"
   },
   {
    "duration": 7,
    "start_time": "2022-01-08T09:12:37.289Z"
   },
   {
    "duration": 7,
    "start_time": "2022-01-08T09:12:37.298Z"
   },
   {
    "duration": 22,
    "start_time": "2022-01-08T09:12:37.306Z"
   },
   {
    "duration": 42,
    "start_time": "2022-01-08T09:12:37.329Z"
   },
   {
    "duration": 258,
    "start_time": "2022-01-08T09:12:37.373Z"
   },
   {
    "duration": 399,
    "start_time": "2022-01-08T09:12:37.632Z"
   },
   {
    "duration": 32,
    "start_time": "2022-01-08T09:12:38.033Z"
   },
   {
    "duration": 383,
    "start_time": "2022-01-08T09:12:38.067Z"
   },
   {
    "duration": 25,
    "start_time": "2022-01-08T09:12:38.452Z"
   },
   {
    "duration": 432,
    "start_time": "2022-01-08T09:12:38.479Z"
   },
   {
    "duration": 553,
    "start_time": "2022-01-08T09:12:38.912Z"
   },
   {
    "duration": 595,
    "start_time": "2022-01-08T09:12:39.467Z"
   },
   {
    "duration": 13,
    "start_time": "2022-01-08T09:12:40.064Z"
   },
   {
    "duration": 332,
    "start_time": "2022-01-08T09:12:40.079Z"
   },
   {
    "duration": -345,
    "start_time": "2022-01-08T09:12:40.758Z"
   },
   {
    "duration": -349,
    "start_time": "2022-01-08T09:12:40.763Z"
   },
   {
    "duration": -352,
    "start_time": "2022-01-08T09:12:40.767Z"
   },
   {
    "duration": -354,
    "start_time": "2022-01-08T09:12:40.770Z"
   },
   {
    "duration": -358,
    "start_time": "2022-01-08T09:12:40.775Z"
   },
   {
    "duration": -360,
    "start_time": "2022-01-08T09:12:40.778Z"
   },
   {
    "duration": -365,
    "start_time": "2022-01-08T09:12:40.783Z"
   },
   {
    "duration": -367,
    "start_time": "2022-01-08T09:12:40.786Z"
   },
   {
    "duration": 14,
    "start_time": "2022-01-08T09:13:52.276Z"
   },
   {
    "duration": 12,
    "start_time": "2022-01-08T09:14:04.347Z"
   },
   {
    "duration": 253,
    "start_time": "2022-01-08T09:14:12.452Z"
   },
   {
    "duration": 15,
    "start_time": "2022-01-08T09:14:30.572Z"
   },
   {
    "duration": 13,
    "start_time": "2022-01-08T09:14:38.598Z"
   },
   {
    "duration": 14,
    "start_time": "2022-01-08T09:14:46.139Z"
   },
   {
    "duration": 92,
    "start_time": "2022-01-08T09:15:24.641Z"
   },
   {
    "duration": 20,
    "start_time": "2022-01-08T09:15:42.154Z"
   },
   {
    "duration": 354,
    "start_time": "2022-01-08T09:18:02.942Z"
   },
   {
    "duration": 102,
    "start_time": "2022-01-08T09:32:21.734Z"
   },
   {
    "duration": 84,
    "start_time": "2022-01-08T09:32:33.277Z"
   },
   {
    "duration": 44,
    "start_time": "2022-01-08T09:32:46.156Z"
   },
   {
    "duration": 28,
    "start_time": "2022-01-08T09:32:59.789Z"
   },
   {
    "duration": 21,
    "start_time": "2022-01-08T09:33:34.375Z"
   },
   {
    "duration": 26,
    "start_time": "2022-01-08T09:34:03.770Z"
   },
   {
    "duration": 25,
    "start_time": "2022-01-08T09:34:51.983Z"
   },
   {
    "duration": 276,
    "start_time": "2022-01-08T09:35:56.310Z"
   },
   {
    "duration": 29,
    "start_time": "2022-01-08T09:36:41.569Z"
   },
   {
    "duration": 267,
    "start_time": "2022-01-08T09:38:13.209Z"
   },
   {
    "duration": 274,
    "start_time": "2022-01-08T09:38:25.345Z"
   },
   {
    "duration": 264,
    "start_time": "2022-01-08T09:38:38.703Z"
   },
   {
    "duration": 282,
    "start_time": "2022-01-08T09:38:58.434Z"
   },
   {
    "duration": 284,
    "start_time": "2022-01-08T09:39:26.303Z"
   },
   {
    "duration": 105,
    "start_time": "2022-01-08T09:39:45.842Z"
   },
   {
    "duration": 290,
    "start_time": "2022-01-08T09:39:56.708Z"
   },
   {
    "duration": 73,
    "start_time": "2022-01-08T09:40:06.896Z"
   },
   {
    "duration": 46,
    "start_time": "2022-01-08T09:40:20.767Z"
   },
   {
    "duration": 40,
    "start_time": "2022-01-08T09:40:28.164Z"
   },
   {
    "duration": 276,
    "start_time": "2022-01-08T09:41:18.362Z"
   },
   {
    "duration": 404,
    "start_time": "2022-01-08T09:41:47.826Z"
   },
   {
    "duration": 323,
    "start_time": "2022-01-08T09:42:05.928Z"
   },
   {
    "duration": 40,
    "start_time": "2022-01-08T09:42:18.715Z"
   },
   {
    "duration": 28,
    "start_time": "2022-01-08T09:42:36.190Z"
   },
   {
    "duration": 37,
    "start_time": "2022-01-08T09:42:56.201Z"
   },
   {
    "duration": 259,
    "start_time": "2022-01-08T09:43:13.876Z"
   },
   {
    "duration": 31,
    "start_time": "2022-01-08T09:43:33.979Z"
   },
   {
    "duration": 33,
    "start_time": "2022-01-08T09:43:50.094Z"
   },
   {
    "duration": 30,
    "start_time": "2022-01-08T09:43:53.232Z"
   },
   {
    "duration": 29,
    "start_time": "2022-01-08T09:43:58.186Z"
   },
   {
    "duration": 29,
    "start_time": "2022-01-08T09:44:14.483Z"
   },
   {
    "duration": 351,
    "start_time": "2022-01-08T10:06:13.710Z"
   },
   {
    "duration": 1159,
    "start_time": "2022-01-08T10:06:29.961Z"
   },
   {
    "duration": 7,
    "start_time": "2022-01-08T10:06:31.124Z"
   },
   {
    "duration": 14,
    "start_time": "2022-01-08T10:06:31.134Z"
   },
   {
    "duration": 18,
    "start_time": "2022-01-08T10:06:31.150Z"
   },
   {
    "duration": 74,
    "start_time": "2022-01-08T10:06:31.170Z"
   },
   {
    "duration": 15,
    "start_time": "2022-01-08T10:06:31.246Z"
   },
   {
    "duration": 4,
    "start_time": "2022-01-08T10:06:31.262Z"
   },
   {
    "duration": 37,
    "start_time": "2022-01-08T10:06:31.268Z"
   },
   {
    "duration": 15,
    "start_time": "2022-01-08T10:06:31.308Z"
   },
   {
    "duration": 18,
    "start_time": "2022-01-08T10:06:31.326Z"
   },
   {
    "duration": 32,
    "start_time": "2022-01-08T10:06:31.346Z"
   },
   {
    "duration": 17,
    "start_time": "2022-01-08T10:06:31.380Z"
   },
   {
    "duration": 267,
    "start_time": "2022-01-08T10:06:31.399Z"
   },
   {
    "duration": 397,
    "start_time": "2022-01-08T10:06:31.668Z"
   },
   {
    "duration": 19,
    "start_time": "2022-01-08T10:06:32.067Z"
   },
   {
    "duration": 576,
    "start_time": "2022-01-08T10:06:32.088Z"
   },
   {
    "duration": 29,
    "start_time": "2022-01-08T10:06:32.666Z"
   },
   {
    "duration": 493,
    "start_time": "2022-01-08T10:06:32.697Z"
   },
   {
    "duration": 677,
    "start_time": "2022-01-08T10:06:33.193Z"
   },
   {
    "duration": 672,
    "start_time": "2022-01-08T10:06:33.872Z"
   },
   {
    "duration": 22,
    "start_time": "2022-01-08T10:06:34.546Z"
   },
   {
    "duration": 49,
    "start_time": "2022-01-08T10:06:34.570Z"
   },
   {
    "duration": 474,
    "start_time": "2022-01-08T10:06:34.621Z"
   },
   {
    "duration": 383,
    "start_time": "2022-01-08T10:06:35.097Z"
   },
   {
    "duration": 333,
    "start_time": "2022-01-08T10:06:35.482Z"
   },
   {
    "duration": 507,
    "start_time": "2022-01-08T10:06:35.816Z"
   },
   {
    "duration": 8,
    "start_time": "2022-01-08T10:06:36.327Z"
   },
   {
    "duration": 45,
    "start_time": "2022-01-08T10:06:36.337Z"
   },
   {
    "duration": 30,
    "start_time": "2022-01-08T10:06:36.384Z"
   },
   {
    "duration": 25,
    "start_time": "2022-01-08T10:06:36.415Z"
   },
   {
    "duration": 1083,
    "start_time": "2022-01-08T10:12:03.074Z"
   },
   {
    "duration": 5,
    "start_time": "2022-01-08T10:12:04.159Z"
   },
   {
    "duration": 46,
    "start_time": "2022-01-08T10:12:04.166Z"
   },
   {
    "duration": 27,
    "start_time": "2022-01-08T10:12:04.214Z"
   },
   {
    "duration": 89,
    "start_time": "2022-01-08T10:12:04.243Z"
   },
   {
    "duration": 11,
    "start_time": "2022-01-08T10:12:04.333Z"
   },
   {
    "duration": 21,
    "start_time": "2022-01-08T10:12:04.346Z"
   },
   {
    "duration": 26,
    "start_time": "2022-01-08T10:12:04.369Z"
   },
   {
    "duration": 29,
    "start_time": "2022-01-08T10:12:04.398Z"
   },
   {
    "duration": 26,
    "start_time": "2022-01-08T10:12:04.429Z"
   },
   {
    "duration": 48,
    "start_time": "2022-01-08T10:12:04.457Z"
   },
   {
    "duration": 26,
    "start_time": "2022-01-08T10:12:04.508Z"
   },
   {
    "duration": 266,
    "start_time": "2022-01-08T10:12:04.536Z"
   },
   {
    "duration": 658,
    "start_time": "2022-01-08T10:12:04.804Z"
   },
   {
    "duration": 19,
    "start_time": "2022-01-08T10:12:05.464Z"
   },
   {
    "duration": 458,
    "start_time": "2022-01-08T10:12:05.485Z"
   },
   {
    "duration": 29,
    "start_time": "2022-01-08T10:12:05.945Z"
   },
   {
    "duration": 446,
    "start_time": "2022-01-08T10:12:05.975Z"
   },
   {
    "duration": 715,
    "start_time": "2022-01-08T10:12:06.422Z"
   },
   {
    "duration": 621,
    "start_time": "2022-01-08T10:12:07.139Z"
   },
   {
    "duration": 14,
    "start_time": "2022-01-08T10:12:07.762Z"
   },
   {
    "duration": 50,
    "start_time": "2022-01-08T10:12:07.778Z"
   },
   {
    "duration": 441,
    "start_time": "2022-01-08T10:12:07.830Z"
   },
   {
    "duration": 321,
    "start_time": "2022-01-08T10:12:08.272Z"
   },
   {
    "duration": 319,
    "start_time": "2022-01-08T10:12:08.594Z"
   },
   {
    "duration": 459,
    "start_time": "2022-01-08T10:12:08.915Z"
   },
   {
    "duration": 9,
    "start_time": "2022-01-08T10:12:09.378Z"
   },
   {
    "duration": 11,
    "start_time": "2022-01-08T10:12:09.389Z"
   },
   {
    "duration": 8,
    "start_time": "2022-01-08T10:12:09.401Z"
   },
   {
    "duration": 6,
    "start_time": "2022-01-08T10:12:09.411Z"
   },
   {
    "duration": 1155,
    "start_time": "2022-01-08T10:28:29.215Z"
   },
   {
    "duration": 5,
    "start_time": "2022-01-08T10:28:30.372Z"
   },
   {
    "duration": 6,
    "start_time": "2022-01-08T10:28:30.379Z"
   },
   {
    "duration": 13,
    "start_time": "2022-01-08T10:28:30.387Z"
   },
   {
    "duration": 60,
    "start_time": "2022-01-08T10:28:30.402Z"
   },
   {
    "duration": 11,
    "start_time": "2022-01-08T10:28:30.464Z"
   },
   {
    "duration": 16,
    "start_time": "2022-01-08T10:28:30.477Z"
   },
   {
    "duration": 28,
    "start_time": "2022-01-08T10:28:30.494Z"
   },
   {
    "duration": 16,
    "start_time": "2022-01-08T10:28:30.525Z"
   },
   {
    "duration": 23,
    "start_time": "2022-01-08T10:28:30.544Z"
   },
   {
    "duration": 31,
    "start_time": "2022-01-08T10:28:30.568Z"
   },
   {
    "duration": 11,
    "start_time": "2022-01-08T10:28:30.601Z"
   },
   {
    "duration": 284,
    "start_time": "2022-01-08T10:28:30.613Z"
   },
   {
    "duration": 600,
    "start_time": "2022-01-08T10:28:30.899Z"
   },
   {
    "duration": 20,
    "start_time": "2022-01-08T10:28:31.501Z"
   },
   {
    "duration": 391,
    "start_time": "2022-01-08T10:28:31.522Z"
   },
   {
    "duration": 21,
    "start_time": "2022-01-08T10:28:31.914Z"
   },
   {
    "duration": 434,
    "start_time": "2022-01-08T10:28:31.936Z"
   },
   {
    "duration": 577,
    "start_time": "2022-01-08T10:28:32.372Z"
   },
   {
    "duration": 631,
    "start_time": "2022-01-08T10:28:32.950Z"
   },
   {
    "duration": 14,
    "start_time": "2022-01-08T10:28:33.583Z"
   },
   {
    "duration": 35,
    "start_time": "2022-01-08T10:28:33.599Z"
   },
   {
    "duration": 441,
    "start_time": "2022-01-08T10:28:33.660Z"
   },
   {
    "duration": 307,
    "start_time": "2022-01-08T10:28:34.103Z"
   },
   {
    "duration": 312,
    "start_time": "2022-01-08T10:28:34.412Z"
   },
   {
    "duration": 501,
    "start_time": "2022-01-08T10:28:34.726Z"
   },
   {
    "duration": 9,
    "start_time": "2022-01-08T10:28:35.230Z"
   },
   {
    "duration": 23,
    "start_time": "2022-01-08T10:28:35.241Z"
   },
   {
    "duration": 7,
    "start_time": "2022-01-08T10:28:35.266Z"
   },
   {
    "duration": 8,
    "start_time": "2022-01-08T10:28:35.275Z"
   },
   {
    "duration": 426,
    "start_time": "2022-01-08T10:28:52.436Z"
   },
   {
    "duration": 429,
    "start_time": "2022-01-08T10:29:02.704Z"
   },
   {
    "duration": 1092,
    "start_time": "2022-01-08T11:08:10.758Z"
   },
   {
    "duration": 5,
    "start_time": "2022-01-08T11:08:11.852Z"
   },
   {
    "duration": 4,
    "start_time": "2022-01-08T11:08:11.861Z"
   },
   {
    "duration": 9,
    "start_time": "2022-01-08T11:08:11.866Z"
   },
   {
    "duration": 52,
    "start_time": "2022-01-08T11:08:11.877Z"
   },
   {
    "duration": 10,
    "start_time": "2022-01-08T11:08:11.931Z"
   },
   {
    "duration": 18,
    "start_time": "2022-01-08T11:08:11.942Z"
   },
   {
    "duration": 12,
    "start_time": "2022-01-08T11:08:11.963Z"
   },
   {
    "duration": 7,
    "start_time": "2022-01-08T11:08:11.977Z"
   },
   {
    "duration": 9,
    "start_time": "2022-01-08T11:08:11.985Z"
   },
   {
    "duration": 22,
    "start_time": "2022-01-08T11:08:11.995Z"
   },
   {
    "duration": 42,
    "start_time": "2022-01-08T11:08:12.019Z"
   },
   {
    "duration": 253,
    "start_time": "2022-01-08T11:08:12.063Z"
   },
   {
    "duration": 406,
    "start_time": "2022-01-08T11:08:12.317Z"
   },
   {
    "duration": 20,
    "start_time": "2022-01-08T11:08:12.725Z"
   },
   {
    "duration": 479,
    "start_time": "2022-01-08T11:08:12.761Z"
   },
   {
    "duration": 34,
    "start_time": "2022-01-08T11:08:13.242Z"
   },
   {
    "duration": 426,
    "start_time": "2022-01-08T11:08:13.277Z"
   },
   {
    "duration": 561,
    "start_time": "2022-01-08T11:08:13.705Z"
   },
   {
    "duration": 582,
    "start_time": "2022-01-08T11:08:14.268Z"
   },
   {
    "duration": 18,
    "start_time": "2022-01-08T11:08:14.851Z"
   },
   {
    "duration": 30,
    "start_time": "2022-01-08T11:08:14.870Z"
   },
   {
    "duration": 459,
    "start_time": "2022-01-08T11:08:14.901Z"
   },
   {
    "duration": 322,
    "start_time": "2022-01-08T11:08:15.362Z"
   },
   {
    "duration": 328,
    "start_time": "2022-01-08T11:08:15.685Z"
   },
   {
    "duration": 463,
    "start_time": "2022-01-08T11:08:16.016Z"
   },
   {
    "duration": 9,
    "start_time": "2022-01-08T11:08:16.481Z"
   },
   {
    "duration": 14,
    "start_time": "2022-01-08T11:08:16.491Z"
   },
   {
    "duration": 8,
    "start_time": "2022-01-08T11:08:16.507Z"
   },
   {
    "duration": 8,
    "start_time": "2022-01-08T11:08:16.517Z"
   },
   {
    "duration": 402,
    "start_time": "2022-01-08T11:09:16.907Z"
   },
   {
    "duration": 531,
    "start_time": "2022-01-08T11:09:44.288Z"
   },
   {
    "duration": 397,
    "start_time": "2022-01-08T11:09:54.726Z"
   },
   {
    "duration": 1128,
    "start_time": "2022-01-08T11:10:36.426Z"
   },
   {
    "duration": 5,
    "start_time": "2022-01-08T11:10:37.556Z"
   },
   {
    "duration": 18,
    "start_time": "2022-01-08T11:10:37.563Z"
   },
   {
    "duration": 11,
    "start_time": "2022-01-08T11:10:37.583Z"
   },
   {
    "duration": 54,
    "start_time": "2022-01-08T11:10:37.596Z"
   },
   {
    "duration": 11,
    "start_time": "2022-01-08T11:10:37.651Z"
   },
   {
    "duration": 3,
    "start_time": "2022-01-08T11:10:37.663Z"
   },
   {
    "duration": 13,
    "start_time": "2022-01-08T11:10:37.668Z"
   },
   {
    "duration": 7,
    "start_time": "2022-01-08T11:10:37.684Z"
   },
   {
    "duration": 7,
    "start_time": "2022-01-08T11:10:37.693Z"
   },
   {
    "duration": 21,
    "start_time": "2022-01-08T11:10:37.702Z"
   },
   {
    "duration": 42,
    "start_time": "2022-01-08T11:10:37.725Z"
   },
   {
    "duration": 255,
    "start_time": "2022-01-08T11:10:37.768Z"
   },
   {
    "duration": 383,
    "start_time": "2022-01-08T11:10:38.025Z"
   },
   {
    "duration": 19,
    "start_time": "2022-01-08T11:10:38.410Z"
   },
   {
    "duration": 403,
    "start_time": "2022-01-08T11:10:38.431Z"
   },
   {
    "duration": 36,
    "start_time": "2022-01-08T11:10:38.836Z"
   },
   {
    "duration": 434,
    "start_time": "2022-01-08T11:10:38.874Z"
   },
   {
    "duration": 720,
    "start_time": "2022-01-08T11:10:39.310Z"
   },
   {
    "duration": 652,
    "start_time": "2022-01-08T11:10:40.032Z"
   },
   {
    "duration": 14,
    "start_time": "2022-01-08T11:10:40.686Z"
   },
   {
    "duration": 53,
    "start_time": "2022-01-08T11:10:40.702Z"
   },
   {
    "duration": 449,
    "start_time": "2022-01-08T11:10:40.757Z"
   },
   {
    "duration": 312,
    "start_time": "2022-01-08T11:10:41.208Z"
   },
   {
    "duration": 332,
    "start_time": "2022-01-08T11:10:41.521Z"
   },
   {
    "duration": 477,
    "start_time": "2022-01-08T11:10:41.855Z"
   },
   {
    "duration": 9,
    "start_time": "2022-01-08T11:10:42.335Z"
   },
   {
    "duration": 30,
    "start_time": "2022-01-08T11:10:42.346Z"
   },
   {
    "duration": 30,
    "start_time": "2022-01-08T11:10:42.377Z"
   },
   {
    "duration": 12,
    "start_time": "2022-01-08T11:10:42.409Z"
   },
   {
    "duration": 1092,
    "start_time": "2022-01-09T21:19:57.725Z"
   },
   {
    "duration": 4,
    "start_time": "2022-01-09T21:19:58.819Z"
   },
   {
    "duration": 6,
    "start_time": "2022-01-09T21:19:58.825Z"
   },
   {
    "duration": 3,
    "start_time": "2022-01-09T21:19:58.841Z"
   },
   {
    "duration": 51,
    "start_time": "2022-01-09T21:19:58.846Z"
   },
   {
    "duration": 9,
    "start_time": "2022-01-09T21:19:58.899Z"
   },
   {
    "duration": 10,
    "start_time": "2022-01-09T21:19:58.910Z"
   },
   {
    "duration": 14,
    "start_time": "2022-01-09T21:19:58.922Z"
   },
   {
    "duration": 7,
    "start_time": "2022-01-09T21:19:58.940Z"
   },
   {
    "duration": 6,
    "start_time": "2022-01-09T21:19:58.949Z"
   },
   {
    "duration": 21,
    "start_time": "2022-01-09T21:19:58.957Z"
   },
   {
    "duration": 10,
    "start_time": "2022-01-09T21:19:58.980Z"
   },
   {
    "duration": 257,
    "start_time": "2022-01-09T21:19:58.991Z"
   },
   {
    "duration": 360,
    "start_time": "2022-01-09T21:19:59.250Z"
   },
   {
    "duration": 31,
    "start_time": "2022-01-09T21:19:59.611Z"
   },
   {
    "duration": 350,
    "start_time": "2022-01-09T21:19:59.643Z"
   },
   {
    "duration": 428,
    "start_time": "2022-01-09T21:19:59.995Z"
   },
   {
    "duration": 630,
    "start_time": "2022-01-09T21:20:00.424Z"
   },
   {
    "duration": 703,
    "start_time": "2022-01-09T21:20:01.056Z"
   },
   {
    "duration": 14,
    "start_time": "2022-01-09T21:20:01.760Z"
   },
   {
    "duration": 54,
    "start_time": "2022-01-09T21:20:01.777Z"
   },
   {
    "duration": 473,
    "start_time": "2022-01-09T21:20:01.833Z"
   },
   {
    "duration": 323,
    "start_time": "2022-01-09T21:20:02.310Z"
   },
   {
    "duration": 310,
    "start_time": "2022-01-09T21:20:02.636Z"
   },
   {
    "duration": 462,
    "start_time": "2022-01-09T21:20:02.947Z"
   },
   {
    "duration": 8,
    "start_time": "2022-01-09T21:20:03.411Z"
   },
   {
    "duration": 23,
    "start_time": "2022-01-09T21:20:03.421Z"
   },
   {
    "duration": 17,
    "start_time": "2022-01-09T21:20:03.445Z"
   },
   {
    "duration": 15,
    "start_time": "2022-01-09T21:20:03.464Z"
   }
  ],
  "kernelspec": {
   "display_name": "Python 3",
   "language": "python",
   "name": "python3"
  },
  "language_info": {
   "codemirror_mode": {
    "name": "ipython",
    "version": 3
   },
   "file_extension": ".py",
   "mimetype": "text/x-python",
   "name": "python",
   "nbconvert_exporter": "python",
   "pygments_lexer": "ipython3",
   "version": "3.7.12"
  },
  "toc": {
   "base_numbering": 1,
   "nav_menu": {},
   "number_sections": true,
   "sideBar": true,
   "skip_h1_title": true,
   "title_cell": "Содержание",
   "title_sidebar": "Contents",
   "toc_cell": false,
   "toc_position": {
    "height": "calc(100% - 180px)",
    "left": "10px",
    "top": "150px",
    "width": "250px"
   },
   "toc_section_display": true,
   "toc_window_display": true
  }
 },
 "nbformat": 4,
 "nbformat_minor": 2
}
