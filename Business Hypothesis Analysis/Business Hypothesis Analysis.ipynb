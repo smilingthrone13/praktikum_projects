{
 "cells": [
  {
   "cell_type": "markdown",
   "metadata": {},
   "source": [
    "# Приоритезация гипотез и A/B-тестирование\n",
    "Мы выступаем в роли аналитика крупного интернет-магазина. Вместе с отделом маркетинга мы подготовили список гипотез для увеличения выручки.<br>\n",
    "\n",
    "**Часть 1. Гипотезы.**<br>\n",
    "В нашем распоряжении имеется таблица из 9 гипотез по увеличению выручки интернет-магазина с указанными параметрами Reach, Impact, Confidence, Effort. Необходимо приоретизировать гипотезы по имеющимся параметрам и сделать выводы об актуальности.\n",
    "\n",
    "**Часть 2. A/B-тестирование**<br>\n",
    "После проведения A/B-теста были получены результаты, которые описаны в файлах `orders.csv` и `visitors.csv`. Необходимо изучить данные и сделать по результатам исследования выводы.\n",
    "\n",
    "**Цели исследования:**<br>\n",
    "1. Приоритезировать гипотезы методоми ICE и RICE, объяснить результаты;\n",
    "2. Запустить A/B-тест, проанализировать его результаты и принять решение о продолжении теста.\n",
    "\n",
    "**Задачи** исследования описаны далее для каждой части отдельно. "
   ]
  },
  {
   "cell_type": "markdown",
   "metadata": {},
   "source": [
    "## Импорт и изучение данных"
   ]
  },
  {
   "cell_type": "code",
   "execution_count": 1,
   "metadata": {},
   "outputs": [],
   "source": [
    "import pandas as pd\n",
    "pd.set_option('display.float_format', '{:,.3f}'.format) # Вывод трех знаков после запятой\n",
    "pd.options.display.max_colwidth = 150 # Максимальная ширина столбца таблицы\n",
    "import datetime as dt\n",
    "import numpy as np\n",
    "import matplotlib.pyplot as plt\n",
    "from pandas.plotting import register_matplotlib_converters\n",
    "register_matplotlib_converters()\n",
    "import warnings\n",
    "import scipy.stats as stats"
   ]
  },
  {
   "cell_type": "code",
   "execution_count": 2,
   "metadata": {},
   "outputs": [],
   "source": [
    "# Функция получения описания и первичной обработки датафрейма\n",
    "def df_info(df):\n",
    "    df.columns = map(str.lower, df.columns) # Приводим названия столбцов в нижний регистр\n",
    "    display(df.head(5))\n",
    "    df.info()\n",
    "    print(f'Колиество полных дубликатов: {df.duplicated().sum()}')\n",
    "    df = df.drop_duplicates()"
   ]
  },
  {
   "cell_type": "code",
   "execution_count": 3,
   "metadata": {},
   "outputs": [],
   "source": [
    "hypothesis = pd.read_csv('/datasets/hypothesis.csv')\n",
    "orders = pd.read_csv('/datasets/orders.csv')\n",
    "visitors = pd.read_csv('/datasets/visitors.csv')"
   ]
  },
  {
   "cell_type": "markdown",
   "metadata": {},
   "source": [
    "### Таблица hypothesis"
   ]
  },
  {
   "cell_type": "code",
   "execution_count": 4,
   "metadata": {
    "scrolled": false
   },
   "outputs": [
    {
     "data": {
      "text/html": [
       "<div>\n",
       "<style scoped>\n",
       "    .dataframe tbody tr th:only-of-type {\n",
       "        vertical-align: middle;\n",
       "    }\n",
       "\n",
       "    .dataframe tbody tr th {\n",
       "        vertical-align: top;\n",
       "    }\n",
       "\n",
       "    .dataframe thead th {\n",
       "        text-align: right;\n",
       "    }\n",
       "</style>\n",
       "<table border=\"1\" class=\"dataframe\">\n",
       "  <thead>\n",
       "    <tr style=\"text-align: right;\">\n",
       "      <th></th>\n",
       "      <th>hypothesis</th>\n",
       "      <th>reach</th>\n",
       "      <th>impact</th>\n",
       "      <th>confidence</th>\n",
       "      <th>efforts</th>\n",
       "    </tr>\n",
       "  </thead>\n",
       "  <tbody>\n",
       "    <tr>\n",
       "      <td>0</td>\n",
       "      <td>Добавить два новых канала привлечения трафика, что позволит привлекать на 30% больше пользователей</td>\n",
       "      <td>3</td>\n",
       "      <td>10</td>\n",
       "      <td>8</td>\n",
       "      <td>6</td>\n",
       "    </tr>\n",
       "    <tr>\n",
       "      <td>1</td>\n",
       "      <td>Запустить собственную службу доставки, что сократит срок доставки заказов</td>\n",
       "      <td>2</td>\n",
       "      <td>5</td>\n",
       "      <td>4</td>\n",
       "      <td>10</td>\n",
       "    </tr>\n",
       "    <tr>\n",
       "      <td>2</td>\n",
       "      <td>Добавить блоки рекомендаций товаров на сайт интернет магазина, чтобы повысить конверсию и средний чек заказа</td>\n",
       "      <td>8</td>\n",
       "      <td>3</td>\n",
       "      <td>7</td>\n",
       "      <td>3</td>\n",
       "    </tr>\n",
       "    <tr>\n",
       "      <td>3</td>\n",
       "      <td>Изменить структура категорий, что увеличит конверсию, т.к. пользователи быстрее найдут нужный товар</td>\n",
       "      <td>8</td>\n",
       "      <td>3</td>\n",
       "      <td>3</td>\n",
       "      <td>8</td>\n",
       "    </tr>\n",
       "    <tr>\n",
       "      <td>4</td>\n",
       "      <td>Изменить цвет фона главной страницы, чтобы увеличить вовлеченность пользователей</td>\n",
       "      <td>3</td>\n",
       "      <td>1</td>\n",
       "      <td>1</td>\n",
       "      <td>1</td>\n",
       "    </tr>\n",
       "  </tbody>\n",
       "</table>\n",
       "</div>"
      ],
      "text/plain": [
       "                                                                                                     hypothesis  \\\n",
       "0            Добавить два новых канала привлечения трафика, что позволит привлекать на 30% больше пользователей   \n",
       "1                                     Запустить собственную службу доставки, что сократит срок доставки заказов   \n",
       "2  Добавить блоки рекомендаций товаров на сайт интернет магазина, чтобы повысить конверсию и средний чек заказа   \n",
       "3           Изменить структура категорий, что увеличит конверсию, т.к. пользователи быстрее найдут нужный товар   \n",
       "4                              Изменить цвет фона главной страницы, чтобы увеличить вовлеченность пользователей   \n",
       "\n",
       "   reach  impact  confidence  efforts  \n",
       "0      3      10           8        6  \n",
       "1      2       5           4       10  \n",
       "2      8       3           7        3  \n",
       "3      8       3           3        8  \n",
       "4      3       1           1        1  "
      ]
     },
     "metadata": {},
     "output_type": "display_data"
    },
    {
     "name": "stdout",
     "output_type": "stream",
     "text": [
      "<class 'pandas.core.frame.DataFrame'>\n",
      "RangeIndex: 9 entries, 0 to 8\n",
      "Data columns (total 5 columns):\n",
      "hypothesis    9 non-null object\n",
      "reach         9 non-null int64\n",
      "impact        9 non-null int64\n",
      "confidence    9 non-null int64\n",
      "efforts       9 non-null int64\n",
      "dtypes: int64(4), object(1)\n",
      "memory usage: 488.0+ bytes\n",
      "Колиество полных дубликатов: 0\n"
     ]
    }
   ],
   "source": [
    "df_info(hypothesis)"
   ]
  },
  {
   "cell_type": "markdown",
   "metadata": {},
   "source": [
    "Описание данных:\n",
    "* `hypothesis` — краткое описание гипотезы;\n",
    "* `reach` — охват пользователей по 10-балльной шкале;\n",
    "* `impact` — влияние на пользователей по 10-балльной шкале;\n",
    "* `confidence` — уверенность в гипотезе по 10-балльной шкале;\n",
    "* `efforts` — затраты ресурсов на проверку гипотезы по 10-балльной шкале. "
   ]
  },
  {
   "cell_type": "markdown",
   "metadata": {},
   "source": [
    "### Таблица orders"
   ]
  },
  {
   "cell_type": "code",
   "execution_count": 5,
   "metadata": {},
   "outputs": [
    {
     "data": {
      "text/html": [
       "<div>\n",
       "<style scoped>\n",
       "    .dataframe tbody tr th:only-of-type {\n",
       "        vertical-align: middle;\n",
       "    }\n",
       "\n",
       "    .dataframe tbody tr th {\n",
       "        vertical-align: top;\n",
       "    }\n",
       "\n",
       "    .dataframe thead th {\n",
       "        text-align: right;\n",
       "    }\n",
       "</style>\n",
       "<table border=\"1\" class=\"dataframe\">\n",
       "  <thead>\n",
       "    <tr style=\"text-align: right;\">\n",
       "      <th></th>\n",
       "      <th>transaction_id</th>\n",
       "      <th>visitor_id</th>\n",
       "      <th>date</th>\n",
       "      <th>revenue</th>\n",
       "      <th>group</th>\n",
       "    </tr>\n",
       "  </thead>\n",
       "  <tbody>\n",
       "    <tr>\n",
       "      <td>0</td>\n",
       "      <td>3667963787</td>\n",
       "      <td>3312258926</td>\n",
       "      <td>2019-08-15</td>\n",
       "      <td>1650</td>\n",
       "      <td>B</td>\n",
       "    </tr>\n",
       "    <tr>\n",
       "      <td>1</td>\n",
       "      <td>2804400009</td>\n",
       "      <td>3642806036</td>\n",
       "      <td>2019-08-15</td>\n",
       "      <td>730</td>\n",
       "      <td>B</td>\n",
       "    </tr>\n",
       "    <tr>\n",
       "      <td>2</td>\n",
       "      <td>2961555356</td>\n",
       "      <td>4069496402</td>\n",
       "      <td>2019-08-15</td>\n",
       "      <td>400</td>\n",
       "      <td>A</td>\n",
       "    </tr>\n",
       "    <tr>\n",
       "      <td>3</td>\n",
       "      <td>3797467345</td>\n",
       "      <td>1196621759</td>\n",
       "      <td>2019-08-15</td>\n",
       "      <td>9759</td>\n",
       "      <td>B</td>\n",
       "    </tr>\n",
       "    <tr>\n",
       "      <td>4</td>\n",
       "      <td>2282983706</td>\n",
       "      <td>2322279887</td>\n",
       "      <td>2019-08-15</td>\n",
       "      <td>2308</td>\n",
       "      <td>B</td>\n",
       "    </tr>\n",
       "  </tbody>\n",
       "</table>\n",
       "</div>"
      ],
      "text/plain": [
       "   transaction_id  visitor_id       date  revenue group\n",
       "0      3667963787  3312258926 2019-08-15     1650     B\n",
       "1      2804400009  3642806036 2019-08-15      730     B\n",
       "2      2961555356  4069496402 2019-08-15      400     A\n",
       "3      3797467345  1196621759 2019-08-15     9759     B\n",
       "4      2282983706  2322279887 2019-08-15     2308     B"
      ]
     },
     "metadata": {},
     "output_type": "display_data"
    },
    {
     "name": "stdout",
     "output_type": "stream",
     "text": [
      "<class 'pandas.core.frame.DataFrame'>\n",
      "RangeIndex: 1197 entries, 0 to 1196\n",
      "Data columns (total 5 columns):\n",
      "transaction_id    1197 non-null int64\n",
      "visitor_id        1197 non-null int64\n",
      "date              1197 non-null datetime64[ns]\n",
      "revenue           1197 non-null int64\n",
      "group             1197 non-null object\n",
      "dtypes: datetime64[ns](1), int64(3), object(1)\n",
      "memory usage: 46.9+ KB\n",
      "Колиество полных дубликатов: 0\n"
     ]
    }
   ],
   "source": [
    "orders['date'] = orders['date'].map(lambda x: dt.datetime.strptime(x, '%Y-%m-%d'))\n",
    "orders = orders.rename(columns={'transactionId': 'transaction_id', 'visitorId': 'visitor_id'})\n",
    "df_info(orders)"
   ]
  },
  {
   "cell_type": "markdown",
   "metadata": {},
   "source": [
    "Описание данных:\n",
    "* `transaction_id` — идентификатор заказа;\n",
    "* `visitor_id` — идентификатор пользователя, совершившего заказ;\n",
    "* `date` — дата, когда был совершён заказ;\n",
    "* `revenue` — выручка заказа;\n",
    "* `group` — группа A/B-теста, в которую попал заказ."
   ]
  },
  {
   "cell_type": "markdown",
   "metadata": {},
   "source": [
    "### Таблица visitors"
   ]
  },
  {
   "cell_type": "code",
   "execution_count": 6,
   "metadata": {
    "scrolled": true
   },
   "outputs": [
    {
     "data": {
      "text/html": [
       "<div>\n",
       "<style scoped>\n",
       "    .dataframe tbody tr th:only-of-type {\n",
       "        vertical-align: middle;\n",
       "    }\n",
       "\n",
       "    .dataframe tbody tr th {\n",
       "        vertical-align: top;\n",
       "    }\n",
       "\n",
       "    .dataframe thead th {\n",
       "        text-align: right;\n",
       "    }\n",
       "</style>\n",
       "<table border=\"1\" class=\"dataframe\">\n",
       "  <thead>\n",
       "    <tr style=\"text-align: right;\">\n",
       "      <th></th>\n",
       "      <th>date</th>\n",
       "      <th>group</th>\n",
       "      <th>visitors</th>\n",
       "    </tr>\n",
       "  </thead>\n",
       "  <tbody>\n",
       "    <tr>\n",
       "      <td>0</td>\n",
       "      <td>2019-08-01</td>\n",
       "      <td>A</td>\n",
       "      <td>719</td>\n",
       "    </tr>\n",
       "    <tr>\n",
       "      <td>1</td>\n",
       "      <td>2019-08-02</td>\n",
       "      <td>A</td>\n",
       "      <td>619</td>\n",
       "    </tr>\n",
       "    <tr>\n",
       "      <td>2</td>\n",
       "      <td>2019-08-03</td>\n",
       "      <td>A</td>\n",
       "      <td>507</td>\n",
       "    </tr>\n",
       "    <tr>\n",
       "      <td>3</td>\n",
       "      <td>2019-08-04</td>\n",
       "      <td>A</td>\n",
       "      <td>717</td>\n",
       "    </tr>\n",
       "    <tr>\n",
       "      <td>4</td>\n",
       "      <td>2019-08-05</td>\n",
       "      <td>A</td>\n",
       "      <td>756</td>\n",
       "    </tr>\n",
       "  </tbody>\n",
       "</table>\n",
       "</div>"
      ],
      "text/plain": [
       "        date group  visitors\n",
       "0 2019-08-01     A       719\n",
       "1 2019-08-02     A       619\n",
       "2 2019-08-03     A       507\n",
       "3 2019-08-04     A       717\n",
       "4 2019-08-05     A       756"
      ]
     },
     "metadata": {},
     "output_type": "display_data"
    },
    {
     "name": "stdout",
     "output_type": "stream",
     "text": [
      "<class 'pandas.core.frame.DataFrame'>\n",
      "RangeIndex: 62 entries, 0 to 61\n",
      "Data columns (total 3 columns):\n",
      "date        62 non-null datetime64[ns]\n",
      "group       62 non-null object\n",
      "visitors    62 non-null int64\n",
      "dtypes: datetime64[ns](1), int64(1), object(1)\n",
      "memory usage: 1.6+ KB\n",
      "Колиество полных дубликатов: 0\n"
     ]
    }
   ],
   "source": [
    "visitors['date'] = visitors['date'].map(lambda x: dt.datetime.strptime(x, '%Y-%m-%d'))\n",
    "df_info(visitors)"
   ]
  },
  {
   "cell_type": "markdown",
   "metadata": {},
   "source": [
    "* `date` — дата;\n",
    "* `group` — группа A/B-теста;\n",
    "* `visitors` — количество пользователей в указанную дату в указанной группе A/B-теста."
   ]
  },
  {
   "cell_type": "markdown",
   "metadata": {},
   "source": [
    "## Часть 1. Приоритезация гипотез\n",
    "\n",
    "**Задачи:**\n",
    "* Применить фреймворк ICE для приоритизации гипотез. Отсортировать их по убыванию приоритета.\n",
    "* Применить фреймворк RICE для приоритизации гипотез. Отсортировать их по убыванию приоритета.\n",
    "* Указать, как изменилась приоритизация гипотез при применении RICE вместо ICE. Объяснить, почему так произошло."
   ]
  },
  {
   "cell_type": "markdown",
   "metadata": {},
   "source": [
    "### Расчет ICE\n",
    "Сначала приоритезируем гипотезы методом ICE:"
   ]
  },
  {
   "cell_type": "code",
   "execution_count": 7,
   "metadata": {},
   "outputs": [
    {
     "data": {
      "text/html": [
       "<div>\n",
       "<style scoped>\n",
       "    .dataframe tbody tr th:only-of-type {\n",
       "        vertical-align: middle;\n",
       "    }\n",
       "\n",
       "    .dataframe tbody tr th {\n",
       "        vertical-align: top;\n",
       "    }\n",
       "\n",
       "    .dataframe thead th {\n",
       "        text-align: right;\n",
       "    }\n",
       "</style>\n",
       "<table border=\"1\" class=\"dataframe\">\n",
       "  <thead>\n",
       "    <tr style=\"text-align: right;\">\n",
       "      <th></th>\n",
       "      <th>hypothesis</th>\n",
       "      <th>ICE</th>\n",
       "    </tr>\n",
       "  </thead>\n",
       "  <tbody>\n",
       "    <tr>\n",
       "      <td>8</td>\n",
       "      <td>Запустить акцию, дающую скидку на товар в день рождения</td>\n",
       "      <td>16.200</td>\n",
       "    </tr>\n",
       "    <tr>\n",
       "      <td>0</td>\n",
       "      <td>Добавить два новых канала привлечения трафика, что позволит привлекать на 30% больше пользователей</td>\n",
       "      <td>13.333</td>\n",
       "    </tr>\n",
       "    <tr>\n",
       "      <td>7</td>\n",
       "      <td>Добавить форму подписки на все основные страницы, чтобы собрать базу клиентов для email-рассылок</td>\n",
       "      <td>11.200</td>\n",
       "    </tr>\n",
       "    <tr>\n",
       "      <td>6</td>\n",
       "      <td>Показать на главной странице баннеры с актуальными акциями и распродажами, чтобы увеличить конверсию</td>\n",
       "      <td>8.000</td>\n",
       "    </tr>\n",
       "    <tr>\n",
       "      <td>2</td>\n",
       "      <td>Добавить блоки рекомендаций товаров на сайт интернет магазина, чтобы повысить конверсию и средний чек заказа</td>\n",
       "      <td>7.000</td>\n",
       "    </tr>\n",
       "    <tr>\n",
       "      <td>1</td>\n",
       "      <td>Запустить собственную службу доставки, что сократит срок доставки заказов</td>\n",
       "      <td>2.000</td>\n",
       "    </tr>\n",
       "    <tr>\n",
       "      <td>5</td>\n",
       "      <td>Добавить страницу отзывов клиентов о магазине, что позволит увеличить количество заказов</td>\n",
       "      <td>1.333</td>\n",
       "    </tr>\n",
       "    <tr>\n",
       "      <td>3</td>\n",
       "      <td>Изменить структура категорий, что увеличит конверсию, т.к. пользователи быстрее найдут нужный товар</td>\n",
       "      <td>1.125</td>\n",
       "    </tr>\n",
       "    <tr>\n",
       "      <td>4</td>\n",
       "      <td>Изменить цвет фона главной страницы, чтобы увеличить вовлеченность пользователей</td>\n",
       "      <td>1.000</td>\n",
       "    </tr>\n",
       "  </tbody>\n",
       "</table>\n",
       "</div>"
      ],
      "text/plain": [
       "                                                                                                     hypothesis  \\\n",
       "8                                                       Запустить акцию, дающую скидку на товар в день рождения   \n",
       "0            Добавить два новых канала привлечения трафика, что позволит привлекать на 30% больше пользователей   \n",
       "7              Добавить форму подписки на все основные страницы, чтобы собрать базу клиентов для email-рассылок   \n",
       "6          Показать на главной странице баннеры с актуальными акциями и распродажами, чтобы увеличить конверсию   \n",
       "2  Добавить блоки рекомендаций товаров на сайт интернет магазина, чтобы повысить конверсию и средний чек заказа   \n",
       "1                                     Запустить собственную службу доставки, что сократит срок доставки заказов   \n",
       "5                      Добавить страницу отзывов клиентов о магазине, что позволит увеличить количество заказов   \n",
       "3           Изменить структура категорий, что увеличит конверсию, т.к. пользователи быстрее найдут нужный товар   \n",
       "4                              Изменить цвет фона главной страницы, чтобы увеличить вовлеченность пользователей   \n",
       "\n",
       "     ICE  \n",
       "8 16.200  \n",
       "0 13.333  \n",
       "7 11.200  \n",
       "6  8.000  \n",
       "2  7.000  \n",
       "1  2.000  \n",
       "5  1.333  \n",
       "3  1.125  \n",
       "4  1.000  "
      ]
     },
     "metadata": {},
     "output_type": "display_data"
    },
    {
     "name": "stdout",
     "output_type": "stream",
     "text": [
      "Гипотезы в порядке приоритетности: [8, 0, 7, 6, 2, 1, 5, 3, 4]\n"
     ]
    }
   ],
   "source": [
    "# Добавляем столбец 'ICE' и считаем значение для каждой гипотезы\n",
    "hypothesis['ICE'] = (hypothesis['impact']\n",
    "                     * hypothesis['confidence']\n",
    "                     / hypothesis['efforts'])\n",
    "display(hypothesis[['hypothesis', 'ICE']].sort_values(by='ICE', ascending = False))\n",
    "print(f'Гипотезы в порядке приоритетности: {list(hypothesis[[\"hypothesis\", \"ICE\"]].sort_values(by=\"ICE\", ascending = False).index)}')"
   ]
  },
  {
   "cell_type": "markdown",
   "metadata": {},
   "source": [
    "Приоритезация гипотез методом ICE дала следующие результаты:<br>\n",
    "* Самыми приоритетными оказались гипотезы под номерами **8**, **0** и **7**.\n",
    "* Гипотеза **4** оказалась наименее приоритетной.<br>\n",
    "\n",
    "Общий порядок: **8, 0, 7, 6, 2, 1, 5, 3, 4**."
   ]
  },
  {
   "cell_type": "markdown",
   "metadata": {},
   "source": [
    "### Расчет RICE\n",
    "Далее приоритезируем гипотезы по методу RICE:"
   ]
  },
  {
   "cell_type": "code",
   "execution_count": 8,
   "metadata": {},
   "outputs": [
    {
     "data": {
      "text/html": [
       "<div>\n",
       "<style scoped>\n",
       "    .dataframe tbody tr th:only-of-type {\n",
       "        vertical-align: middle;\n",
       "    }\n",
       "\n",
       "    .dataframe tbody tr th {\n",
       "        vertical-align: top;\n",
       "    }\n",
       "\n",
       "    .dataframe thead th {\n",
       "        text-align: right;\n",
       "    }\n",
       "</style>\n",
       "<table border=\"1\" class=\"dataframe\">\n",
       "  <thead>\n",
       "    <tr style=\"text-align: right;\">\n",
       "      <th></th>\n",
       "      <th>hypothesis</th>\n",
       "      <th>RICE</th>\n",
       "    </tr>\n",
       "  </thead>\n",
       "  <tbody>\n",
       "    <tr>\n",
       "      <td>7</td>\n",
       "      <td>Добавить форму подписки на все основные страницы, чтобы собрать базу клиентов для email-рассылок</td>\n",
       "      <td>112.000</td>\n",
       "    </tr>\n",
       "    <tr>\n",
       "      <td>2</td>\n",
       "      <td>Добавить блоки рекомендаций товаров на сайт интернет магазина, чтобы повысить конверсию и средний чек заказа</td>\n",
       "      <td>56.000</td>\n",
       "    </tr>\n",
       "    <tr>\n",
       "      <td>0</td>\n",
       "      <td>Добавить два новых канала привлечения трафика, что позволит привлекать на 30% больше пользователей</td>\n",
       "      <td>40.000</td>\n",
       "    </tr>\n",
       "    <tr>\n",
       "      <td>6</td>\n",
       "      <td>Показать на главной странице баннеры с актуальными акциями и распродажами, чтобы увеличить конверсию</td>\n",
       "      <td>40.000</td>\n",
       "    </tr>\n",
       "    <tr>\n",
       "      <td>8</td>\n",
       "      <td>Запустить акцию, дающую скидку на товар в день рождения</td>\n",
       "      <td>16.200</td>\n",
       "    </tr>\n",
       "    <tr>\n",
       "      <td>3</td>\n",
       "      <td>Изменить структура категорий, что увеличит конверсию, т.к. пользователи быстрее найдут нужный товар</td>\n",
       "      <td>9.000</td>\n",
       "    </tr>\n",
       "    <tr>\n",
       "      <td>1</td>\n",
       "      <td>Запустить собственную службу доставки, что сократит срок доставки заказов</td>\n",
       "      <td>4.000</td>\n",
       "    </tr>\n",
       "    <tr>\n",
       "      <td>5</td>\n",
       "      <td>Добавить страницу отзывов клиентов о магазине, что позволит увеличить количество заказов</td>\n",
       "      <td>4.000</td>\n",
       "    </tr>\n",
       "    <tr>\n",
       "      <td>4</td>\n",
       "      <td>Изменить цвет фона главной страницы, чтобы увеличить вовлеченность пользователей</td>\n",
       "      <td>3.000</td>\n",
       "    </tr>\n",
       "  </tbody>\n",
       "</table>\n",
       "</div>"
      ],
      "text/plain": [
       "                                                                                                     hypothesis  \\\n",
       "7              Добавить форму подписки на все основные страницы, чтобы собрать базу клиентов для email-рассылок   \n",
       "2  Добавить блоки рекомендаций товаров на сайт интернет магазина, чтобы повысить конверсию и средний чек заказа   \n",
       "0            Добавить два новых канала привлечения трафика, что позволит привлекать на 30% больше пользователей   \n",
       "6          Показать на главной странице баннеры с актуальными акциями и распродажами, чтобы увеличить конверсию   \n",
       "8                                                       Запустить акцию, дающую скидку на товар в день рождения   \n",
       "3           Изменить структура категорий, что увеличит конверсию, т.к. пользователи быстрее найдут нужный товар   \n",
       "1                                     Запустить собственную службу доставки, что сократит срок доставки заказов   \n",
       "5                      Добавить страницу отзывов клиентов о магазине, что позволит увеличить количество заказов   \n",
       "4                              Изменить цвет фона главной страницы, чтобы увеличить вовлеченность пользователей   \n",
       "\n",
       "     RICE  \n",
       "7 112.000  \n",
       "2  56.000  \n",
       "0  40.000  \n",
       "6  40.000  \n",
       "8  16.200  \n",
       "3   9.000  \n",
       "1   4.000  \n",
       "5   4.000  \n",
       "4   3.000  "
      ]
     },
     "metadata": {},
     "output_type": "display_data"
    },
    {
     "name": "stdout",
     "output_type": "stream",
     "text": [
      "Гипотезы в порядке приоритетности: [7, 2, 0, 6, 8, 3, 1, 5, 4]\n"
     ]
    }
   ],
   "source": [
    "# Добавляем столбец 'RICE' и считаем значение для каждой гипотезы\n",
    "hypothesis['RICE'] = (hypothesis['reach']\n",
    "                     * hypothesis['impact']\n",
    "                     * hypothesis['confidence']\n",
    "                     / hypothesis['efforts'])\n",
    "display(hypothesis[['hypothesis', 'RICE']].sort_values(by='RICE', ascending = False))\n",
    "print(f'Гипотезы в порядке приоритетности: {list(hypothesis[[\"hypothesis\", \"RICE\"]].sort_values(by=\"RICE\", ascending = False).index)}')"
   ]
  },
  {
   "cell_type": "markdown",
   "metadata": {},
   "source": [
    "При таком подходе результаты немного отличаются от предыдущих:<br>\n",
    "* Самыми приоритетными гипотезами оказались **7**, **2** и **0**.\n",
    "* Наименне приоритетной гипотезой осталась **4**.\n",
    "\n",
    "Общий порядок: **7, 2, 0, 6, 8, 3, 1, 5, 4**."
   ]
  },
  {
   "cell_type": "markdown",
   "metadata": {},
   "source": [
    "### Анализ результатов\n",
    "Учет охвата изменил приоритетность некоторых гипотез. Сравним их еще раз бок о бок:\n",
    "* Метод **ICE**:  8, 0, 7, 6, 2, 1, 5, 3, 4\n",
    "* Метод **RICE**: 7, 2, 0, 6, 8, 3, 1, 5, 4\n",
    "\n",
    "Видно, что при расчете по методике **RICE** гипотезы **7**, **2** и **3** получили значительно более высокий приоритет, чем при методике **ICE** (+2-3 позиции). Гипотеза **8** же переместилась с первого на пятое место. Гипотеза под номером **4** в обоих случаях остается на последнем месте. Приоритет остальных гипотез не притерпел значительных изменений.<br>\n",
    "Все различия связаны с тем, что метод **RICE** учитывает параметр охвата - размер группы пользователей, которых коснутся планируемые изменения. Гипотезы **7** и **2** имеют большие значения этого параметра, поэтому оказываются впереди. Гипотеза **8** имеет минимальное значение охвата, и из-за этого во втором случае оказывается наименее приоритетной задачей."
   ]
  },
  {
   "cell_type": "markdown",
   "metadata": {},
   "source": [
    "## Часть 2. Анализ A/B-теста\n",
    "**Задачи:**\n",
    "* Построить график кумулятивной выручки по группам. Сделать выводы и предположения.\n",
    "* Построить график кумулятивного среднего чека по группам. Сделать выводы и предположения.\n",
    "* Построить график относительного изменения кумулятивного среднего чека группы B к группе A. Сделать выводы и предположения.\n",
    "* Построить график кумулятивной конверсии по группам. Сделать выводы и предположения.\n",
    "* Построить график относительного изменения кумулятивной конверсии группы B к группе A. Сделать выводы и предположения.\n",
    "* Построить точечный график количества заказов по пользователям. Сделать выводы и предположения.\n",
    "* Посчитать 95-й и 99-й перцентили количества заказов на пользователя. Выберать границу для определения аномальных пользователей.\n",
    "* Построить точечный график стоимостей заказов. Сделать выводы и предположения.\n",
    "* Посчитать 95-й и 99-й перцентили стоимости заказов. Выберать границу для определения аномальных заказов.\n",
    "* Посчитать статистическую значимость различий в конверсии между группами по «сырым» данным. Сделать выводы и предположения.\n",
    "* Посчитать статистическую значимость различий в среднем чеке заказа между группами по «сырым» данным. Сделать выводы и предположения.\n",
    "* Посчитать статистическую значимость различий в конверсии между группами по «очищенным» данным. Сделать выводы и предположения.\n",
    "* Посчитать статистическую значимость различий в среднем чеке заказа между группами по «очищенным» данным. Сделать выводы и предположения.\n",
    "* Принять решение по результатам теста и объяснить его."
   ]
  },
  {
   "cell_type": "markdown",
   "metadata": {},
   "source": [
    "### Подготовка исходного датафрейма\n",
    "Подготовим исходный датафрейм с кумулятивными значениями выручки и среднего чека для каждой группы:"
   ]
  },
  {
   "cell_type": "code",
   "execution_count": 9,
   "metadata": {},
   "outputs": [
    {
     "data": {
      "text/html": [
       "<div>\n",
       "<style scoped>\n",
       "    .dataframe tbody tr th:only-of-type {\n",
       "        vertical-align: middle;\n",
       "    }\n",
       "\n",
       "    .dataframe tbody tr th {\n",
       "        vertical-align: top;\n",
       "    }\n",
       "\n",
       "    .dataframe thead th {\n",
       "        text-align: right;\n",
       "    }\n",
       "</style>\n",
       "<table border=\"1\" class=\"dataframe\">\n",
       "  <thead>\n",
       "    <tr style=\"text-align: right;\">\n",
       "      <th></th>\n",
       "      <th>date</th>\n",
       "      <th>group</th>\n",
       "      <th>orders</th>\n",
       "      <th>buyers</th>\n",
       "      <th>revenue</th>\n",
       "      <th>visitors</th>\n",
       "    </tr>\n",
       "  </thead>\n",
       "  <tbody>\n",
       "    <tr>\n",
       "      <td>0</td>\n",
       "      <td>2019-08-01</td>\n",
       "      <td>A</td>\n",
       "      <td>24</td>\n",
       "      <td>20</td>\n",
       "      <td>148579</td>\n",
       "      <td>719</td>\n",
       "    </tr>\n",
       "    <tr>\n",
       "      <td>1</td>\n",
       "      <td>2019-08-01</td>\n",
       "      <td>B</td>\n",
       "      <td>21</td>\n",
       "      <td>20</td>\n",
       "      <td>101217</td>\n",
       "      <td>713</td>\n",
       "    </tr>\n",
       "    <tr>\n",
       "      <td>2</td>\n",
       "      <td>2019-08-02</td>\n",
       "      <td>A</td>\n",
       "      <td>44</td>\n",
       "      <td>38</td>\n",
       "      <td>242401</td>\n",
       "      <td>1338</td>\n",
       "    </tr>\n",
       "    <tr>\n",
       "      <td>3</td>\n",
       "      <td>2019-08-02</td>\n",
       "      <td>B</td>\n",
       "      <td>45</td>\n",
       "      <td>43</td>\n",
       "      <td>266748</td>\n",
       "      <td>1294</td>\n",
       "    </tr>\n",
       "    <tr>\n",
       "      <td>4</td>\n",
       "      <td>2019-08-03</td>\n",
       "      <td>A</td>\n",
       "      <td>68</td>\n",
       "      <td>62</td>\n",
       "      <td>354874</td>\n",
       "      <td>1845</td>\n",
       "    </tr>\n",
       "    <tr>\n",
       "      <td>5</td>\n",
       "      <td>2019-08-03</td>\n",
       "      <td>B</td>\n",
       "      <td>61</td>\n",
       "      <td>59</td>\n",
       "      <td>380996</td>\n",
       "      <td>1803</td>\n",
       "    </tr>\n",
       "  </tbody>\n",
       "</table>\n",
       "</div>"
      ],
      "text/plain": [
       "        date group  orders  buyers  revenue  visitors\n",
       "0 2019-08-01     A      24      20   148579       719\n",
       "1 2019-08-01     B      21      20   101217       713\n",
       "2 2019-08-02     A      44      38   242401      1338\n",
       "3 2019-08-02     B      45      43   266748      1294\n",
       "4 2019-08-03     A      68      62   354874      1845\n",
       "5 2019-08-03     B      61      59   380996      1803"
      ]
     },
     "metadata": {},
     "output_type": "display_data"
    }
   ],
   "source": [
    "# Cоздаем массив уникальных пар значений дат и групп теста\n",
    "datesGroups = orders[['date','group']].drop_duplicates()\n",
    "\n",
    "# Получаем агрегированные кумулятивные по дням данные о заказах \n",
    "ordersAggregated = datesGroups.apply(\n",
    "    lambda x: orders[np.logical_and(\n",
    "        orders['date'] <= x['date'], orders['group'] == x['group']\n",
    "    )].agg(\n",
    "        {'date' : 'max',\n",
    "         'group' : 'max',\n",
    "         'transaction_id' : 'nunique',\n",
    "         'visitor_id' : 'nunique',\n",
    "         'revenue' : 'sum'}\n",
    "    ), axis=1).sort_values(by = ['date','group'])\n",
    "\n",
    "# Получаем агрегированные кумулятивные по дням данные о посетителях интернет-магазина \n",
    "visitorsAggregated = datesGroups.apply(\n",
    "    lambda x: visitors[np.logical_and(\n",
    "        visitors['date'] <= x['date'], visitors['group'] == x['group']\n",
    "    )].agg(\n",
    "        {'date' : 'max',\n",
    "         'group' : 'max',\n",
    "         'visitors' : 'sum'}\n",
    "          ), axis=1).sort_values(by = ['date','group'])\n",
    "\n",
    "# Объединяем кумулятивные данные в одной таблице и присваиваем ее столбцам понятные названия\n",
    "cumulativeData = ordersAggregated.merge(visitorsAggregated, left_on = ['date', 'group'], right_on = ['date', 'group'])\n",
    "cumulativeData.columns = ['date', 'group', 'orders', 'buyers', 'revenue', 'visitors']\n",
    "\n",
    "display(cumulativeData.head(6))\n",
    "\n",
    "# Датафрейм с кумулятивным количеством заказов и кумулятивной выручкой по дням в группе А\n",
    "cumulativeRevenueA = cumulativeData[cumulativeData['group']=='A'][['date','revenue', 'orders']]\n",
    "\n",
    "# Датафрейм с кумулятивным количеством заказов и кумулятивной выручкой по дням в группе B\n",
    "cumulativeRevenueB = cumulativeData[cumulativeData['group']=='B'][['date','revenue', 'orders']]"
   ]
  },
  {
   "cell_type": "markdown",
   "metadata": {},
   "source": [
    "### Кумулятивная выручка"
   ]
  },
  {
   "cell_type": "code",
   "execution_count": 10,
   "metadata": {},
   "outputs": [
    {
     "data": {
      "text/plain": [
       "<matplotlib.legend.Legend at 0x7f2fa4dfed90>"
      ]
     },
     "execution_count": 10,
     "metadata": {},
     "output_type": "execute_result"
    },
    {
     "data": {
      "image/png": "[encoded data removed]",
      "text/plain": [
       "<Figure size 1080x360 with 1 Axes>"
      ]
     },
     "metadata": {
      "needs_background": "light"
     },
     "output_type": "display_data"
    }
   ],
   "source": [
    "plt.figure(figsize = (15, 5))\n",
    "plt.title('Кумулятивная выручка по группам')\n",
    "\n",
    "# Строим график выручки группы А\n",
    "plt.plot(cumulativeRevenueA['date'], cumulativeRevenueA['revenue'], label='A')\n",
    "\n",
    "# Строим график выручки группы B\n",
    "plt.plot(cumulativeRevenueB['date'], cumulativeRevenueB['revenue'], label='B')\n",
    "\n",
    "plt.legend()"
   ]
  },
  {
   "cell_type": "markdown",
   "metadata": {},
   "source": [
    "Выручка почти равномерно увеличивается в течение всего теста, это хороший знак.<br>\n",
    "Однако график выручки **группы В** в одной точе резко растет. Это может сигнализировать о всплеске числа заказов, либо о появлении очень дорогих заказов в выборке."
   ]
  },
  {
   "cell_type": "markdown",
   "metadata": {},
   "source": [
    "### Кумулятивный средний чек"
   ]
  },
  {
   "cell_type": "code",
   "execution_count": 11,
   "metadata": {},
   "outputs": [
    {
     "data": {
      "text/plain": [
       "<matplotlib.legend.Legend at 0x7f2fa46ef290>"
      ]
     },
     "execution_count": 11,
     "metadata": {},
     "output_type": "execute_result"
    },
    {
     "data": {
      "image/png": "[encoded data removed]",
      "text/plain": [
       "<Figure size 1080x360 with 1 Axes>"
      ]
     },
     "metadata": {
      "needs_background": "light"
     },
     "output_type": "display_data"
    }
   ],
   "source": [
    "plt.figure(figsize = (15, 5))\n",
    "plt.title('Кумулятивный средний чек по группам')\n",
    "\n",
    "# Строим график среднего чека группы А\n",
    "plt.plot(cumulativeRevenueA['date'], cumulativeRevenueA['revenue'] / cumulativeRevenueA['orders'], label = 'A')\n",
    "\n",
    "# Строим график среднего чека группы В\n",
    "plt.plot(cumulativeRevenueB['date'], cumulativeRevenueB['revenue'] / cumulativeRevenueB['orders'], label = 'B')\n",
    "\n",
    "plt.legend()"
   ]
  },
  {
   "cell_type": "markdown",
   "metadata": {},
   "source": [
    "Средний чек **группы В** также имеет резкий всплеск: скорее всего, в группу в попали крупные заказы. Тогда ей нужно больше данных, чтобы прийти к реальному среднему чеку и установиться на его уровне - видно, что после скачка линия постепенно снижеается. **Группа А**, похоже, пришла к реальному среднему чеку и установилась на его уровне."
   ]
  },
  {
   "cell_type": "markdown",
   "metadata": {},
   "source": [
    "### Оносительное изменение кумулятивного среднего чека групп"
   ]
  },
  {
   "cell_type": "code",
   "execution_count": 12,
   "metadata": {},
   "outputs": [
    {
     "data": {
      "text/plain": [
       "<matplotlib.lines.Line2D at 0x7f2fa44efb90>"
      ]
     },
     "execution_count": 12,
     "metadata": {},
     "output_type": "execute_result"
    },
    {
     "data": {
      "image/png": "[encoded data removed]",
      "text/plain": [
       "<Figure size 1080x360 with 1 Axes>"
      ]
     },
     "metadata": {
      "needs_background": "light"
     },
     "output_type": "display_data"
    }
   ],
   "source": [
    "plt.figure(figsize = (15, 5))\n",
    "plt.title('Относительное изменение кумулятивного среднего чека группы B к группе A')\n",
    "\n",
    "# Собираем данные в одном датафрейме\n",
    "mergedCumulativeRevenue = cumulativeRevenueA.merge(\n",
    "    cumulativeRevenueB, left_on = 'date', right_on = 'date', how = 'left', suffixes = ['A', 'B']\n",
    ")\n",
    "\n",
    "# Строим отношение средних чеков\n",
    "plt.plot(mergedCumulativeRevenue['date'], (mergedCumulativeRevenue['revenueB'] / mergedCumulativeRevenue['ordersB'])\n",
    "                                          / (mergedCumulativeRevenue['revenueA']/mergedCumulativeRevenue['ordersA'])-1)\n",
    "\n",
    "# Добавляем ось X\n",
    "plt.axhline(y = 0, color = 'black', linestyle = '--')\n",
    "plt.axhline(y = 0.25, color = 'gray', linestyle = '--')"
   ]
  },
  {
   "cell_type": "markdown",
   "metadata": {},
   "source": [
    "В нескольких точках график различия между сегментами резко \"скачет\". Очевидно, что в данных присутствуют анамально крупные заказы, меняющие таким образом общую картину. Далее определим такие заказы."
   ]
  },
  {
   "cell_type": "markdown",
   "metadata": {},
   "source": [
    "### Кумулятивная конверсия"
   ]
  },
  {
   "cell_type": "code",
   "execution_count": 13,
   "metadata": {},
   "outputs": [
    {
     "data": {
      "text/plain": [
       "<matplotlib.legend.Legend at 0x7f2fa4604b90>"
      ]
     },
     "execution_count": 13,
     "metadata": {},
     "output_type": "execute_result"
    },
    {
     "data": {
      "image/png": "[encoded data removed]",
      "text/plain": [
       "<Figure size 1080x360 with 1 Axes>"
      ]
     },
     "metadata": {
      "needs_background": "light"
     },
     "output_type": "display_data"
    }
   ],
   "source": [
    "plt.figure(figsize = (15, 5))\n",
    "plt.title('Кумулятивная конверсия по группам')\n",
    "\n",
    "# Считаем кумулятивную конверсию\n",
    "cumulativeData['conversion'] = cumulativeData['orders'] / cumulativeData['visitors']\n",
    "\n",
    "#Оотделяем данные по группе A\n",
    "cumulativeDataA = cumulativeData[cumulativeData['group'] == 'A']\n",
    "\n",
    "# Отделяем данные по группе B\n",
    "cumulativeDataB = cumulativeData[cumulativeData['group'] == 'B']\n",
    "\n",
    "# Cтроим графики\n",
    "plt.plot(cumulativeDataA['date'], cumulativeDataA['conversion'], label = 'A')\n",
    "plt.plot(cumulativeDataB['date'], cumulativeDataB['conversion'], label = 'B')\n",
    "\n",
    "plt.axis([\"2019-08-01\", '2019-09-01', 0, 0.05]) \n",
    "plt.legend()"
   ]
  },
  {
   "cell_type": "markdown",
   "metadata": {},
   "source": [
    "Видим, что конверсия **группы B** стабилизировалась выше уровня конверсии **группы А**.<br>\n",
    "Интересно, что там, где был резкий рост среднего чека (около 19.08.2019), мы наблюдаем небольшое падение конверсии - отсюда можно сделать вывод, что рост среднего чека был связан именно с аномально большими покупками в этот период."
   ]
  },
  {
   "cell_type": "markdown",
   "metadata": {},
   "source": [
    "### Относительное изменение кумулятивной конверсии групп"
   ]
  },
  {
   "cell_type": "code",
   "execution_count": 14,
   "metadata": {},
   "outputs": [
    {
     "data": {
      "text/plain": [
       "<matplotlib.lines.Line2D at 0x7f2fa4586210>"
      ]
     },
     "execution_count": 14,
     "metadata": {},
     "output_type": "execute_result"
    },
    {
     "data": {
      "image/png": "[encoded data removed]",
      "text/plain": [
       "<Figure size 1080x360 with 1 Axes>"
      ]
     },
     "metadata": {
      "needs_background": "light"
     },
     "output_type": "display_data"
    }
   ],
   "source": [
    "plt.figure(figsize = (15, 5))\n",
    "plt.title('Относительное изменение кумулятивной конверсии группы B к группе A')\n",
    "\n",
    "mergedCumulativeConversions = cumulativeDataA[['date','conversion']].merge(\n",
    "    cumulativeDataB[['date','conversion']], left_on = 'date', right_on = 'date', how = 'left', suffixes = ['A', 'B']\n",
    ")\n",
    "\n",
    "plt.plot(mergedCumulativeConversions['date'], (mergedCumulativeConversions['conversionB'] \n",
    "                                              / mergedCumulativeConversions['conversionA'] - 1))\n",
    "\n",
    "plt.axhline(y=0, color='black', linestyle='--')\n",
    "plt.axhline(y=0.1, color='grey', linestyle='--')"
   ]
  },
  {
   "cell_type": "markdown",
   "metadata": {},
   "source": [
    "Из графика видно, что **группа В** практчески сразу вырвалась вперед по показателям конверсии.<br>\n",
    "В целом отношение конверсии ещё не установилось, и сейчас делать какие-либо выводы по тесту нельзя. Впрочем, сперва стоит проанализировать аномалии - возможно, они изменят картину."
   ]
  },
  {
   "cell_type": "markdown",
   "metadata": {},
   "source": [
    "### Количество заказов по пользователям"
   ]
  },
  {
   "cell_type": "code",
   "execution_count": 15,
   "metadata": {},
   "outputs": [
    {
     "data": {
      "text/html": [
       "<div>\n",
       "<style scoped>\n",
       "    .dataframe tbody tr th:only-of-type {\n",
       "        vertical-align: middle;\n",
       "    }\n",
       "\n",
       "    .dataframe tbody tr th {\n",
       "        vertical-align: top;\n",
       "    }\n",
       "\n",
       "    .dataframe thead th {\n",
       "        text-align: right;\n",
       "    }\n",
       "</style>\n",
       "<table border=\"1\" class=\"dataframe\">\n",
       "  <thead>\n",
       "    <tr style=\"text-align: right;\">\n",
       "      <th></th>\n",
       "      <th>user_id</th>\n",
       "      <th>orders</th>\n",
       "    </tr>\n",
       "  </thead>\n",
       "  <tbody>\n",
       "    <tr>\n",
       "      <td>1023</td>\n",
       "      <td>4256040402</td>\n",
       "      <td>11</td>\n",
       "    </tr>\n",
       "    <tr>\n",
       "      <td>591</td>\n",
       "      <td>2458001652</td>\n",
       "      <td>11</td>\n",
       "    </tr>\n",
       "    <tr>\n",
       "      <td>569</td>\n",
       "      <td>2378935119</td>\n",
       "      <td>9</td>\n",
       "    </tr>\n",
       "    <tr>\n",
       "      <td>487</td>\n",
       "      <td>2038680547</td>\n",
       "      <td>8</td>\n",
       "    </tr>\n",
       "    <tr>\n",
       "      <td>44</td>\n",
       "      <td>199603092</td>\n",
       "      <td>5</td>\n",
       "    </tr>\n",
       "  </tbody>\n",
       "</table>\n",
       "</div>"
      ],
      "text/plain": [
       "         user_id  orders\n",
       "1023  4256040402      11\n",
       "591   2458001652      11\n",
       "569   2378935119       9\n",
       "487   2038680547       8\n",
       "44     199603092       5"
      ]
     },
     "execution_count": 15,
     "metadata": {},
     "output_type": "execute_result"
    }
   ],
   "source": [
    "# Формируем таблицу с количеством заказов каждого пользователя\n",
    "ordersByUsers = (\n",
    "    orders.groupby('visitor_id', as_index=False)\n",
    "    .agg({'transaction_id': pd.Series.nunique})\n",
    ")\n",
    "\n",
    "ordersByUsers.columns = ['user_id', 'orders']\n",
    "\n",
    "ordersByUsers.sort_values(by='orders', ascending=False).head()"
   ]
  },
  {
   "cell_type": "code",
   "execution_count": 16,
   "metadata": {},
   "outputs": [
    {
     "data": {
      "text/plain": [
       "<matplotlib.lines.Line2D at 0x7f2fa455d250>"
      ]
     },
     "execution_count": 16,
     "metadata": {},
     "output_type": "execute_result"
    },
    {
     "data": {
      "image/png": "[encoded data removed]",
      "text/plain": [
       "<Figure size 720x360 with 1 Axes>"
      ]
     },
     "metadata": {
      "needs_background": "light"
     },
     "output_type": "display_data"
    }
   ],
   "source": [
    "plt.figure(figsize = (10, 5))\n",
    "plt.title('Количество заказов по пользователям')\n",
    "plt.ylabel('Количество заказов')\n",
    "\n",
    "x_values = pd.Series(range(0,len(ordersByUsers)))\n",
    "\n",
    "plt.scatter(x_values, ordersByUsers['orders'])\n",
    "plt.axhline(y=3, color='black', linestyle='--')"
   ]
  },
  {
   "cell_type": "markdown",
   "metadata": {},
   "source": [
    "Видим, что основная масса пользователей делает 1 заказ. Но много пользователей и с 2-3 заказами. Пока их точная доля не ясна — непонятно, считать их аномалиями или нет. Для определения посчитаем выборочные перцентили количества заказов на одного пользователя."
   ]
  },
  {
   "cell_type": "markdown",
   "metadata": {},
   "source": [
    "### Определение 95-й и 99-й перцентилей количества заказов на пользователя"
   ]
  },
  {
   "cell_type": "code",
   "execution_count": 17,
   "metadata": {},
   "outputs": [
    {
     "data": {
      "text/plain": [
       "array([2., 4.])"
      ]
     },
     "execution_count": 17,
     "metadata": {},
     "output_type": "execute_result"
    }
   ],
   "source": [
    "np.percentile(ordersByUsers['orders'], [95, 99])"
   ]
  },
  {
   "cell_type": "markdown",
   "metadata": {},
   "source": [
    "Не более **5%** пользователей оформляли более **двух** заказов, и не более **1%** пользователей оформляло более **четырех** заказов.<br>\n",
    "Разумно выбрать **три** заказа на одного пользователя за нижнюю границу числа заказов, и отсеять аномальных пользователей по ней."
   ]
  },
  {
   "cell_type": "markdown",
   "metadata": {},
   "source": [
    "### Cтоимость заказов"
   ]
  },
  {
   "cell_type": "code",
   "execution_count": 18,
   "metadata": {},
   "outputs": [
    {
     "data": {
      "text/plain": [
       "<matplotlib.lines.Line2D at 0x7f2fa44a6090>"
      ]
     },
     "execution_count": 18,
     "metadata": {},
     "output_type": "execute_result"
    },
    {
     "data": {
      "image/png": "[encoded data removed]",
      "text/plain": [
       "<Figure size 720x360 with 1 Axes>"
      ]
     },
     "metadata": {
      "needs_background": "light"
     },
     "output_type": "display_data"
    }
   ],
   "source": [
    "plt.figure(figsize = (10, 5))\n",
    "plt.title('Стоимости заказов')\n",
    "plt.ylabel('Стоимость')\n",
    "\n",
    "x_values = pd.Series(range(0,len(orders['revenue'])))\n",
    "\n",
    "plt.scatter(x_values, orders['revenue']) \n",
    "plt.axhline(y=50000, color='black', linestyle='--')"
   ]
  },
  {
   "cell_type": "markdown",
   "metadata": {},
   "source": [
    "Видим, что основная масса заказов находится в пределах **50000 рублей**. Но есть Значения, которые значительно больше этого показателя. Посчитаем процентили и определим границу аномалий."
   ]
  },
  {
   "cell_type": "markdown",
   "metadata": {},
   "source": [
    "### Определение 95-й и 99-й перцентилей стоимости заказов"
   ]
  },
  {
   "cell_type": "code",
   "execution_count": 19,
   "metadata": {},
   "outputs": [
    {
     "data": {
      "text/plain": [
       "array([28000. , 58233.2])"
      ]
     },
     "execution_count": 19,
     "metadata": {},
     "output_type": "execute_result"
    }
   ],
   "source": [
    "np.percentile(orders['revenue'], [95, 99])"
   ]
  },
  {
   "cell_type": "markdown",
   "metadata": {},
   "source": [
    "Не более **5%** заказов стоят дороже **28000** рублей, и не более **1%** заказов дороже **58233** рублей.<br>\n",
    "Разумно выбрать стоимость заказа в **30000** рублей за нижнюю границу стоимости, и отсеять аномальные заказы по ней."
   ]
  },
  {
   "cell_type": "markdown",
   "metadata": {},
   "source": [
    "### Различия в \"сырой\" конверсии"
   ]
  },
  {
   "cell_type": "markdown",
   "metadata": {},
   "source": [
    "Посчитаем статистическую значимость различий в конверсии между группами по «сырым» данным. Обозначим гипотезы:\n",
    "* H0: Конверсии в группах А и В равны.\n",
    "* Н1: Конверсии в группах А и В отличаются.\n",
    "\n",
    "Здесь и далее принимаем критерий значимости равным 5%."
   ]
  },
  {
   "cell_type": "code",
   "execution_count": 20,
   "metadata": {
    "scrolled": false
   },
   "outputs": [
    {
     "name": "stdout",
     "output_type": "stream",
     "text": [
      "Результат теста: p-value = 0.0084\n",
      "Отвергаем нулевую гипотезу.\n",
      "Относительный прирост конверсии группы B: 13.81%\n"
     ]
    }
   ],
   "source": [
    "ordersByUsersA = (\n",
    "    orders[orders['group'] == 'A']\n",
    "    .groupby('visitor_id', as_index=False)\n",
    "    .agg({'transaction_id': pd.Series.nunique})\n",
    ")\n",
    "ordersByUsersA.columns = ['user_id', 'orders']\n",
    "\n",
    "visitorsADaily = visitors[visitors['group'] == 'A'][['date', 'visitors']]\n",
    "visitorsADaily.columns = ['date', 'visitorsPerDateA']\n",
    "\n",
    "ordersByUsersB = (\n",
    "    orders[orders['group'] == 'B']\n",
    "    .groupby('visitor_id', as_index=False)\n",
    "    .agg({'transaction_id': pd.Series.nunique})\n",
    ")\n",
    "ordersByUsersB.columns = ['user_id', 'orders']\n",
    "\n",
    "visitorsBDaily = visitors[visitors['group'] == 'B'][['date', 'visitors']]\n",
    "visitorsBDaily.columns = ['date', 'visitorsPerDateB']\n",
    "\n",
    "# Создаем выборку пользователей из группы А\n",
    "sampleA = pd.concat(\n",
    "    [\n",
    "        ordersByUsersA['orders'],\n",
    "        pd.Series(\n",
    "            0,\n",
    "            index=np.arange(\n",
    "                visitorsADaily['visitorsPerDateA'].sum() - len(ordersByUsersA['orders'])\n",
    "            ),\n",
    "            name='orders',\n",
    "        ),\n",
    "    ],\n",
    "    axis=0,\n",
    ")\n",
    "\n",
    "# Создаем выборку пользователей из группы В\n",
    "sampleB = pd.concat(\n",
    "    [\n",
    "        ordersByUsersB['orders'],\n",
    "        pd.Series(\n",
    "            0,\n",
    "            index=np.arange(\n",
    "                visitorsBDaily['visitorsPerDateB'].sum() - len(ordersByUsersB['orders'])\n",
    "            ),\n",
    "            name='orders',\n",
    "        ),\n",
    "    ],\n",
    "    axis=0,\n",
    ")\n",
    "\n",
    "alpha = 0.05\n",
    "p_value = stats.mannwhitneyu(sampleA, sampleB)[1]\n",
    "\n",
    "print(f'Результат теста: p-value = {\"{0:.4f}\".format(p_value)}')\n",
    "if (p_value < alpha):\n",
    "    print(\"Отвергаем нулевую гипотезу.\")\n",
    "else:\n",
    "    print(\"Не получилось отвергнуть нулевую гипотезу.\")\n",
    "    \n",
    "print(f'Относительный прирост конверсии группы B: {\"{0:.2f}\".format((sampleB.mean() / sampleA.mean() - 1) * 100)}%')"
   ]
  },
  {
   "cell_type": "markdown",
   "metadata": {},
   "source": [
    "P-value значительно меньше 0.05, потому нулевую гипотезу отвергаем. Анализ \"сырых\" данных сообщает, что в конверсии между группами есть статистически значимые различия. Относительный прирост конверсии группы B к конверсии группы A равен **13.81%**."
   ]
  },
  {
   "cell_type": "markdown",
   "metadata": {},
   "source": [
    "### Различия в \"сыром\" среднем чеке"
   ]
  },
  {
   "cell_type": "markdown",
   "metadata": {},
   "source": [
    "Посчитаем статистическую значимость различий суммы среднего чека между группами по «сырым» данным. Обозначим гипотезы:\n",
    "* H0: Суммы среднего чека в группах А и В равны.\n",
    "* Н1: Суммы среднего чека в группах А и В отличаются."
   ]
  },
  {
   "cell_type": "code",
   "execution_count": 21,
   "metadata": {
    "scrolled": true
   },
   "outputs": [
    {
     "name": "stdout",
     "output_type": "stream",
     "text": [
      "Результат теста: p-value = 0.3646\n",
      "Не получилось отвергнуть нулевую гипотезу.\n",
      "Относительное увеличение среднего чека группы B: 25.87%\n"
     ]
    }
   ],
   "source": [
    "p_value = stats.mannwhitneyu(\n",
    "    orders[orders['group']=='A']['revenue'],\n",
    "    orders[orders['group']=='B']['revenue']\n",
    ")[1]\n",
    "\n",
    "print(f'Результат теста: p-value = {\"{0:.4f}\".format(p_value)}')\n",
    "if (p_value < alpha):\n",
    "    print(\"Отвергаем нулевую гипотезу.\")\n",
    "else:\n",
    "    print(\"Не получилось отвергнуть нулевую гипотезу.\")\n",
    "\n",
    "print(f\"Относительное увеличение среднего чека группы B: {'{0:.2f}'.format((orders[orders['group'] == 'B']['revenue'].mean() / orders[orders['group'] == 'A']['revenue'].mean() - 1) * 100)}%\")"
   ]
  },
  {
   "cell_type": "markdown",
   "metadata": {},
   "source": [
    "P-value значительно больше 0.05. Значит, причин отвергать нулевую гипотезу и считать, что в среднем чеке есть различия, нет. Впрочем, средний чек группы B значительно выше среднего чека группы A."
   ]
  },
  {
   "cell_type": "markdown",
   "metadata": {},
   "source": [
    "### Выделение аномальных пользователей"
   ]
  },
  {
   "cell_type": "code",
   "execution_count": 22,
   "metadata": {},
   "outputs": [
    {
     "name": "stdout",
     "output_type": "stream",
     "text": [
      "Количество аномальных пользователей: 57.\n"
     ]
    }
   ],
   "source": [
    "# Выделяем пользователей с количеством заказов больше 3\n",
    "usersWithManyOrders = pd.concat(\n",
    "    [\n",
    "        ordersByUsersA[ordersByUsersA['orders'] > 3]['user_id'],\n",
    "        ordersByUsersB[ordersByUsersB['orders'] > 3]['user_id'],\n",
    "    ],\n",
    "    axis=0,\n",
    ")\n",
    "\n",
    "# Выделяем пользователей с заказами стоимостью более 30000 рублей\n",
    "usersWithExpensiveOrders = orders[orders['revenue'] > 30000]['visitor_id']\n",
    "\n",
    "# Соединяем аномальных пользователей в таблицу\n",
    "abnormalUsers = (\n",
    "    pd.concat([usersWithManyOrders, usersWithExpensiveOrders], axis=0)\n",
    "    .drop_duplicates()\n",
    "    .sort_values()\n",
    ")\n",
    "\n",
    "print(f'Количество аномальных пользователей: {abnormalUsers.shape[0]}.')"
   ]
  },
  {
   "cell_type": "markdown",
   "metadata": {},
   "source": [
    "По указанным критериям было отобрано 57 пользователей, что составляет около 5% от общего числа. Узнаем, как их действия повлияли на результаты теста."
   ]
  },
  {
   "cell_type": "markdown",
   "metadata": {},
   "source": [
    "### Различия в \"чистой\" конверсии"
   ]
  },
  {
   "cell_type": "markdown",
   "metadata": {},
   "source": [
    "Посчитаем статистическую значимость различий в конверсии между группами по «очищенным» данным. Обозначим гипотезы:\n",
    "* H0: Конверсии в очищенных группах А и В равны.\n",
    "* Н1: Конверсии в очищенных группах А и В отличаются."
   ]
  },
  {
   "cell_type": "code",
   "execution_count": 23,
   "metadata": {},
   "outputs": [
    {
     "name": "stdout",
     "output_type": "stream",
     "text": [
      "Результат теста: p-value = 0.0092\n",
      "Отвергаем нулевую гипотезу.\n",
      "Относительный прирост конверсии очищенной группы B: 14.75%\n"
     ]
    }
   ],
   "source": [
    "# Создаем очищенную выборку пользователей из группы А\n",
    "sampleAFiltered = pd.concat(\n",
    "    [\n",
    "        ordersByUsersA[\n",
    "            np.logical_not(ordersByUsersA['user_id'].isin(abnormalUsers))\n",
    "        ]['orders'],\n",
    "        pd.Series(\n",
    "            0,\n",
    "            index=np.arange(\n",
    "                visitorsADaily['visitorsPerDateA'].sum() - len(ordersByUsersA['orders'])\n",
    "            ),\n",
    "            name='orders',\n",
    "        ),\n",
    "    ],\n",
    "    axis=0,\n",
    ")\n",
    "\n",
    "# Создаем очищенную выборку пользователей из группы В\n",
    "sampleBFiltered = pd.concat(\n",
    "    [\n",
    "        ordersByUsersB[\n",
    "            np.logical_not(ordersByUsersB['user_id'].isin(abnormalUsers))\n",
    "        ]['orders'],\n",
    "        pd.Series(\n",
    "            0,\n",
    "            index=np.arange(\n",
    "                visitorsBDaily['visitorsPerDateB'].sum() - len(ordersByUsersB['orders'])\n",
    "            ),\n",
    "            name='orders',\n",
    "        ),\n",
    "    ],\n",
    "    axis=0,\n",
    ")\n",
    "\n",
    "p_value = stats.mannwhitneyu(sampleAFiltered, sampleBFiltered)[1]\n",
    "\n",
    "print(f'Результат теста: p-value = {\"{0:.4f}\".format(p_value)}')\n",
    "if (p_value < alpha):\n",
    "    print(\"Отвергаем нулевую гипотезу.\")\n",
    "else:\n",
    "    print(\"Не получилось отвергнуть нулевую гипотезу.\")\n",
    "    \n",
    "print(f'Относительный прирост конверсии очищенной группы B: {\"{0:.2f}\".format((sampleBFiltered.mean() / sampleAFiltered.mean() - 1) * 100)}%')"
   ]
  },
  {
   "cell_type": "markdown",
   "metadata": {},
   "source": [
    "Результаты по конверсии практически не изменились - гипотеза о равенстве конверсий в группах по прежнему отвергается.<br>\n",
    "Процент относительного прироста конверсии очищенной группы B увеличился почти на **1%**."
   ]
  },
  {
   "cell_type": "markdown",
   "metadata": {},
   "source": [
    "### Различия в \"чистом\" среднем чеке"
   ]
  },
  {
   "cell_type": "markdown",
   "metadata": {},
   "source": [
    "Посчитаем статистическую значимость различий суммы среднего чека между группами по «очищенным» данным. Обозначим гипотезы:\n",
    "\n",
    "* H0: Суммы среднего чека в группах А и В равны.\n",
    "* Н1: Суммы среднего чека в группах А и В отличаются."
   ]
  },
  {
   "cell_type": "code",
   "execution_count": 24,
   "metadata": {},
   "outputs": [
    {
     "name": "stdout",
     "output_type": "stream",
     "text": [
      "Результат теста: p-value = 0.4792\n",
      "Не получилось отвергнуть нулевую гипотезу.\n",
      "Относительный прирост конверсии очищенной группы B: -1.97%\n"
     ]
    }
   ],
   "source": [
    "p_value = stats.mannwhitneyu(\n",
    "            orders[\n",
    "                np.logical_and(\n",
    "                    orders['group'] == 'A',\n",
    "                    np.logical_not(orders['visitor_id'].isin(abnormalUsers)),\n",
    "                )\n",
    "            ]['revenue'],\n",
    "            orders[\n",
    "                np.logical_and(\n",
    "                    orders['group'] == 'B',\n",
    "                    np.logical_not(orders['visitor_id'].isin(abnormalUsers)),\n",
    "                )\n",
    "            ]['revenue'],\n",
    "          )[1]\n",
    "\n",
    "delta = (orders[\n",
    "            np.logical_and(\n",
    "                orders['group'] == 'B',\n",
    "                np.logical_not(orders['visitor_id'].isin(abnormalUsers)),\n",
    "            )\n",
    "        ]['revenue'].mean()\n",
    "        / orders[\n",
    "            np.logical_and(\n",
    "                orders['group'] == 'A',\n",
    "                np.logical_not(orders['visitor_id'].isin(abnormalUsers)),\n",
    "            )\n",
    "        ]['revenue'].mean()\n",
    "        - 1) * 100\n",
    "\n",
    "print(f'Результат теста: p-value = {\"{0:.4f}\".format(p_value)}')\n",
    "if (p_value < alpha):\n",
    "    print(\"Отвергаем нулевую гипотезу.\")\n",
    "else:\n",
    "    print(\"Не получилось отвергнуть нулевую гипотезу.\")\n",
    "    \n",
    "print(f'Относительный прирост конверсии очищенной группы B: {\"{0:.2f}\".format(delta)}%')"
   ]
  },
  {
   "cell_type": "markdown",
   "metadata": {},
   "source": [
    "P-value увеличился, но и разница между сегментами значительно сократилась с **25.87%** до **-1.97%**."
   ]
  },
  {
   "cell_type": "markdown",
   "metadata": {},
   "source": [
    "### Решение по результатам теста"
   ]
  },
  {
   "cell_type": "markdown",
   "metadata": {},
   "source": [
    "Имеющиеся факты:\n",
    "* Есть статистически значимое различие по конверсии между группами и по «сырым», и по данным после фильтрации аномалий.\n",
    "* Нет статистически значимого различия по среднему чеку между группами ни по «сырым», ни по данным после фильтрации аномалий.\n",
    "* График различия среднего чека говорит о том, что результаты группы B лучше результатов группы А, но имеют тенденцию к ухудшению.\n",
    "* График различия конверсии между группами сообщает, что результаты группы B также лучше результатов группы A и нет значительной тенденции к улучшению.\n",
    "\n",
    "Исходя из обнаруженных фактов, на текущем этапе **следует прекратить тест** и зафиксировать **победу группы В**."
   ]
  }
 ],
 "metadata": {
  "ExecuteTimeLog": [
   {
    "duration": 842,
    "start_time": "2022-02-22T04:32:55.361Z"
   },
   {
    "duration": 37,
    "start_time": "2022-02-22T04:33:27.356Z"
   },
   {
    "duration": 64,
    "start_time": "2022-02-22T04:34:13.409Z"
   },
   {
    "duration": 9,
    "start_time": "2022-02-22T04:37:42.568Z"
   },
   {
    "duration": 325,
    "start_time": "2022-02-22T04:38:18.214Z"
   },
   {
    "duration": 226,
    "start_time": "2022-02-22T04:38:24.672Z"
   },
   {
    "duration": 254,
    "start_time": "2022-02-22T04:38:30.355Z"
   },
   {
    "duration": 3,
    "start_time": "2022-02-22T04:38:35.435Z"
   },
   {
    "duration": 238,
    "start_time": "2022-02-22T04:38:40.485Z"
   },
   {
    "duration": 714,
    "start_time": "2022-02-22T04:38:55.022Z"
   },
   {
    "duration": 43,
    "start_time": "2022-02-22T04:38:55.739Z"
   },
   {
    "duration": 12,
    "start_time": "2022-02-22T04:38:55.785Z"
   },
   {
    "duration": 11,
    "start_time": "2022-02-22T04:38:55.800Z"
   },
   {
    "duration": 321,
    "start_time": "2022-02-22T04:40:42.322Z"
   },
   {
    "duration": 4,
    "start_time": "2022-02-22T04:40:49.697Z"
   },
   {
    "duration": 9,
    "start_time": "2022-02-22T04:40:51.387Z"
   },
   {
    "duration": 230,
    "start_time": "2022-02-22T04:42:47.033Z"
   },
   {
    "duration": 20,
    "start_time": "2022-02-22T04:42:56.087Z"
   },
   {
    "duration": 4,
    "start_time": "2022-02-22T04:43:57.465Z"
   },
   {
    "duration": 742,
    "start_time": "2022-02-22T04:44:02.001Z"
   },
   {
    "duration": 50,
    "start_time": "2022-02-22T04:44:02.747Z"
   },
   {
    "duration": 5,
    "start_time": "2022-02-22T04:44:02.801Z"
   },
   {
    "duration": 14,
    "start_time": "2022-02-22T04:44:02.809Z"
   },
   {
    "duration": 33,
    "start_time": "2022-02-22T04:44:02.825Z"
   },
   {
    "duration": 340,
    "start_time": "2022-02-22T04:45:42.832Z"
   },
   {
    "duration": 15,
    "start_time": "2022-02-22T04:45:53.474Z"
   },
   {
    "duration": 330,
    "start_time": "2022-02-22T13:33:37.734Z"
   },
   {
    "duration": 777,
    "start_time": "2022-02-22T13:33:43.658Z"
   },
   {
    "duration": 93,
    "start_time": "2022-02-22T13:33:44.438Z"
   },
   {
    "duration": -761,
    "start_time": "2022-02-22T13:33:45.295Z"
   },
   {
    "duration": -762,
    "start_time": "2022-02-22T13:33:45.298Z"
   },
   {
    "duration": -764,
    "start_time": "2022-02-22T13:33:45.302Z"
   },
   {
    "duration": -764,
    "start_time": "2022-02-22T13:33:45.304Z"
   },
   {
    "duration": -794,
    "start_time": "2022-02-22T13:33:45.335Z"
   },
   {
    "duration": -796,
    "start_time": "2022-02-22T13:33:45.338Z"
   },
   {
    "duration": 3,
    "start_time": "2022-02-22T13:33:56.731Z"
   },
   {
    "duration": 57,
    "start_time": "2022-02-22T13:33:57.227Z"
   },
   {
    "duration": 4,
    "start_time": "2022-02-22T13:33:57.807Z"
   },
   {
    "duration": 11,
    "start_time": "2022-02-22T13:33:58.576Z"
   },
   {
    "duration": 12,
    "start_time": "2022-02-22T13:33:58.807Z"
   },
   {
    "duration": 8,
    "start_time": "2022-02-22T13:34:10.915Z"
   },
   {
    "duration": 4,
    "start_time": "2022-02-22T13:37:17.444Z"
   },
   {
    "duration": 827,
    "start_time": "2022-02-22T13:37:31.053Z"
   },
   {
    "duration": 3,
    "start_time": "2022-02-22T13:38:16.404Z"
   },
   {
    "duration": 4,
    "start_time": "2022-02-22T13:38:27.724Z"
   },
   {
    "duration": 683,
    "start_time": "2022-02-22T13:38:29.878Z"
   },
   {
    "duration": 4,
    "start_time": "2022-02-22T13:38:40.509Z"
   },
   {
    "duration": 12,
    "start_time": "2022-02-22T13:38:42.469Z"
   },
   {
    "duration": 4,
    "start_time": "2022-02-22T13:40:12.414Z"
   },
   {
    "duration": 14,
    "start_time": "2022-02-22T13:40:23.319Z"
   },
   {
    "duration": 4,
    "start_time": "2022-02-22T13:42:11.019Z"
   },
   {
    "duration": 50,
    "start_time": "2022-02-22T13:42:12.292Z"
   },
   {
    "duration": 16,
    "start_time": "2022-02-22T13:42:12.554Z"
   },
   {
    "duration": 757,
    "start_time": "2022-02-22T13:42:18.759Z"
   },
   {
    "duration": 6,
    "start_time": "2022-02-22T13:42:19.519Z"
   },
   {
    "duration": 47,
    "start_time": "2022-02-22T13:42:19.529Z"
   },
   {
    "duration": 16,
    "start_time": "2022-02-22T13:42:19.579Z"
   },
   {
    "duration": 26,
    "start_time": "2022-02-22T13:42:19.598Z"
   },
   {
    "duration": 39,
    "start_time": "2022-02-22T13:42:19.627Z"
   },
   {
    "duration": 17,
    "start_time": "2022-02-22T13:52:09.434Z"
   },
   {
    "duration": 14,
    "start_time": "2022-02-22T15:08:12.029Z"
   },
   {
    "duration": 339,
    "start_time": "2022-02-22T18:49:00.810Z"
   },
   {
    "duration": 829,
    "start_time": "2022-02-22T18:49:06.324Z"
   },
   {
    "duration": 5,
    "start_time": "2022-02-22T18:49:07.156Z"
   },
   {
    "duration": 46,
    "start_time": "2022-02-22T18:49:07.164Z"
   },
   {
    "duration": 18,
    "start_time": "2022-02-22T18:49:07.213Z"
   },
   {
    "duration": 24,
    "start_time": "2022-02-22T18:49:07.234Z"
   },
   {
    "duration": 13,
    "start_time": "2022-02-22T18:49:07.261Z"
   },
   {
    "duration": 63,
    "start_time": "2022-02-22T18:49:07.276Z"
   },
   {
    "duration": 393,
    "start_time": "2022-02-22T18:49:07.342Z"
   },
   {
    "duration": -1760,
    "start_time": "2022-02-22T18:49:09.498Z"
   },
   {
    "duration": 10,
    "start_time": "2022-02-22T18:49:15.018Z"
   },
   {
    "duration": 9,
    "start_time": "2022-02-22T18:49:55.152Z"
   },
   {
    "duration": 18,
    "start_time": "2022-02-22T18:52:13.584Z"
   },
   {
    "duration": 256,
    "start_time": "2022-02-22T18:54:10.686Z"
   },
   {
    "duration": 9,
    "start_time": "2022-02-22T18:54:15.444Z"
   },
   {
    "duration": 338,
    "start_time": "2022-02-22T18:56:19.194Z"
   },
   {
    "duration": 17,
    "start_time": "2022-02-22T18:57:11.199Z"
   },
   {
    "duration": 14,
    "start_time": "2022-02-22T19:03:57.923Z"
   },
   {
    "duration": 20,
    "start_time": "2022-02-22T19:04:07.602Z"
   },
   {
    "duration": 86,
    "start_time": "2022-02-22T19:04:58.980Z"
   },
   {
    "duration": 95,
    "start_time": "2022-02-22T19:05:06.546Z"
   },
   {
    "duration": 18,
    "start_time": "2022-02-22T19:05:30.917Z"
   },
   {
    "duration": 77,
    "start_time": "2022-02-22T19:05:36.748Z"
   },
   {
    "duration": 20,
    "start_time": "2022-02-22T19:05:41.806Z"
   },
   {
    "duration": 17,
    "start_time": "2022-02-22T19:05:55.705Z"
   },
   {
    "duration": 27,
    "start_time": "2022-02-22T19:06:05.284Z"
   },
   {
    "duration": 5,
    "start_time": "2022-02-22T19:14:06.252Z"
   },
   {
    "duration": 41,
    "start_time": "2022-02-22T19:14:07.052Z"
   },
   {
    "duration": 14,
    "start_time": "2022-02-22T19:14:07.798Z"
   },
   {
    "duration": 6,
    "start_time": "2022-02-22T19:14:15.389Z"
   },
   {
    "duration": 39,
    "start_time": "2022-02-22T19:14:16.232Z"
   },
   {
    "duration": 24,
    "start_time": "2022-02-22T19:14:16.829Z"
   },
   {
    "duration": 24,
    "start_time": "2022-02-22T19:14:37.965Z"
   },
   {
    "duration": 22,
    "start_time": "2022-02-22T19:14:41.245Z"
   },
   {
    "duration": 1143,
    "start_time": "2022-02-22T19:15:02.791Z"
   },
   {
    "duration": 6,
    "start_time": "2022-02-22T19:15:03.938Z"
   },
   {
    "duration": 60,
    "start_time": "2022-02-22T19:15:03.947Z"
   },
   {
    "duration": 35,
    "start_time": "2022-02-22T19:15:04.011Z"
   },
   {
    "duration": 23,
    "start_time": "2022-02-22T19:15:04.048Z"
   },
   {
    "duration": 52,
    "start_time": "2022-02-22T19:15:04.074Z"
   },
   {
    "duration": 23,
    "start_time": "2022-02-22T19:15:04.128Z"
   },
   {
    "duration": 19,
    "start_time": "2022-02-22T19:15:04.156Z"
   },
   {
    "duration": 52,
    "start_time": "2022-02-22T19:15:04.178Z"
   },
   {
    "duration": 35,
    "start_time": "2022-02-22T19:15:54.753Z"
   },
   {
    "duration": 26,
    "start_time": "2022-02-22T19:16:00.824Z"
   },
   {
    "duration": 4,
    "start_time": "2022-02-22T19:16:04.478Z"
   },
   {
    "duration": 26,
    "start_time": "2022-02-22T19:16:06.285Z"
   },
   {
    "duration": 5,
    "start_time": "2022-02-22T19:18:37.387Z"
   },
   {
    "duration": 47,
    "start_time": "2022-02-22T19:18:38.787Z"
   },
   {
    "duration": 28,
    "start_time": "2022-02-22T19:18:39.431Z"
   },
   {
    "duration": 810,
    "start_time": "2022-02-22T19:18:45.496Z"
   },
   {
    "duration": 6,
    "start_time": "2022-02-22T19:18:46.309Z"
   },
   {
    "duration": 42,
    "start_time": "2022-02-22T19:18:46.326Z"
   },
   {
    "duration": 32,
    "start_time": "2022-02-22T19:18:46.370Z"
   },
   {
    "duration": 32,
    "start_time": "2022-02-22T19:18:46.405Z"
   },
   {
    "duration": 19,
    "start_time": "2022-02-22T19:18:46.439Z"
   },
   {
    "duration": 23,
    "start_time": "2022-02-22T19:18:46.461Z"
   },
   {
    "duration": 58,
    "start_time": "2022-02-22T19:18:46.487Z"
   },
   {
    "duration": 1785,
    "start_time": "2022-02-22T19:36:22.302Z"
   },
   {
    "duration": 4,
    "start_time": "2022-02-22T19:36:46.079Z"
   },
   {
    "duration": 1177,
    "start_time": "2022-02-22T19:36:49.701Z"
   },
   {
    "duration": 40,
    "start_time": "2022-02-22T19:37:22.799Z"
   },
   {
    "duration": 1073,
    "start_time": "2022-02-22T19:37:35.856Z"
   },
   {
    "duration": 760,
    "start_time": "2022-02-22T19:37:45.538Z"
   },
   {
    "duration": 6,
    "start_time": "2022-02-22T19:37:46.300Z"
   },
   {
    "duration": 47,
    "start_time": "2022-02-22T19:37:46.309Z"
   },
   {
    "duration": 33,
    "start_time": "2022-02-22T19:37:46.359Z"
   },
   {
    "duration": 50,
    "start_time": "2022-02-22T19:37:46.395Z"
   },
   {
    "duration": 20,
    "start_time": "2022-02-22T19:37:46.447Z"
   },
   {
    "duration": 24,
    "start_time": "2022-02-22T19:37:46.470Z"
   },
   {
    "duration": 20,
    "start_time": "2022-02-22T19:37:46.527Z"
   },
   {
    "duration": 23,
    "start_time": "2022-02-22T19:38:07.816Z"
   },
   {
    "duration": 6,
    "start_time": "2022-02-22T19:45:41.587Z"
   },
   {
    "duration": 117,
    "start_time": "2022-02-22T19:46:15.803Z"
   },
   {
    "duration": 6912,
    "start_time": "2022-02-22T19:49:06.402Z"
   },
   {
    "duration": 5,
    "start_time": "2022-02-22T19:49:38.570Z"
   },
   {
    "duration": 6763,
    "start_time": "2022-02-22T19:51:08.887Z"
   },
   {
    "duration": 9,
    "start_time": "2022-02-22T19:55:52.935Z"
   },
   {
    "duration": 6193,
    "start_time": "2022-02-22T19:56:03.795Z"
   },
   {
    "duration": 220,
    "start_time": "2022-02-23T13:12:25.731Z"
   },
   {
    "duration": 620,
    "start_time": "2022-02-23T13:12:30.685Z"
   },
   {
    "duration": 3,
    "start_time": "2022-02-23T13:12:31.306Z"
   },
   {
    "duration": 47,
    "start_time": "2022-02-23T13:12:31.312Z"
   },
   {
    "duration": 17,
    "start_time": "2022-02-23T13:12:31.360Z"
   },
   {
    "duration": 24,
    "start_time": "2022-02-23T13:12:31.379Z"
   },
   {
    "duration": 15,
    "start_time": "2022-02-23T13:12:31.405Z"
   },
   {
    "duration": 12,
    "start_time": "2022-02-23T13:12:31.421Z"
   },
   {
    "duration": 11,
    "start_time": "2022-02-23T13:12:31.435Z"
   },
   {
    "duration": 11,
    "start_time": "2022-02-23T13:12:31.448Z"
   },
   {
    "duration": 4461,
    "start_time": "2022-02-23T13:12:31.461Z"
   },
   {
    "duration": -2019,
    "start_time": "2022-02-23T13:12:37.943Z"
   },
   {
    "duration": -2019,
    "start_time": "2022-02-23T13:12:37.945Z"
   },
   {
    "duration": 8,
    "start_time": "2022-02-23T13:13:50.172Z"
   },
   {
    "duration": 355,
    "start_time": "2022-02-23T13:13:59.435Z"
   },
   {
    "duration": 364,
    "start_time": "2022-02-23T13:15:37.199Z"
   },
   {
    "duration": 383,
    "start_time": "2022-02-23T13:15:42.972Z"
   },
   {
    "duration": 3,
    "start_time": "2022-02-23T13:20:09.746Z"
   },
   {
    "duration": 711,
    "start_time": "2022-02-23T13:20:20.268Z"
   },
   {
    "duration": 3,
    "start_time": "2022-02-23T13:20:20.981Z"
   },
   {
    "duration": 62,
    "start_time": "2022-02-23T13:20:20.986Z"
   },
   {
    "duration": 30,
    "start_time": "2022-02-23T13:20:21.050Z"
   },
   {
    "duration": 51,
    "start_time": "2022-02-23T13:20:21.082Z"
   },
   {
    "duration": 17,
    "start_time": "2022-02-23T13:20:21.134Z"
   },
   {
    "duration": 22,
    "start_time": "2022-02-23T13:20:21.153Z"
   },
   {
    "duration": 32,
    "start_time": "2022-02-23T13:20:21.178Z"
   },
   {
    "duration": 368,
    "start_time": "2022-02-23T13:20:21.220Z"
   },
   {
    "duration": 251,
    "start_time": "2022-02-23T13:20:21.590Z"
   },
   {
    "duration": 416,
    "start_time": "2022-02-23T13:21:06.265Z"
   },
   {
    "duration": 363,
    "start_time": "2022-02-23T13:21:18.541Z"
   },
   {
    "duration": 306,
    "start_time": "2022-02-23T13:22:06.140Z"
   },
   {
    "duration": 276,
    "start_time": "2022-02-23T13:22:12.914Z"
   },
   {
    "duration": 182,
    "start_time": "2022-02-23T13:22:58.540Z"
   },
   {
    "duration": 449,
    "start_time": "2022-02-23T13:23:12.649Z"
   },
   {
    "duration": 295,
    "start_time": "2022-02-23T13:23:19.795Z"
   },
   {
    "duration": 267,
    "start_time": "2022-02-23T13:25:51.242Z"
   },
   {
    "duration": 284,
    "start_time": "2022-02-23T13:26:10.349Z"
   },
   {
    "duration": 289,
    "start_time": "2022-02-23T13:26:37.716Z"
   },
   {
    "duration": 365,
    "start_time": "2022-02-23T13:27:45.050Z"
   },
   {
    "duration": 354,
    "start_time": "2022-02-23T13:41:40.869Z"
   },
   {
    "duration": 295,
    "start_time": "2022-02-23T13:41:49.912Z"
   },
   {
    "duration": 365,
    "start_time": "2022-02-23T13:42:03.668Z"
   },
   {
    "duration": 290,
    "start_time": "2022-02-23T13:43:27.549Z"
   },
   {
    "duration": 689,
    "start_time": "2022-02-23T13:51:23.421Z"
   },
   {
    "duration": 8,
    "start_time": "2022-02-23T13:51:24.112Z"
   },
   {
    "duration": 72,
    "start_time": "2022-02-23T13:51:24.123Z"
   },
   {
    "duration": 24,
    "start_time": "2022-02-23T13:51:24.197Z"
   },
   {
    "duration": 33,
    "start_time": "2022-02-23T13:51:24.223Z"
   },
   {
    "duration": 16,
    "start_time": "2022-02-23T13:51:24.259Z"
   },
   {
    "duration": 44,
    "start_time": "2022-02-23T13:51:24.278Z"
   },
   {
    "duration": 18,
    "start_time": "2022-02-23T13:51:24.326Z"
   },
   {
    "duration": 409,
    "start_time": "2022-02-23T13:51:24.346Z"
   },
   {
    "duration": 313,
    "start_time": "2022-02-23T13:51:24.757Z"
   },
   {
    "duration": 287,
    "start_time": "2022-02-23T13:51:25.072Z"
   },
   {
    "duration": 291,
    "start_time": "2022-02-23T13:57:29.371Z"
   },
   {
    "duration": 428,
    "start_time": "2022-02-23T13:57:40.180Z"
   },
   {
    "duration": 279,
    "start_time": "2022-02-23T13:58:34.154Z"
   },
   {
    "duration": 286,
    "start_time": "2022-02-23T13:58:36.592Z"
   },
   {
    "duration": 415,
    "start_time": "2022-02-23T13:59:11.420Z"
   },
   {
    "duration": 334,
    "start_time": "2022-02-23T14:02:23.168Z"
   },
   {
    "duration": 287,
    "start_time": "2022-02-23T14:10:06.665Z"
   },
   {
    "duration": 387,
    "start_time": "2022-02-23T14:24:14.545Z"
   },
   {
    "duration": 405,
    "start_time": "2022-02-23T14:24:27.666Z"
   },
   {
    "duration": 443,
    "start_time": "2022-02-23T14:25:20.504Z"
   },
   {
    "duration": 399,
    "start_time": "2022-02-23T14:26:07.306Z"
   },
   {
    "duration": 378,
    "start_time": "2022-02-23T14:26:14.656Z"
   },
   {
    "duration": 435,
    "start_time": "2022-02-23T14:26:41.086Z"
   },
   {
    "duration": 240,
    "start_time": "2022-02-23T14:38:52.474Z"
   },
   {
    "duration": 124,
    "start_time": "2022-02-23T14:40:35.349Z"
   },
   {
    "duration": 139,
    "start_time": "2022-02-23T14:41:05.263Z"
   },
   {
    "duration": 329,
    "start_time": "2022-02-23T14:41:20.720Z"
   },
   {
    "duration": 132,
    "start_time": "2022-02-23T14:42:22.421Z"
   },
   {
    "duration": 119,
    "start_time": "2022-02-23T14:42:25.431Z"
   },
   {
    "duration": 123,
    "start_time": "2022-02-23T14:42:33.165Z"
   },
   {
    "duration": 124,
    "start_time": "2022-02-23T14:43:45.071Z"
   },
   {
    "duration": 801,
    "start_time": "2022-02-23T14:45:07.348Z"
   },
   {
    "duration": 687,
    "start_time": "2022-02-23T14:45:18.332Z"
   },
   {
    "duration": 4,
    "start_time": "2022-02-23T14:45:19.022Z"
   },
   {
    "duration": 41,
    "start_time": "2022-02-23T14:45:19.028Z"
   },
   {
    "duration": 20,
    "start_time": "2022-02-23T14:45:19.072Z"
   },
   {
    "duration": 34,
    "start_time": "2022-02-23T14:45:19.094Z"
   },
   {
    "duration": 15,
    "start_time": "2022-02-23T14:45:19.131Z"
   },
   {
    "duration": 17,
    "start_time": "2022-02-23T14:45:19.149Z"
   },
   {
    "duration": 15,
    "start_time": "2022-02-23T14:45:19.168Z"
   },
   {
    "duration": 390,
    "start_time": "2022-02-23T14:45:19.221Z"
   },
   {
    "duration": 319,
    "start_time": "2022-02-23T14:45:19.618Z"
   },
   {
    "duration": 295,
    "start_time": "2022-02-23T14:45:19.939Z"
   },
   {
    "duration": 451,
    "start_time": "2022-02-23T14:45:20.237Z"
   },
   {
    "duration": 371,
    "start_time": "2022-02-23T14:45:20.690Z"
   },
   {
    "duration": 371,
    "start_time": "2022-02-23T14:45:21.063Z"
   },
   {
    "duration": 128,
    "start_time": "2022-02-23T14:45:21.436Z"
   },
   {
    "duration": 275,
    "start_time": "2022-02-23T14:45:21.565Z"
   },
   {
    "duration": 913,
    "start_time": "2022-02-23T14:46:36.290Z"
   },
   {
    "duration": 659,
    "start_time": "2022-02-23T14:46:40.612Z"
   },
   {
    "duration": 3,
    "start_time": "2022-02-23T14:46:41.273Z"
   },
   {
    "duration": 59,
    "start_time": "2022-02-23T14:46:41.278Z"
   },
   {
    "duration": 29,
    "start_time": "2022-02-23T14:46:41.339Z"
   },
   {
    "duration": 28,
    "start_time": "2022-02-23T14:46:41.369Z"
   },
   {
    "duration": 13,
    "start_time": "2022-02-23T14:46:41.399Z"
   },
   {
    "duration": 20,
    "start_time": "2022-02-23T14:46:41.414Z"
   },
   {
    "duration": 14,
    "start_time": "2022-02-23T14:46:41.435Z"
   },
   {
    "duration": 4717,
    "start_time": "2022-02-23T14:46:41.452Z"
   },
   {
    "duration": -1983,
    "start_time": "2022-02-23T14:46:48.154Z"
   },
   {
    "duration": -1982,
    "start_time": "2022-02-23T14:46:48.155Z"
   },
   {
    "duration": -1982,
    "start_time": "2022-02-23T14:46:48.156Z"
   },
   {
    "duration": -1982,
    "start_time": "2022-02-23T14:46:48.157Z"
   },
   {
    "duration": -1982,
    "start_time": "2022-02-23T14:46:48.158Z"
   },
   {
    "duration": -1981,
    "start_time": "2022-02-23T14:46:48.159Z"
   },
   {
    "duration": -1981,
    "start_time": "2022-02-23T14:46:48.160Z"
   },
   {
    "duration": 818,
    "start_time": "2022-02-23T14:46:56.915Z"
   },
   {
    "duration": 22,
    "start_time": "2022-02-23T14:47:02.644Z"
   },
   {
    "duration": 687,
    "start_time": "2022-02-23T14:47:49.492Z"
   },
   {
    "duration": 3,
    "start_time": "2022-02-23T14:47:50.181Z"
   },
   {
    "duration": 38,
    "start_time": "2022-02-23T14:47:50.185Z"
   },
   {
    "duration": 17,
    "start_time": "2022-02-23T14:47:50.225Z"
   },
   {
    "duration": 27,
    "start_time": "2022-02-23T14:47:50.244Z"
   },
   {
    "duration": 21,
    "start_time": "2022-02-23T14:47:50.273Z"
   },
   {
    "duration": 32,
    "start_time": "2022-02-23T14:47:50.296Z"
   },
   {
    "duration": 12,
    "start_time": "2022-02-23T14:47:50.330Z"
   },
   {
    "duration": 380,
    "start_time": "2022-02-23T14:47:50.344Z"
   },
   {
    "duration": 287,
    "start_time": "2022-02-23T14:47:50.726Z"
   },
   {
    "duration": 274,
    "start_time": "2022-02-23T14:47:51.018Z"
   },
   {
    "duration": 394,
    "start_time": "2022-02-23T14:47:51.294Z"
   },
   {
    "duration": 450,
    "start_time": "2022-02-23T14:47:51.689Z"
   },
   {
    "duration": 509,
    "start_time": "2022-02-23T14:47:52.141Z"
   },
   {
    "duration": 126,
    "start_time": "2022-02-23T14:47:52.652Z"
   },
   {
    "duration": 281,
    "start_time": "2022-02-23T14:47:52.780Z"
   },
   {
    "duration": 679,
    "start_time": "2022-02-23T14:48:11.493Z"
   },
   {
    "duration": 3,
    "start_time": "2022-02-23T14:48:12.174Z"
   },
   {
    "duration": 55,
    "start_time": "2022-02-23T14:48:12.181Z"
   },
   {
    "duration": 18,
    "start_time": "2022-02-23T14:48:12.238Z"
   },
   {
    "duration": 29,
    "start_time": "2022-02-23T14:48:12.258Z"
   },
   {
    "duration": 34,
    "start_time": "2022-02-23T14:48:12.289Z"
   },
   {
    "duration": 14,
    "start_time": "2022-02-23T14:48:12.326Z"
   },
   {
    "duration": 13,
    "start_time": "2022-02-23T14:48:12.342Z"
   },
   {
    "duration": 395,
    "start_time": "2022-02-23T14:48:12.357Z"
   },
   {
    "duration": 310,
    "start_time": "2022-02-23T14:48:12.753Z"
   },
   {
    "duration": 283,
    "start_time": "2022-02-23T14:48:13.065Z"
   },
   {
    "duration": 604,
    "start_time": "2022-02-23T14:48:13.349Z"
   },
   {
    "duration": 366,
    "start_time": "2022-02-23T14:48:13.955Z"
   },
   {
    "duration": 396,
    "start_time": "2022-02-23T14:48:14.323Z"
   },
   {
    "duration": 120,
    "start_time": "2022-02-23T14:48:14.721Z"
   },
   {
    "duration": 299,
    "start_time": "2022-02-23T14:48:14.843Z"
   },
   {
    "duration": 624,
    "start_time": "2022-02-23T14:48:30.447Z"
   },
   {
    "duration": 3,
    "start_time": "2022-02-23T14:48:31.073Z"
   },
   {
    "duration": 46,
    "start_time": "2022-02-23T14:48:31.078Z"
   },
   {
    "duration": 17,
    "start_time": "2022-02-23T14:48:31.126Z"
   },
   {
    "duration": 27,
    "start_time": "2022-02-23T14:48:31.144Z"
   },
   {
    "duration": 16,
    "start_time": "2022-02-23T14:48:31.173Z"
   },
   {
    "duration": 13,
    "start_time": "2022-02-23T14:48:31.220Z"
   },
   {
    "duration": 14,
    "start_time": "2022-02-23T14:48:31.234Z"
   },
   {
    "duration": 4710,
    "start_time": "2022-02-23T14:48:31.250Z"
   },
   {
    "duration": -1980,
    "start_time": "2022-02-23T14:48:37.942Z"
   },
   {
    "duration": -1979,
    "start_time": "2022-02-23T14:48:37.942Z"
   },
   {
    "duration": -1980,
    "start_time": "2022-02-23T14:48:37.945Z"
   },
   {
    "duration": -1980,
    "start_time": "2022-02-23T14:48:37.946Z"
   },
   {
    "duration": -1980,
    "start_time": "2022-02-23T14:48:37.947Z"
   },
   {
    "duration": -1980,
    "start_time": "2022-02-23T14:48:37.948Z"
   },
   {
    "duration": -1980,
    "start_time": "2022-02-23T14:48:37.949Z"
   },
   {
    "duration": 37,
    "start_time": "2022-02-23T14:48:40.233Z"
   },
   {
    "duration": 40,
    "start_time": "2022-02-23T14:48:45.496Z"
   },
   {
    "duration": 671,
    "start_time": "2022-02-23T14:48:49.305Z"
   },
   {
    "duration": 4,
    "start_time": "2022-02-23T14:48:49.978Z"
   },
   {
    "duration": 38,
    "start_time": "2022-02-23T14:48:49.984Z"
   },
   {
    "duration": 17,
    "start_time": "2022-02-23T14:48:50.024Z"
   },
   {
    "duration": 29,
    "start_time": "2022-02-23T14:48:50.042Z"
   },
   {
    "duration": 15,
    "start_time": "2022-02-23T14:48:50.072Z"
   },
   {
    "duration": 38,
    "start_time": "2022-02-23T14:48:50.089Z"
   },
   {
    "duration": 14,
    "start_time": "2022-02-23T14:48:50.128Z"
   },
   {
    "duration": 4513,
    "start_time": "2022-02-23T14:48:50.145Z"
   },
   {
    "duration": -2169,
    "start_time": "2022-02-23T14:48:56.830Z"
   },
   {
    "duration": -2169,
    "start_time": "2022-02-23T14:48:56.831Z"
   },
   {
    "duration": -2169,
    "start_time": "2022-02-23T14:48:56.832Z"
   },
   {
    "duration": -2169,
    "start_time": "2022-02-23T14:48:56.833Z"
   },
   {
    "duration": -2169,
    "start_time": "2022-02-23T14:48:56.834Z"
   },
   {
    "duration": -2169,
    "start_time": "2022-02-23T14:48:56.835Z"
   },
   {
    "duration": -2168,
    "start_time": "2022-02-23T14:48:56.835Z"
   },
   {
    "duration": 356,
    "start_time": "2022-02-23T14:51:22.702Z"
   },
   {
    "duration": 291,
    "start_time": "2022-02-23T14:51:30.003Z"
   },
   {
    "duration": 274,
    "start_time": "2022-02-23T14:51:32.754Z"
   },
   {
    "duration": 388,
    "start_time": "2022-02-23T14:51:37.221Z"
   },
   {
    "duration": 348,
    "start_time": "2022-02-23T14:51:40.918Z"
   },
   {
    "duration": 351,
    "start_time": "2022-02-23T14:51:43.857Z"
   },
   {
    "duration": 178,
    "start_time": "2022-02-23T14:51:47.041Z"
   },
   {
    "duration": 107,
    "start_time": "2022-02-23T14:51:54.031Z"
   },
   {
    "duration": 306,
    "start_time": "2022-02-23T14:53:09.120Z"
   },
   {
    "duration": 338,
    "start_time": "2022-02-23T14:55:38.900Z"
   },
   {
    "duration": 339,
    "start_time": "2022-02-23T15:00:08.528Z"
   },
   {
    "duration": 5,
    "start_time": "2022-02-23T15:07:01.851Z"
   },
   {
    "duration": 51,
    "start_time": "2022-02-23T15:12:08.950Z"
   },
   {
    "duration": 281,
    "start_time": "2022-02-23T15:12:26.687Z"
   },
   {
    "duration": 362,
    "start_time": "2022-02-23T15:20:05.441Z"
   },
   {
    "duration": 335,
    "start_time": "2022-02-23T15:21:31.186Z"
   },
   {
    "duration": 368,
    "start_time": "2022-02-23T15:21:38.611Z"
   },
   {
    "duration": 337,
    "start_time": "2022-02-23T15:21:49.686Z"
   },
   {
    "duration": 6,
    "start_time": "2022-02-23T15:24:37.679Z"
   },
   {
    "duration": 421,
    "start_time": "2022-02-23T15:24:54.839Z"
   },
   {
    "duration": 227,
    "start_time": "2022-02-23T15:38:36.713Z"
   },
   {
    "duration": 9,
    "start_time": "2022-02-23T15:39:10.228Z"
   },
   {
    "duration": 240,
    "start_time": "2022-02-23T15:39:37.261Z"
   },
   {
    "duration": 310,
    "start_time": "2022-02-23T15:40:27.694Z"
   },
   {
    "duration": 394,
    "start_time": "2022-02-23T15:43:27.462Z"
   },
   {
    "duration": 275,
    "start_time": "2022-02-23T15:43:44.619Z"
   },
   {
    "duration": 243,
    "start_time": "2022-02-23T15:44:06.295Z"
   },
   {
    "duration": 209,
    "start_time": "2022-02-23T15:49:37.670Z"
   },
   {
    "duration": 1080,
    "start_time": "2022-02-23T15:50:04.024Z"
   },
   {
    "duration": 3,
    "start_time": "2022-02-23T15:50:05.106Z"
   },
   {
    "duration": 40,
    "start_time": "2022-02-23T15:50:05.113Z"
   },
   {
    "duration": 18,
    "start_time": "2022-02-23T15:50:05.154Z"
   },
   {
    "duration": 26,
    "start_time": "2022-02-23T15:50:05.174Z"
   },
   {
    "duration": 17,
    "start_time": "2022-02-23T15:50:05.202Z"
   },
   {
    "duration": 12,
    "start_time": "2022-02-23T15:50:05.221Z"
   },
   {
    "duration": 11,
    "start_time": "2022-02-23T15:50:05.236Z"
   },
   {
    "duration": 418,
    "start_time": "2022-02-23T15:50:05.249Z"
   },
   {
    "duration": 340,
    "start_time": "2022-02-23T15:50:05.669Z"
   },
   {
    "duration": 286,
    "start_time": "2022-02-23T15:50:06.018Z"
   },
   {
    "duration": 403,
    "start_time": "2022-02-23T15:50:06.307Z"
   },
   {
    "duration": 287,
    "start_time": "2022-02-23T15:50:06.712Z"
   },
   {
    "duration": 404,
    "start_time": "2022-02-23T15:50:07.001Z"
   },
   {
    "duration": 132,
    "start_time": "2022-02-23T15:50:07.407Z"
   },
   {
    "duration": 346,
    "start_time": "2022-02-23T15:50:07.541Z"
   },
   {
    "duration": 5,
    "start_time": "2022-02-23T15:50:07.889Z"
   },
   {
    "duration": 387,
    "start_time": "2022-02-23T15:50:07.896Z"
   },
   {
    "duration": 5,
    "start_time": "2022-02-23T15:50:08.285Z"
   },
   {
    "duration": 10,
    "start_time": "2022-02-23T15:50:08.292Z"
   },
   {
    "duration": 421,
    "start_time": "2022-02-23T15:50:08.304Z"
   },
   {
    "duration": -1923,
    "start_time": "2022-02-23T15:50:10.651Z"
   },
   {
    "duration": 122,
    "start_time": "2022-02-23T15:54:04.343Z"
   },
   {
    "duration": 125,
    "start_time": "2022-02-23T15:58:34.960Z"
   },
   {
    "duration": 120,
    "start_time": "2022-02-23T15:59:07.190Z"
   },
   {
    "duration": 312,
    "start_time": "2022-02-23T15:59:37.348Z"
   },
   {
    "duration": 123,
    "start_time": "2022-02-23T15:59:41.988Z"
   },
   {
    "duration": 147,
    "start_time": "2022-02-23T16:08:48.807Z"
   },
   {
    "duration": 134,
    "start_time": "2022-02-23T16:10:02.392Z"
   },
   {
    "duration": 8,
    "start_time": "2022-02-23T16:10:59.492Z"
   },
   {
    "duration": 132,
    "start_time": "2022-02-23T16:11:02.696Z"
   },
   {
    "duration": 133,
    "start_time": "2022-02-23T16:11:09.494Z"
   },
   {
    "duration": 155,
    "start_time": "2022-02-23T19:26:01.932Z"
   },
   {
    "duration": 129,
    "start_time": "2022-02-23T19:26:13.372Z"
   },
   {
    "duration": 132,
    "start_time": "2022-02-23T19:26:28.543Z"
   },
   {
    "duration": 123,
    "start_time": "2022-02-23T19:26:45.856Z"
   },
   {
    "duration": 140,
    "start_time": "2022-02-23T19:32:47.729Z"
   },
   {
    "duration": 130,
    "start_time": "2022-02-23T19:33:17.549Z"
   },
   {
    "duration": 154,
    "start_time": "2022-02-23T19:33:20.721Z"
   },
   {
    "duration": 343,
    "start_time": "2022-02-23T19:34:25.157Z"
   },
   {
    "duration": 438,
    "start_time": "2022-02-23T19:34:32.150Z"
   },
   {
    "duration": 352,
    "start_time": "2022-02-23T19:34:47.795Z"
   },
   {
    "duration": 10,
    "start_time": "2022-02-23T19:41:06.646Z"
   },
   {
    "duration": 1065,
    "start_time": "2022-02-23T19:46:52.727Z"
   },
   {
    "duration": 4,
    "start_time": "2022-02-23T19:46:53.794Z"
   },
   {
    "duration": 34,
    "start_time": "2022-02-23T19:46:53.800Z"
   },
   {
    "duration": 16,
    "start_time": "2022-02-23T19:46:53.837Z"
   },
   {
    "duration": 25,
    "start_time": "2022-02-23T19:46:53.855Z"
   },
   {
    "duration": 14,
    "start_time": "2022-02-23T19:46:53.882Z"
   },
   {
    "duration": 26,
    "start_time": "2022-02-23T19:46:53.898Z"
   },
   {
    "duration": 14,
    "start_time": "2022-02-23T19:46:53.926Z"
   },
   {
    "duration": 395,
    "start_time": "2022-02-23T19:46:53.943Z"
   },
   {
    "duration": 282,
    "start_time": "2022-02-23T19:46:54.340Z"
   },
   {
    "duration": 268,
    "start_time": "2022-02-23T19:46:54.624Z"
   },
   {
    "duration": 406,
    "start_time": "2022-02-23T19:46:54.894Z"
   },
   {
    "duration": 266,
    "start_time": "2022-02-23T19:46:55.302Z"
   },
   {
    "duration": 342,
    "start_time": "2022-02-23T19:46:55.569Z"
   },
   {
    "duration": 109,
    "start_time": "2022-02-23T19:46:55.912Z"
   },
   {
    "duration": 338,
    "start_time": "2022-02-23T19:46:56.022Z"
   },
   {
    "duration": 5,
    "start_time": "2022-02-23T19:46:56.361Z"
   },
   {
    "duration": 321,
    "start_time": "2022-02-23T19:46:56.368Z"
   },
   {
    "duration": 5,
    "start_time": "2022-02-23T19:46:56.691Z"
   },
   {
    "duration": 155,
    "start_time": "2022-02-23T19:46:56.698Z"
   },
   {
    "duration": 10,
    "start_time": "2022-02-23T19:46:56.855Z"
   },
   {
    "duration": 12,
    "start_time": "2022-02-23T19:50:21.575Z"
   },
   {
    "duration": 61,
    "start_time": "2022-02-23T19:53:06.186Z"
   },
   {
    "duration": 69,
    "start_time": "2022-02-23T19:53:16.754Z"
   },
   {
    "duration": 61,
    "start_time": "2022-02-23T19:53:28.739Z"
   },
   {
    "duration": 71,
    "start_time": "2022-02-23T19:53:31.493Z"
   },
   {
    "duration": 81,
    "start_time": "2022-02-23T19:53:46.491Z"
   },
   {
    "duration": 11,
    "start_time": "2022-02-23T19:54:15.649Z"
   },
   {
    "duration": 11,
    "start_time": "2022-02-23T19:54:21.416Z"
   },
   {
    "duration": 69,
    "start_time": "2022-02-23T19:56:39.109Z"
   },
   {
    "duration": 69,
    "start_time": "2022-02-23T19:56:44.892Z"
   },
   {
    "duration": 10,
    "start_time": "2022-02-23T19:57:00.450Z"
   },
   {
    "duration": 11,
    "start_time": "2022-02-23T19:57:08.824Z"
   },
   {
    "duration": 12,
    "start_time": "2022-02-23T19:57:13.985Z"
   },
   {
    "duration": 1028,
    "start_time": "2022-02-23T19:58:16.378Z"
   },
   {
    "duration": 3,
    "start_time": "2022-02-23T19:58:17.408Z"
   },
   {
    "duration": 39,
    "start_time": "2022-02-23T19:58:17.415Z"
   },
   {
    "duration": 16,
    "start_time": "2022-02-23T19:58:17.456Z"
   },
   {
    "duration": 26,
    "start_time": "2022-02-23T19:58:17.474Z"
   },
   {
    "duration": 22,
    "start_time": "2022-02-23T19:58:17.502Z"
   },
   {
    "duration": 13,
    "start_time": "2022-02-23T19:58:17.526Z"
   },
   {
    "duration": 12,
    "start_time": "2022-02-23T19:58:17.541Z"
   },
   {
    "duration": 385,
    "start_time": "2022-02-23T19:58:17.555Z"
   },
   {
    "duration": 297,
    "start_time": "2022-02-23T19:58:17.942Z"
   },
   {
    "duration": 288,
    "start_time": "2022-02-23T19:58:18.241Z"
   },
   {
    "duration": 410,
    "start_time": "2022-02-23T19:58:18.531Z"
   },
   {
    "duration": 275,
    "start_time": "2022-02-23T19:58:18.943Z"
   },
   {
    "duration": 404,
    "start_time": "2022-02-23T19:58:19.220Z"
   },
   {
    "duration": 107,
    "start_time": "2022-02-23T19:58:19.626Z"
   },
   {
    "duration": 345,
    "start_time": "2022-02-23T19:58:19.735Z"
   },
   {
    "duration": 4,
    "start_time": "2022-02-23T19:58:20.082Z"
   },
   {
    "duration": 382,
    "start_time": "2022-02-23T19:58:20.088Z"
   },
   {
    "duration": 5,
    "start_time": "2022-02-23T19:58:20.472Z"
   },
   {
    "duration": 178,
    "start_time": "2022-02-23T19:58:20.479Z"
   },
   {
    "duration": 13,
    "start_time": "2022-02-23T19:58:20.659Z"
   },
   {
    "duration": 4805,
    "start_time": "2022-02-23T20:00:59.533Z"
   },
   {
    "duration": 4780,
    "start_time": "2022-02-23T20:01:40.348Z"
   },
   {
    "duration": 9,
    "start_time": "2022-02-23T20:02:07.099Z"
   },
   {
    "duration": 10,
    "start_time": "2022-02-23T20:02:20.410Z"
   },
   {
    "duration": 11,
    "start_time": "2022-02-23T20:02:44.731Z"
   },
   {
    "duration": 10,
    "start_time": "2022-02-23T20:02:59.150Z"
   },
   {
    "duration": 11,
    "start_time": "2022-02-23T20:05:05.896Z"
   },
   {
    "duration": 10,
    "start_time": "2022-02-23T20:05:09.000Z"
   },
   {
    "duration": 9,
    "start_time": "2022-02-23T20:06:01.212Z"
   },
   {
    "duration": 11,
    "start_time": "2022-02-23T20:06:11.979Z"
   },
   {
    "duration": 10,
    "start_time": "2022-02-23T20:06:17.959Z"
   },
   {
    "duration": 4,
    "start_time": "2022-02-23T20:07:51.956Z"
   },
   {
    "duration": 210,
    "start_time": "2022-02-23T20:07:58.321Z"
   },
   {
    "duration": 196,
    "start_time": "2022-02-23T20:08:02.079Z"
   },
   {
    "duration": 5,
    "start_time": "2022-02-23T20:08:09.001Z"
   },
   {
    "duration": 5,
    "start_time": "2022-02-23T20:08:16.188Z"
   },
   {
    "duration": 62,
    "start_time": "2022-02-23T20:09:14.608Z"
   },
   {
    "duration": 185,
    "start_time": "2022-02-23T20:09:23.235Z"
   },
   {
    "duration": 8,
    "start_time": "2022-02-23T20:09:52.296Z"
   },
   {
    "duration": 12,
    "start_time": "2022-02-23T20:12:37.078Z"
   },
   {
    "duration": 10,
    "start_time": "2022-02-23T20:12:41.124Z"
   },
   {
    "duration": 200,
    "start_time": "2022-02-23T20:13:24.001Z"
   },
   {
    "duration": 9,
    "start_time": "2022-02-23T20:13:42.001Z"
   },
   {
    "duration": 9,
    "start_time": "2022-02-23T20:14:25.965Z"
   },
   {
    "duration": 14,
    "start_time": "2022-02-23T20:16:57.236Z"
   },
   {
    "duration": 5096,
    "start_time": "2022-02-23T20:22:47.184Z"
   },
   {
    "duration": 15,
    "start_time": "2022-02-23T20:23:15.902Z"
   },
   {
    "duration": 15,
    "start_time": "2022-02-23T20:23:29.504Z"
   },
   {
    "duration": 9,
    "start_time": "2022-02-23T20:25:18.805Z"
   },
   {
    "duration": 1095,
    "start_time": "2022-02-23T20:25:25.724Z"
   },
   {
    "duration": 3,
    "start_time": "2022-02-23T20:25:26.822Z"
   },
   {
    "duration": 42,
    "start_time": "2022-02-23T20:25:26.827Z"
   },
   {
    "duration": 21,
    "start_time": "2022-02-23T20:25:26.871Z"
   },
   {
    "duration": 29,
    "start_time": "2022-02-23T20:25:26.895Z"
   },
   {
    "duration": 17,
    "start_time": "2022-02-23T20:25:26.926Z"
   },
   {
    "duration": 13,
    "start_time": "2022-02-23T20:25:26.945Z"
   },
   {
    "duration": 14,
    "start_time": "2022-02-23T20:25:26.960Z"
   },
   {
    "duration": 411,
    "start_time": "2022-02-23T20:25:26.976Z"
   },
   {
    "duration": 309,
    "start_time": "2022-02-23T20:25:27.389Z"
   },
   {
    "duration": 299,
    "start_time": "2022-02-23T20:25:27.700Z"
   },
   {
    "duration": 411,
    "start_time": "2022-02-23T20:25:28.001Z"
   },
   {
    "duration": 287,
    "start_time": "2022-02-23T20:25:28.414Z"
   },
   {
    "duration": 431,
    "start_time": "2022-02-23T20:25:28.703Z"
   },
   {
    "duration": 131,
    "start_time": "2022-02-23T20:25:29.136Z"
   },
   {
    "duration": 358,
    "start_time": "2022-02-23T20:25:29.269Z"
   },
   {
    "duration": 5,
    "start_time": "2022-02-23T20:25:29.629Z"
   },
   {
    "duration": 349,
    "start_time": "2022-02-23T20:25:29.636Z"
   },
   {
    "duration": 5,
    "start_time": "2022-02-23T20:25:29.987Z"
   },
   {
    "duration": 141,
    "start_time": "2022-02-23T20:25:29.994Z"
   },
   {
    "duration": 10,
    "start_time": "2022-02-23T20:25:30.137Z"
   },
   {
    "duration": 21,
    "start_time": "2022-02-23T20:25:30.149Z"
   },
   {
    "duration": 26,
    "start_time": "2022-02-23T20:25:30.173Z"
   },
   {
    "duration": 22,
    "start_time": "2022-02-23T20:25:30.200Z"
   },
   {
    "duration": 12,
    "start_time": "2022-02-23T20:25:47.714Z"
   },
   {
    "duration": 14,
    "start_time": "2022-02-23T20:25:51.458Z"
   },
   {
    "duration": 14,
    "start_time": "2022-02-23T20:25:57.008Z"
   },
   {
    "duration": 9,
    "start_time": "2022-02-23T20:26:12.314Z"
   },
   {
    "duration": 1101,
    "start_time": "2022-02-23T20:26:16.707Z"
   },
   {
    "duration": 7,
    "start_time": "2022-02-23T20:26:17.811Z"
   },
   {
    "duration": 47,
    "start_time": "2022-02-23T20:26:17.821Z"
   },
   {
    "duration": 18,
    "start_time": "2022-02-23T20:26:17.870Z"
   },
   {
    "duration": 26,
    "start_time": "2022-02-23T20:26:17.890Z"
   },
   {
    "duration": 14,
    "start_time": "2022-02-23T20:26:17.918Z"
   },
   {
    "duration": 13,
    "start_time": "2022-02-23T20:26:17.934Z"
   },
   {
    "duration": 12,
    "start_time": "2022-02-23T20:26:17.949Z"
   },
   {
    "duration": 390,
    "start_time": "2022-02-23T20:26:17.964Z"
   },
   {
    "duration": 298,
    "start_time": "2022-02-23T20:26:18.357Z"
   },
   {
    "duration": 291,
    "start_time": "2022-02-23T20:26:18.657Z"
   },
   {
    "duration": 378,
    "start_time": "2022-02-23T20:26:18.950Z"
   },
   {
    "duration": 274,
    "start_time": "2022-02-23T20:26:19.329Z"
   },
   {
    "duration": 405,
    "start_time": "2022-02-23T20:26:19.605Z"
   },
   {
    "duration": 120,
    "start_time": "2022-02-23T20:26:20.012Z"
   },
   {
    "duration": 336,
    "start_time": "2022-02-23T20:26:20.134Z"
   },
   {
    "duration": 5,
    "start_time": "2022-02-23T20:26:20.472Z"
   },
   {
    "duration": 390,
    "start_time": "2022-02-23T20:26:20.479Z"
   },
   {
    "duration": 5,
    "start_time": "2022-02-23T20:26:20.871Z"
   },
   {
    "duration": 143,
    "start_time": "2022-02-23T20:26:20.878Z"
   },
   {
    "duration": 10,
    "start_time": "2022-02-23T20:26:21.023Z"
   },
   {
    "duration": 11,
    "start_time": "2022-02-23T20:26:21.035Z"
   },
   {
    "duration": 14,
    "start_time": "2022-02-23T20:26:21.047Z"
   },
   {
    "duration": 13,
    "start_time": "2022-02-23T20:26:21.062Z"
   },
   {
    "duration": 127,
    "start_time": "2022-02-23T20:30:47.936Z"
   },
   {
    "duration": 63,
    "start_time": "2022-02-23T20:30:59.915Z"
   },
   {
    "duration": 14,
    "start_time": "2022-02-23T20:31:03.897Z"
   },
   {
    "duration": 15,
    "start_time": "2022-02-23T20:31:41.725Z"
   },
   {
    "duration": 57,
    "start_time": "2022-02-23T20:33:12.320Z"
   },
   {
    "duration": 388,
    "start_time": "2022-02-23T20:43:03.353Z"
   },
   {
    "duration": 375,
    "start_time": "2022-02-23T20:43:08.753Z"
   },
   {
    "duration": 1104,
    "start_time": "2022-02-23T20:50:30.395Z"
   },
   {
    "duration": 4,
    "start_time": "2022-02-23T20:50:31.501Z"
   },
   {
    "duration": 45,
    "start_time": "2022-02-23T20:50:31.507Z"
   },
   {
    "duration": 25,
    "start_time": "2022-02-23T20:50:31.555Z"
   },
   {
    "duration": 28,
    "start_time": "2022-02-23T20:50:31.582Z"
   },
   {
    "duration": 15,
    "start_time": "2022-02-23T20:50:31.611Z"
   },
   {
    "duration": 13,
    "start_time": "2022-02-23T20:50:31.628Z"
   },
   {
    "duration": 12,
    "start_time": "2022-02-23T20:50:31.644Z"
   },
   {
    "duration": 389,
    "start_time": "2022-02-23T20:50:31.659Z"
   },
   {
    "duration": 288,
    "start_time": "2022-02-23T20:50:32.050Z"
   },
   {
    "duration": 282,
    "start_time": "2022-02-23T20:50:32.340Z"
   },
   {
    "duration": 403,
    "start_time": "2022-02-23T20:50:32.624Z"
   },
   {
    "duration": 294,
    "start_time": "2022-02-23T20:50:33.029Z"
   },
   {
    "duration": 392,
    "start_time": "2022-02-23T20:50:33.325Z"
   },
   {
    "duration": 138,
    "start_time": "2022-02-23T20:50:33.719Z"
   },
   {
    "duration": 315,
    "start_time": "2022-02-23T20:50:33.859Z"
   },
   {
    "duration": 6,
    "start_time": "2022-02-23T20:50:34.176Z"
   },
   {
    "duration": 413,
    "start_time": "2022-02-23T20:50:34.185Z"
   },
   {
    "duration": 6,
    "start_time": "2022-02-23T20:50:34.600Z"
   },
   {
    "duration": 145,
    "start_time": "2022-02-23T20:50:34.619Z"
   },
   {
    "duration": 12,
    "start_time": "2022-02-23T20:50:34.765Z"
   },
   {
    "duration": 9,
    "start_time": "2022-02-23T20:50:34.780Z"
   },
   {
    "duration": 37,
    "start_time": "2022-02-23T20:50:34.793Z"
   },
   {
    "duration": 16,
    "start_time": "2022-02-23T20:50:34.833Z"
   },
   {
    "duration": 1128,
    "start_time": "2022-02-24T09:25:25.195Z"
   },
   {
    "duration": 4,
    "start_time": "2022-02-24T09:25:26.325Z"
   },
   {
    "duration": 45,
    "start_time": "2022-02-24T09:25:26.331Z"
   },
   {
    "duration": 19,
    "start_time": "2022-02-24T09:25:26.378Z"
   },
   {
    "duration": 29,
    "start_time": "2022-02-24T09:25:26.399Z"
   },
   {
    "duration": 15,
    "start_time": "2022-02-24T09:25:26.430Z"
   },
   {
    "duration": 22,
    "start_time": "2022-02-24T09:25:26.447Z"
   },
   {
    "duration": 12,
    "start_time": "2022-02-24T09:25:26.471Z"
   },
   {
    "duration": 484,
    "start_time": "2022-02-24T09:25:26.486Z"
   },
   {
    "duration": 301,
    "start_time": "2022-02-24T09:25:26.972Z"
   },
   {
    "duration": 272,
    "start_time": "2022-02-24T09:25:27.275Z"
   },
   {
    "duration": 374,
    "start_time": "2022-02-24T09:25:27.549Z"
   },
   {
    "duration": 271,
    "start_time": "2022-02-24T09:25:27.925Z"
   },
   {
    "duration": 432,
    "start_time": "2022-02-24T09:25:28.198Z"
   },
   {
    "duration": 124,
    "start_time": "2022-02-24T09:25:28.632Z"
   },
   {
    "duration": 325,
    "start_time": "2022-02-24T09:25:28.758Z"
   },
   {
    "duration": 5,
    "start_time": "2022-02-24T09:25:29.085Z"
   },
   {
    "duration": 362,
    "start_time": "2022-02-24T09:25:29.092Z"
   },
   {
    "duration": 6,
    "start_time": "2022-02-24T09:25:29.456Z"
   },
   {
    "duration": 144,
    "start_time": "2022-02-24T09:25:29.464Z"
   },
   {
    "duration": 15,
    "start_time": "2022-02-24T09:25:29.610Z"
   },
   {
    "duration": 10,
    "start_time": "2022-02-24T09:25:29.627Z"
   },
   {
    "duration": 16,
    "start_time": "2022-02-24T09:25:29.639Z"
   },
   {
    "duration": 15,
    "start_time": "2022-02-24T09:25:29.657Z"
   },
   {
    "duration": 1131,
    "start_time": "2022-02-24T10:00:50.082Z"
   },
   {
    "duration": 4,
    "start_time": "2022-02-24T10:00:51.215Z"
   },
   {
    "duration": 43,
    "start_time": "2022-02-24T10:00:51.221Z"
   },
   {
    "duration": 18,
    "start_time": "2022-02-24T10:00:51.267Z"
   },
   {
    "duration": 26,
    "start_time": "2022-02-24T10:00:51.287Z"
   },
   {
    "duration": 14,
    "start_time": "2022-02-24T10:00:51.315Z"
   },
   {
    "duration": 16,
    "start_time": "2022-02-24T10:00:51.331Z"
   },
   {
    "duration": 13,
    "start_time": "2022-02-24T10:00:51.349Z"
   },
   {
    "duration": 378,
    "start_time": "2022-02-24T10:00:51.365Z"
   },
   {
    "duration": 284,
    "start_time": "2022-02-24T10:00:51.745Z"
   },
   {
    "duration": 274,
    "start_time": "2022-02-24T10:00:52.031Z"
   },
   {
    "duration": 390,
    "start_time": "2022-02-24T10:00:52.306Z"
   },
   {
    "duration": 269,
    "start_time": "2022-02-24T10:00:52.698Z"
   },
   {
    "duration": 373,
    "start_time": "2022-02-24T10:00:52.969Z"
   },
   {
    "duration": 135,
    "start_time": "2022-02-24T10:00:53.344Z"
   },
   {
    "duration": 360,
    "start_time": "2022-02-24T10:00:53.481Z"
   },
   {
    "duration": 5,
    "start_time": "2022-02-24T10:00:53.843Z"
   },
   {
    "duration": 321,
    "start_time": "2022-02-24T10:00:53.849Z"
   },
   {
    "duration": 5,
    "start_time": "2022-02-24T10:00:54.172Z"
   },
   {
    "duration": 146,
    "start_time": "2022-02-24T10:00:54.178Z"
   },
   {
    "duration": 10,
    "start_time": "2022-02-24T10:00:54.325Z"
   },
   {
    "duration": 9,
    "start_time": "2022-02-24T10:00:54.337Z"
   },
   {
    "duration": 15,
    "start_time": "2022-02-24T10:00:54.348Z"
   },
   {
    "duration": 13,
    "start_time": "2022-02-24T10:00:54.365Z"
   },
   {
    "duration": 978,
    "start_time": "2022-02-24T12:10:16.674Z"
   },
   {
    "duration": 4,
    "start_time": "2022-02-24T12:10:17.653Z"
   },
   {
    "duration": 85,
    "start_time": "2022-02-24T12:10:17.659Z"
   },
   {
    "duration": 15,
    "start_time": "2022-02-24T12:10:17.746Z"
   },
   {
    "duration": 35,
    "start_time": "2022-02-24T12:10:17.762Z"
   },
   {
    "duration": 19,
    "start_time": "2022-02-24T12:10:17.799Z"
   },
   {
    "duration": 33,
    "start_time": "2022-02-24T12:10:17.820Z"
   },
   {
    "duration": 13,
    "start_time": "2022-02-24T12:10:17.855Z"
   },
   {
    "duration": 345,
    "start_time": "2022-02-24T12:10:17.870Z"
   },
   {
    "duration": 255,
    "start_time": "2022-02-24T12:10:18.217Z"
   },
   {
    "duration": 240,
    "start_time": "2022-02-24T12:10:18.474Z"
   },
   {
    "duration": 368,
    "start_time": "2022-02-24T12:10:18.716Z"
   },
   {
    "duration": 229,
    "start_time": "2022-02-24T12:10:19.086Z"
   },
   {
    "duration": 368,
    "start_time": "2022-02-24T12:10:19.317Z"
   },
   {
    "duration": 109,
    "start_time": "2022-02-24T12:10:19.687Z"
   },
   {
    "duration": 324,
    "start_time": "2022-02-24T12:10:19.798Z"
   },
   {
    "duration": 8,
    "start_time": "2022-02-24T12:10:20.124Z"
   },
   {
    "duration": 333,
    "start_time": "2022-02-24T12:10:20.134Z"
   },
   {
    "duration": 5,
    "start_time": "2022-02-24T12:10:20.469Z"
   },
   {
    "duration": 127,
    "start_time": "2022-02-24T12:10:20.475Z"
   },
   {
    "duration": 10,
    "start_time": "2022-02-24T12:10:20.604Z"
   },
   {
    "duration": 18,
    "start_time": "2022-02-24T12:10:20.615Z"
   },
   {
    "duration": 21,
    "start_time": "2022-02-24T12:10:20.636Z"
   },
   {
    "duration": 24,
    "start_time": "2022-02-24T12:10:20.658Z"
   },
   {
    "duration": 1349,
    "start_time": "2022-02-24T16:35:42.161Z"
   },
   {
    "duration": 4,
    "start_time": "2022-02-24T16:35:43.511Z"
   },
   {
    "duration": 82,
    "start_time": "2022-02-24T16:35:43.517Z"
   },
   {
    "duration": 19,
    "start_time": "2022-02-24T16:35:43.601Z"
   },
   {
    "duration": 28,
    "start_time": "2022-02-24T16:35:43.622Z"
   },
   {
    "duration": 21,
    "start_time": "2022-02-24T16:35:43.652Z"
   },
   {
    "duration": 14,
    "start_time": "2022-02-24T16:35:43.675Z"
   },
   {
    "duration": 14,
    "start_time": "2022-02-24T16:35:43.691Z"
   },
   {
    "duration": 392,
    "start_time": "2022-02-24T16:35:43.707Z"
   },
   {
    "duration": 323,
    "start_time": "2022-02-24T16:35:44.101Z"
   },
   {
    "duration": 296,
    "start_time": "2022-02-24T16:35:44.426Z"
   },
   {
    "duration": 397,
    "start_time": "2022-02-24T16:35:44.724Z"
   },
   {
    "duration": 299,
    "start_time": "2022-02-24T16:35:45.123Z"
   },
   {
    "duration": 406,
    "start_time": "2022-02-24T16:35:45.424Z"
   },
   {
    "duration": 123,
    "start_time": "2022-02-24T16:35:45.833Z"
   },
   {
    "duration": 367,
    "start_time": "2022-02-24T16:35:45.958Z"
   },
   {
    "duration": 7,
    "start_time": "2022-02-24T16:35:46.327Z"
   },
   {
    "duration": 432,
    "start_time": "2022-02-24T16:35:46.337Z"
   },
   {
    "duration": 5,
    "start_time": "2022-02-24T16:35:46.772Z"
   },
   {
    "duration": 158,
    "start_time": "2022-02-24T16:35:46.779Z"
   },
   {
    "duration": 11,
    "start_time": "2022-02-24T16:35:46.939Z"
   },
   {
    "duration": 22,
    "start_time": "2022-02-24T16:35:46.952Z"
   },
   {
    "duration": 37,
    "start_time": "2022-02-24T16:35:46.978Z"
   },
   {
    "duration": 27,
    "start_time": "2022-02-24T16:35:47.016Z"
   },
   {
    "duration": 1405,
    "start_time": "2022-02-25T09:21:47.443Z"
   },
   {
    "duration": 6,
    "start_time": "2022-02-25T09:21:48.851Z"
   },
   {
    "duration": 43,
    "start_time": "2022-02-25T09:21:48.860Z"
   },
   {
    "duration": 26,
    "start_time": "2022-02-25T09:21:48.906Z"
   },
   {
    "duration": 42,
    "start_time": "2022-02-25T09:21:48.934Z"
   },
   {
    "duration": 22,
    "start_time": "2022-02-25T09:21:48.995Z"
   },
   {
    "duration": 19,
    "start_time": "2022-02-25T09:21:49.020Z"
   },
   {
    "duration": 51,
    "start_time": "2022-02-25T09:21:49.043Z"
   },
   {
    "duration": 594,
    "start_time": "2022-02-25T09:21:49.097Z"
   },
   {
    "duration": 439,
    "start_time": "2022-02-25T09:21:49.694Z"
   },
   {
    "duration": 427,
    "start_time": "2022-02-25T09:21:50.135Z"
   },
   {
    "duration": 531,
    "start_time": "2022-02-25T09:21:50.565Z"
   },
   {
    "duration": 412,
    "start_time": "2022-02-25T09:21:51.098Z"
   },
   {
    "duration": 513,
    "start_time": "2022-02-25T09:21:51.513Z"
   },
   {
    "duration": 242,
    "start_time": "2022-02-25T09:21:52.029Z"
   },
   {
    "duration": 465,
    "start_time": "2022-02-25T09:21:52.274Z"
   },
   {
    "duration": 7,
    "start_time": "2022-02-25T09:21:52.742Z"
   },
   {
    "duration": 483,
    "start_time": "2022-02-25T09:21:52.752Z"
   },
   {
    "duration": 6,
    "start_time": "2022-02-25T09:21:53.237Z"
   },
   {
    "duration": 281,
    "start_time": "2022-02-25T09:21:53.246Z"
   },
   {
    "duration": 17,
    "start_time": "2022-02-25T09:21:53.530Z"
   },
   {
    "duration": 15,
    "start_time": "2022-02-25T09:21:53.549Z"
   },
   {
    "duration": 44,
    "start_time": "2022-02-25T09:21:53.568Z"
   },
   {
    "duration": 23,
    "start_time": "2022-02-25T09:21:53.615Z"
   },
   {
    "duration": 1339,
    "start_time": "2022-02-27T16:07:04.467Z"
   },
   {
    "duration": 4,
    "start_time": "2022-02-27T16:07:05.809Z"
   },
   {
    "duration": 49,
    "start_time": "2022-02-27T16:07:05.816Z"
   },
   {
    "duration": 25,
    "start_time": "2022-02-27T16:07:05.867Z"
   },
   {
    "duration": 39,
    "start_time": "2022-02-27T16:07:05.894Z"
   },
   {
    "duration": 20,
    "start_time": "2022-02-27T16:07:05.936Z"
   },
   {
    "duration": 45,
    "start_time": "2022-02-27T16:07:05.959Z"
   },
   {
    "duration": 17,
    "start_time": "2022-02-27T16:07:06.020Z"
   },
   {
    "duration": 584,
    "start_time": "2022-02-27T16:07:06.040Z"
   },
   {
    "duration": 424,
    "start_time": "2022-02-27T16:07:06.626Z"
   },
   {
    "duration": 412,
    "start_time": "2022-02-27T16:07:07.052Z"
   },
   {
    "duration": 512,
    "start_time": "2022-02-27T16:07:07.467Z"
   },
   {
    "duration": 405,
    "start_time": "2022-02-27T16:07:07.981Z"
   },
   {
    "duration": 500,
    "start_time": "2022-02-27T16:07:08.388Z"
   },
   {
    "duration": 204,
    "start_time": "2022-02-27T16:07:08.890Z"
   },
   {
    "duration": 423,
    "start_time": "2022-02-27T16:07:09.096Z"
   },
   {
    "duration": 6,
    "start_time": "2022-02-27T16:07:09.522Z"
   },
   {
    "duration": 468,
    "start_time": "2022-02-27T16:07:09.530Z"
   },
   {
    "duration": 7,
    "start_time": "2022-02-27T16:07:10.000Z"
   },
   {
    "duration": 258,
    "start_time": "2022-02-27T16:07:10.009Z"
   },
   {
    "duration": 21,
    "start_time": "2022-02-27T16:07:10.269Z"
   },
   {
    "duration": 12,
    "start_time": "2022-02-27T16:07:10.292Z"
   },
   {
    "duration": 17,
    "start_time": "2022-02-27T16:07:10.307Z"
   },
   {
    "duration": 19,
    "start_time": "2022-02-27T16:07:10.326Z"
   }
  ],
  "kernelspec": {
   "display_name": "Python 3",
   "language": "python",
   "name": "python3"
  },
  "language_info": {
   "codemirror_mode": {
    "name": "ipython",
    "version": 3
   },
   "file_extension": ".py",
   "mimetype": "text/x-python",
   "name": "python",
   "nbconvert_exporter": "python",
   "pygments_lexer": "ipython3",
   "version": "3.7.8"
  },
  "toc": {
   "base_numbering": 1,
   "nav_menu": {},
   "number_sections": true,
   "sideBar": true,
   "skip_h1_title": true,
   "title_cell": "Table of Contents",
   "title_sidebar": "Contents",
   "toc_cell": false,
   "toc_position": {
    "height": "calc(100% - 180px)",
    "left": "10px",
    "top": "150px",
    "width": "392px"
   },
   "toc_section_display": true,
   "toc_window_display": true
  }
 },
 "nbformat": 4,
 "nbformat_minor": 2
}
