{
 "cells": [
  {
   "cell_type": "markdown",
   "metadata": {},
   "source": [
    "# Определение перспективного тарифа для телеком-компании\n",
    "\n",
    "Вы аналитик компании «Мегалайн» — федерального оператора сотовой связи. Клиентам предлагают два тарифных плана: «Смарт» и «Ультра». Чтобы скорректировать рекламный бюджет, коммерческий департамент хочет понять, какой тариф приносит больше денег.\n",
    "\n",
    "Вам предстоит сделать предварительный анализ тарифов на небольшой выборке клиентов. В вашем распоряжении данные 500 пользователей «Мегалайна»: кто они, откуда, каким тарифом пользуются, сколько звонков и сообщений каждый отправил за 2018 год. Нужно проанализировать поведение клиентов и сделать вывод — какой тариф лучше.\n",
    "\n",
    "**Цель исследования**:\n",
    "1. Описать поведение клиентов оператора, исходя из выборки.\n",
    "2. Посчитать среднее количество минут разговора, сообщений и объёма интернет-трафика пользователей каждого тарифа в месяц, дисперсию и стандартное отклонение. Построить гистограммы. Описать распределения.\n",
    "3. Проверить гипотезу: \"Средняя выручка пользователей тарифов «Ультра» и «Смарт» различаются\".\n",
    "4. Проверить гипотезу: \"Средняя выручка пользователей из Москвы отличается от выручки пользователей из других регионов\"."
   ]
  },
  {
   "cell_type": "code",
   "execution_count": 1,
   "metadata": {},
   "outputs": [],
   "source": [
    "# Импортируем модули, которые понадобятся по ходу работы\n",
    "import pandas as pd # Основные интсрументы анализа данных\n",
    "pd.set_option('display.float_format', '{:,.2f}'.format) # Установка количества выводимых знаков после запятой\n",
    "import matplotlib.pyplot as plt # Работа с диаграммами\n",
    "from scipy import stats as st # Инструменты статистического анализа\n",
    "import numpy as np # Инструменты статистического анализа\n",
    "import warnings # Отключение предупреждений\n",
    "warnings.filterwarnings('ignore')"
   ]
  },
  {
   "cell_type": "markdown",
   "metadata": {},
   "source": [
    "Посольку в исследовании нас интересуют данные за месяцы, создадим функцию, которая будет обрабатывать столбцы с датами и выделять из них значение месяца:"
   ]
  },
  {
   "cell_type": "code",
   "execution_count": 2,
   "metadata": {},
   "outputs": [],
   "source": [
    "# Передаем функции таблицу и указываем столбцы\n",
    "def date_select(df, columns):\n",
    "    for name in columns:\n",
    "        # Переводим столбцы с датами в формат datetime\n",
    "        df[name] = pd.to_datetime(df[name], format = ('%Y.%m.%d'))\n",
    "        # Создаем столбец с выделенными месяцами\n",
    "        df['month'] = df[name].dt.month"
   ]
  },
  {
   "cell_type": "markdown",
   "metadata": {},
   "source": [
    "## Изучение данных\n",
    "\n",
    "Для работы с таблицами необходимо импортировать библиотеку Pandas и воспользоваться встроенной в нее функцией чтения файла в переменную.<br>\n",
    "При помощи функции `date_select` выделим значение месяца в отдельный столбец для каждой записи. <br>\n",
    "Звонки и трафик с ненулевой продолжительностью округляем до ближайшего целого значения вверх."
   ]
  },
  {
   "cell_type": "code",
   "execution_count": 3,
   "metadata": {},
   "outputs": [],
   "source": [
    "users = pd.read_csv('/datasets/users.csv')\n",
    "calls = pd.read_csv('/datasets/calls.csv')\n",
    "internet = pd.read_csv('/datasets/internet.csv')\n",
    "messages = pd.read_csv('/datasets/messages.csv')\n",
    "tariffs = pd.read_csv('/datasets/tariffs.csv')"
   ]
  },
  {
   "cell_type": "markdown",
   "metadata": {},
   "source": [
    "### Таблица `users`\n",
    "Согласно документации к данным, таблица `users` содержит информацию о пользователях. В ней 8 столбцов:\n",
    "* `user_id` — уникальный идентификатор пользователя\n",
    "* `first_name` — имя пользователя\n",
    "* `last_name` — фамилия пользователя\n",
    "* `age` — возраст пользователя (годы)\n",
    "* `reg_date` — дата подключения тарифа (день, месяц, год)\n",
    "* `churn_date` — дата прекращения пользования тарифом (если значение пропущено, то тариф ещё действовал на момент выгрузки данных)\n",
    "* `city` — город проживания пользователя\n",
    "* `tariff` — название тарифного плана"
   ]
  },
  {
   "cell_type": "code",
   "execution_count": 4,
   "metadata": {},
   "outputs": [
    {
     "data": {
      "text/html": [
       "<div>\n",
       "<style scoped>\n",
       "    .dataframe tbody tr th:only-of-type {\n",
       "        vertical-align: middle;\n",
       "    }\n",
       "\n",
       "    .dataframe tbody tr th {\n",
       "        vertical-align: top;\n",
       "    }\n",
       "\n",
       "    .dataframe thead th {\n",
       "        text-align: right;\n",
       "    }\n",
       "</style>\n",
       "<table border=\"1\" class=\"dataframe\">\n",
       "  <thead>\n",
       "    <tr style=\"text-align: right;\">\n",
       "      <th></th>\n",
       "      <th>user_id</th>\n",
       "      <th>age</th>\n",
       "      <th>churn_date</th>\n",
       "      <th>city</th>\n",
       "      <th>first_name</th>\n",
       "      <th>last_name</th>\n",
       "      <th>reg_date</th>\n",
       "      <th>tariff</th>\n",
       "    </tr>\n",
       "  </thead>\n",
       "  <tbody>\n",
       "    <tr>\n",
       "      <td>0</td>\n",
       "      <td>1000</td>\n",
       "      <td>52</td>\n",
       "      <td>NaN</td>\n",
       "      <td>Краснодар</td>\n",
       "      <td>Рафаил</td>\n",
       "      <td>Верещагин</td>\n",
       "      <td>2018-05-25</td>\n",
       "      <td>ultra</td>\n",
       "    </tr>\n",
       "    <tr>\n",
       "      <td>1</td>\n",
       "      <td>1001</td>\n",
       "      <td>41</td>\n",
       "      <td>NaN</td>\n",
       "      <td>Москва</td>\n",
       "      <td>Иван</td>\n",
       "      <td>Ежов</td>\n",
       "      <td>2018-11-01</td>\n",
       "      <td>smart</td>\n",
       "    </tr>\n",
       "    <tr>\n",
       "      <td>2</td>\n",
       "      <td>1002</td>\n",
       "      <td>59</td>\n",
       "      <td>NaN</td>\n",
       "      <td>Стерлитамак</td>\n",
       "      <td>Евгений</td>\n",
       "      <td>Абрамович</td>\n",
       "      <td>2018-06-17</td>\n",
       "      <td>smart</td>\n",
       "    </tr>\n",
       "    <tr>\n",
       "      <td>3</td>\n",
       "      <td>1003</td>\n",
       "      <td>23</td>\n",
       "      <td>NaN</td>\n",
       "      <td>Москва</td>\n",
       "      <td>Белла</td>\n",
       "      <td>Белякова</td>\n",
       "      <td>2018-08-17</td>\n",
       "      <td>ultra</td>\n",
       "    </tr>\n",
       "    <tr>\n",
       "      <td>4</td>\n",
       "      <td>1004</td>\n",
       "      <td>68</td>\n",
       "      <td>NaN</td>\n",
       "      <td>Новокузнецк</td>\n",
       "      <td>Татьяна</td>\n",
       "      <td>Авдеенко</td>\n",
       "      <td>2018-05-14</td>\n",
       "      <td>ultra</td>\n",
       "    </tr>\n",
       "  </tbody>\n",
       "</table>\n",
       "</div>"
      ],
      "text/plain": [
       "   user_id  age churn_date         city first_name  last_name    reg_date  \\\n",
       "0     1000   52        NaN    Краснодар     Рафаил  Верещагин  2018-05-25   \n",
       "1     1001   41        NaN       Москва       Иван       Ежов  2018-11-01   \n",
       "2     1002   59        NaN  Стерлитамак    Евгений  Абрамович  2018-06-17   \n",
       "3     1003   23        NaN       Москва      Белла   Белякова  2018-08-17   \n",
       "4     1004   68        NaN  Новокузнецк    Татьяна   Авдеенко  2018-05-14   \n",
       "\n",
       "  tariff  \n",
       "0  ultra  \n",
       "1  smart  \n",
       "2  smart  \n",
       "3  ultra  \n",
       "4  ultra  "
      ]
     },
     "metadata": {},
     "output_type": "display_data"
    },
    {
     "name": "stdout",
     "output_type": "stream",
     "text": [
      "<class 'pandas.core.frame.DataFrame'>\n",
      "RangeIndex: 500 entries, 0 to 499\n",
      "Data columns (total 8 columns):\n",
      "user_id       500 non-null int64\n",
      "age           500 non-null int64\n",
      "churn_date    38 non-null object\n",
      "city          500 non-null object\n",
      "first_name    500 non-null object\n",
      "last_name     500 non-null object\n",
      "reg_date      500 non-null object\n",
      "tariff        500 non-null object\n",
      "dtypes: int64(2), object(6)\n",
      "memory usage: 31.4+ KB\n"
     ]
    }
   ],
   "source": [
    "display(users.head()) # Выводим первые 5 строк таблицы на экран\n",
    "users.info() # Выводим общую информацию о таблице на экран"
   ]
  },
  {
   "cell_type": "markdown",
   "metadata": {},
   "source": [
    "В нашем распоряжении записи о 500 клиентах - и практически во всех столбцах мы имеем 500 значений. Столбец `churn_date` имеет только 38 ненулевых значений, но ошибки в этом нет. Очевидно, на момент выгрузки данных только у 38 абонентов перестал действовать тариф. Обработка пропусков в данном случае не требуется. <br>\n",
    "Стилистических нарушений в названиях столбцов тоже нет. <br>\n",
    "Для столбцов `churn_date` и `reg_date` изменим тип данных на `datetime`."
   ]
  },
  {
   "cell_type": "code",
   "execution_count": 5,
   "metadata": {},
   "outputs": [
    {
     "name": "stdout",
     "output_type": "stream",
     "text": [
      "<class 'pandas.core.frame.DataFrame'>\n",
      "RangeIndex: 500 entries, 0 to 499\n",
      "Data columns (total 8 columns):\n",
      "user_id       500 non-null int64\n",
      "age           500 non-null int64\n",
      "churn_date    38 non-null datetime64[ns]\n",
      "city          500 non-null object\n",
      "first_name    500 non-null object\n",
      "last_name     500 non-null object\n",
      "reg_date      500 non-null datetime64[ns]\n",
      "tariff        500 non-null object\n",
      "dtypes: datetime64[ns](2), int64(2), object(4)\n",
      "memory usage: 31.4+ KB\n"
     ]
    }
   ],
   "source": [
    "# Изменяем тип данных на datetime и выделяем столбец с месяцами\n",
    "for column in ['churn_date', 'reg_date']:\n",
    "    users[column] = pd.to_datetime(users[column], format = ('%Y.%m.%d'))\n",
    "users.info() # Проверяем результат работы"
   ]
  },
  {
   "cell_type": "markdown",
   "metadata": {},
   "source": [
    "### Таблица `calls`\n",
    "Согласно документации к данным, таблица `calls` содержит информацию о звонках. В ней 4 столбца:\n",
    "* `id` — уникальный номер звонка\n",
    "* `call_date` — дата звонка\n",
    "* `duration` — длительность звонка в минутах\n",
    "* `user_id` — идентификатор пользователя, сделавшего звонок"
   ]
  },
  {
   "cell_type": "code",
   "execution_count": 6,
   "metadata": {
    "scrolled": true
   },
   "outputs": [
    {
     "data": {
      "text/html": [
       "<div>\n",
       "<style scoped>\n",
       "    .dataframe tbody tr th:only-of-type {\n",
       "        vertical-align: middle;\n",
       "    }\n",
       "\n",
       "    .dataframe tbody tr th {\n",
       "        vertical-align: top;\n",
       "    }\n",
       "\n",
       "    .dataframe thead th {\n",
       "        text-align: right;\n",
       "    }\n",
       "</style>\n",
       "<table border=\"1\" class=\"dataframe\">\n",
       "  <thead>\n",
       "    <tr style=\"text-align: right;\">\n",
       "      <th></th>\n",
       "      <th>id</th>\n",
       "      <th>call_date</th>\n",
       "      <th>duration</th>\n",
       "      <th>user_id</th>\n",
       "    </tr>\n",
       "  </thead>\n",
       "  <tbody>\n",
       "    <tr>\n",
       "      <td>0</td>\n",
       "      <td>1000_0</td>\n",
       "      <td>2018-07-25</td>\n",
       "      <td>0.00</td>\n",
       "      <td>1000</td>\n",
       "    </tr>\n",
       "    <tr>\n",
       "      <td>1</td>\n",
       "      <td>1000_1</td>\n",
       "      <td>2018-08-17</td>\n",
       "      <td>0.00</td>\n",
       "      <td>1000</td>\n",
       "    </tr>\n",
       "    <tr>\n",
       "      <td>2</td>\n",
       "      <td>1000_2</td>\n",
       "      <td>2018-06-11</td>\n",
       "      <td>2.85</td>\n",
       "      <td>1000</td>\n",
       "    </tr>\n",
       "    <tr>\n",
       "      <td>3</td>\n",
       "      <td>1000_3</td>\n",
       "      <td>2018-09-21</td>\n",
       "      <td>13.80</td>\n",
       "      <td>1000</td>\n",
       "    </tr>\n",
       "    <tr>\n",
       "      <td>4</td>\n",
       "      <td>1000_4</td>\n",
       "      <td>2018-12-15</td>\n",
       "      <td>5.18</td>\n",
       "      <td>1000</td>\n",
       "    </tr>\n",
       "  </tbody>\n",
       "</table>\n",
       "</div>"
      ],
      "text/plain": [
       "       id   call_date  duration  user_id\n",
       "0  1000_0  2018-07-25      0.00     1000\n",
       "1  1000_1  2018-08-17      0.00     1000\n",
       "2  1000_2  2018-06-11      2.85     1000\n",
       "3  1000_3  2018-09-21     13.80     1000\n",
       "4  1000_4  2018-12-15      5.18     1000"
      ]
     },
     "metadata": {},
     "output_type": "display_data"
    },
    {
     "name": "stdout",
     "output_type": "stream",
     "text": [
      "<class 'pandas.core.frame.DataFrame'>\n",
      "RangeIndex: 202607 entries, 0 to 202606\n",
      "Data columns (total 4 columns):\n",
      "id           202607 non-null object\n",
      "call_date    202607 non-null object\n",
      "duration     202607 non-null float64\n",
      "user_id      202607 non-null int64\n",
      "dtypes: float64(1), int64(1), object(2)\n",
      "memory usage: 6.2+ MB\n"
     ]
    }
   ],
   "source": [
    "display(calls.head()) # Выводим первые 5 строк таблицы на экран\n",
    "calls.info() # Выводим общую информацию о таблице на экран"
   ]
  },
  {
   "cell_type": "code",
   "execution_count": 7,
   "metadata": {},
   "outputs": [
    {
     "data": {
      "text/plain": [
       "39613"
      ]
     },
     "execution_count": 7,
     "metadata": {},
     "output_type": "execute_result"
    }
   ],
   "source": [
    "# Подсчитаем количество звонков с нулевой продолжительностью\n",
    "calls[calls['duration']==0]['id'].count()"
   ]
  },
  {
   "cell_type": "markdown",
   "metadata": {},
   "source": [
    "Звонки с нулевой продолжительностью составляют почти 20% от количества исходных данных. Согласно описанию данных, такие звонки являются пропущенными (или отклоненными) и в дополнительной обработке пропусков не нуждаются. <br>\n",
    "Пропущенных значений нет. Стилистических нарушений в названиях столбцов нет. Тип столбца `call_date` изменим на `datetime`."
   ]
  },
  {
   "cell_type": "code",
   "execution_count": 8,
   "metadata": {},
   "outputs": [
    {
     "data": {
      "text/html": [
       "<div>\n",
       "<style scoped>\n",
       "    .dataframe tbody tr th:only-of-type {\n",
       "        vertical-align: middle;\n",
       "    }\n",
       "\n",
       "    .dataframe tbody tr th {\n",
       "        vertical-align: top;\n",
       "    }\n",
       "\n",
       "    .dataframe thead th {\n",
       "        text-align: right;\n",
       "    }\n",
       "</style>\n",
       "<table border=\"1\" class=\"dataframe\">\n",
       "  <thead>\n",
       "    <tr style=\"text-align: right;\">\n",
       "      <th></th>\n",
       "      <th>id</th>\n",
       "      <th>call_date</th>\n",
       "      <th>duration</th>\n",
       "      <th>user_id</th>\n",
       "      <th>month</th>\n",
       "    </tr>\n",
       "  </thead>\n",
       "  <tbody>\n",
       "    <tr>\n",
       "      <td>0</td>\n",
       "      <td>1000_0</td>\n",
       "      <td>2018-07-25</td>\n",
       "      <td>0.00</td>\n",
       "      <td>1000</td>\n",
       "      <td>7</td>\n",
       "    </tr>\n",
       "    <tr>\n",
       "      <td>1</td>\n",
       "      <td>1000_1</td>\n",
       "      <td>2018-08-17</td>\n",
       "      <td>0.00</td>\n",
       "      <td>1000</td>\n",
       "      <td>8</td>\n",
       "    </tr>\n",
       "    <tr>\n",
       "      <td>2</td>\n",
       "      <td>1000_2</td>\n",
       "      <td>2018-06-11</td>\n",
       "      <td>3.00</td>\n",
       "      <td>1000</td>\n",
       "      <td>6</td>\n",
       "    </tr>\n",
       "    <tr>\n",
       "      <td>3</td>\n",
       "      <td>1000_3</td>\n",
       "      <td>2018-09-21</td>\n",
       "      <td>14.00</td>\n",
       "      <td>1000</td>\n",
       "      <td>9</td>\n",
       "    </tr>\n",
       "    <tr>\n",
       "      <td>4</td>\n",
       "      <td>1000_4</td>\n",
       "      <td>2018-12-15</td>\n",
       "      <td>6.00</td>\n",
       "      <td>1000</td>\n",
       "      <td>12</td>\n",
       "    </tr>\n",
       "  </tbody>\n",
       "</table>\n",
       "</div>"
      ],
      "text/plain": [
       "       id  call_date  duration  user_id  month\n",
       "0  1000_0 2018-07-25      0.00     1000      7\n",
       "1  1000_1 2018-08-17      0.00     1000      8\n",
       "2  1000_2 2018-06-11      3.00     1000      6\n",
       "3  1000_3 2018-09-21     14.00     1000      9\n",
       "4  1000_4 2018-12-15      6.00     1000     12"
      ]
     },
     "metadata": {},
     "output_type": "display_data"
    },
    {
     "name": "stdout",
     "output_type": "stream",
     "text": [
      "<class 'pandas.core.frame.DataFrame'>\n",
      "RangeIndex: 202607 entries, 0 to 202606\n",
      "Data columns (total 5 columns):\n",
      "id           202607 non-null object\n",
      "call_date    202607 non-null datetime64[ns]\n",
      "duration     202607 non-null float64\n",
      "user_id      202607 non-null int64\n",
      "month        202607 non-null int64\n",
      "dtypes: datetime64[ns](1), float64(1), int64(2), object(1)\n",
      "memory usage: 7.7+ MB\n"
     ]
    }
   ],
   "source": [
    "# Изменяем тип данных на datetime и выделяем столбец с месяцами\n",
    "date_select(calls, ['call_date'])\n",
    "# Округляем значения звонков вверх\n",
    "calls['duration'] = calls['duration'].apply(np.ceil)\n",
    "display(calls.head()) # Выводим первые 5 строк таблицы на экран\n",
    "calls.info() # Выводим общую информацию о таблице на экран"
   ]
  },
  {
   "cell_type": "markdown",
   "metadata": {},
   "source": [
    "### Таблица `internet`\n",
    "Согласно документации к данным, таблица `internet` содержит информацию об интернет-сессиях. В ней 4 столбца:\n",
    "* `id` — уникальный номер сессии\n",
    "* `mb_used` — объём потраченного за сессию интернет-трафика (в мегабайтах)\n",
    "* `session_date` — дата интернет-сессии\n",
    "* `user_id` — идентификатор пользователя"
   ]
  },
  {
   "cell_type": "code",
   "execution_count": 9,
   "metadata": {},
   "outputs": [
    {
     "data": {
      "text/html": [
       "<div>\n",
       "<style scoped>\n",
       "    .dataframe tbody tr th:only-of-type {\n",
       "        vertical-align: middle;\n",
       "    }\n",
       "\n",
       "    .dataframe tbody tr th {\n",
       "        vertical-align: top;\n",
       "    }\n",
       "\n",
       "    .dataframe thead th {\n",
       "        text-align: right;\n",
       "    }\n",
       "</style>\n",
       "<table border=\"1\" class=\"dataframe\">\n",
       "  <thead>\n",
       "    <tr style=\"text-align: right;\">\n",
       "      <th></th>\n",
       "      <th>Unnamed: 0</th>\n",
       "      <th>id</th>\n",
       "      <th>mb_used</th>\n",
       "      <th>session_date</th>\n",
       "      <th>user_id</th>\n",
       "    </tr>\n",
       "  </thead>\n",
       "  <tbody>\n",
       "    <tr>\n",
       "      <td>0</td>\n",
       "      <td>0</td>\n",
       "      <td>1000_0</td>\n",
       "      <td>112.95</td>\n",
       "      <td>2018-11-25</td>\n",
       "      <td>1000</td>\n",
       "    </tr>\n",
       "    <tr>\n",
       "      <td>1</td>\n",
       "      <td>1</td>\n",
       "      <td>1000_1</td>\n",
       "      <td>1,052.81</td>\n",
       "      <td>2018-09-07</td>\n",
       "      <td>1000</td>\n",
       "    </tr>\n",
       "    <tr>\n",
       "      <td>2</td>\n",
       "      <td>2</td>\n",
       "      <td>1000_2</td>\n",
       "      <td>1,197.26</td>\n",
       "      <td>2018-06-25</td>\n",
       "      <td>1000</td>\n",
       "    </tr>\n",
       "    <tr>\n",
       "      <td>3</td>\n",
       "      <td>3</td>\n",
       "      <td>1000_3</td>\n",
       "      <td>550.27</td>\n",
       "      <td>2018-08-22</td>\n",
       "      <td>1000</td>\n",
       "    </tr>\n",
       "    <tr>\n",
       "      <td>4</td>\n",
       "      <td>4</td>\n",
       "      <td>1000_4</td>\n",
       "      <td>302.56</td>\n",
       "      <td>2018-09-24</td>\n",
       "      <td>1000</td>\n",
       "    </tr>\n",
       "  </tbody>\n",
       "</table>\n",
       "</div>"
      ],
      "text/plain": [
       "   Unnamed: 0      id  mb_used session_date  user_id\n",
       "0           0  1000_0   112.95   2018-11-25     1000\n",
       "1           1  1000_1 1,052.81   2018-09-07     1000\n",
       "2           2  1000_2 1,197.26   2018-06-25     1000\n",
       "3           3  1000_3   550.27   2018-08-22     1000\n",
       "4           4  1000_4   302.56   2018-09-24     1000"
      ]
     },
     "metadata": {},
     "output_type": "display_data"
    },
    {
     "name": "stdout",
     "output_type": "stream",
     "text": [
      "<class 'pandas.core.frame.DataFrame'>\n",
      "RangeIndex: 149396 entries, 0 to 149395\n",
      "Data columns (total 5 columns):\n",
      "Unnamed: 0      149396 non-null int64\n",
      "id              149396 non-null object\n",
      "mb_used         149396 non-null float64\n",
      "session_date    149396 non-null object\n",
      "user_id         149396 non-null int64\n",
      "dtypes: float64(1), int64(2), object(2)\n",
      "memory usage: 5.7+ MB\n"
     ]
    }
   ],
   "source": [
    "display(internet.head()) # Выводим первые 5 строк таблицы на экран\n",
    "internet.info() # Выводим общую информацию о таблице на экран"
   ]
  },
  {
   "cell_type": "markdown",
   "metadata": {},
   "source": [
    "Пропущенных значений нет. Стилистических нарушений в названиях столбцов нет. Тип столбца `session_date` изменим на `datetime`. Столбец `Unnamed: 0` содержит дублирующие индексы, удалим его:"
   ]
  },
  {
   "cell_type": "code",
   "execution_count": 10,
   "metadata": {},
   "outputs": [
    {
     "name": "stdout",
     "output_type": "stream",
     "text": [
      "<class 'pandas.core.frame.DataFrame'>\n",
      "RangeIndex: 149396 entries, 0 to 149395\n",
      "Data columns (total 5 columns):\n",
      "id              149396 non-null object\n",
      "mb_used         149396 non-null float64\n",
      "session_date    149396 non-null datetime64[ns]\n",
      "user_id         149396 non-null int64\n",
      "month           149396 non-null int64\n",
      "dtypes: datetime64[ns](1), float64(1), int64(2), object(1)\n",
      "memory usage: 5.7+ MB\n"
     ]
    }
   ],
   "source": [
    "# Изменяем тип данных на datetime и выделяем столбец с месяцами\n",
    "date_select(internet, ['session_date'])\n",
    "# Удаляем столбец 'Unnamed: 0'\n",
    "internet = internet.drop(['Unnamed: 0'], axis = 1)\n",
    "# Округляем значения трафика вверх\n",
    "internet['mb_used'] = internet['mb_used'].apply(np.ceil)\n",
    "internet.info() # Проверяем результат работы"
   ]
  },
  {
   "cell_type": "markdown",
   "metadata": {},
   "source": [
    "### Столбец `messages`\n",
    "Согласно документации к данным, таблица `messages` содержит информацию о сообщениях. В ней 3 столбца:\n",
    "* id — уникальный номер сообщения\n",
    "* message_date — дата сообщения\n",
    "* user_id — идентификатор пользователя, отправившего сообщение"
   ]
  },
  {
   "cell_type": "code",
   "execution_count": 11,
   "metadata": {},
   "outputs": [
    {
     "data": {
      "text/html": [
       "<div>\n",
       "<style scoped>\n",
       "    .dataframe tbody tr th:only-of-type {\n",
       "        vertical-align: middle;\n",
       "    }\n",
       "\n",
       "    .dataframe tbody tr th {\n",
       "        vertical-align: top;\n",
       "    }\n",
       "\n",
       "    .dataframe thead th {\n",
       "        text-align: right;\n",
       "    }\n",
       "</style>\n",
       "<table border=\"1\" class=\"dataframe\">\n",
       "  <thead>\n",
       "    <tr style=\"text-align: right;\">\n",
       "      <th></th>\n",
       "      <th>id</th>\n",
       "      <th>message_date</th>\n",
       "      <th>user_id</th>\n",
       "    </tr>\n",
       "  </thead>\n",
       "  <tbody>\n",
       "    <tr>\n",
       "      <td>0</td>\n",
       "      <td>1000_0</td>\n",
       "      <td>2018-06-27</td>\n",
       "      <td>1000</td>\n",
       "    </tr>\n",
       "    <tr>\n",
       "      <td>1</td>\n",
       "      <td>1000_1</td>\n",
       "      <td>2018-10-08</td>\n",
       "      <td>1000</td>\n",
       "    </tr>\n",
       "    <tr>\n",
       "      <td>2</td>\n",
       "      <td>1000_2</td>\n",
       "      <td>2018-08-04</td>\n",
       "      <td>1000</td>\n",
       "    </tr>\n",
       "    <tr>\n",
       "      <td>3</td>\n",
       "      <td>1000_3</td>\n",
       "      <td>2018-06-16</td>\n",
       "      <td>1000</td>\n",
       "    </tr>\n",
       "    <tr>\n",
       "      <td>4</td>\n",
       "      <td>1000_4</td>\n",
       "      <td>2018-12-05</td>\n",
       "      <td>1000</td>\n",
       "    </tr>\n",
       "  </tbody>\n",
       "</table>\n",
       "</div>"
      ],
      "text/plain": [
       "       id message_date  user_id\n",
       "0  1000_0   2018-06-27     1000\n",
       "1  1000_1   2018-10-08     1000\n",
       "2  1000_2   2018-08-04     1000\n",
       "3  1000_3   2018-06-16     1000\n",
       "4  1000_4   2018-12-05     1000"
      ]
     },
     "metadata": {},
     "output_type": "display_data"
    },
    {
     "name": "stdout",
     "output_type": "stream",
     "text": [
      "<class 'pandas.core.frame.DataFrame'>\n",
      "RangeIndex: 123036 entries, 0 to 123035\n",
      "Data columns (total 3 columns):\n",
      "id              123036 non-null object\n",
      "message_date    123036 non-null object\n",
      "user_id         123036 non-null int64\n",
      "dtypes: int64(1), object(2)\n",
      "memory usage: 2.8+ MB\n"
     ]
    }
   ],
   "source": [
    "display(messages.head()) # Выводим первые 5 строк таблицы на экран\n",
    "messages.info() # Выводим общую информацию о таблице на экран"
   ]
  },
  {
   "cell_type": "markdown",
   "metadata": {},
   "source": [
    "Пропущенных значений нет. Стилистических нарушений в названиях столбцов нет. Тип столбца `message_date` изменим на `datetime`:"
   ]
  },
  {
   "cell_type": "code",
   "execution_count": 12,
   "metadata": {},
   "outputs": [
    {
     "name": "stdout",
     "output_type": "stream",
     "text": [
      "<class 'pandas.core.frame.DataFrame'>\n",
      "RangeIndex: 123036 entries, 0 to 123035\n",
      "Data columns (total 4 columns):\n",
      "id              123036 non-null object\n",
      "message_date    123036 non-null datetime64[ns]\n",
      "user_id         123036 non-null int64\n",
      "month           123036 non-null int64\n",
      "dtypes: datetime64[ns](1), int64(2), object(1)\n",
      "memory usage: 3.8+ MB\n"
     ]
    }
   ],
   "source": [
    "# Изменяем тип данных на datetime и выделяем столбец с месяцами\n",
    "date_select(messages, ['message_date'])\n",
    "messages.info() # Проверяем результат работы"
   ]
  },
  {
   "cell_type": "markdown",
   "metadata": {},
   "source": [
    "### Столбец `tariffs`\n",
    "Согласно документации к данным, таблица `tariffs` содержит информацию о тарифах. В ней 3 столбца:\n",
    "* `tariff_name` — название тарифа\n",
    "* `rub_monthly_fee` — ежемесячная абонентская плата в рублях\n",
    "* `minutes_included` — количество минут разговора в месяц, включённых в абонентскую плату\n",
    "* `messages_included` — количество сообщений в месяц, включённых в абонентскую плату\n",
    "* `mb_per_month_included` — объём интернет-трафика, включённого в абонентскую плату (в мегабайтах)\n",
    "* `rub_per_minute` — стоимость минуты разговора сверх тарифного пакета (например, если в тарифе 100 минут разговора в месяц, то со 101 минуты будет взиматься плата)\n",
    "* `rub_per_message` — стоимость отправки сообщения сверх тарифного пакета\n",
    "* `rub_per_gb` — стоимость дополнительного гигабайта интернет-трафика сверх тарифного пакета (1 гигабайт = 1024 мегабайта) "
   ]
  },
  {
   "cell_type": "code",
   "execution_count": 13,
   "metadata": {},
   "outputs": [
    {
     "data": {
      "text/html": [
       "<div>\n",
       "<style scoped>\n",
       "    .dataframe tbody tr th:only-of-type {\n",
       "        vertical-align: middle;\n",
       "    }\n",
       "\n",
       "    .dataframe tbody tr th {\n",
       "        vertical-align: top;\n",
       "    }\n",
       "\n",
       "    .dataframe thead th {\n",
       "        text-align: right;\n",
       "    }\n",
       "</style>\n",
       "<table border=\"1\" class=\"dataframe\">\n",
       "  <thead>\n",
       "    <tr style=\"text-align: right;\">\n",
       "      <th></th>\n",
       "      <th>messages_included</th>\n",
       "      <th>mb_per_month_included</th>\n",
       "      <th>minutes_included</th>\n",
       "      <th>rub_monthly_fee</th>\n",
       "      <th>rub_per_gb</th>\n",
       "      <th>rub_per_message</th>\n",
       "      <th>rub_per_minute</th>\n",
       "      <th>tariff_name</th>\n",
       "    </tr>\n",
       "  </thead>\n",
       "  <tbody>\n",
       "    <tr>\n",
       "      <td>0</td>\n",
       "      <td>50</td>\n",
       "      <td>15360</td>\n",
       "      <td>500</td>\n",
       "      <td>550</td>\n",
       "      <td>200</td>\n",
       "      <td>3</td>\n",
       "      <td>3</td>\n",
       "      <td>smart</td>\n",
       "    </tr>\n",
       "    <tr>\n",
       "      <td>1</td>\n",
       "      <td>1000</td>\n",
       "      <td>30720</td>\n",
       "      <td>3000</td>\n",
       "      <td>1950</td>\n",
       "      <td>150</td>\n",
       "      <td>1</td>\n",
       "      <td>1</td>\n",
       "      <td>ultra</td>\n",
       "    </tr>\n",
       "  </tbody>\n",
       "</table>\n",
       "</div>"
      ],
      "text/plain": [
       "   messages_included  mb_per_month_included  minutes_included  \\\n",
       "0                 50                  15360               500   \n",
       "1               1000                  30720              3000   \n",
       "\n",
       "   rub_monthly_fee  rub_per_gb  rub_per_message  rub_per_minute tariff_name  \n",
       "0              550         200                3               3       smart  \n",
       "1             1950         150                1               1       ultra  "
      ]
     },
     "metadata": {},
     "output_type": "display_data"
    },
    {
     "name": "stdout",
     "output_type": "stream",
     "text": [
      "<class 'pandas.core.frame.DataFrame'>\n",
      "RangeIndex: 2 entries, 0 to 1\n",
      "Data columns (total 8 columns):\n",
      "messages_included        2 non-null int64\n",
      "mb_per_month_included    2 non-null int64\n",
      "minutes_included         2 non-null int64\n",
      "rub_monthly_fee          2 non-null int64\n",
      "rub_per_gb               2 non-null int64\n",
      "rub_per_message          2 non-null int64\n",
      "rub_per_minute           2 non-null int64\n",
      "tariff_name              2 non-null object\n",
      "dtypes: int64(7), object(1)\n",
      "memory usage: 256.0+ bytes\n"
     ]
    }
   ],
   "source": [
    "display(tariffs.head()) # Выводим строки таблицы на экран\n",
    "tariffs.info() # Выводим общую информацию о таблице на экран"
   ]
  },
  {
   "cell_type": "markdown",
   "metadata": {},
   "source": [
    "Пропущенных значений нет. Стилистических нарушений в названиях столбцов нет. Изменять типы данных не требуется. <br>\n",
    "Для удобства объединения таблиц в будущем переименуем столбец `tariff_name` в `tariff`:"
   ]
  },
  {
   "cell_type": "code",
   "execution_count": 14,
   "metadata": {},
   "outputs": [],
   "source": [
    "tariffs = tariffs.rename(columns={\"tariff_name\": \"tariff\"})"
   ]
  },
  {
   "cell_type": "markdown",
   "metadata": {},
   "source": [
    "### Вывод\n",
    "Значительных проблем с данными с таблицах не обнаружено. Имеющиеся нулевые значения не требуют дополнительной обработки. Тип данных столюцов, содержащих информацию о дате, был изменен на `datetime`. Нецелые ненулевые значения трафика и продолжительности звонков были округлены до ближайшего целого значения вверх.\n",
    "\n",
    "## Подготовка данных\n",
    "В разделе для каждого пользователя будет рассчитано:\n",
    "* Количество сделанных звонков и израсходованных минут разговора по месяцам;\n",
    "* Количество отправленных сообщений по месяцам;\n",
    "* Объем израсходованного интернет-трафика по месяцам;\n",
    "* Помесячную выручку с каждого пользователя.\n",
    "\n",
    "Для этого сначала в каждой таблице группируем значения по параметрам \"пользователь\" и \"месяц\". Затем объединяем их с таблицей `user` и рассчитываем выручку с каждого пользователя."
   ]
  },
  {
   "cell_type": "markdown",
   "metadata": {},
   "source": [
    "### Количество звонков\n",
    "Обработаем таблицу `calls`: сгруппируем по столбцам `user_id` и `call_date_month`.\n",
    "Согласно описаню данных, звонки и трафик с нулевой продолительностью в обработке не нуждаются - они сами схлопнутся при группировке данных. <br>\n",
    "Относительно причин появления: для звонков это может включать и пропущенные, и отклоненные - мы не можем знать наверняка. Для трафика же я вижу одну причину - он просто не используется. Учитывая, что в городах устройства сейчас большую часть времени подключены к сетям Wi-Fi, это звучит вполне правдоподобно."
   ]
  },
  {
   "cell_type": "code",
   "execution_count": 15,
   "metadata": {},
   "outputs": [
    {
     "data": {
      "text/html": [
       "<div>\n",
       "<style scoped>\n",
       "    .dataframe tbody tr th:only-of-type {\n",
       "        vertical-align: middle;\n",
       "    }\n",
       "\n",
       "    .dataframe tbody tr th {\n",
       "        vertical-align: top;\n",
       "    }\n",
       "\n",
       "    .dataframe thead th {\n",
       "        text-align: right;\n",
       "    }\n",
       "</style>\n",
       "<table border=\"1\" class=\"dataframe\">\n",
       "  <thead>\n",
       "    <tr style=\"text-align: right;\">\n",
       "      <th></th>\n",
       "      <th>user_id</th>\n",
       "      <th>month</th>\n",
       "      <th>duration</th>\n",
       "    </tr>\n",
       "  </thead>\n",
       "  <tbody>\n",
       "    <tr>\n",
       "      <td>0</td>\n",
       "      <td>1000</td>\n",
       "      <td>5</td>\n",
       "      <td>159.00</td>\n",
       "    </tr>\n",
       "    <tr>\n",
       "      <td>1</td>\n",
       "      <td>1000</td>\n",
       "      <td>6</td>\n",
       "      <td>172.00</td>\n",
       "    </tr>\n",
       "    <tr>\n",
       "      <td>2</td>\n",
       "      <td>1000</td>\n",
       "      <td>7</td>\n",
       "      <td>340.00</td>\n",
       "    </tr>\n",
       "    <tr>\n",
       "      <td>3</td>\n",
       "      <td>1000</td>\n",
       "      <td>8</td>\n",
       "      <td>408.00</td>\n",
       "    </tr>\n",
       "    <tr>\n",
       "      <td>4</td>\n",
       "      <td>1000</td>\n",
       "      <td>9</td>\n",
       "      <td>466.00</td>\n",
       "    </tr>\n",
       "  </tbody>\n",
       "</table>\n",
       "</div>"
      ],
      "text/plain": [
       "   user_id  month  duration\n",
       "0     1000      5    159.00\n",
       "1     1000      6    172.00\n",
       "2     1000      7    340.00\n",
       "3     1000      8    408.00\n",
       "4     1000      9    466.00"
      ]
     },
     "execution_count": 15,
     "metadata": {},
     "output_type": "execute_result"
    }
   ],
   "source": [
    "calls = calls.groupby(['user_id', 'month']).agg({'duration': 'sum'}).reset_index()\n",
    "calls.head()"
   ]
  },
  {
   "cell_type": "markdown",
   "metadata": {},
   "source": [
    "### Количество интернет-трафика\n",
    "Аналогично поступим с таблицей `internet`: группируем по столбцам `user_id` и `session_date_month`."
   ]
  },
  {
   "cell_type": "code",
   "execution_count": 16,
   "metadata": {},
   "outputs": [
    {
     "data": {
      "text/html": [
       "<div>\n",
       "<style scoped>\n",
       "    .dataframe tbody tr th:only-of-type {\n",
       "        vertical-align: middle;\n",
       "    }\n",
       "\n",
       "    .dataframe tbody tr th {\n",
       "        vertical-align: top;\n",
       "    }\n",
       "\n",
       "    .dataframe thead th {\n",
       "        text-align: right;\n",
       "    }\n",
       "</style>\n",
       "<table border=\"1\" class=\"dataframe\">\n",
       "  <thead>\n",
       "    <tr style=\"text-align: right;\">\n",
       "      <th></th>\n",
       "      <th>user_id</th>\n",
       "      <th>month</th>\n",
       "      <th>mb_used</th>\n",
       "    </tr>\n",
       "  </thead>\n",
       "  <tbody>\n",
       "    <tr>\n",
       "      <td>0</td>\n",
       "      <td>1000</td>\n",
       "      <td>5</td>\n",
       "      <td>2,256.00</td>\n",
       "    </tr>\n",
       "    <tr>\n",
       "      <td>1</td>\n",
       "      <td>1000</td>\n",
       "      <td>6</td>\n",
       "      <td>23,257.00</td>\n",
       "    </tr>\n",
       "    <tr>\n",
       "      <td>2</td>\n",
       "      <td>1000</td>\n",
       "      <td>7</td>\n",
       "      <td>14,016.00</td>\n",
       "    </tr>\n",
       "    <tr>\n",
       "      <td>3</td>\n",
       "      <td>1000</td>\n",
       "      <td>8</td>\n",
       "      <td>14,070.00</td>\n",
       "    </tr>\n",
       "    <tr>\n",
       "      <td>4</td>\n",
       "      <td>1000</td>\n",
       "      <td>9</td>\n",
       "      <td>14,581.00</td>\n",
       "    </tr>\n",
       "  </tbody>\n",
       "</table>\n",
       "</div>"
      ],
      "text/plain": [
       "   user_id  month   mb_used\n",
       "0     1000      5  2,256.00\n",
       "1     1000      6 23,257.00\n",
       "2     1000      7 14,016.00\n",
       "3     1000      8 14,070.00\n",
       "4     1000      9 14,581.00"
      ]
     },
     "execution_count": 16,
     "metadata": {},
     "output_type": "execute_result"
    }
   ],
   "source": [
    "internet = internet.groupby(['user_id', 'month']).agg({'mb_used': 'sum'}).reset_index()\n",
    "internet.head()"
   ]
  },
  {
   "cell_type": "markdown",
   "metadata": {},
   "source": [
    "### Количество сообщений\n",
    "Аналогично поступим с таблицей `messages`: группируем по столбцам `user_id` и `message_date_month`."
   ]
  },
  {
   "cell_type": "code",
   "execution_count": 17,
   "metadata": {},
   "outputs": [
    {
     "data": {
      "text/html": [
       "<div>\n",
       "<style scoped>\n",
       "    .dataframe tbody tr th:only-of-type {\n",
       "        vertical-align: middle;\n",
       "    }\n",
       "\n",
       "    .dataframe tbody tr th {\n",
       "        vertical-align: top;\n",
       "    }\n",
       "\n",
       "    .dataframe thead th {\n",
       "        text-align: right;\n",
       "    }\n",
       "</style>\n",
       "<table border=\"1\" class=\"dataframe\">\n",
       "  <thead>\n",
       "    <tr style=\"text-align: right;\">\n",
       "      <th></th>\n",
       "      <th>user_id</th>\n",
       "      <th>month</th>\n",
       "      <th>messages</th>\n",
       "    </tr>\n",
       "  </thead>\n",
       "  <tbody>\n",
       "    <tr>\n",
       "      <td>0</td>\n",
       "      <td>1000</td>\n",
       "      <td>5</td>\n",
       "      <td>22</td>\n",
       "    </tr>\n",
       "    <tr>\n",
       "      <td>1</td>\n",
       "      <td>1000</td>\n",
       "      <td>6</td>\n",
       "      <td>60</td>\n",
       "    </tr>\n",
       "    <tr>\n",
       "      <td>2</td>\n",
       "      <td>1000</td>\n",
       "      <td>7</td>\n",
       "      <td>75</td>\n",
       "    </tr>\n",
       "    <tr>\n",
       "      <td>3</td>\n",
       "      <td>1000</td>\n",
       "      <td>8</td>\n",
       "      <td>81</td>\n",
       "    </tr>\n",
       "    <tr>\n",
       "      <td>4</td>\n",
       "      <td>1000</td>\n",
       "      <td>9</td>\n",
       "      <td>57</td>\n",
       "    </tr>\n",
       "  </tbody>\n",
       "</table>\n",
       "</div>"
      ],
      "text/plain": [
       "   user_id  month  messages\n",
       "0     1000      5        22\n",
       "1     1000      6        60\n",
       "2     1000      7        75\n",
       "3     1000      8        81\n",
       "4     1000      9        57"
      ]
     },
     "execution_count": 17,
     "metadata": {},
     "output_type": "execute_result"
    }
   ],
   "source": [
    "messages = messages.groupby(['user_id', 'month']).agg({'id': 'count'}).reset_index()\n",
    "messages = messages.rename(columns={\"id\": \"messages\"}) # Переименуем столбец\n",
    "messages.head()"
   ]
  },
  {
   "cell_type": "markdown",
   "metadata": {},
   "source": [
    "### Объединение таблиц\n",
    "Теперь необходимо объеденить все обработанные выше таблицы в одну по ключевым столбцам `user_id` и `month`."
   ]
  },
  {
   "cell_type": "code",
   "execution_count": 18,
   "metadata": {
    "scrolled": false
   },
   "outputs": [
    {
     "data": {
      "text/html": [
       "<div>\n",
       "<style scoped>\n",
       "    .dataframe tbody tr th:only-of-type {\n",
       "        vertical-align: middle;\n",
       "    }\n",
       "\n",
       "    .dataframe tbody tr th {\n",
       "        vertical-align: top;\n",
       "    }\n",
       "\n",
       "    .dataframe thead th {\n",
       "        text-align: right;\n",
       "    }\n",
       "</style>\n",
       "<table border=\"1\" class=\"dataframe\">\n",
       "  <thead>\n",
       "    <tr style=\"text-align: right;\">\n",
       "      <th></th>\n",
       "      <th>user_id</th>\n",
       "      <th>month</th>\n",
       "      <th>duration</th>\n",
       "      <th>mb_used</th>\n",
       "      <th>messages</th>\n",
       "    </tr>\n",
       "  </thead>\n",
       "  <tbody>\n",
       "    <tr>\n",
       "      <td>0</td>\n",
       "      <td>1000</td>\n",
       "      <td>5</td>\n",
       "      <td>159.00</td>\n",
       "      <td>2,256.00</td>\n",
       "      <td>22.00</td>\n",
       "    </tr>\n",
       "    <tr>\n",
       "      <td>1</td>\n",
       "      <td>1000</td>\n",
       "      <td>6</td>\n",
       "      <td>172.00</td>\n",
       "      <td>23,257.00</td>\n",
       "      <td>60.00</td>\n",
       "    </tr>\n",
       "    <tr>\n",
       "      <td>2</td>\n",
       "      <td>1000</td>\n",
       "      <td>7</td>\n",
       "      <td>340.00</td>\n",
       "      <td>14,016.00</td>\n",
       "      <td>75.00</td>\n",
       "    </tr>\n",
       "    <tr>\n",
       "      <td>3</td>\n",
       "      <td>1000</td>\n",
       "      <td>8</td>\n",
       "      <td>408.00</td>\n",
       "      <td>14,070.00</td>\n",
       "      <td>81.00</td>\n",
       "    </tr>\n",
       "    <tr>\n",
       "      <td>4</td>\n",
       "      <td>1000</td>\n",
       "      <td>9</td>\n",
       "      <td>466.00</td>\n",
       "      <td>14,581.00</td>\n",
       "      <td>57.00</td>\n",
       "    </tr>\n",
       "  </tbody>\n",
       "</table>\n",
       "</div>"
      ],
      "text/plain": [
       "   user_id  month  duration   mb_used  messages\n",
       "0     1000      5    159.00  2,256.00     22.00\n",
       "1     1000      6    172.00 23,257.00     60.00\n",
       "2     1000      7    340.00 14,016.00     75.00\n",
       "3     1000      8    408.00 14,070.00     81.00\n",
       "4     1000      9    466.00 14,581.00     57.00"
      ]
     },
     "execution_count": 18,
     "metadata": {},
     "output_type": "execute_result"
    }
   ],
   "source": [
    "report = (calls.merge(internet, on = ['user_id', 'month'], how = 'outer').\n",
    "          merge(messages, on = ['user_id', 'month'], how = 'outer'))\n",
    "report.head()"
   ]
  },
  {
   "cell_type": "markdown",
   "metadata": {},
   "source": [
    "Далее объеденяем эти данные с таблицами `users` и `tariffs` и получаем датасет для дальнейшего анализа:"
   ]
  },
  {
   "cell_type": "code",
   "execution_count": 19,
   "metadata": {
    "scrolled": false
   },
   "outputs": [
    {
     "name": "stdout",
     "output_type": "stream",
     "text": [
      "<class 'pandas.core.frame.DataFrame'>\n",
      "Int64Index: 3216 entries, 0 to 3215\n",
      "Data columns (total 19 columns):\n",
      "user_id                  3216 non-null int64\n",
      "age                      3216 non-null int64\n",
      "churn_date               189 non-null datetime64[ns]\n",
      "city                     3216 non-null object\n",
      "first_name               3216 non-null object\n",
      "last_name                3216 non-null object\n",
      "reg_date                 3216 non-null datetime64[ns]\n",
      "tariff                   3216 non-null object\n",
      "month                    3214 non-null float64\n",
      "duration                 3174 non-null float64\n",
      "mb_used                  3203 non-null float64\n",
      "messages                 2717 non-null float64\n",
      "messages_included        3216 non-null int64\n",
      "mb_per_month_included    3216 non-null int64\n",
      "minutes_included         3216 non-null int64\n",
      "rub_monthly_fee          3216 non-null int64\n",
      "rub_per_gb               3216 non-null int64\n",
      "rub_per_message          3216 non-null int64\n",
      "rub_per_minute           3216 non-null int64\n",
      "dtypes: datetime64[ns](2), float64(4), int64(9), object(4)\n",
      "memory usage: 502.5+ KB\n"
     ]
    },
    {
     "data": {
      "text/html": [
       "<div>\n",
       "<style scoped>\n",
       "    .dataframe tbody tr th:only-of-type {\n",
       "        vertical-align: middle;\n",
       "    }\n",
       "\n",
       "    .dataframe tbody tr th {\n",
       "        vertical-align: top;\n",
       "    }\n",
       "\n",
       "    .dataframe thead th {\n",
       "        text-align: right;\n",
       "    }\n",
       "</style>\n",
       "<table border=\"1\" class=\"dataframe\">\n",
       "  <thead>\n",
       "    <tr style=\"text-align: right;\">\n",
       "      <th></th>\n",
       "      <th>user_id</th>\n",
       "      <th>age</th>\n",
       "      <th>churn_date</th>\n",
       "      <th>city</th>\n",
       "      <th>first_name</th>\n",
       "      <th>last_name</th>\n",
       "      <th>reg_date</th>\n",
       "      <th>tariff</th>\n",
       "      <th>month</th>\n",
       "      <th>duration</th>\n",
       "      <th>mb_used</th>\n",
       "      <th>messages</th>\n",
       "      <th>messages_included</th>\n",
       "      <th>mb_per_month_included</th>\n",
       "      <th>minutes_included</th>\n",
       "      <th>rub_monthly_fee</th>\n",
       "      <th>rub_per_gb</th>\n",
       "      <th>rub_per_message</th>\n",
       "      <th>rub_per_minute</th>\n",
       "    </tr>\n",
       "  </thead>\n",
       "  <tbody>\n",
       "    <tr>\n",
       "      <td>0</td>\n",
       "      <td>1000</td>\n",
       "      <td>52</td>\n",
       "      <td>NaT</td>\n",
       "      <td>Краснодар</td>\n",
       "      <td>Рафаил</td>\n",
       "      <td>Верещагин</td>\n",
       "      <td>2018-05-25</td>\n",
       "      <td>ultra</td>\n",
       "      <td>5.00</td>\n",
       "      <td>159.00</td>\n",
       "      <td>2,256.00</td>\n",
       "      <td>22.00</td>\n",
       "      <td>1000</td>\n",
       "      <td>30720</td>\n",
       "      <td>3000</td>\n",
       "      <td>1950</td>\n",
       "      <td>150</td>\n",
       "      <td>1</td>\n",
       "      <td>1</td>\n",
       "    </tr>\n",
       "    <tr>\n",
       "      <td>1</td>\n",
       "      <td>1000</td>\n",
       "      <td>52</td>\n",
       "      <td>NaT</td>\n",
       "      <td>Краснодар</td>\n",
       "      <td>Рафаил</td>\n",
       "      <td>Верещагин</td>\n",
       "      <td>2018-05-25</td>\n",
       "      <td>ultra</td>\n",
       "      <td>6.00</td>\n",
       "      <td>172.00</td>\n",
       "      <td>23,257.00</td>\n",
       "      <td>60.00</td>\n",
       "      <td>1000</td>\n",
       "      <td>30720</td>\n",
       "      <td>3000</td>\n",
       "      <td>1950</td>\n",
       "      <td>150</td>\n",
       "      <td>1</td>\n",
       "      <td>1</td>\n",
       "    </tr>\n",
       "    <tr>\n",
       "      <td>2</td>\n",
       "      <td>1000</td>\n",
       "      <td>52</td>\n",
       "      <td>NaT</td>\n",
       "      <td>Краснодар</td>\n",
       "      <td>Рафаил</td>\n",
       "      <td>Верещагин</td>\n",
       "      <td>2018-05-25</td>\n",
       "      <td>ultra</td>\n",
       "      <td>7.00</td>\n",
       "      <td>340.00</td>\n",
       "      <td>14,016.00</td>\n",
       "      <td>75.00</td>\n",
       "      <td>1000</td>\n",
       "      <td>30720</td>\n",
       "      <td>3000</td>\n",
       "      <td>1950</td>\n",
       "      <td>150</td>\n",
       "      <td>1</td>\n",
       "      <td>1</td>\n",
       "    </tr>\n",
       "    <tr>\n",
       "      <td>3</td>\n",
       "      <td>1000</td>\n",
       "      <td>52</td>\n",
       "      <td>NaT</td>\n",
       "      <td>Краснодар</td>\n",
       "      <td>Рафаил</td>\n",
       "      <td>Верещагин</td>\n",
       "      <td>2018-05-25</td>\n",
       "      <td>ultra</td>\n",
       "      <td>8.00</td>\n",
       "      <td>408.00</td>\n",
       "      <td>14,070.00</td>\n",
       "      <td>81.00</td>\n",
       "      <td>1000</td>\n",
       "      <td>30720</td>\n",
       "      <td>3000</td>\n",
       "      <td>1950</td>\n",
       "      <td>150</td>\n",
       "      <td>1</td>\n",
       "      <td>1</td>\n",
       "    </tr>\n",
       "    <tr>\n",
       "      <td>4</td>\n",
       "      <td>1000</td>\n",
       "      <td>52</td>\n",
       "      <td>NaT</td>\n",
       "      <td>Краснодар</td>\n",
       "      <td>Рафаил</td>\n",
       "      <td>Верещагин</td>\n",
       "      <td>2018-05-25</td>\n",
       "      <td>ultra</td>\n",
       "      <td>9.00</td>\n",
       "      <td>466.00</td>\n",
       "      <td>14,581.00</td>\n",
       "      <td>57.00</td>\n",
       "      <td>1000</td>\n",
       "      <td>30720</td>\n",
       "      <td>3000</td>\n",
       "      <td>1950</td>\n",
       "      <td>150</td>\n",
       "      <td>1</td>\n",
       "      <td>1</td>\n",
       "    </tr>\n",
       "  </tbody>\n",
       "</table>\n",
       "</div>"
      ],
      "text/plain": [
       "   user_id  age churn_date       city first_name  last_name   reg_date tariff  \\\n",
       "0     1000   52        NaT  Краснодар     Рафаил  Верещагин 2018-05-25  ultra   \n",
       "1     1000   52        NaT  Краснодар     Рафаил  Верещагин 2018-05-25  ultra   \n",
       "2     1000   52        NaT  Краснодар     Рафаил  Верещагин 2018-05-25  ultra   \n",
       "3     1000   52        NaT  Краснодар     Рафаил  Верещагин 2018-05-25  ultra   \n",
       "4     1000   52        NaT  Краснодар     Рафаил  Верещагин 2018-05-25  ultra   \n",
       "\n",
       "   month  duration   mb_used  messages  messages_included  \\\n",
       "0   5.00    159.00  2,256.00     22.00               1000   \n",
       "1   6.00    172.00 23,257.00     60.00               1000   \n",
       "2   7.00    340.00 14,016.00     75.00               1000   \n",
       "3   8.00    408.00 14,070.00     81.00               1000   \n",
       "4   9.00    466.00 14,581.00     57.00               1000   \n",
       "\n",
       "   mb_per_month_included  minutes_included  rub_monthly_fee  rub_per_gb  \\\n",
       "0                  30720              3000             1950         150   \n",
       "1                  30720              3000             1950         150   \n",
       "2                  30720              3000             1950         150   \n",
       "3                  30720              3000             1950         150   \n",
       "4                  30720              3000             1950         150   \n",
       "\n",
       "   rub_per_message  rub_per_minute  \n",
       "0                1               1  \n",
       "1                1               1  \n",
       "2                1               1  \n",
       "3                1               1  \n",
       "4                1               1  "
      ]
     },
     "metadata": {},
     "output_type": "display_data"
    }
   ],
   "source": [
    "full_report = users.merge(report, on = ['user_id'], how = 'outer')\n",
    "full_report = full_report.merge(tariffs, on = ['tariff'], how = 'outer')\n",
    "full_report.info()\n",
    "display(full_report.head())"
   ]
  },
  {
   "cell_type": "markdown",
   "metadata": {},
   "source": [
    "Оставшие в таблице пропуски (кроме столбца `churn_date`) можно заполнить нулевыми значениями - это говорит о том, что в указанный период времени абонент не пользовался услугами."
   ]
  },
  {
   "cell_type": "code",
   "execution_count": 20,
   "metadata": {},
   "outputs": [
    {
     "name": "stdout",
     "output_type": "stream",
     "text": [
      "<class 'pandas.core.frame.DataFrame'>\n",
      "Int64Index: 3216 entries, 0 to 3215\n",
      "Data columns (total 19 columns):\n",
      "user_id                  3216 non-null int64\n",
      "age                      3216 non-null int64\n",
      "churn_date               189 non-null datetime64[ns]\n",
      "city                     3216 non-null object\n",
      "first_name               3216 non-null object\n",
      "last_name                3216 non-null object\n",
      "reg_date                 3216 non-null datetime64[ns]\n",
      "tariff                   3216 non-null object\n",
      "month                    3216 non-null float64\n",
      "duration                 3216 non-null float64\n",
      "mb_used                  3216 non-null float64\n",
      "messages                 3216 non-null float64\n",
      "messages_included        3216 non-null int64\n",
      "mb_per_month_included    3216 non-null int64\n",
      "minutes_included         3216 non-null int64\n",
      "rub_monthly_fee          3216 non-null int64\n",
      "rub_per_gb               3216 non-null int64\n",
      "rub_per_message          3216 non-null int64\n",
      "rub_per_minute           3216 non-null int64\n",
      "dtypes: datetime64[ns](2), float64(4), int64(9), object(4)\n",
      "memory usage: 502.5+ KB\n"
     ]
    }
   ],
   "source": [
    "churn_temp = full_report['churn_date'] # Сохраняем столбец во временной переменной\n",
    "full_report = full_report.fillna(0) # Заполняем пропуски нулями\n",
    "full_report['churn_date'] = churn_temp # Возвращаем исходное значение столбца\n",
    "full_report.info()"
   ]
  },
  {
   "cell_type": "markdown",
   "metadata": {},
   "source": [
    "### Расчет ежемесячной выручки с клиента\n",
    "Для расчета необходимо найти превышения тарифных лимитов, рассчитать их стоимость, и суммировать с абонентской платой. <br>\n",
    "Сначала рассчитаем количество минут, превыщающих тарифное, для каждого пользователя помесячно:"
   ]
  },
  {
   "cell_type": "code",
   "execution_count": 21,
   "metadata": {},
   "outputs": [],
   "source": [
    "# Количество минут сверх пакета\n",
    "full_report['minutes_over'] = full_report['duration'] - full_report['minutes_included']\n",
    "# Заменяем на 0 случаи, когда пользователь не превышал пакет\n",
    "full_report.loc[full_report['minutes_over'] < 0, 'minutes_over'] = 0"
   ]
  },
  {
   "cell_type": "markdown",
   "metadata": {},
   "source": [
    "Далее считаем превышение по трафику - находим превышение, переводим в Гб, округляем вверх."
   ]
  },
  {
   "cell_type": "code",
   "execution_count": 22,
   "metadata": {},
   "outputs": [],
   "source": [
    "# Количество Гб сверх пакета\n",
    "full_report['gb_over'] = ((full_report['mb_used'] - full_report['mb_per_month_included']) / 1024).apply(np.ceil)\n",
    "# Заменяем на 0 случаи, когда пользователь не превышал пакет\n",
    "full_report.loc[full_report['gb_over'] < 0, 'gb_over'] = 0"
   ]
  },
  {
   "cell_type": "markdown",
   "metadata": {},
   "source": [
    "Далее считаем превышение по количеству сообщений:"
   ]
  },
  {
   "cell_type": "code",
   "execution_count": 23,
   "metadata": {},
   "outputs": [],
   "source": [
    "# Количество сообщений сверх пакета\n",
    "full_report['messages_over'] = full_report['messages'] - full_report['messages_included']\n",
    "# Заменяем на 0 случаи, когда пользователь не превышал пакет\n",
    "full_report.loc[full_report['messages_over'] < 0, 'messages_over'] = 0"
   ]
  },
  {
   "cell_type": "markdown",
   "metadata": {},
   "source": [
    "Далее находим помесячную выручку с каждого пользователя:"
   ]
  },
  {
   "cell_type": "code",
   "execution_count": 24,
   "metadata": {},
   "outputs": [],
   "source": [
    "full_report['monthly_profit'] = ((full_report['minutes_over'] * full_report['rub_per_minute'])\n",
    "                                + (full_report['gb_over'] * full_report['rub_per_gb'])\n",
    "                                + (full_report['messages_over'] * full_report['rub_per_message'])\n",
    "                                + full_report['rub_monthly_fee']).astype('int')"
   ]
  },
  {
   "cell_type": "markdown",
   "metadata": {},
   "source": [
    "Далее очистим таблицу от столбцов, которые не пригодятся в последующем исследовании."
   ]
  },
  {
   "cell_type": "code",
   "execution_count": 25,
   "metadata": {},
   "outputs": [
    {
     "data": {
      "text/html": [
       "<div>\n",
       "<style scoped>\n",
       "    .dataframe tbody tr th:only-of-type {\n",
       "        vertical-align: middle;\n",
       "    }\n",
       "\n",
       "    .dataframe tbody tr th {\n",
       "        vertical-align: top;\n",
       "    }\n",
       "\n",
       "    .dataframe thead th {\n",
       "        text-align: right;\n",
       "    }\n",
       "</style>\n",
       "<table border=\"1\" class=\"dataframe\">\n",
       "  <thead>\n",
       "    <tr style=\"text-align: right;\">\n",
       "      <th></th>\n",
       "      <th>user_id</th>\n",
       "      <th>city</th>\n",
       "      <th>tariff</th>\n",
       "      <th>month</th>\n",
       "      <th>duration</th>\n",
       "      <th>mb_used</th>\n",
       "      <th>messages</th>\n",
       "      <th>monthly_profit</th>\n",
       "    </tr>\n",
       "  </thead>\n",
       "  <tbody>\n",
       "    <tr>\n",
       "      <td>0</td>\n",
       "      <td>1000</td>\n",
       "      <td>Краснодар</td>\n",
       "      <td>ultra</td>\n",
       "      <td>5</td>\n",
       "      <td>159</td>\n",
       "      <td>2256</td>\n",
       "      <td>22</td>\n",
       "      <td>1950</td>\n",
       "    </tr>\n",
       "    <tr>\n",
       "      <td>1</td>\n",
       "      <td>1000</td>\n",
       "      <td>Краснодар</td>\n",
       "      <td>ultra</td>\n",
       "      <td>6</td>\n",
       "      <td>172</td>\n",
       "      <td>23257</td>\n",
       "      <td>60</td>\n",
       "      <td>1950</td>\n",
       "    </tr>\n",
       "    <tr>\n",
       "      <td>2</td>\n",
       "      <td>1000</td>\n",
       "      <td>Краснодар</td>\n",
       "      <td>ultra</td>\n",
       "      <td>7</td>\n",
       "      <td>340</td>\n",
       "      <td>14016</td>\n",
       "      <td>75</td>\n",
       "      <td>1950</td>\n",
       "    </tr>\n",
       "    <tr>\n",
       "      <td>3</td>\n",
       "      <td>1000</td>\n",
       "      <td>Краснодар</td>\n",
       "      <td>ultra</td>\n",
       "      <td>8</td>\n",
       "      <td>408</td>\n",
       "      <td>14070</td>\n",
       "      <td>81</td>\n",
       "      <td>1950</td>\n",
       "    </tr>\n",
       "    <tr>\n",
       "      <td>4</td>\n",
       "      <td>1000</td>\n",
       "      <td>Краснодар</td>\n",
       "      <td>ultra</td>\n",
       "      <td>9</td>\n",
       "      <td>466</td>\n",
       "      <td>14581</td>\n",
       "      <td>57</td>\n",
       "      <td>1950</td>\n",
       "    </tr>\n",
       "  </tbody>\n",
       "</table>\n",
       "</div>"
      ],
      "text/plain": [
       "   user_id       city tariff  month  duration  mb_used  messages  \\\n",
       "0     1000  Краснодар  ultra      5       159     2256        22   \n",
       "1     1000  Краснодар  ultra      6       172    23257        60   \n",
       "2     1000  Краснодар  ultra      7       340    14016        75   \n",
       "3     1000  Краснодар  ultra      8       408    14070        81   \n",
       "4     1000  Краснодар  ultra      9       466    14581        57   \n",
       "\n",
       "   monthly_profit  \n",
       "0            1950  \n",
       "1            1950  \n",
       "2            1950  \n",
       "3            1950  \n",
       "4            1950  "
      ]
     },
     "execution_count": 25,
     "metadata": {},
     "output_type": "execute_result"
    }
   ],
   "source": [
    "full_report = full_report[['user_id',\n",
    "                          'city',\n",
    "                          'tariff',\n",
    "                          'month',\n",
    "                          'duration',\n",
    "                          'mb_used',\n",
    "                          'messages',\n",
    "                          'monthly_profit']]\n",
    "\n",
    "# Сменим тип данных на целочисленный для выбранных столбцов\n",
    "for name in ['month', 'duration', 'mb_used', 'messages']:\n",
    "    full_report[name] = full_report[name].astype('int')\n",
    "    \n",
    "full_report.head()"
   ]
  },
  {
   "cell_type": "markdown",
   "metadata": {},
   "source": [
    "### Вывод\n",
    "В разделе были подсчитаны месячные количество сообщений, продолжительность звонков и объем интернет-трафика для каждого пользователя. На основе этих данных были найдены месячные прибыли с каждого клиента.\n",
    "\n",
    "## Анализ данных\n",
    "В разделе опишем поведение клиентов оператора, исходя из выборки: сколько минут разговора, сколько сообщений и какой объём интернет-трафика требуется пользователям каждого тарифа в месяц. Посчитаем среднее количество, дисперсию и стандартное отклонение. Построим гистограммы и опишем распределения.\n",
    "\n",
    "### Количество звонков"
   ]
  },
  {
   "cell_type": "code",
   "execution_count": 26,
   "metadata": {},
   "outputs": [
    {
     "data": {
      "text/html": [
       "<div>\n",
       "<style scoped>\n",
       "    .dataframe tbody tr th:only-of-type {\n",
       "        vertical-align: middle;\n",
       "    }\n",
       "\n",
       "    .dataframe tbody tr th {\n",
       "        vertical-align: top;\n",
       "    }\n",
       "\n",
       "    .dataframe thead tr th {\n",
       "        text-align: left;\n",
       "    }\n",
       "\n",
       "    .dataframe thead tr:last-of-type th {\n",
       "        text-align: right;\n",
       "    }\n",
       "</style>\n",
       "<table border=\"1\" class=\"dataframe\">\n",
       "  <thead>\n",
       "    <tr>\n",
       "      <th></th>\n",
       "      <th colspan=\"3\" halign=\"left\">duration</th>\n",
       "    </tr>\n",
       "    <tr>\n",
       "      <th></th>\n",
       "      <th>mean</th>\n",
       "      <th>var</th>\n",
       "      <th>std</th>\n",
       "    </tr>\n",
       "    <tr>\n",
       "      <th>tariff</th>\n",
       "      <th></th>\n",
       "      <th></th>\n",
       "      <th></th>\n",
       "    </tr>\n",
       "  </thead>\n",
       "  <tbody>\n",
       "    <tr>\n",
       "      <td>smart</td>\n",
       "      <td>417.75</td>\n",
       "      <td>36,281.39</td>\n",
       "      <td>190.48</td>\n",
       "    </tr>\n",
       "    <tr>\n",
       "      <td>ultra</td>\n",
       "      <td>526.09</td>\n",
       "      <td>101,052.49</td>\n",
       "      <td>317.89</td>\n",
       "    </tr>\n",
       "  </tbody>\n",
       "</table>\n",
       "</div>"
      ],
      "text/plain": [
       "       duration                  \n",
       "           mean        var    std\n",
       "tariff                           \n",
       "smart    417.75  36,281.39 190.48\n",
       "ultra    526.09 101,052.49 317.89"
      ]
     },
     "execution_count": 26,
     "metadata": {},
     "output_type": "execute_result"
    }
   ],
   "source": [
    "full_report.groupby('tariff').agg({'duration': ['mean', 'var', 'std']})"
   ]
  },
  {
   "cell_type": "markdown",
   "metadata": {},
   "source": [
    "Видно, что пользователи тарифа 'smart' в среднем тратят меньше минут на звонки, чем пользователи тарифа 'ultra'. Учитывая пакеты на 500 и 3000 минут соответственно, можно сказать, что пользователи обоих тарифов редко доплачивают за минуты. <br>\n",
    "Судя по дисперсии и стандартному отклонению, можно сказать, что для тарифа 'smart' данные находятся ближе к среднему значению."
   ]
  },
  {
   "cell_type": "code",
   "execution_count": 27,
   "metadata": {},
   "outputs": [
    {
     "data": {
      "text/plain": [
       "<matplotlib.legend.Legend at 0x7f4ea3ecea10>"
      ]
     },
     "execution_count": 27,
     "metadata": {},
     "output_type": "execute_result"
    },
    {
     "data": {
      "image/png": "[encoded data removed]",
      "text/plain": [
       "<Figure size 720x432 with 1 Axes>"
      ]
     },
     "metadata": {
      "needs_background": "light"
     },
     "output_type": "display_data"
    }
   ],
   "source": [
    "full_report[full_report['tariff'] == 'smart']['duration'].hist(bins = 30, figsize = (10, 6), label = 'smart, lim. 500')\n",
    "full_report[full_report['tariff'] == 'ultra']['duration'].hist(bins = 30, figsize = (10, 6), alpha = 0.6, label = 'ultra, lim. 3000')\n",
    "plt.title('Продолжительность звонков в месяц')\n",
    "plt.xlabel('Длительность, мин.')\n",
    "plt.ylabel('Частота')\n",
    "plt.legend()"
   ]
  },
  {
   "cell_type": "markdown",
   "metadata": {},
   "source": [
    "Судя по гистограмме, чаще всего пользователи тарифа 'smart' тратят от 350 до 500 минут на разговоры в месяц - это ярко выражено на диаграмме. Похоже, что пользователи тарифа 'ultra' чаще пропускают звонки - об этом может говорить пик у нулевой продолжительности звонка. В остальном же, среди пользователей этого тарифа длительность разговоров распределена довольно равномерно - заметных пиков на диаграмме нет."
   ]
  },
  {
   "cell_type": "markdown",
   "metadata": {},
   "source": [
    "### Количество интернет-трафика"
   ]
  },
  {
   "cell_type": "code",
   "execution_count": 28,
   "metadata": {},
   "outputs": [
    {
     "data": {
      "text/html": [
       "<div>\n",
       "<style scoped>\n",
       "    .dataframe tbody tr th:only-of-type {\n",
       "        vertical-align: middle;\n",
       "    }\n",
       "\n",
       "    .dataframe tbody tr th {\n",
       "        vertical-align: top;\n",
       "    }\n",
       "\n",
       "    .dataframe thead tr th {\n",
       "        text-align: left;\n",
       "    }\n",
       "\n",
       "    .dataframe thead tr:last-of-type th {\n",
       "        text-align: right;\n",
       "    }\n",
       "</style>\n",
       "<table border=\"1\" class=\"dataframe\">\n",
       "  <thead>\n",
       "    <tr>\n",
       "      <th></th>\n",
       "      <th colspan=\"3\" halign=\"left\">mb_used</th>\n",
       "    </tr>\n",
       "    <tr>\n",
       "      <th></th>\n",
       "      <th>mean</th>\n",
       "      <th>var</th>\n",
       "      <th>std</th>\n",
       "    </tr>\n",
       "    <tr>\n",
       "      <th>tariff</th>\n",
       "      <th></th>\n",
       "      <th></th>\n",
       "      <th></th>\n",
       "    </tr>\n",
       "  </thead>\n",
       "  <tbody>\n",
       "    <tr>\n",
       "      <td>smart</td>\n",
       "      <td>16,221.91</td>\n",
       "      <td>34,648,523.30</td>\n",
       "      <td>5,886.30</td>\n",
       "    </tr>\n",
       "    <tr>\n",
       "      <td>ultra</td>\n",
       "      <td>19,467.14</td>\n",
       "      <td>102,217,264.28</td>\n",
       "      <td>10,110.26</td>\n",
       "    </tr>\n",
       "  </tbody>\n",
       "</table>\n",
       "</div>"
      ],
      "text/plain": [
       "         mb_used                         \n",
       "            mean            var       std\n",
       "tariff                                   \n",
       "smart  16,221.91  34,648,523.30  5,886.30\n",
       "ultra  19,467.14 102,217,264.28 10,110.26"
      ]
     },
     "execution_count": 28,
     "metadata": {},
     "output_type": "execute_result"
    }
   ],
   "source": [
    "full_report.groupby('tariff').agg({'mb_used': ['mean', 'var', 'std']})"
   ]
  },
  {
   "cell_type": "markdown",
   "metadata": {},
   "source": [
    "Абоненты с пакетом 'ultra' в среднем расходуют в месяц примерно на 20% трафика больше. Можно предположить, что пользователи тарифа 'smart' гораздо чаще платят за дополнительные гигабайты, т.к. среднее значение 16222 Мб больше установленного тарифом 15360 Мб. Для тарифа ультра пакет интернет-трафика составляет 30720 Мб, что практически в 1.5 раза больше среднего потребления пользователями тарифа."
   ]
  },
  {
   "cell_type": "code",
   "execution_count": 29,
   "metadata": {},
   "outputs": [
    {
     "data": {
      "text/plain": [
       "<matplotlib.legend.Legend at 0x7f4ea5e076d0>"
      ]
     },
     "execution_count": 29,
     "metadata": {},
     "output_type": "execute_result"
    },
    {
     "data": {
      "image/png": "[encoded data removed]",
      "text/plain": [
       "<Figure size 720x432 with 1 Axes>"
      ]
     },
     "metadata": {
      "needs_background": "light"
     },
     "output_type": "display_data"
    }
   ],
   "source": [
    "full_report[full_report['tariff'] == 'smart']['mb_used'].hist(bins = 30, figsize = (10, 6), label = 'smart, lim. 15360')\n",
    "full_report[full_report['tariff'] == 'ultra']['mb_used'].hist(bins = 30, figsize = (10, 6), alpha = 0.6, label = 'ultra, lim. 30720')\n",
    "plt.title('Объем трафика в месяц')\n",
    "plt.xlabel('Объем, Мб.')\n",
    "plt.ylabel('Частота')\n",
    "plt.legend()"
   ]
  },
  {
   "cell_type": "markdown",
   "metadata": {},
   "source": [
    "Здесь ситуация подобная звонкам: пользователи с тарифом 'smart' имеют ярко выраженный максимум около 16000 Мб трафика в месяц. Пользователи с тарифом 'ultra' распределились более равномерно, и, в среднем, используют около 20000 Мб трафика в месяц."
   ]
  },
  {
   "cell_type": "markdown",
   "metadata": {},
   "source": [
    "### Количество сообщений"
   ]
  },
  {
   "cell_type": "code",
   "execution_count": 30,
   "metadata": {
    "scrolled": true
   },
   "outputs": [
    {
     "data": {
      "text/html": [
       "<div>\n",
       "<style scoped>\n",
       "    .dataframe tbody tr th:only-of-type {\n",
       "        vertical-align: middle;\n",
       "    }\n",
       "\n",
       "    .dataframe tbody tr th {\n",
       "        vertical-align: top;\n",
       "    }\n",
       "\n",
       "    .dataframe thead tr th {\n",
       "        text-align: left;\n",
       "    }\n",
       "\n",
       "    .dataframe thead tr:last-of-type th {\n",
       "        text-align: right;\n",
       "    }\n",
       "</style>\n",
       "<table border=\"1\" class=\"dataframe\">\n",
       "  <thead>\n",
       "    <tr>\n",
       "      <th></th>\n",
       "      <th colspan=\"3\" halign=\"left\">messages</th>\n",
       "    </tr>\n",
       "    <tr>\n",
       "      <th></th>\n",
       "      <th>mean</th>\n",
       "      <th>var</th>\n",
       "      <th>std</th>\n",
       "    </tr>\n",
       "    <tr>\n",
       "      <th>tariff</th>\n",
       "      <th></th>\n",
       "      <th></th>\n",
       "      <th></th>\n",
       "    </tr>\n",
       "  </thead>\n",
       "  <tbody>\n",
       "    <tr>\n",
       "      <td>smart</td>\n",
       "      <td>33.37</td>\n",
       "      <td>796.96</td>\n",
       "      <td>28.23</td>\n",
       "    </tr>\n",
       "    <tr>\n",
       "      <td>ultra</td>\n",
       "      <td>49.31</td>\n",
       "      <td>2,285.42</td>\n",
       "      <td>47.81</td>\n",
       "    </tr>\n",
       "  </tbody>\n",
       "</table>\n",
       "</div>"
      ],
      "text/plain": [
       "       messages               \n",
       "           mean      var   std\n",
       "tariff                        \n",
       "smart     33.37   796.96 28.23\n",
       "ultra     49.31 2,285.42 47.81"
      ]
     },
     "execution_count": 30,
     "metadata": {},
     "output_type": "execute_result"
    }
   ],
   "source": [
    "full_report.groupby('tariff').agg({'messages': ['mean', 'var', 'std']})"
   ]
  },
  {
   "cell_type": "markdown",
   "metadata": {},
   "source": [
    "Тарифы имеют ограничения в 50 и 1000 сообщений соответственно. Видно, что ни одно из средних значений не превышает данные лимиты. Соответственно, можно сказать, что пользователи редко платят допольнительно за сообщения. Наглядно это можно подтвердить гистограммой."
   ]
  },
  {
   "cell_type": "code",
   "execution_count": 31,
   "metadata": {},
   "outputs": [
    {
     "data": {
      "text/plain": [
       "<matplotlib.legend.Legend at 0x7f4ea5cdc290>"
      ]
     },
     "execution_count": 31,
     "metadata": {},
     "output_type": "execute_result"
    },
    {
     "data": {
      "image/png": "[encoded data removed]",
      "text/plain": [
       "<Figure size 720x432 with 1 Axes>"
      ]
     },
     "metadata": {
      "needs_background": "light"
     },
     "output_type": "display_data"
    }
   ],
   "source": [
    "full_report[full_report['tariff'] == 'smart']['messages'].hist(bins = 30, figsize = (10, 6), label = 'smart, lim. 50')\n",
    "full_report[full_report['tariff'] == 'ultra']['messages'].hist(bins = 30, figsize = (10, 6), alpha = 0.6, label = 'ultra, lim. 1000')\n",
    "plt.title('Количество сообщений в месяц')\n",
    "plt.xlabel('Количество, шт.')\n",
    "plt.ylabel('Частота')\n",
    "plt.legend()"
   ]
  },
  {
   "cell_type": "markdown",
   "metadata": {},
   "source": [
    "Видно, что большое количество пользователей вообще не отправляет сообщения, или делает это крайне редко. Похоже, что сообщения приносят меньше всего дополнительного дохода оператору.\n",
    "\n",
    "### Вывод\n",
    "Глядя на гистограммы можно сказать, что пользователи тарифа 'ultra' гораздо более равномерно расходуют свой пакет. У пользоватей тарифа 'smart' есть четкие максимумы в расределении - около 500 минут и 15 Гб трафика - что соответствует лимитам их тарифа.<br>\n",
    "Также можно предположить, что меньше всего дополнительного заработка оператору приносят сверхнормативные сообщения.\n",
    "\n",
    "## Проверка гипотез\n",
    "### Сравнение тарифов\n",
    "Нулевая гипотеза звучит как \"средняя выручка пользователей тарифов «Ультра» и «Смарт» одинакова\". Тогда альтернативная гипотеза будет звучать как \"средняя выручка пользователей тарифов «Ультра» и «Смарт» различается\". <br>\n",
    "Задаем критический уровень статистической значимости равным 5%, т.к. это стандартное значение для исследований."
   ]
  },
  {
   "cell_type": "code",
   "execution_count": 32,
   "metadata": {},
   "outputs": [
    {
     "name": "stdout",
     "output_type": "stream",
     "text": [
      "p-значение: 1.7023268870439853e-158\n",
      "Отвергаем нулевую гипотезу.\n"
     ]
    }
   ],
   "source": [
    "alpha = 0.05\n",
    "\n",
    "smart_revenue = full_report[full_report['tariff'] == 'smart']['monthly_profit']\n",
    "ultra_revenue = full_report[full_report['tariff'] == 'ultra']['monthly_profit']\n",
    "\n",
    "results = st.ttest_ind(smart_revenue, ultra_revenue)\n",
    "\n",
    "print('p-значение:', results.pvalue)\n",
    "\n",
    "if (results.pvalue < alpha):\n",
    "    print(\"Отвергаем нулевую гипотезу.\")\n",
    "else:\n",
    "    print(\"Не получилось отвергнуть нулевую гипотезу.\")"
   ]
  },
  {
   "cell_type": "markdown",
   "metadata": {},
   "source": [
    "Принимаем, что нулевая гипотеза не верна. Судя по p-значению, вероятность равенства средней выручки двух тарифов очень мала. В таком случае, посчитаем среднее значение выручки для каждого тарифа, сравним их и сделаем вывод о прибыльности."
   ]
  },
  {
   "cell_type": "code",
   "execution_count": 33,
   "metadata": {},
   "outputs": [
    {
     "name": "stdout",
     "output_type": "stream",
     "text": [
      "Среднемесячная выручка тарифа \"Smart\": 1294 руб.\n",
      "Среднемесячная выручка тарифа \"Ultra\": 2070 руб.\n"
     ]
    }
   ],
   "source": [
    "print(f'Среднемесячная выручка тарифа \"Smart\": {int(smart_revenue.mean())} руб.')\n",
    "print(f'Среднемесячная выручка тарифа \"Ultra\": {int(ultra_revenue.mean())} руб.')"
   ]
  },
  {
   "cell_type": "markdown",
   "metadata": {},
   "source": [
    "Среднемесячная выручка пользователя тарифа \"Ultra\" на 37% выше, чем у тарифа \"Smart\". Очевидно, тратить рекламный бюджет будет выгоднее именно на тариф \"Ultra\".\n",
    "\n",
    "### Сравнение Москвы и регионов\n",
    "Нулевая гипотеза звучит как \"средняя выручка пользователей из Москвы равна выручке пользователей из других регионов\". В таком случае, альтернативная гипотеза будет звучать как \"средняя выручка пользователей из Москвы отличается от выручки пользователей из других регионов\". <br>\n",
    "Критический уровень статистической значимости оставляем равным 5%."
   ]
  },
  {
   "cell_type": "code",
   "execution_count": 34,
   "metadata": {},
   "outputs": [
    {
     "name": "stdout",
     "output_type": "stream",
     "text": [
      "p-значение: 0.5277299573181309\n",
      "Не получилось отвергнуть нулевую гипотезу.\n"
     ]
    }
   ],
   "source": [
    "msk_revenue = full_report[full_report['city'] == 'Москва']['monthly_profit']\n",
    "reg_revenue = full_report[full_report['city'] != 'Москва']['monthly_profit']\n",
    "\n",
    "results = st.ttest_ind(msk_revenue, reg_revenue)\n",
    "\n",
    "print('p-значение:', results.pvalue)\n",
    "\n",
    "if (results.pvalue < alpha):\n",
    "    print(\"Отвергаем нулевую гипотезу.\")\n",
    "else:\n",
    "    print(\"Не получилось отвергнуть нулевую гипотезу.\")"
   ]
  },
  {
   "cell_type": "markdown",
   "metadata": {},
   "source": [
    "Принимаем решение, что нулевая гипотеза верна - размер ежемесячной выручки пользователя не зависит от региона."
   ]
  },
  {
   "cell_type": "markdown",
   "metadata": {},
   "source": [
    "## Общий вывод\n",
    "В ходе работы были изучены данные 500 пользователей: кто они, откуда, каким тарифом пользуются, сколько звонков и сообщений каждый отправил за 2018 год. Данные в таблицах были приведены к нужным типам, в таблицах были устанены незначительные ошибки.<br>\n",
    "\n",
    "Проанализировав поведение клиентов, были сделаны выводы:\n",
    "* Пользователи тарифа 'smart' зачастую тратят в месяц количество минут и гигабайт, близкое к максимуму их тарифа (500 минут и 15 Гб). Это подтверждается гистограммами распределения, имующими пики в этих областях.\n",
    "* Пользователи тарифа 'ultra' расходуют свои минуты и гигабайты (3000 минут и 30 Гб) равномерно, выдающихся пиков на гистограммах нет. Абоненты редко доходят до лимитов тарифа.\n",
    "* Сообщения приносят меньше всего дополнительного дохода оператору. На гистограмме есть пики около нуля сообщений в месяц - это говорит о том, что немалая часть пользователей совсем не пользуеся сообщениями или пользуется ими очень мало.\n",
    "* Гипотеза о различии средней выручки между пользователями тарифов 'smart' и 'ultra' была принята. Пользователи тарифа 'ultra' приносят на 37% больше прибыли.\n",
    "* Гипотеза о различии выручки между пользователями из Москвы и регионов отвергается.\n",
    "\n",
    "В итоге, наиболее выгодным для оператора является тариф **'ultra'** - в среднем ежемесячная выручка от него на 37% выше выручки тарифа 'smart', независимо от региона."
   ]
  }
 ],
 "metadata": {
  "ExecuteTimeLog": [
   {
    "duration": 1625,
    "start_time": "2021-12-23T20:56:37.509Z"
   },
   {
    "duration": 651,
    "start_time": "2021-12-23T21:01:34.725Z"
   },
   {
    "duration": 542,
    "start_time": "2021-12-23T21:01:41.488Z"
   },
   {
    "duration": 541,
    "start_time": "2021-12-23T21:01:50.566Z"
   },
   {
    "duration": 582,
    "start_time": "2021-12-23T21:01:57.298Z"
   },
   {
    "duration": 601,
    "start_time": "2021-12-23T21:02:05.130Z"
   },
   {
    "duration": 551,
    "start_time": "2021-12-23T21:04:03.495Z"
   },
   {
    "duration": 540,
    "start_time": "2021-12-23T21:05:24.127Z"
   },
   {
    "duration": 997,
    "start_time": "2021-12-23T21:05:35.550Z"
   },
   {
    "duration": 522,
    "start_time": "2021-12-23T21:05:41.997Z"
   },
   {
    "duration": 76,
    "start_time": "2021-12-23T21:11:13.621Z"
   },
   {
    "duration": 94,
    "start_time": "2021-12-23T21:15:40.531Z"
   },
   {
    "duration": 101,
    "start_time": "2021-12-23T21:16:09.014Z"
   },
   {
    "duration": 12,
    "start_time": "2021-12-23T21:32:16.180Z"
   },
   {
    "duration": 27,
    "start_time": "2021-12-23T21:32:24.293Z"
   },
   {
    "duration": 25,
    "start_time": "2021-12-23T21:33:01.529Z"
   },
   {
    "duration": 39,
    "start_time": "2021-12-23T21:40:32.369Z"
   },
   {
    "duration": 8,
    "start_time": "2021-12-23T22:36:12.068Z"
   },
   {
    "duration": 8,
    "start_time": "2021-12-23T22:36:27.020Z"
   },
   {
    "duration": 15,
    "start_time": "2021-12-23T22:36:34.689Z"
   },
   {
    "duration": 14,
    "start_time": "2021-12-23T22:39:12.271Z"
   },
   {
    "duration": 14,
    "start_time": "2021-12-23T22:39:24.039Z"
   },
   {
    "duration": 36,
    "start_time": "2021-12-23T22:39:51.578Z"
   },
   {
    "duration": 35,
    "start_time": "2021-12-23T22:40:25.080Z"
   },
   {
    "duration": 14,
    "start_time": "2021-12-23T22:40:38.178Z"
   },
   {
    "duration": 36,
    "start_time": "2021-12-23T22:43:52.868Z"
   },
   {
    "duration": 55,
    "start_time": "2021-12-23T22:46:37.553Z"
   },
   {
    "duration": 26,
    "start_time": "2021-12-23T22:46:56.664Z"
   },
   {
    "duration": 38,
    "start_time": "2021-12-23T22:49:44.235Z"
   },
   {
    "duration": 10,
    "start_time": "2021-12-23T22:51:55.912Z"
   },
   {
    "duration": 349,
    "start_time": "2021-12-23T22:56:43.950Z"
   },
   {
    "duration": 30,
    "start_time": "2021-12-23T22:56:58.908Z"
   },
   {
    "duration": 26,
    "start_time": "2021-12-23T23:10:55.353Z"
   },
   {
    "duration": 53,
    "start_time": "2021-12-23T23:17:04.149Z"
   },
   {
    "duration": 25,
    "start_time": "2021-12-23T23:20:17.189Z"
   },
   {
    "duration": 1498,
    "start_time": "2021-12-23T23:20:23.157Z"
   },
   {
    "duration": 554,
    "start_time": "2021-12-23T23:20:24.658Z"
   },
   {
    "duration": 26,
    "start_time": "2021-12-23T23:20:25.218Z"
   },
   {
    "duration": 24,
    "start_time": "2021-12-23T23:20:25.246Z"
   },
   {
    "duration": 49,
    "start_time": "2021-12-23T23:20:25.273Z"
   },
   {
    "duration": 90,
    "start_time": "2021-12-23T23:20:25.326Z"
   },
   {
    "duration": 62,
    "start_time": "2021-12-23T23:20:25.419Z"
   },
   {
    "duration": 59,
    "start_time": "2021-12-23T23:20:25.485Z"
   },
   {
    "duration": 27,
    "start_time": "2021-12-23T23:20:25.564Z"
   },
   {
    "duration": 75,
    "start_time": "2021-12-23T23:20:25.594Z"
   },
   {
    "duration": 17,
    "start_time": "2021-12-23T23:44:33.226Z"
   },
   {
    "duration": 28,
    "start_time": "2021-12-23T23:51:02.813Z"
   },
   {
    "duration": 231,
    "start_time": "2021-12-24T13:12:33.815Z"
   },
   {
    "duration": 1188,
    "start_time": "2021-12-24T13:12:38.474Z"
   },
   {
    "duration": 430,
    "start_time": "2021-12-24T13:12:39.665Z"
   },
   {
    "duration": 25,
    "start_time": "2021-12-24T13:12:40.102Z"
   },
   {
    "duration": 11,
    "start_time": "2021-12-24T13:12:40.128Z"
   },
   {
    "duration": 56,
    "start_time": "2021-12-24T13:12:40.141Z"
   },
   {
    "duration": 52,
    "start_time": "2021-12-24T13:12:40.199Z"
   },
   {
    "duration": 55,
    "start_time": "2021-12-24T13:12:40.253Z"
   },
   {
    "duration": 42,
    "start_time": "2021-12-24T13:12:40.311Z"
   },
   {
    "duration": 37,
    "start_time": "2021-12-24T13:12:40.355Z"
   },
   {
    "duration": 39,
    "start_time": "2021-12-24T13:12:40.394Z"
   },
   {
    "duration": 12,
    "start_time": "2021-12-24T13:12:40.435Z"
   },
   {
    "duration": 283,
    "start_time": "2021-12-24T13:12:40.449Z"
   },
   {
    "duration": 4,
    "start_time": "2021-12-24T13:26:02.623Z"
   },
   {
    "duration": 1209,
    "start_time": "2021-12-24T13:26:23.740Z"
   },
   {
    "duration": 4,
    "start_time": "2021-12-24T13:26:24.951Z"
   },
   {
    "duration": 464,
    "start_time": "2021-12-24T13:26:24.958Z"
   },
   {
    "duration": 20,
    "start_time": "2021-12-24T13:26:25.424Z"
   },
   {
    "duration": 2,
    "start_time": "2021-12-24T13:26:25.446Z"
   },
   {
    "duration": 28,
    "start_time": "2021-12-24T13:26:25.450Z"
   },
   {
    "duration": 63,
    "start_time": "2021-12-24T13:26:25.480Z"
   },
   {
    "duration": 23,
    "start_time": "2021-12-24T13:26:25.545Z"
   },
   {
    "duration": 66,
    "start_time": "2021-12-24T13:26:25.571Z"
   },
   {
    "duration": 19,
    "start_time": "2021-12-24T13:26:25.639Z"
   },
   {
    "duration": 59,
    "start_time": "2021-12-24T13:26:25.660Z"
   },
   {
    "duration": 14,
    "start_time": "2021-12-24T13:26:25.721Z"
   },
   {
    "duration": 357,
    "start_time": "2021-12-24T13:26:25.737Z"
   },
   {
    "duration": 412,
    "start_time": "2021-12-24T13:27:29.294Z"
   },
   {
    "duration": 3,
    "start_time": "2021-12-24T13:27:52.441Z"
   },
   {
    "duration": 377,
    "start_time": "2021-12-24T13:27:54.426Z"
   },
   {
    "duration": 3,
    "start_time": "2021-12-24T13:31:12.535Z"
   },
   {
    "duration": 481,
    "start_time": "2021-12-24T13:31:15.172Z"
   },
   {
    "duration": 4,
    "start_time": "2021-12-24T13:31:20.528Z"
   },
   {
    "duration": 404,
    "start_time": "2021-12-24T13:31:25.036Z"
   },
   {
    "duration": 18,
    "start_time": "2021-12-24T13:34:20.577Z"
   },
   {
    "duration": 22,
    "start_time": "2021-12-24T13:34:28.396Z"
   },
   {
    "duration": 20,
    "start_time": "2021-12-24T13:35:18.571Z"
   },
   {
    "duration": 19,
    "start_time": "2021-12-24T13:35:24.457Z"
   },
   {
    "duration": 24,
    "start_time": "2021-12-24T13:35:40.297Z"
   },
   {
    "duration": 4,
    "start_time": "2021-12-24T13:38:37.326Z"
   },
   {
    "duration": 18,
    "start_time": "2021-12-24T13:39:47.258Z"
   },
   {
    "duration": 28,
    "start_time": "2021-12-24T13:46:59.934Z"
   },
   {
    "duration": 415,
    "start_time": "2021-12-24T13:48:05.350Z"
   },
   {
    "duration": 1219,
    "start_time": "2021-12-24T13:48:16.405Z"
   },
   {
    "duration": 3,
    "start_time": "2021-12-24T13:48:17.626Z"
   },
   {
    "duration": 467,
    "start_time": "2021-12-24T13:48:17.631Z"
   },
   {
    "duration": 24,
    "start_time": "2021-12-24T13:48:18.104Z"
   },
   {
    "duration": 42,
    "start_time": "2021-12-24T13:48:18.131Z"
   },
   {
    "duration": 65,
    "start_time": "2021-12-24T13:48:18.175Z"
   },
   {
    "duration": 103,
    "start_time": "2021-12-24T13:48:18.242Z"
   },
   {
    "duration": 52,
    "start_time": "2021-12-24T13:48:18.348Z"
   },
   {
    "duration": 72,
    "start_time": "2021-12-24T13:48:18.404Z"
   },
   {
    "duration": 36,
    "start_time": "2021-12-24T13:48:18.478Z"
   },
   {
    "duration": 52,
    "start_time": "2021-12-24T13:48:18.517Z"
   },
   {
    "duration": 39,
    "start_time": "2021-12-24T13:48:18.571Z"
   },
   {
    "duration": 299,
    "start_time": "2021-12-24T13:48:18.613Z"
   },
   {
    "duration": 1177,
    "start_time": "2021-12-24T13:49:53.535Z"
   },
   {
    "duration": 4,
    "start_time": "2021-12-24T13:49:54.714Z"
   },
   {
    "duration": 423,
    "start_time": "2021-12-24T13:49:54.719Z"
   },
   {
    "duration": 18,
    "start_time": "2021-12-24T13:49:55.143Z"
   },
   {
    "duration": 12,
    "start_time": "2021-12-24T13:49:55.163Z"
   },
   {
    "duration": 34,
    "start_time": "2021-12-24T13:49:55.192Z"
   },
   {
    "duration": 91,
    "start_time": "2021-12-24T13:49:55.228Z"
   },
   {
    "duration": 22,
    "start_time": "2021-12-24T13:49:55.320Z"
   },
   {
    "duration": 80,
    "start_time": "2021-12-24T13:49:55.345Z"
   },
   {
    "duration": 20,
    "start_time": "2021-12-24T13:49:55.427Z"
   },
   {
    "duration": 66,
    "start_time": "2021-12-24T13:49:55.449Z"
   },
   {
    "duration": 12,
    "start_time": "2021-12-24T13:49:55.517Z"
   },
   {
    "duration": 290,
    "start_time": "2021-12-24T13:49:55.531Z"
   },
   {
    "duration": 26,
    "start_time": "2021-12-24T13:51:01.413Z"
   },
   {
    "duration": 4570,
    "start_time": "2021-12-24T14:08:18.141Z"
   },
   {
    "duration": 1212,
    "start_time": "2021-12-24T14:08:31.113Z"
   },
   {
    "duration": 3,
    "start_time": "2021-12-24T14:08:32.327Z"
   },
   {
    "duration": 506,
    "start_time": "2021-12-24T14:08:32.332Z"
   },
   {
    "duration": 21,
    "start_time": "2021-12-24T14:08:32.841Z"
   },
   {
    "duration": 37,
    "start_time": "2021-12-24T14:08:32.864Z"
   },
   {
    "duration": 31,
    "start_time": "2021-12-24T14:08:32.903Z"
   },
   {
    "duration": 100,
    "start_time": "2021-12-24T14:08:32.936Z"
   },
   {
    "duration": 24,
    "start_time": "2021-12-24T14:08:33.037Z"
   },
   {
    "duration": 83,
    "start_time": "2021-12-24T14:08:33.064Z"
   },
   {
    "duration": 19,
    "start_time": "2021-12-24T14:08:33.149Z"
   },
   {
    "duration": 66,
    "start_time": "2021-12-24T14:08:33.170Z"
   },
   {
    "duration": 12,
    "start_time": "2021-12-24T14:08:33.237Z"
   },
   {
    "duration": 48,
    "start_time": "2021-12-24T14:08:33.251Z"
   },
   {
    "duration": 5442,
    "start_time": "2021-12-24T14:10:54.006Z"
   },
   {
    "duration": 1164,
    "start_time": "2021-12-24T14:11:03.586Z"
   },
   {
    "duration": 3,
    "start_time": "2021-12-24T14:11:04.752Z"
   },
   {
    "duration": 438,
    "start_time": "2021-12-24T14:11:04.757Z"
   },
   {
    "duration": 21,
    "start_time": "2021-12-24T14:11:05.200Z"
   },
   {
    "duration": 12,
    "start_time": "2021-12-24T14:11:05.223Z"
   },
   {
    "duration": 29,
    "start_time": "2021-12-24T14:11:05.237Z"
   },
   {
    "duration": 105,
    "start_time": "2021-12-24T14:11:05.268Z"
   },
   {
    "duration": 43,
    "start_time": "2021-12-24T14:11:05.375Z"
   },
   {
    "duration": 77,
    "start_time": "2021-12-24T14:11:05.421Z"
   },
   {
    "duration": 23,
    "start_time": "2021-12-24T14:11:05.501Z"
   },
   {
    "duration": 43,
    "start_time": "2021-12-24T14:11:05.527Z"
   },
   {
    "duration": 17,
    "start_time": "2021-12-24T14:11:05.593Z"
   },
   {
    "duration": 31,
    "start_time": "2021-12-24T14:11:05.612Z"
   },
   {
    "duration": 1171,
    "start_time": "2021-12-24T14:12:27.999Z"
   },
   {
    "duration": 4,
    "start_time": "2021-12-24T14:12:29.172Z"
   },
   {
    "duration": 456,
    "start_time": "2021-12-24T14:12:29.178Z"
   },
   {
    "duration": 17,
    "start_time": "2021-12-24T14:12:29.636Z"
   },
   {
    "duration": 14,
    "start_time": "2021-12-24T14:12:29.654Z"
   },
   {
    "duration": 54,
    "start_time": "2021-12-24T14:12:29.670Z"
   },
   {
    "duration": 93,
    "start_time": "2021-12-24T14:12:29.726Z"
   },
   {
    "duration": 22,
    "start_time": "2021-12-24T14:12:29.821Z"
   },
   {
    "duration": 81,
    "start_time": "2021-12-24T14:12:29.845Z"
   },
   {
    "duration": 18,
    "start_time": "2021-12-24T14:12:29.928Z"
   },
   {
    "duration": 67,
    "start_time": "2021-12-24T14:12:29.948Z"
   },
   {
    "duration": 11,
    "start_time": "2021-12-24T14:12:30.017Z"
   },
   {
    "duration": 65,
    "start_time": "2021-12-24T14:12:30.030Z"
   },
   {
    "duration": 1183,
    "start_time": "2021-12-24T14:14:48.366Z"
   },
   {
    "duration": 4,
    "start_time": "2021-12-24T14:14:49.551Z"
   },
   {
    "duration": 481,
    "start_time": "2021-12-24T14:14:49.557Z"
   },
   {
    "duration": 24,
    "start_time": "2021-12-24T14:14:50.041Z"
   },
   {
    "duration": 17,
    "start_time": "2021-12-24T14:14:50.067Z"
   },
   {
    "duration": 46,
    "start_time": "2021-12-24T14:14:50.092Z"
   },
   {
    "duration": 114,
    "start_time": "2021-12-24T14:14:50.140Z"
   },
   {
    "duration": 53,
    "start_time": "2021-12-24T14:14:50.256Z"
   },
   {
    "duration": 61,
    "start_time": "2021-12-24T14:14:50.313Z"
   },
   {
    "duration": 29,
    "start_time": "2021-12-24T14:14:50.394Z"
   },
   {
    "duration": 43,
    "start_time": "2021-12-24T14:14:50.425Z"
   },
   {
    "duration": 34,
    "start_time": "2021-12-24T14:14:50.470Z"
   },
   {
    "duration": 33,
    "start_time": "2021-12-24T14:14:50.507Z"
   },
   {
    "duration": -1466,
    "start_time": "2021-12-24T14:24:07.108Z"
   },
   {
    "duration": 1260,
    "start_time": "2021-12-24T14:24:09.684Z"
   },
   {
    "duration": 4,
    "start_time": "2021-12-24T14:24:10.947Z"
   },
   {
    "duration": 496,
    "start_time": "2021-12-24T14:24:10.954Z"
   },
   {
    "duration": 20,
    "start_time": "2021-12-24T14:24:11.452Z"
   },
   {
    "duration": 25,
    "start_time": "2021-12-24T14:24:11.474Z"
   },
   {
    "duration": 44,
    "start_time": "2021-12-24T14:24:11.502Z"
   },
   {
    "duration": 106,
    "start_time": "2021-12-24T14:24:11.548Z"
   },
   {
    "duration": 44,
    "start_time": "2021-12-24T14:24:11.656Z"
   },
   {
    "duration": 94,
    "start_time": "2021-12-24T14:24:11.702Z"
   },
   {
    "duration": 31,
    "start_time": "2021-12-24T14:24:11.799Z"
   },
   {
    "duration": 94,
    "start_time": "2021-12-24T14:24:11.832Z"
   },
   {
    "duration": 15,
    "start_time": "2021-12-24T14:24:11.928Z"
   },
   {
    "duration": 31,
    "start_time": "2021-12-24T14:24:11.944Z"
   },
   {
    "duration": 5311,
    "start_time": "2021-12-24T14:24:11.977Z"
   },
   {
    "duration": 18,
    "start_time": "2021-12-24T14:24:45.171Z"
   },
   {
    "duration": 30,
    "start_time": "2021-12-24T14:30:09.091Z"
   },
   {
    "duration": 1167,
    "start_time": "2021-12-24T14:31:08.978Z"
   },
   {
    "duration": 3,
    "start_time": "2021-12-24T14:31:10.148Z"
   },
   {
    "duration": 449,
    "start_time": "2021-12-24T14:31:10.153Z"
   },
   {
    "duration": 19,
    "start_time": "2021-12-24T14:31:10.604Z"
   },
   {
    "duration": 12,
    "start_time": "2021-12-24T14:31:10.625Z"
   },
   {
    "duration": 25,
    "start_time": "2021-12-24T14:31:10.639Z"
   },
   {
    "duration": 107,
    "start_time": "2021-12-24T14:31:10.666Z"
   },
   {
    "duration": 42,
    "start_time": "2021-12-24T14:31:10.774Z"
   },
   {
    "duration": 79,
    "start_time": "2021-12-24T14:31:10.819Z"
   },
   {
    "duration": 24,
    "start_time": "2021-12-24T14:31:10.900Z"
   },
   {
    "duration": 42,
    "start_time": "2021-12-24T14:31:10.926Z"
   },
   {
    "duration": 36,
    "start_time": "2021-12-24T14:31:10.970Z"
   },
   {
    "duration": 4619,
    "start_time": "2021-12-24T14:31:11.008Z"
   },
   {
    "duration": -1486,
    "start_time": "2021-12-24T14:31:17.116Z"
   },
   {
    "duration": -1486,
    "start_time": "2021-12-24T14:31:17.117Z"
   },
   {
    "duration": 26,
    "start_time": "2021-12-24T14:31:29.005Z"
   },
   {
    "duration": 23,
    "start_time": "2021-12-24T14:31:38.709Z"
   },
   {
    "duration": 25,
    "start_time": "2021-12-24T14:32:06.444Z"
   },
   {
    "duration": 18,
    "start_time": "2021-12-24T14:32:56.936Z"
   },
   {
    "duration": 1191,
    "start_time": "2021-12-24T14:33:08.457Z"
   },
   {
    "duration": 4,
    "start_time": "2021-12-24T14:33:09.650Z"
   },
   {
    "duration": 440,
    "start_time": "2021-12-24T14:33:09.657Z"
   },
   {
    "duration": 20,
    "start_time": "2021-12-24T14:33:10.101Z"
   },
   {
    "duration": 14,
    "start_time": "2021-12-24T14:33:10.123Z"
   },
   {
    "duration": 53,
    "start_time": "2021-12-24T14:33:10.139Z"
   },
   {
    "duration": 105,
    "start_time": "2021-12-24T14:33:10.195Z"
   },
   {
    "duration": 26,
    "start_time": "2021-12-24T14:33:10.303Z"
   },
   {
    "duration": 84,
    "start_time": "2021-12-24T14:33:10.332Z"
   },
   {
    "duration": 18,
    "start_time": "2021-12-24T14:33:10.418Z"
   },
   {
    "duration": 59,
    "start_time": "2021-12-24T14:33:10.438Z"
   },
   {
    "duration": 17,
    "start_time": "2021-12-24T14:33:10.499Z"
   },
   {
    "duration": 28,
    "start_time": "2021-12-24T14:33:10.518Z"
   },
   {
    "duration": 46,
    "start_time": "2021-12-24T14:33:10.548Z"
   },
   {
    "duration": 30,
    "start_time": "2021-12-24T14:33:10.596Z"
   },
   {
    "duration": 13,
    "start_time": "2021-12-24T14:33:21.206Z"
   },
   {
    "duration": 1284,
    "start_time": "2021-12-24T14:33:26.380Z"
   },
   {
    "duration": 3,
    "start_time": "2021-12-24T14:33:27.666Z"
   },
   {
    "duration": 451,
    "start_time": "2021-12-24T14:33:27.674Z"
   },
   {
    "duration": 19,
    "start_time": "2021-12-24T14:33:28.127Z"
   },
   {
    "duration": 16,
    "start_time": "2021-12-24T14:33:28.148Z"
   },
   {
    "duration": 51,
    "start_time": "2021-12-24T14:33:28.166Z"
   },
   {
    "duration": 97,
    "start_time": "2021-12-24T14:33:28.219Z"
   },
   {
    "duration": 22,
    "start_time": "2021-12-24T14:33:28.319Z"
   },
   {
    "duration": 83,
    "start_time": "2021-12-24T14:33:28.343Z"
   },
   {
    "duration": 19,
    "start_time": "2021-12-24T14:33:28.428Z"
   },
   {
    "duration": 67,
    "start_time": "2021-12-24T14:33:28.449Z"
   },
   {
    "duration": 11,
    "start_time": "2021-12-24T14:33:28.518Z"
   },
   {
    "duration": 29,
    "start_time": "2021-12-24T14:33:28.531Z"
   },
   {
    "duration": 49,
    "start_time": "2021-12-24T14:33:28.562Z"
   },
   {
    "duration": 24,
    "start_time": "2021-12-24T14:33:28.613Z"
   },
   {
    "duration": 1158,
    "start_time": "2021-12-24T14:35:08.807Z"
   },
   {
    "duration": 4,
    "start_time": "2021-12-24T14:35:09.967Z"
   },
   {
    "duration": 460,
    "start_time": "2021-12-24T14:35:09.977Z"
   },
   {
    "duration": 16,
    "start_time": "2021-12-24T14:35:10.439Z"
   },
   {
    "duration": 12,
    "start_time": "2021-12-24T14:35:10.457Z"
   },
   {
    "duration": 44,
    "start_time": "2021-12-24T14:35:10.471Z"
   },
   {
    "duration": 102,
    "start_time": "2021-12-24T14:35:10.518Z"
   },
   {
    "duration": 24,
    "start_time": "2021-12-24T14:35:10.622Z"
   },
   {
    "duration": 84,
    "start_time": "2021-12-24T14:35:10.647Z"
   },
   {
    "duration": 20,
    "start_time": "2021-12-24T14:35:10.733Z"
   },
   {
    "duration": 63,
    "start_time": "2021-12-24T14:35:10.755Z"
   },
   {
    "duration": 12,
    "start_time": "2021-12-24T14:35:10.820Z"
   },
   {
    "duration": 28,
    "start_time": "2021-12-24T14:35:10.834Z"
   },
   {
    "duration": 51,
    "start_time": "2021-12-24T14:35:10.864Z"
   },
   {
    "duration": 25,
    "start_time": "2021-12-24T14:35:10.917Z"
   },
   {
    "duration": 1170,
    "start_time": "2021-12-24T14:42:12.505Z"
   },
   {
    "duration": 4,
    "start_time": "2021-12-24T14:42:13.677Z"
   },
   {
    "duration": 471,
    "start_time": "2021-12-24T14:42:13.683Z"
   },
   {
    "duration": 16,
    "start_time": "2021-12-24T14:42:14.156Z"
   },
   {
    "duration": 26,
    "start_time": "2021-12-24T14:42:14.174Z"
   },
   {
    "duration": 38,
    "start_time": "2021-12-24T14:42:14.203Z"
   },
   {
    "duration": 89,
    "start_time": "2021-12-24T14:42:14.243Z"
   },
   {
    "duration": 21,
    "start_time": "2021-12-24T14:42:14.334Z"
   },
   {
    "duration": 87,
    "start_time": "2021-12-24T14:42:14.357Z"
   },
   {
    "duration": 19,
    "start_time": "2021-12-24T14:42:14.446Z"
   },
   {
    "duration": 62,
    "start_time": "2021-12-24T14:42:14.466Z"
   },
   {
    "duration": 11,
    "start_time": "2021-12-24T14:42:14.530Z"
   },
   {
    "duration": 287,
    "start_time": "2021-12-24T14:42:14.543Z"
   },
   {
    "duration": -1459,
    "start_time": "2021-12-24T14:42:16.291Z"
   },
   {
    "duration": -1459,
    "start_time": "2021-12-24T14:42:16.292Z"
   },
   {
    "duration": 1188,
    "start_time": "2021-12-24T14:42:28.573Z"
   },
   {
    "duration": 4,
    "start_time": "2021-12-24T14:42:29.763Z"
   },
   {
    "duration": 470,
    "start_time": "2021-12-24T14:42:29.769Z"
   },
   {
    "duration": 18,
    "start_time": "2021-12-24T14:42:30.241Z"
   },
   {
    "duration": 13,
    "start_time": "2021-12-24T14:42:30.262Z"
   },
   {
    "duration": 45,
    "start_time": "2021-12-24T14:42:30.276Z"
   },
   {
    "duration": 105,
    "start_time": "2021-12-24T14:42:30.323Z"
   },
   {
    "duration": 30,
    "start_time": "2021-12-24T14:42:30.430Z"
   },
   {
    "duration": 94,
    "start_time": "2021-12-24T14:42:30.464Z"
   },
   {
    "duration": 21,
    "start_time": "2021-12-24T14:42:30.560Z"
   },
   {
    "duration": 51,
    "start_time": "2021-12-24T14:42:30.593Z"
   },
   {
    "duration": 12,
    "start_time": "2021-12-24T14:42:30.646Z"
   },
   {
    "duration": 59,
    "start_time": "2021-12-24T14:42:30.659Z"
   },
   {
    "duration": 20,
    "start_time": "2021-12-24T14:42:30.720Z"
   },
   {
    "duration": 23,
    "start_time": "2021-12-24T14:42:30.742Z"
   },
   {
    "duration": 19,
    "start_time": "2021-12-24T14:43:43.691Z"
   },
   {
    "duration": 1195,
    "start_time": "2021-12-24T14:44:08.318Z"
   },
   {
    "duration": 3,
    "start_time": "2021-12-24T14:44:09.515Z"
   },
   {
    "duration": 565,
    "start_time": "2021-12-24T14:44:09.523Z"
   },
   {
    "duration": 32,
    "start_time": "2021-12-24T14:44:10.091Z"
   },
   {
    "duration": 19,
    "start_time": "2021-12-24T14:44:10.126Z"
   },
   {
    "duration": 28,
    "start_time": "2021-12-24T14:44:10.147Z"
   },
   {
    "duration": 102,
    "start_time": "2021-12-24T14:44:10.191Z"
   },
   {
    "duration": 27,
    "start_time": "2021-12-24T14:44:10.297Z"
   },
   {
    "duration": 79,
    "start_time": "2021-12-24T14:44:10.326Z"
   },
   {
    "duration": 22,
    "start_time": "2021-12-24T14:44:10.408Z"
   },
   {
    "duration": 65,
    "start_time": "2021-12-24T14:44:10.432Z"
   },
   {
    "duration": 16,
    "start_time": "2021-12-24T14:44:10.500Z"
   },
   {
    "duration": 30,
    "start_time": "2021-12-24T14:44:10.518Z"
   },
   {
    "duration": 46,
    "start_time": "2021-12-24T14:44:10.549Z"
   },
   {
    "duration": 29,
    "start_time": "2021-12-24T14:44:10.597Z"
   },
   {
    "duration": 17,
    "start_time": "2021-12-24T14:44:10.629Z"
   },
   {
    "duration": 18,
    "start_time": "2021-12-24T14:49:26.308Z"
   },
   {
    "duration": 1160,
    "start_time": "2021-12-24T14:53:02.810Z"
   },
   {
    "duration": 3,
    "start_time": "2021-12-24T14:53:03.973Z"
   },
   {
    "duration": 448,
    "start_time": "2021-12-24T14:53:03.979Z"
   },
   {
    "duration": 17,
    "start_time": "2021-12-24T14:53:04.429Z"
   },
   {
    "duration": 4680,
    "start_time": "2021-12-24T14:53:04.448Z"
   },
   {
    "duration": -1472,
    "start_time": "2021-12-24T14:53:10.604Z"
   },
   {
    "duration": -1472,
    "start_time": "2021-12-24T14:53:10.605Z"
   },
   {
    "duration": -1470,
    "start_time": "2021-12-24T14:53:10.606Z"
   },
   {
    "duration": -1469,
    "start_time": "2021-12-24T14:53:10.606Z"
   },
   {
    "duration": -1470,
    "start_time": "2021-12-24T14:53:10.607Z"
   },
   {
    "duration": -1470,
    "start_time": "2021-12-24T14:53:10.608Z"
   },
   {
    "duration": -1468,
    "start_time": "2021-12-24T14:53:10.608Z"
   },
   {
    "duration": -1471,
    "start_time": "2021-12-24T14:53:10.612Z"
   },
   {
    "duration": -1471,
    "start_time": "2021-12-24T14:53:10.612Z"
   },
   {
    "duration": -1474,
    "start_time": "2021-12-24T14:53:10.616Z"
   },
   {
    "duration": -1474,
    "start_time": "2021-12-24T14:53:10.617Z"
   },
   {
    "duration": -1473,
    "start_time": "2021-12-24T14:53:10.617Z"
   },
   {
    "duration": 11,
    "start_time": "2021-12-24T14:53:56.038Z"
   },
   {
    "duration": 1137,
    "start_time": "2021-12-24T14:54:05.455Z"
   },
   {
    "duration": 5,
    "start_time": "2021-12-24T14:54:06.595Z"
   },
   {
    "duration": 447,
    "start_time": "2021-12-24T14:54:06.603Z"
   },
   {
    "duration": 16,
    "start_time": "2021-12-24T14:54:07.052Z"
   },
   {
    "duration": 10,
    "start_time": "2021-12-24T14:54:07.070Z"
   },
   {
    "duration": 39,
    "start_time": "2021-12-24T14:54:07.082Z"
   },
   {
    "duration": 104,
    "start_time": "2021-12-24T14:54:07.123Z"
   },
   {
    "duration": 23,
    "start_time": "2021-12-24T14:54:07.229Z"
   },
   {
    "duration": 84,
    "start_time": "2021-12-24T14:54:07.255Z"
   },
   {
    "duration": 20,
    "start_time": "2021-12-24T14:54:07.341Z"
   },
   {
    "duration": 65,
    "start_time": "2021-12-24T14:54:07.362Z"
   },
   {
    "duration": 13,
    "start_time": "2021-12-24T14:54:07.429Z"
   },
   {
    "duration": 53,
    "start_time": "2021-12-24T14:54:07.444Z"
   },
   {
    "duration": 28,
    "start_time": "2021-12-24T14:54:07.500Z"
   },
   {
    "duration": 41,
    "start_time": "2021-12-24T14:54:07.531Z"
   },
   {
    "duration": 40,
    "start_time": "2021-12-24T14:54:07.575Z"
   },
   {
    "duration": 24,
    "start_time": "2021-12-24T14:54:07.618Z"
   },
   {
    "duration": 34,
    "start_time": "2021-12-24T14:54:35.998Z"
   },
   {
    "duration": 17,
    "start_time": "2021-12-24T14:55:31.038Z"
   },
   {
    "duration": 17,
    "start_time": "2021-12-24T14:55:37.167Z"
   },
   {
    "duration": 14,
    "start_time": "2021-12-24T14:57:40.801Z"
   },
   {
    "duration": 1175,
    "start_time": "2021-12-24T14:57:49.773Z"
   },
   {
    "duration": 3,
    "start_time": "2021-12-24T14:57:50.950Z"
   },
   {
    "duration": 475,
    "start_time": "2021-12-24T14:57:50.956Z"
   },
   {
    "duration": 17,
    "start_time": "2021-12-24T14:57:51.433Z"
   },
   {
    "duration": 10,
    "start_time": "2021-12-24T14:57:51.452Z"
   },
   {
    "duration": 44,
    "start_time": "2021-12-24T14:57:51.464Z"
   },
   {
    "duration": 104,
    "start_time": "2021-12-24T14:57:51.510Z"
   },
   {
    "duration": 22,
    "start_time": "2021-12-24T14:57:51.616Z"
   },
   {
    "duration": 82,
    "start_time": "2021-12-24T14:57:51.641Z"
   },
   {
    "duration": 19,
    "start_time": "2021-12-24T14:57:51.725Z"
   },
   {
    "duration": 74,
    "start_time": "2021-12-24T14:57:51.746Z"
   },
   {
    "duration": 11,
    "start_time": "2021-12-24T14:57:51.822Z"
   },
   {
    "duration": 31,
    "start_time": "2021-12-24T14:57:51.835Z"
   },
   {
    "duration": 49,
    "start_time": "2021-12-24T14:57:51.868Z"
   },
   {
    "duration": 24,
    "start_time": "2021-12-24T14:57:51.919Z"
   },
   {
    "duration": 17,
    "start_time": "2021-12-24T14:57:51.944Z"
   },
   {
    "duration": 51,
    "start_time": "2021-12-24T14:57:51.963Z"
   },
   {
    "duration": 1246,
    "start_time": "2021-12-24T14:58:02.692Z"
   },
   {
    "duration": 3,
    "start_time": "2021-12-24T14:58:03.940Z"
   },
   {
    "duration": 450,
    "start_time": "2021-12-24T14:58:03.945Z"
   },
   {
    "duration": 25,
    "start_time": "2021-12-24T14:58:04.398Z"
   },
   {
    "duration": 9,
    "start_time": "2021-12-24T14:58:04.425Z"
   },
   {
    "duration": 26,
    "start_time": "2021-12-24T14:58:04.436Z"
   },
   {
    "duration": 100,
    "start_time": "2021-12-24T14:58:04.492Z"
   },
   {
    "duration": 30,
    "start_time": "2021-12-24T14:58:04.595Z"
   },
   {
    "duration": 89,
    "start_time": "2021-12-24T14:58:04.628Z"
   },
   {
    "duration": 20,
    "start_time": "2021-12-24T14:58:04.719Z"
   },
   {
    "duration": 69,
    "start_time": "2021-12-24T14:58:04.740Z"
   },
   {
    "duration": 11,
    "start_time": "2021-12-24T14:58:04.811Z"
   },
   {
    "duration": 31,
    "start_time": "2021-12-24T14:58:04.824Z"
   },
   {
    "duration": 51,
    "start_time": "2021-12-24T14:58:04.857Z"
   },
   {
    "duration": 26,
    "start_time": "2021-12-24T14:58:04.910Z"
   },
   {
    "duration": 19,
    "start_time": "2021-12-24T14:58:04.939Z"
   },
   {
    "duration": 60,
    "start_time": "2021-12-24T14:58:04.960Z"
   },
   {
    "duration": 1201,
    "start_time": "2021-12-24T14:58:28.830Z"
   },
   {
    "duration": 4,
    "start_time": "2021-12-24T14:58:30.033Z"
   },
   {
    "duration": 471,
    "start_time": "2021-12-24T14:58:30.042Z"
   },
   {
    "duration": 18,
    "start_time": "2021-12-24T14:58:30.514Z"
   },
   {
    "duration": 28,
    "start_time": "2021-12-24T14:58:30.533Z"
   },
   {
    "duration": 47,
    "start_time": "2021-12-24T14:58:30.563Z"
   },
   {
    "duration": 90,
    "start_time": "2021-12-24T14:58:30.612Z"
   },
   {
    "duration": 24,
    "start_time": "2021-12-24T14:58:30.709Z"
   },
   {
    "duration": 87,
    "start_time": "2021-12-24T14:58:30.736Z"
   },
   {
    "duration": 20,
    "start_time": "2021-12-24T14:58:30.824Z"
   },
   {
    "duration": 71,
    "start_time": "2021-12-24T14:58:30.845Z"
   },
   {
    "duration": 11,
    "start_time": "2021-12-24T14:58:30.918Z"
   },
   {
    "duration": 39,
    "start_time": "2021-12-24T14:58:30.931Z"
   },
   {
    "duration": 44,
    "start_time": "2021-12-24T14:58:30.972Z"
   },
   {
    "duration": 31,
    "start_time": "2021-12-24T14:58:31.018Z"
   },
   {
    "duration": 43,
    "start_time": "2021-12-24T14:58:31.050Z"
   },
   {
    "duration": 30,
    "start_time": "2021-12-24T14:58:31.095Z"
   },
   {
    "duration": 1110,
    "start_time": "2021-12-24T14:58:53.349Z"
   },
   {
    "duration": 4,
    "start_time": "2021-12-24T14:58:54.460Z"
   },
   {
    "duration": 491,
    "start_time": "2021-12-24T14:58:54.466Z"
   },
   {
    "duration": 20,
    "start_time": "2021-12-24T14:58:54.959Z"
   },
   {
    "duration": 22,
    "start_time": "2021-12-24T14:58:54.980Z"
   },
   {
    "duration": 32,
    "start_time": "2021-12-24T14:58:55.008Z"
   },
   {
    "duration": 110,
    "start_time": "2021-12-24T14:58:55.042Z"
   },
   {
    "duration": 38,
    "start_time": "2021-12-24T14:58:55.153Z"
   },
   {
    "duration": 96,
    "start_time": "2021-12-24T14:58:55.195Z"
   },
   {
    "duration": 29,
    "start_time": "2021-12-24T14:58:55.294Z"
   },
   {
    "duration": 78,
    "start_time": "2021-12-24T14:58:55.325Z"
   },
   {
    "duration": 17,
    "start_time": "2021-12-24T14:58:55.406Z"
   },
   {
    "duration": 39,
    "start_time": "2021-12-24T14:58:55.425Z"
   },
   {
    "duration": 47,
    "start_time": "2021-12-24T14:58:55.466Z"
   },
   {
    "duration": 27,
    "start_time": "2021-12-24T14:58:55.515Z"
   },
   {
    "duration": 19,
    "start_time": "2021-12-24T14:58:55.544Z"
   },
   {
    "duration": 59,
    "start_time": "2021-12-24T14:58:55.565Z"
   },
   {
    "duration": 83,
    "start_time": "2021-12-24T15:03:01.140Z"
   },
   {
    "duration": 5398,
    "start_time": "2021-12-24T15:03:07.483Z"
   },
   {
    "duration": 299,
    "start_time": "2021-12-24T15:03:26.600Z"
   },
   {
    "duration": 184,
    "start_time": "2021-12-24T15:03:58.966Z"
   },
   {
    "duration": 7,
    "start_time": "2021-12-24T15:04:18.291Z"
   },
   {
    "duration": 9,
    "start_time": "2021-12-24T15:04:30.910Z"
   },
   {
    "duration": 1236,
    "start_time": "2021-12-24T15:04:47.387Z"
   },
   {
    "duration": 4,
    "start_time": "2021-12-24T15:04:48.625Z"
   },
   {
    "duration": 448,
    "start_time": "2021-12-24T15:04:48.633Z"
   },
   {
    "duration": 25,
    "start_time": "2021-12-24T15:04:49.083Z"
   },
   {
    "duration": 11,
    "start_time": "2021-12-24T15:04:49.111Z"
   },
   {
    "duration": 28,
    "start_time": "2021-12-24T15:04:49.124Z"
   },
   {
    "duration": 116,
    "start_time": "2021-12-24T15:04:49.154Z"
   },
   {
    "duration": 40,
    "start_time": "2021-12-24T15:04:49.273Z"
   },
   {
    "duration": 83,
    "start_time": "2021-12-24T15:04:49.315Z"
   },
   {
    "duration": 25,
    "start_time": "2021-12-24T15:04:49.401Z"
   },
   {
    "duration": 74,
    "start_time": "2021-12-24T15:04:49.428Z"
   },
   {
    "duration": 15,
    "start_time": "2021-12-24T15:04:49.505Z"
   },
   {
    "duration": 30,
    "start_time": "2021-12-24T15:04:49.522Z"
   },
   {
    "duration": 51,
    "start_time": "2021-12-24T15:04:49.554Z"
   },
   {
    "duration": 25,
    "start_time": "2021-12-24T15:04:49.608Z"
   },
   {
    "duration": 18,
    "start_time": "2021-12-24T15:04:49.634Z"
   },
   {
    "duration": 59,
    "start_time": "2021-12-24T15:04:49.654Z"
   },
   {
    "duration": 15,
    "start_time": "2021-12-24T15:04:49.715Z"
   },
   {
    "duration": 311,
    "start_time": "2021-12-24T15:13:31.244Z"
   },
   {
    "duration": 34,
    "start_time": "2021-12-24T15:14:27.998Z"
   },
   {
    "duration": 206,
    "start_time": "2021-12-24T15:14:47.394Z"
   },
   {
    "duration": 22,
    "start_time": "2021-12-24T15:14:53.754Z"
   },
   {
    "duration": 5,
    "start_time": "2021-12-24T15:17:30.462Z"
   },
   {
    "duration": 1130,
    "start_time": "2021-12-24T15:17:34.353Z"
   },
   {
    "duration": 4,
    "start_time": "2021-12-24T15:17:35.484Z"
   },
   {
    "duration": 447,
    "start_time": "2021-12-24T15:17:35.492Z"
   },
   {
    "duration": 16,
    "start_time": "2021-12-24T15:17:35.941Z"
   },
   {
    "duration": 11,
    "start_time": "2021-12-24T15:17:35.959Z"
   },
   {
    "duration": 46,
    "start_time": "2021-12-24T15:17:35.972Z"
   },
   {
    "duration": 96,
    "start_time": "2021-12-24T15:17:36.020Z"
   },
   {
    "duration": 31,
    "start_time": "2021-12-24T15:17:36.119Z"
   },
   {
    "duration": 83,
    "start_time": "2021-12-24T15:17:36.153Z"
   },
   {
    "duration": 21,
    "start_time": "2021-12-24T15:17:36.238Z"
   },
   {
    "duration": 69,
    "start_time": "2021-12-24T15:17:36.261Z"
   },
   {
    "duration": 13,
    "start_time": "2021-12-24T15:17:36.333Z"
   },
   {
    "duration": 5,
    "start_time": "2021-12-24T15:17:36.348Z"
   },
   {
    "duration": 59,
    "start_time": "2021-12-24T15:17:36.355Z"
   },
   {
    "duration": 20,
    "start_time": "2021-12-24T15:17:36.417Z"
   },
   {
    "duration": 25,
    "start_time": "2021-12-24T15:17:36.440Z"
   },
   {
    "duration": 26,
    "start_time": "2021-12-24T15:17:36.491Z"
   },
   {
    "duration": 22,
    "start_time": "2021-12-24T15:17:36.519Z"
   },
   {
    "duration": 28,
    "start_time": "2021-12-24T15:17:43.454Z"
   },
   {
    "duration": 18,
    "start_time": "2021-12-24T15:24:55.613Z"
   },
   {
    "duration": 18,
    "start_time": "2021-12-24T15:25:00.744Z"
   },
   {
    "duration": 13,
    "start_time": "2021-12-24T15:25:10.114Z"
   },
   {
    "duration": 1180,
    "start_time": "2021-12-24T15:25:28.007Z"
   },
   {
    "duration": 4,
    "start_time": "2021-12-24T15:25:29.189Z"
   },
   {
    "duration": 445,
    "start_time": "2021-12-24T15:25:29.196Z"
   },
   {
    "duration": 17,
    "start_time": "2021-12-24T15:25:29.642Z"
   },
   {
    "duration": 10,
    "start_time": "2021-12-24T15:25:29.661Z"
   },
   {
    "duration": 46,
    "start_time": "2021-12-24T15:25:29.673Z"
   },
   {
    "duration": 106,
    "start_time": "2021-12-24T15:25:29.721Z"
   },
   {
    "duration": 24,
    "start_time": "2021-12-24T15:25:29.829Z"
   },
   {
    "duration": 86,
    "start_time": "2021-12-24T15:25:29.857Z"
   },
   {
    "duration": 21,
    "start_time": "2021-12-24T15:25:29.946Z"
   },
   {
    "duration": 77,
    "start_time": "2021-12-24T15:25:29.970Z"
   },
   {
    "duration": 12,
    "start_time": "2021-12-24T15:25:30.050Z"
   },
   {
    "duration": 4,
    "start_time": "2021-12-24T15:25:30.064Z"
   },
   {
    "duration": 35,
    "start_time": "2021-12-24T15:25:30.093Z"
   },
   {
    "duration": 21,
    "start_time": "2021-12-24T15:25:30.130Z"
   },
   {
    "duration": 55,
    "start_time": "2021-12-24T15:25:30.152Z"
   },
   {
    "duration": 25,
    "start_time": "2021-12-24T15:25:30.210Z"
   },
   {
    "duration": 30,
    "start_time": "2021-12-24T15:25:30.237Z"
   },
   {
    "duration": 79,
    "start_time": "2021-12-24T15:25:30.292Z"
   },
   {
    "duration": 1210,
    "start_time": "2021-12-24T15:25:40.812Z"
   },
   {
    "duration": 4,
    "start_time": "2021-12-24T15:25:42.024Z"
   },
   {
    "duration": 460,
    "start_time": "2021-12-24T15:25:42.032Z"
   },
   {
    "duration": 24,
    "start_time": "2021-12-24T15:25:42.495Z"
   },
   {
    "duration": 11,
    "start_time": "2021-12-24T15:25:42.521Z"
   },
   {
    "duration": 57,
    "start_time": "2021-12-24T15:25:42.535Z"
   },
   {
    "duration": 114,
    "start_time": "2021-12-24T15:25:42.597Z"
   },
   {
    "duration": 23,
    "start_time": "2021-12-24T15:25:42.714Z"
   },
   {
    "duration": 88,
    "start_time": "2021-12-24T15:25:42.739Z"
   },
   {
    "duration": 27,
    "start_time": "2021-12-24T15:25:42.829Z"
   },
   {
    "duration": 84,
    "start_time": "2021-12-24T15:25:42.858Z"
   },
   {
    "duration": 11,
    "start_time": "2021-12-24T15:25:42.944Z"
   },
   {
    "duration": 19,
    "start_time": "2021-12-24T15:25:42.958Z"
   },
   {
    "duration": 59,
    "start_time": "2021-12-24T15:25:42.978Z"
   },
   {
    "duration": 20,
    "start_time": "2021-12-24T15:25:43.039Z"
   },
   {
    "duration": 35,
    "start_time": "2021-12-24T15:25:43.061Z"
   },
   {
    "duration": 26,
    "start_time": "2021-12-24T15:25:43.099Z"
   },
   {
    "duration": 38,
    "start_time": "2021-12-24T15:25:43.128Z"
   },
   {
    "duration": 62,
    "start_time": "2021-12-24T15:25:43.192Z"
   },
   {
    "duration": 19,
    "start_time": "2021-12-24T15:26:01.107Z"
   },
   {
    "duration": 60,
    "start_time": "2021-12-24T15:28:33.429Z"
   },
   {
    "duration": 60,
    "start_time": "2021-12-24T15:28:38.043Z"
   },
   {
    "duration": 15,
    "start_time": "2021-12-24T15:28:54.469Z"
   },
   {
    "duration": 19,
    "start_time": "2021-12-24T15:30:20.068Z"
   },
   {
    "duration": 17,
    "start_time": "2021-12-24T15:30:39.049Z"
   },
   {
    "duration": 20,
    "start_time": "2021-12-24T15:30:50.881Z"
   },
   {
    "duration": 17,
    "start_time": "2021-12-24T15:30:56.761Z"
   },
   {
    "duration": 21,
    "start_time": "2021-12-24T15:31:21.271Z"
   },
   {
    "duration": 25,
    "start_time": "2021-12-24T15:31:28.123Z"
   },
   {
    "duration": 16,
    "start_time": "2021-12-24T15:31:32.210Z"
   },
   {
    "duration": 32,
    "start_time": "2021-12-24T15:34:47.925Z"
   },
   {
    "duration": 37,
    "start_time": "2021-12-24T15:34:57.375Z"
   },
   {
    "duration": 39,
    "start_time": "2021-12-24T15:38:43.231Z"
   },
   {
    "duration": 8,
    "start_time": "2021-12-24T15:45:06.936Z"
   },
   {
    "duration": 4,
    "start_time": "2021-12-24T15:48:05.278Z"
   },
   {
    "duration": 7,
    "start_time": "2021-12-24T15:48:31.477Z"
   },
   {
    "duration": 7,
    "start_time": "2021-12-24T15:53:45.404Z"
   },
   {
    "duration": 6,
    "start_time": "2021-12-24T15:57:41.113Z"
   },
   {
    "duration": 1125,
    "start_time": "2021-12-24T15:57:49.516Z"
   },
   {
    "duration": 3,
    "start_time": "2021-12-24T15:57:50.643Z"
   },
   {
    "duration": 443,
    "start_time": "2021-12-24T15:57:50.648Z"
   },
   {
    "duration": 25,
    "start_time": "2021-12-24T15:57:51.093Z"
   },
   {
    "duration": 11,
    "start_time": "2021-12-24T15:57:51.120Z"
   },
   {
    "duration": 30,
    "start_time": "2021-12-24T15:57:51.132Z"
   },
   {
    "duration": 110,
    "start_time": "2021-12-24T15:57:51.163Z"
   },
   {
    "duration": 38,
    "start_time": "2021-12-24T15:57:51.276Z"
   },
   {
    "duration": 76,
    "start_time": "2021-12-24T15:57:51.316Z"
   },
   {
    "duration": 24,
    "start_time": "2021-12-24T15:57:51.395Z"
   },
   {
    "duration": 42,
    "start_time": "2021-12-24T15:57:51.421Z"
   },
   {
    "duration": 43,
    "start_time": "2021-12-24T15:57:51.465Z"
   },
   {
    "duration": 4,
    "start_time": "2021-12-24T15:57:51.511Z"
   },
   {
    "duration": 34,
    "start_time": "2021-12-24T15:57:51.516Z"
   },
   {
    "duration": 19,
    "start_time": "2021-12-24T15:57:51.552Z"
   },
   {
    "duration": 29,
    "start_time": "2021-12-24T15:57:51.593Z"
   },
   {
    "duration": 16,
    "start_time": "2021-12-24T15:57:51.624Z"
   },
   {
    "duration": 26,
    "start_time": "2021-12-24T15:57:51.641Z"
   },
   {
    "duration": 42,
    "start_time": "2021-12-24T15:57:51.693Z"
   },
   {
    "duration": 7,
    "start_time": "2021-12-24T15:57:51.736Z"
   },
   {
    "duration": 7,
    "start_time": "2021-12-24T15:57:51.745Z"
   },
   {
    "duration": 9,
    "start_time": "2021-12-24T15:57:51.753Z"
   },
   {
    "duration": 32,
    "start_time": "2021-12-24T15:57:51.765Z"
   },
   {
    "duration": 31,
    "start_time": "2021-12-24T15:58:51.672Z"
   },
   {
    "duration": 1092,
    "start_time": "2021-12-24T15:59:01.155Z"
   },
   {
    "duration": 3,
    "start_time": "2021-12-24T15:59:02.249Z"
   },
   {
    "duration": 461,
    "start_time": "2021-12-24T15:59:02.254Z"
   },
   {
    "duration": 17,
    "start_time": "2021-12-24T15:59:02.717Z"
   },
   {
    "duration": 18,
    "start_time": "2021-12-24T15:59:02.736Z"
   },
   {
    "duration": 41,
    "start_time": "2021-12-24T15:59:02.756Z"
   },
   {
    "duration": 83,
    "start_time": "2021-12-24T15:59:02.800Z"
   },
   {
    "duration": 31,
    "start_time": "2021-12-24T15:59:02.891Z"
   },
   {
    "duration": 77,
    "start_time": "2021-12-24T15:59:02.925Z"
   },
   {
    "duration": 21,
    "start_time": "2021-12-24T15:59:03.005Z"
   },
   {
    "duration": 44,
    "start_time": "2021-12-24T15:59:03.028Z"
   },
   {
    "duration": 19,
    "start_time": "2021-12-24T15:59:03.092Z"
   },
   {
    "duration": 5,
    "start_time": "2021-12-24T15:59:03.114Z"
   },
   {
    "duration": 40,
    "start_time": "2021-12-24T15:59:03.121Z"
   },
   {
    "duration": 50,
    "start_time": "2021-12-24T15:59:03.163Z"
   },
   {
    "duration": 24,
    "start_time": "2021-12-24T15:59:03.215Z"
   },
   {
    "duration": 17,
    "start_time": "2021-12-24T15:59:03.241Z"
   },
   {
    "duration": 57,
    "start_time": "2021-12-24T15:59:03.261Z"
   },
   {
    "duration": 27,
    "start_time": "2021-12-24T15:59:03.320Z"
   },
   {
    "duration": 7,
    "start_time": "2021-12-24T15:59:03.349Z"
   },
   {
    "duration": 34,
    "start_time": "2021-12-24T15:59:03.358Z"
   },
   {
    "duration": 10,
    "start_time": "2021-12-24T15:59:03.396Z"
   },
   {
    "duration": 7,
    "start_time": "2021-12-24T15:59:03.409Z"
   },
   {
    "duration": 1113,
    "start_time": "2021-12-24T16:53:17.368Z"
   },
   {
    "duration": 4,
    "start_time": "2021-12-24T16:53:18.483Z"
   },
   {
    "duration": 438,
    "start_time": "2021-12-24T16:53:18.488Z"
   },
   {
    "duration": 17,
    "start_time": "2021-12-24T16:53:18.928Z"
   },
   {
    "duration": 10,
    "start_time": "2021-12-24T16:53:18.947Z"
   },
   {
    "duration": 45,
    "start_time": "2021-12-24T16:53:18.959Z"
   },
   {
    "duration": 93,
    "start_time": "2021-12-24T16:53:19.007Z"
   },
   {
    "duration": 25,
    "start_time": "2021-12-24T16:53:19.102Z"
   },
   {
    "duration": 80,
    "start_time": "2021-12-24T16:53:19.129Z"
   },
   {
    "duration": 19,
    "start_time": "2021-12-24T16:53:19.211Z"
   },
   {
    "duration": 61,
    "start_time": "2021-12-24T16:53:19.232Z"
   },
   {
    "duration": 15,
    "start_time": "2021-12-24T16:53:19.299Z"
   },
   {
    "duration": 4,
    "start_time": "2021-12-24T16:53:19.316Z"
   },
   {
    "duration": 31,
    "start_time": "2021-12-24T16:53:19.322Z"
   },
   {
    "duration": 49,
    "start_time": "2021-12-24T16:53:19.355Z"
   },
   {
    "duration": 25,
    "start_time": "2021-12-24T16:53:19.406Z"
   },
   {
    "duration": 17,
    "start_time": "2021-12-24T16:53:19.433Z"
   },
   {
    "duration": 58,
    "start_time": "2021-12-24T16:53:19.451Z"
   },
   {
    "duration": 26,
    "start_time": "2021-12-24T16:53:19.511Z"
   },
   {
    "duration": 7,
    "start_time": "2021-12-24T16:53:19.539Z"
   },
   {
    "duration": 8,
    "start_time": "2021-12-24T16:53:19.547Z"
   },
   {
    "duration": 35,
    "start_time": "2021-12-24T16:53:19.556Z"
   },
   {
    "duration": 10,
    "start_time": "2021-12-24T16:53:19.594Z"
   },
   {
    "duration": 42,
    "start_time": "2021-12-24T17:22:47.497Z"
   },
   {
    "duration": 296,
    "start_time": "2021-12-24T17:23:31.746Z"
   },
   {
    "duration": 38,
    "start_time": "2021-12-24T17:23:58.450Z"
   },
   {
    "duration": 12,
    "start_time": "2021-12-24T17:41:38.767Z"
   },
   {
    "duration": 298,
    "start_time": "2021-12-24T17:44:43.062Z"
   },
   {
    "duration": 363,
    "start_time": "2021-12-24T17:49:50.635Z"
   },
   {
    "duration": 350,
    "start_time": "2021-12-24T17:49:55.896Z"
   },
   {
    "duration": 346,
    "start_time": "2021-12-24T17:50:02.295Z"
   },
   {
    "duration": 389,
    "start_time": "2021-12-24T17:53:06.095Z"
   },
   {
    "duration": 328,
    "start_time": "2021-12-24T17:54:27.575Z"
   },
   {
    "duration": 444,
    "start_time": "2021-12-24T17:54:39.591Z"
   },
   {
    "duration": 343,
    "start_time": "2021-12-24T17:56:35.577Z"
   },
   {
    "duration": 350,
    "start_time": "2021-12-24T18:14:58.191Z"
   },
   {
    "duration": 388,
    "start_time": "2021-12-24T18:15:12.343Z"
   },
   {
    "duration": 458,
    "start_time": "2021-12-24T18:15:39.722Z"
   },
   {
    "duration": 382,
    "start_time": "2021-12-24T18:15:45.018Z"
   },
   {
    "duration": 393,
    "start_time": "2021-12-24T18:15:48.187Z"
   },
   {
    "duration": 415,
    "start_time": "2021-12-24T18:15:52.404Z"
   },
   {
    "duration": 381,
    "start_time": "2021-12-24T18:16:02.522Z"
   },
   {
    "duration": 389,
    "start_time": "2021-12-24T18:17:59.955Z"
   },
   {
    "duration": 521,
    "start_time": "2021-12-24T18:19:06.538Z"
   },
   {
    "duration": 13,
    "start_time": "2021-12-24T18:20:03.155Z"
   },
   {
    "duration": 385,
    "start_time": "2021-12-24T18:21:01.984Z"
   },
   {
    "duration": 17,
    "start_time": "2021-12-24T18:21:56.656Z"
   },
   {
    "duration": 358,
    "start_time": "2021-12-24T18:22:44.672Z"
   },
   {
    "duration": 379,
    "start_time": "2021-12-24T18:23:12.939Z"
   },
   {
    "duration": 13,
    "start_time": "2021-12-24T19:55:43.814Z"
   },
   {
    "duration": 14,
    "start_time": "2021-12-24T19:56:00.480Z"
   },
   {
    "duration": 14,
    "start_time": "2021-12-24T19:56:09.675Z"
   },
   {
    "duration": 13,
    "start_time": "2021-12-24T19:56:19.195Z"
   },
   {
    "duration": 360,
    "start_time": "2021-12-24T20:16:43.465Z"
   },
   {
    "duration": 366,
    "start_time": "2021-12-24T20:17:20.884Z"
   },
   {
    "duration": 415,
    "start_time": "2021-12-24T20:17:31.640Z"
   },
   {
    "duration": 492,
    "start_time": "2021-12-24T20:17:37.346Z"
   },
   {
    "duration": 1087,
    "start_time": "2021-12-24T20:17:52.924Z"
   },
   {
    "duration": 3,
    "start_time": "2021-12-24T20:17:54.013Z"
   },
   {
    "duration": 436,
    "start_time": "2021-12-24T20:17:54.018Z"
   },
   {
    "duration": 16,
    "start_time": "2021-12-24T20:17:54.456Z"
   },
   {
    "duration": 10,
    "start_time": "2021-12-24T20:17:54.474Z"
   },
   {
    "duration": 29,
    "start_time": "2021-12-24T20:17:54.485Z"
   },
   {
    "duration": 89,
    "start_time": "2021-12-24T20:17:54.516Z"
   },
   {
    "duration": 21,
    "start_time": "2021-12-24T20:17:54.607Z"
   },
   {
    "duration": 71,
    "start_time": "2021-12-24T20:17:54.630Z"
   },
   {
    "duration": 18,
    "start_time": "2021-12-24T20:17:54.703Z"
   },
   {
    "duration": 40,
    "start_time": "2021-12-24T20:17:54.722Z"
   },
   {
    "duration": 31,
    "start_time": "2021-12-24T20:17:54.763Z"
   },
   {
    "duration": 5,
    "start_time": "2021-12-24T20:17:54.796Z"
   },
   {
    "duration": 31,
    "start_time": "2021-12-24T20:17:54.802Z"
   },
   {
    "duration": 18,
    "start_time": "2021-12-24T20:17:54.835Z"
   },
   {
    "duration": 46,
    "start_time": "2021-12-24T20:17:54.855Z"
   },
   {
    "duration": 15,
    "start_time": "2021-12-24T20:17:54.903Z"
   },
   {
    "duration": 25,
    "start_time": "2021-12-24T20:17:54.920Z"
   },
   {
    "duration": 51,
    "start_time": "2021-12-24T20:17:54.947Z"
   },
   {
    "duration": 7,
    "start_time": "2021-12-24T20:17:54.999Z"
   },
   {
    "duration": 6,
    "start_time": "2021-12-24T20:17:55.008Z"
   },
   {
    "duration": 7,
    "start_time": "2021-12-24T20:17:55.016Z"
   },
   {
    "duration": 9,
    "start_time": "2021-12-24T20:17:55.025Z"
   },
   {
    "duration": 20,
    "start_time": "2021-12-24T20:17:55.035Z"
   },
   {
    "duration": 378,
    "start_time": "2021-12-24T20:17:55.057Z"
   },
   {
    "duration": 12,
    "start_time": "2021-12-24T20:17:55.436Z"
   },
   {
    "duration": 371,
    "start_time": "2021-12-24T20:17:55.451Z"
   },
   {
    "duration": 13,
    "start_time": "2021-12-24T20:17:55.823Z"
   },
   {
    "duration": 375,
    "start_time": "2021-12-24T20:17:55.837Z"
   },
   {
    "duration": 1159,
    "start_time": "2021-12-24T20:35:04.285Z"
   },
   {
    "duration": 3,
    "start_time": "2021-12-24T20:35:05.446Z"
   },
   {
    "duration": 437,
    "start_time": "2021-12-24T20:35:05.452Z"
   },
   {
    "duration": 24,
    "start_time": "2021-12-24T20:35:05.891Z"
   },
   {
    "duration": 11,
    "start_time": "2021-12-24T20:35:05.917Z"
   },
   {
    "duration": 26,
    "start_time": "2021-12-24T20:35:05.930Z"
   },
   {
    "duration": 111,
    "start_time": "2021-12-24T20:35:05.958Z"
   },
   {
    "duration": 48,
    "start_time": "2021-12-24T20:35:06.071Z"
   },
   {
    "duration": 56,
    "start_time": "2021-12-24T20:35:06.122Z"
   },
   {
    "duration": 26,
    "start_time": "2021-12-24T20:35:06.194Z"
   },
   {
    "duration": 41,
    "start_time": "2021-12-24T20:35:06.222Z"
   },
   {
    "duration": 39,
    "start_time": "2021-12-24T20:35:06.265Z"
   },
   {
    "duration": 5,
    "start_time": "2021-12-24T20:35:06.305Z"
   },
   {
    "duration": 33,
    "start_time": "2021-12-24T20:35:06.312Z"
   },
   {
    "duration": 19,
    "start_time": "2021-12-24T20:35:06.347Z"
   },
   {
    "duration": 49,
    "start_time": "2021-12-24T20:35:06.367Z"
   },
   {
    "duration": 17,
    "start_time": "2021-12-24T20:35:06.418Z"
   },
   {
    "duration": 28,
    "start_time": "2021-12-24T20:35:06.436Z"
   },
   {
    "duration": 56,
    "start_time": "2021-12-24T20:35:06.466Z"
   },
   {
    "duration": 7,
    "start_time": "2021-12-24T20:35:06.524Z"
   },
   {
    "duration": 16,
    "start_time": "2021-12-24T20:35:06.532Z"
   },
   {
    "duration": 27,
    "start_time": "2021-12-24T20:35:06.549Z"
   },
   {
    "duration": 34,
    "start_time": "2021-12-24T20:35:06.577Z"
   },
   {
    "duration": 25,
    "start_time": "2021-12-24T20:35:06.613Z"
   },
   {
    "duration": 404,
    "start_time": "2021-12-24T20:35:06.640Z"
   },
   {
    "duration": 11,
    "start_time": "2021-12-24T20:35:07.046Z"
   },
   {
    "duration": 407,
    "start_time": "2021-12-24T20:35:07.060Z"
   },
   {
    "duration": 23,
    "start_time": "2021-12-24T20:35:07.469Z"
   },
   {
    "duration": 428,
    "start_time": "2021-12-24T20:35:07.494Z"
   },
   {
    "duration": 9,
    "start_time": "2021-12-24T20:45:43.368Z"
   },
   {
    "duration": 13,
    "start_time": "2021-12-24T20:46:24.295Z"
   },
   {
    "duration": 9,
    "start_time": "2021-12-24T20:46:26.768Z"
   },
   {
    "duration": 11,
    "start_time": "2021-12-24T20:46:31.457Z"
   },
   {
    "duration": 11,
    "start_time": "2021-12-24T20:47:47.633Z"
   },
   {
    "duration": 13,
    "start_time": "2021-12-24T20:47:56.311Z"
   },
   {
    "duration": 10,
    "start_time": "2021-12-24T20:48:04.239Z"
   },
   {
    "duration": 10,
    "start_time": "2021-12-24T20:49:05.001Z"
   },
   {
    "duration": 14,
    "start_time": "2021-12-24T20:49:56.599Z"
   },
   {
    "duration": 9,
    "start_time": "2021-12-24T21:01:13.227Z"
   },
   {
    "duration": 10,
    "start_time": "2021-12-24T21:02:12.929Z"
   },
   {
    "duration": 9,
    "start_time": "2021-12-24T21:05:47.624Z"
   },
   {
    "duration": 71,
    "start_time": "2021-12-24T21:05:49.211Z"
   },
   {
    "duration": 10,
    "start_time": "2021-12-24T21:14:59.604Z"
   },
   {
    "duration": 10,
    "start_time": "2021-12-24T21:15:06.770Z"
   },
   {
    "duration": 9,
    "start_time": "2021-12-24T21:17:09.516Z"
   },
   {
    "duration": 8,
    "start_time": "2021-12-24T21:17:15.632Z"
   },
   {
    "duration": 8,
    "start_time": "2021-12-24T21:17:38.534Z"
   },
   {
    "duration": 8,
    "start_time": "2021-12-24T21:17:54.806Z"
   },
   {
    "duration": 9,
    "start_time": "2021-12-24T21:18:03.072Z"
   },
   {
    "duration": 10,
    "start_time": "2021-12-24T21:19:55.073Z"
   },
   {
    "duration": 9,
    "start_time": "2021-12-24T21:19:56.932Z"
   },
   {
    "duration": 9,
    "start_time": "2021-12-24T21:21:42.681Z"
   },
   {
    "duration": 9,
    "start_time": "2021-12-24T21:21:47.527Z"
   },
   {
    "duration": 1114,
    "start_time": "2021-12-24T21:43:54.701Z"
   },
   {
    "duration": 3,
    "start_time": "2021-12-24T21:43:55.817Z"
   },
   {
    "duration": 412,
    "start_time": "2021-12-24T21:43:55.825Z"
   },
   {
    "duration": 16,
    "start_time": "2021-12-24T21:43:56.239Z"
   },
   {
    "duration": 10,
    "start_time": "2021-12-24T21:43:56.257Z"
   },
   {
    "duration": 37,
    "start_time": "2021-12-24T21:43:56.269Z"
   },
   {
    "duration": 90,
    "start_time": "2021-12-24T21:43:56.308Z"
   },
   {
    "duration": 21,
    "start_time": "2021-12-24T21:43:56.400Z"
   },
   {
    "duration": 71,
    "start_time": "2021-12-24T21:43:56.424Z"
   },
   {
    "duration": 18,
    "start_time": "2021-12-24T21:43:56.497Z"
   },
   {
    "duration": 40,
    "start_time": "2021-12-24T21:43:56.516Z"
   },
   {
    "duration": 35,
    "start_time": "2021-12-24T21:43:56.558Z"
   },
   {
    "duration": 4,
    "start_time": "2021-12-24T21:43:56.594Z"
   },
   {
    "duration": 32,
    "start_time": "2021-12-24T21:43:56.600Z"
   },
   {
    "duration": 18,
    "start_time": "2021-12-24T21:43:56.634Z"
   },
   {
    "duration": 50,
    "start_time": "2021-12-24T21:43:56.654Z"
   },
   {
    "duration": 17,
    "start_time": "2021-12-24T21:43:56.705Z"
   },
   {
    "duration": 27,
    "start_time": "2021-12-24T21:43:56.724Z"
   },
   {
    "duration": 49,
    "start_time": "2021-12-24T21:43:56.753Z"
   },
   {
    "duration": 7,
    "start_time": "2021-12-24T21:43:56.804Z"
   },
   {
    "duration": 7,
    "start_time": "2021-12-24T21:43:56.813Z"
   },
   {
    "duration": 7,
    "start_time": "2021-12-24T21:43:56.822Z"
   },
   {
    "duration": 7,
    "start_time": "2021-12-24T21:43:56.830Z"
   },
   {
    "duration": 12,
    "start_time": "2021-12-24T21:43:56.838Z"
   },
   {
    "duration": 405,
    "start_time": "2021-12-24T21:43:56.851Z"
   },
   {
    "duration": 13,
    "start_time": "2021-12-24T21:43:57.259Z"
   },
   {
    "duration": 374,
    "start_time": "2021-12-24T21:43:57.274Z"
   },
   {
    "duration": 13,
    "start_time": "2021-12-24T21:43:57.650Z"
   },
   {
    "duration": 385,
    "start_time": "2021-12-24T21:43:57.664Z"
   },
   {
    "duration": 9,
    "start_time": "2021-12-24T21:43:58.051Z"
   },
   {
    "duration": 9,
    "start_time": "2021-12-24T21:43:58.061Z"
   },
   {
    "duration": 1008,
    "start_time": "2021-12-24T21:44:38.469Z"
   },
   {
    "duration": 3,
    "start_time": "2021-12-24T21:44:39.479Z"
   },
   {
    "duration": 414,
    "start_time": "2021-12-24T21:44:39.492Z"
   },
   {
    "duration": 16,
    "start_time": "2021-12-24T21:44:39.908Z"
   },
   {
    "duration": 16,
    "start_time": "2021-12-24T21:44:39.926Z"
   },
   {
    "duration": 27,
    "start_time": "2021-12-24T21:44:39.943Z"
   },
   {
    "duration": 82,
    "start_time": "2021-12-24T21:44:39.971Z"
   },
   {
    "duration": 22,
    "start_time": "2021-12-24T21:44:40.055Z"
   },
   {
    "duration": 62,
    "start_time": "2021-12-24T21:44:40.092Z"
   },
   {
    "duration": 36,
    "start_time": "2021-12-24T21:44:40.156Z"
   },
   {
    "duration": 40,
    "start_time": "2021-12-24T21:44:40.194Z"
   },
   {
    "duration": 11,
    "start_time": "2021-12-24T21:44:40.236Z"
   },
   {
    "duration": 3,
    "start_time": "2021-12-24T21:44:40.249Z"
   },
   {
    "duration": 58,
    "start_time": "2021-12-24T21:44:40.254Z"
   },
   {
    "duration": 18,
    "start_time": "2021-12-24T21:44:40.314Z"
   },
   {
    "duration": 24,
    "start_time": "2021-12-24T21:44:40.334Z"
   },
   {
    "duration": 40,
    "start_time": "2021-12-24T21:44:40.360Z"
   },
   {
    "duration": 26,
    "start_time": "2021-12-24T21:44:40.402Z"
   },
   {
    "duration": 26,
    "start_time": "2021-12-24T21:44:40.430Z"
   },
   {
    "duration": 7,
    "start_time": "2021-12-24T21:44:40.458Z"
   },
   {
    "duration": 7,
    "start_time": "2021-12-24T21:44:40.492Z"
   },
   {
    "duration": 7,
    "start_time": "2021-12-24T21:44:40.501Z"
   },
   {
    "duration": 12,
    "start_time": "2021-12-24T21:44:40.509Z"
   },
   {
    "duration": 14,
    "start_time": "2021-12-24T21:44:40.522Z"
   },
   {
    "duration": 376,
    "start_time": "2021-12-24T21:44:40.538Z"
   },
   {
    "duration": 12,
    "start_time": "2021-12-24T21:44:40.916Z"
   },
   {
    "duration": 369,
    "start_time": "2021-12-24T21:44:40.931Z"
   },
   {
    "duration": 12,
    "start_time": "2021-12-24T21:44:41.302Z"
   },
   {
    "duration": 382,
    "start_time": "2021-12-24T21:44:41.315Z"
   },
   {
    "duration": 9,
    "start_time": "2021-12-24T21:44:41.699Z"
   },
   {
    "duration": 8,
    "start_time": "2021-12-24T21:44:41.709Z"
   },
   {
    "duration": 5,
    "start_time": "2021-12-24T21:47:33.990Z"
   },
   {
    "duration": 4,
    "start_time": "2021-12-24T21:47:40.155Z"
   },
   {
    "duration": 1560,
    "start_time": "2021-12-25T16:08:40.558Z"
   },
   {
    "duration": 4,
    "start_time": "2021-12-25T16:08:42.121Z"
   },
   {
    "duration": 543,
    "start_time": "2021-12-25T16:08:42.128Z"
   },
   {
    "duration": 31,
    "start_time": "2021-12-25T16:08:42.674Z"
   },
   {
    "duration": 18,
    "start_time": "2021-12-25T16:08:42.708Z"
   },
   {
    "duration": 67,
    "start_time": "2021-12-25T16:08:42.729Z"
   },
   {
    "duration": 119,
    "start_time": "2021-12-25T16:08:42.798Z"
   },
   {
    "duration": 58,
    "start_time": "2021-12-25T16:08:42.920Z"
   },
   {
    "duration": 131,
    "start_time": "2021-12-25T16:08:42.984Z"
   },
   {
    "duration": 50,
    "start_time": "2021-12-25T16:08:43.120Z"
   },
   {
    "duration": 58,
    "start_time": "2021-12-25T16:08:43.172Z"
   },
   {
    "duration": 42,
    "start_time": "2021-12-25T16:08:43.233Z"
   },
   {
    "duration": 5,
    "start_time": "2021-12-25T16:08:43.277Z"
   },
   {
    "duration": 39,
    "start_time": "2021-12-25T16:08:43.284Z"
   },
   {
    "duration": 62,
    "start_time": "2021-12-25T16:08:43.325Z"
   },
   {
    "duration": 32,
    "start_time": "2021-12-25T16:08:43.389Z"
   },
   {
    "duration": 51,
    "start_time": "2021-12-25T16:08:43.424Z"
   },
   {
    "duration": 44,
    "start_time": "2021-12-25T16:08:43.478Z"
   },
   {
    "duration": 79,
    "start_time": "2021-12-25T16:08:43.525Z"
   },
   {
    "duration": 7,
    "start_time": "2021-12-25T16:08:43.607Z"
   },
   {
    "duration": 7,
    "start_time": "2021-12-25T16:08:43.616Z"
   },
   {
    "duration": 7,
    "start_time": "2021-12-25T16:08:43.626Z"
   },
   {
    "duration": 34,
    "start_time": "2021-12-25T16:08:43.636Z"
   },
   {
    "duration": 23,
    "start_time": "2021-12-25T16:08:43.673Z"
   },
   {
    "duration": 404737,
    "start_time": "2021-12-25T16:08:43.698Z"
   },
   {
    "duration": 26,
    "start_time": "2021-12-25T16:15:28.437Z"
   },
   {
    "duration": 737,
    "start_time": "2021-12-25T16:15:28.469Z"
   },
   {
    "duration": 23,
    "start_time": "2021-12-25T16:15:29.209Z"
   },
   {
    "duration": 812,
    "start_time": "2021-12-25T16:15:29.234Z"
   },
   {
    "duration": 25,
    "start_time": "2021-12-25T16:15:30.049Z"
   },
   {
    "duration": 12,
    "start_time": "2021-12-25T16:15:30.077Z"
   },
   {
    "duration": 44,
    "start_time": "2021-12-25T16:21:28.260Z"
   },
   {
    "duration": 299,
    "start_time": "2021-12-26T15:05:35.969Z"
   },
   {
    "duration": 1325,
    "start_time": "2021-12-26T15:05:42.755Z"
   },
   {
    "duration": 5,
    "start_time": "2021-12-26T15:05:44.082Z"
   },
   {
    "duration": 517,
    "start_time": "2021-12-26T15:05:44.089Z"
   },
   {
    "duration": 27,
    "start_time": "2021-12-26T15:05:44.609Z"
   },
   {
    "duration": 16,
    "start_time": "2021-12-26T15:05:44.639Z"
   },
   {
    "duration": 68,
    "start_time": "2021-12-26T15:05:44.658Z"
   },
   {
    "duration": 20,
    "start_time": "2021-12-26T15:05:44.729Z"
   },
   {
    "duration": 125,
    "start_time": "2021-12-26T15:05:44.753Z"
   },
   {
    "duration": 46,
    "start_time": "2021-12-26T15:05:44.881Z"
   },
   {
    "duration": 93,
    "start_time": "2021-12-26T15:05:44.930Z"
   },
   {
    "duration": 26,
    "start_time": "2021-12-26T15:05:45.025Z"
   },
   {
    "duration": 80,
    "start_time": "2021-12-26T15:05:45.054Z"
   },
   {
    "duration": 17,
    "start_time": "2021-12-26T15:05:45.137Z"
   },
   {
    "duration": 5,
    "start_time": "2021-12-26T15:05:45.156Z"
   },
   {
    "duration": 64,
    "start_time": "2021-12-26T15:05:45.163Z"
   },
   {
    "duration": 33,
    "start_time": "2021-12-26T15:05:45.229Z"
   },
   {
    "duration": 31,
    "start_time": "2021-12-26T15:05:45.265Z"
   },
   {
    "duration": 42,
    "start_time": "2021-12-26T15:05:45.298Z"
   },
   {
    "duration": 41,
    "start_time": "2021-12-26T15:05:45.343Z"
   },
   {
    "duration": 67,
    "start_time": "2021-12-26T15:05:45.387Z"
   },
   {
    "duration": 14,
    "start_time": "2021-12-26T15:05:45.456Z"
   },
   {
    "duration": 9,
    "start_time": "2021-12-26T15:05:45.472Z"
   },
   {
    "duration": 37,
    "start_time": "2021-12-26T15:05:45.486Z"
   },
   {
    "duration": 9,
    "start_time": "2021-12-26T15:05:45.526Z"
   },
   {
    "duration": 45,
    "start_time": "2021-12-26T15:05:45.537Z"
   },
   {
    "duration": 48,
    "start_time": "2021-12-26T15:05:45.585Z"
   },
   {
    "duration": 589,
    "start_time": "2021-12-26T15:05:45.636Z"
   },
   {
    "duration": 17,
    "start_time": "2021-12-26T15:05:46.227Z"
   },
   {
    "duration": 685,
    "start_time": "2021-12-26T15:05:46.246Z"
   },
   {
    "duration": 19,
    "start_time": "2021-12-26T15:05:46.934Z"
   },
   {
    "duration": 605,
    "start_time": "2021-12-26T15:05:46.955Z"
   },
   {
    "duration": 14,
    "start_time": "2021-12-26T15:05:47.563Z"
   },
   {
    "duration": 42,
    "start_time": "2021-12-26T15:05:47.580Z"
   },
   {
    "duration": 12,
    "start_time": "2021-12-26T15:10:02.737Z"
   },
   {
    "duration": 8,
    "start_time": "2021-12-26T15:10:15.815Z"
   },
   {
    "duration": 12,
    "start_time": "2021-12-26T15:10:19.869Z"
   },
   {
    "duration": 9,
    "start_time": "2021-12-26T15:10:32.251Z"
   },
   {
    "duration": 10,
    "start_time": "2021-12-26T15:10:39.201Z"
   },
   {
    "duration": 10,
    "start_time": "2021-12-26T15:10:48.527Z"
   },
   {
    "duration": 1358,
    "start_time": "2021-12-26T15:10:58.917Z"
   },
   {
    "duration": 4,
    "start_time": "2021-12-26T15:11:00.277Z"
   },
   {
    "duration": 544,
    "start_time": "2021-12-26T15:11:00.285Z"
   },
   {
    "duration": 26,
    "start_time": "2021-12-26T15:11:00.832Z"
   },
   {
    "duration": 15,
    "start_time": "2021-12-26T15:11:00.861Z"
   },
   {
    "duration": 60,
    "start_time": "2021-12-26T15:11:00.878Z"
   },
   {
    "duration": 21,
    "start_time": "2021-12-26T15:11:00.941Z"
   },
   {
    "duration": 135,
    "start_time": "2021-12-26T15:11:00.965Z"
   },
   {
    "duration": 39,
    "start_time": "2021-12-26T15:11:01.103Z"
   },
   {
    "duration": 102,
    "start_time": "2021-12-26T15:11:01.145Z"
   },
   {
    "duration": 26,
    "start_time": "2021-12-26T15:11:01.249Z"
   },
   {
    "duration": 83,
    "start_time": "2021-12-26T15:11:01.278Z"
   },
   {
    "duration": 18,
    "start_time": "2021-12-26T15:11:01.364Z"
   },
   {
    "duration": 16,
    "start_time": "2021-12-26T15:11:01.385Z"
   },
   {
    "duration": 61,
    "start_time": "2021-12-26T15:11:01.404Z"
   },
   {
    "duration": 27,
    "start_time": "2021-12-26T15:11:01.467Z"
   },
   {
    "duration": 44,
    "start_time": "2021-12-26T15:11:01.497Z"
   },
   {
    "duration": 27,
    "start_time": "2021-12-26T15:11:01.544Z"
   },
   {
    "duration": 72,
    "start_time": "2021-12-26T15:11:01.574Z"
   },
   {
    "duration": 39,
    "start_time": "2021-12-26T15:11:01.648Z"
   },
   {
    "duration": 46,
    "start_time": "2021-12-26T15:11:01.689Z"
   },
   {
    "duration": 11,
    "start_time": "2021-12-26T15:11:01.738Z"
   },
   {
    "duration": 18,
    "start_time": "2021-12-26T15:11:01.754Z"
   },
   {
    "duration": 75,
    "start_time": "2021-12-26T15:11:01.775Z"
   },
   {
    "duration": 53,
    "start_time": "2021-12-26T15:11:01.852Z"
   },
   {
    "duration": 18,
    "start_time": "2021-12-26T15:11:01.907Z"
   },
   {
    "duration": 577,
    "start_time": "2021-12-26T15:11:01.927Z"
   },
   {
    "duration": 24,
    "start_time": "2021-12-26T15:11:02.507Z"
   },
   {
    "duration": 590,
    "start_time": "2021-12-26T15:11:02.534Z"
   },
   {
    "duration": 19,
    "start_time": "2021-12-26T15:11:03.127Z"
   },
   {
    "duration": 966,
    "start_time": "2021-12-26T15:11:03.148Z"
   },
   {
    "duration": 12,
    "start_time": "2021-12-26T15:11:04.118Z"
   },
   {
    "duration": 17,
    "start_time": "2021-12-26T15:11:04.133Z"
   },
   {
    "duration": 1396,
    "start_time": "2021-12-26T15:11:15.083Z"
   },
   {
    "duration": 5,
    "start_time": "2021-12-26T15:11:16.482Z"
   },
   {
    "duration": 542,
    "start_time": "2021-12-26T15:11:16.490Z"
   },
   {
    "duration": 25,
    "start_time": "2021-12-26T15:11:17.034Z"
   },
   {
    "duration": 17,
    "start_time": "2021-12-26T15:11:17.062Z"
   },
   {
    "duration": 54,
    "start_time": "2021-12-26T15:11:17.082Z"
   },
   {
    "duration": 18,
    "start_time": "2021-12-26T15:11:17.139Z"
   },
   {
    "duration": 126,
    "start_time": "2021-12-26T15:11:17.161Z"
   },
   {
    "duration": 45,
    "start_time": "2021-12-26T15:11:17.290Z"
   },
   {
    "duration": 111,
    "start_time": "2021-12-26T15:11:17.338Z"
   },
   {
    "duration": 25,
    "start_time": "2021-12-26T15:11:17.451Z"
   },
   {
    "duration": 83,
    "start_time": "2021-12-26T15:11:17.479Z"
   },
   {
    "duration": 16,
    "start_time": "2021-12-26T15:11:17.565Z"
   },
   {
    "duration": 5,
    "start_time": "2021-12-26T15:11:17.583Z"
   },
   {
    "duration": 58,
    "start_time": "2021-12-26T15:11:17.590Z"
   },
   {
    "duration": 27,
    "start_time": "2021-12-26T15:11:17.650Z"
   },
   {
    "duration": 59,
    "start_time": "2021-12-26T15:11:17.679Z"
   },
   {
    "duration": 25,
    "start_time": "2021-12-26T15:11:17.741Z"
   },
   {
    "duration": 77,
    "start_time": "2021-12-26T15:11:17.768Z"
   },
   {
    "duration": 90,
    "start_time": "2021-12-26T15:11:17.848Z"
   },
   {
    "duration": 12,
    "start_time": "2021-12-26T15:11:17.941Z"
   },
   {
    "duration": 63,
    "start_time": "2021-12-26T15:11:17.956Z"
   },
   {
    "duration": 9,
    "start_time": "2021-12-26T15:11:18.023Z"
   },
   {
    "duration": 10,
    "start_time": "2021-12-26T15:11:18.034Z"
   },
   {
    "duration": 95,
    "start_time": "2021-12-26T15:11:18.046Z"
   },
   {
    "duration": 17,
    "start_time": "2021-12-26T15:11:18.143Z"
   },
   {
    "duration": 779,
    "start_time": "2021-12-26T15:11:18.218Z"
   },
   {
    "duration": 28,
    "start_time": "2021-12-26T15:11:19.000Z"
   },
   {
    "duration": 568,
    "start_time": "2021-12-26T15:11:19.030Z"
   },
   {
    "duration": 30,
    "start_time": "2021-12-26T15:11:19.601Z"
   },
   {
    "duration": 594,
    "start_time": "2021-12-26T15:11:19.634Z"
   },
   {
    "duration": 11,
    "start_time": "2021-12-26T15:11:20.230Z"
   },
   {
    "duration": 10,
    "start_time": "2021-12-26T15:11:20.244Z"
   },
   {
    "duration": 1394,
    "start_time": "2021-12-26T15:11:43.590Z"
   },
   {
    "duration": 5,
    "start_time": "2021-12-26T15:11:44.987Z"
   },
   {
    "duration": 553,
    "start_time": "2021-12-26T15:11:44.995Z"
   },
   {
    "duration": 25,
    "start_time": "2021-12-26T15:11:45.551Z"
   },
   {
    "duration": 14,
    "start_time": "2021-12-26T15:11:45.578Z"
   },
   {
    "duration": 53,
    "start_time": "2021-12-26T15:11:45.594Z"
   },
   {
    "duration": 16,
    "start_time": "2021-12-26T15:11:45.649Z"
   },
   {
    "duration": 132,
    "start_time": "2021-12-26T15:11:45.669Z"
   },
   {
    "duration": 39,
    "start_time": "2021-12-26T15:11:45.804Z"
   },
   {
    "duration": 102,
    "start_time": "2021-12-26T15:11:45.846Z"
   },
   {
    "duration": 27,
    "start_time": "2021-12-26T15:11:45.951Z"
   },
   {
    "duration": 79,
    "start_time": "2021-12-26T15:11:45.980Z"
   },
   {
    "duration": 16,
    "start_time": "2021-12-26T15:11:46.061Z"
   },
   {
    "duration": 4,
    "start_time": "2021-12-26T15:11:46.080Z"
   },
   {
    "duration": 63,
    "start_time": "2021-12-26T15:11:46.086Z"
   },
   {
    "duration": 26,
    "start_time": "2021-12-26T15:11:46.151Z"
   },
   {
    "duration": 56,
    "start_time": "2021-12-26T15:11:46.179Z"
   },
   {
    "duration": 25,
    "start_time": "2021-12-26T15:11:46.237Z"
   },
   {
    "duration": 62,
    "start_time": "2021-12-26T15:11:46.264Z"
   },
   {
    "duration": 39,
    "start_time": "2021-12-26T15:11:46.328Z"
   },
   {
    "duration": 17,
    "start_time": "2021-12-26T15:11:46.369Z"
   },
   {
    "duration": 33,
    "start_time": "2021-12-26T15:11:46.388Z"
   },
   {
    "duration": 24,
    "start_time": "2021-12-26T15:11:46.425Z"
   },
   {
    "duration": 22,
    "start_time": "2021-12-26T15:11:46.452Z"
   },
   {
    "duration": 61,
    "start_time": "2021-12-26T15:11:46.476Z"
   },
   {
    "duration": 17,
    "start_time": "2021-12-26T15:11:46.540Z"
   },
   {
    "duration": 940,
    "start_time": "2021-12-26T15:11:46.559Z"
   },
   {
    "duration": 29,
    "start_time": "2021-12-26T15:11:47.501Z"
   },
   {
    "duration": 565,
    "start_time": "2021-12-26T15:11:47.533Z"
   },
   {
    "duration": 26,
    "start_time": "2021-12-26T15:11:48.100Z"
   },
   {
    "duration": 589,
    "start_time": "2021-12-26T15:11:48.128Z"
   },
   {
    "duration": 12,
    "start_time": "2021-12-26T15:11:48.719Z"
   },
   {
    "duration": 15,
    "start_time": "2021-12-26T15:11:48.733Z"
   },
   {
    "duration": 1084,
    "start_time": "2021-12-26T21:28:54.300Z"
   },
   {
    "duration": 3,
    "start_time": "2021-12-26T21:28:55.385Z"
   },
   {
    "duration": 395,
    "start_time": "2021-12-26T21:28:55.390Z"
   },
   {
    "duration": 15,
    "start_time": "2021-12-26T21:28:55.787Z"
   },
   {
    "duration": 9,
    "start_time": "2021-12-26T21:28:55.803Z"
   },
   {
    "duration": 26,
    "start_time": "2021-12-26T21:28:55.813Z"
   },
   {
    "duration": 11,
    "start_time": "2021-12-26T21:28:55.840Z"
   },
   {
    "duration": 80,
    "start_time": "2021-12-26T21:28:55.853Z"
   },
   {
    "duration": 20,
    "start_time": "2021-12-26T21:28:55.935Z"
   },
   {
    "duration": 93,
    "start_time": "2021-12-26T21:28:55.957Z"
   },
   {
    "duration": 17,
    "start_time": "2021-12-26T21:28:56.051Z"
   },
   {
    "duration": 92,
    "start_time": "2021-12-26T21:28:56.070Z"
   },
   {
    "duration": 10,
    "start_time": "2021-12-26T21:28:56.163Z"
   },
   {
    "duration": 55,
    "start_time": "2021-12-26T21:28:56.174Z"
   },
   {
    "duration": 29,
    "start_time": "2021-12-26T21:28:56.231Z"
   },
   {
    "duration": 66,
    "start_time": "2021-12-26T21:28:56.261Z"
   },
   {
    "duration": 22,
    "start_time": "2021-12-26T21:28:56.329Z"
   },
   {
    "duration": 15,
    "start_time": "2021-12-26T21:28:56.353Z"
   },
   {
    "duration": 78,
    "start_time": "2021-12-26T21:28:56.369Z"
   },
   {
    "duration": 31,
    "start_time": "2021-12-26T21:28:56.448Z"
   },
   {
    "duration": 47,
    "start_time": "2021-12-26T21:28:56.480Z"
   },
   {
    "duration": 6,
    "start_time": "2021-12-26T21:28:56.529Z"
   },
   {
    "duration": 6,
    "start_time": "2021-12-26T21:28:56.537Z"
   },
   {
    "duration": 6,
    "start_time": "2021-12-26T21:28:56.545Z"
   },
   {
    "duration": 26,
    "start_time": "2021-12-26T21:28:56.553Z"
   },
   {
    "duration": 11,
    "start_time": "2021-12-26T21:28:56.580Z"
   },
   {
    "duration": 343,
    "start_time": "2021-12-26T21:28:56.594Z"
   },
   {
    "duration": 11,
    "start_time": "2021-12-26T21:28:56.939Z"
   },
   {
    "duration": 322,
    "start_time": "2021-12-26T21:28:56.951Z"
   },
   {
    "duration": 11,
    "start_time": "2021-12-26T21:28:57.274Z"
   },
   {
    "duration": 470,
    "start_time": "2021-12-26T21:28:57.287Z"
   },
   {
    "duration": 8,
    "start_time": "2021-12-26T21:28:57.759Z"
   },
   {
    "duration": 63,
    "start_time": "2021-12-26T21:28:57.768Z"
   },
   {
    "duration": 9,
    "start_time": "2021-12-26T21:32:34.605Z"
   },
   {
    "duration": 9,
    "start_time": "2021-12-26T21:36:02.049Z"
   },
   {
    "duration": 4,
    "start_time": "2021-12-26T21:39:01.758Z"
   },
   {
    "duration": 5,
    "start_time": "2021-12-26T21:39:10.662Z"
   },
   {
    "duration": 417,
    "start_time": "2021-12-26T22:02:58.991Z"
   },
   {
    "duration": 345,
    "start_time": "2021-12-26T22:03:02.800Z"
   },
   {
    "duration": 329,
    "start_time": "2021-12-26T22:03:08.897Z"
   },
   {
    "duration": 5,
    "start_time": "2021-12-26T22:07:30.375Z"
   },
   {
    "duration": 5,
    "start_time": "2021-12-26T22:08:50.475Z"
   },
   {
    "duration": 868,
    "start_time": "2021-12-26T22:13:08.285Z"
   },
   {
    "duration": 4,
    "start_time": "2021-12-26T22:13:13.833Z"
   },
   {
    "duration": 4,
    "start_time": "2021-12-26T22:14:14.314Z"
   },
   {
    "duration": 4,
    "start_time": "2021-12-26T22:14:27.910Z"
   },
   {
    "duration": 1110,
    "start_time": "2021-12-26T22:14:32.232Z"
   },
   {
    "duration": 3,
    "start_time": "2021-12-26T22:14:44.307Z"
   },
   {
    "duration": 4,
    "start_time": "2021-12-26T22:15:13.100Z"
   },
   {
    "duration": 4,
    "start_time": "2021-12-26T22:17:03.498Z"
   },
   {
    "duration": 4,
    "start_time": "2021-12-26T22:24:28.793Z"
   },
   {
    "duration": 4,
    "start_time": "2021-12-26T22:24:34.703Z"
   },
   {
    "duration": 5,
    "start_time": "2021-12-26T22:36:33.246Z"
   },
   {
    "duration": 17,
    "start_time": "2021-12-26T22:38:16.986Z"
   },
   {
    "duration": 9,
    "start_time": "2021-12-26T22:38:22.224Z"
   },
   {
    "duration": 1090,
    "start_time": "2021-12-26T22:40:17.453Z"
   },
   {
    "duration": 3,
    "start_time": "2021-12-26T22:40:18.545Z"
   },
   {
    "duration": 399,
    "start_time": "2021-12-26T22:40:18.550Z"
   },
   {
    "duration": 15,
    "start_time": "2021-12-26T22:40:18.951Z"
   },
   {
    "duration": 9,
    "start_time": "2021-12-26T22:40:18.968Z"
   },
   {
    "duration": 26,
    "start_time": "2021-12-26T22:40:18.979Z"
   },
   {
    "duration": 30,
    "start_time": "2021-12-26T22:40:19.006Z"
   },
   {
    "duration": 73,
    "start_time": "2021-12-26T22:40:19.039Z"
   },
   {
    "duration": 22,
    "start_time": "2021-12-26T22:40:19.128Z"
   },
   {
    "duration": 77,
    "start_time": "2021-12-26T22:40:19.152Z"
   },
   {
    "duration": 27,
    "start_time": "2021-12-26T22:40:19.231Z"
   },
   {
    "duration": 69,
    "start_time": "2021-12-26T22:40:19.261Z"
   },
   {
    "duration": 10,
    "start_time": "2021-12-26T22:40:19.331Z"
   },
   {
    "duration": 5,
    "start_time": "2021-12-26T22:40:19.342Z"
   },
   {
    "duration": 28,
    "start_time": "2021-12-26T22:40:19.349Z"
   },
   {
    "duration": 16,
    "start_time": "2021-12-26T22:40:19.379Z"
   },
   {
    "duration": 45,
    "start_time": "2021-12-26T22:40:19.396Z"
   },
   {
    "duration": 22,
    "start_time": "2021-12-26T22:40:19.443Z"
   },
   {
    "duration": 40,
    "start_time": "2021-12-26T22:40:19.467Z"
   },
   {
    "duration": 57,
    "start_time": "2021-12-26T22:40:19.508Z"
   },
   {
    "duration": 12,
    "start_time": "2021-12-26T22:40:19.567Z"
   },
   {
    "duration": 8,
    "start_time": "2021-12-26T22:40:19.581Z"
   },
   {
    "duration": 8,
    "start_time": "2021-12-26T22:40:19.593Z"
   },
   {
    "duration": 7,
    "start_time": "2021-12-26T22:40:19.627Z"
   },
   {
    "duration": 9323,
    "start_time": "2021-12-26T22:40:19.636Z"
   },
   {
    "duration": -113,
    "start_time": "2021-12-26T22:40:29.075Z"
   },
   {
    "duration": -114,
    "start_time": "2021-12-26T22:40:29.077Z"
   },
   {
    "duration": -116,
    "start_time": "2021-12-26T22:40:29.079Z"
   },
   {
    "duration": -117,
    "start_time": "2021-12-26T22:40:29.081Z"
   },
   {
    "duration": -117,
    "start_time": "2021-12-26T22:40:29.082Z"
   },
   {
    "duration": -119,
    "start_time": "2021-12-26T22:40:29.084Z"
   },
   {
    "duration": -120,
    "start_time": "2021-12-26T22:40:29.086Z"
   },
   {
    "duration": -121,
    "start_time": "2021-12-26T22:40:29.088Z"
   },
   {
    "duration": -123,
    "start_time": "2021-12-26T22:40:29.090Z"
   },
   {
    "duration": 9294,
    "start_time": "2021-12-26T22:41:04.134Z"
   },
   {
    "duration": 13,
    "start_time": "2021-12-26T22:41:54.387Z"
   },
   {
    "duration": 14,
    "start_time": "2021-12-26T22:43:53.037Z"
   },
   {
    "duration": 11,
    "start_time": "2021-12-26T22:46:51.578Z"
   },
   {
    "duration": 1080,
    "start_time": "2021-12-26T22:47:04.118Z"
   },
   {
    "duration": 3,
    "start_time": "2021-12-26T22:47:05.200Z"
   },
   {
    "duration": 383,
    "start_time": "2021-12-26T22:47:05.207Z"
   },
   {
    "duration": 14,
    "start_time": "2021-12-26T22:47:05.592Z"
   },
   {
    "duration": 8,
    "start_time": "2021-12-26T22:47:05.608Z"
   },
   {
    "duration": 29,
    "start_time": "2021-12-26T22:47:05.617Z"
   },
   {
    "duration": 12,
    "start_time": "2021-12-26T22:47:05.648Z"
   },
   {
    "duration": 95,
    "start_time": "2021-12-26T22:47:05.662Z"
   },
   {
    "duration": 20,
    "start_time": "2021-12-26T22:47:05.758Z"
   },
   {
    "duration": 73,
    "start_time": "2021-12-26T22:47:05.779Z"
   },
   {
    "duration": 17,
    "start_time": "2021-12-26T22:47:05.854Z"
   },
   {
    "duration": 55,
    "start_time": "2021-12-26T22:47:05.872Z"
   },
   {
    "duration": 10,
    "start_time": "2021-12-26T22:47:05.929Z"
   },
   {
    "duration": 9,
    "start_time": "2021-12-26T22:47:05.940Z"
   },
   {
    "duration": 27,
    "start_time": "2021-12-26T22:47:05.950Z"
   },
   {
    "duration": 18,
    "start_time": "2021-12-26T22:47:05.978Z"
   },
   {
    "duration": 46,
    "start_time": "2021-12-26T22:47:05.997Z"
   },
   {
    "duration": 16,
    "start_time": "2021-12-26T22:47:06.045Z"
   },
   {
    "duration": 24,
    "start_time": "2021-12-26T22:47:06.062Z"
   },
   {
    "duration": 46,
    "start_time": "2021-12-26T22:47:06.087Z"
   },
   {
    "duration": 10,
    "start_time": "2021-12-26T22:47:06.135Z"
   },
   {
    "duration": 8,
    "start_time": "2021-12-26T22:47:06.148Z"
   },
   {
    "duration": 6,
    "start_time": "2021-12-26T22:47:06.157Z"
   },
   {
    "duration": 9,
    "start_time": "2021-12-26T22:47:06.164Z"
   },
   {
    "duration": 12,
    "start_time": "2021-12-26T22:47:06.175Z"
   },
   {
    "duration": 11,
    "start_time": "2021-12-26T22:47:06.189Z"
   },
   {
    "duration": 346,
    "start_time": "2021-12-26T22:47:06.201Z"
   },
   {
    "duration": 13,
    "start_time": "2021-12-26T22:47:06.548Z"
   },
   {
    "duration": 409,
    "start_time": "2021-12-26T22:47:06.563Z"
   },
   {
    "duration": 12,
    "start_time": "2021-12-26T22:47:06.973Z"
   },
   {
    "duration": 336,
    "start_time": "2021-12-26T22:47:06.987Z"
   },
   {
    "duration": 11,
    "start_time": "2021-12-26T22:47:07.325Z"
   },
   {
    "duration": 18,
    "start_time": "2021-12-26T22:47:07.337Z"
   },
   {
    "duration": 9,
    "start_time": "2021-12-26T22:47:07.357Z"
   }
  ],
  "kernelspec": {
   "display_name": "Python 3",
   "language": "python",
   "name": "python3"
  },
  "language_info": {
   "codemirror_mode": {
    "name": "ipython",
    "version": 3
   },
   "file_extension": ".py",
   "mimetype": "text/x-python",
   "name": "python",
   "nbconvert_exporter": "python",
   "pygments_lexer": "ipython3",
   "version": "3.7.8"
  },
  "toc": {
   "base_numbering": 1,
   "nav_menu": {},
   "number_sections": true,
   "sideBar": true,
   "skip_h1_title": true,
   "title_cell": "Содержание",
   "title_sidebar": "Содержание",
   "toc_cell": false,
   "toc_position": {
    "height": "calc(100% - 180px)",
    "left": "10px",
    "top": "150px",
    "width": "327px"
   },
   "toc_section_display": true,
   "toc_window_display": true
  }
 },
 "nbformat": 4,
 "nbformat_minor": 2
}
