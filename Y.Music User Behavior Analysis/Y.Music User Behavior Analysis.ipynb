{
 "cells": [
  {
   "cell_type": "markdown",
   "metadata": {
    "id": "E0vqbgi9ay0H"
   },
   "source": [
    "# Яндекс.Музыка"
   ]
  },
  {
   "cell_type": "markdown",
   "metadata": {
    "id": "VUC88oWjTJw2"
   },
   "source": [
    "Сравнение Москвы и Петербурга окружено мифами. Например:\n",
    " * Москва — мегаполис, подчинённый жёсткому ритму рабочей недели;\n",
    " * Петербург — культурная столица, со своими вкусами.\n",
    "\n",
    "На данных Яндекс.Музыки вы сравните поведение пользователей двух столиц.\n",
    "\n",
    "**Цель исследования** — проверьте три гипотезы:\n",
    "1. Активность пользователей зависит от дня недели. Причём в Москве и Петербурге это проявляется по-разному.\n",
    "2. В понедельник утром в Москве преобладают одни жанры, а в Петербурге — другие. Так же и вечером пятницы преобладают разные жанры — в зависимости от города. \n",
    "3. Москва и Петербург предпочитают разные жанры музыки. В Москве чаще слушают поп-музыку, в Петербурге — русский рэп.\n",
    "\n",
    "**Ход исследования**\n",
    "\n",
    "Данные о поведении пользователей вы получите из файла `yandex_music_project.csv`. О качестве данных ничего не известно. Поэтому перед проверкой гипотез понадобится обзор данных. \n",
    "\n",
    "Вы проверите данные на ошибки и оцените их влияние на исследование. Затем, на этапе предобработки вы поищете возможность исправить самые критичные ошибки данных.\n",
    " \n",
    "Таким образом, исследование пройдёт в три этапа:\n",
    " 1. Обзор данных.\n",
    " 2. Предобработка данных.\n",
    " 3. Проверка гипотез.\n",
    "\n"
   ]
  },
  {
   "cell_type": "markdown",
   "metadata": {
    "id": "Ml1hmfXC_Zcs"
   },
   "source": [
    "## Обзор данных\n",
    "\n",
    "Составьте первое представление о данных Яндекс.Музыки.\n",
    "\n",
    "\n"
   ]
  },
  {
   "cell_type": "markdown",
   "metadata": {
    "id": "57eAOGIz_Zcs"
   },
   "source": [
    "Основной инструмент аналитика — `pandas`. Импортируйте эту библиотеку."
   ]
  },
  {
   "cell_type": "code",
   "execution_count": 1,
   "metadata": {
    "id": "AXN7PHPN_Zcs"
   },
   "outputs": [],
   "source": [
    "import pandas as pd"
   ]
  },
  {
   "cell_type": "markdown",
   "metadata": {
    "id": "SG23P8tt_Zcs"
   },
   "source": [
    "Прочитайте файл `yandex_music_project.csv` из папки `/datasets` и сохраните его в переменной `df`:"
   ]
  },
  {
   "cell_type": "code",
   "execution_count": 2,
   "metadata": {
    "id": "fFVu7vqh_Zct"
   },
   "outputs": [],
   "source": [
    "df = pd.read_csv('/datasets/yandex_music_project.csv')"
   ]
  },
  {
   "cell_type": "markdown",
   "metadata": {
    "id": "rDoOMd3uTqnZ"
   },
   "source": [
    "Выведите на экран первые десять строк таблицы:"
   ]
  },
  {
   "cell_type": "code",
   "execution_count": 3,
   "metadata": {
    "id": "oWTVX3gW_Zct"
   },
   "outputs": [
    {
     "data": {
      "text/html": [
       "<div>\n",
       "<style scoped>\n",
       "    .dataframe tbody tr th:only-of-type {\n",
       "        vertical-align: middle;\n",
       "    }\n",
       "\n",
       "    .dataframe tbody tr th {\n",
       "        vertical-align: top;\n",
       "    }\n",
       "\n",
       "    .dataframe thead th {\n",
       "        text-align: right;\n",
       "    }\n",
       "</style>\n",
       "<table border=\"1\" class=\"dataframe\">\n",
       "  <thead>\n",
       "    <tr style=\"text-align: right;\">\n",
       "      <th></th>\n",
       "      <th>userID</th>\n",
       "      <th>Track</th>\n",
       "      <th>artist</th>\n",
       "      <th>genre</th>\n",
       "      <th>City</th>\n",
       "      <th>time</th>\n",
       "      <th>Day</th>\n",
       "    </tr>\n",
       "  </thead>\n",
       "  <tbody>\n",
       "    <tr>\n",
       "      <td>0</td>\n",
       "      <td>FFB692EC</td>\n",
       "      <td>Kamigata To Boots</td>\n",
       "      <td>The Mass Missile</td>\n",
       "      <td>rock</td>\n",
       "      <td>Saint-Petersburg</td>\n",
       "      <td>20:28:33</td>\n",
       "      <td>Wednesday</td>\n",
       "    </tr>\n",
       "    <tr>\n",
       "      <td>1</td>\n",
       "      <td>55204538</td>\n",
       "      <td>Delayed Because of Accident</td>\n",
       "      <td>Andreas Rönnberg</td>\n",
       "      <td>rock</td>\n",
       "      <td>Moscow</td>\n",
       "      <td>14:07:09</td>\n",
       "      <td>Friday</td>\n",
       "    </tr>\n",
       "    <tr>\n",
       "      <td>2</td>\n",
       "      <td>20EC38</td>\n",
       "      <td>Funiculì funiculà</td>\n",
       "      <td>Mario Lanza</td>\n",
       "      <td>pop</td>\n",
       "      <td>Saint-Petersburg</td>\n",
       "      <td>20:58:07</td>\n",
       "      <td>Wednesday</td>\n",
       "    </tr>\n",
       "    <tr>\n",
       "      <td>3</td>\n",
       "      <td>A3DD03C9</td>\n",
       "      <td>Dragons in the Sunset</td>\n",
       "      <td>Fire + Ice</td>\n",
       "      <td>folk</td>\n",
       "      <td>Saint-Petersburg</td>\n",
       "      <td>08:37:09</td>\n",
       "      <td>Monday</td>\n",
       "    </tr>\n",
       "    <tr>\n",
       "      <td>4</td>\n",
       "      <td>E2DC1FAE</td>\n",
       "      <td>Soul People</td>\n",
       "      <td>Space Echo</td>\n",
       "      <td>dance</td>\n",
       "      <td>Moscow</td>\n",
       "      <td>08:34:34</td>\n",
       "      <td>Monday</td>\n",
       "    </tr>\n",
       "    <tr>\n",
       "      <td>5</td>\n",
       "      <td>842029A1</td>\n",
       "      <td>Преданная</td>\n",
       "      <td>IMPERVTOR</td>\n",
       "      <td>rusrap</td>\n",
       "      <td>Saint-Petersburg</td>\n",
       "      <td>13:09:41</td>\n",
       "      <td>Friday</td>\n",
       "    </tr>\n",
       "    <tr>\n",
       "      <td>6</td>\n",
       "      <td>4CB90AA5</td>\n",
       "      <td>True</td>\n",
       "      <td>Roman Messer</td>\n",
       "      <td>dance</td>\n",
       "      <td>Moscow</td>\n",
       "      <td>13:00:07</td>\n",
       "      <td>Wednesday</td>\n",
       "    </tr>\n",
       "    <tr>\n",
       "      <td>7</td>\n",
       "      <td>F03E1C1F</td>\n",
       "      <td>Feeling This Way</td>\n",
       "      <td>Polina Griffith</td>\n",
       "      <td>dance</td>\n",
       "      <td>Moscow</td>\n",
       "      <td>20:47:49</td>\n",
       "      <td>Wednesday</td>\n",
       "    </tr>\n",
       "    <tr>\n",
       "      <td>8</td>\n",
       "      <td>8FA1D3BE</td>\n",
       "      <td>И вновь продолжается бой</td>\n",
       "      <td>NaN</td>\n",
       "      <td>ruspop</td>\n",
       "      <td>Moscow</td>\n",
       "      <td>09:17:40</td>\n",
       "      <td>Friday</td>\n",
       "    </tr>\n",
       "    <tr>\n",
       "      <td>9</td>\n",
       "      <td>E772D5C0</td>\n",
       "      <td>Pessimist</td>\n",
       "      <td>NaN</td>\n",
       "      <td>dance</td>\n",
       "      <td>Saint-Petersburg</td>\n",
       "      <td>21:20:49</td>\n",
       "      <td>Wednesday</td>\n",
       "    </tr>\n",
       "  </tbody>\n",
       "</table>\n",
       "</div>"
      ],
      "text/plain": [
       "     userID                        Track            artist   genre  \\\n",
       "0  FFB692EC            Kamigata To Boots  The Mass Missile    rock   \n",
       "1  55204538  Delayed Because of Accident  Andreas Rönnberg    rock   \n",
       "2    20EC38            Funiculì funiculà       Mario Lanza     pop   \n",
       "3  A3DD03C9        Dragons in the Sunset        Fire + Ice    folk   \n",
       "4  E2DC1FAE                  Soul People        Space Echo   dance   \n",
       "5  842029A1                    Преданная         IMPERVTOR  rusrap   \n",
       "6  4CB90AA5                         True      Roman Messer   dance   \n",
       "7  F03E1C1F             Feeling This Way   Polina Griffith   dance   \n",
       "8  8FA1D3BE     И вновь продолжается бой               NaN  ruspop   \n",
       "9  E772D5C0                    Pessimist               NaN   dance   \n",
       "\n",
       "             City        time        Day  \n",
       "0  Saint-Petersburg  20:28:33  Wednesday  \n",
       "1            Moscow  14:07:09     Friday  \n",
       "2  Saint-Petersburg  20:58:07  Wednesday  \n",
       "3  Saint-Petersburg  08:37:09     Monday  \n",
       "4            Moscow  08:34:34     Monday  \n",
       "5  Saint-Petersburg  13:09:41     Friday  \n",
       "6            Moscow  13:00:07  Wednesday  \n",
       "7            Moscow  20:47:49  Wednesday  \n",
       "8            Moscow  09:17:40     Friday  \n",
       "9  Saint-Petersburg  21:20:49  Wednesday  "
      ]
     },
     "execution_count": 3,
     "metadata": {},
     "output_type": "execute_result"
    }
   ],
   "source": [
    "df.head(10)"
   ]
  },
  {
   "cell_type": "markdown",
   "metadata": {
    "id": "EO73Kwic_Zct"
   },
   "source": [
    "Одной командой получить общую информацию о таблице:"
   ]
  },
  {
   "cell_type": "code",
   "execution_count": 4,
   "metadata": {
    "id": "DSf2kIb-_Zct"
   },
   "outputs": [
    {
     "name": "stdout",
     "output_type": "stream",
     "text": [
      "<class 'pandas.core.frame.DataFrame'>\n",
      "RangeIndex: 65079 entries, 0 to 65078\n",
      "Data columns (total 7 columns):\n",
      "  userID    65079 non-null object\n",
      "Track       63848 non-null object\n",
      "artist      57876 non-null object\n",
      "genre       63881 non-null object\n",
      "  City      65079 non-null object\n",
      "time        65079 non-null object\n",
      "Day         65079 non-null object\n",
      "dtypes: object(7)\n",
      "memory usage: 3.5+ MB\n"
     ]
    }
   ],
   "source": [
    "df.info()"
   ]
  },
  {
   "cell_type": "markdown",
   "metadata": {
    "id": "TaQ2Iwbr_Zct"
   },
   "source": [
    "Итак, в таблице семь столбцов. Тип данных во всех столбцах — `object`.\n",
    "\n",
    "Согласно документации к данным:\n",
    "* `userID` — идентификатор пользователя;\n",
    "* `Track` — название трека;  \n",
    "* `artist` — имя исполнителя;\n",
    "* `genre` — название жанра;\n",
    "* `City` — город пользователя;\n",
    "* `time` — время начала прослушивания;\n",
    "* `Day` — день недели.\n",
    "\n",
    "В названиях колонок видны три нарушения стиля:\n",
    "1. Строчные буквы сочетаются с прописными.\n",
    "2. Встречаются пробелы.\n",
    "3. Слитное написание названия.\n",
    "\n",
    "\n",
    "\n",
    "Количество значений в столбцах различается. Значит, в данных есть пропущенные значения.\n"
   ]
  },
  {
   "cell_type": "markdown",
   "metadata": {
    "id": "MCB6-dXG_Zct"
   },
   "source": [
    "**Выводы**\n",
    "\n",
    "В каждой строке таблицы — данные о прослушанном треке. Часть колонок описывает саму композицию: название, исполнителя и жанр. Остальные данные рассказывают о пользователе: из какого он города, когда он слушал музыку. \n",
    "\n",
    "Предварительно можно утверждать, что, данных достаточно для проверки гипотез. Но встречаются пропуски в данных, а в названиях колонок — расхождения с хорошим стилем.\n",
    "\n",
    "Чтобы двигаться дальше, нужно устранить проблемы в данных."
   ]
  },
  {
   "cell_type": "markdown",
   "metadata": {
    "id": "SjYF6Ub9_Zct"
   },
   "source": [
    "## Предобработка данных\n",
    "Исправьте стиль в заголовках столбцов, исключите пропуски. Затем проверьте данные на дубликаты."
   ]
  },
  {
   "cell_type": "markdown",
   "metadata": {
    "id": "dIaKXr29_Zct"
   },
   "source": [
    "### Стиль заголовков\n",
    "Выведите на экран названия столбцов:"
   ]
  },
  {
   "cell_type": "code",
   "execution_count": 5,
   "metadata": {
    "id": "oKOTdF_Q_Zct"
   },
   "outputs": [
    {
     "data": {
      "text/plain": [
       "Index(['  userID', 'Track', 'artist', 'genre', '  City  ', 'time', 'Day'], dtype='object')"
      ]
     },
     "execution_count": 5,
     "metadata": {},
     "output_type": "execute_result"
    }
   ],
   "source": [
    "df.columns"
   ]
  },
  {
   "cell_type": "markdown",
   "metadata": {
    "id": "FPZA3ki8xe7T"
   },
   "source": []
  },
  {
   "cell_type": "markdown",
   "metadata": {
    "id": "zj5534cv_Zct"
   },
   "source": [
    "Приведите названия в соответствие с хорошим стилем:\n",
    "* несколько слов в названии запишите в «змеином_регистре»,\n",
    "* все символы сделайте строчными,\n",
    "* устраните пробелы.\n",
    "\n",
    "Для этого переименуйте колонки так:\n",
    "* `'  userID'` → `'user_id'`;\n",
    "* `'Track'` → `'track'`;\n",
    "* `'  City  '` → `'city'`;\n",
    "* `'Day'` → `'day'`."
   ]
  },
  {
   "cell_type": "code",
   "execution_count": 6,
   "metadata": {
    "id": "ISlFqs5y_Zct"
   },
   "outputs": [],
   "source": [
    "df = df.rename(columns={'  userID': 'user_id', 'Track': 'track','  City  ': 'city', 'Day': 'day'})"
   ]
  },
  {
   "cell_type": "markdown",
   "metadata": {
    "id": "1dqbh00J_Zct"
   },
   "source": [
    "Проверьте результат. Для этого ещё раз выведите на экран названия столбцов:"
   ]
  },
  {
   "cell_type": "code",
   "execution_count": 7,
   "metadata": {
    "id": "d4NOAmTW_Zct"
   },
   "outputs": [
    {
     "data": {
      "text/plain": [
       "Index(['user_id', 'track', 'artist', 'genre', 'city', 'time', 'day'], dtype='object')"
      ]
     },
     "execution_count": 7,
     "metadata": {},
     "output_type": "execute_result"
    }
   ],
   "source": [
    "df.columns"
   ]
  },
  {
   "cell_type": "markdown",
   "metadata": {
    "id": "5ISfbcfY_Zct"
   },
   "source": [
    "### Пропуски значений\n",
    "Сначала посчитайте, сколько в таблице пропущенных значений. Для этого достаточно двух методов `pandas`:"
   ]
  },
  {
   "cell_type": "code",
   "execution_count": 8,
   "metadata": {
    "id": "RskX29qr_Zct"
   },
   "outputs": [
    {
     "data": {
      "text/plain": [
       "user_id       0\n",
       "track      1231\n",
       "artist     7203\n",
       "genre      1198\n",
       "city          0\n",
       "time          0\n",
       "day           0\n",
       "dtype: int64"
      ]
     },
     "execution_count": 8,
     "metadata": {},
     "output_type": "execute_result"
    }
   ],
   "source": [
    "df.isna().sum()"
   ]
  },
  {
   "cell_type": "markdown",
   "metadata": {
    "id": "qubhgnlO_Zct"
   },
   "source": [
    "Не все пропущенные значения влияют на исследование. Так в `track` и `artist` пропуски не важны для вашей работы. Достаточно заменить их явными обозначениями.\n",
    "\n",
    "Но пропуски в `genre` могут помешать сравнению музыкальных вкусов в Москве и Санкт-Петербурге. На практике было бы правильно установить причину пропусков и восстановить данные. Такой возможности нет в учебном проекте. Придётся:\n",
    "* заполнить и эти пропуски явными обозначениями,\n",
    "* оценить, насколько они повредят расчётам. "
   ]
  },
  {
   "cell_type": "markdown",
   "metadata": {
    "id": "fSv2laPA_Zct"
   },
   "source": [
    "Замените пропущенные значения в столбцах `track`, `artist` и `genre` на строку `'unknown'`. Для этого создайте список `columns_to_replace`, переберите его элементы циклом `for` и для каждого столбца выполните замену пропущенных значений:"
   ]
  },
  {
   "cell_type": "code",
   "execution_count": 9,
   "metadata": {
    "id": "KplB5qWs_Zct"
   },
   "outputs": [],
   "source": [
    "columns_to_replace = ['track', 'artist', 'genre']\n",
    "for column in columns_to_replace:\n",
    "    df[column] = df[column].fillna('unknown')"
   ]
  },
  {
   "cell_type": "markdown",
   "metadata": {
    "id": "Ilsm-MZo_Zct"
   },
   "source": [
    "Убедитесь, что в таблице не осталось пропусков. Для этого ещё раз посчитайте пропущенные значения."
   ]
  },
  {
   "cell_type": "code",
   "execution_count": 10,
   "metadata": {
    "id": "Tq4nYRX4_Zct"
   },
   "outputs": [
    {
     "data": {
      "text/plain": [
       "user_id    0\n",
       "track      0\n",
       "artist     0\n",
       "genre      0\n",
       "city       0\n",
       "time       0\n",
       "day        0\n",
       "dtype: int64"
      ]
     },
     "execution_count": 10,
     "metadata": {},
     "output_type": "execute_result"
    }
   ],
   "source": [
    "df.isna().sum()"
   ]
  },
  {
   "cell_type": "markdown",
   "metadata": {
    "id": "BWKRtBJ3_Zct"
   },
   "source": [
    "### Дубликаты\n",
    "Посчитайте явные дубликаты в таблице одной командой:"
   ]
  },
  {
   "cell_type": "code",
   "execution_count": 11,
   "metadata": {
    "id": "36eES_S0_Zct"
   },
   "outputs": [
    {
     "data": {
      "text/plain": [
       "3826"
      ]
     },
     "execution_count": 11,
     "metadata": {},
     "output_type": "execute_result"
    }
   ],
   "source": [
    "df.duplicated().sum()"
   ]
  },
  {
   "cell_type": "markdown",
   "metadata": {
    "id": "Ot25h6XR_Zct"
   },
   "source": [
    "Вызовите специальный метод `pandas`, чтобы удалить явные дубликаты:"
   ]
  },
  {
   "cell_type": "code",
   "execution_count": 12,
   "metadata": {
    "id": "exFHq6tt_Zct"
   },
   "outputs": [],
   "source": [
    "df = df.drop_duplicates().reset_index(drop=True) "
   ]
  },
  {
   "cell_type": "markdown",
   "metadata": {
    "id": "Im2YwBEG_Zct"
   },
   "source": [
    "Ещё раз посчитайте явные дубликаты в таблице — убедитесь, что полностью от них избавились:"
   ]
  },
  {
   "cell_type": "code",
   "execution_count": 13,
   "metadata": {
    "id": "-8PuNWQ0_Zct"
   },
   "outputs": [
    {
     "data": {
      "text/plain": [
       "0"
      ]
     },
     "execution_count": 13,
     "metadata": {},
     "output_type": "execute_result"
    }
   ],
   "source": [
    "df.duplicated().sum()"
   ]
  },
  {
   "cell_type": "markdown",
   "metadata": {
    "id": "QlFBsxAr_Zct"
   },
   "source": [
    "Теперь избавьтесь от неявных дубликатов в колонке `genre`. Например, название одного и того же жанра может быть записано немного по-разному. Такие ошибки тоже повлияют на результат исследования."
   ]
  },
  {
   "cell_type": "markdown",
   "metadata": {
    "id": "eSjWwsOh_Zct"
   },
   "source": [
    "Выведите на экран список уникальных названий жанров, отсортированный в алфавитном порядке. Для этого:\n",
    "* извлеките нужный столбец датафрейма, \n",
    "* примените к нему метод сортировки,\n",
    "* для отсортированного столбца вызовите метод, который вернёт уникальные значения из столбца."
   ]
  },
  {
   "cell_type": "code",
   "execution_count": 14,
   "metadata": {
    "id": "JIUcqzZN_Zct"
   },
   "outputs": [
    {
     "data": {
      "text/plain": [
       "array(['acid', 'acoustic', 'action', 'adult', 'africa', 'afrikaans',\n",
       "       'alternative', 'alternativepunk', 'ambient', 'americana',\n",
       "       'animated', 'anime', 'arabesk', 'arabic', 'arena',\n",
       "       'argentinetango', 'art', 'audiobook', 'author', 'avantgarde',\n",
       "       'axé', 'baile', 'balkan', 'beats', 'bigroom', 'black', 'bluegrass',\n",
       "       'blues', 'bollywood', 'bossa', 'brazilian', 'breakbeat', 'breaks',\n",
       "       'broadway', 'cantautori', 'cantopop', 'canzone', 'caribbean',\n",
       "       'caucasian', 'celtic', 'chamber', 'chanson', 'children', 'chill',\n",
       "       'chinese', 'choral', 'christian', 'christmas', 'classical',\n",
       "       'classicmetal', 'club', 'colombian', 'comedy', 'conjazz',\n",
       "       'contemporary', 'country', 'cuban', 'dance', 'dancehall',\n",
       "       'dancepop', 'dark', 'death', 'deep', 'deutschrock', 'deutschspr',\n",
       "       'dirty', 'disco', 'dnb', 'documentary', 'downbeat', 'downtempo',\n",
       "       'drum', 'dub', 'dubstep', 'eastern', 'easy', 'electronic',\n",
       "       'electropop', 'emo', 'entehno', 'epicmetal', 'estrada', 'ethnic',\n",
       "       'eurofolk', 'european', 'experimental', 'extrememetal', 'fado',\n",
       "       'fairytail', 'film', 'fitness', 'flamenco', 'folk', 'folklore',\n",
       "       'folkmetal', 'folkrock', 'folktronica', 'forró', 'frankreich',\n",
       "       'französisch', 'french', 'funk', 'future', 'gangsta', 'garage',\n",
       "       'german', 'ghazal', 'gitarre', 'glitch', 'gospel', 'gothic',\n",
       "       'grime', 'grunge', 'gypsy', 'handsup', \"hard'n'heavy\", 'hardcore',\n",
       "       'hardstyle', 'hardtechno', 'hip', 'hip-hop', 'hiphop',\n",
       "       'historisch', 'holiday', 'hop', 'horror', 'house', 'hymn', 'idm',\n",
       "       'independent', 'indian', 'indie', 'indipop', 'industrial',\n",
       "       'inspirational', 'instrumental', 'international', 'irish', 'jam',\n",
       "       'japanese', 'jazz', 'jewish', 'jpop', 'jungle', 'k-pop',\n",
       "       'karadeniz', 'karaoke', 'kayokyoku', 'korean', 'laiko', 'latin',\n",
       "       'latino', 'leftfield', 'local', 'lounge', 'loungeelectronic',\n",
       "       'lovers', 'malaysian', 'mandopop', 'marschmusik', 'meditative',\n",
       "       'mediterranean', 'melodic', 'metal', 'metalcore', 'mexican',\n",
       "       'middle', 'minimal', 'miscellaneous', 'modern', 'mood', 'mpb',\n",
       "       'muslim', 'native', 'neoklassik', 'neue', 'new', 'newage',\n",
       "       'newwave', 'nu', 'nujazz', 'numetal', 'oceania', 'old', 'opera',\n",
       "       'orchestral', 'other', 'piano', 'podcasts', 'pop', 'popdance',\n",
       "       'popelectronic', 'popeurodance', 'poprussian', 'post',\n",
       "       'posthardcore', 'postrock', 'power', 'progmetal', 'progressive',\n",
       "       'psychedelic', 'punjabi', 'punk', 'quebecois', 'ragga', 'ram',\n",
       "       'rancheras', 'rap', 'rave', 'reggae', 'reggaeton', 'regional',\n",
       "       'relax', 'religious', 'retro', 'rhythm', 'rnb', 'rnr', 'rock',\n",
       "       'rockabilly', 'rockalternative', 'rockindie', 'rockother',\n",
       "       'romance', 'roots', 'ruspop', 'rusrap', 'rusrock', 'russian',\n",
       "       'salsa', 'samba', 'scenic', 'schlager', 'self', 'sertanejo',\n",
       "       'shanson', 'shoegazing', 'showtunes', 'singer', 'ska', 'skarock',\n",
       "       'slow', 'smooth', 'soft', 'soul', 'soulful', 'sound', 'soundtrack',\n",
       "       'southern', 'specialty', 'speech', 'spiritual', 'sport',\n",
       "       'stonerrock', 'surf', 'swing', 'synthpop', 'synthrock',\n",
       "       'sängerportrait', 'tango', 'tanzorchester', 'taraftar', 'tatar',\n",
       "       'tech', 'techno', 'teen', 'thrash', 'top', 'traditional',\n",
       "       'tradjazz', 'trance', 'tribal', 'trip', 'triphop', 'tropical',\n",
       "       'türk', 'türkçe', 'ukrrock', 'unknown', 'urban', 'uzbek',\n",
       "       'variété', 'vi', 'videogame', 'vocal', 'western', 'world',\n",
       "       'worldbeat', 'ïîï', 'электроника'], dtype=object)"
      ]
     },
     "execution_count": 14,
     "metadata": {},
     "output_type": "execute_result"
    }
   ],
   "source": [
    "df['genre'].sort_values().unique()\n"
   ]
  },
  {
   "cell_type": "markdown",
   "metadata": {
    "id": "qej-Qmuo_Zct"
   },
   "source": [
    "Просмотрите список и найдите неявные дубликаты названия `hiphop`. Это могут быть названия с ошибками или альтернативные названия того же жанра.\n",
    "\n",
    "Вы увидите следующие неявные дубликаты:\n",
    "* *hip*,\n",
    "* *hop*,\n",
    "* *hip-hop*.\n",
    "\n",
    "Чтобы очистить от них таблицу, напишите функцию `replace_wrong_genres()` с двумя параметрами: \n",
    "* `wrong_genres` — список дубликатов,\n",
    "* `correct_genre` — строка с правильным значением.\n",
    "\n",
    "Функция должна исправить колонку `genre` в таблице `df`: заменить каждое значение из списка `wrong_genres` на значение из `correct_genre`."
   ]
  },
  {
   "cell_type": "code",
   "execution_count": 15,
   "metadata": {
    "id": "ErNDkmns_Zct"
   },
   "outputs": [],
   "source": [
    "def replace_wrong_genres(wrong_genres, correct_genre):\n",
    "    for wrong_genre in wrong_genres:\n",
    "        df['genre'] = df['genre'].replace(wrong_genre, correct_genre)"
   ]
  },
  {
   "cell_type": "markdown",
   "metadata": {
    "id": "aDoBJxbA_Zct"
   },
   "source": [
    "Вызовите `replace_wrong_genres()` и передайте ей такие аргументы, чтобы она устранила неявные дубликаты: вместо `hip`, `hop` и `hip-hop` в таблице должно быть значение `hiphop`:"
   ]
  },
  {
   "cell_type": "code",
   "execution_count": 16,
   "metadata": {
    "id": "YN5i2hpmSo09"
   },
   "outputs": [],
   "source": [
    "wrong_genres = ['hip', 'hop', 'hip-hop']\n",
    "correct_genre = 'hiphop'\n",
    "replace_wrong_genres(wrong_genres, correct_genre)"
   ]
  },
  {
   "cell_type": "markdown",
   "metadata": {
    "id": "zQKF16_RG15m"
   },
   "source": [
    "Проверьте, что заменили неправильные названия:\n",
    "\n",
    "*   hip\n",
    "*   hop\n",
    "*   hip-hop\n",
    "\n",
    "Выведите отсортированный список уникальных значений столбца `genre`:"
   ]
  },
  {
   "cell_type": "code",
   "execution_count": 17,
   "metadata": {
    "id": "wvixALnFG15m"
   },
   "outputs": [
    {
     "data": {
      "text/plain": [
       "array(['acid', 'acoustic', 'action', 'adult', 'africa', 'afrikaans',\n",
       "       'alternative', 'alternativepunk', 'ambient', 'americana',\n",
       "       'animated', 'anime', 'arabesk', 'arabic', 'arena',\n",
       "       'argentinetango', 'art', 'audiobook', 'author', 'avantgarde',\n",
       "       'axé', 'baile', 'balkan', 'beats', 'bigroom', 'black', 'bluegrass',\n",
       "       'blues', 'bollywood', 'bossa', 'brazilian', 'breakbeat', 'breaks',\n",
       "       'broadway', 'cantautori', 'cantopop', 'canzone', 'caribbean',\n",
       "       'caucasian', 'celtic', 'chamber', 'chanson', 'children', 'chill',\n",
       "       'chinese', 'choral', 'christian', 'christmas', 'classical',\n",
       "       'classicmetal', 'club', 'colombian', 'comedy', 'conjazz',\n",
       "       'contemporary', 'country', 'cuban', 'dance', 'dancehall',\n",
       "       'dancepop', 'dark', 'death', 'deep', 'deutschrock', 'deutschspr',\n",
       "       'dirty', 'disco', 'dnb', 'documentary', 'downbeat', 'downtempo',\n",
       "       'drum', 'dub', 'dubstep', 'eastern', 'easy', 'electronic',\n",
       "       'electropop', 'emo', 'entehno', 'epicmetal', 'estrada', 'ethnic',\n",
       "       'eurofolk', 'european', 'experimental', 'extrememetal', 'fado',\n",
       "       'fairytail', 'film', 'fitness', 'flamenco', 'folk', 'folklore',\n",
       "       'folkmetal', 'folkrock', 'folktronica', 'forró', 'frankreich',\n",
       "       'französisch', 'french', 'funk', 'future', 'gangsta', 'garage',\n",
       "       'german', 'ghazal', 'gitarre', 'glitch', 'gospel', 'gothic',\n",
       "       'grime', 'grunge', 'gypsy', 'handsup', \"hard'n'heavy\", 'hardcore',\n",
       "       'hardstyle', 'hardtechno', 'hiphop', 'historisch', 'holiday',\n",
       "       'horror', 'house', 'hymn', 'idm', 'independent', 'indian', 'indie',\n",
       "       'indipop', 'industrial', 'inspirational', 'instrumental',\n",
       "       'international', 'irish', 'jam', 'japanese', 'jazz', 'jewish',\n",
       "       'jpop', 'jungle', 'k-pop', 'karadeniz', 'karaoke', 'kayokyoku',\n",
       "       'korean', 'laiko', 'latin', 'latino', 'leftfield', 'local',\n",
       "       'lounge', 'loungeelectronic', 'lovers', 'malaysian', 'mandopop',\n",
       "       'marschmusik', 'meditative', 'mediterranean', 'melodic', 'metal',\n",
       "       'metalcore', 'mexican', 'middle', 'minimal', 'miscellaneous',\n",
       "       'modern', 'mood', 'mpb', 'muslim', 'native', 'neoklassik', 'neue',\n",
       "       'new', 'newage', 'newwave', 'nu', 'nujazz', 'numetal', 'oceania',\n",
       "       'old', 'opera', 'orchestral', 'other', 'piano', 'podcasts', 'pop',\n",
       "       'popdance', 'popelectronic', 'popeurodance', 'poprussian', 'post',\n",
       "       'posthardcore', 'postrock', 'power', 'progmetal', 'progressive',\n",
       "       'psychedelic', 'punjabi', 'punk', 'quebecois', 'ragga', 'ram',\n",
       "       'rancheras', 'rap', 'rave', 'reggae', 'reggaeton', 'regional',\n",
       "       'relax', 'religious', 'retro', 'rhythm', 'rnb', 'rnr', 'rock',\n",
       "       'rockabilly', 'rockalternative', 'rockindie', 'rockother',\n",
       "       'romance', 'roots', 'ruspop', 'rusrap', 'rusrock', 'russian',\n",
       "       'salsa', 'samba', 'scenic', 'schlager', 'self', 'sertanejo',\n",
       "       'shanson', 'shoegazing', 'showtunes', 'singer', 'ska', 'skarock',\n",
       "       'slow', 'smooth', 'soft', 'soul', 'soulful', 'sound', 'soundtrack',\n",
       "       'southern', 'specialty', 'speech', 'spiritual', 'sport',\n",
       "       'stonerrock', 'surf', 'swing', 'synthpop', 'synthrock',\n",
       "       'sängerportrait', 'tango', 'tanzorchester', 'taraftar', 'tatar',\n",
       "       'tech', 'techno', 'teen', 'thrash', 'top', 'traditional',\n",
       "       'tradjazz', 'trance', 'tribal', 'trip', 'triphop', 'tropical',\n",
       "       'türk', 'türkçe', 'ukrrock', 'unknown', 'urban', 'uzbek',\n",
       "       'variété', 'vi', 'videogame', 'vocal', 'western', 'world',\n",
       "       'worldbeat', 'ïîï', 'электроника'], dtype=object)"
      ]
     },
     "execution_count": 17,
     "metadata": {},
     "output_type": "execute_result"
    }
   ],
   "source": [
    "df['genre'].sort_values().unique()"
   ]
  },
  {
   "cell_type": "markdown",
   "metadata": {
    "id": "jz6a9-7HQUDd"
   },
   "source": [
    "**Выводы**\n",
    "\n",
    "Предобработка обнаружила три проблемы в данных:\n",
    "\n",
    "- нарушения в стиле заголовков,\n",
    "- пропущенные значения,\n",
    "- дубликаты — явные и неявные.\n",
    "\n",
    "Вы исправили заголовки, чтобы упростить работу с таблицей. Без дубликатов исследование станет более точным.\n",
    "\n",
    "Пропущенные значения вы заменили на `'unknown'`. Ещё предстоит увидеть, не повредят ли исследованию пропуски в колонке `genre`.\n",
    "\n",
    "Теперь можно перейти к проверке гипотез. "
   ]
  },
  {
   "cell_type": "markdown",
   "metadata": {
    "id": "WttZHXH0SqKk"
   },
   "source": [
    "## Проверка гипотез"
   ]
  },
  {
   "cell_type": "markdown",
   "metadata": {
    "id": "Im936VVi_Zcu"
   },
   "source": [
    "### Сравнение поведения пользователей двух столиц"
   ]
  },
  {
   "cell_type": "markdown",
   "metadata": {
    "id": "nwt_MuaL_Zcu"
   },
   "source": [
    "Первая гипотеза утверждает, что пользователи по-разному слушают музыку в Москве и Санкт-Петербурге. Проверьте это предположение по данным о трёх днях недели — понедельнике, среде и пятнице. Для этого:\n",
    "\n",
    "* Разделите пользователей Москвы и Санкт-Петербурга\n",
    "* Сравните, сколько треков послушала каждая группа пользователей в понедельник, среду и пятницу.\n"
   ]
  },
  {
   "cell_type": "markdown",
   "metadata": {
    "id": "8Dw_YMmT_Zcu"
   },
   "source": [
    "Для тренировки сначала выполните каждый из расчётов по отдельности. \n",
    "\n",
    "Оцените активность пользователей в каждом городе. Сгруппируйте данные по городу и посчитайте прослушивания в каждой группе.\n",
    "\n"
   ]
  },
  {
   "cell_type": "code",
   "execution_count": 18,
   "metadata": {
    "id": "0_Qs96oh_Zcu"
   },
   "outputs": [
    {
     "data": {
      "text/plain": [
       "city\n",
       "Moscow              42741\n",
       "Saint-Petersburg    18512\n",
       "Name: user_id, dtype: int64"
      ]
     },
     "execution_count": 18,
     "metadata": {},
     "output_type": "execute_result"
    }
   ],
   "source": [
    "df.groupby('city')['user_id'].count()"
   ]
  },
  {
   "cell_type": "markdown",
   "metadata": {
    "id": "dzli3w8o_Zcu"
   },
   "source": [
    "В Москве прослушиваний больше, чем в Петербурге. Из этого не следует, что московские пользователи чаще слушают музыку. Просто самих пользователей в Москве больше.\n",
    "\n",
    "Теперь сгруппируйте данные по дню недели и подсчитайте прослушивания в понедельник, среду и пятницу. Учтите, что в данных есть информация только о прослушиваниях только за эти дни.\n"
   ]
  },
  {
   "cell_type": "code",
   "execution_count": 19,
   "metadata": {
    "id": "uZMKjiJz_Zcu"
   },
   "outputs": [
    {
     "data": {
      "text/plain": [
       "day\n",
       "Friday       21840\n",
       "Monday       21354\n",
       "Wednesday    18059\n",
       "Name: user_id, dtype: int64"
      ]
     },
     "execution_count": 19,
     "metadata": {},
     "output_type": "execute_result"
    }
   ],
   "source": [
    "df.groupby('day')['user_id'].count()"
   ]
  },
  {
   "cell_type": "markdown",
   "metadata": {
    "id": "cC2tNrlL_Zcu"
   },
   "source": [
    "В среднем пользователи из двух городов менее активны по средам. Но картина может измениться, если рассмотреть каждый город в отдельности."
   ]
  },
  {
   "cell_type": "markdown",
   "metadata": {
    "id": "POzs8bGa_Zcu"
   },
   "source": [
    "Вы видели, как работает группировка по городу и по дням недели. Теперь напишите функцию, которая объединит два эти расчёта.\n",
    "\n",
    "Создайте функцию `number_tracks()`, которая посчитает прослушивания для заданного дня и города. Ей понадобятся два параметра:\n",
    "* день недели,\n",
    "* название города.\n",
    "\n",
    "В функции сохраните в переменную строки исходной таблицы, у которых значение:\n",
    "  * в колонке `day` равно параметру `day`,\n",
    "  * в колонке `city` равно параметру `city`.\n",
    "\n",
    "Для этого примените последовательную фильтрацию с логической индексацией.\n",
    "\n",
    "Затем посчитайте значения в столбце `user_id` получившейся таблицы. Результат сохраните в новую переменную. Верните эту переменную из функции."
   ]
  },
  {
   "cell_type": "code",
   "execution_count": 20,
   "metadata": {
    "id": "Nz3GdQB1_Zcu"
   },
   "outputs": [],
   "source": [
    "def number_tracks(day, city):\n",
    "    track_list = df[df['day'] == day]\n",
    "    track_list = track_list[track_list['city'] == city]\n",
    "    track_list_count = track_list['user_id'].count()\n",
    "    return track_list_count\n",
    "        \n",
    "# В переменной track_list сохраняются те строки таблицы df, для которых \n",
    "# значение в столбце 'day' равно параметру day и одновременно значение\n",
    "# в столбце 'city' равно параметру city (используйте последовательную фильтрацию\n",
    "# с помощью логической индексации).\n",
    "# В переменной track_list_count сохраняется число значений столбца 'user_id',\n",
    "# рассчитанное методом count() для таблицы track_list.\n",
    "# Функция возвращает число - значение track_list_count.\n",
    "\n",
    "# Функция для подсчёта прослушиваний для конкретного города и дня.\n",
    "# С помощью последовательной фильтрации с логической индексацией она \n",
    "# сначала получит из исходной таблицы строки с нужным днём,\n",
    "# затем из результата отфильтрует строки с нужным городом,\n",
    "# методом count() посчитает количество значений в колонке user_id. \n",
    "# Это количество функция вернёт в качестве результата"
   ]
  },
  {
   "cell_type": "markdown",
   "metadata": {
    "id": "ytf7xFrFJQ2r"
   },
   "source": [
    "Вызовите `number_tracks()` шесть раз, меняя значение параметров — так, чтобы получить данные для каждого города в каждый из трёх дней."
   ]
  },
  {
   "cell_type": "code",
   "execution_count": 21,
   "metadata": {
    "id": "rJcRATNQ_Zcu"
   },
   "outputs": [
    {
     "data": {
      "text/plain": [
       "15740"
      ]
     },
     "execution_count": 21,
     "metadata": {},
     "output_type": "execute_result"
    }
   ],
   "source": [
    "number_tracks('Monday', 'Moscow') # количество прослушиваний в Москве по понедельникам"
   ]
  },
  {
   "cell_type": "code",
   "execution_count": 22,
   "metadata": {
    "id": "hq_ncZ5T_Zcu"
   },
   "outputs": [
    {
     "data": {
      "text/plain": [
       "5614"
      ]
     },
     "execution_count": 22,
     "metadata": {},
     "output_type": "execute_result"
    }
   ],
   "source": [
    "number_tracks('Monday', 'Saint-Petersburg') # количество прослушиваний в Санкт-Петербурге по понедельникам"
   ]
  },
  {
   "cell_type": "code",
   "execution_count": 23,
   "metadata": {
    "id": "_NTy2VPU_Zcu"
   },
   "outputs": [
    {
     "data": {
      "text/plain": [
       "11056"
      ]
     },
     "execution_count": 23,
     "metadata": {},
     "output_type": "execute_result"
    }
   ],
   "source": [
    "number_tracks('Wednesday', 'Moscow') # количество прослушиваний в Москве по средам"
   ]
  },
  {
   "cell_type": "code",
   "execution_count": 24,
   "metadata": {
    "id": "j2y3TAwo_Zcu"
   },
   "outputs": [
    {
     "data": {
      "text/plain": [
       "7003"
      ]
     },
     "execution_count": 24,
     "metadata": {},
     "output_type": "execute_result"
    }
   ],
   "source": [
    "number_tracks('Wednesday', 'Saint-Petersburg') # количество прослушиваний в Санкт-Петербурге по средам"
   ]
  },
  {
   "cell_type": "code",
   "execution_count": 25,
   "metadata": {
    "id": "vYDw5u_K_Zcu"
   },
   "outputs": [
    {
     "data": {
      "text/plain": [
       "15945"
      ]
     },
     "execution_count": 25,
     "metadata": {},
     "output_type": "execute_result"
    }
   ],
   "source": [
    "number_tracks('Friday', 'Moscow') # количество прослушиваний в Москве по пятницам"
   ]
  },
  {
   "cell_type": "code",
   "execution_count": 26,
   "metadata": {
    "id": "8_yzFtW3_Zcu"
   },
   "outputs": [
    {
     "data": {
      "text/plain": [
       "5895"
      ]
     },
     "execution_count": 26,
     "metadata": {},
     "output_type": "execute_result"
    }
   ],
   "source": [
    "number_tracks('Friday', 'Saint-Petersburg') # количество прослушиваний в Санкт-Петербурге по пятницам"
   ]
  },
  {
   "cell_type": "markdown",
   "metadata": {
    "id": "7QXffbO-_Zcu"
   },
   "source": [
    "Создайте c помощью конструктора `pd.DataFrame` таблицу, где\n",
    "* названия колонок — `['city', 'monday', 'wednesday', 'friday']`;\n",
    "* данные — результаты, которые вы получили с помощью `number_tracks`."
   ]
  },
  {
   "cell_type": "code",
   "execution_count": 27,
   "metadata": {
    "id": "APAcLpOr_Zcu"
   },
   "outputs": [
    {
     "data": {
      "text/html": [
       "<div>\n",
       "<style scoped>\n",
       "    .dataframe tbody tr th:only-of-type {\n",
       "        vertical-align: middle;\n",
       "    }\n",
       "\n",
       "    .dataframe tbody tr th {\n",
       "        vertical-align: top;\n",
       "    }\n",
       "\n",
       "    .dataframe thead th {\n",
       "        text-align: right;\n",
       "    }\n",
       "</style>\n",
       "<table border=\"1\" class=\"dataframe\">\n",
       "  <thead>\n",
       "    <tr style=\"text-align: right;\">\n",
       "      <th></th>\n",
       "      <th>monday</th>\n",
       "      <th>wednesday</th>\n",
       "      <th>friday</th>\n",
       "    </tr>\n",
       "    <tr>\n",
       "      <th>city</th>\n",
       "      <th></th>\n",
       "      <th></th>\n",
       "      <th></th>\n",
       "    </tr>\n",
       "  </thead>\n",
       "  <tbody>\n",
       "    <tr>\n",
       "      <td>Moscow</td>\n",
       "      <td>15740</td>\n",
       "      <td>11056</td>\n",
       "      <td>15945</td>\n",
       "    </tr>\n",
       "    <tr>\n",
       "      <td>Saint-Petersburg</td>\n",
       "      <td>5614</td>\n",
       "      <td>7003</td>\n",
       "      <td>5895</td>\n",
       "    </tr>\n",
       "  </tbody>\n",
       "</table>\n",
       "</div>"
      ],
      "text/plain": [
       "                  monday  wednesday  friday\n",
       "city                                       \n",
       "Moscow             15740      11056   15945\n",
       "Saint-Petersburg    5614       7003    5895"
      ]
     },
     "execution_count": 27,
     "metadata": {},
     "output_type": "execute_result"
    }
   ],
   "source": [
    "columns = ['city', 'monday', 'wednesday', 'friday']\n",
    "data = [['Moscow', 15740, 11056, 15945],\n",
    "        ['Saint-Petersburg', 5614, 7003, 5895]]\n",
    "city_listeners_by_day = pd.DataFrame(data = data, columns = columns).set_index('city')\n",
    "\n",
    "city_listeners_by_day"
   ]
  },
  {
   "cell_type": "markdown",
   "metadata": {
    "id": "-EgPIHYu_Zcu"
   },
   "source": [
    "**Выводы**\n",
    "\n",
    "Данные показывают разницу поведения пользователей:\n",
    "\n",
    "- В Москве пик прослушиваний приходится на понедельник и пятницу, а в среду заметен спад.\n",
    "- В Петербурге, наоборот, больше слушают музыку по средам. Активность в понедельник и пятницу здесь почти в равной мере уступает среде.\n",
    "\n",
    "Значит, данные говорят в пользу первой гипотезы."
   ]
  },
  {
   "cell_type": "markdown",
   "metadata": {
    "id": "atZAxtq4_Zcu"
   },
   "source": [
    "### Музыка в начале и в конце недели"
   ]
  },
  {
   "cell_type": "markdown",
   "metadata": {
    "id": "eXrQqXFH_Zcu"
   },
   "source": [
    "Согласно второй гипотезе, утром в понедельник в Москве преобладают одни жанры, а в Петербурге — другие. Так же и вечером пятницы преобладают разные жанры — в зависимости от города."
   ]
  },
  {
   "cell_type": "markdown",
   "metadata": {
    "id": "S8UcW6Hw_Zcu"
   },
   "source": [
    "Сохраните таблицы с данными в две переменные:\n",
    "* по Москве — в `moscow_general`;\n",
    "* по Санкт-Петербургу — в `spb_general`."
   ]
  },
  {
   "cell_type": "code",
   "execution_count": 28,
   "metadata": {
    "id": "qeaFfM_P_Zcu"
   },
   "outputs": [],
   "source": [
    "moscow_general = df[df['city'] == 'Moscow']\n",
    "\n",
    "# получение таблицы moscow_general из тех строк таблицы df, \n",
    "# для которых значение в столбце 'city' равно 'Moscow'"
   ]
  },
  {
   "cell_type": "code",
   "execution_count": 29,
   "metadata": {
    "id": "ORaVRKto_Zcu"
   },
   "outputs": [],
   "source": [
    "spb_general = df[df['city'] == 'Saint-Petersburg']\n",
    "\n",
    "# получение таблицы spb_general из тех строк таблицы df,\n",
    "# для которых значение в столбце 'city' равно 'Saint-Petersburg'"
   ]
  },
  {
   "cell_type": "markdown",
   "metadata": {
    "id": "MEJV-CX2_Zcu"
   },
   "source": [
    "Создайте функцию `genre_weekday()` с четырьмя параметрами:\n",
    "* таблица (датафрейм) с данными,\n",
    "* день недели,\n",
    "* начальная временная метка в формате 'hh:mm', \n",
    "* последняя временная метка в формате 'hh:mm'.\n",
    "\n",
    "Функция должна вернуть информацию о топ-10 жанров тех треков, которые прослушивали в указанный день, в промежутке между двумя отметками времени."
   ]
  },
  {
   "cell_type": "code",
   "execution_count": 30,
   "metadata": {
    "id": "laJT9BYl_Zcu"
   },
   "outputs": [],
   "source": [
    "def genre_weekday(table, day, time1, time2):\n",
    "    genre_df = table[table['day'] == day]\n",
    "    genre_df = genre_df[(genre_df['time'] > time1) & (genre_df['time'] < time2)]\n",
    "    genre_df_count = genre_df.groupby('genre')['genre'].count()\n",
    "    genre_df_sorted = genre_df_count.sort_values(ascending=False)\n",
    "    return genre_df_sorted.head(10)\n",
    "\n",
    "\n",
    "# Объявление функции genre_weekday() с параметрами table, day, time1, time2,\n",
    "# которая возвращает информацию о самых популярных жанрах в указанный день в\n",
    "# заданное время:\n",
    "# 1) в переменную genre_df сохраняются те строки переданного датафрейма table, для\n",
    "#    которых одновременно:\n",
    "#    - значение в столбце day равно значению аргумента day\n",
    "#    - значение в столбце time больше значения аргумента time1\n",
    "#    - значение в столбце time меньше значения аргумента time2\n",
    "#    Используйте последовательную фильтрацию с помощью логической индексации.\n",
    "# 2) сгруппировать датафрейм genre_df по столбцу genre, взять один из его\n",
    "#    столбцов и посчитать методом count() количество записей для каждого из\n",
    "#    присутствующих жанров, получившийся Series записать в переменную\n",
    "#    genre_df_count\n",
    "# 3) отсортировать genre_df_count по убыванию встречаемости и сохранить\n",
    "#    в переменную genre_df_sorted\n",
    "# 4) вернуть Series из 10 первых значений genre_df_sorted, это будут топ-10\n",
    "#    популярных жанров (в указанный день, в заданное время)"
   ]
  },
  {
   "cell_type": "markdown",
   "metadata": {
    "id": "la2s2_PF_Zcu"
   },
   "source": [
    "Cравните результаты функции `genre_weekday()` для Москвы и Санкт-Петербурга в понедельник утром (с 7:00 до 11:00) и в пятницу вечером (с 17:00 до 23:00):"
   ]
  },
  {
   "cell_type": "code",
   "execution_count": 31,
   "metadata": {
    "id": "yz7itPUQ_Zcu"
   },
   "outputs": [
    {
     "data": {
      "text/plain": [
       "genre\n",
       "pop            781\n",
       "dance          549\n",
       "electronic     480\n",
       "rock           474\n",
       "hiphop         286\n",
       "ruspop         186\n",
       "world          181\n",
       "rusrap         175\n",
       "alternative    164\n",
       "unknown        161\n",
       "Name: genre, dtype: int64"
      ]
     },
     "execution_count": 31,
     "metadata": {},
     "output_type": "execute_result"
    }
   ],
   "source": [
    "genre_weekday(moscow_general, 'Monday', '07:00', '11:00')\n",
    "\n",
    "# вызов функции для утра понедельника в Москве (вместо df — таблица moscow_general)\n",
    "# объекты, хранящие время, являются строками и сравниваются как строки\n",
    "# пример вызова: genre_weekday(moscow_general, 'Monday', '07:00', '11:00')"
   ]
  },
  {
   "cell_type": "code",
   "execution_count": 32,
   "metadata": {
    "id": "kwUcHPdy_Zcu"
   },
   "outputs": [
    {
     "data": {
      "text/plain": [
       "genre\n",
       "pop            218\n",
       "dance          182\n",
       "rock           162\n",
       "electronic     147\n",
       "hiphop          80\n",
       "ruspop          64\n",
       "alternative     58\n",
       "rusrap          55\n",
       "jazz            44\n",
       "classical       40\n",
       "Name: genre, dtype: int64"
      ]
     },
     "execution_count": 32,
     "metadata": {},
     "output_type": "execute_result"
    }
   ],
   "source": [
    "genre_weekday(spb_general, 'Monday', '07:00', '11:00')\n",
    "\n",
    "# вызов функции для утра понедельника в Петербурге (вместо df — таблица spb_general)"
   ]
  },
  {
   "cell_type": "code",
   "execution_count": 33,
   "metadata": {
    "id": "EzXVRE1o_Zcu"
   },
   "outputs": [
    {
     "data": {
      "text/plain": [
       "genre\n",
       "pop            713\n",
       "rock           517\n",
       "dance          495\n",
       "electronic     482\n",
       "hiphop         273\n",
       "world          208\n",
       "ruspop         170\n",
       "alternative    163\n",
       "classical      163\n",
       "rusrap         142\n",
       "Name: genre, dtype: int64"
      ]
     },
     "execution_count": 33,
     "metadata": {},
     "output_type": "execute_result"
    }
   ],
   "source": [
    "genre_weekday(moscow_general, 'Friday', '17:00', '23:00')\n",
    "\n",
    "# вызов функции для вечера пятницы в Москве"
   ]
  },
  {
   "cell_type": "code",
   "execution_count": 34,
   "metadata": {
    "id": "JZaEKu5v_Zcu"
   },
   "outputs": [
    {
     "data": {
      "text/plain": [
       "genre\n",
       "pop            256\n",
       "rock           216\n",
       "electronic     216\n",
       "dance          210\n",
       "hiphop          97\n",
       "alternative     63\n",
       "jazz            61\n",
       "classical       60\n",
       "rusrap          59\n",
       "world           54\n",
       "Name: genre, dtype: int64"
      ]
     },
     "execution_count": 34,
     "metadata": {},
     "output_type": "execute_result"
    }
   ],
   "source": [
    "genre_weekday(spb_general, 'Friday', '17:00', '23:00')\n",
    "\n",
    "# вызов функции для вечера пятницы в Петербурге"
   ]
  },
  {
   "cell_type": "markdown",
   "metadata": {
    "id": "wrCe4MNX_Zcu"
   },
   "source": [
    "**Выводы**\n",
    "\n",
    "Если сравнить топ-10 жанров в понедельник утром, можно сделать такие выводы:\n",
    "\n",
    "1. В Москве и Петербурге слушают похожую музыку. Единственное отличие — в московский рейтинг вошёл жанр “world”, а в петербургский — джаз и классика.\n",
    "\n",
    "2. В Москве пропущенных значений оказалось так много, что значение `'unknown'` заняло десятое место среди самых популярных жанров. Значит, пропущенные значения занимают существенную долю в данных и угрожают достоверности исследования.\n",
    "\n",
    "Вечер пятницы не меняет эту картину. Некоторые жанры поднимаются немного выше, другие спускаются, но в целом топ-10 остаётся тем же самым.\n",
    "\n",
    "Таким образом, вторая гипотеза подтвердилась лишь частично:\n",
    "* Пользователи слушают похожую музыку в начале недели и в конце.\n",
    "* Разница между Москвой и Петербургом не слишком выражена. В Москве чаще слушают русскую популярную музыку, в Петербурге — джаз.\n",
    "\n",
    "Однако пропуски в данных ставят под сомнение этот результат. В Москве их так много, что рейтинг топ-10 мог бы выглядеть иначе, если бы не утерянные  данные о жанрах."
   ]
  },
  {
   "cell_type": "markdown",
   "metadata": {
    "id": "JolODAqr_Zcu"
   },
   "source": [
    "### Жанровые предпочтения в Москве и Петербурге\n",
    "\n",
    "Гипотеза: Петербург — столица рэпа, музыку этого жанра там слушают чаще, чем в Москве.  А Москва — город контрастов, в котором, тем не менее, преобладает поп-музыка."
   ]
  },
  {
   "cell_type": "markdown",
   "metadata": {
    "id": "DlegSvaT_Zcu"
   },
   "source": [
    "Сгруппируйте таблицу `moscow_general` по жанру и посчитайте прослушивания треков каждого жанра методом `count()`. Затем отсортируйте результат в порядке убывания и сохраните его в таблице `moscow_genres`."
   ]
  },
  {
   "cell_type": "code",
   "execution_count": 35,
   "metadata": {
    "id": "r19lIPke_Zcu"
   },
   "outputs": [],
   "source": [
    "moscow_genres = moscow_general.groupby('genre')['genre'].count().sort_values(ascending=False)\n",
    "\n",
    "# одной строкой: группировка таблицы moscow_general по столбцу 'genre', \n",
    "# подсчёт числа значений 'genre' в этой группировке методом count(), \n",
    "# сортировка получившегося Series в порядке убывания и сохранение в moscow_genres"
   ]
  },
  {
   "cell_type": "markdown",
   "metadata": {
    "id": "6kMuomxTiIr8"
   },
   "source": [
    "Выведите на экран первые десять строк `moscow_genres`:"
   ]
  },
  {
   "cell_type": "code",
   "execution_count": 36,
   "metadata": {
    "id": "WhCSooF8_Zcv"
   },
   "outputs": [
    {
     "data": {
      "text/plain": [
       "genre\n",
       "pop            5892\n",
       "dance          4435\n",
       "rock           3965\n",
       "electronic     3786\n",
       "hiphop         2096\n",
       "classical      1616\n",
       "world          1432\n",
       "alternative    1379\n",
       "ruspop         1372\n",
       "rusrap         1161\n",
       "Name: genre, dtype: int64"
      ]
     },
     "execution_count": 36,
     "metadata": {},
     "output_type": "execute_result"
    }
   ],
   "source": [
    "moscow_genres.head(10)\n",
    "\n",
    "# просмотр первых 10 строк moscow_genres"
   ]
  },
  {
   "cell_type": "markdown",
   "metadata": {
    "id": "cnPG2vnN_Zcv"
   },
   "source": [
    "Теперь повторите то же и для Петербурга.\n",
    "\n",
    "Сгруппируйте таблицу `spb_general` по жанру. Посчитайте прослушивания треков каждого жанра. Результат отсортируйте в порядке убывания и сохраните в таблице `spb_genres`:\n"
   ]
  },
  {
   "cell_type": "code",
   "execution_count": 37,
   "metadata": {
    "id": "gluLIpE7_Zcv"
   },
   "outputs": [],
   "source": [
    "spb_genres = spb_general.groupby('genre')['genre'].count().sort_values(ascending=False)\n",
    "\n",
    "# одной строкой: группировка таблицы spb_general по столбцу 'genre', \n",
    "# подсчёт числа значений 'genre' в этой группировке методом count(), \n",
    "# сортировка получившегося Series в порядке убывания и сохранение в spb_genres"
   ]
  },
  {
   "cell_type": "markdown",
   "metadata": {
    "id": "5Doha_ODgyQ8"
   },
   "source": [
    "Выведите на экран первые десять строк `spb_genres`:"
   ]
  },
  {
   "cell_type": "code",
   "execution_count": 38,
   "metadata": {
    "id": "uaGJHjVU_Zcv"
   },
   "outputs": [
    {
     "data": {
      "text/plain": [
       "genre\n",
       "pop            2431\n",
       "dance          1932\n",
       "rock           1879\n",
       "electronic     1736\n",
       "hiphop          960\n",
       "alternative     649\n",
       "classical       646\n",
       "rusrap          564\n",
       "ruspop          538\n",
       "world           515\n",
       "Name: genre, dtype: int64"
      ]
     },
     "execution_count": 38,
     "metadata": {},
     "output_type": "execute_result"
    }
   ],
   "source": [
    "spb_genres.head(10)\n",
    "\n",
    "# просмотр первых 10 строк spb_genres"
   ]
  },
  {
   "cell_type": "markdown",
   "metadata": {
    "id": "RY51YJYu_Zcv"
   },
   "source": [
    "**Выводы**"
   ]
  },
  {
   "cell_type": "markdown",
   "metadata": {
    "id": "nVhnJEm__Zcv"
   },
   "source": [
    "Гипотеза частично подтвердилась:\n",
    "* Поп-музыка — самый популярный жанр в Москве, как и предполагала гипотеза. Более того, в топ-10 жанров встречается близкий жанр — русская популярная музыка.\n",
    "* Вопреки ожиданиям, рэп одинаково популярен в Москве и Петербурге. \n"
   ]
  },
  {
   "cell_type": "markdown",
   "metadata": {
    "id": "ykKQ0N65_Zcv"
   },
   "source": [
    "## Итоги исследования"
   ]
  },
  {
   "cell_type": "markdown",
   "metadata": {
    "id": "tjUwbHb3_Zcv"
   },
   "source": [
    "Вы проверили три гипотезы и установили:\n",
    "\n",
    "1. День недели по-разному влияет на активность пользователей в Москве и Петербурге. \n",
    "\n",
    "Первая гипотеза полностью подтвердилась.\n",
    "\n",
    "2. Музыкальные предпочтения не сильно меняются в течение недели — будь то Москва или Петербург. Небольшие различия заметны в начале недели, по понедельникам:\n",
    "* в Москве слушают музыку жанра “world”,\n",
    "* в Петербурге — джаз и классику.\n",
    "\n",
    "Таким образом, вторая гипотеза подтвердилась лишь отчасти. Этот результат мог оказаться иным, если бы не пропуски в данных.\n",
    "\n",
    "3. Во вкусах пользователей Москвы и Петербурга больше общего чем различий. Вопреки ожиданиям, предпочтения жанров в Петербурге напоминают московские.\n",
    "\n",
    "Третья гипотеза не подтвердилась. Если различия в предпочтениях и существуют, на основной массе пользователей они незаметны.\n",
    "\n",
    "**На практике исследования содержат проверки статистических гипотез.**\n",
    "Из данных одного сервиса не всегда можно сделать вывод о всех жителях города.\n",
    "Проверки статистических гипотез покажут, насколько они достоверны, исходя из имеющихся данных. \n",
    "С методами проверок гипотез вы ещё познакомитесь в следующих темах."
   ]
  }
 ],
 "metadata": {
  "ExecuteTimeLog": [
   {
    "duration": 562,
    "start_time": "2021-11-08T19:37:39.961Z"
   },
   {
    "duration": 107,
    "start_time": "2021-11-08T19:37:42.605Z"
   },
   {
    "duration": 1568,
    "start_time": "2021-11-08T19:37:47.047Z"
   },
   {
    "duration": 82,
    "start_time": "2021-11-08T19:37:58.280Z"
   },
   {
    "duration": 258,
    "start_time": "2021-11-08T19:38:08.298Z"
   },
   {
    "duration": 135,
    "start_time": "2021-11-08T19:38:28.998Z"
   },
   {
    "duration": 8,
    "start_time": "2021-11-08T19:38:46.765Z"
   },
   {
    "duration": 25,
    "start_time": "2021-11-08T20:13:57.486Z"
   },
   {
    "duration": 16,
    "start_time": "2021-11-08T20:23:22.326Z"
   },
   {
    "duration": 4,
    "start_time": "2021-11-08T20:25:56.022Z"
   },
   {
    "duration": 287,
    "start_time": "2021-11-08T20:26:03.098Z"
   },
   {
    "duration": 6,
    "start_time": "2021-11-08T20:26:05.880Z"
   },
   {
    "duration": 124,
    "start_time": "2021-11-08T20:27:26.053Z"
   },
   {
    "duration": 20,
    "start_time": "2021-11-08T20:31:07.876Z"
   },
   {
    "duration": 4,
    "start_time": "2021-11-08T20:31:17.508Z"
   },
   {
    "duration": 24,
    "start_time": "2021-11-08T20:34:39.283Z"
   },
   {
    "duration": 15,
    "start_time": "2021-11-08T20:38:12.773Z"
   },
   {
    "duration": 21,
    "start_time": "2021-11-08T20:38:23.013Z"
   },
   {
    "duration": 57,
    "start_time": "2021-11-08T20:38:36.668Z"
   },
   {
    "duration": 53,
    "start_time": "2021-11-08T20:38:49.029Z"
   },
   {
    "duration": 65,
    "start_time": "2021-11-08T20:39:37.865Z"
   },
   {
    "duration": 48,
    "start_time": "2021-11-08T20:39:44.140Z"
   },
   {
    "duration": 55,
    "start_time": "2021-11-08T20:39:45.726Z"
   },
   {
    "duration": 48,
    "start_time": "2021-11-08T20:39:47.512Z"
   },
   {
    "duration": 55,
    "start_time": "2021-11-08T20:39:50.209Z"
   },
   {
    "duration": 3,
    "start_time": "2021-11-08T20:40:17.158Z"
   },
   {
    "duration": 147,
    "start_time": "2021-11-08T20:40:17.164Z"
   },
   {
    "duration": 10,
    "start_time": "2021-11-08T20:40:17.313Z"
   },
   {
    "duration": 35,
    "start_time": "2021-11-08T20:40:17.325Z"
   },
   {
    "duration": 4,
    "start_time": "2021-11-08T20:40:17.362Z"
   },
   {
    "duration": 15,
    "start_time": "2021-11-08T20:40:17.367Z"
   },
   {
    "duration": 4,
    "start_time": "2021-11-08T20:40:17.384Z"
   },
   {
    "duration": 24,
    "start_time": "2021-11-08T20:40:17.392Z"
   },
   {
    "duration": 45,
    "start_time": "2021-11-08T20:40:17.418Z"
   },
   {
    "duration": 24,
    "start_time": "2021-11-08T20:40:17.465Z"
   },
   {
    "duration": 73,
    "start_time": "2021-11-08T20:40:17.491Z"
   },
   {
    "duration": 54,
    "start_time": "2021-11-08T20:40:17.565Z"
   },
   {
    "duration": 59,
    "start_time": "2021-11-08T20:40:17.621Z"
   },
   {
    "duration": 2,
    "start_time": "2021-11-08T20:40:17.682Z"
   },
   {
    "duration": 6,
    "start_time": "2021-11-08T20:40:17.685Z"
   },
   {
    "duration": 5,
    "start_time": "2021-11-08T20:40:17.692Z"
   },
   {
    "duration": 13,
    "start_time": "2021-11-08T20:40:17.698Z"
   },
   {
    "duration": 8,
    "start_time": "2021-11-08T20:40:17.713Z"
   },
   {
    "duration": 6,
    "start_time": "2021-11-08T20:40:17.722Z"
   },
   {
    "duration": 9,
    "start_time": "2021-11-08T20:40:17.729Z"
   },
   {
    "duration": 20,
    "start_time": "2021-11-08T20:40:17.740Z"
   },
   {
    "duration": 6,
    "start_time": "2021-11-08T20:40:17.761Z"
   },
   {
    "duration": 10,
    "start_time": "2021-11-08T20:40:17.770Z"
   },
   {
    "duration": 13,
    "start_time": "2021-11-08T20:40:17.782Z"
   },
   {
    "duration": 7,
    "start_time": "2021-11-08T20:40:17.797Z"
   },
   {
    "duration": 9,
    "start_time": "2021-11-08T20:40:17.806Z"
   },
   {
    "duration": 10,
    "start_time": "2021-11-08T20:40:17.817Z"
   },
   {
    "duration": 5,
    "start_time": "2021-11-08T20:40:17.829Z"
   },
   {
    "duration": 10,
    "start_time": "2021-11-08T20:40:17.836Z"
   },
   {
    "duration": 7,
    "start_time": "2021-11-08T20:40:17.847Z"
   },
   {
    "duration": 10,
    "start_time": "2021-11-08T20:40:17.855Z"
   },
   {
    "duration": 17,
    "start_time": "2021-11-08T20:40:17.867Z"
   },
   {
    "duration": 6,
    "start_time": "2021-11-08T20:40:17.885Z"
   },
   {
    "duration": 11,
    "start_time": "2021-11-08T20:40:17.892Z"
   },
   {
    "duration": 8,
    "start_time": "2021-11-08T20:40:17.905Z"
   },
   {
    "duration": 6,
    "start_time": "2021-11-08T20:40:17.914Z"
   },
   {
    "duration": 9,
    "start_time": "2021-11-08T20:40:17.921Z"
   },
   {
    "duration": 12,
    "start_time": "2021-11-08T20:40:17.931Z"
   },
   {
    "duration": 545,
    "start_time": "2021-11-08T20:40:42.287Z"
   },
   {
    "duration": 141,
    "start_time": "2021-11-08T20:40:42.834Z"
   },
   {
    "duration": 16,
    "start_time": "2021-11-08T20:40:42.976Z"
   },
   {
    "duration": 25,
    "start_time": "2021-11-08T20:40:42.994Z"
   },
   {
    "duration": 7,
    "start_time": "2021-11-08T20:40:43.021Z"
   },
   {
    "duration": 29,
    "start_time": "2021-11-08T20:40:43.029Z"
   },
   {
    "duration": 10,
    "start_time": "2021-11-08T20:40:43.060Z"
   },
   {
    "duration": 26,
    "start_time": "2021-11-08T20:40:43.072Z"
   },
   {
    "duration": 22,
    "start_time": "2021-11-08T20:40:43.100Z"
   },
   {
    "duration": 29,
    "start_time": "2021-11-08T20:40:43.124Z"
   },
   {
    "duration": 64,
    "start_time": "2021-11-08T20:40:43.155Z"
   },
   {
    "duration": 76,
    "start_time": "2021-11-08T20:40:43.220Z"
   },
   {
    "duration": 53,
    "start_time": "2021-11-08T20:40:43.298Z"
   },
   {
    "duration": 2,
    "start_time": "2021-11-08T20:40:43.353Z"
   },
   {
    "duration": 13,
    "start_time": "2021-11-08T20:40:43.356Z"
   },
   {
    "duration": 9,
    "start_time": "2021-11-08T20:40:43.371Z"
   },
   {
    "duration": 17,
    "start_time": "2021-11-08T20:40:43.382Z"
   },
   {
    "duration": 16,
    "start_time": "2021-11-08T20:40:43.401Z"
   },
   {
    "duration": 10,
    "start_time": "2021-11-08T20:40:43.419Z"
   },
   {
    "duration": 11,
    "start_time": "2021-11-08T20:40:43.431Z"
   },
   {
    "duration": 10,
    "start_time": "2021-11-08T20:40:43.444Z"
   },
   {
    "duration": 7,
    "start_time": "2021-11-08T20:40:43.455Z"
   },
   {
    "duration": 16,
    "start_time": "2021-11-08T20:40:43.466Z"
   },
   {
    "duration": 13,
    "start_time": "2021-11-08T20:40:43.484Z"
   },
   {
    "duration": 25,
    "start_time": "2021-11-08T20:40:43.499Z"
   },
   {
    "duration": 13,
    "start_time": "2021-11-08T20:40:43.525Z"
   },
   {
    "duration": 15,
    "start_time": "2021-11-08T20:40:43.540Z"
   },
   {
    "duration": 4,
    "start_time": "2021-11-08T20:40:43.557Z"
   },
   {
    "duration": 15,
    "start_time": "2021-11-08T20:40:43.563Z"
   },
   {
    "duration": 21,
    "start_time": "2021-11-08T20:40:43.580Z"
   },
   {
    "duration": 30,
    "start_time": "2021-11-08T20:40:43.603Z"
   },
   {
    "duration": 46,
    "start_time": "2021-11-08T20:40:43.635Z"
   },
   {
    "duration": 21,
    "start_time": "2021-11-08T20:40:43.682Z"
   },
   {
    "duration": 14,
    "start_time": "2021-11-08T20:40:43.704Z"
   },
   {
    "duration": 14,
    "start_time": "2021-11-08T20:40:43.719Z"
   },
   {
    "duration": 18,
    "start_time": "2021-11-08T20:40:43.734Z"
   },
   {
    "duration": 5,
    "start_time": "2021-11-08T20:40:43.753Z"
   },
   {
    "duration": 21,
    "start_time": "2021-11-08T20:40:43.760Z"
   },
   {
    "duration": 5,
    "start_time": "2021-11-08T20:41:38.371Z"
   },
   {
    "duration": 7,
    "start_time": "2021-11-08T20:41:42.328Z"
   },
   {
    "duration": 370,
    "start_time": "2021-11-08T20:42:16.554Z"
   },
   {
    "duration": 251,
    "start_time": "2021-11-08T20:42:23.997Z"
   },
   {
    "duration": 7,
    "start_time": "2021-11-08T20:42:27.921Z"
   },
   {
    "duration": 264,
    "start_time": "2021-11-08T20:44:51.833Z"
   },
   {
    "duration": 10,
    "start_time": "2021-11-08T20:45:03.089Z"
   },
   {
    "duration": 3,
    "start_time": "2021-11-08T20:58:23.680Z"
   },
   {
    "duration": 28,
    "start_time": "2021-11-08T21:00:15.315Z"
   },
   {
    "duration": 9,
    "start_time": "2021-11-08T21:00:34.568Z"
   },
   {
    "duration": 27,
    "start_time": "2021-11-08T21:01:00.482Z"
   },
   {
    "duration": 4,
    "start_time": "2021-11-08T21:01:05.380Z"
   },
   {
    "duration": 26,
    "start_time": "2021-11-08T21:01:06.967Z"
   },
   {
    "duration": 9,
    "start_time": "2021-11-08T21:01:08.976Z"
   },
   {
    "duration": 9,
    "start_time": "2021-11-08T21:02:03.564Z"
   },
   {
    "duration": 9,
    "start_time": "2021-11-08T21:02:04.698Z"
   },
   {
    "duration": 11,
    "start_time": "2021-11-08T21:02:50.768Z"
   },
   {
    "duration": 10,
    "start_time": "2021-11-08T21:02:51.576Z"
   },
   {
    "duration": 4,
    "start_time": "2021-11-08T21:04:45.313Z"
   },
   {
    "duration": 10,
    "start_time": "2021-11-08T21:04:46.728Z"
   },
   {
    "duration": 33,
    "start_time": "2021-11-08T21:11:35.949Z"
   },
   {
    "duration": 11,
    "start_time": "2021-11-08T21:12:11.577Z"
   },
   {
    "duration": 12,
    "start_time": "2021-11-08T21:13:20.713Z"
   },
   {
    "duration": 10,
    "start_time": "2021-11-08T21:14:19.220Z"
   },
   {
    "duration": 11,
    "start_time": "2021-11-08T21:14:28.874Z"
   },
   {
    "duration": 4,
    "start_time": "2021-11-08T21:27:57.115Z"
   },
   {
    "duration": 517,
    "start_time": "2021-11-08T21:36:40.236Z"
   },
   {
    "duration": 4,
    "start_time": "2021-11-08T21:37:14.099Z"
   },
   {
    "duration": 537,
    "start_time": "2021-11-08T21:37:16.200Z"
   },
   {
    "duration": 4,
    "start_time": "2021-11-08T21:38:33.463Z"
   },
   {
    "duration": 6829,
    "start_time": "2021-11-08T21:38:35.396Z"
   },
   {
    "duration": 8,
    "start_time": "2021-11-08T21:42:14.058Z"
   },
   {
    "duration": 8131,
    "start_time": "2021-11-08T21:42:16.025Z"
   },
   {
    "duration": 4,
    "start_time": "2021-11-08T21:42:41.419Z"
   },
   {
    "duration": 6590,
    "start_time": "2021-11-08T21:42:44.098Z"
   },
   {
    "duration": 4,
    "start_time": "2021-11-08T21:43:39.103Z"
   },
   {
    "duration": 7992,
    "start_time": "2021-11-08T21:43:43.517Z"
   },
   {
    "duration": 4,
    "start_time": "2021-11-08T21:44:17.643Z"
   },
   {
    "duration": 6982,
    "start_time": "2021-11-08T21:44:20.592Z"
   },
   {
    "duration": 4,
    "start_time": "2021-11-08T21:46:38.419Z"
   },
   {
    "duration": 549,
    "start_time": "2021-11-08T21:46:41.143Z"
   },
   {
    "duration": 3,
    "start_time": "2021-11-08T21:47:03.360Z"
   },
   {
    "duration": 1993,
    "start_time": "2021-11-08T21:47:05.268Z"
   },
   {
    "duration": 105,
    "start_time": "2021-11-08T21:48:02.596Z"
   },
   {
    "duration": 91,
    "start_time": "2021-11-08T21:48:12.506Z"
   },
   {
    "duration": 105,
    "start_time": "2021-11-08T21:48:30.591Z"
   },
   {
    "duration": 3,
    "start_time": "2021-11-08T21:48:33.996Z"
   },
   {
    "duration": 1999,
    "start_time": "2021-11-08T21:48:36.505Z"
   },
   {
    "duration": 4,
    "start_time": "2021-11-08T21:50:34.396Z"
   },
   {
    "duration": 526,
    "start_time": "2021-11-08T21:50:36.265Z"
   },
   {
    "duration": 524,
    "start_time": "2021-11-08T21:50:40.517Z"
   },
   {
    "duration": 4,
    "start_time": "2021-11-08T21:51:13.827Z"
   },
   {
    "duration": 22,
    "start_time": "2021-11-08T21:51:15.470Z"
   },
   {
    "duration": 4,
    "start_time": "2021-11-08T21:51:51.263Z"
   },
   {
    "duration": 21,
    "start_time": "2021-11-08T21:51:53.168Z"
   },
   {
    "duration": 4,
    "start_time": "2021-11-08T21:53:01.285Z"
   },
   {
    "duration": 548,
    "start_time": "2021-11-08T21:53:01.954Z"
   },
   {
    "duration": 3,
    "start_time": "2021-11-08T21:53:21.778Z"
   },
   {
    "duration": 23,
    "start_time": "2021-11-08T21:53:22.758Z"
   },
   {
    "duration": 4,
    "start_time": "2021-11-08T21:53:32.765Z"
   },
   {
    "duration": 22,
    "start_time": "2021-11-08T21:53:33.522Z"
   },
   {
    "duration": 4,
    "start_time": "2021-11-08T21:53:45.261Z"
   },
   {
    "duration": 21,
    "start_time": "2021-11-08T21:53:45.782Z"
   },
   {
    "duration": 4,
    "start_time": "2021-11-08T21:54:59.439Z"
   },
   {
    "duration": 722,
    "start_time": "2021-11-08T21:54:59.960Z"
   },
   {
    "duration": 4,
    "start_time": "2021-11-08T21:55:19.063Z"
   },
   {
    "duration": 527,
    "start_time": "2021-11-08T21:55:19.924Z"
   },
   {
    "duration": 4,
    "start_time": "2021-11-08T21:55:54.919Z"
   },
   {
    "duration": 525,
    "start_time": "2021-11-08T21:55:55.439Z"
   },
   {
    "duration": 4,
    "start_time": "2021-11-08T21:56:17.091Z"
   },
   {
    "duration": 519,
    "start_time": "2021-11-08T21:56:17.609Z"
   },
   {
    "duration": 3,
    "start_time": "2021-11-08T21:56:40.044Z"
   },
   {
    "duration": 21,
    "start_time": "2021-11-08T21:56:40.684Z"
   },
   {
    "duration": 4,
    "start_time": "2021-11-08T21:57:46.954Z"
   },
   {
    "duration": 22,
    "start_time": "2021-11-08T21:57:48.902Z"
   },
   {
    "duration": 422,
    "start_time": "2021-11-08T21:58:08.797Z"
   },
   {
    "duration": 4,
    "start_time": "2021-11-08T21:58:12.784Z"
   },
   {
    "duration": 24,
    "start_time": "2021-11-08T21:58:13.498Z"
   },
   {
    "duration": 3,
    "start_time": "2021-11-08T21:58:40.043Z"
   },
   {
    "duration": 15,
    "start_time": "2021-11-08T21:58:41.281Z"
   },
   {
    "duration": 14,
    "start_time": "2021-11-08T21:59:19.486Z"
   },
   {
    "duration": 16,
    "start_time": "2021-11-08T21:59:25.224Z"
   },
   {
    "duration": 17,
    "start_time": "2021-11-08T21:59:34.936Z"
   },
   {
    "duration": 13,
    "start_time": "2021-11-08T21:59:41.179Z"
   },
   {
    "duration": 15,
    "start_time": "2021-11-08T21:59:48.582Z"
   },
   {
    "duration": 17,
    "start_time": "2021-11-08T21:59:57.481Z"
   },
   {
    "duration": 16,
    "start_time": "2021-11-08T22:00:02.847Z"
   },
   {
    "duration": 278,
    "start_time": "2021-11-08T22:03:16.975Z"
   },
   {
    "duration": 5,
    "start_time": "2021-11-08T22:03:28.591Z"
   },
   {
    "duration": 9,
    "start_time": "2021-11-08T22:03:42.809Z"
   },
   {
    "duration": 8,
    "start_time": "2021-11-08T22:04:13.224Z"
   },
   {
    "duration": 12,
    "start_time": "2021-11-08T22:10:39.320Z"
   },
   {
    "duration": 9,
    "start_time": "2021-11-08T22:11:12.143Z"
   },
   {
    "duration": 286,
    "start_time": "2021-11-09T16:29:01.595Z"
   },
   {
    "duration": 259,
    "start_time": "2021-11-09T16:30:40.515Z"
   },
   {
    "duration": 242,
    "start_time": "2021-11-09T16:30:47.479Z"
   },
   {
    "duration": 598,
    "start_time": "2021-11-09T16:30:54.500Z"
   },
   {
    "duration": 152,
    "start_time": "2021-11-09T16:30:55.100Z"
   },
   {
    "duration": 18,
    "start_time": "2021-11-09T16:30:55.254Z"
   },
   {
    "duration": 26,
    "start_time": "2021-11-09T16:30:55.273Z"
   },
   {
    "duration": 4,
    "start_time": "2021-11-09T16:30:55.301Z"
   },
   {
    "duration": 22,
    "start_time": "2021-11-09T16:30:55.307Z"
   },
   {
    "duration": 4,
    "start_time": "2021-11-09T16:30:55.331Z"
   },
   {
    "duration": 23,
    "start_time": "2021-11-09T16:30:55.364Z"
   },
   {
    "duration": 18,
    "start_time": "2021-11-09T16:30:55.390Z"
   },
   {
    "duration": 23,
    "start_time": "2021-11-09T16:30:55.411Z"
   },
   {
    "duration": 91,
    "start_time": "2021-11-09T16:30:55.436Z"
   },
   {
    "duration": 88,
    "start_time": "2021-11-09T16:30:55.529Z"
   },
   {
    "duration": 59,
    "start_time": "2021-11-09T16:30:55.619Z"
   },
   {
    "duration": 10,
    "start_time": "2021-11-09T16:30:55.679Z"
   },
   {
    "duration": 3,
    "start_time": "2021-11-09T16:30:55.690Z"
   },
   {
    "duration": 12,
    "start_time": "2021-11-09T16:30:55.695Z"
   },
   {
    "duration": 9,
    "start_time": "2021-11-09T16:30:55.709Z"
   },
   {
    "duration": 12,
    "start_time": "2021-11-09T16:30:55.719Z"
   },
   {
    "duration": 11,
    "start_time": "2021-11-09T16:30:55.764Z"
   },
   {
    "duration": 4,
    "start_time": "2021-11-09T16:30:55.777Z"
   },
   {
    "duration": 31,
    "start_time": "2021-11-09T16:30:55.782Z"
   },
   {
    "duration": 17,
    "start_time": "2021-11-09T16:30:55.815Z"
   },
   {
    "duration": 37,
    "start_time": "2021-11-09T16:30:55.834Z"
   },
   {
    "duration": 15,
    "start_time": "2021-11-09T16:30:55.872Z"
   },
   {
    "duration": 18,
    "start_time": "2021-11-09T16:30:55.888Z"
   },
   {
    "duration": 18,
    "start_time": "2021-11-09T16:30:55.908Z"
   },
   {
    "duration": 40,
    "start_time": "2021-11-09T16:30:55.930Z"
   },
   {
    "duration": 13,
    "start_time": "2021-11-09T16:30:55.972Z"
   },
   {
    "duration": 9,
    "start_time": "2021-11-09T16:30:55.987Z"
   },
   {
    "duration": 16,
    "start_time": "2021-11-09T16:30:55.998Z"
   },
   {
    "duration": 16,
    "start_time": "2021-11-09T16:30:56.016Z"
   },
   {
    "duration": 9,
    "start_time": "2021-11-09T16:30:56.033Z"
   },
   {
    "duration": 10,
    "start_time": "2021-11-09T16:30:56.044Z"
   },
   {
    "duration": 8,
    "start_time": "2021-11-09T16:30:56.056Z"
   },
   {
    "duration": 18,
    "start_time": "2021-11-09T16:30:56.066Z"
   },
   {
    "duration": 7,
    "start_time": "2021-11-09T16:30:56.086Z"
   },
   {
    "duration": 8,
    "start_time": "2021-11-09T16:30:56.095Z"
   },
   {
    "duration": 8,
    "start_time": "2021-11-09T16:30:56.105Z"
   },
   {
    "duration": 13,
    "start_time": "2021-11-09T16:31:11.094Z"
   },
   {
    "duration": 330,
    "start_time": "2021-11-09T16:31:37.223Z"
   },
   {
    "duration": 253,
    "start_time": "2021-11-09T16:32:18.042Z"
   },
   {
    "duration": 259,
    "start_time": "2021-11-09T16:32:22.269Z"
   },
   {
    "duration": 517,
    "start_time": "2021-11-09T16:32:27.942Z"
   },
   {
    "duration": 251,
    "start_time": "2021-11-09T16:32:35.968Z"
   },
   {
    "duration": 250,
    "start_time": "2021-11-09T16:32:40.005Z"
   },
   {
    "duration": 13,
    "start_time": "2021-11-09T16:32:47.081Z"
   },
   {
    "duration": 24,
    "start_time": "2021-11-09T16:33:09.850Z"
   },
   {
    "duration": 13,
    "start_time": "2021-11-09T16:33:18.345Z"
   },
   {
    "duration": 4,
    "start_time": "2021-11-09T16:40:17.200Z"
   },
   {
    "duration": 476,
    "start_time": "2021-11-09T16:41:11.677Z"
   },
   {
    "duration": 3,
    "start_time": "2021-11-09T16:52:39.149Z"
   },
   {
    "duration": 22,
    "start_time": "2021-11-09T16:52:40.252Z"
   },
   {
    "duration": 4,
    "start_time": "2021-11-09T16:53:04.702Z"
   },
   {
    "duration": 21,
    "start_time": "2021-11-09T16:53:05.412Z"
   },
   {
    "duration": 4,
    "start_time": "2021-11-09T16:54:07.501Z"
   },
   {
    "duration": 493,
    "start_time": "2021-11-09T16:54:08.315Z"
   },
   {
    "duration": 5,
    "start_time": "2021-11-09T16:54:32.142Z"
   },
   {
    "duration": 662,
    "start_time": "2021-11-09T16:54:32.861Z"
   },
   {
    "duration": 4,
    "start_time": "2021-11-09T16:54:43.998Z"
   },
   {
    "duration": 21,
    "start_time": "2021-11-09T16:54:44.670Z"
   },
   {
    "duration": 4,
    "start_time": "2021-11-09T16:54:54.443Z"
   },
   {
    "duration": 20,
    "start_time": "2021-11-09T16:54:54.955Z"
   },
   {
    "duration": 5,
    "start_time": "2021-11-09T16:56:34.046Z"
   },
   {
    "duration": 505,
    "start_time": "2021-11-09T16:56:35.744Z"
   },
   {
    "duration": 4,
    "start_time": "2021-11-09T16:57:15.760Z"
   },
   {
    "duration": 20,
    "start_time": "2021-11-09T16:57:16.481Z"
   },
   {
    "duration": 15,
    "start_time": "2021-11-09T16:58:01.381Z"
   },
   {
    "duration": 20,
    "start_time": "2021-11-09T16:58:27.517Z"
   },
   {
    "duration": 14,
    "start_time": "2021-11-09T16:58:28.291Z"
   },
   {
    "duration": 18,
    "start_time": "2021-11-09T16:59:12.956Z"
   },
   {
    "duration": 13,
    "start_time": "2021-11-09T16:59:15.147Z"
   },
   {
    "duration": 82,
    "start_time": "2021-11-09T17:03:41.537Z"
   },
   {
    "duration": 8,
    "start_time": "2021-11-09T17:03:45.301Z"
   },
   {
    "duration": 5,
    "start_time": "2021-11-09T17:04:00.709Z"
   },
   {
    "duration": 6,
    "start_time": "2021-11-09T17:04:32.251Z"
   },
   {
    "duration": 5,
    "start_time": "2021-11-09T17:04:44.064Z"
   },
   {
    "duration": 4,
    "start_time": "2021-11-09T17:04:51.639Z"
   },
   {
    "duration": 606,
    "start_time": "2021-11-09T17:06:02.575Z"
   },
   {
    "duration": 141,
    "start_time": "2021-11-09T17:06:03.183Z"
   },
   {
    "duration": 18,
    "start_time": "2021-11-09T17:06:03.326Z"
   },
   {
    "duration": 31,
    "start_time": "2021-11-09T17:06:03.346Z"
   },
   {
    "duration": 7,
    "start_time": "2021-11-09T17:06:03.379Z"
   },
   {
    "duration": 25,
    "start_time": "2021-11-09T17:06:03.387Z"
   },
   {
    "duration": 10,
    "start_time": "2021-11-09T17:06:03.414Z"
   },
   {
    "duration": 41,
    "start_time": "2021-11-09T17:06:03.426Z"
   },
   {
    "duration": 18,
    "start_time": "2021-11-09T17:06:03.470Z"
   },
   {
    "duration": 24,
    "start_time": "2021-11-09T17:06:03.491Z"
   },
   {
    "duration": 84,
    "start_time": "2021-11-09T17:06:03.516Z"
   },
   {
    "duration": 81,
    "start_time": "2021-11-09T17:06:03.602Z"
   },
   {
    "duration": 53,
    "start_time": "2021-11-09T17:06:03.685Z"
   },
   {
    "duration": 9,
    "start_time": "2021-11-09T17:06:03.739Z"
   },
   {
    "duration": 3,
    "start_time": "2021-11-09T17:06:03.764Z"
   },
   {
    "duration": 15,
    "start_time": "2021-11-09T17:06:03.768Z"
   },
   {
    "duration": 10,
    "start_time": "2021-11-09T17:06:03.785Z"
   },
   {
    "duration": 15,
    "start_time": "2021-11-09T17:06:03.796Z"
   },
   {
    "duration": 11,
    "start_time": "2021-11-09T17:06:03.813Z"
   },
   {
    "duration": 4,
    "start_time": "2021-11-09T17:06:03.826Z"
   },
   {
    "duration": 45,
    "start_time": "2021-11-09T17:06:03.831Z"
   },
   {
    "duration": 15,
    "start_time": "2021-11-09T17:06:03.878Z"
   },
   {
    "duration": 16,
    "start_time": "2021-11-09T17:06:03.895Z"
   },
   {
    "duration": 15,
    "start_time": "2021-11-09T17:06:03.912Z"
   },
   {
    "duration": 48,
    "start_time": "2021-11-09T17:06:03.929Z"
   },
   {
    "duration": 17,
    "start_time": "2021-11-09T17:06:03.979Z"
   },
   {
    "duration": 8,
    "start_time": "2021-11-09T17:06:03.999Z"
   },
   {
    "duration": 20,
    "start_time": "2021-11-09T17:06:04.009Z"
   },
   {
    "duration": 32,
    "start_time": "2021-11-09T17:06:04.031Z"
   },
   {
    "duration": 4,
    "start_time": "2021-11-09T17:06:04.066Z"
   },
   {
    "duration": 30,
    "start_time": "2021-11-09T17:06:04.072Z"
   },
   {
    "duration": 13,
    "start_time": "2021-11-09T17:06:04.104Z"
   },
   {
    "duration": 17,
    "start_time": "2021-11-09T17:06:04.119Z"
   },
   {
    "duration": 33,
    "start_time": "2021-11-09T17:06:04.138Z"
   },
   {
    "duration": 8,
    "start_time": "2021-11-09T17:06:04.173Z"
   },
   {
    "duration": 6,
    "start_time": "2021-11-09T17:06:04.183Z"
   },
   {
    "duration": 13,
    "start_time": "2021-11-09T17:06:04.191Z"
   },
   {
    "duration": 7,
    "start_time": "2021-11-09T17:06:04.206Z"
   },
   {
    "duration": 338,
    "start_time": "2021-11-09T19:12:09.499Z"
   },
   {
    "duration": 861,
    "start_time": "2021-11-09T19:12:14.668Z"
   },
   {
    "duration": 192,
    "start_time": "2021-11-09T19:12:15.531Z"
   },
   {
    "duration": 25,
    "start_time": "2021-11-09T19:12:15.729Z"
   },
   {
    "duration": 38,
    "start_time": "2021-11-09T19:12:15.757Z"
   },
   {
    "duration": 5,
    "start_time": "2021-11-09T19:12:15.823Z"
   },
   {
    "duration": 31,
    "start_time": "2021-11-09T19:12:15.831Z"
   },
   {
    "duration": 10,
    "start_time": "2021-11-09T19:12:15.864Z"
   },
   {
    "duration": 60,
    "start_time": "2021-11-09T19:12:15.879Z"
   },
   {
    "duration": 21,
    "start_time": "2021-11-09T19:12:15.943Z"
   },
   {
    "duration": 32,
    "start_time": "2021-11-09T19:12:15.966Z"
   },
   {
    "duration": 106,
    "start_time": "2021-11-09T19:12:16.000Z"
   },
   {
    "duration": 119,
    "start_time": "2021-11-09T19:12:16.123Z"
   },
   {
    "duration": 85,
    "start_time": "2021-11-09T19:12:16.245Z"
   },
   {
    "duration": 61,
    "start_time": "2021-11-09T19:12:16.333Z"
   },
   {
    "duration": 26,
    "start_time": "2021-11-09T19:12:16.397Z"
   },
   {
    "duration": 13,
    "start_time": "2021-11-09T19:12:16.426Z"
   },
   {
    "duration": 19,
    "start_time": "2021-11-09T19:12:16.442Z"
   },
   {
    "duration": 14,
    "start_time": "2021-11-09T19:12:16.463Z"
   },
   {
    "duration": 47,
    "start_time": "2021-11-09T19:12:16.479Z"
   },
   {
    "duration": 5,
    "start_time": "2021-11-09T19:12:16.528Z"
   },
   {
    "duration": 32,
    "start_time": "2021-11-09T19:12:16.535Z"
   },
   {
    "duration": 20,
    "start_time": "2021-11-09T19:12:16.569Z"
   },
   {
    "duration": 50,
    "start_time": "2021-11-09T19:12:16.591Z"
   },
   {
    "duration": 19,
    "start_time": "2021-11-09T19:12:16.643Z"
   },
   {
    "duration": 21,
    "start_time": "2021-11-09T19:12:16.665Z"
   },
   {
    "duration": 21,
    "start_time": "2021-11-09T19:12:16.724Z"
   },
   {
    "duration": 13,
    "start_time": "2021-11-09T19:12:16.747Z"
   },
   {
    "duration": 17,
    "start_time": "2021-11-09T19:12:16.763Z"
   },
   {
    "duration": 46,
    "start_time": "2021-11-09T19:12:16.782Z"
   },
   {
    "duration": 9,
    "start_time": "2021-11-09T19:12:16.831Z"
   },
   {
    "duration": 39,
    "start_time": "2021-11-09T19:12:16.842Z"
   },
   {
    "duration": 17,
    "start_time": "2021-11-09T19:12:16.883Z"
   },
   {
    "duration": 25,
    "start_time": "2021-11-09T19:12:16.923Z"
   },
   {
    "duration": 18,
    "start_time": "2021-11-09T19:12:16.950Z"
   },
   {
    "duration": 11,
    "start_time": "2021-11-09T19:12:16.970Z"
   },
   {
    "duration": 40,
    "start_time": "2021-11-09T19:12:16.984Z"
   },
   {
    "duration": 9,
    "start_time": "2021-11-09T19:12:17.027Z"
   },
   {
    "duration": 8,
    "start_time": "2021-11-09T19:12:17.038Z"
   },
   {
    "duration": 76,
    "start_time": "2021-11-09T19:12:52.312Z"
   },
   {
    "duration": 62,
    "start_time": "2021-11-09T19:13:20.532Z"
   },
   {
    "duration": 770,
    "start_time": "2021-11-09T19:23:54.408Z"
   },
   {
    "duration": 187,
    "start_time": "2021-11-09T19:23:55.181Z"
   },
   {
    "duration": 27,
    "start_time": "2021-11-09T19:23:55.370Z"
   },
   {
    "duration": 46,
    "start_time": "2021-11-09T19:23:55.399Z"
   },
   {
    "duration": 5,
    "start_time": "2021-11-09T19:23:55.447Z"
   },
   {
    "duration": 34,
    "start_time": "2021-11-09T19:23:55.454Z"
   },
   {
    "duration": 30,
    "start_time": "2021-11-09T19:23:55.492Z"
   },
   {
    "duration": 30,
    "start_time": "2021-11-09T19:23:55.525Z"
   },
   {
    "duration": 22,
    "start_time": "2021-11-09T19:23:55.558Z"
   },
   {
    "duration": 58,
    "start_time": "2021-11-09T19:23:55.583Z"
   },
   {
    "duration": 100,
    "start_time": "2021-11-09T19:23:55.644Z"
   },
   {
    "duration": 111,
    "start_time": "2021-11-09T19:23:55.746Z"
   },
   {
    "duration": 86,
    "start_time": "2021-11-09T19:23:55.860Z"
   },
   {
    "duration": 81,
    "start_time": "2021-11-09T19:23:55.949Z"
   },
   {
    "duration": 5,
    "start_time": "2021-11-09T19:23:56.033Z"
   },
   {
    "duration": 17,
    "start_time": "2021-11-09T19:23:56.041Z"
   },
   {
    "duration": 24,
    "start_time": "2021-11-09T19:23:56.061Z"
   },
   {
    "duration": 49,
    "start_time": "2021-11-09T19:23:56.088Z"
   },
   {
    "duration": 16,
    "start_time": "2021-11-09T19:23:56.139Z"
   },
   {
    "duration": 6,
    "start_time": "2021-11-09T19:23:56.157Z"
   },
   {
    "duration": 57,
    "start_time": "2021-11-09T19:23:56.165Z"
   },
   {
    "duration": 23,
    "start_time": "2021-11-09T19:23:56.227Z"
   },
   {
    "duration": 22,
    "start_time": "2021-11-09T19:23:56.254Z"
   },
   {
    "duration": 55,
    "start_time": "2021-11-09T19:23:56.279Z"
   },
   {
    "duration": 23,
    "start_time": "2021-11-09T19:23:56.337Z"
   },
   {
    "duration": 21,
    "start_time": "2021-11-09T19:23:56.362Z"
   },
   {
    "duration": 47,
    "start_time": "2021-11-09T19:23:56.385Z"
   },
   {
    "duration": 21,
    "start_time": "2021-11-09T19:23:56.435Z"
   },
   {
    "duration": 19,
    "start_time": "2021-11-09T19:23:56.459Z"
   },
   {
    "duration": 6,
    "start_time": "2021-11-09T19:23:56.481Z"
   },
   {
    "duration": 54,
    "start_time": "2021-11-09T19:23:56.490Z"
   },
   {
    "duration": 18,
    "start_time": "2021-11-09T19:23:56.547Z"
   },
   {
    "duration": 23,
    "start_time": "2021-11-09T19:23:56.567Z"
   },
   {
    "duration": 46,
    "start_time": "2021-11-09T19:23:56.592Z"
   },
   {
    "duration": 10,
    "start_time": "2021-11-09T19:23:56.641Z"
   },
   {
    "duration": 8,
    "start_time": "2021-11-09T19:23:56.654Z"
   },
   {
    "duration": 11,
    "start_time": "2021-11-09T19:23:56.665Z"
   },
   {
    "duration": 46,
    "start_time": "2021-11-09T19:23:56.679Z"
   },
   {
    "duration": 591,
    "start_time": "2022-01-09T19:32:05.381Z"
   },
   {
    "duration": 121,
    "start_time": "2022-01-09T19:32:05.974Z"
   },
   {
    "duration": 15,
    "start_time": "2022-01-09T19:32:06.096Z"
   },
   {
    "duration": 30,
    "start_time": "2022-01-09T19:32:06.112Z"
   },
   {
    "duration": 4,
    "start_time": "2022-01-09T19:32:06.144Z"
   },
   {
    "duration": 20,
    "start_time": "2022-01-09T19:32:06.149Z"
   },
   {
    "duration": 4,
    "start_time": "2022-01-09T19:32:06.170Z"
   },
   {
    "duration": 22,
    "start_time": "2022-01-09T19:32:06.176Z"
   },
   {
    "duration": 41,
    "start_time": "2022-01-09T19:32:06.200Z"
   },
   {
    "duration": 21,
    "start_time": "2022-01-09T19:32:06.243Z"
   },
   {
    "duration": 55,
    "start_time": "2022-01-09T19:32:06.266Z"
   },
   {
    "duration": 77,
    "start_time": "2022-01-09T19:32:06.323Z"
   },
   {
    "duration": 66,
    "start_time": "2022-01-09T19:32:06.402Z"
   },
   {
    "duration": 41,
    "start_time": "2022-01-09T19:32:06.470Z"
   },
   {
    "duration": 2,
    "start_time": "2022-01-09T19:32:06.513Z"
   },
   {
    "duration": 29,
    "start_time": "2022-01-09T19:32:06.516Z"
   },
   {
    "duration": 15,
    "start_time": "2022-01-09T19:32:06.547Z"
   },
   {
    "duration": 13,
    "start_time": "2022-01-09T19:32:06.563Z"
   },
   {
    "duration": 10,
    "start_time": "2022-01-09T19:32:06.577Z"
   },
   {
    "duration": 3,
    "start_time": "2022-01-09T19:32:06.589Z"
   },
   {
    "duration": 48,
    "start_time": "2022-01-09T19:32:06.593Z"
   },
   {
    "duration": 13,
    "start_time": "2022-01-09T19:32:06.643Z"
   },
   {
    "duration": 13,
    "start_time": "2022-01-09T19:32:06.659Z"
   },
   {
    "duration": 13,
    "start_time": "2022-01-09T19:32:06.674Z"
   },
   {
    "duration": 14,
    "start_time": "2022-01-09T19:32:06.689Z"
   },
   {
    "duration": 14,
    "start_time": "2022-01-09T19:32:06.742Z"
   },
   {
    "duration": 295,
    "start_time": "2022-01-09T19:32:06.757Z"
   },
   {
    "duration": -553,
    "start_time": "2022-01-09T19:32:07.606Z"
   },
   {
    "duration": -556,
    "start_time": "2022-01-09T19:32:07.610Z"
   },
   {
    "duration": -560,
    "start_time": "2022-01-09T19:32:07.615Z"
   },
   {
    "duration": -563,
    "start_time": "2022-01-09T19:32:07.619Z"
   },
   {
    "duration": -566,
    "start_time": "2022-01-09T19:32:07.623Z"
   },
   {
    "duration": -569,
    "start_time": "2022-01-09T19:32:07.627Z"
   },
   {
    "duration": -573,
    "start_time": "2022-01-09T19:32:07.632Z"
   },
   {
    "duration": -601,
    "start_time": "2022-01-09T19:32:07.661Z"
   },
   {
    "duration": -607,
    "start_time": "2022-01-09T19:32:07.667Z"
   },
   {
    "duration": -610,
    "start_time": "2022-01-09T19:32:07.671Z"
   },
   {
    "duration": -614,
    "start_time": "2022-01-09T19:32:07.676Z"
   },
   {
    "duration": 330,
    "start_time": "2022-01-09T19:32:31.514Z"
   },
   {
    "duration": 252,
    "start_time": "2022-01-09T19:32:43.735Z"
   },
   {
    "duration": 250,
    "start_time": "2022-01-09T19:33:08.309Z"
   },
   {
    "duration": 10,
    "start_time": "2022-01-09T19:33:11.337Z"
   },
   {
    "duration": 592,
    "start_time": "2022-01-09T19:33:36.267Z"
   },
   {
    "duration": 138,
    "start_time": "2022-01-09T19:33:36.861Z"
   },
   {
    "duration": 18,
    "start_time": "2022-01-09T19:33:37.001Z"
   },
   {
    "duration": 36,
    "start_time": "2022-01-09T19:33:37.021Z"
   },
   {
    "duration": 4,
    "start_time": "2022-01-09T19:33:37.059Z"
   },
   {
    "duration": 22,
    "start_time": "2022-01-09T19:33:37.065Z"
   },
   {
    "duration": 9,
    "start_time": "2022-01-09T19:33:37.089Z"
   },
   {
    "duration": 45,
    "start_time": "2022-01-09T19:33:37.100Z"
   },
   {
    "duration": 22,
    "start_time": "2022-01-09T19:33:37.147Z"
   },
   {
    "duration": 25,
    "start_time": "2022-01-09T19:33:37.171Z"
   },
   {
    "duration": 74,
    "start_time": "2022-01-09T19:33:37.198Z"
   },
   {
    "duration": 78,
    "start_time": "2022-01-09T19:33:37.273Z"
   },
   {
    "duration": 51,
    "start_time": "2022-01-09T19:33:37.353Z"
   },
   {
    "duration": 51,
    "start_time": "2022-01-09T19:33:37.406Z"
   },
   {
    "duration": 4,
    "start_time": "2022-01-09T19:33:37.459Z"
   },
   {
    "duration": 12,
    "start_time": "2022-01-09T19:33:37.465Z"
   },
   {
    "duration": 9,
    "start_time": "2022-01-09T19:33:37.479Z"
   },
   {
    "duration": 14,
    "start_time": "2022-01-09T19:33:37.490Z"
   },
   {
    "duration": 46,
    "start_time": "2022-01-09T19:33:37.506Z"
   },
   {
    "duration": 5,
    "start_time": "2022-01-09T19:33:37.554Z"
   },
   {
    "duration": 42,
    "start_time": "2022-01-09T19:33:37.561Z"
   },
   {
    "duration": 24,
    "start_time": "2022-01-09T19:33:37.606Z"
   },
   {
    "duration": 15,
    "start_time": "2022-01-09T19:33:37.642Z"
   },
   {
    "duration": 21,
    "start_time": "2022-01-09T19:33:37.659Z"
   },
   {
    "duration": 27,
    "start_time": "2022-01-09T19:33:37.681Z"
   },
   {
    "duration": 18,
    "start_time": "2022-01-09T19:33:37.710Z"
   },
   {
    "duration": 9,
    "start_time": "2022-01-09T19:33:37.741Z"
   },
   {
    "duration": 15,
    "start_time": "2022-01-09T19:33:37.751Z"
   },
   {
    "duration": 8,
    "start_time": "2022-01-09T19:33:37.767Z"
   },
   {
    "duration": 5,
    "start_time": "2022-01-09T19:33:37.777Z"
   },
   {
    "duration": 27,
    "start_time": "2022-01-09T19:33:37.784Z"
   },
   {
    "duration": 34,
    "start_time": "2022-01-09T19:33:37.813Z"
   },
   {
    "duration": 17,
    "start_time": "2022-01-09T19:33:37.849Z"
   },
   {
    "duration": 12,
    "start_time": "2022-01-09T19:33:37.868Z"
   },
   {
    "duration": 13,
    "start_time": "2022-01-09T19:33:37.881Z"
   },
   {
    "duration": 12,
    "start_time": "2022-01-09T19:33:37.896Z"
   },
   {
    "duration": 18,
    "start_time": "2022-01-09T19:33:37.909Z"
   },
   {
    "duration": 13,
    "start_time": "2022-01-09T19:33:37.929Z"
   },
   {
    "duration": 39,
    "start_time": "2022-01-09T20:19:16.398Z"
   },
   {
    "duration": 7,
    "start_time": "2022-01-09T20:20:08.948Z"
   },
   {
    "duration": 9,
    "start_time": "2022-01-09T20:20:20.121Z"
   },
   {
    "duration": 38,
    "start_time": "2022-01-09T20:20:43.288Z"
   },
   {
    "duration": 4,
    "start_time": "2022-01-09T20:22:24.263Z"
   },
   {
    "duration": 597,
    "start_time": "2022-01-09T20:22:30.890Z"
   },
   {
    "duration": 142,
    "start_time": "2022-01-09T20:22:31.489Z"
   },
   {
    "duration": 21,
    "start_time": "2022-01-09T20:22:31.634Z"
   },
   {
    "duration": 29,
    "start_time": "2022-01-09T20:22:31.657Z"
   },
   {
    "duration": 6,
    "start_time": "2022-01-09T20:22:31.688Z"
   },
   {
    "duration": 24,
    "start_time": "2022-01-09T20:22:31.696Z"
   },
   {
    "duration": 20,
    "start_time": "2022-01-09T20:22:31.722Z"
   },
   {
    "duration": 24,
    "start_time": "2022-01-09T20:22:31.745Z"
   },
   {
    "duration": 18,
    "start_time": "2022-01-09T20:22:31.771Z"
   },
   {
    "duration": 51,
    "start_time": "2022-01-09T20:22:31.791Z"
   },
   {
    "duration": 59,
    "start_time": "2022-01-09T20:22:31.844Z"
   },
   {
    "duration": 85,
    "start_time": "2022-01-09T20:22:31.905Z"
   },
   {
    "duration": 62,
    "start_time": "2022-01-09T20:22:31.992Z"
   },
   {
    "duration": 41,
    "start_time": "2022-01-09T20:22:32.056Z"
   },
   {
    "duration": 3,
    "start_time": "2022-01-09T20:22:32.099Z"
   },
   {
    "duration": 13,
    "start_time": "2022-01-09T20:22:32.104Z"
   },
   {
    "duration": 63,
    "start_time": "2022-01-09T20:22:32.119Z"
   },
   {
    "duration": 11,
    "start_time": "2022-01-09T20:22:32.184Z"
   },
   {
    "duration": 9,
    "start_time": "2022-01-09T20:22:32.197Z"
   },
   {
    "duration": 33,
    "start_time": "2022-01-09T20:22:32.208Z"
   },
   {
    "duration": 31,
    "start_time": "2022-01-09T20:22:32.243Z"
   },
   {
    "duration": 15,
    "start_time": "2022-01-09T20:22:32.276Z"
   },
   {
    "duration": 15,
    "start_time": "2022-01-09T20:22:32.293Z"
   },
   {
    "duration": 14,
    "start_time": "2022-01-09T20:22:32.310Z"
   },
   {
    "duration": 19,
    "start_time": "2022-01-09T20:22:32.341Z"
   },
   {
    "duration": 34,
    "start_time": "2022-01-09T20:22:32.361Z"
   },
   {
    "duration": 11,
    "start_time": "2022-01-09T20:22:32.396Z"
   },
   {
    "duration": 24,
    "start_time": "2022-01-09T20:22:32.408Z"
   },
   {
    "duration": 25,
    "start_time": "2022-01-09T20:22:32.434Z"
   },
   {
    "duration": 13,
    "start_time": "2022-01-09T20:22:32.461Z"
   },
   {
    "duration": 38,
    "start_time": "2022-01-09T20:22:32.476Z"
   },
   {
    "duration": 22,
    "start_time": "2022-01-09T20:22:32.516Z"
   },
   {
    "duration": 29,
    "start_time": "2022-01-09T20:22:32.539Z"
   },
   {
    "duration": 13,
    "start_time": "2022-01-09T20:22:32.570Z"
   },
   {
    "duration": 18,
    "start_time": "2022-01-09T20:22:32.585Z"
   },
   {
    "duration": 8,
    "start_time": "2022-01-09T20:22:32.605Z"
   },
   {
    "duration": 13,
    "start_time": "2022-01-09T20:22:32.615Z"
   },
   {
    "duration": 22,
    "start_time": "2022-01-09T20:22:32.630Z"
   },
   {
    "duration": 553,
    "start_time": "2022-01-09T20:25:03.393Z"
   },
   {
    "duration": 136,
    "start_time": "2022-01-09T20:25:03.948Z"
   },
   {
    "duration": 15,
    "start_time": "2022-01-09T20:25:04.087Z"
   },
   {
    "duration": 37,
    "start_time": "2022-01-09T20:25:04.104Z"
   },
   {
    "duration": 11,
    "start_time": "2022-01-09T20:25:04.143Z"
   },
   {
    "duration": 51,
    "start_time": "2022-01-09T20:25:04.155Z"
   },
   {
    "duration": 16,
    "start_time": "2022-01-09T20:25:04.208Z"
   },
   {
    "duration": 32,
    "start_time": "2022-01-09T20:25:04.227Z"
   },
   {
    "duration": 29,
    "start_time": "2022-01-09T20:25:04.260Z"
   },
   {
    "duration": 49,
    "start_time": "2022-01-09T20:25:04.291Z"
   },
   {
    "duration": 66,
    "start_time": "2022-01-09T20:25:04.342Z"
   },
   {
    "duration": 81,
    "start_time": "2022-01-09T20:25:04.410Z"
   },
   {
    "duration": 55,
    "start_time": "2022-01-09T20:25:04.493Z"
   },
   {
    "duration": 54,
    "start_time": "2022-01-09T20:25:04.550Z"
   },
   {
    "duration": 157,
    "start_time": "2022-01-09T20:25:04.605Z"
   },
   {
    "duration": 33,
    "start_time": "2022-01-09T20:25:04.763Z"
   },
   {
    "duration": 44,
    "start_time": "2022-01-09T20:25:04.798Z"
   },
   {
    "duration": 19,
    "start_time": "2022-01-09T20:25:04.844Z"
   },
   {
    "duration": 11,
    "start_time": "2022-01-09T20:25:04.864Z"
   },
   {
    "duration": 28,
    "start_time": "2022-01-09T20:25:04.877Z"
   },
   {
    "duration": 41,
    "start_time": "2022-01-09T20:25:04.907Z"
   },
   {
    "duration": 34,
    "start_time": "2022-01-09T20:25:04.950Z"
   },
   {
    "duration": 22,
    "start_time": "2022-01-09T20:25:04.987Z"
   },
   {
    "duration": 24,
    "start_time": "2022-01-09T20:25:05.011Z"
   },
   {
    "duration": 25,
    "start_time": "2022-01-09T20:25:05.036Z"
   },
   {
    "duration": 12,
    "start_time": "2022-01-09T20:25:05.063Z"
   },
   {
    "duration": 14,
    "start_time": "2022-01-09T20:25:05.077Z"
   },
   {
    "duration": 27,
    "start_time": "2022-01-09T20:25:05.093Z"
   },
   {
    "duration": 31,
    "start_time": "2022-01-09T20:25:05.121Z"
   },
   {
    "duration": 5,
    "start_time": "2022-01-09T20:25:05.154Z"
   },
   {
    "duration": 48,
    "start_time": "2022-01-09T20:25:05.161Z"
   },
   {
    "duration": 45,
    "start_time": "2022-01-09T20:25:05.211Z"
   },
   {
    "duration": 16,
    "start_time": "2022-01-09T20:25:05.257Z"
   },
   {
    "duration": 26,
    "start_time": "2022-01-09T20:25:05.274Z"
   },
   {
    "duration": 10,
    "start_time": "2022-01-09T20:25:05.302Z"
   },
   {
    "duration": 31,
    "start_time": "2022-01-09T20:25:05.314Z"
   },
   {
    "duration": 7,
    "start_time": "2022-01-09T20:25:05.347Z"
   },
   {
    "duration": 25,
    "start_time": "2022-01-09T20:25:05.355Z"
   }
  ],
  "colab": {
   "collapsed_sections": [
    "E0vqbgi9ay0H",
    "VUC88oWjTJw2"
   ],
   "name": "yandex_music_project_2021.2.ipynb",
   "provenance": []
  },
  "kernelspec": {
   "display_name": "Python 3",
   "language": "python",
   "name": "python3"
  },
  "language_info": {
   "codemirror_mode": {
    "name": "ipython",
    "version": 3
   },
   "file_extension": ".py",
   "mimetype": "text/x-python",
   "name": "python",
   "nbconvert_exporter": "python",
   "pygments_lexer": "ipython3",
   "version": "3.7.12"
  },
  "toc": {
   "base_numbering": 1,
   "nav_menu": {},
   "number_sections": true,
   "sideBar": true,
   "skip_h1_title": true,
   "title_cell": "Table of Contents",
   "title_sidebar": "Contents",
   "toc_cell": false,
   "toc_position": {},
   "toc_section_display": true,
   "toc_window_display": true
  }
 },
 "nbformat": 4,
 "nbformat_minor": 1
}
